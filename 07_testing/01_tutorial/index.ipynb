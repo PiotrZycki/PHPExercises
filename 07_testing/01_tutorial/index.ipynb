{
 "cells": [
  {
   "cell_type": "markdown",
   "metadata": {},
   "source": [
    "# PHP"
   ]
  },
  {
   "cell_type": "markdown",
   "metadata": {},
   "source": [
    "## 7. Testing"
   ]
  },
  {
   "cell_type": "markdown",
   "metadata": {},
   "source": [
    "### 7.1 Tutorial"
   ]
  },
  {
   "cell_type": "markdown",
   "metadata": {},
   "source": [
    "Initialise new project:"
   ]
  },
  {
   "cell_type": "code",
   "execution_count": 1,
   "metadata": {},
   "outputs": [
    {
     "name": "stdout",
     "output_type": "stream",
     "text": [
      "Writing ./composer.json\n"
     ]
    }
   ],
   "source": [
    "! composer init --no-interaction \\\n",
    "    --name=\"ddgg/testing\" \\\n",
    "    --description=\"Simple testing tutorial\" \\\n",
    "    --author=\"Damian Gwiżdż <damian.gwizdz@gmail.com>\" \\\n",
    "    --type=\"project\" \\\n",
    "    --stability=\"stable\" \\\n",
    "    --license=\"MIT\""
   ]
  },
  {
   "cell_type": "markdown",
   "metadata": {},
   "source": [
    "Add some code:"
   ]
  },
  {
   "cell_type": "code",
   "execution_count": 2,
   "metadata": {},
   "outputs": [],
   "source": [
    "! touch index.php"
   ]
  },
  {
   "cell_type": "markdown",
   "metadata": {},
   "source": [
    "Open the [index.php](/edit/07_testing/01_tutorial/index.php) and add following code:\n",
    "\n",
    "```php\n",
    "<?php\n",
    "\n",
    "$status = \"\";\n",
    "\n",
    "if (isset($_POST['user']) and isset($_POST['password'])) {\n",
    "\n",
    "    $user = $_POST['user'];\n",
    "    $password = $_POST['password'];\n",
    "\n",
    "    if ($user and $password) {\n",
    "\n",
    "        if ($user === \"foo\" and $password == \"foo123\") {\n",
    "            $status = \"OK\";\n",
    "        } else {\n",
    "            $status = \"ERROR\";\n",
    "        }\n",
    "    } else {\n",
    "        $status = \"EMPTY\";\n",
    "    }\n",
    "\n",
    "    echo $status;\n",
    "    exit;\n",
    "}\n",
    "?>\n",
    "\n",
    "<html lang=\"en\">\n",
    "<body>\n",
    "\n",
    "<form method=\"post\">\n",
    "    User: <label>\n",
    "        <input type=\"text\" name=\"user\">\n",
    "    </label>\n",
    "    <br/>\n",
    "    Password: <label>\n",
    "        <input type=\"password\" name=\"password\">\n",
    "    </label><br>\n",
    "    <input type=\"submit\" value=\"Login\">\n",
    "</form>\n",
    "\n",
    "</body>\n",
    "</html>\n",
    "```"
   ]
  },
  {
   "cell_type": "markdown",
   "metadata": {},
   "source": [
    "See whether it works:"
   ]
  },
  {
   "cell_type": "code",
   "execution_count": 3,
   "metadata": {},
   "outputs": [
    {
     "name": "stderr",
     "output_type": "stream",
     "text": [
      "[Thu May  2 13:18:30 2024] Failed to listen on localhost:8888 (reason: Address already in use)\n"
     ]
    }
   ],
   "source": [
    "import subprocess\n",
    "phpServer = subprocess.Popen(['php', '-S', 'localhost:8888'])"
   ]
  },
  {
   "cell_type": "markdown",
   "metadata": {},
   "source": [
    "Open [http://localhost:8888](http://localhost:8888) and check the page."
   ]
  },
  {
   "cell_type": "markdown",
   "metadata": {},
   "source": [
    "Install Codeception:"
   ]
  },
  {
   "cell_type": "code",
   "execution_count": 4,
   "metadata": {},
   "outputs": [
    {
     "name": "stdout",
     "output_type": "stream",
     "text": [
      "\u001b[32m./composer.json has been updated\u001b[39m\n",
      "\u001b[32mRunning composer update codeception/codeception\u001b[39m\n",
      "\u001b[32mLoading composer repositories with package information\u001b[39m\n",
      "\u001b[32mUpdating dependencies\u001b[39m\n",
      "\u001b[32mLock file operations: 46 installs, 0 updates, 0 removals\u001b[39m\n",
      "  - Locking \u001b[32mbehat/gherkin\u001b[39m (\u001b[33mv4.9.0\u001b[39m)\n",
      "  - Locking \u001b[32mcodeception/codeception\u001b[39m (\u001b[33m5.1.2\u001b[39m)\n",
      "  - Locking \u001b[32mcodeception/lib-asserts\u001b[39m (\u001b[33m2.1.0\u001b[39m)\n",
      "  - Locking \u001b[32mcodeception/stub\u001b[39m (\u001b[33m4.1.3\u001b[39m)\n",
      "  - Locking \u001b[32mmyclabs/deep-copy\u001b[39m (\u001b[33m1.11.1\u001b[39m)\n",
      "  - Locking \u001b[32mnikic/php-parser\u001b[39m (\u001b[33mv5.0.2\u001b[39m)\n",
      "  - Locking \u001b[32mphar-io/manifest\u001b[39m (\u001b[33m2.0.4\u001b[39m)\n",
      "  - Locking \u001b[32mphar-io/version\u001b[39m (\u001b[33m3.2.1\u001b[39m)\n",
      "  - Locking \u001b[32mphpunit/php-code-coverage\u001b[39m (\u001b[33m11.0.3\u001b[39m)\n",
      "  - Locking \u001b[32mphpunit/php-file-iterator\u001b[39m (\u001b[33m5.0.0\u001b[39m)\n",
      "  - Locking \u001b[32mphpunit/php-invoker\u001b[39m (\u001b[33m5.0.0\u001b[39m)\n",
      "  - Locking \u001b[32mphpunit/php-text-template\u001b[39m (\u001b[33m4.0.0\u001b[39m)\n",
      "  - Locking \u001b[32mphpunit/php-timer\u001b[39m (\u001b[33m7.0.0\u001b[39m)\n",
      "  - Locking \u001b[32mphpunit/phpunit\u001b[39m (\u001b[33m11.1.3\u001b[39m)\n",
      "  - Locking \u001b[32mpsr/container\u001b[39m (\u001b[33m2.0.2\u001b[39m)\n",
      "  - Locking \u001b[32mpsr/event-dispatcher\u001b[39m (\u001b[33m1.0.0\u001b[39m)\n",
      "  - Locking \u001b[32mpsy/psysh\u001b[39m (\u001b[33mv0.12.3\u001b[39m)\n",
      "  - Locking \u001b[32msebastian/cli-parser\u001b[39m (\u001b[33m3.0.1\u001b[39m)\n",
      "  - Locking \u001b[32msebastian/code-unit\u001b[39m (\u001b[33m3.0.0\u001b[39m)\n",
      "  - Locking \u001b[32msebastian/code-unit-reverse-lookup\u001b[39m (\u001b[33m4.0.0\u001b[39m)\n",
      "  - Locking \u001b[32msebastian/comparator\u001b[39m (\u001b[33m6.0.0\u001b[39m)\n",
      "  - Locking \u001b[32msebastian/complexity\u001b[39m (\u001b[33m4.0.0\u001b[39m)\n",
      "  - Locking \u001b[32msebastian/diff\u001b[39m (\u001b[33m6.0.1\u001b[39m)\n",
      "  - Locking \u001b[32msebastian/environment\u001b[39m (\u001b[33m7.1.0\u001b[39m)\n",
      "  - Locking \u001b[32msebastian/exporter\u001b[39m (\u001b[33m6.0.1\u001b[39m)\n",
      "  - Locking \u001b[32msebastian/global-state\u001b[39m (\u001b[33m7.0.1\u001b[39m)\n",
      "  - Locking \u001b[32msebastian/lines-of-code\u001b[39m (\u001b[33m3.0.0\u001b[39m)\n",
      "  - Locking \u001b[32msebastian/object-enumerator\u001b[39m (\u001b[33m6.0.0\u001b[39m)\n",
      "  - Locking \u001b[32msebastian/object-reflector\u001b[39m (\u001b[33m4.0.0\u001b[39m)\n",
      "  - Locking \u001b[32msebastian/recursion-context\u001b[39m (\u001b[33m6.0.0\u001b[39m)\n",
      "  - Locking \u001b[32msebastian/type\u001b[39m (\u001b[33m5.0.0\u001b[39m)\n",
      "  - Locking \u001b[32msebastian/version\u001b[39m (\u001b[33m5.0.0\u001b[39m)\n",
      "  - Locking \u001b[32msymfony/console\u001b[39m (\u001b[33mv7.0.7\u001b[39m)\n",
      "  - Locking \u001b[32msymfony/css-selector\u001b[39m (\u001b[33mv7.0.7\u001b[39m)\n",
      "  - Locking \u001b[32msymfony/event-dispatcher\u001b[39m (\u001b[33mv7.0.7\u001b[39m)\n",
      "  - Locking \u001b[32msymfony/event-dispatcher-contracts\u001b[39m (\u001b[33mv3.4.2\u001b[39m)\n",
      "  - Locking \u001b[32msymfony/finder\u001b[39m (\u001b[33mv7.0.7\u001b[39m)\n",
      "  - Locking \u001b[32msymfony/polyfill-ctype\u001b[39m (\u001b[33mv1.29.0\u001b[39m)\n",
      "  - Locking \u001b[32msymfony/polyfill-intl-grapheme\u001b[39m (\u001b[33mv1.29.0\u001b[39m)\n",
      "  - Locking \u001b[32msymfony/polyfill-intl-normalizer\u001b[39m (\u001b[33mv1.29.0\u001b[39m)\n",
      "  - Locking \u001b[32msymfony/polyfill-mbstring\u001b[39m (\u001b[33mv1.29.0\u001b[39m)\n",
      "  - Locking \u001b[32msymfony/service-contracts\u001b[39m (\u001b[33mv3.4.2\u001b[39m)\n",
      "  - Locking \u001b[32msymfony/string\u001b[39m (\u001b[33mv7.0.7\u001b[39m)\n",
      "  - Locking \u001b[32msymfony/var-dumper\u001b[39m (\u001b[33mv7.0.7\u001b[39m)\n",
      "  - Locking \u001b[32msymfony/yaml\u001b[39m (\u001b[33mv7.0.7\u001b[39m)\n",
      "  - Locking \u001b[32mtheseer/tokenizer\u001b[39m (\u001b[33m1.2.3\u001b[39m)\n",
      "\u001b[32mWriting lock file\u001b[39m\n",
      "\u001b[32mInstalling dependencies from lock file (including require-dev)\u001b[39m\n",
      "\u001b[32mPackage operations: 46 installs, 0 updates, 0 removals\u001b[39m\n",
      "  - Downloading \u001b[32mbehat/gherkin\u001b[39m (\u001b[33mv4.9.0\u001b[39m)\n",
      "  - Downloading \u001b[32msymfony/yaml\u001b[39m (\u001b[33mv7.0.7\u001b[39m)\n",
      "  - Downloading \u001b[32msymfony/var-dumper\u001b[39m (\u001b[33mv7.0.7\u001b[39m)\n",
      "  - Downloading \u001b[32msymfony/finder\u001b[39m (\u001b[33mv7.0.7\u001b[39m)\n",
      "  - Downloading \u001b[32mpsr/event-dispatcher\u001b[39m (\u001b[33m1.0.0\u001b[39m)\n",
      "  - Downloading \u001b[32msymfony/event-dispatcher-contracts\u001b[39m (\u001b[33mv3.4.2\u001b[39m)\n",
      "  - Downloading \u001b[32msymfony/event-dispatcher\u001b[39m (\u001b[33mv7.0.7\u001b[39m)\n",
      "  - Downloading \u001b[32msymfony/css-selector\u001b[39m (\u001b[33mv7.0.7\u001b[39m)\n",
      "  - Downloading \u001b[32msymfony/string\u001b[39m (\u001b[33mv7.0.7\u001b[39m)\n",
      "  - Downloading \u001b[32msymfony/service-contracts\u001b[39m (\u001b[33mv3.4.2\u001b[39m)\n",
      "  - Downloading \u001b[32msymfony/console\u001b[39m (\u001b[33mv7.0.7\u001b[39m)\n",
      "  - Downloading \u001b[32msebastian/diff\u001b[39m (\u001b[33m6.0.1\u001b[39m)\n",
      "  - Downloading \u001b[32msebastian/recursion-context\u001b[39m (\u001b[33m6.0.0\u001b[39m)\n",
      "  - Downloading \u001b[32msebastian/exporter\u001b[39m (\u001b[33m6.0.1\u001b[39m)\n",
      "  - Downloading \u001b[32msebastian/comparator\u001b[39m (\u001b[33m6.0.0\u001b[39m)\n",
      "  - Downloading \u001b[32mnikic/php-parser\u001b[39m (\u001b[33mv5.0.2\u001b[39m)\n",
      "  - Downloading \u001b[32mpsy/psysh\u001b[39m (\u001b[33mv0.12.3\u001b[39m)\n",
      "  - Downloading \u001b[32msebastian/version\u001b[39m (\u001b[33m5.0.0\u001b[39m)\n",
      "  - Downloading \u001b[32msebastian/type\u001b[39m (\u001b[33m5.0.0\u001b[39m)\n",
      "  - Downloading \u001b[32msebastian/object-reflector\u001b[39m (\u001b[33m4.0.0\u001b[39m)\n",
      "  - Downloading \u001b[32msebastian/object-enumerator\u001b[39m (\u001b[33m6.0.0\u001b[39m)\n",
      "  - Downloading \u001b[32msebastian/global-state\u001b[39m (\u001b[33m7.0.1\u001b[39m)\n",
      "  - Downloading \u001b[32msebastian/environment\u001b[39m (\u001b[33m7.1.0\u001b[39m)\n",
      "  - Downloading \u001b[32msebastian/code-unit\u001b[39m (\u001b[33m3.0.0\u001b[39m)\n",
      "  - Downloading \u001b[32msebastian/cli-parser\u001b[39m (\u001b[33m3.0.1\u001b[39m)\n",
      "  - Downloading \u001b[32mphpunit/php-timer\u001b[39m (\u001b[33m7.0.0\u001b[39m)\n",
      "  - Downloading \u001b[32mphpunit/php-text-template\u001b[39m (\u001b[33m4.0.0\u001b[39m)\n",
      "  - Downloading \u001b[32mphpunit/php-invoker\u001b[39m (\u001b[33m5.0.0\u001b[39m)\n",
      "  - Downloading \u001b[32mphpunit/php-file-iterator\u001b[39m (\u001b[33m5.0.0\u001b[39m)\n",
      "  - Downloading \u001b[32mtheseer/tokenizer\u001b[39m (\u001b[33m1.2.3\u001b[39m)\n",
      "  - Downloading \u001b[32msebastian/lines-of-code\u001b[39m (\u001b[33m3.0.0\u001b[39m)\n",
      "  - Downloading \u001b[32msebastian/complexity\u001b[39m (\u001b[33m4.0.0\u001b[39m)\n",
      "  - Downloading \u001b[32msebastian/code-unit-reverse-lookup\u001b[39m (\u001b[33m4.0.0\u001b[39m)\n",
      "  - Downloading \u001b[32mphpunit/php-code-coverage\u001b[39m (\u001b[33m11.0.3\u001b[39m)\n",
      "  - Downloading \u001b[32mphar-io/version\u001b[39m (\u001b[33m3.2.1\u001b[39m)\n",
      "  - Downloading \u001b[32mphar-io/manifest\u001b[39m (\u001b[33m2.0.4\u001b[39m)\n",
      "  - Downloading \u001b[32mmyclabs/deep-copy\u001b[39m (\u001b[33m1.11.1\u001b[39m)\n",
      "  - Downloading \u001b[32mphpunit/phpunit\u001b[39m (\u001b[33m11.1.3\u001b[39m)\n",
      "  - Downloading \u001b[32mcodeception/stub\u001b[39m (\u001b[33m4.1.3\u001b[39m)\n",
      "  - Downloading \u001b[32mcodeception/lib-asserts\u001b[39m (\u001b[33m2.1.0\u001b[39m)\n",
      "  - Downloading \u001b[32mcodeception/codeception\u001b[39m (\u001b[33m5.1.2\u001b[39m)\n",
      "  0/41 [>---------------------------]   0%\u001b[1G\u001b[2K 12/41 [========>-------------------]  29%\u001b[1G\u001b[2K 13/41 [========>-------------------]  31%\u001b[1G\u001b[2K 17/41 [===========>----------------]  41%\u001b[1G\u001b[2K 27/41 [==================>---------]  65%\u001b[1G\u001b[2K 32/41 [=====================>------]  78%\u001b[1G\u001b[2K 39/41 [==========================>-]  95%\u001b[1G\u001b[2K 41/41 [============================] 100%\u001b[1G\u001b[2K  - Installing \u001b[32mbehat/gherkin\u001b[39m (\u001b[33mv4.9.0\u001b[39m): Extracting archive\n",
      "  - Installing \u001b[32msymfony/polyfill-ctype\u001b[39m (\u001b[33mv1.29.0\u001b[39m): Extracting archive\n",
      "  - Installing \u001b[32msymfony/yaml\u001b[39m (\u001b[33mv7.0.7\u001b[39m): Extracting archive\n",
      "  - Installing \u001b[32msymfony/polyfill-mbstring\u001b[39m (\u001b[33mv1.29.0\u001b[39m): Extracting archive\n",
      "  - Installing \u001b[32msymfony/var-dumper\u001b[39m (\u001b[33mv7.0.7\u001b[39m): Extracting archive\n",
      "  - Installing \u001b[32msymfony/finder\u001b[39m (\u001b[33mv7.0.7\u001b[39m): Extracting archive\n",
      "  - Installing \u001b[32mpsr/event-dispatcher\u001b[39m (\u001b[33m1.0.0\u001b[39m): Extracting archive\n",
      "  - Installing \u001b[32msymfony/event-dispatcher-contracts\u001b[39m (\u001b[33mv3.4.2\u001b[39m): Extracting archive\n",
      "  - Installing \u001b[32msymfony/event-dispatcher\u001b[39m (\u001b[33mv7.0.7\u001b[39m): Extracting archive\n",
      "  - Installing \u001b[32msymfony/css-selector\u001b[39m (\u001b[33mv7.0.7\u001b[39m): Extracting archive\n",
      "  - Installing \u001b[32msymfony/polyfill-intl-normalizer\u001b[39m (\u001b[33mv1.29.0\u001b[39m): Extracting archive\n",
      "  - Installing \u001b[32msymfony/polyfill-intl-grapheme\u001b[39m (\u001b[33mv1.29.0\u001b[39m): Extracting archive\n",
      "  - Installing \u001b[32msymfony/string\u001b[39m (\u001b[33mv7.0.7\u001b[39m): Extracting archive\n",
      "  - Installing \u001b[32mpsr/container\u001b[39m (\u001b[33m2.0.2\u001b[39m): Extracting archive\n",
      "  - Installing \u001b[32msymfony/service-contracts\u001b[39m (\u001b[33mv3.4.2\u001b[39m): Extracting archive\n",
      "  - Installing \u001b[32msymfony/console\u001b[39m (\u001b[33mv7.0.7\u001b[39m): Extracting archive\n",
      "  - Installing \u001b[32msebastian/diff\u001b[39m (\u001b[33m6.0.1\u001b[39m): Extracting archive\n",
      "  - Installing \u001b[32msebastian/recursion-context\u001b[39m (\u001b[33m6.0.0\u001b[39m): Extracting archive\n",
      "  - Installing \u001b[32msebastian/exporter\u001b[39m (\u001b[33m6.0.1\u001b[39m): Extracting archive\n",
      "  - Installing \u001b[32msebastian/comparator\u001b[39m (\u001b[33m6.0.0\u001b[39m): Extracting archive\n",
      "  - Installing \u001b[32mnikic/php-parser\u001b[39m (\u001b[33mv5.0.2\u001b[39m): Extracting archive\n",
      "  - Installing \u001b[32mpsy/psysh\u001b[39m (\u001b[33mv0.12.3\u001b[39m): Extracting archive\n",
      "  - Installing \u001b[32msebastian/version\u001b[39m (\u001b[33m5.0.0\u001b[39m): Extracting archive\n",
      "  - Installing \u001b[32msebastian/type\u001b[39m (\u001b[33m5.0.0\u001b[39m): Extracting archive\n",
      "  - Installing \u001b[32msebastian/object-reflector\u001b[39m (\u001b[33m4.0.0\u001b[39m): Extracting archive\n",
      "  - Installing \u001b[32msebastian/object-enumerator\u001b[39m (\u001b[33m6.0.0\u001b[39m): Extracting archive\n",
      "  - Installing \u001b[32msebastian/global-state\u001b[39m (\u001b[33m7.0.1\u001b[39m): Extracting archive\n",
      "  - Installing \u001b[32msebastian/environment\u001b[39m (\u001b[33m7.1.0\u001b[39m): Extracting archive\n",
      "  - Installing \u001b[32msebastian/code-unit\u001b[39m (\u001b[33m3.0.0\u001b[39m): Extracting archive\n",
      "  - Installing \u001b[32msebastian/cli-parser\u001b[39m (\u001b[33m3.0.1\u001b[39m): Extracting archive\n",
      "  - Installing \u001b[32mphpunit/php-timer\u001b[39m (\u001b[33m7.0.0\u001b[39m): Extracting archive\n",
      "  - Installing \u001b[32mphpunit/php-text-template\u001b[39m (\u001b[33m4.0.0\u001b[39m): Extracting archive\n",
      "  - Installing \u001b[32mphpunit/php-invoker\u001b[39m (\u001b[33m5.0.0\u001b[39m): Extracting archive\n",
      "  - Installing \u001b[32mphpunit/php-file-iterator\u001b[39m (\u001b[33m5.0.0\u001b[39m): Extracting archive\n",
      "  - Installing \u001b[32mtheseer/tokenizer\u001b[39m (\u001b[33m1.2.3\u001b[39m): Extracting archive\n",
      "  - Installing \u001b[32msebastian/lines-of-code\u001b[39m (\u001b[33m3.0.0\u001b[39m): Extracting archive\n",
      "  - Installing \u001b[32msebastian/complexity\u001b[39m (\u001b[33m4.0.0\u001b[39m): Extracting archive\n",
      "  - Installing \u001b[32msebastian/code-unit-reverse-lookup\u001b[39m (\u001b[33m4.0.0\u001b[39m): Extracting archive\n",
      "  - Installing \u001b[32mphpunit/php-code-coverage\u001b[39m (\u001b[33m11.0.3\u001b[39m): Extracting archive\n",
      "  - Installing \u001b[32mphar-io/version\u001b[39m (\u001b[33m3.2.1\u001b[39m): Extracting archive\n",
      "  - Installing \u001b[32mphar-io/manifest\u001b[39m (\u001b[33m2.0.4\u001b[39m): Extracting archive\n",
      "  - Installing \u001b[32mmyclabs/deep-copy\u001b[39m (\u001b[33m1.11.1\u001b[39m): Extracting archive\n",
      "  - Installing \u001b[32mphpunit/phpunit\u001b[39m (\u001b[33m11.1.3\u001b[39m): Extracting archive\n",
      "  - Installing \u001b[32mcodeception/stub\u001b[39m (\u001b[33m4.1.3\u001b[39m): Extracting archive\n",
      "  - Installing \u001b[32mcodeception/lib-asserts\u001b[39m (\u001b[33m2.1.0\u001b[39m): Extracting archive\n",
      "  - Installing \u001b[32mcodeception/codeception\u001b[39m (\u001b[33m5.1.2\u001b[39m): Extracting archive\n",
      "  0/46 [>---------------------------]   0%\u001b[1G\u001b[2K 20/46 [============>---------------]  43%\u001b[1G\u001b[2K 38/46 [=======================>----]  82%\u001b[1G\u001b[2K 45/46 [===========================>]  97%\u001b[1G\u001b[2K 46/46 [============================] 100%\u001b[1G\u001b[2K\u001b[32m11 package suggestions were added by new dependencies, use `composer suggest` to see details.\u001b[39m\n",
      "\u001b[32mGenerating autoload files\u001b[39m\n",
      "\u001b[32m38 packages you are using are looking for funding.\u001b[39m\n",
      "\u001b[32mUse the `composer fund` command to find out more!\u001b[39m\n",
      "\u001b[32mNo security vulnerability advisories found.\u001b[39m\n",
      "Using version \u001b[32m^5.1\u001b[39m for \u001b[32mcodeception/codeception\u001b[39m\n"
     ]
    }
   ],
   "source": [
    "! composer require codeception/codeception --dev"
   ]
  },
  {
   "cell_type": "code",
   "execution_count": 5,
   "metadata": {},
   "outputs": [
    {
     "name": "stdout",
     "output_type": "stream",
     "text": [
      "\u001b[32m./composer.json has been updated\u001b[39m\n",
      "\u001b[32mRunning composer update codeception/module-asserts\u001b[39m\n",
      "\u001b[32mLoading composer repositories with package information\u001b[39m\n",
      "\u001b[32mUpdating dependencies\u001b[39m\n",
      "\u001b[32mLock file operations: 1 install, 0 updates, 0 removals\u001b[39m\n",
      "  - Locking \u001b[32mcodeception/module-asserts\u001b[39m (\u001b[33m3.0.0\u001b[39m)\n",
      "\u001b[32mWriting lock file\u001b[39m\n",
      "\u001b[32mInstalling dependencies from lock file (including require-dev)\u001b[39m\n",
      "\u001b[32mPackage operations: 1 install, 0 updates, 0 removals\u001b[39m\n",
      "  - Downloading \u001b[32mcodeception/module-asserts\u001b[39m (\u001b[33m3.0.0\u001b[39m)\n",
      "  - Installing \u001b[32mcodeception/module-asserts\u001b[39m (\u001b[33m3.0.0\u001b[39m): Extracting archive\n",
      "\u001b[32mGenerating autoload files\u001b[39m\n",
      "\u001b[32m38 packages you are using are looking for funding.\u001b[39m\n",
      "\u001b[32mUse the `composer fund` command to find out more!\u001b[39m\n",
      "\u001b[32mNo security vulnerability advisories found.\u001b[39m\n",
      "Using version \u001b[32m^3.0\u001b[39m for \u001b[32mcodeception/module-asserts\u001b[39m\n"
     ]
    }
   ],
   "source": [
    "! composer require codeception/module-asserts --dev"
   ]
  },
  {
   "cell_type": "code",
   "execution_count": 6,
   "metadata": {},
   "outputs": [
    {
     "name": "stdout",
     "output_type": "stream",
     "text": [
      "\u001b[32m./composer.json has been updated\u001b[39m\n",
      "\u001b[32mRunning composer update codeception/module-phpbrowser\u001b[39m\n",
      "\u001b[32mLoading composer repositories with package information\u001b[39m\n",
      "\u001b[32mUpdating dependencies\u001b[39m\n",
      "\u001b[32mLock file operations: 14 installs, 0 updates, 0 removals\u001b[39m\n",
      "  - Locking \u001b[32mcodeception/lib-innerbrowser\u001b[39m (\u001b[33m4.0.3\u001b[39m)\n",
      "  - Locking \u001b[32mcodeception/lib-web\u001b[39m (\u001b[33m1.0.6\u001b[39m)\n",
      "  - Locking \u001b[32mcodeception/module-phpbrowser\u001b[39m (\u001b[33m3.0.1\u001b[39m)\n",
      "  - Locking \u001b[32mguzzlehttp/guzzle\u001b[39m (\u001b[33m7.8.1\u001b[39m)\n",
      "  - Locking \u001b[32mguzzlehttp/promises\u001b[39m (\u001b[33m2.0.2\u001b[39m)\n",
      "  - Locking \u001b[32mguzzlehttp/psr7\u001b[39m (\u001b[33m2.6.2\u001b[39m)\n",
      "  - Locking \u001b[32mmasterminds/html5\u001b[39m (\u001b[33m2.9.0\u001b[39m)\n",
      "  - Locking \u001b[32mpsr/http-client\u001b[39m (\u001b[33m1.0.3\u001b[39m)\n",
      "  - Locking \u001b[32mpsr/http-factory\u001b[39m (\u001b[33m1.0.2\u001b[39m)\n",
      "  - Locking \u001b[32mpsr/http-message\u001b[39m (\u001b[33m2.0\u001b[39m)\n",
      "  - Locking \u001b[32mralouphie/getallheaders\u001b[39m (\u001b[33m3.0.3\u001b[39m)\n",
      "  - Locking \u001b[32msymfony/browser-kit\u001b[39m (\u001b[33mv7.0.7\u001b[39m)\n",
      "  - Locking \u001b[32msymfony/deprecation-contracts\u001b[39m (\u001b[33mv3.4.0\u001b[39m)\n",
      "  - Locking \u001b[32msymfony/dom-crawler\u001b[39m (\u001b[33mv7.0.7\u001b[39m)\n",
      "\u001b[32mWriting lock file\u001b[39m\n",
      "\u001b[32mInstalling dependencies from lock file (including require-dev)\u001b[39m\n",
      "\u001b[32mPackage operations: 14 installs, 0 updates, 0 removals\u001b[39m\n",
      "  - Downloading \u001b[32mralouphie/getallheaders\u001b[39m (\u001b[33m3.0.3\u001b[39m)\n",
      "  - Downloading \u001b[32mpsr/http-message\u001b[39m (\u001b[33m2.0\u001b[39m)\n",
      "  - Downloading \u001b[32mpsr/http-factory\u001b[39m (\u001b[33m1.0.2\u001b[39m)\n",
      "  - Downloading \u001b[32mguzzlehttp/psr7\u001b[39m (\u001b[33m2.6.2\u001b[39m)\n",
      "  - Downloading \u001b[32mcodeception/lib-web\u001b[39m (\u001b[33m1.0.6\u001b[39m)\n",
      "  - Downloading \u001b[32mmasterminds/html5\u001b[39m (\u001b[33m2.9.0\u001b[39m)\n",
      "  - Downloading \u001b[32msymfony/dom-crawler\u001b[39m (\u001b[33mv7.0.7\u001b[39m)\n",
      "  - Downloading \u001b[32msymfony/browser-kit\u001b[39m (\u001b[33mv7.0.7\u001b[39m)\n",
      "  - Downloading \u001b[32mpsr/http-client\u001b[39m (\u001b[33m1.0.3\u001b[39m)\n",
      "  - Downloading \u001b[32mguzzlehttp/promises\u001b[39m (\u001b[33m2.0.2\u001b[39m)\n",
      "  - Downloading \u001b[32mguzzlehttp/guzzle\u001b[39m (\u001b[33m7.8.1\u001b[39m)\n",
      "  - Downloading \u001b[32mcodeception/lib-innerbrowser\u001b[39m (\u001b[33m4.0.3\u001b[39m)\n",
      "  - Downloading \u001b[32mcodeception/module-phpbrowser\u001b[39m (\u001b[33m3.0.1\u001b[39m)\n",
      "  0/13 [>---------------------------]   0%\u001b[1G\u001b[2K  3/13 [======>---------------------]  23%\u001b[1G\u001b[2K  4/13 [========>-------------------]  30%\u001b[1G\u001b[2K  9/13 [===================>--------]  69%\u001b[1G\u001b[2K 13/13 [============================] 100%\u001b[1G\u001b[2K  - Installing \u001b[32mralouphie/getallheaders\u001b[39m (\u001b[33m3.0.3\u001b[39m): Extracting archive\n",
      "  - Installing \u001b[32mpsr/http-message\u001b[39m (\u001b[33m2.0\u001b[39m): Extracting archive\n",
      "  - Installing \u001b[32mpsr/http-factory\u001b[39m (\u001b[33m1.0.2\u001b[39m): Extracting archive\n",
      "  - Installing \u001b[32mguzzlehttp/psr7\u001b[39m (\u001b[33m2.6.2\u001b[39m): Extracting archive\n",
      "  - Installing \u001b[32mcodeception/lib-web\u001b[39m (\u001b[33m1.0.6\u001b[39m): Extracting archive\n",
      "  - Installing \u001b[32mmasterminds/html5\u001b[39m (\u001b[33m2.9.0\u001b[39m): Extracting archive\n",
      "  - Installing \u001b[32msymfony/dom-crawler\u001b[39m (\u001b[33mv7.0.7\u001b[39m): Extracting archive\n",
      "  - Installing \u001b[32msymfony/browser-kit\u001b[39m (\u001b[33mv7.0.7\u001b[39m): Extracting archive\n",
      "  - Installing \u001b[32msymfony/deprecation-contracts\u001b[39m (\u001b[33mv3.4.0\u001b[39m): Extracting archive\n",
      "  - Installing \u001b[32mpsr/http-client\u001b[39m (\u001b[33m1.0.3\u001b[39m): Extracting archive\n",
      "  - Installing \u001b[32mguzzlehttp/promises\u001b[39m (\u001b[33m2.0.2\u001b[39m): Extracting archive\n",
      "  - Installing \u001b[32mguzzlehttp/guzzle\u001b[39m (\u001b[33m7.8.1\u001b[39m): Extracting archive\n",
      "  - Installing \u001b[32mcodeception/lib-innerbrowser\u001b[39m (\u001b[33m4.0.3\u001b[39m): Extracting archive\n",
      "  - Installing \u001b[32mcodeception/module-phpbrowser\u001b[39m (\u001b[33m3.0.1\u001b[39m): Extracting archive\n",
      "  0/14 [>---------------------------]   0%\u001b[1G\u001b[2K  9/14 [==================>---------]  64%\u001b[1G\u001b[2K 14/14 [============================] 100%\u001b[1G\u001b[2K\u001b[32m4 package suggestions were added by new dependencies, use `composer suggest` to see details.\u001b[39m\n",
      "\u001b[32mGenerating autoload files\u001b[39m\n",
      "\u001b[32m44 packages you are using are looking for funding.\u001b[39m\n",
      "\u001b[32mUse the `composer fund` command to find out more!\u001b[39m\n",
      "\u001b[32mNo security vulnerability advisories found.\u001b[39m\n",
      "Using version \u001b[32m^3.0\u001b[39m for \u001b[32mcodeception/module-phpbrowser\u001b[39m\n"
     ]
    }
   ],
   "source": [
    "! composer require codeception/module-phpbrowser --dev"
   ]
  },
  {
   "cell_type": "markdown",
   "metadata": {},
   "source": [
    "Try running tests:"
   ]
  },
  {
   "cell_type": "code",
   "execution_count": 7,
   "metadata": {},
   "outputs": [
    {
     "name": "stdout",
     "output_type": "stream",
     "text": [
      "\n",
      "\u001b[33mIn Configuration.php line 181:\u001b[39m\n",
      "\u001b[37;41m                                              \u001b[39;49m\n",
      "\u001b[37;41m  Configuration file could not be found.      \u001b[39;49m\n",
      "\u001b[37;41m  Run `bootstrap` to initialize Codeception.  \u001b[39;49m\n",
      "\u001b[37;41m                                              \u001b[39;49m\n",
      "\n",
      "\u001b[32mrun [-o|--override OVERRIDE] [-e|--ext EXT] [--report] [--html [HTML]] [--xml [XML]] [--phpunit-xml [PHPUNIT-XML]] [--colors] [--no-colors] [--silent] [--steps] [-d|--debug] [--shard SHARD] [--filter FILTER] [--grep GREP] [--bootstrap [BOOTSTRAP]] [--no-redirect] [--coverage [COVERAGE]] [--coverage-html [COVERAGE-HTML]] [--coverage-xml [COVERAGE-XML]] [--coverage-text [COVERAGE-TEXT]] [--coverage-crap4j [COVERAGE-CRAP4J]] [--coverage-cobertura [COVERAGE-COBERTURA]] [--coverage-phpunit [COVERAGE-PHPUNIT]] [--no-exit] [-g|--group GROUP] [-s|--skip SKIP] [-x|--skip-group SKIP-GROUP] [--env ENV] [-f|--fail-fast [FAIL-FAST]] [--no-rebuild] [--seed SEED] [--no-artifacts] [--] [<suite> [<test>]]\u001b[39m\n",
      "\n"
     ]
    }
   ],
   "source": [
    "! vendor/bin/codecept run"
   ]
  },
  {
   "cell_type": "markdown",
   "metadata": {},
   "source": [
    "Bootstrap Codeception:"
   ]
  },
  {
   "cell_type": "code",
   "execution_count": 8,
   "metadata": {},
   "outputs": [
    {
     "name": "stdout",
     "output_type": "stream",
     "text": [
      "\u001b[37;45m Bootstrapping Codeception \u001b[39;49m\n",
      "\n",
      "File codeception.yml created       <- global configuration\n",
      "\u001b[36m UnitTester actor has been created in tests/Support\u001b[39m\n",
      "\u001b[36m Actions have been loaded\u001b[39m\n",
      "tests/Unit/ created                <- unit tests\n",
      "tests/Unit.suite.yml written       <- unit test suite configuration\n",
      "\u001b[36m FunctionalTester actor has been created in tests/Support\u001b[39m\n",
      "\u001b[36m Actions have been loaded\u001b[39m\n",
      "tests/Functional/ created          <- functional tests\n",
      "tests/Functional.suite.yml written <- functional test suite configuration\n",
      "\u001b[36m AcceptanceTester actor has been created in tests/Support\u001b[39m\n",
      "\u001b[36m Actions have been loaded\u001b[39m\n",
      "tests/Acceptance/ created          <- acceptance tests\n",
      "tests/Acceptance.suite.yml written <- acceptance test suite configuration\n",
      " --- \n",
      "\n",
      "\u001b[37;42;1m Codeception is installed for acceptance, functional, and unit testing \u001b[39;49;22m\n",
      "\n",
      "\u001b[1mNext steps:\u001b[22m\n",
      "1. Edit \u001b[1mtests/acceptance.suite.yml\u001b[22m to set url of your application. Change PhpBrowser to WebDriver to enable browser testing\n",
      "2. Edit \u001b[1mtests/functional.suite.yml\u001b[22m to enable a framework module. Remove this file if you don't use a framework\n",
      "3. Create your first acceptance tests using \u001b[33mcodecept g:cest acceptance First\u001b[39m\n",
      "4. Write first test in \u001b[1mtests/acceptance/FirstCest.php\u001b[22m\n",
      "5. Run tests using: \u001b[33mcodecept run\u001b[39m\n"
     ]
    }
   ],
   "source": [
    "! vendor/bin/codecept bootstrap --no-interaction"
   ]
  },
  {
   "cell_type": "markdown",
   "metadata": {},
   "source": [
    "See the file structure:"
   ]
  },
  {
   "cell_type": "code",
   "execution_count": 9,
   "metadata": {},
   "outputs": [
    {
     "name": "stdout",
     "output_type": "stream",
     "text": [
      "total 204\n",
      "-rw-r--r--  1 student student    260 May  2 13:20 codeception.yml\n",
      "-rw-r--r--  1 student student    452 May  2 13:19 composer.json\n",
      "-rw-r--r--  1 student student 150434 May  2 13:19 composer.lock\n",
      "-rw-r--r--  1 student student    681 May  2 13:18 index.php\n",
      "drwxr-xr-x  7 student student   4096 May  2 13:20 tests\n",
      "drwxr-xr-x 18 student student   4096 May  2 13:19 vendor\n"
     ]
    }
   ],
   "source": [
    "! ls -l | grep -v *ipynb"
   ]
  },
  {
   "cell_type": "code",
   "execution_count": 10,
   "metadata": {},
   "outputs": [
    {
     "name": "stdout",
     "output_type": "stream",
     "text": [
      "namespace: Tests\n",
      "support_namespace: Support\n",
      "paths:\n",
      "    tests: tests\n",
      "    output: tests/_output\n",
      "    data: tests/Support/Data\n",
      "    support: tests/Support\n",
      "    envs: tests/_envs\n",
      "actor_suffix: Tester\n",
      "extensions:\n",
      "    enabled:\n",
      "        - Codeception\\Extension\\RunFailed\n"
     ]
    }
   ],
   "source": [
    "! cat codeception.yml"
   ]
  },
  {
   "cell_type": "code",
   "execution_count": 11,
   "metadata": {},
   "outputs": [
    {
     "name": "stdout",
     "output_type": "stream",
     "text": [
      "tests:\n",
      "total 32\n",
      "drwxr-xr-x 2 student student 4096 May  2 13:20 Acceptance\n",
      "-rw-r--r-- 1 student student  547 May  2 13:20 Acceptance.suite.yml\n",
      "drwxr-xr-x 2 student student 4096 May  2 13:20 Functional\n",
      "-rw-r--r-- 1 student student  359 May  2 13:20 Functional.suite.yml\n",
      "drwxr-xr-x 5 student student 4096 May  2 13:20 Support\n",
      "drwxr-xr-x 2 student student 4096 May  2 13:20 Unit\n",
      "-rw-r--r-- 1 student student  158 May  2 13:20 Unit.suite.yml\n",
      "drwxr-xr-x 2 student student 4096 May  2 13:20 _output\n",
      "\n",
      "tests/Acceptance:\n",
      "total 0\n",
      "\n",
      "tests/Functional:\n",
      "total 0\n",
      "\n",
      "tests/Support:\n",
      "total 24\n",
      "-rw-r--r-- 1 student student  625 May  2 13:20 AcceptanceTester.php\n",
      "drwxr-xr-x 2 student student 4096 May  2 13:20 Data\n",
      "-rw-r--r-- 1 student student  625 May  2 13:20 FunctionalTester.php\n",
      "drwxr-xr-x 2 student student 4096 May  2 13:20 Helper\n",
      "-rw-r--r-- 1 student student  613 May  2 13:20 UnitTester.php\n",
      "drwxr-xr-x 2 student student 4096 May  2 13:20 _generated\n",
      "\n",
      "tests/Support/Data:\n",
      "total 0\n",
      "\n",
      "tests/Support/Helper:\n",
      "total 0\n",
      "\n",
      "tests/Support/_generated:\n",
      "total 240\n",
      "-rw-r--r-- 1 student student 168962 May  2 13:20 AcceptanceTesterActions.php\n",
      "-rw-r--r-- 1 student student    381 May  2 13:20 FunctionalTesterActions.php\n",
      "-rw-r--r-- 1 student student  66137 May  2 13:20 UnitTesterActions.php\n",
      "\n",
      "tests/Unit:\n",
      "total 0\n",
      "\n",
      "tests/_output:\n",
      "total 0\n"
     ]
    }
   ],
   "source": [
    "! ls -lR tests"
   ]
  },
  {
   "cell_type": "markdown",
   "metadata": {},
   "source": [
    "Run tests:"
   ]
  },
  {
   "cell_type": "code",
   "execution_count": 12,
   "metadata": {},
   "outputs": [
    {
     "name": "stdout",
     "output_type": "stream",
     "text": [
      "Codeception PHP Testing Framework v5.1.2 https://stand-with-ukraine.pp.ua\n",
      "\n",
      "\u001b[1mTests.Acceptance Tests (0) \u001b[22m-----------------------------------------------------\n",
      "--------------------------------------------------------------------------------\n",
      "\n",
      "\u001b[1mTests.Functional Tests (0) \u001b[22m-----------------------------------------------------\n",
      "--------------------------------------------------------------------------------\n",
      "\n",
      "\u001b[1mTests.Unit Tests (0) \u001b[22m-----------------------------------------------------------\n",
      "--------------------------------------------------------------------------------\n",
      "\n",
      "\u001b[30;43mNo tests executed!\u001b[39;49m\n"
     ]
    }
   ],
   "source": [
    "! vendor/bin/codecept run"
   ]
  },
  {
   "cell_type": "markdown",
   "metadata": {},
   "source": [
    "New Acceptance test:"
   ]
  },
  {
   "cell_type": "code",
   "execution_count": 13,
   "metadata": {},
   "outputs": [
    {
     "name": "stdout",
     "output_type": "stream",
     "text": [
      "\u001b[32mTest was created in /home/student/php_2024_piotr_zycki/07_testing/01_tutorial/tests/Acceptance/DemoTest.php\u001b[39m\n"
     ]
    }
   ],
   "source": [
    "! vendor/bin/codecept generate:test Acceptance DemoTest"
   ]
  },
  {
   "cell_type": "markdown",
   "metadata": {},
   "source": [
    "Open the [tests/Acceptance/DemoTest.php](/edit/07_testing/01_tutorial/tests/Acceptance/DemoTest.php) file."
   ]
  },
  {
   "cell_type": "code",
   "execution_count": 14,
   "metadata": {},
   "outputs": [
    {
     "name": "stdout",
     "output_type": "stream",
     "text": [
      "\u001b[32mTest was created in /home/student/php_2024_piotr_zycki/07_testing/01_tutorial/tests/Acceptance/DemoCest.php\u001b[39m\n"
     ]
    }
   ],
   "source": [
    "! vendor/bin/codecept generate:cest Acceptance DemoCest"
   ]
  },
  {
   "cell_type": "markdown",
   "metadata": {},
   "source": [
    "Open the [tests/Acceptance/DemoCest.php](/edit/07_testing/01_tutorial/tests/Acceptance/DemoCest.php) file."
   ]
  },
  {
   "cell_type": "code",
   "execution_count": 15,
   "metadata": {},
   "outputs": [
    {
     "name": "stdout",
     "output_type": "stream",
     "text": [
      "Codeception PHP Testing Framework v5.1.2 https://stand-with-ukraine.pp.ua\n",
      "\n",
      "\u001b[1mTests.Acceptance Tests (2) \u001b[22m-----------------------------------------------------\n",
      "\u001b[32;1m✔\u001b[39;22m \u001b[35;1mDemoCest:\u001b[39;22m Try to test\u001b[32m(0.00s)\u001b[39m\n",
      "\u001b[32;1m✔\u001b[39;22m \u001b[35;1mDemoTest:\u001b[39;22m Some feature\u001b[32m(0.01s)\u001b[39m\n",
      "--------------------------------------------------------------------------------\n",
      "\n",
      "\u001b[1mTests.Functional Tests (0) \u001b[22m-----------------------------------------------------\n",
      "--------------------------------------------------------------------------------\n",
      "\n",
      "\u001b[1mTests.Unit Tests (0) \u001b[22m-----------------------------------------------------------\n",
      "--------------------------------------------------------------------------------\n",
      "Time: 00:00.075, Memory: 14.00 MB\n",
      "\n",
      "\u001b[30;42mOK (2 tests, 0 assertions)\u001b[39;49m\n"
     ]
    }
   ],
   "source": [
    "! vendor/bin/codecept run"
   ]
  },
  {
   "cell_type": "markdown",
   "metadata": {},
   "source": [
    "Open the [tests/Acceptance/DemoCest.php](/edit/07_testing/01_tutorial/tests/Acceptance/DemoCest.php) and add following code:\n",
    "\n",
    "```php\n",
    "<?php\n",
    "\n",
    "namespace Tests\\Acceptance;\n",
    "\n",
    "use Tests\\Support\\AcceptanceTester;\n",
    "\n",
    "class DemoCest\n",
    "{\n",
    "    public function test(AcceptanceTester $I)\n",
    "    {\n",
    "        $I->amOnPage(\"/\");\n",
    "        $I->click(\"Login\");\n",
    "        $I->see(\"EMPTY\");\n",
    "        \n",
    "        $I->amOnPage(\"/\");\n",
    "        $I->fillField(\"user\", \"foo\");\n",
    "        $I->click(\"Login\");\n",
    "        $I->see(\"EMPTY\");\n",
    "        \n",
    "        $I->amOnPage(\"/\");\n",
    "        $I->fillField(\"user\", \"foo\");\n",
    "        $I->fillField(\"password\", \"foo\");\n",
    "        $I->click(\"Login\");\n",
    "        $I->see(\"ERROR\");\n",
    "        \n",
    "        $I->amOnPage(\"/\");\n",
    "        $I->fillField(\"user\", \"foo\");\n",
    "        $I->fillField(\"password\", \"foo123\");\n",
    "        $I->click(\"Login\");\n",
    "        $I->see(\"OK\");\n",
    "    }\n",
    "}\n",
    "```"
   ]
  },
  {
   "cell_type": "markdown",
   "metadata": {},
   "source": [
    "Run tests:"
   ]
  },
  {
   "cell_type": "code",
   "execution_count": 16,
   "metadata": {},
   "outputs": [
    {
     "name": "stdout",
     "output_type": "stream",
     "text": [
      "Codeception PHP Testing Framework v5.1.2 https://stand-with-ukraine.pp.ua\n",
      "\n",
      "\u001b[1mTests.Acceptance Tests (2) \u001b[22m-----------------------------------------------------\n",
      "\u001b[31;1mE\u001b[39;22m \u001b[35;1mDemoCest:\u001b[39;22m Test\u001b[32m(0.00s)\u001b[39m\n",
      "\u001b[32;1m✔\u001b[39;22m \u001b[35;1mDemoTest:\u001b[39;22m Some feature\u001b[32m(0.01s)\u001b[39m\n",
      "--------------------------------------------------------------------------------\n",
      "\n",
      "\u001b[1mTests.Functional Tests (0) \u001b[22m-----------------------------------------------------\n",
      "--------------------------------------------------------------------------------\n",
      "\n",
      "\u001b[1mTests.Unit Tests (0) \u001b[22m-----------------------------------------------------------\n",
      "--------------------------------------------------------------------------------\n",
      "Time: 00:00.086, Memory: 14.00 MB\n",
      "\n",
      "There was 1 error:\n",
      "1) \u001b[35;1mDemoCest:\u001b[39;22m Test\n",
      "\u001b[37;41;1m Test  \u001b[39;49;22mtests/Acceptance/DemoCest.php:test\n",
      "\u001b[37;41;1m                                                                                                                                                                                                                            \u001b[39;49;22m\n",
      "\u001b[37;41;1m  [GuzzleHttp\\Exception\\ConnectException] cURL error 7: Failed to connect to localhost port 80 after 0 ms: Couldn't connect to server (see https://curl.haxx.se/libcurl/c/libcurl-errors.html) for http://localhost/myapp/  \u001b[39;49;22m\n",
      "\u001b[37;41;1m                                                                                                                                                                                                                            \u001b[39;49;22m\n",
      "\u001b[33m\n",
      "Scenario Steps:\n",
      "\u001b[39m\n",
      "\u001b[1m 1. $I->amOnPage(\"/\")\u001b[22m at \u001b[32mtests/Acceptance/DemoCest.php:11\u001b[39m\n",
      "\n",
      "#1  /home/student/php_2024_piotr_zycki/07_testing/01_tutorial/vendor/guzzlehttp/guzzle/src/Handler/CurlFactory.php:210\n",
      "#2  /home/student/php_2024_piotr_zycki/07_testing/01_tutorial/vendor/guzzlehttp/guzzle/src/Handler/CurlFactory.php:158\n",
      "#3  /home/student/php_2024_piotr_zycki/07_testing/01_tutorial/vendor/guzzlehttp/guzzle/src/Handler/CurlFactory.php:110\n",
      "#4  /home/student/php_2024_piotr_zycki/07_testing/01_tutorial/vendor/guzzlehttp/guzzle/src/Handler/CurlHandler.php:47\n",
      "#5  /home/student/php_2024_piotr_zycki/07_testing/01_tutorial/vendor/guzzlehttp/guzzle/src/PrepareBodyMiddleware.php:35\n",
      "#6  /home/student/php_2024_piotr_zycki/07_testing/01_tutorial/vendor/guzzlehttp/guzzle/src/Middleware.php:38\n",
      "#7  /home/student/php_2024_piotr_zycki/07_testing/01_tutorial/vendor/guzzlehttp/guzzle/src/RedirectMiddleware.php:55\n",
      "#8  /home/student/php_2024_piotr_zycki/07_testing/01_tutorial/vendor/guzzlehttp/guzzle/src/Middleware.php:66\n",
      "#9  /home/student/php_2024_piotr_zycki/07_testing/01_tutorial/vendor/guzzlehttp/guzzle/src/HandlerStack.php:75\n",
      "#10 /home/student/php_2024_piotr_zycki/07_testing/01_tutorial/vendor/guzzlehttp/guzzle/src/Client.php:333\n",
      "\n",
      "\u001b[37;41;1mERRORS!\u001b[39;49;22m\n",
      "\u001b[37;41;1mTests: 2, Assertions: 0, Errors: 1.\u001b[39;49;22m\n"
     ]
    }
   ],
   "source": [
    "! vendor/bin/codecept run"
   ]
  },
  {
   "cell_type": "markdown",
   "metadata": {},
   "source": [
    "To fix the URL in configuration open the [tests/Acceptance.suite.yml](/edit/07_testing/01_tutorial/tests/Acceptance.suite.yml) and change:\n",
    "\n",
    "```yml\n",
    "modules:\n",
    "    enabled:\n",
    "        - PhpBrowser:\n",
    "            url: http://localhost/myapp\n",
    "```\n",
    "\n",
    "to\n",
    "\n",
    "```yml\n",
    "modules:\n",
    "    enabled:\n",
    "        - PhpBrowser:\n",
    "            url: http://localhost:8888\n",
    "```"
   ]
  },
  {
   "cell_type": "markdown",
   "metadata": {},
   "source": [
    "Run tests:"
   ]
  },
  {
   "cell_type": "code",
   "execution_count": 18,
   "metadata": {},
   "outputs": [
    {
     "name": "stdout",
     "output_type": "stream",
     "text": [
      "Codeception PHP Testing Framework v5.1.2 https://stand-with-ukraine.pp.ua\n",
      "\n",
      "\u001b[1mTests.Acceptance Tests (2) \u001b[22m-----------------------------------------------------\n",
      "\u001b[31;1m✖\u001b[39;22m \u001b[35;1mDemoCest:\u001b[39;22m Test\u001b[32m(0.02s)\u001b[39m\n",
      "\u001b[32;1m✔\u001b[39;22m \u001b[35;1mDemoTest:\u001b[39;22m Some feature\u001b[32m(0.01s)\u001b[39m\n",
      "--------------------------------------------------------------------------------\n",
      "\n",
      "\u001b[1mTests.Functional Tests (0) \u001b[22m-----------------------------------------------------\n",
      "--------------------------------------------------------------------------------\n",
      "\n",
      "\u001b[1mTests.Unit Tests (0) \u001b[22m-----------------------------------------------------------\n",
      "--------------------------------------------------------------------------------\n",
      "Time: 00:00.099, Memory: 14.00 MB\n",
      "\n",
      "There was 1 failure:\n",
      "1) \u001b[35;1mDemoCest:\u001b[39;22m Test\n",
      "\u001b[37;41;1m Test  \u001b[39;49;22mtests/Acceptance/DemoCest.php:test\n",
      "\u001b[37;41;1m Step \u001b[39;49;22m See \"EMPTY\"\n",
      "\u001b[37;41;1m Fail \u001b[39;49;22m Failed asserting that on page /auth/login\n",
      "-->  Login Login Register Home Demo About Users Tickets Login E-Mail Password \n",
      "--> contains \"EMPTY\".\n",
      "\u001b[33m\n",
      "Scenario Steps:\n",
      "\u001b[39m\n",
      "\u001b[1m 3. $I->see(\"EMPTY\")\u001b[22m at \u001b[32mtests/Acceptance/DemoCest.php:13\u001b[39m\n",
      " 2. $I->click(\"Login\") at \u001b[32mtests/Acceptance/DemoCest.php:12\u001b[39m\n",
      " 1. $I->amOnPage(\"/\") at \u001b[32mtests/Acceptance/DemoCest.php:11\u001b[39m\n",
      "\n",
      "\u001b[33mArtifacts:\u001b[39m\n",
      "\n",
      "Html: \u001b[36m/home/student/php_2024_piotr_zycki/07_testing/01_tutorial/tests/_output/Tests.Acceptance.DemoCest.test.fail.html\u001b[39m\n",
      "Response: \u001b[36m/home/student/php_2024_piotr_zycki/07_testing/01_tutorial/tests/_output/Tests.Acceptance.DemoCest.test.fail.html\u001b[39m\n",
      "\n",
      "\u001b[37;41;1mFAILURES!\u001b[39;49;22m\n",
      "\u001b[37;41;1mTests: 2, Assertions: 1, Failures: 1.\u001b[39;49;22m\n"
     ]
    }
   ],
   "source": [
    "! vendor/bin/codecept run"
   ]
  },
  {
   "cell_type": "markdown",
   "metadata": {},
   "source": [
    "Tests should now be green!"
   ]
  },
  {
   "cell_type": "markdown",
   "metadata": {},
   "source": [
    "Install WebDriver:"
   ]
  },
  {
   "cell_type": "code",
   "execution_count": 19,
   "metadata": {},
   "outputs": [
    {
     "name": "stdout",
     "output_type": "stream",
     "text": [
      "\u001b[32m./composer.json has been updated\u001b[39m\n",
      "\u001b[32mRunning composer update codeception/module-webdriver\u001b[39m\n",
      "\u001b[32mLoading composer repositories with package information\u001b[39m\n",
      "\u001b[32mUpdating dependencies\u001b[39m\n",
      "\u001b[32mLock file operations: 3 installs, 0 updates, 0 removals\u001b[39m\n",
      "  - Locking \u001b[32mcodeception/module-webdriver\u001b[39m (\u001b[33m4.0.1\u001b[39m)\n",
      "  - Locking \u001b[32mphp-webdriver/webdriver\u001b[39m (\u001b[33m1.15.1\u001b[39m)\n",
      "  - Locking \u001b[32msymfony/process\u001b[39m (\u001b[33mv7.0.7\u001b[39m)\n",
      "\u001b[32mWriting lock file\u001b[39m\n",
      "\u001b[32mInstalling dependencies from lock file (including require-dev)\u001b[39m\n",
      "\u001b[32mPackage operations: 3 installs, 0 updates, 0 removals\u001b[39m\n",
      "  - Downloading \u001b[32msymfony/process\u001b[39m (\u001b[33mv7.0.7\u001b[39m)\n",
      "  - Downloading \u001b[32mphp-webdriver/webdriver\u001b[39m (\u001b[33m1.15.1\u001b[39m)\n",
      "  - Downloading \u001b[32mcodeception/module-webdriver\u001b[39m (\u001b[33m4.0.1\u001b[39m)\n",
      " 0/3 [>---------------------------]   0%\u001b[1G\u001b[2K 1/3 [=========>------------------]  33%\u001b[1G\u001b[2K 3/3 [============================] 100%\u001b[1G\u001b[2K  - Installing \u001b[32msymfony/process\u001b[39m (\u001b[33mv7.0.7\u001b[39m): Extracting archive\n",
      "  - Installing \u001b[32mphp-webdriver/webdriver\u001b[39m (\u001b[33m1.15.1\u001b[39m): Extracting archive\n",
      "  - Installing \u001b[32mcodeception/module-webdriver\u001b[39m (\u001b[33m4.0.1\u001b[39m): Extracting archive\n",
      " 0/3 [>---------------------------]   0%\u001b[1G\u001b[2K 2/3 [==================>---------]  66%\u001b[1G\u001b[2K 3/3 [============================] 100%\u001b[1G\u001b[2K\u001b[32m2 package suggestions were added by new dependencies, use `composer suggest` to see details.\u001b[39m\n",
      "\u001b[32mGenerating autoload files\u001b[39m\n",
      "\u001b[32m45 packages you are using are looking for funding.\u001b[39m\n",
      "\u001b[32mUse the `composer fund` command to find out more!\u001b[39m\n",
      "\u001b[32mNo security vulnerability advisories found.\u001b[39m\n",
      "Using version \u001b[32m^4.0\u001b[39m for \u001b[32mcodeception/module-webdriver\u001b[39m\n"
     ]
    }
   ],
   "source": [
    "! composer require codeception/module-webdriver --dev"
   ]
  },
  {
   "cell_type": "markdown",
   "metadata": {},
   "source": [
    "To fix the URL in configuration open the [tests/Acceptance.suite.yml](/edit/07_testing/01_tutorial/tests/Acceptance.suite.yml) and change:\n",
    "\n",
    "```yml\n",
    "modules:\n",
    "    enabled:\n",
    "        - PhpBrowser:\n",
    "            url: http://localhost:8888\n",
    "```\n",
    "\n",
    "to\n",
    "\n",
    "```yml\n",
    "modules:\n",
    "    enabled:\n",
    "        - WebDriver:\n",
    "            url: http://localhost:8888\n",
    "            browser: chrome\n",
    "```"
   ]
  },
  {
   "cell_type": "markdown",
   "metadata": {},
   "source": [
    "Run tests:"
   ]
  },
  {
   "cell_type": "code",
   "execution_count": 20,
   "metadata": {},
   "outputs": [
    {
     "name": "stdout",
     "output_type": "stream",
     "text": [
      "Codeception PHP Testing Framework v5.1.2 https://stand-with-ukraine.pp.ua\n",
      "\n",
      "\u001b[1mTests.Acceptance Tests (2) \u001b[22m-----------------------------------------------------\n",
      "\u001b[31;1m✖\u001b[39;22m \u001b[35;1mDemoCest:\u001b[39;22m Test\u001b[32m(0.39s)\u001b[39m\n",
      "\u001b[32;1m✔\u001b[39;22m \u001b[35;1mDemoTest:\u001b[39;22m Some feature\u001b[32m(0.01s)\u001b[39m\n",
      "--------------------------------------------------------------------------------\n",
      "\n",
      "\u001b[1mTests.Functional Tests (0) \u001b[22m-----------------------------------------------------\n",
      "--------------------------------------------------------------------------------\n",
      "\n",
      "\u001b[1mTests.Unit Tests (0) \u001b[22m-----------------------------------------------------------\n",
      "--------------------------------------------------------------------------------\n",
      "Time: 00:11.504, Memory: 14.00 MB\n",
      "\n",
      "There was 1 failure:\n",
      "1) \u001b[35;1mDemoCest:\u001b[39;22m Test\n",
      "\u001b[37;41;1m Test  \u001b[39;49;22mtests/Acceptance/DemoCest.php:test\n",
      "\u001b[37;41;1m Step \u001b[39;49;22m See \"EMPTY\"\n",
      "\u001b[37;41;1m Fail \u001b[39;49;22m Failed asserting that on page /auth/login\n",
      "--> Login Register\n",
      "Home Demo About Users Tickets\n",
      "Login\n",
      "E-Mail\n",
      "Password\n",
      "--> contains \"EMPTY\".\n",
      "\u001b[33m\n",
      "Scenario Steps:\n",
      "\u001b[39m\n",
      "\u001b[1m 3. $I->see(\"EMPTY\")\u001b[22m at \u001b[32mtests/Acceptance/DemoCest.php:13\u001b[39m\n",
      " 2. $I->click(\"Login\") at \u001b[32mtests/Acceptance/DemoCest.php:12\u001b[39m\n",
      " 1. $I->amOnPage(\"/\") at \u001b[32mtests/Acceptance/DemoCest.php:11\u001b[39m\n",
      "\n",
      "\u001b[33mArtifacts:\u001b[39m\n",
      "\n",
      "Png: \u001b[36m/home/student/php_2024_piotr_zycki/07_testing/01_tutorial/tests/_output/Tests.Acceptance.DemoCest.test.fail.png\u001b[39m\n",
      "Html: \u001b[36m/home/student/php_2024_piotr_zycki/07_testing/01_tutorial/tests/_output/Tests.Acceptance.DemoCest.test.fail.html\u001b[39m\n",
      "\n",
      "\u001b[37;41;1mFAILURES!\u001b[39;49;22m\n",
      "\u001b[37;41;1mTests: 2, Assertions: 1, Failures: 1.\u001b[39;49;22m\n"
     ]
    }
   ],
   "source": [
    "! vendor/bin/codecept run"
   ]
  },
  {
   "cell_type": "markdown",
   "metadata": {},
   "source": [
    "Start Selenium:"
   ]
  },
  {
   "cell_type": "code",
   "execution_count": 21,
   "metadata": {},
   "outputs": [
    {
     "name": "stdout",
     "output_type": "stream",
     "text": [
      "13:22:50.798 INFO [LoggingOptions.configureLogEncoding] - Using the system default encoding\n",
      "13:22:50.811 INFO [OpenTelemetryTracer.createTracer] - Using OpenTelemetry for tracing\n",
      "13:22:51.861 INFO [NodeOptions.getSessionFactories] - Detected 4 available processors\n",
      "13:22:51.863 INFO [NodeOptions.discoverDrivers] - Looking for existing drivers on the PATH.\n",
      "13:22:51.864 INFO [NodeOptions.discoverDrivers] - Add '--selenium-manager true' to the startup command to setup drivers automatically.\n",
      "13:22:52.109 WARN [SeleniumManager.lambda$runCommand$1] - Exception managing chrome: Unable to discover proper chromedriver version in offline mode\n",
      "13:22:52.253 WARN [SeleniumManager.lambda$runCommand$1] - Unable to discover proper msedgedriver version in offline mode\n",
      "13:22:52.316 WARN [SeleniumManager.lambda$runCommand$1] - Unable to discover proper geckodriver version in offline mode\n",
      "13:22:52.360 INFO [NodeOptions.report] - Adding Chrome for {\"browserName\": \"chrome\",\"platformName\": \"linux\"} 4 times\n",
      "13:22:52.374 INFO [Node.<init>] - Binding additional locator mechanisms: relative\n",
      "13:22:52.400 INFO [GridModel.setAvailability] - Switching Node 707e6f26-c6ac-46be-8d93-60dd0096bbbb (uri: http://172.17.0.1:4444) from DOWN to UP\n",
      "13:22:52.401 INFO [LocalDistributor.add] - Added node 707e6f26-c6ac-46be-8d93-60dd0096bbbb at http://172.17.0.1:4444. Health check every 120s\n",
      "13:22:52.589 ERROR [Bootstrap.runMain] - Error during execution\n",
      "java.lang.reflect.InvocationTargetException\n",
      "\tat java.base/jdk.internal.reflect.NativeMethodAccessorImpl.invoke0(Native Method)\n",
      "\tat java.base/jdk.internal.reflect.NativeMethodAccessorImpl.invoke(NativeMethodAccessorImpl.java:77)\n",
      "\tat java.base/jdk.internal.reflect.DelegatingMethodAccessorImpl.invoke(DelegatingMethodAccessorImpl.java:43)\n",
      "\tat java.base/java.lang.reflect.Method.invoke(Method.java:568)\n",
      "\tat org.openqa.selenium.grid.Bootstrap.runMain(Bootstrap.java:77)\n",
      "\tat org.openqa.selenium.grid.Bootstrap.main(Bootstrap.java:70)\n",
      "Caused by: org.openqa.selenium.netty.server.ServerBindException: Could not bind to address or port is already in use. Host 0.0.0.0, Port 4444\n",
      "\tat org.openqa.selenium.netty.server.NettyServer.start(NettyServer.java:168)\n",
      "\tat org.openqa.selenium.netty.server.NettyServer.start(NettyServer.java:51)\n",
      "\tat org.openqa.selenium.grid.commands.Standalone.execute(Standalone.java:243)\n",
      "\tat org.openqa.selenium.grid.TemplateGridCommand.lambda$configure$4(TemplateGridCommand.java:122)\n",
      "\tat org.openqa.selenium.grid.Main.launch(Main.java:83)\n",
      "\tat org.openqa.selenium.grid.Main.go(Main.java:56)\n",
      "\tat org.openqa.selenium.grid.Main.main(Main.java:41)\n",
      "\t... 6 more\n",
      "Caused by: java.net.BindException: Address already in use\n",
      "\tat java.base/sun.nio.ch.Net.bind0(Native Method)\n",
      "\tat java.base/sun.nio.ch.Net.bind(Net.java:555)\n",
      "\tat java.base/sun.nio.ch.ServerSocketChannelImpl.netBind(ServerSocketChannelImpl.java:337)\n",
      "\tat java.base/sun.nio.ch.ServerSocketChannelImpl.bind(ServerSocketChannelImpl.java:294)\n",
      "\tat io.netty.channel.socket.nio.NioServerSocketChannel.doBind(NioServerSocketChannel.java:141)\n",
      "\tat io.netty.channel.AbstractChannel$AbstractUnsafe.bind(AbstractChannel.java:562)\n",
      "\tat io.netty.channel.DefaultChannelPipeline$HeadContext.bind(DefaultChannelPipeline.java:1334)\n",
      "\tat io.netty.channel.AbstractChannelHandlerContext.invokeBind(AbstractChannelHandlerContext.java:600)\n",
      "\tat io.netty.channel.AbstractChannelHandlerContext.bind(AbstractChannelHandlerContext.java:579)\n",
      "\tat io.netty.handler.logging.LoggingHandler.bind(LoggingHandler.java:230)\n",
      "\tat io.netty.channel.AbstractChannelHandlerContext.invokeBind(AbstractChannelHandlerContext.java:602)\n",
      "\tat io.netty.channel.AbstractChannelHandlerContext.bind(AbstractChannelHandlerContext.java:579)\n",
      "\tat io.netty.channel.DefaultChannelPipeline.bind(DefaultChannelPipeline.java:973)\n",
      "\tat io.netty.channel.AbstractChannel.bind(AbstractChannel.java:260)\n",
      "\tat io.netty.bootstrap.AbstractBootstrap$2.run(AbstractBootstrap.java:380)\n",
      "\tat io.netty.util.concurrent.AbstractEventExecutor.runTask(AbstractEventExecutor.java:173)\n",
      "\tat io.netty.util.concurrent.AbstractEventExecutor.safeExecute(AbstractEventExecutor.java:166)\n",
      "\tat io.netty.util.concurrent.SingleThreadEventExecutor.runAllTasks(SingleThreadEventExecutor.java:470)\n",
      "\tat io.netty.channel.nio.NioEventLoop.run(NioEventLoop.java:569)\n",
      "\tat io.netty.util.concurrent.SingleThreadEventExecutor$4.run(SingleThreadEventExecutor.java:997)\n",
      "\tat io.netty.util.internal.ThreadExecutorMap$2.run(ThreadExecutorMap.java:74)\n",
      "\tat io.netty.util.concurrent.FastThreadLocalRunnable.run(FastThreadLocalRunnable.java:30)\n",
      "\tat java.base/java.lang.Thread.run(Thread.java:840)\n"
     ]
    }
   ],
   "source": [
    "import subprocess, os\n",
    "os.environ[\"PATH\"] += os.pathsep + '/opt/selenium/'\n",
    "seleniumServer = subprocess.Popen(['java', '-jar', 'selenium-server-4.18.0.jar', 'standalone'], cwd='/opt/selenium/')"
   ]
  },
  {
   "cell_type": "markdown",
   "metadata": {},
   "source": [
    "Run tests:"
   ]
  },
  {
   "cell_type": "code",
   "execution_count": 22,
   "metadata": {},
   "outputs": [
    {
     "name": "stdout",
     "output_type": "stream",
     "text": [
      "Codeception PHP Testing Framework v5.1.2 https://stand-with-ukraine.pp.ua\n",
      "\n",
      "\u001b[1mTests.Acceptance Tests (2) \u001b[22m-----------------------------------------------------\n",
      "\u001b[31;1m✖\u001b[39;22m :\u001b[39;22m Test\u001b[35;1mDemoCest:\u001b[39;22m Test\u001b[32m(0.71s)\u001b[39m\n",
      "\u001b[32;1m✔\u001b[39;22m \u001b[35;1mDemoTest:\u001b[39;22m Some feature\u001b[32m(0.03s)\u001b[39m\n",
      "--------------------------------------------------------------------------------\n",
      "\n",
      "\u001b[1mTests.Functional Tests (0) \u001b[22m-----------------------------------------------------\n",
      "--------------------------------------------------------------------------------\n",
      "\n",
      "\u001b[1mTests.Unit Tests (0) \u001b[22m-----------------------------------------------------------\n",
      "--------------------------------------------------------------------------------\n",
      "Time: 00:03.284, Memory: 14.00 MB\n",
      "\n",
      "There was 1 failure:\n",
      "1) \u001b[35;1mDemoCest:\u001b[39;22m Test\n",
      "\u001b[37;41;1m Test  \u001b[39;49;22mtests/Acceptance/DemoCest.php:test\n",
      "\u001b[37;41;1m Step \u001b[39;49;22m See \"EMPTY\"\n",
      "\u001b[37;41;1m Fail \u001b[39;49;22m Failed asserting that on page /auth/login\n",
      "--> Login Register\n",
      "Home Demo About Users Tickets\n",
      "Login\n",
      "E-Mail\n",
      "Password\n",
      "--> contains \"EMPTY\".\n",
      "\u001b[33m\n",
      "Scenario Steps:\n",
      "\u001b[39m\n",
      "\u001b[1m 3. $I->see(\"EMPTY\")\u001b[22m at \u001b[32mtests/Acceptance/DemoCest.php:13\u001b[39m\n",
      " 2. $I->click(\"Login\") at \u001b[32mtests/Acceptance/DemoCest.php:12\u001b[39m\n",
      " 1. $I->amOnPage(\"/\") at \u001b[32mtests/Acceptance/DemoCest.php:11\u001b[39m\n",
      "\n",
      "\u001b[33mArtifacts:\u001b[39m\n",
      "\n",
      "Png: \u001b[36m/home/student/php_2024_piotr_zycki/07_testing/01_tutorial/tests/_output/Tests.Acceptance.DemoCest.test.fail.png\u001b[39m\n",
      "Html: \u001b[36m/home/student/php_2024_piotr_zycki/07_testing/01_tutorial/tests/_output/Tests.Acceptance.DemoCest.test.fail.html\u001b[39m\n",
      "\n",
      "\u001b[37;41;1mFAILURES!\u001b[39;49;22m\n",
      "\u001b[37;41;1mTests: 2, Assertions: 1, Failures: 1.\u001b[39;49;22m\n"
     ]
    }
   ],
   "source": [
    "! vendor/bin/codecept run"
   ]
  },
  {
   "cell_type": "markdown",
   "metadata": {},
   "source": [
    "You should see the browser window during tests execution. Tests should be green."
   ]
  },
  {
   "cell_type": "markdown",
   "metadata": {},
   "source": [
    "Stop Selenium:"
   ]
  },
  {
   "cell_type": "code",
   "execution_count": 23,
   "metadata": {},
   "outputs": [],
   "source": [
    "seleniumServer.kill()"
   ]
  },
  {
   "cell_type": "markdown",
   "metadata": {},
   "source": [
    "Stop the server:"
   ]
  },
  {
   "cell_type": "code",
   "execution_count": 24,
   "metadata": {},
   "outputs": [],
   "source": [
    "phpServer.kill()"
   ]
  },
  {
   "cell_type": "markdown",
   "metadata": {},
   "source": [
    "Cleanup:"
   ]
  },
  {
   "cell_type": "code",
   "execution_count": 25,
   "metadata": {},
   "outputs": [
    {
     "name": "stdout",
     "output_type": "stream",
     "text": [
      "Refusing to remove current working directory\n",
      "Removing ./codeception.yml\n",
      "Removing ./index.php\n",
      "Removing ./composer.json\n",
      "Removing ./vendor\n",
      "Removing ./.gitignore\n",
      "Removing ./index.ipynb\n",
      "Removing ./.ipynb_checkpoints\n",
      "Removing ./composer.lock\n",
      "Removing ./tests\n"
     ]
    }
   ],
   "source": [
    "! git clean -fdx ."
   ]
  },
  {
   "cell_type": "code",
   "execution_count": null,
   "metadata": {},
   "outputs": [],
   "source": []
  }
 ],
 "metadata": {
  "kernelspec": {
   "display_name": "Python 3 (ipykernel)",
   "language": "python",
   "name": "python3"
  },
  "language_info": {
   "codemirror_mode": {
    "name": "ipython",
    "version": 3
   },
   "file_extension": ".py",
   "mimetype": "text/x-python",
   "name": "python",
   "nbconvert_exporter": "python",
   "pygments_lexer": "ipython3",
   "version": "3.11.5"
  }
 },
 "nbformat": 4,
 "nbformat_minor": 4
}
