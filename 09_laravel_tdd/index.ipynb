{
 "cells": [
  {
   "cell_type": "markdown",
   "metadata": {},
   "source": [
    "# PHP"
   ]
  },
  {
   "cell_type": "markdown",
   "metadata": {},
   "source": [
    "## 9. Laravel TDD"
   ]
  },
  {
   "cell_type": "markdown",
   "metadata": {},
   "source": [
    "This project was started from the solution of the previous exercise.\n",
    "\n",
    "#### Laravel Breeze\n",
    "\n",
    "The [Laravel Breeze](https://laravel.com/docs/11.x/starter-kits#laravel-breeze) package was installed using the ```composer require laravel/breeze --dev``` and ```php artisan breeze:install``` commands. This package enables user registration and logging into the application.\n",
    "\n",
    "An example user is added through the [database/seeders/UsersSeeder.php](/edit/09_laravel_tdd/project/database/seeders/UsersSeeder.php) class generated using the ```php artisan make:seeder UsersSeeder``` command. The database seeding is done during the execution of the ```php artisan db:seed``` command before the database dump.\n",
    "\n",
    "The logging-in is tested in the [tests_codeception/Acceptance/Test02_LoginCest.php](/edit/09_laravel_tdd/project/tests_codeception/Acceptance/Test02_LoginCest.php) test.\n",
    "\n",
    "Extensive testing is also done when executing the ```php artisan test``` command because the ```php artisan breeze:install``` command added many additional tests.\n",
    "\n",
    "Because there are many tests, it was possible to safely clean up PHPStan issues in the code added by ```php artisan breeze:install``` command.\n",
    "\n",
    "#### Laravel Markdown\n",
    "\n",
    "The next change done in the project was the use of the [graham-campbell/markdown](https://packagist.org/packages/graham-campbell/markdown) package, which adds support for Markdown in Laravel.\n",
    "\n",
    "The package was installed using the ```composer require graham-campbell/markdown``` command.\n",
    "The [tests_codeception/Acceptance/Test01_CommentsCest.php](/edit/09_laravel_tdd/project/tests_codeception/Acceptance/Test01_CommentsCest.php) test was extended to test for adding some **bold** text. The [resources/views/comment/show.blade.php](/edit/09_laravel_tdd/project/resources/views/comment/show.blade.php) view was updated to render the Markdown.\n",
    "\n",
    "#### Tailwind CSS\n",
    "\n",
    "The [tailwindcss](https://tailwindcss.com/) is used to style the front end. Some examples of how to build components in HTML with CSS can be found on, e.g., [flowbite](https://flowbite.com/) site.\n",
    "\n",
    "However, I am not an expert here, so there might be much better resources ;)"
   ]
  },
  {
   "cell_type": "markdown",
   "metadata": {},
   "source": [
    "Start database:"
   ]
  },
  {
   "cell_type": "code",
   "execution_count": 159,
   "metadata": {},
   "outputs": [
    {
     "name": "stdout",
     "output_type": "stream",
     "text": [
      "8a977502263ac6116be38dcb84f33bd1ee839c9938b43be12662bf6e25a1207a\n"
     ]
    }
   ],
   "source": [
    "! docker run --name=mysql --net=host --rm --env MYSQL_ROOT_PASSWORD=root123 --env MYSQL_ROOT_HOST=% --env MYSQL_DATABASE=test --env MYSQL_USER=test --env MYSQL_PASSWORD=test123 -d mysql/mysql-server:8.0"
   ]
  },
  {
   "cell_type": "code",
   "execution_count": 160,
   "metadata": {},
   "outputs": [
    {
     "name": "stdout",
     "output_type": "stream",
     "text": [
      "Done.\n"
     ]
    }
   ],
   "source": [
    "! while ! timeout 1 bash -c \"echo > /dev/tcp/localhost/3306\" 2> /dev/null; do sleep 1; done; echo \"Done.\";"
   ]
  },
  {
   "cell_type": "markdown",
   "metadata": {},
   "source": [
    "Install the CPD checker globally:"
   ]
  },
  {
   "cell_type": "code",
   "execution_count": 161,
   "metadata": {},
   "outputs": [
    {
     "name": "stdout",
     "output_type": "stream",
     "text": [
      "\u001b[32mChanged current directory to /home/student/.composer\u001b[39m\n",
      "\u001b[32m./composer.json has been updated\u001b[39m\n",
      "\u001b[32mRunning composer update sebastian/phpcpd\u001b[39m\n",
      "\u001b[32mLoading composer repositories with package information\u001b[39m\n",
      "\u001b[32mUpdating dependencies\u001b[39m\n",
      "Nothing to modify in lock file\n",
      "\u001b[32mInstalling dependencies from lock file (including require-dev)\u001b[39m\n",
      "Nothing to install, update or remove\n",
      "\u001b[30;43mPackage sebastian/phpcpd is abandoned, you should avoid using it. No replacement was suggested.\u001b[39;49m\n",
      "\u001b[32mGenerating autoload files\u001b[39m\n",
      "\u001b[32m5 packages you are using are looking for funding.\u001b[39m\n",
      "\u001b[32mUse the `composer fund` command to find out more!\u001b[39m\n",
      "\u001b[32mNo security vulnerability advisories found.\u001b[39m\n"
     ]
    }
   ],
   "source": [
    "! composer global require sebastian/phpcpd 6.0.3"
   ]
  },
  {
   "cell_type": "markdown",
   "metadata": {},
   "source": [
    "You can test your solution using included tests:"
   ]
  },
  {
   "cell_type": "code",
   "execution_count": 162,
   "metadata": {},
   "outputs": [
    {
     "name": "stdout",
     "output_type": "stream",
     "text": [
      "/home/student/php_2024_piotr_zycki/09_laravel_tdd/project\n"
     ]
    }
   ],
   "source": [
    "%cd project"
   ]
  },
  {
   "cell_type": "code",
   "execution_count": 163,
   "metadata": {},
   "outputs": [
    {
     "name": "stdout",
     "output_type": "stream",
     "text": [
      "\u001b[32mInstalling dependencies from lock file (including require-dev)\u001b[39m\n",
      "\u001b[32mVerifying lock file contents can be installed on current platform.\u001b[39m\n",
      "Nothing to install, update or remove\n",
      "\u001b[32mGenerating optimized autoload files\u001b[39m\n",
      "> Illuminate\\Foundation\\ComposerScripts::postAutoloadDump\n",
      "> @php artisan package:discover --ansi\n",
      "\n",
      "  \u001b[37;44m INFO \u001b[39;49m Discovering packages.  \n",
      "\n",
      "  graham-campbell/markdown \u001b[90m.\u001b[39m\u001b[90m.\u001b[39m\u001b[90m.\u001b[39m\u001b[90m.\u001b[39m\u001b[90m.\u001b[39m\u001b[90m.\u001b[39m\u001b[90m.\u001b[39m\u001b[90m.\u001b[39m\u001b[90m.\u001b[39m\u001b[90m.\u001b[39m\u001b[90m.\u001b[39m\u001b[90m.\u001b[39m\u001b[90m.\u001b[39m\u001b[90m.\u001b[39m\u001b[90m.\u001b[39m\u001b[90m.\u001b[39m\u001b[90m.\u001b[39m\u001b[90m.\u001b[39m\u001b[90m.\u001b[39m\u001b[90m.\u001b[39m\u001b[90m.\u001b[39m\u001b[90m.\u001b[39m\u001b[90m.\u001b[39m\u001b[90m.\u001b[39m\u001b[90m.\u001b[39m\u001b[90m.\u001b[39m\u001b[90m.\u001b[39m\u001b[90m.\u001b[39m\u001b[90m.\u001b[39m\u001b[90m.\u001b[39m\u001b[90m.\u001b[39m\u001b[90m.\u001b[39m\u001b[90m.\u001b[39m\u001b[90m.\u001b[39m\u001b[90m.\u001b[39m\u001b[90m.\u001b[39m\u001b[90m.\u001b[39m\u001b[90m.\u001b[39m\u001b[90m.\u001b[39m\u001b[90m.\u001b[39m\u001b[90m.\u001b[39m\u001b[90m.\u001b[39m\u001b[90m.\u001b[39m\u001b[90m.\u001b[39m\u001b[90m.\u001b[39m\u001b[90m.\u001b[39m \u001b[32;1mDONE\u001b[39;22m\n",
      "  laravel/breeze \u001b[90m.\u001b[39m\u001b[90m.\u001b[39m\u001b[90m.\u001b[39m\u001b[90m.\u001b[39m\u001b[90m.\u001b[39m\u001b[90m.\u001b[39m\u001b[90m.\u001b[39m\u001b[90m.\u001b[39m\u001b[90m.\u001b[39m\u001b[90m.\u001b[39m\u001b[90m.\u001b[39m\u001b[90m.\u001b[39m\u001b[90m.\u001b[39m\u001b[90m.\u001b[39m\u001b[90m.\u001b[39m\u001b[90m.\u001b[39m\u001b[90m.\u001b[39m\u001b[90m.\u001b[39m\u001b[90m.\u001b[39m\u001b[90m.\u001b[39m\u001b[90m.\u001b[39m\u001b[90m.\u001b[39m\u001b[90m.\u001b[39m\u001b[90m.\u001b[39m\u001b[90m.\u001b[39m\u001b[90m.\u001b[39m\u001b[90m.\u001b[39m\u001b[90m.\u001b[39m\u001b[90m.\u001b[39m\u001b[90m.\u001b[39m\u001b[90m.\u001b[39m\u001b[90m.\u001b[39m\u001b[90m.\u001b[39m\u001b[90m.\u001b[39m\u001b[90m.\u001b[39m\u001b[90m.\u001b[39m\u001b[90m.\u001b[39m\u001b[90m.\u001b[39m\u001b[90m.\u001b[39m\u001b[90m.\u001b[39m\u001b[90m.\u001b[39m\u001b[90m.\u001b[39m\u001b[90m.\u001b[39m\u001b[90m.\u001b[39m\u001b[90m.\u001b[39m\u001b[90m.\u001b[39m\u001b[90m.\u001b[39m\u001b[90m.\u001b[39m\u001b[90m.\u001b[39m\u001b[90m.\u001b[39m\u001b[90m.\u001b[39m\u001b[90m.\u001b[39m\u001b[90m.\u001b[39m\u001b[90m.\u001b[39m\u001b[90m.\u001b[39m\u001b[90m.\u001b[39m \u001b[32;1mDONE\u001b[39;22m\n",
      "  laravel/sail \u001b[90m.\u001b[39m\u001b[90m.\u001b[39m\u001b[90m.\u001b[39m\u001b[90m.\u001b[39m\u001b[90m.\u001b[39m\u001b[90m.\u001b[39m\u001b[90m.\u001b[39m\u001b[90m.\u001b[39m\u001b[90m.\u001b[39m\u001b[90m.\u001b[39m\u001b[90m.\u001b[39m\u001b[90m.\u001b[39m\u001b[90m.\u001b[39m\u001b[90m.\u001b[39m\u001b[90m.\u001b[39m\u001b[90m.\u001b[39m\u001b[90m.\u001b[39m\u001b[90m.\u001b[39m\u001b[90m.\u001b[39m\u001b[90m.\u001b[39m\u001b[90m.\u001b[39m\u001b[90m.\u001b[39m\u001b[90m.\u001b[39m\u001b[90m.\u001b[39m\u001b[90m.\u001b[39m\u001b[90m.\u001b[39m\u001b[90m.\u001b[39m\u001b[90m.\u001b[39m\u001b[90m.\u001b[39m\u001b[90m.\u001b[39m\u001b[90m.\u001b[39m\u001b[90m.\u001b[39m\u001b[90m.\u001b[39m\u001b[90m.\u001b[39m\u001b[90m.\u001b[39m\u001b[90m.\u001b[39m\u001b[90m.\u001b[39m\u001b[90m.\u001b[39m\u001b[90m.\u001b[39m\u001b[90m.\u001b[39m\u001b[90m.\u001b[39m\u001b[90m.\u001b[39m\u001b[90m.\u001b[39m\u001b[90m.\u001b[39m\u001b[90m.\u001b[39m\u001b[90m.\u001b[39m\u001b[90m.\u001b[39m\u001b[90m.\u001b[39m\u001b[90m.\u001b[39m\u001b[90m.\u001b[39m\u001b[90m.\u001b[39m\u001b[90m.\u001b[39m\u001b[90m.\u001b[39m\u001b[90m.\u001b[39m\u001b[90m.\u001b[39m\u001b[90m.\u001b[39m\u001b[90m.\u001b[39m\u001b[90m.\u001b[39m \u001b[32;1mDONE\u001b[39;22m\n",
      "  laravel/tinker \u001b[90m.\u001b[39m\u001b[90m.\u001b[39m\u001b[90m.\u001b[39m\u001b[90m.\u001b[39m\u001b[90m.\u001b[39m\u001b[90m.\u001b[39m\u001b[90m.\u001b[39m\u001b[90m.\u001b[39m\u001b[90m.\u001b[39m\u001b[90m.\u001b[39m\u001b[90m.\u001b[39m\u001b[90m.\u001b[39m\u001b[90m.\u001b[39m\u001b[90m.\u001b[39m\u001b[90m.\u001b[39m\u001b[90m.\u001b[39m\u001b[90m.\u001b[39m\u001b[90m.\u001b[39m\u001b[90m.\u001b[39m\u001b[90m.\u001b[39m\u001b[90m.\u001b[39m\u001b[90m.\u001b[39m\u001b[90m.\u001b[39m\u001b[90m.\u001b[39m\u001b[90m.\u001b[39m\u001b[90m.\u001b[39m\u001b[90m.\u001b[39m\u001b[90m.\u001b[39m\u001b[90m.\u001b[39m\u001b[90m.\u001b[39m\u001b[90m.\u001b[39m\u001b[90m.\u001b[39m\u001b[90m.\u001b[39m\u001b[90m.\u001b[39m\u001b[90m.\u001b[39m\u001b[90m.\u001b[39m\u001b[90m.\u001b[39m\u001b[90m.\u001b[39m\u001b[90m.\u001b[39m\u001b[90m.\u001b[39m\u001b[90m.\u001b[39m\u001b[90m.\u001b[39m\u001b[90m.\u001b[39m\u001b[90m.\u001b[39m\u001b[90m.\u001b[39m\u001b[90m.\u001b[39m\u001b[90m.\u001b[39m\u001b[90m.\u001b[39m\u001b[90m.\u001b[39m\u001b[90m.\u001b[39m\u001b[90m.\u001b[39m\u001b[90m.\u001b[39m\u001b[90m.\u001b[39m\u001b[90m.\u001b[39m\u001b[90m.\u001b[39m\u001b[90m.\u001b[39m \u001b[32;1mDONE\u001b[39;22m\n",
      "  nesbot/carbon \u001b[90m.\u001b[39m\u001b[90m.\u001b[39m\u001b[90m.\u001b[39m\u001b[90m.\u001b[39m\u001b[90m.\u001b[39m\u001b[90m.\u001b[39m\u001b[90m.\u001b[39m\u001b[90m.\u001b[39m\u001b[90m.\u001b[39m\u001b[90m.\u001b[39m\u001b[90m.\u001b[39m\u001b[90m.\u001b[39m\u001b[90m.\u001b[39m\u001b[90m.\u001b[39m\u001b[90m.\u001b[39m\u001b[90m.\u001b[39m\u001b[90m.\u001b[39m\u001b[90m.\u001b[39m\u001b[90m.\u001b[39m\u001b[90m.\u001b[39m\u001b[90m.\u001b[39m\u001b[90m.\u001b[39m\u001b[90m.\u001b[39m\u001b[90m.\u001b[39m\u001b[90m.\u001b[39m\u001b[90m.\u001b[39m\u001b[90m.\u001b[39m\u001b[90m.\u001b[39m\u001b[90m.\u001b[39m\u001b[90m.\u001b[39m\u001b[90m.\u001b[39m\u001b[90m.\u001b[39m\u001b[90m.\u001b[39m\u001b[90m.\u001b[39m\u001b[90m.\u001b[39m\u001b[90m.\u001b[39m\u001b[90m.\u001b[39m\u001b[90m.\u001b[39m\u001b[90m.\u001b[39m\u001b[90m.\u001b[39m\u001b[90m.\u001b[39m\u001b[90m.\u001b[39m\u001b[90m.\u001b[39m\u001b[90m.\u001b[39m\u001b[90m.\u001b[39m\u001b[90m.\u001b[39m\u001b[90m.\u001b[39m\u001b[90m.\u001b[39m\u001b[90m.\u001b[39m\u001b[90m.\u001b[39m\u001b[90m.\u001b[39m\u001b[90m.\u001b[39m\u001b[90m.\u001b[39m\u001b[90m.\u001b[39m\u001b[90m.\u001b[39m\u001b[90m.\u001b[39m\u001b[90m.\u001b[39m \u001b[32;1mDONE\u001b[39;22m\n",
      "  nunomaduro/collision \u001b[90m.\u001b[39m\u001b[90m.\u001b[39m\u001b[90m.\u001b[39m\u001b[90m.\u001b[39m\u001b[90m.\u001b[39m\u001b[90m.\u001b[39m\u001b[90m.\u001b[39m\u001b[90m.\u001b[39m\u001b[90m.\u001b[39m\u001b[90m.\u001b[39m\u001b[90m.\u001b[39m\u001b[90m.\u001b[39m\u001b[90m.\u001b[39m\u001b[90m.\u001b[39m\u001b[90m.\u001b[39m\u001b[90m.\u001b[39m\u001b[90m.\u001b[39m\u001b[90m.\u001b[39m\u001b[90m.\u001b[39m\u001b[90m.\u001b[39m\u001b[90m.\u001b[39m\u001b[90m.\u001b[39m\u001b[90m.\u001b[39m\u001b[90m.\u001b[39m\u001b[90m.\u001b[39m\u001b[90m.\u001b[39m\u001b[90m.\u001b[39m\u001b[90m.\u001b[39m\u001b[90m.\u001b[39m\u001b[90m.\u001b[39m\u001b[90m.\u001b[39m\u001b[90m.\u001b[39m\u001b[90m.\u001b[39m\u001b[90m.\u001b[39m\u001b[90m.\u001b[39m\u001b[90m.\u001b[39m\u001b[90m.\u001b[39m\u001b[90m.\u001b[39m\u001b[90m.\u001b[39m\u001b[90m.\u001b[39m\u001b[90m.\u001b[39m\u001b[90m.\u001b[39m\u001b[90m.\u001b[39m\u001b[90m.\u001b[39m\u001b[90m.\u001b[39m\u001b[90m.\u001b[39m\u001b[90m.\u001b[39m\u001b[90m.\u001b[39m\u001b[90m.\u001b[39m\u001b[90m.\u001b[39m \u001b[32;1mDONE\u001b[39;22m\n",
      "  nunomaduro/termwind \u001b[90m.\u001b[39m\u001b[90m.\u001b[39m\u001b[90m.\u001b[39m\u001b[90m.\u001b[39m\u001b[90m.\u001b[39m\u001b[90m.\u001b[39m\u001b[90m.\u001b[39m\u001b[90m.\u001b[39m\u001b[90m.\u001b[39m\u001b[90m.\u001b[39m\u001b[90m.\u001b[39m\u001b[90m.\u001b[39m\u001b[90m.\u001b[39m\u001b[90m.\u001b[39m\u001b[90m.\u001b[39m\u001b[90m.\u001b[39m\u001b[90m.\u001b[39m\u001b[90m.\u001b[39m\u001b[90m.\u001b[39m\u001b[90m.\u001b[39m\u001b[90m.\u001b[39m\u001b[90m.\u001b[39m\u001b[90m.\u001b[39m\u001b[90m.\u001b[39m\u001b[90m.\u001b[39m\u001b[90m.\u001b[39m\u001b[90m.\u001b[39m\u001b[90m.\u001b[39m\u001b[90m.\u001b[39m\u001b[90m.\u001b[39m\u001b[90m.\u001b[39m\u001b[90m.\u001b[39m\u001b[90m.\u001b[39m\u001b[90m.\u001b[39m\u001b[90m.\u001b[39m\u001b[90m.\u001b[39m\u001b[90m.\u001b[39m\u001b[90m.\u001b[39m\u001b[90m.\u001b[39m\u001b[90m.\u001b[39m\u001b[90m.\u001b[39m\u001b[90m.\u001b[39m\u001b[90m.\u001b[39m\u001b[90m.\u001b[39m\u001b[90m.\u001b[39m\u001b[90m.\u001b[39m\u001b[90m.\u001b[39m\u001b[90m.\u001b[39m\u001b[90m.\u001b[39m\u001b[90m.\u001b[39m\u001b[90m.\u001b[39m \u001b[32;1mDONE\u001b[39;22m\n",
      "  spatie/laravel-ignition \u001b[90m.\u001b[39m\u001b[90m.\u001b[39m\u001b[90m.\u001b[39m\u001b[90m.\u001b[39m\u001b[90m.\u001b[39m\u001b[90m.\u001b[39m\u001b[90m.\u001b[39m\u001b[90m.\u001b[39m\u001b[90m.\u001b[39m\u001b[90m.\u001b[39m\u001b[90m.\u001b[39m\u001b[90m.\u001b[39m\u001b[90m.\u001b[39m\u001b[90m.\u001b[39m\u001b[90m.\u001b[39m\u001b[90m.\u001b[39m\u001b[90m.\u001b[39m\u001b[90m.\u001b[39m\u001b[90m.\u001b[39m\u001b[90m.\u001b[39m\u001b[90m.\u001b[39m\u001b[90m.\u001b[39m\u001b[90m.\u001b[39m\u001b[90m.\u001b[39m\u001b[90m.\u001b[39m\u001b[90m.\u001b[39m\u001b[90m.\u001b[39m\u001b[90m.\u001b[39m\u001b[90m.\u001b[39m\u001b[90m.\u001b[39m\u001b[90m.\u001b[39m\u001b[90m.\u001b[39m\u001b[90m.\u001b[39m\u001b[90m.\u001b[39m\u001b[90m.\u001b[39m\u001b[90m.\u001b[39m\u001b[90m.\u001b[39m\u001b[90m.\u001b[39m\u001b[90m.\u001b[39m\u001b[90m.\u001b[39m\u001b[90m.\u001b[39m\u001b[90m.\u001b[39m\u001b[90m.\u001b[39m\u001b[90m.\u001b[39m\u001b[90m.\u001b[39m\u001b[90m.\u001b[39m\u001b[90m.\u001b[39m \u001b[32;1mDONE\u001b[39;22m\n",
      "\n",
      "\u001b[32m100 packages you are using are looking for funding.\u001b[39m\n",
      "\u001b[32mUse the `composer fund` command to find out more!\u001b[39m\n"
     ]
    }
   ],
   "source": [
    "! composer install"
   ]
  },
  {
   "cell_type": "code",
   "execution_count": 164,
   "metadata": {},
   "outputs": [
    {
     "name": "stdout",
     "output_type": "stream",
     "text": [
      "\u001b[32mBuilding Actor classes for suites: Acceptance\u001b[39m\n",
      " -> AcceptanceTesterActions.php generated successfully. 111 methods added\n",
      "\u001b[32mTestsCodeception\\AcceptanceTester\u001b[39m includes modules: WebDriver, Db\n"
     ]
    }
   ],
   "source": [
    "! vendor/bin/codecept build"
   ]
  },
  {
   "cell_type": "code",
   "execution_count": 165,
   "metadata": {},
   "outputs": [
    {
     "name": "stdout",
     "output_type": "stream",
     "text": [
      "PHP CS Fixer \u001b[32m3.54.0\u001b[39m \u001b[32m15 Keys Accelerate\u001b[39m by \u001b[33mFabien Potencier\u001b[39m, \u001b[33mDariusz Ruminski\u001b[39m and \u001b[33mcontributors\u001b[39m.\n",
      "PHP runtime: \u001b[32m8.3.0-1ubuntu1\u001b[39m\n",
      "Loaded config \u001b[33mdefault\u001b[39m from \"/home/student/php_2024_piotr_zycki/09_laravel_tdd/project/./.php-cs-fixer.dist.php\".\n",
      "Using cache file \".php-cs-fixer.cache\".\n",
      "  0/95 [░░░░░░░░░░░░░░░░░░░░░░░░░░░░]   0%\u001b[1G\u001b[2K 10/95 [▓▓░░░░░░░░░░░░░░░░░░░░░░░░░░]  10%\u001b[1G\u001b[2K 48/95 [▓▓▓▓▓▓▓▓▓▓▓▓▓▓░░░░░░░░░░░░░░]  50%\u001b[1G\u001b[2K 57/95 [▓▓▓▓▓▓▓▓▓▓▓▓▓▓▓▓░░░░░░░░░░░░]  60%\u001b[1G\u001b[2K 67/95 [▓▓▓▓▓▓▓▓▓▓▓▓▓▓▓▓▓▓▓░░░░░░░░░]  70%\u001b[1G\u001b[2K 76/95 [▓▓▓▓▓▓▓▓▓▓▓▓▓▓▓▓▓▓▓▓▓▓░░░░░░]  80%\u001b[1G\u001b[2K 86/95 [▓▓▓▓▓▓▓▓▓▓▓▓▓▓▓▓▓▓▓▓▓▓▓▓▓░░░]  90%\u001b[1G\u001b[2K 95/95 [▓▓▓▓▓▓▓▓▓▓▓▓▓▓▓▓▓▓▓▓▓▓▓▓▓▓▓▓] 100%\n",
      "\n",
      "\n",
      "Found 0 of 95 files that can be fixed in 0.416 seconds, 20.000 MB memory used\n"
     ]
    }
   ],
   "source": [
    "! vendor/bin/php-cs-fixer fix --diff --dry-run ."
   ]
  },
  {
   "cell_type": "code",
   "execution_count": 166,
   "metadata": {},
   "outputs": [
    {
     "name": "stdout",
     "output_type": "stream",
     "text": [
      "  0/54 [░░░░░░░░░░░░░░░░░░░░░░░░░░░░]   0%\u001b[1G\u001b[2K 54/54 [▓▓▓▓▓▓▓▓▓▓▓▓▓▓▓▓▓▓▓▓▓▓▓▓▓▓▓▓] 100%\n",
      "\n",
      "\n",
      "\u001b[30;42m                                                                                \u001b[39;49m\n",
      "\u001b[30;42m [OK] No errors                                                                 \u001b[39;49m\n",
      "\u001b[30;42m                                                                                \u001b[39;49m\n",
      "\n"
     ]
    }
   ],
   "source": [
    "! vendor/bin/phpstan analyze -c phpstan.neon"
   ]
  },
  {
   "cell_type": "code",
   "execution_count": 167,
   "metadata": {},
   "outputs": [
    {
     "name": "stdout",
     "output_type": "stream",
     "text": [
      "phpcpd 6.0.3 by Sebastian Bergmann.\n",
      "\n",
      "No clones found.\n",
      "\n",
      "Time: 00:00.028, Memory: 6.00 MB\n"
     ]
    }
   ],
   "source": [
    "! ~/.composer/vendor/bin/phpcpd . --fuzzy --min-lines 1 --min-tokens 35 --exclude vendor --exclude config --exclude storage --exclude tests_codeception/Support/_generated"
   ]
  },
  {
   "cell_type": "code",
   "execution_count": 168,
   "metadata": {},
   "outputs": [],
   "source": [
    "! cp .env.example .env"
   ]
  },
  {
   "cell_type": "code",
   "execution_count": 169,
   "metadata": {},
   "outputs": [
    {
     "name": "stdout",
     "output_type": "stream",
     "text": [
      "\n",
      "  \u001b[37;44m INFO \u001b[39;49m Application key set successfully.  \n",
      "\n"
     ]
    }
   ],
   "source": [
    "! php artisan key:generate"
   ]
  },
  {
   "cell_type": "code",
   "execution_count": 170,
   "metadata": {},
   "outputs": [],
   "source": [
    "! while ! timeout 1 bash -c \"echo > /dev/tcp/localhost/3306\"; do echo \"Waiting for MySQL...\"; sleep 1; done"
   ]
  },
  {
   "cell_type": "code",
   "execution_count": 171,
   "metadata": {},
   "outputs": [
    {
     "name": "stdout",
     "output_type": "stream",
     "text": [
      "\n",
      "  \u001b[37;44m INFO \u001b[39;49m Preparing database.  \n",
      "\n",
      "  Creating migration table \u001b[90m.\u001b[39m\u001b[90m.\u001b[39m\u001b[90m.\u001b[39m\u001b[90m.\u001b[39m\u001b[90m.\u001b[39m\u001b[90m.\u001b[39m\u001b[90m.\u001b[39m\u001b[90m.\u001b[39m\u001b[90m.\u001b[39m\u001b[90m.\u001b[39m\u001b[90m.\u001b[39m\u001b[90m.\u001b[39m\u001b[90m.\u001b[39m\u001b[90m.\u001b[39m\u001b[90m.\u001b[39m\u001b[90m.\u001b[39m\u001b[90m.\u001b[39m\u001b[90m.\u001b[39m\u001b[90m.\u001b[39m\u001b[90m.\u001b[39m\u001b[90m.\u001b[39m\u001b[90m.\u001b[39m\u001b[90m.\u001b[39m\u001b[90m.\u001b[39m\u001b[90m.\u001b[39m\u001b[90m.\u001b[39m\u001b[90m.\u001b[39m\u001b[90m.\u001b[39m\u001b[90m.\u001b[39m\u001b[90m.\u001b[39m\u001b[90m.\u001b[39m\u001b[90m.\u001b[39m\u001b[90m.\u001b[39m\u001b[90m.\u001b[39m\u001b[90m.\u001b[39m\u001b[90m.\u001b[39m\u001b[90m.\u001b[39m\u001b[90m 124.17ms\u001b[39m \u001b[32;1mDONE\u001b[39;22m\n",
      "\n",
      "  \u001b[37;44m INFO \u001b[39;49m Running migrations.  \n",
      "\n",
      "  0001_01_01_000000_create_users_table \u001b[90m.\u001b[39m\u001b[90m.\u001b[39m\u001b[90m.\u001b[39m\u001b[90m.\u001b[39m\u001b[90m.\u001b[39m\u001b[90m.\u001b[39m\u001b[90m.\u001b[39m\u001b[90m.\u001b[39m\u001b[90m.\u001b[39m\u001b[90m.\u001b[39m\u001b[90m.\u001b[39m\u001b[90m.\u001b[39m\u001b[90m.\u001b[39m\u001b[90m.\u001b[39m\u001b[90m.\u001b[39m\u001b[90m.\u001b[39m\u001b[90m.\u001b[39m\u001b[90m.\u001b[39m\u001b[90m.\u001b[39m\u001b[90m.\u001b[39m\u001b[90m.\u001b[39m\u001b[90m.\u001b[39m\u001b[90m.\u001b[39m\u001b[90m.\u001b[39m\u001b[90m.\u001b[39m\u001b[90m 424.24ms\u001b[39m \u001b[32;1mDONE\u001b[39;22m\n",
      "  0001_01_01_000001_create_cache_table \u001b[90m.\u001b[39m\u001b[90m.\u001b[39m\u001b[90m.\u001b[39m\u001b[90m.\u001b[39m\u001b[90m.\u001b[39m\u001b[90m.\u001b[39m\u001b[90m.\u001b[39m\u001b[90m.\u001b[39m\u001b[90m.\u001b[39m\u001b[90m.\u001b[39m\u001b[90m.\u001b[39m\u001b[90m.\u001b[39m\u001b[90m.\u001b[39m\u001b[90m.\u001b[39m\u001b[90m.\u001b[39m\u001b[90m.\u001b[39m\u001b[90m.\u001b[39m\u001b[90m.\u001b[39m\u001b[90m.\u001b[39m\u001b[90m.\u001b[39m\u001b[90m.\u001b[39m\u001b[90m.\u001b[39m\u001b[90m.\u001b[39m\u001b[90m.\u001b[39m\u001b[90m.\u001b[39m\u001b[90m 246.81ms\u001b[39m \u001b[32;1mDONE\u001b[39;22m\n",
      "  0001_01_01_000002_create_jobs_table \u001b[90m.\u001b[39m\u001b[90m.\u001b[39m\u001b[90m.\u001b[39m\u001b[90m.\u001b[39m\u001b[90m.\u001b[39m\u001b[90m.\u001b[39m\u001b[90m.\u001b[39m\u001b[90m.\u001b[39m\u001b[90m.\u001b[39m\u001b[90m.\u001b[39m\u001b[90m.\u001b[39m\u001b[90m.\u001b[39m\u001b[90m.\u001b[39m\u001b[90m.\u001b[39m\u001b[90m.\u001b[39m\u001b[90m.\u001b[39m\u001b[90m.\u001b[39m\u001b[90m.\u001b[39m\u001b[90m.\u001b[39m\u001b[90m.\u001b[39m\u001b[90m.\u001b[39m\u001b[90m.\u001b[39m\u001b[90m.\u001b[39m\u001b[90m.\u001b[39m\u001b[90m.\u001b[39m\u001b[90m.\u001b[39m\u001b[90m 783.24ms\u001b[39m \u001b[32;1mDONE\u001b[39;22m\n",
      "  2024_05_02_133350_create_comments_table \u001b[90m.\u001b[39m\u001b[90m.\u001b[39m\u001b[90m.\u001b[39m\u001b[90m.\u001b[39m\u001b[90m.\u001b[39m\u001b[90m.\u001b[39m\u001b[90m.\u001b[39m\u001b[90m.\u001b[39m\u001b[90m.\u001b[39m\u001b[90m.\u001b[39m\u001b[90m.\u001b[39m\u001b[90m.\u001b[39m\u001b[90m.\u001b[39m\u001b[90m.\u001b[39m\u001b[90m.\u001b[39m\u001b[90m.\u001b[39m\u001b[90m.\u001b[39m\u001b[90m.\u001b[39m\u001b[90m.\u001b[39m\u001b[90m.\u001b[39m\u001b[90m.\u001b[39m\u001b[90m.\u001b[39m\u001b[90m.\u001b[39m\u001b[90m 91.55ms\u001b[39m \u001b[32;1mDONE\u001b[39;22m\n",
      "  2024_05_25_115811_create_books_table \u001b[90m.\u001b[39m\u001b[90m.\u001b[39m\u001b[90m.\u001b[39m\u001b[90m.\u001b[39m\u001b[90m.\u001b[39m\u001b[90m.\u001b[39m\u001b[90m.\u001b[39m\u001b[90m.\u001b[39m\u001b[90m.\u001b[39m\u001b[90m.\u001b[39m\u001b[90m.\u001b[39m\u001b[90m.\u001b[39m\u001b[90m.\u001b[39m\u001b[90m.\u001b[39m\u001b[90m.\u001b[39m\u001b[90m.\u001b[39m\u001b[90m.\u001b[39m\u001b[90m.\u001b[39m\u001b[90m.\u001b[39m\u001b[90m.\u001b[39m\u001b[90m.\u001b[39m\u001b[90m.\u001b[39m\u001b[90m.\u001b[39m\u001b[90m.\u001b[39m\u001b[90m.\u001b[39m\u001b[90m.\u001b[39m\u001b[90m 93.41ms\u001b[39m \u001b[32;1mDONE\u001b[39;22m\n",
      "\n"
     ]
    }
   ],
   "source": [
    "! php artisan migrate:fresh"
   ]
  },
  {
   "cell_type": "code",
   "execution_count": 172,
   "metadata": {},
   "outputs": [
    {
     "name": "stdout",
     "output_type": "stream",
     "text": [
      "\n",
      "  \u001b[37;44m INFO \u001b[39;49m Seeding database.  \n",
      "\n",
      "  Database\\Seeders\\UsersSeeder \u001b[90m.......................................\u001b[39m \u001b[33;1mRUNNING\u001b[39;22m  \n",
      "  Database\\Seeders\\UsersSeeder \u001b[90m...................................\u001b[39m \u001b[90m274 ms\u001b[39m \u001b[32;1mDONE\u001b[39;22m  \n",
      "\n"
     ]
    }
   ],
   "source": [
    "! php artisan db:seed"
   ]
  },
  {
   "cell_type": "code",
   "execution_count": 173,
   "metadata": {},
   "outputs": [
    {
     "name": "stdout",
     "output_type": "stream",
     "text": [
      "mysqldump: [Warning] Using a password on the command line interface can be insecure.\n"
     ]
    }
   ],
   "source": [
    "! mysqldump -h127.0.0.1 -u root --password=root123 test > tests_codeception/Support/Data/dump.sql"
   ]
  },
  {
   "cell_type": "code",
   "execution_count": 174,
   "metadata": {},
   "outputs": [
    {
     "name": "stdout",
     "output_type": "stream",
     "text": [
      "\u001b[K\u001b[?25hm##################\u001b[0m) ⠦ reify:@esbuild/aix-ppc64: \u001b[32;40mtiming\u001b[0m \u001b[35mreifyNode:node_modules/\u001b[0m\u001b[K\u001b[0m\u001b[K[0m\u001b[K\n",
      "up to date, audited 145 packages in 1s\n",
      "\n",
      "36 packages are looking for funding\n",
      "  run `npm fund` for details\n",
      "\n",
      "found \u001b[32m\u001b[1m0\u001b[22m\u001b[39m vulnerabilities\n"
     ]
    }
   ],
   "source": [
    "! npm install"
   ]
  },
  {
   "cell_type": "code",
   "execution_count": 175,
   "metadata": {},
   "outputs": [
    {
     "name": "stdout",
     "output_type": "stream",
     "text": [
      "\n",
      "> build\n",
      "> vite build\n",
      "\n",
      "\u001b[36mvite v5.2.11 \u001b[32mbuilding for production...\u001b[36m\u001b[39m\n",
      "\u001b[2K\u001b[1Gtransforming (1) \u001b[2mresources/js/app.js\u001b[22m\u001b[2K\u001b[1Gtransforming (2) \u001b[2mnode_modules/alpinejs/dist/module.esm.js\u001b[22m\u001b[2K\u001b[1Gtransforming (4) \u001b[2mresources/css/app.css\u001b[22m\u001b[2K\u001b[1G\u001b[32m✓\u001b[39m 48 modules transformed.\n",
      "\u001b[2K\u001b[1Grendering chunks (1)...\u001b[2K\u001b[1Grendering chunks (2)...\u001b[2K\u001b[1G\u001b[2K\u001b[1Gcomputing gzip size (0)...\u001b[2K\u001b[1Gcomputing gzip size (1)...\u001b[2K\u001b[1Gcomputing gzip size (2)...\u001b[2K\u001b[1Gcomputing gzip size (3)...\u001b[2K\u001b[1G\u001b[2mpublic/build/\u001b[22m\u001b[32mmanifest.json            \u001b[39m\u001b[1m\u001b[2m 0.27 kB\u001b[22m\u001b[1m\u001b[22m\u001b[2m │ gzip:  0.15 kB\u001b[22m\n",
      "\u001b[2mpublic/build/\u001b[22m\u001b[2massets/\u001b[22m\u001b[35mapp-BSS_LlKZ.css  \u001b[39m\u001b[1m\u001b[2m34.89 kB\u001b[22m\u001b[1m\u001b[22m\u001b[2m │ gzip:  6.69 kB\u001b[22m\n",
      "\u001b[2mpublic/build/\u001b[22m\u001b[2massets/\u001b[22m\u001b[36mapp-CrG2wnyX.js   \u001b[39m\u001b[1m\u001b[2m74.00 kB\u001b[22m\u001b[1m\u001b[22m\u001b[2m │ gzip: 27.43 kB\u001b[22m\n",
      "\u001b[32m✓ built in 1.77s\u001b[39m\n"
     ]
    }
   ],
   "source": [
    "! npm run build"
   ]
  },
  {
   "cell_type": "code",
   "execution_count": 176,
   "metadata": {},
   "outputs": [
    {
     "name": "stdout",
     "output_type": "stream",
     "text": [
      "\n",
      "  \u001b[30;42;1m PASS \u001b[39;49;22m\u001b[39m Tests\\Unit\\ExampleTest\u001b[39m\n",
      "  \u001b[32;1m✓\u001b[39;22m\u001b[90m \u001b[39m\u001b[90mthat true is true\u001b[39m\n",
      "\n",
      "  \u001b[30;42;1m PASS \u001b[39;49;22m\u001b[39m Tests\\Feature\\Auth\\AuthenticationTest\u001b[39m\n",
      "  \u001b[32;1m✓\u001b[39;22m\u001b[90m \u001b[39m\u001b[90mlogin screen can be rendered\u001b[39m\u001b[90m                                        \u001b[39m \u001b[90m2.54s\u001b[39m  \n",
      "  \u001b[32;1m✓\u001b[39;22m\u001b[90m \u001b[39m\u001b[90musers can authenticate using the login screen\u001b[39m\u001b[90m                       \u001b[39m \u001b[90m0.08s\u001b[39m  \n",
      "  \u001b[32;1m✓\u001b[39;22m\u001b[90m \u001b[39m\u001b[90musers can not authenticate with invalid password\u001b[39m\u001b[90m                    \u001b[39m \u001b[90m0.28s\u001b[39m  \n",
      "  \u001b[32;1m✓\u001b[39;22m\u001b[90m \u001b[39m\u001b[90musers can logout\u001b[39m\u001b[90m                                                    \u001b[39m \u001b[90m0.04s\u001b[39m  \n",
      "\n",
      "  \u001b[30;42;1m PASS \u001b[39;49;22m\u001b[39m Tests\\Feature\\Auth\\EmailVerificationTest\u001b[39m\n",
      "  \u001b[32;1m✓\u001b[39;22m\u001b[90m \u001b[39m\u001b[90memail verification screen can be rendered\u001b[39m\u001b[90m                           \u001b[39m \u001b[90m0.05s\u001b[39m  \n",
      "  \u001b[32;1m✓\u001b[39;22m\u001b[90m \u001b[39m\u001b[90memail can be verified\u001b[39m\u001b[90m                                               \u001b[39m \u001b[90m0.07s\u001b[39m  \n",
      "  \u001b[32;1m✓\u001b[39;22m\u001b[90m \u001b[39m\u001b[90memail is not verified with invalid hash\u001b[39m\u001b[90m                             \u001b[39m \u001b[90m0.05s\u001b[39m  \n",
      "\n",
      "  \u001b[30;42;1m PASS \u001b[39;49;22m\u001b[39m Tests\\Feature\\Auth\\PasswordConfirmationTest\u001b[39m\n",
      "  \u001b[32;1m✓\u001b[39;22m\u001b[90m \u001b[39m\u001b[90mconfirm password screen can be rendered\u001b[39m\u001b[90m                             \u001b[39m \u001b[90m0.05s\u001b[39m  \n",
      "  \u001b[32;1m✓\u001b[39;22m\u001b[90m \u001b[39m\u001b[90mpassword can be confirmed\u001b[39m\u001b[90m                                           \u001b[39m \u001b[90m0.06s\u001b[39m  \n",
      "  \u001b[32;1m✓\u001b[39;22m\u001b[90m \u001b[39m\u001b[90mpassword is not confirmed with invalid password\u001b[39m\u001b[90m                     \u001b[39m \u001b[90m0.26s\u001b[39m  \n",
      "\n",
      "  \u001b[30;42;1m PASS \u001b[39;49;22m\u001b[39m Tests\\Feature\\Auth\\PasswordResetTest\u001b[39m\n",
      "  \u001b[32;1m✓\u001b[39;22m\u001b[90m \u001b[39m\u001b[90mreset password link screen can be rendered\u001b[39m\u001b[90m                          \u001b[39m \u001b[90m0.06s\u001b[39m  \n",
      "  \u001b[32;1m✓\u001b[39;22m\u001b[90m \u001b[39m\u001b[90mreset password link can be requested\u001b[39m\u001b[90m                                \u001b[39m \u001b[90m0.07s\u001b[39m  \n",
      "  \u001b[32;1m✓\u001b[39;22m\u001b[90m \u001b[39m\u001b[90mreset password screen can be rendered\u001b[39m\u001b[90m                               \u001b[39m \u001b[90m0.07s\u001b[39m  \n",
      "  \u001b[32;1m✓\u001b[39;22m\u001b[90m \u001b[39m\u001b[90mpassword can be reset with valid token\u001b[39m\u001b[90m                              \u001b[39m \u001b[90m0.08s\u001b[39m  \n",
      "\n",
      "  \u001b[30;42;1m PASS \u001b[39;49;22m\u001b[39m Tests\\Feature\\Auth\\PasswordUpdateTest\u001b[39m\n",
      "  \u001b[32;1m✓\u001b[39;22m\u001b[90m \u001b[39m\u001b[90mpassword can be updated\u001b[39m\u001b[90m                                             \u001b[39m \u001b[90m0.10s\u001b[39m  \n",
      "  \u001b[32;1m✓\u001b[39;22m\u001b[90m \u001b[39m\u001b[90mcorrect password must be provided to update password\u001b[39m\u001b[90m                \u001b[39m \u001b[90m0.06s\u001b[39m  \n",
      "\n",
      "  \u001b[30;42;1m PASS \u001b[39;49;22m\u001b[39m Tests\\Feature\\Auth\\RegistrationTest\u001b[39m\n",
      "  \u001b[32;1m✓\u001b[39;22m\u001b[90m \u001b[39m\u001b[90mregistration screen can be rendered\u001b[39m\u001b[90m                                 \u001b[39m \u001b[90m0.05s\u001b[39m  \n",
      "  \u001b[32;1m✓\u001b[39;22m\u001b[90m \u001b[39m\u001b[90mnew users can register\u001b[39m\u001b[90m                                              \u001b[39m \u001b[90m0.09s\u001b[39m  \n",
      "\n",
      "  \u001b[30;42;1m PASS \u001b[39;49;22m\u001b[39m Tests\\Feature\\ExampleTest\u001b[39m\n",
      "  \u001b[32;1m✓\u001b[39;22m\u001b[90m \u001b[39m\u001b[90mthe application returns a successful response\u001b[39m\u001b[90m                       \u001b[39m \u001b[90m0.06s\u001b[39m  \n",
      "\n",
      "  \u001b[30;42;1m PASS \u001b[39;49;22m\u001b[39m Tests\\Feature\\ProfileTest\u001b[39m\n",
      "  \u001b[32;1m✓\u001b[39;22m\u001b[90m \u001b[39m\u001b[90mprofile page is displayed\u001b[39m\u001b[90m                                           \u001b[39m \u001b[90m0.08s\u001b[39m  \n",
      "  \u001b[32;1m✓\u001b[39;22m\u001b[90m \u001b[39m\u001b[90mprofile information can be updated\u001b[39m\u001b[90m                                  \u001b[39m \u001b[90m0.07s\u001b[39m  \n",
      "  \u001b[32;1m✓\u001b[39;22m\u001b[90m \u001b[39m\u001b[90memail verification status is unchanged when the email address is un\u001b[39m\u001b[90m…\u001b[39m \u001b[90m0.06s\u001b[39m  \n",
      "  \u001b[32;1m✓\u001b[39;22m\u001b[90m \u001b[39m\u001b[90muser can delete their account\u001b[39m\u001b[90m                                       \u001b[39m \u001b[90m0.06s\u001b[39m  \n",
      "  \u001b[32;1m✓\u001b[39;22m\u001b[90m \u001b[39m\u001b[90mcorrect password must be provided to delete account\u001b[39m\u001b[90m                 \u001b[39m \u001b[90m0.05s\u001b[39m  \n",
      "\n",
      "  \u001b[90mTests:\u001b[39m    \u001b[32;1m25 passed\u001b[39;22m\u001b[90m (63 assertions)\u001b[39m\n",
      "  \u001b[90mDuration:\u001b[39m \u001b[39m4.58s\u001b[39m\n",
      "\n"
     ]
    }
   ],
   "source": [
    "! php artisan test"
   ]
  },
  {
   "cell_type": "code",
   "execution_count": 177,
   "metadata": {},
   "outputs": [],
   "source": [
    "import subprocess, os\n",
    "os.environ[\"PATH\"] += os.pathsep + '/opt/selenium/'\n",
    "seleniumServer = subprocess.Popen(['java', '-jar', 'selenium-server-4.18.0.jar', 'standalone'], cwd='/opt/selenium/')"
   ]
  },
  {
   "cell_type": "code",
   "execution_count": 178,
   "metadata": {},
   "outputs": [],
   "source": [
    "import subprocess\n",
    "artisanServe = subprocess.Popen(['php', 'artisan', 'serve', '--port', '8888'])"
   ]
  },
  {
   "cell_type": "code",
   "execution_count": 179,
   "metadata": {},
   "outputs": [
    {
     "name": "stdout",
     "output_type": "stream",
     "text": [
      "bash: connect: Connection refused\n",
      "bash: line 1: /dev/tcp/localhost/4444: Connection refused\n",
      "Waiting for Selenium...\n",
      "15:24:01.107 INFO [LoggingOptions.configureLogEncoding] - Using the system default encoding\n",
      "15:24:01.119 INFO [OpenTelemetryTracer.createTracer] - Using OpenTelemetry for tracing\n",
      "\n",
      "   INFO  Server running on [http://127.0.0.1:8888].  \n",
      "\n",
      "  Press Ctrl+C to stop the server\n",
      "\n",
      "bash: connect: Connection refused\n",
      "bash: line 1: /dev/tcp/localhost/4444: Connection refused\n",
      "Waiting for Selenium...\n",
      "15:24:02.135 INFO [NodeOptions.getSessionFactories] - Detected 4 available processors\n",
      "15:24:02.138 INFO [NodeOptions.discoverDrivers] - Looking for existing drivers on the PATH.\n",
      "15:24:02.138 INFO [NodeOptions.discoverDrivers] - Add '--selenium-manager true' to the startup command to setup drivers automatically.\n",
      "15:24:02.281 WARN [SeleniumManager.lambda$runCommand$1] - Unable to discover proper msedgedriver version in offline mode\n",
      "15:24:02.300 WARN [SeleniumManager.lambda$runCommand$1] - Unable to discover proper geckodriver version in offline mode\n",
      "15:24:02.326 INFO [NodeOptions.report] - Adding Chrome for {\"browserName\": \"chrome\",\"platformName\": \"linux\"} 4 times\n",
      "15:24:02.422 INFO [Node.<init>] - Binding additional locator mechanisms: relative\n",
      "15:24:02.470 INFO [GridModel.setAvailability] - Switching Node 1935a22a-b9a5-411a-a7c7-a63c7b6d60ec (uri: http://172.17.0.1:4444) from DOWN to UP\n",
      "15:24:02.471 INFO [LocalDistributor.add] - Added node 1935a22a-b9a5-411a-a7c7-a63c7b6d60ec at http://172.17.0.1:4444. Health check every 120s\n",
      "bash: connect: Connection refused\n",
      "bash: line 1: /dev/tcp/localhost/4444: Connection refused\n",
      "Waiting for Selenium...\n",
      "15:24:02.929 INFO [Standalone.execute] - Started Selenium Standalone 4.18.0 (revision b6bf9de7cc): http://172.17.0.1:4444\n"
     ]
    }
   ],
   "source": [
    "! while ! timeout 1 bash -c \"echo > /dev/tcp/localhost/4444\"; do echo \"Waiting for Selenium...\"; sleep 1; done"
   ]
  },
  {
   "cell_type": "code",
   "execution_count": 180,
   "metadata": {},
   "outputs": [],
   "source": [
    "! while ! timeout 1 bash -c \"echo > /dev/tcp/localhost/8888\"; do echo \"Waiting for App...\"; sleep 1; done"
   ]
  },
  {
   "cell_type": "code",
   "execution_count": 181,
   "metadata": {},
   "outputs": [
    {
     "name": "stdout",
     "output_type": "stream",
     "text": [
      "  2024-05-30 15:24:03 ................................................... ~ 0s\n",
      "Codeception PHP Testing Framework v5.1.2 https://stand-with-ukraine.pp.ua\n",
      "\n",
      "\u001b[1mTestsCodeception.Acceptance Tests (4) \u001b[22m------------------------------------------\n",
      "- \u001b[35;1mTest00_HomepageCest:\u001b[39;22m See Laravel links on homepage15:24:07.015 INFO [LocalDistributor.newSession] - Session request received by the Distributor: \n",
      " [Capabilities {browserName: chrome}]\n",
      "15:24:08.034 INFO [LocalNode.newSession] - Session created by the Node. Id: c93ebac1fe454d8802284d92d4efcd61, Caps: Capabilities {acceptInsecureCerts: false, browserName: chrome, browserVersion: 121.0.6167.184, chrome: {chromedriverVersion: 121.0.6167.184 (057a8ae7deb..., userDataDir: /tmp/.org.chromium.Chromium...}, fedcm:accounts: true, goog:chromeOptions: {debuggerAddress: localhost:37843}, networkConnectionEnabled: false, pageLoadStrategy: normal, platformName: linux, proxy: Proxy(), se:bidiEnabled: false, se:cdp: ws://172.17.0.1:4444/sessio..., se:cdpVersion: 121.0.6167.184, setWindowRect: true, strictFileInteractability: false, timeouts: {implicit: 0, pageLoad: 300000, script: 30000}, unhandledPromptBehavior: dismiss and notify, webauthn:extension:credBlob: true, webauthn:extension:largeBlob: true, webauthn:extension:minPinLength: true, webauthn:extension:prf: true, webauthn:virtualAuthenticators: true}\n",
      "15:24:08.043 INFO [LocalDistributor.newSession] - Session created by the Distributor. Id: c93ebac1fe454d8802284d92d4efcd61 \n",
      " Caps: Capabilities {acceptInsecureCerts: false, browserName: chrome, browserVersion: 121.0.6167.184, chrome: {chromedriverVersion: 121.0.6167.184 (057a8ae7deb..., userDataDir: /tmp/.org.chromium.Chromium...}, fedcm:accounts: true, goog:chromeOptions: {debuggerAddress: localhost:37843}, networkConnectionEnabled: false, pageLoadStrategy: normal, platformName: linux, proxy: Proxy(), se:bidiEnabled: false, se:cdp: ws://172.17.0.1:4444/sessio..., se:cdpVersion: 121.0.6167.184, setWindowRect: true, strictFileInteractability: false, timeouts: {implicit: 0, pageLoad: 300000, script: 30000}, unhandledPromptBehavior: dismiss and notify, webauthn:extension:credBlob: true, webauthn:extension:largeBlob: true, webauthn:extension:minPinLength: true, webauthn:extension:prf: true, webauthn:virtualAuthenticators: true}\n",
      "  2024-05-30 15:24:10 ................................................... ~ 0s\n",
      "  2024-05-30 15:24:10 /favicon.ico ..................................... ~ -1s\n",
      "\u001b[32;1m✔\u001b[39;22m \u001b[35;1mTest00_HomepageCest:\u001b[39;22m See Laravel links on homepage\u001b[32m(0.98s)\u001b[39m\n",
      "- \u001b[35;1mTest01_CommentsCest:\u001b[39;22m See comments from DB displayed on page  2024-05-30 15:24:14 ................................................... ~ 0s\n",
      "  2024-05-30 15:24:14 /build/assets/app-BSS_LlKZ.css .................... ~ 0s\n",
      "  2024-05-30 15:24:14 /build/assets/app-CrG2wnyX.js ..................... ~ 0s\n",
      "  2024-05-30 15:24:14 /favicon.ico ...................................... ~ 0s\n",
      "  2024-05-30 15:24:15 ................................................... ~ 0s\n",
      "  2024-05-30 15:24:15 /build/assets/app-BSS_LlKZ.css .................... ~ 0s\n",
      "  2024-05-30 15:24:15 /build/assets/app-CrG2wnyX.js ..................... ~ 0s\n",
      "  2024-05-30 15:24:15 /favicon.ico ...................................... ~ 0s\n",
      "\u001b[32;1m✔\u001b[39;22m \u001b[35;1mTest01_CommentsCest:\u001b[39;22m See comments from DB displayed on page\u001b[32m(0.79s)\u001b[39m\n",
      "- \u001b[35;1mTest02_LoginCest:\u001b[39;22m Login with existing user  2024-05-30 15:24:18 ................................................... ~ 0s\n",
      "  2024-05-30 15:24:18 ................................................... ~ 0s\n",
      "  2024-05-30 15:24:18 /build/assets/app-BSS_LlKZ.css .................... ~ 0s\n",
      "  2024-05-30 15:24:18 /build/assets/app-CrG2wnyX.js ..................... ~ 0s\n",
      "  2024-05-30 15:24:18 /favicon.ico ...................................... ~ 0s\n",
      "\u001b[32;1m✔\u001b[39;22m \u001b[35;1mTest02_LoginCest:\u001b[39;22m Login with existing user\u001b[32m(1.67s)\u001b[39m\n",
      "- \u001b[35;1mTest03_BooksCest:\u001b[39;22m Have books page  2024-05-30 15:24:19 ................................................... ~ 0s\n",
      "  2024-05-30 15:24:19 .................................................. ~ -1s\n",
      "  2024-05-30 15:24:20 /build/assets/app-BSS_LlKZ.css .................... ~ 0s\n",
      "  2024-05-30 15:24:20 /build/assets/app-CrG2wnyX.js ..................... ~ 0s\n",
      "  2024-05-30 15:24:20 /favicon.ico ...................................... ~ 0s\n",
      "  2024-05-30 15:24:22 ................................................... ~ 0s\n",
      "  2024-05-30 15:24:22 ................................................... ~ 0s\n",
      "  2024-05-30 15:24:22 /build/assets/app-BSS_LlKZ.css .................... ~ 0s\n",
      "  2024-05-30 15:24:22 /build/assets/app-CrG2wnyX.js ..................... ~ 0s\n",
      "  2024-05-30 15:24:22 /favicon.ico ...................................... ~ 0s\n",
      "  2024-05-30 15:24:23 ................................................... ~ 0s\n",
      "  2024-05-30 15:24:23 ................................................... ~ 0s\n",
      "  2024-05-30 15:24:23 /build/assets/app-BSS_LlKZ.css .................... ~ 0s\n",
      "  2024-05-30 15:24:23 /build/assets/app-CrG2wnyX.js ..................... ~ 0s\n",
      "  2024-05-30 15:24:23 /favicon.ico ...................................... ~ 0s\n",
      "  2024-05-30 15:24:23 .................................................. ~ -1s\n",
      "  2024-05-30 15:24:24 /build/assets/app-BSS_LlKZ.css .................... ~ 0s\n",
      "  2024-05-30 15:24:24 /build/assets/app-CrG2wnyX.js ..................... ~ 0s\n",
      "  2024-05-30 15:24:24 /favicon.ico ...................................... ~ 0s\n",
      "  2024-05-30 15:24:24 ................................................... ~ 0s\n",
      "  2024-05-30 15:24:24 ................................................... ~ 0s\n",
      "  2024-05-30 15:24:24 /build/assets/app-BSS_LlKZ.css .................... ~ 0s\n",
      "  2024-05-30 15:24:24 /build/assets/app-CrG2wnyX.js ..................... ~ 0s\n",
      "  2024-05-30 15:24:24 /favicon.ico ...................................... ~ 0s\n",
      "  2024-05-30 15:24:25 ................................................... ~ 0s\n",
      "  2024-05-30 15:24:25 ................................................... ~ 0s\n",
      "  2024-05-30 15:24:25 /build/assets/app-BSS_LlKZ.css .................... ~ 0s\n",
      "  2024-05-30 15:24:25 /build/assets/app-CrG2wnyX.js ..................... ~ 0s\n",
      "  2024-05-30 15:24:25 /favicon.ico ...................................... ~ 0s\n",
      "  2024-05-30 15:24:25 ................................................... ~ 0s\n",
      "  2024-05-30 15:24:25 ................................................... ~ 0s\n",
      "  2024-05-30 15:24:25 /build/assets/app-BSS_LlKZ.css .................... ~ 0s\n",
      "  2024-05-30 15:24:25 /build/assets/app-CrG2wnyX.js ..................... ~ 0s\n",
      "  2024-05-30 15:24:25 /favicon.ico ...................................... ~ 0s\n",
      "  2024-05-30 15:24:26 ................................................... ~ 0s\n",
      "  2024-05-30 15:24:26 /build/assets/app-BSS_LlKZ.css .................... ~ 0s\n",
      "  2024-05-30 15:24:26 /build/assets/app-CrG2wnyX.js ..................... ~ 0s\n",
      "  2024-05-30 15:24:26 /favicon.ico ...................................... ~ 0s\n",
      "  2024-05-30 15:24:26 ................................................... ~ 0s\n",
      "  2024-05-30 15:24:26 /build/assets/app-BSS_LlKZ.css .................... ~ 0s\n",
      "  2024-05-30 15:24:26 /build/assets/app-CrG2wnyX.js ..................... ~ 0s\n",
      "  2024-05-30 15:24:26 /favicon.ico ...................................... ~ 0s\n",
      "  2024-05-30 15:24:27 ................................................... ~ 0s\n",
      "  2024-05-30 15:24:27 /build/assets/app-BSS_LlKZ.css .................... ~ 0s\n",
      "  2024-05-30 15:24:27 /build/assets/app-CrG2wnyX.js ..................... ~ 0s\n",
      "  2024-05-30 15:24:27 /favicon.ico ...................................... ~ 0s\n",
      "  2024-05-30 15:24:27 ................................................... ~ 0s\n",
      "  2024-05-30 15:24:27 ................................................... ~ 0s\n",
      "  2024-05-30 15:24:27 /build/assets/app-BSS_LlKZ.css .................... ~ 0s\n",
      "  2024-05-30 15:24:27 /build/assets/app-CrG2wnyX.js ..................... ~ 0s\n",
      "  2024-05-30 15:24:27 /favicon.ico ...................................... ~ 0s\n",
      "  2024-05-30 15:24:28 ................................................... ~ 0s\n",
      "  2024-05-30 15:24:28 ................................................... ~ 0s\n",
      "  2024-05-30 15:24:28 /build/assets/app-BSS_LlKZ.css .................... ~ 0s\n",
      "  2024-05-30 15:24:28 /build/assets/app-CrG2wnyX.js ..................... ~ 0s\n",
      "  2024-05-30 15:24:28 /favicon.ico ...................................... ~ 0s\n",
      "\u001b[32;1m✔\u001b[39;22m \u001b[35;1mTest03_BooksCest:\u001b[39;22m Have books page\u001b[32m(6.01s)\u001b[39m\n",
      "  2024-05-30 15:24:28 ................................................... ~ 0s\n",
      "  2024-05-30 15:24:28 ................................................... ~ 0s\n",
      "  2024-05-30 15:24:28 /build/assets/app-BSS_LlKZ.css .................... ~ 0s\n",
      "  2024-05-30 15:24:28 /build/assets/app-CrG2wnyX.js ..................... ~ 0s\n",
      "  2024-05-30 15:24:28 /favicon.ico ...................................... ~ 0s\n",
      "15:24:33.071 INFO [LocalSessionMap.lambda$new$0] - Deleted session from local Session Map, Id: c93ebac1fe454d8802284d92d4efcd61\n",
      "15:24:33.072 INFO [GridModel.release] - Releasing slot for session id c93ebac1fe454d8802284d92d4efcd61\n",
      "15:24:33.073 INFO [SessionSlot.stop] - Stopping session c93ebac1fe454d8802284d92d4efcd61\n",
      "--------------------------------------------------------------------------------\n",
      "Time: 00:28.718, Memory: 16.00 MB\n",
      "\n",
      "\u001b[30;42mOK (4 tests, 54 assertions)\u001b[39;49m\n"
     ]
    }
   ],
   "source": [
    "! vendor/bin/codecept run"
   ]
  },
  {
   "cell_type": "markdown",
   "metadata": {},
   "source": [
    "Edit the code:"
   ]
  },
  {
   "cell_type": "code",
   "execution_count": null,
   "metadata": {},
   "outputs": [
    {
     "name": "stdout",
     "output_type": "stream",
     "text": [
      "CompileCommand: exclude com/intellij/openapi/vfs/impl/FilePartNodeRoot.trieDescend bool exclude = true\n",
      "2024-05-30 15:24:36,316 [   2128]   WARN - #c.i.s.ComponentManagerImpl - `preload=true` must be used only for core services (service=com.intellij.ae.database.core.baseEvents.fus.AddStatisticsEventLogListenerTemporary, plugin=com.jetbrains.ae.database)\n",
      "2024-05-30 15:24:36,317 [   2129]   WARN - #c.i.s.ComponentManagerImpl - `preload=true` must be used only for core services (service=com.jetbrains.rdserver.statistics.BackendStatisticsManager, plugin=com.jetbrains.codeWithMe)\n",
      "2024-05-30 15:24:37,676 [   3488]   WARN - #c.i.s.ComponentManagerImpl - com.intellij.psi.search.FilenameIndex initializer requests com.intellij.ide.plugins.PluginUtil instance\n",
      "2024-05-30 15:24:39,209 [   5021]   WARN - #c.i.s.ComponentManagerImpl - com.intellij.lang.javascript.psi.jsdoc.impl.JSDocCustomTags initializer requests com.intellij.lang.javascript.JSDisposable instance\n",
      "2024-05-30 15:24:40,545 [   6357]   WARN - #c.i.o.v.n.p.d.e.DurableEnumeratorFactory - [enumerator.mmapped]: .valueToId map is out-of-sync with .valuesLog data -> rebuilding it\n",
      "2024-05-30 15:24:40,746 [   6558]   WARN - #c.i.s.ComponentManagerImpl - org.zmlx.hg4idea.provider.HgChangeProvider initializer requests com.intellij.openapi.vcs.FileStatusFactory instance\n",
      "2024-05-30 15:24:40,961 [   6773]   WARN - #c.i.s.ComponentManagerImpl - com.intellij.psi.LanguageSubstitutors initializer requests com.intellij.psi.LanguageSubstitutors instance\n",
      "2024-05-30 15:24:42,837 [   8649]   WARN - #c.i.s.ComponentManagerImpl - com.intellij.psi.codeStyle.CodeStyleSettingsCustomizable initializer requests com.intellij.util.LocaleSensitiveApplicationCacheService instance\n",
      "2024-05-30 15:24:44,298 [  10110]   WARN - #o.j.p.t.TextMateService - Cannot find referenced file `./language-configuration.json` in bundle `/opt/PhpStorm-233.14475.35/plugins/textmate/lib/bundles/mdx`\n",
      "2024-05-30 15:24:45,235 [  11047]   WARN - #c.i.o.a.i.ActionUpdater - 732 ms to grab EDT for ToolWindowHeader$2#Update@ToolwindowTitle (com.intellij.toolWindow.ToolWindowHeader$2)\n",
      "2024-05-30 15:24:45,480 [  11292]   WARN - #c.i.o.a.i.ActionUpdater - 523 ms to grab EDT for ToolWindowHeader$2#Update@ToolwindowTitle (com.intellij.toolWindow.ToolWindowHeader$2)\n",
      "2024-05-30 15:24:45,625 [  11437]   WARN - #c.i.u.x.Binding - no accessors for com.jetbrains.php.testFramework.PhpTestFrameworkType\n",
      "2024-05-30 15:24:46,197 [  12009]   WARN - #c.i.o.a.i.ActionUpdater - 392 ms to grab EDT for ToolWindowHeader$2#Update@ToolwindowTitle (com.intellij.toolWindow.ToolWindowHeader$2)\n",
      "2024-05-30 15:24:46,251 [  12063]   WARN - #c.i.o.a.i.ActionUpdater - 390 ms to grab EDT for JoinCallAction#Update@MainToolbar (com.jetbrains.rd.platform.codeWithMe.telephony.JoinCallAction)\n",
      "2024-05-30 15:24:46,252 [  12064]   WARN - #c.i.o.a.i.ActionUpdater - 392 ms to grab EDT for ToolWindowHeader$2#Update@ToolwindowTitle (com.intellij.toolWindow.ToolWindowHeader$2)\n",
      "2024-05-30 15:24:52,952 [  18764]   WARN - org.eclipse.lsp4j.jsonrpc.services.GenericEndpoint - Unsupported notification method: @/tailwindCSS/projectInitialized\n",
      "2024-05-30 15:24:55,810 [  21622]   WARN - #c.i.o.a.i.ActionUpdater - 389 ms to grab EDT for FontEditorPreview$ToggleBoldFontAction#Update@ContextToolbar (com.intellij.application.options.colors.FontEditorPreview$ToggleBoldFontAction)\n",
      "2024-05-30 15:24:55,810 [  21622]   WARN - #c.i.o.a.i.ActionUpdater - 347 ms to grab EDT for FontEditorPreview$RestorePreviewTextAction#Update@ContextToolbar (com.intellij.application.options.colors.FontEditorPreview$RestorePreviewTextAction)\n",
      "2024-05-30 15:24:56,239 [  22051]   WARN - #c.i.i.s.i.StartupManagerImpl - Migrate com.jetbrains.php.tools.quality.psalm.PsalmSettingsTransferStartupActivity to ProjectActivity [Plugin: com.intellij.php.psalm]\n",
      "com.intellij.diagnostic.PluginException: Migrate com.jetbrains.php.tools.quality.psalm.PsalmSettingsTransferStartupActivity to ProjectActivity [Plugin: com.intellij.php.psalm]\n",
      "\tat com.intellij.ide.startup.impl.StartupManagerImpl.runPostStartupActivities(StartupManagerImpl.kt:277)\n",
      "\tat com.intellij.ide.startup.impl.StartupManagerImpl.access$runPostStartupActivities(StartupManagerImpl.kt:69)\n",
      "\tat com.intellij.ide.startup.impl.StartupManagerImpl$runPostStartupActivities$3$2.invokeSuspend(StartupManagerImpl.kt:192)\n",
      "\tat com.intellij.ide.startup.impl.StartupManagerImpl$runPostStartupActivities$3$2.invoke(StartupManagerImpl.kt)\n",
      "\tat com.intellij.ide.startup.impl.StartupManagerImpl$runPostStartupActivities$3$2.invoke(StartupManagerImpl.kt)\n",
      "\tat kotlinx.coroutines.intrinsics.UndispatchedKt.startUndispatchedOrReturn(Undispatched.kt:78)\n",
      "\tat kotlinx.coroutines.BuildersKt__Builders_commonKt.withContext(Builders.common.kt:167)\n",
      "\tat kotlinx.coroutines.BuildersKt.withContext(Unknown Source)\n",
      "\tat com.intellij.ide.startup.impl.StartupManagerImpl$runPostStartupActivities$3.invokeSuspend(StartupManagerImpl.kt:191)\n",
      "\tat kotlin.coroutines.jvm.internal.BaseContinuationImpl.resumeWith(ContinuationImpl.kt:33)\n",
      "\tat kotlinx.coroutines.UndispatchedCoroutine.afterResume(CoroutineContext.kt:270)\n",
      "\tat kotlinx.coroutines.AbstractCoroutine.resumeWith(AbstractCoroutine.kt:102)\n",
      "\tat kotlin.coroutines.jvm.internal.BaseContinuationImpl.resumeWith(ContinuationImpl.kt:46)\n",
      "\tat kotlinx.coroutines.DispatchedTask.run(DispatchedTask.kt:108)\n",
      "\tat kotlinx.coroutines.scheduling.CoroutineScheduler.runSafely(CoroutineScheduler.kt:584)\n",
      "\tat kotlinx.coroutines.scheduling.CoroutineScheduler$Worker.executeTask(CoroutineScheduler.kt:793)\n",
      "\tat kotlinx.coroutines.scheduling.CoroutineScheduler$Worker.runWorker(CoroutineScheduler.kt:697)\n",
      "\tat kotlinx.coroutines.scheduling.CoroutineScheduler$Worker.run(CoroutineScheduler.kt:684)\n",
      "2024-05-30 15:24:56,256 [  22068]   WARN - #c.i.i.s.i.StartupManagerImpl - Migrate com.jetbrains.php.tools.quality.phpstan.PhpStanSettingsTransferStartupActivity to ProjectActivity [Plugin: com.intellij.php.tools.quality.phpstan]\n",
      "com.intellij.diagnostic.PluginException: Migrate com.jetbrains.php.tools.quality.phpstan.PhpStanSettingsTransferStartupActivity to ProjectActivity [Plugin: com.intellij.php.tools.quality.phpstan]\n",
      "\tat com.intellij.ide.startup.impl.StartupManagerImpl.runPostStartupActivities(StartupManagerImpl.kt:277)\n",
      "\tat com.intellij.ide.startup.impl.StartupManagerImpl.access$runPostStartupActivities(StartupManagerImpl.kt:69)\n",
      "\tat com.intellij.ide.startup.impl.StartupManagerImpl$runPostStartupActivities$3$2.invokeSuspend(StartupManagerImpl.kt:192)\n",
      "\tat com.intellij.ide.startup.impl.StartupManagerImpl$runPostStartupActivities$3$2.invoke(StartupManagerImpl.kt)\n",
      "\tat com.intellij.ide.startup.impl.StartupManagerImpl$runPostStartupActivities$3$2.invoke(StartupManagerImpl.kt)\n",
      "\tat kotlinx.coroutines.intrinsics.UndispatchedKt.startUndispatchedOrReturn(Undispatched.kt:78)\n",
      "\tat kotlinx.coroutines.BuildersKt__Builders_commonKt.withContext(Builders.common.kt:167)\n",
      "\tat kotlinx.coroutines.BuildersKt.withContext(Unknown Source)\n",
      "\tat com.intellij.ide.startup.impl.StartupManagerImpl$runPostStartupActivities$3.invokeSuspend(StartupManagerImpl.kt:191)\n",
      "\tat kotlin.coroutines.jvm.internal.BaseContinuationImpl.resumeWith(ContinuationImpl.kt:33)\n",
      "\tat kotlinx.coroutines.UndispatchedCoroutine.afterResume(CoroutineContext.kt:270)\n",
      "\tat kotlinx.coroutines.AbstractCoroutine.resumeWith(AbstractCoroutine.kt:102)\n",
      "\tat kotlin.coroutines.jvm.internal.BaseContinuationImpl.resumeWith(ContinuationImpl.kt:46)\n",
      "\tat kotlinx.coroutines.DispatchedTask.run(DispatchedTask.kt:108)\n",
      "\tat kotlinx.coroutines.scheduling.CoroutineScheduler.runSafely(CoroutineScheduler.kt:584)\n",
      "\tat kotlinx.coroutines.scheduling.CoroutineScheduler$Worker.executeTask(CoroutineScheduler.kt:793)\n",
      "\tat kotlinx.coroutines.scheduling.CoroutineScheduler$Worker.runWorker(CoroutineScheduler.kt:697)\n",
      "\tat kotlinx.coroutines.scheduling.CoroutineScheduler$Worker.run(CoroutineScheduler.kt:684)\n",
      "2024-05-30 15:24:56,395 [  22207]   WARN - #c.i.o.a.i.ActionUpdater - 487 ms to grab EDT for ToolWindowHeader$2#GetChildren@ToolwindowTitle (com.intellij.toolWindow.ToolWindowHeader$2)\n",
      "2024-05-30 15:24:56,490 [  22302]   WARN - #c.i.o.a.i.ActionUpdater - 487 ms to grab EDT for ToolWindowHeader$2#GetChildren@ToolwindowTitle (com.intellij.toolWindow.ToolWindowHeader$2)\n",
      "2024-05-30 15:24:56,691 [  22503]   WARN - #c.i.i.s.p.i.BundledSharedIndexPostStartupActivity - Skipped 1 pre-built shared indexes: bundled-js-predefined-1d06a55b98c1-985749b364ce-JavaScript-PS-233.14475.35\n",
      "2024-05-30 15:24:57,218 [  23030]   WARN - #c.i.o.a.i.ActionUpdater - 815 ms to grab EDT for ToolWindowHeader$2#Update@ToolwindowTitle (com.intellij.toolWindow.ToolWindowHeader$2)\n",
      "2024-05-30 15:24:57,218 [  23030]   WARN - #c.i.o.a.i.ActionUpdater - 815 ms to grab EDT for ToolWindowHeader$2#Update@ToolwindowTitle (com.intellij.toolWindow.ToolWindowHeader$2)\n",
      "2024-05-30 15:24:57,218 [  23030]   WARN - #c.i.o.a.i.ActionUpdater - 810 ms to grab EDT for EditorMarkupModelImpl$TrafficLightAction#Update@EditorInspectionsToolbar (com.intellij.openapi.editor.impl.EditorMarkupModelImpl$TrafficLightAction)\n",
      "2024-05-30 15:24:57,218 [  23030]   WARN - #c.i.o.a.i.ActionUpdater - 810 ms to grab EDT for EditorMarkupModelImpl$1#Update@EditorInspectionsToolbar (com.intellij.openapi.editor.impl.EditorMarkupModelImpl$1)\n",
      "2024-05-30 15:24:57,219 [  23031]   WARN - #c.i.o.a.i.ActionUpdater - 810 ms to grab EDT for FontEditorPreview$RestorePreviewTextAction#Update@ContextToolbar (com.intellij.application.options.colors.FontEditorPreview$RestorePreviewTextAction)\n",
      "2024-05-30 15:24:57,219 [  23031]   WARN - #c.i.o.a.i.ActionUpdater - 810 ms to grab EDT for FontEditorPreview$ToggleBoldFontAction#Update@ContextToolbar (com.intellij.application.options.colors.FontEditorPreview$ToggleBoldFontAction)\n",
      "2024-05-30 15:24:57,328 [  23140]   WARN - #c.i.o.a.i.ActionUpdater - 784 ms to grab EDT for ReviewModeActionGroup#Update@EditorInspectionsToolbar (org.jetbrains.plugins.gitlab.mergerequest.ui.editor.action.ReviewModeActionGroup)\n",
      "2024-05-30 15:24:57,354 [  23166]   WARN - #c.i.o.a.i.ActionUpdater - 741 ms to grab EDT for JoinCallAction#Update@MainToolbar (com.jetbrains.rd.platform.codeWithMe.telephony.JoinCallAction)\n",
      "2024-05-30 15:24:58,461 [  24273]   WARN - #c.i.s.ComponentManagerImpl - com.intellij.database.console.session.DatabaseSessionManager initializer requests com.intellij.database.console.session.DatabaseSessionViewService instance\n",
      "2024-05-30 15:24:59,132 [  24944]   WARN - #c.i.o.a.i.ActionUpdater - 1913 ms to grab EDT for ToolWindowHeader$2#GetChildren@ToolwindowTitle (com.intellij.toolWindow.ToolWindowHeader$2)\n",
      "2024-05-30 15:25:00,179 [  25991]   WARN - #c.i.o.a.i.ActionUpdater - 1043 ms to grab EDT for CollapseAllAction#Update@ToolwindowTitle (com.intellij.ide.actions.CollapseAllAction)\n",
      "2024-05-30 15:25:00,179 [  25991]   WARN - #c.i.o.a.i.ActionUpdater - 1043 ms to grab EDT for ExpandAllAction#Update@ToolwindowTitle (com.intellij.ide.actions.ExpandAllAction)\n",
      "2024-05-30 15:25:00,180 [  25992]   WARN - #c.i.o.a.i.ActionUpdater - 1043 ms to grab EDT for DockToolWindowAction#Update@ToolwindowTitle (com.intellij.openapi.wm.impl.DockToolWindowAction)\n",
      "2024-05-30 15:25:00,516 [  26328]   WARN - #c.i.o.a.i.ActionUpdater - 365 ms to grab EDT for JoinCallAction#Update@MainToolbar (com.jetbrains.rd.platform.codeWithMe.telephony.JoinCallAction)\n",
      "2024-05-30 15:25:00,521 [  26333]   WARN - #c.i.o.a.i.ActionUpdater - 341 ms to grab EDT for ToolWindowHeader$2#Update@ToolwindowTitle (com.intellij.toolWindow.ToolWindowHeader$2)\n",
      "2024-05-30 15:25:00,525 [  26337]   WARN - #c.i.o.a.i.ActionUpdater - 340 ms to grab EDT for EditorMarkupModelImpl$TrafficLightAction#Update@EditorInspectionsToolbar (com.intellij.openapi.editor.impl.EditorMarkupModelImpl$TrafficLightAction)\n",
      "2024-05-30 15:25:00,526 [  26338]   WARN - #c.i.o.a.i.ActionUpdater - 340 ms to grab EDT for EditorMarkupModelImpl$1#Update@EditorInspectionsToolbar (com.intellij.openapi.editor.impl.EditorMarkupModelImpl$1)\n",
      "2024-05-30 15:25:00,528 [  26340]   WARN - #c.i.o.a.i.ActionUpdater - 340 ms to grab EDT for FontEditorPreview$ToggleBoldFontAction#Update@ContextToolbar (com.intellij.application.options.colors.FontEditorPreview$ToggleBoldFontAction)\n",
      "2024-05-30 15:25:00,529 [  26341]   WARN - #c.i.o.a.i.ActionUpdater - 340 ms to grab EDT for ReviewModeActionGroup#Update@EditorInspectionsToolbar (org.jetbrains.plugins.gitlab.mergerequest.ui.editor.action.ReviewModeActionGroup)\n",
      "2024-05-30 15:25:00,527 [  26339]   WARN - #c.i.o.a.i.ActionUpdater - 340 ms to grab EDT for FontEditorPreview$RestorePreviewTextAction#Update@ContextToolbar (com.intellij.application.options.colors.FontEditorPreview$RestorePreviewTextAction)\n",
      "2024-05-30 15:25:00,534 [  26346]   WARN - #c.i.o.a.i.ActionUpdater - 5858 ms total to grab EDT 5 times to expand ToolWindowHeader$2@ToolwindowTitle (com.intellij.toolWindow.ToolWindowHeader$2). Use `ActionUpdateThread.BGT`.\n",
      "2024-05-30 15:25:01,092 [  26904]   WARN - #c.i.o.a.i.ActionUpdater - 323 ms to grab EDT for DockToolWindowAction#Update@ToolwindowTitle (com.intellij.openapi.wm.impl.DockToolWindowAction)\n",
      "2024-05-30 15:25:01,093 [  26905]   WARN - #c.i.o.a.i.ActionUpdater - 324 ms to grab EDT for ExpandAllAction#Update@ToolwindowTitle (com.intellij.ide.actions.ExpandAllAction)\n",
      "2024-05-30 15:25:01,093 [  26905]   WARN - #c.i.o.a.i.ActionUpdater - 324 ms to grab EDT for CollapseAllAction#Update@ToolwindowTitle (com.intellij.ide.actions.CollapseAllAction)\n",
      "2024-05-30 15:25:36,138 [  61950]   WARN - #c.i.u.x.Binding - no accessors for com.intellij.ide.util.TipsUsageManager$State\n",
      "15:28:34.600 INFO [LocalDistributor.newSession] - Session request received by the Distributor: \n",
      " [Capabilities {browserName: chrome}]\n",
      "15:28:36.187 INFO [LocalNode.newSession] - Session created by the Node. Id: df4e4c59107957b90daccd2501243203, Caps: Capabilities {acceptInsecureCerts: false, browserName: chrome, browserVersion: 121.0.6167.184, chrome: {chromedriverVersion: 121.0.6167.184 (057a8ae7deb..., userDataDir: /tmp/.org.chromium.Chromium...}, fedcm:accounts: true, goog:chromeOptions: {debuggerAddress: localhost:35853}, networkConnectionEnabled: false, pageLoadStrategy: normal, platformName: linux, proxy: Proxy(), se:bidiEnabled: false, se:cdp: ws://172.17.0.1:4444/sessio..., se:cdpVersion: 121.0.6167.184, setWindowRect: true, strictFileInteractability: false, timeouts: {implicit: 0, pageLoad: 300000, script: 30000}, unhandledPromptBehavior: dismiss and notify, webauthn:extension:credBlob: true, webauthn:extension:largeBlob: true, webauthn:extension:minPinLength: true, webauthn:extension:prf: true, webauthn:virtualAuthenticators: true}\n",
      "15:28:36.190 INFO [LocalDistributor.newSession] - Session created by the Distributor. Id: df4e4c59107957b90daccd2501243203 \n",
      " Caps: Capabilities {acceptInsecureCerts: false, browserName: chrome, browserVersion: 121.0.6167.184, chrome: {chromedriverVersion: 121.0.6167.184 (057a8ae7deb..., userDataDir: /tmp/.org.chromium.Chromium...}, fedcm:accounts: true, goog:chromeOptions: {debuggerAddress: localhost:35853}, networkConnectionEnabled: false, pageLoadStrategy: normal, platformName: linux, proxy: Proxy(), se:bidiEnabled: false, se:cdp: ws://172.17.0.1:4444/sessio..., se:cdpVersion: 121.0.6167.184, setWindowRect: true, strictFileInteractability: false, timeouts: {implicit: 0, pageLoad: 300000, script: 30000}, unhandledPromptBehavior: dismiss and notify, webauthn:extension:credBlob: true, webauthn:extension:largeBlob: true, webauthn:extension:minPinLength: true, webauthn:extension:prf: true, webauthn:virtualAuthenticators: true}\n"
     ]
    }
   ],
   "source": [
    "! phpstorm ."
   ]
  },
  {
   "cell_type": "markdown",
   "metadata": {},
   "source": [
    "Stop the services:"
   ]
  },
  {
   "cell_type": "code",
   "execution_count": 155,
   "metadata": {},
   "outputs": [],
   "source": [
    "! killall php php8.3"
   ]
  },
  {
   "cell_type": "code",
   "execution_count": 156,
   "metadata": {},
   "outputs": [],
   "source": [
    "seleniumServer.kill()"
   ]
  },
  {
   "cell_type": "code",
   "execution_count": 157,
   "metadata": {},
   "outputs": [
    {
     "name": "stdout",
     "output_type": "stream",
     "text": [
      "/home/student/php_2024_piotr_zycki/09_laravel_tdd\n"
     ]
    }
   ],
   "source": [
    "%cd .."
   ]
  },
  {
   "cell_type": "markdown",
   "metadata": {},
   "source": [
    "Stop database:"
   ]
  },
  {
   "cell_type": "code",
   "execution_count": 158,
   "metadata": {},
   "outputs": [
    {
     "name": "stdout",
     "output_type": "stream",
     "text": [
      "mysql\n"
     ]
    }
   ],
   "source": [
    "! docker container stop mysql"
   ]
  },
  {
   "cell_type": "code",
   "execution_count": null,
   "metadata": {},
   "outputs": [],
   "source": []
  }
 ],
 "metadata": {
  "kernelspec": {
   "display_name": "Python 3 (ipykernel)",
   "language": "python",
   "name": "python3"
  },
  "language_info": {
   "codemirror_mode": {
    "name": "ipython",
    "version": 3
   },
   "file_extension": ".py",
   "mimetype": "text/x-python",
   "name": "python",
   "nbconvert_exporter": "python",
   "pygments_lexer": "ipython3",
   "version": "3.11.5"
  }
 },
 "nbformat": 4,
 "nbformat_minor": 4
}
