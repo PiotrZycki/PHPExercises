{
 "cells": [
  {
   "cell_type": "markdown",
   "metadata": {},
   "source": [
    "# PHP"
   ]
  },
  {
   "cell_type": "markdown",
   "metadata": {},
   "source": [
    "## 6. Dependency Manager"
   ]
  },
  {
   "cell_type": "markdown",
   "metadata": {},
   "source": [
    "### 6.2 Exercise"
   ]
  },
  {
   "cell_type": "markdown",
   "metadata": {},
   "source": [
    "Configure ```Composer```, add ```predis/predis``` package and implement the ```RedisStorage``` class."
   ]
  },
  {
   "cell_type": "markdown",
   "metadata": {},
   "source": [
    "Start the databses:"
   ]
  },
  {
   "cell_type": "code",
   "execution_count": 5,
   "metadata": {},
   "outputs": [
    {
     "name": "stdout",
     "output_type": "stream",
     "text": [
      "36898c3ee6b3ff91e6254d90e77a02071f4643f7e63a34490fc273ede089fcc6\n"
     ]
    }
   ],
   "source": [
    "! docker run --net=host --rm --name redis -d redis"
   ]
  },
  {
   "cell_type": "code",
   "execution_count": 6,
   "metadata": {},
   "outputs": [
    {
     "name": "stdout",
     "output_type": "stream",
     "text": [
      "bff7dc333517c11298790073cbb58597226aaa53973ea2f870fce46253850ae6\n"
     ]
    }
   ],
   "source": [
    "! docker run --name=mysql --net=host --rm --env MYSQL_ROOT_PASSWORD=root123 --env MYSQL_DATABASE=test --env MYSQL_USER=test --env MYSQL_PASSWORD=test123 -d mysql/mysql-server:8.0"
   ]
  },
  {
   "cell_type": "code",
   "execution_count": 7,
   "metadata": {},
   "outputs": [
    {
     "name": "stdout",
     "output_type": "stream",
     "text": [
      "Done.\n"
     ]
    }
   ],
   "source": [
    "! while ! timeout 1 bash -c \"echo > /dev/tcp/localhost/6379\" 2> /dev/null; do sleep 1; done; echo \"Done.\";"
   ]
  },
  {
   "cell_type": "code",
   "execution_count": 8,
   "metadata": {},
   "outputs": [
    {
     "name": "stdout",
     "output_type": "stream",
     "text": [
      "Done.\n"
     ]
    }
   ],
   "source": [
    "! while ! timeout 1 bash -c \"echo > /dev/tcp/localhost/3306\" 2> /dev/null; do sleep 1; done; echo \"Done.\";"
   ]
  },
  {
   "cell_type": "markdown",
   "metadata": {},
   "source": [
    "Install the checkers:"
   ]
  },
  {
   "cell_type": "code",
   "execution_count": 9,
   "metadata": {},
   "outputs": [
    {
     "name": "stdout",
     "output_type": "stream",
     "text": [
      "\u001b[32mChanged current directory to /home/student/.composer\u001b[39m\n",
      "\u001b[32m./composer.json has been created\u001b[39m\n",
      "\u001b[32mRunning composer update friendsofphp/php-cs-fixer phpstan/phpstan sebastian/phpcpd\u001b[39m\n",
      "\u001b[32mLoading composer repositories with package information\u001b[39m\n",
      "\u001b[32mUpdating dependencies\u001b[39m\n",
      "\u001b[32mLock file operations: 31 installs, 0 updates, 0 removals\u001b[39m\n",
      "  - Locking \u001b[32mcomposer/pcre\u001b[39m (\u001b[33m3.1.3\u001b[39m)\n",
      "  - Locking \u001b[32mcomposer/semver\u001b[39m (\u001b[33m3.4.0\u001b[39m)\n",
      "  - Locking \u001b[32mcomposer/xdebug-handler\u001b[39m (\u001b[33m3.0.4\u001b[39m)\n",
      "  - Locking \u001b[32mfriendsofphp/php-cs-fixer\u001b[39m (\u001b[33mv3.54.0\u001b[39m)\n",
      "  - Locking \u001b[32mphpstan/phpstan\u001b[39m (\u001b[33m1.10.67\u001b[39m)\n",
      "  - Locking \u001b[32mphpunit/php-file-iterator\u001b[39m (\u001b[33m3.0.6\u001b[39m)\n",
      "  - Locking \u001b[32mphpunit/php-timer\u001b[39m (\u001b[33m5.0.3\u001b[39m)\n",
      "  - Locking \u001b[32mpsr/container\u001b[39m (\u001b[33m2.0.2\u001b[39m)\n",
      "  - Locking \u001b[32mpsr/event-dispatcher\u001b[39m (\u001b[33m1.0.0\u001b[39m)\n",
      "  - Locking \u001b[32mpsr/log\u001b[39m (\u001b[33m3.0.0\u001b[39m)\n",
      "  - Locking \u001b[32msebastian/cli-parser\u001b[39m (\u001b[33m1.0.2\u001b[39m)\n",
      "  - Locking \u001b[32msebastian/diff\u001b[39m (\u001b[33m6.0.1\u001b[39m)\n",
      "  - Locking \u001b[32msebastian/phpcpd\u001b[39m (\u001b[33m6.0.3\u001b[39m)\n",
      "  - Locking \u001b[32msebastian/version\u001b[39m (\u001b[33m3.0.2\u001b[39m)\n",
      "  - Locking \u001b[32msymfony/console\u001b[39m (\u001b[33mv7.0.6\u001b[39m)\n",
      "  - Locking \u001b[32msymfony/deprecation-contracts\u001b[39m (\u001b[33mv3.4.0\u001b[39m)\n",
      "  - Locking \u001b[32msymfony/event-dispatcher\u001b[39m (\u001b[33mv7.0.3\u001b[39m)\n",
      "  - Locking \u001b[32msymfony/event-dispatcher-contracts\u001b[39m (\u001b[33mv3.4.2\u001b[39m)\n",
      "  - Locking \u001b[32msymfony/filesystem\u001b[39m (\u001b[33mv7.0.6\u001b[39m)\n",
      "  - Locking \u001b[32msymfony/finder\u001b[39m (\u001b[33mv7.0.0\u001b[39m)\n",
      "  - Locking \u001b[32msymfony/options-resolver\u001b[39m (\u001b[33mv7.0.0\u001b[39m)\n",
      "  - Locking \u001b[32msymfony/polyfill-ctype\u001b[39m (\u001b[33mv1.29.0\u001b[39m)\n",
      "  - Locking \u001b[32msymfony/polyfill-intl-grapheme\u001b[39m (\u001b[33mv1.29.0\u001b[39m)\n",
      "  - Locking \u001b[32msymfony/polyfill-intl-normalizer\u001b[39m (\u001b[33mv1.29.0\u001b[39m)\n",
      "  - Locking \u001b[32msymfony/polyfill-mbstring\u001b[39m (\u001b[33mv1.29.0\u001b[39m)\n",
      "  - Locking \u001b[32msymfony/polyfill-php80\u001b[39m (\u001b[33mv1.29.0\u001b[39m)\n",
      "  - Locking \u001b[32msymfony/polyfill-php81\u001b[39m (\u001b[33mv1.29.0\u001b[39m)\n",
      "  - Locking \u001b[32msymfony/process\u001b[39m (\u001b[33mv7.0.4\u001b[39m)\n",
      "  - Locking \u001b[32msymfony/service-contracts\u001b[39m (\u001b[33mv3.4.2\u001b[39m)\n",
      "  - Locking \u001b[32msymfony/stopwatch\u001b[39m (\u001b[33mv7.0.3\u001b[39m)\n",
      "  - Locking \u001b[32msymfony/string\u001b[39m (\u001b[33mv7.0.4\u001b[39m)\n",
      "\u001b[32mWriting lock file\u001b[39m\n",
      "\u001b[32mInstalling dependencies from lock file (including require-dev)\u001b[39m\n",
      "\u001b[32mPackage operations: 31 installs, 0 updates, 0 removals\u001b[39m\n",
      "  - Downloading \u001b[32mcomposer/pcre\u001b[39m (\u001b[33m3.1.3\u001b[39m)\n",
      "  - Downloading \u001b[32msymfony/service-contracts\u001b[39m (\u001b[33mv3.4.2\u001b[39m)\n",
      "  - Downloading \u001b[32msymfony/stopwatch\u001b[39m (\u001b[33mv7.0.3\u001b[39m)\n",
      "  - Downloading \u001b[32msymfony/process\u001b[39m (\u001b[33mv7.0.4\u001b[39m)\n",
      "  - Downloading \u001b[32msymfony/polyfill-php81\u001b[39m (\u001b[33mv1.29.0\u001b[39m)\n",
      "  - Downloading \u001b[32msymfony/options-resolver\u001b[39m (\u001b[33mv7.0.0\u001b[39m)\n",
      "  - Downloading \u001b[32msymfony/finder\u001b[39m (\u001b[33mv7.0.0\u001b[39m)\n",
      "  - Downloading \u001b[32msymfony/filesystem\u001b[39m (\u001b[33mv7.0.6\u001b[39m)\n",
      "  - Downloading \u001b[32mpsr/event-dispatcher\u001b[39m (\u001b[33m1.0.0\u001b[39m)\n",
      "  - Downloading \u001b[32msymfony/event-dispatcher-contracts\u001b[39m (\u001b[33mv3.4.2\u001b[39m)\n",
      "  - Downloading \u001b[32msymfony/event-dispatcher\u001b[39m (\u001b[33mv7.0.3\u001b[39m)\n",
      "  - Downloading \u001b[32msymfony/string\u001b[39m (\u001b[33mv7.0.4\u001b[39m)\n",
      "  - Downloading \u001b[32msymfony/console\u001b[39m (\u001b[33mv7.0.6\u001b[39m)\n",
      "  - Downloading \u001b[32msebastian/diff\u001b[39m (\u001b[33m6.0.1\u001b[39m)\n",
      "  - Downloading \u001b[32mcomposer/xdebug-handler\u001b[39m (\u001b[33m3.0.4\u001b[39m)\n",
      "  - Downloading \u001b[32mcomposer/semver\u001b[39m (\u001b[33m3.4.0\u001b[39m)\n",
      "  - Downloading \u001b[32mfriendsofphp/php-cs-fixer\u001b[39m (\u001b[33mv3.54.0\u001b[39m)\n",
      "  - Downloading \u001b[32mphpstan/phpstan\u001b[39m (\u001b[33m1.10.67\u001b[39m)\n",
      "  - Downloading \u001b[32msebastian/version\u001b[39m (\u001b[33m3.0.2\u001b[39m)\n",
      "  - Downloading \u001b[32msebastian/cli-parser\u001b[39m (\u001b[33m1.0.2\u001b[39m)\n",
      "  - Downloading \u001b[32mphpunit/php-timer\u001b[39m (\u001b[33m5.0.3\u001b[39m)\n",
      "  - Downloading \u001b[32mphpunit/php-file-iterator\u001b[39m (\u001b[33m3.0.6\u001b[39m)\n",
      "  - Downloading \u001b[32msebastian/phpcpd\u001b[39m (\u001b[33m6.0.3\u001b[39m)\n",
      "  0/23 [>---------------------------]   0%\u001b[1G\u001b[2K 10/23 [============>---------------]  43%\u001b[1G\u001b[2K 12/23 [==============>-------------]  52%\u001b[1G\u001b[2K 16/23 [===================>--------]  69%\u001b[1G\u001b[2K 19/23 [=======================>----]  82%\u001b[1G\u001b[2K 23/23 [============================] 100%\u001b[1G\u001b[2K  - Installing \u001b[32mcomposer/pcre\u001b[39m (\u001b[33m3.1.3\u001b[39m): Extracting archive\n",
      "  - Installing \u001b[32mpsr/container\u001b[39m (\u001b[33m2.0.2\u001b[39m): Extracting archive\n",
      "  - Installing \u001b[32msymfony/service-contracts\u001b[39m (\u001b[33mv3.4.2\u001b[39m): Extracting archive\n",
      "  - Installing \u001b[32msymfony/stopwatch\u001b[39m (\u001b[33mv7.0.3\u001b[39m): Extracting archive\n",
      "  - Installing \u001b[32msymfony/process\u001b[39m (\u001b[33mv7.0.4\u001b[39m): Extracting archive\n",
      "  - Installing \u001b[32msymfony/polyfill-php81\u001b[39m (\u001b[33mv1.29.0\u001b[39m): Extracting archive\n",
      "  - Installing \u001b[32msymfony/polyfill-php80\u001b[39m (\u001b[33mv1.29.0\u001b[39m): Extracting archive\n",
      "  - Installing \u001b[32msymfony/polyfill-mbstring\u001b[39m (\u001b[33mv1.29.0\u001b[39m): Extracting archive\n",
      "  - Installing \u001b[32msymfony/deprecation-contracts\u001b[39m (\u001b[33mv3.4.0\u001b[39m): Extracting archive\n",
      "  - Installing \u001b[32msymfony/options-resolver\u001b[39m (\u001b[33mv7.0.0\u001b[39m): Extracting archive\n",
      "  - Installing \u001b[32msymfony/finder\u001b[39m (\u001b[33mv7.0.0\u001b[39m): Extracting archive\n",
      "  - Installing \u001b[32msymfony/polyfill-ctype\u001b[39m (\u001b[33mv1.29.0\u001b[39m): Extracting archive\n",
      "  - Installing \u001b[32msymfony/filesystem\u001b[39m (\u001b[33mv7.0.6\u001b[39m): Extracting archive\n",
      "  - Installing \u001b[32mpsr/event-dispatcher\u001b[39m (\u001b[33m1.0.0\u001b[39m): Extracting archive\n",
      "  - Installing \u001b[32msymfony/event-dispatcher-contracts\u001b[39m (\u001b[33mv3.4.2\u001b[39m): Extracting archive\n",
      "  - Installing \u001b[32msymfony/event-dispatcher\u001b[39m (\u001b[33mv7.0.3\u001b[39m): Extracting archive\n",
      "  - Installing \u001b[32msymfony/polyfill-intl-normalizer\u001b[39m (\u001b[33mv1.29.0\u001b[39m): Extracting archive\n",
      "  - Installing \u001b[32msymfony/polyfill-intl-grapheme\u001b[39m (\u001b[33mv1.29.0\u001b[39m): Extracting archive\n",
      "  - Installing \u001b[32msymfony/string\u001b[39m (\u001b[33mv7.0.4\u001b[39m): Extracting archive\n",
      "  - Installing \u001b[32msymfony/console\u001b[39m (\u001b[33mv7.0.6\u001b[39m): Extracting archive\n",
      "  - Installing \u001b[32msebastian/diff\u001b[39m (\u001b[33m6.0.1\u001b[39m): Extracting archive\n",
      "  - Installing \u001b[32mpsr/log\u001b[39m (\u001b[33m3.0.0\u001b[39m): Extracting archive\n",
      "  - Installing \u001b[32mcomposer/xdebug-handler\u001b[39m (\u001b[33m3.0.4\u001b[39m): Extracting archive\n",
      "  - Installing \u001b[32mcomposer/semver\u001b[39m (\u001b[33m3.4.0\u001b[39m): Extracting archive\n",
      "  - Installing \u001b[32mfriendsofphp/php-cs-fixer\u001b[39m (\u001b[33mv3.54.0\u001b[39m): Extracting archive\n",
      "  - Installing \u001b[32mphpstan/phpstan\u001b[39m (\u001b[33m1.10.67\u001b[39m): Extracting archive\n",
      "  - Installing \u001b[32msebastian/version\u001b[39m (\u001b[33m3.0.2\u001b[39m): Extracting archive\n",
      "  - Installing \u001b[32msebastian/cli-parser\u001b[39m (\u001b[33m1.0.2\u001b[39m): Extracting archive\n",
      "  - Installing \u001b[32mphpunit/php-timer\u001b[39m (\u001b[33m5.0.3\u001b[39m): Extracting archive\n",
      "  - Installing \u001b[32mphpunit/php-file-iterator\u001b[39m (\u001b[33m3.0.6\u001b[39m): Extracting archive\n",
      "  - Installing \u001b[32msebastian/phpcpd\u001b[39m (\u001b[33m6.0.3\u001b[39m): Extracting archive\n",
      "  0/31 [>---------------------------]   0%\u001b[1G\u001b[2K 26/31 [=======================>----]  83%\u001b[1G\u001b[2K 30/31 [===========================>]  96%\u001b[1G\u001b[2K 31/31 [============================] 100%\u001b[1G\u001b[2K\u001b[32m2 package suggestions were added by new dependencies, use `composer suggest` to see details.\u001b[39m\n",
      "\u001b[30;43mPackage sebastian/phpcpd is abandoned, you should avoid using it. No replacement was suggested.\u001b[39;49m\n",
      "\u001b[32mGenerating autoload files\u001b[39m\n",
      "\u001b[32m28 packages you are using are looking for funding.\u001b[39m\n",
      "\u001b[32mUse the `composer fund` command to find out more!\u001b[39m\n",
      "\u001b[32mNo security vulnerability advisories found.\u001b[39m\n",
      "Using version \u001b[32m^3.54\u001b[39m for \u001b[32mfriendsofphp/php-cs-fixer\u001b[39m\n",
      "Using version \u001b[32m^1.10\u001b[39m for \u001b[32mphpstan/phpstan\u001b[39m\n",
      "Using version \u001b[32m^6.0\u001b[39m for \u001b[32msebastian/phpcpd\u001b[39m\n"
     ]
    }
   ],
   "source": [
    "! composer global require friendsofphp/php-cs-fixer phpstan/phpstan sebastian/phpcpd --dev"
   ]
  },
  {
   "cell_type": "markdown",
   "metadata": {},
   "source": [
    "Install dependencies:"
   ]
  },
  {
   "cell_type": "code",
   "execution_count": 10,
   "metadata": {},
   "outputs": [
    {
     "name": "stdout",
     "output_type": "stream",
     "text": [
      "\u001b[32mInstalling dependencies from lock file (including require-dev)\u001b[39m\n",
      "\u001b[32mVerifying lock file contents can be installed on current platform.\u001b[39m\n",
      "\u001b[30;43mWarning: The lock file is not up to date with the latest changes in composer.json. You may be getting outdated dependencies. It is recommended that you run `composer update` or `composer update \u001b[39;49m\u001b[30;43m<package name>\u001b[39;49m\u001b[30;43m`.\u001b[39;49m\n",
      "\u001b[32mPackage operations: 1 install, 0 updates, 0 removals\u001b[39m\n",
      "  - Downloading \u001b[32mpredis/predis\u001b[39m (\u001b[33mv2.2.2\u001b[39m)\n",
      "  - Installing \u001b[32mpredis/predis\u001b[39m (\u001b[33mv2.2.2\u001b[39m): Extracting archive\n",
      "\u001b[32mGenerating autoload files\u001b[39m\n",
      "\u001b[32m1 package you are using is looking for funding.\u001b[39m\n",
      "\u001b[32mUse the `composer fund` command to find out more!\u001b[39m\n"
     ]
    }
   ],
   "source": [
    "! cd project && composer install"
   ]
  },
  {
   "cell_type": "markdown",
   "metadata": {},
   "source": [
    "Check the coding standard:"
   ]
  },
  {
   "cell_type": "code",
   "execution_count": 27,
   "metadata": {},
   "outputs": [
    {
     "name": "stdout",
     "output_type": "stream",
     "text": [
      "PHP CS Fixer \u001b[32m3.54.0\u001b[39m \u001b[32m15 Keys Accelerate\u001b[39m by \u001b[33mFabien Potencier\u001b[39m, \u001b[33mDariusz Ruminski\u001b[39m and \u001b[33mcontributors\u001b[39m.\n",
      "PHP runtime: \u001b[32m8.3.0-1ubuntu1\u001b[39m\n",
      "Loaded config \u001b[33mdefault\u001b[39m.\n",
      "Using cache file \".php-cs-fixer.cache\".\n",
      "  0/15 [░░░░░░░░░░░░░░░░░░░░░░░░░░░░]   0%\u001b[1G\u001b[2K  5/15 [▓▓▓▓▓▓▓▓▓░░░░░░░░░░░░░░░░░░░]  33%\u001b[1G\u001b[2K 15/15 [▓▓▓▓▓▓▓▓▓▓▓▓▓▓▓▓▓▓▓▓▓▓▓▓▓▓▓▓] 100%\n",
      "\n",
      "\n",
      "Found 0 of 15 files that can be fixed in 0.026 seconds, 14.000 MB memory used\n"
     ]
    }
   ],
   "source": [
    "! cd project && ~/.composer/vendor/bin/php-cs-fixer fix --diff --dry-run ."
   ]
  },
  {
   "cell_type": "markdown",
   "metadata": {},
   "source": [
    "Run the static analysis:"
   ]
  },
  {
   "cell_type": "code",
   "execution_count": 26,
   "metadata": {},
   "outputs": [
    {
     "name": "stdout",
     "output_type": "stream",
     "text": [
      "  0/15 [░░░░░░░░░░░░░░░░░░░░░░░░░░░░]   0%\u001b[1G\u001b[2K 15/15 [▓▓▓▓▓▓▓▓▓▓▓▓▓▓▓▓▓▓▓▓▓▓▓▓▓▓▓▓] 100%\n",
      "\n",
      "\n",
      "\u001b[30;42m                                                                                \u001b[39;49m\n",
      "\u001b[30;42m [OK] No errors                                                                 \u001b[39;49m\n",
      "\u001b[30;42m                                                                                \u001b[39;49m\n",
      "\n"
     ]
    }
   ],
   "source": [
    "! cd project && ~/.composer/vendor/bin/phpstan analyze --level max public/ src/"
   ]
  },
  {
   "cell_type": "markdown",
   "metadata": {},
   "source": [
    "You can test your solution using included tests:"
   ]
  },
  {
   "cell_type": "code",
   "execution_count": 28,
   "metadata": {},
   "outputs": [
    {
     "name": "stderr",
     "output_type": "stream",
     "text": [
      "[Thu Apr 18 14:35:57 2024] PHP 8.3.0-1ubuntu1 Development Server (http://localhost:8888) started\n"
     ]
    }
   ],
   "source": [
    "import subprocess\n",
    "phpServer = subprocess.Popen(['php', '-S', 'localhost:8888', '-t', 'project/public'])"
   ]
  },
  {
   "cell_type": "code",
   "execution_count": 29,
   "metadata": {},
   "outputs": [
    {
     "name": "stdout",
     "output_type": "stream",
     "text": [
      "\u001b[32mInstalling dependencies from lock file (including require-dev)\u001b[39m\n",
      "\u001b[32mVerifying lock file contents can be installed on current platform.\u001b[39m\n",
      "Nothing to install, update or remove\n",
      "\u001b[32mGenerating autoload files\u001b[39m\n",
      "\u001b[32m44 packages you are using are looking for funding.\u001b[39m\n",
      "\u001b[32mUse the `composer fund` command to find out more!\u001b[39m\n",
      "Codeception PHP Testing Framework v5.1.0 https://stand-with-ukraine.pp.ua\n",
      "\n",
      "\u001b[1mTests.Acceptance Tests (6) \u001b[22m-----------------------------------------------------\n",
      "\u001b[32;1m✔\u001b[39;22m \u001b[35;1mTest01_FileStorageCest:\u001b[39;22m Test\u001b[32m(0.05s)\u001b[39m\n",
      "\u001b[32;1m✔\u001b[39;22m \u001b[35;1mTest02_SessionStorageCest:\u001b[39;22m Test\u001b[32m(0.01s)\u001b[39m\n",
      "\u001b[32;1m✔\u001b[39;22m \u001b[35;1mTest03_SQLiteStorageCest:\u001b[39;22m Test\u001b[32m(0.11s)\u001b[39m\n",
      "- \u001b[35;1mTest04_MySQLStorageCest:\u001b[39;22m Test"
     ]
    },
    {
     "name": "stderr",
     "output_type": "stream",
     "text": [
      "[Thu Apr 18 14:35:59 2024] [::1]:40132 Accepted\n",
      "[Thu Apr 18 14:35:59 2024] [::1]:40132 [200]: GET /FileStorage\n",
      "[Thu Apr 18 14:35:59 2024] [::1]:40132 Closing\n",
      "[Thu Apr 18 14:35:59 2024] [::1]:40146 Accepted\n",
      "[Thu Apr 18 14:35:59 2024] [::1]:40146 [200]: GET /SessionStorage\n",
      "[Thu Apr 18 14:35:59 2024] [::1]:40146 Closing\n",
      "[Thu Apr 18 14:35:59 2024] [::1]:40152 Accepted\n",
      "[Thu Apr 18 14:35:59 2024] [::1]:40152 [200]: GET /SQLiteStorage\n",
      "[Thu Apr 18 14:35:59 2024] [::1]:40152 Closing\n",
      "[Thu Apr 18 14:35:59 2024] [::1]:40154 Accepted\n",
      "[Thu Apr 18 14:36:00 2024] [::1]:40154 [200]: GET /MySQLStorage\n",
      "[Thu Apr 18 14:36:00 2024] [::1]:40154 Closing\n",
      "[Thu Apr 18 14:36:00 2024] [::1]:40164 Accepted\n"
     ]
    },
    {
     "name": "stdout",
     "output_type": "stream",
     "text": [
      "\u001b[32;1m✔\u001b[39;22m \u001b[35;1mTest04_MySQLStorageCest:\u001b[39;22m Test\u001b[32m(0.41s)\u001b[39m\n",
      "\u001b[32;1m✔\u001b[39;22m \u001b[35;1mTest05_InteractionsCest:\u001b[39;22m Test\u001b[32m(0.11s)\u001b[39m\n",
      "\u001b[32;1m✔\u001b[39;22m \u001b[35;1mTest06_RedisStorageCest:\u001b[39;22m Test\u001b[32m(0.04s)\u001b[39m\n",
      "--------------------------------------------------------------------------------\n",
      "Time: 00:00.859, Memory: 16.00 MB\n",
      "\n",
      "\u001b[30;42mOK (6 tests, 148 assertions)\u001b[39;49m\n"
     ]
    },
    {
     "name": "stderr",
     "output_type": "stream",
     "text": [
      "[Thu Apr 18 14:36:00 2024] [::1]:40164 [200]: GET /MySQLStorage\n",
      "[Thu Apr 18 14:36:00 2024] [::1]:40164 Closing\n",
      "[Thu Apr 18 14:36:00 2024] [::1]:40172 Accepted\n",
      "[Thu Apr 18 14:36:00 2024] [::1]:40172 [200]: GET /SQLiteStorage\n",
      "[Thu Apr 18 14:36:00 2024] [::1]:40172 Closing\n",
      "[Thu Apr 18 14:36:00 2024] [::1]:40186 Accepted\n",
      "[Thu Apr 18 14:36:00 2024] [::1]:40186 [200]: GET /FileStorage\n",
      "[Thu Apr 18 14:36:00 2024] [::1]:40186 Closing\n",
      "[Thu Apr 18 14:36:00 2024] [::1]:40202 Accepted\n",
      "[Thu Apr 18 14:36:00 2024] [::1]:40202 [200]: GET /RedisStorage\n",
      "[Thu Apr 18 14:36:00 2024] [::1]:40202 Closing\n"
     ]
    }
   ],
   "source": [
    "! cd tests && composer install && vendor/bin/codecept run"
   ]
  },
  {
   "cell_type": "code",
   "execution_count": 15,
   "metadata": {},
   "outputs": [],
   "source": [
    "phpServer.kill()"
   ]
  },
  {
   "cell_type": "markdown",
   "metadata": {},
   "source": [
    "Check for copy-paste:"
   ]
  },
  {
   "cell_type": "code",
   "execution_count": 25,
   "metadata": {},
   "outputs": [
    {
     "name": "stdout",
     "output_type": "stream",
     "text": [
      "phpcpd 6.0.3 by Sebastian Bergmann.\n",
      "\n",
      "No clones found.\n",
      "\n",
      "Time: 00:00.008, Memory: 2.00 MB\n"
     ]
    }
   ],
   "source": [
    "! cd project && ~/.composer/vendor/bin/phpcpd --fuzzy --min-lines 1 --min-tokens 12 public/ src/"
   ]
  },
  {
   "cell_type": "markdown",
   "metadata": {},
   "source": [
    "Edit the code:"
   ]
  },
  {
   "cell_type": "code",
   "execution_count": null,
   "metadata": {},
   "outputs": [
    {
     "name": "stdout",
     "output_type": "stream",
     "text": [
      "CompileCommand: exclude com/intellij/openapi/vfs/impl/FilePartNodeRoot.trieDescend bool exclude = true\n",
      "2024-04-18 14:48:19,484 [   1281]   WARN - #c.i.s.ComponentManagerImpl - `preload=true` must be used only for core services (service=com.intellij.ae.database.core.baseEvents.fus.AddStatisticsEventLogListenerTemporary, plugin=com.jetbrains.ae.database)\n",
      "2024-04-18 14:48:19,487 [   1284]   WARN - #c.i.s.ComponentManagerImpl - `preload=true` must be used only for core services (service=com.jetbrains.rdserver.statistics.BackendStatisticsManager, plugin=com.jetbrains.codeWithMe)\n",
      "2024-04-18 14:48:20,011 [   1808]   WARN - #c.i.s.ComponentManagerImpl - com.intellij.psi.search.FilenameIndex initializer requests com.intellij.ide.plugins.PluginUtil instance\n",
      "2024-04-18 14:48:21,080 [   2877]   WARN - #c.i.s.ComponentManagerImpl - com.intellij.lang.javascript.psi.jsdoc.impl.JSDocCustomTags initializer requests com.intellij.lang.javascript.JSDisposable instance\n",
      "2024-04-18 14:48:21,982 [   3779]   WARN - #c.i.o.v.n.p.d.e.DurableEnumeratorFactory - [enumerator.mmapped]: .valueToId map is out-of-sync with .valuesLog data -> rebuilding it\n",
      "2024-04-18 14:48:22,108 [   3905]   WARN - #c.i.s.ComponentManagerImpl - com.intellij.psi.LanguageSubstitutors initializer requests com.intellij.psi.LanguageSubstitutors instance\n",
      "2024-04-18 14:48:22,159 [   3956]   WARN - #c.i.s.ComponentManagerImpl - org.zmlx.hg4idea.provider.HgChangeProvider initializer requests com.intellij.openapi.vcs.FileStatusFactory instance\n",
      "2024-04-18 14:48:23,514 [   5311]   WARN - #c.i.o.a.i.ActionUpdater - 333 ms to grab EDT for ToolWindowHeader$2#Update@ToolwindowTitle (com.intellij.toolWindow.ToolWindowHeader$2)\n",
      "2024-04-18 14:48:24,884 [   6681]   WARN - #o.j.p.t.TextMateService - Cannot find referenced file `./language-configuration.json` in bundle `/opt/PhpStorm-233.14475.35/plugins/textmate/lib/bundles/mdx`\n",
      "2024-04-18 14:48:25,493 [   7290]   WARN - #c.i.o.a.i.ActionUpdater - 912 ms to grab EDT for ToolWindowHeader$2#Update@ToolwindowTitle (com.intellij.toolWindow.ToolWindowHeader$2)\n",
      "2024-04-18 14:48:28,137 [   9934]   WARN - #c.i.i.s.i.StartupManagerImpl - Migrate com.jetbrains.php.tools.quality.psalm.PsalmSettingsTransferStartupActivity to ProjectActivity [Plugin: com.intellij.php.psalm]\n",
      "com.intellij.diagnostic.PluginException: Migrate com.jetbrains.php.tools.quality.psalm.PsalmSettingsTransferStartupActivity to ProjectActivity [Plugin: com.intellij.php.psalm]\n",
      "\tat com.intellij.ide.startup.impl.StartupManagerImpl.runPostStartupActivities(StartupManagerImpl.kt:277)\n",
      "\tat com.intellij.ide.startup.impl.StartupManagerImpl.access$runPostStartupActivities(StartupManagerImpl.kt:69)\n",
      "\tat com.intellij.ide.startup.impl.StartupManagerImpl$runPostStartupActivities$3$2.invokeSuspend(StartupManagerImpl.kt:192)\n",
      "\tat com.intellij.ide.startup.impl.StartupManagerImpl$runPostStartupActivities$3$2.invoke(StartupManagerImpl.kt)\n",
      "\tat com.intellij.ide.startup.impl.StartupManagerImpl$runPostStartupActivities$3$2.invoke(StartupManagerImpl.kt)\n",
      "\tat kotlinx.coroutines.intrinsics.UndispatchedKt.startUndispatchedOrReturn(Undispatched.kt:78)\n",
      "\tat kotlinx.coroutines.BuildersKt__Builders_commonKt.withContext(Builders.common.kt:167)\n",
      "\tat kotlinx.coroutines.BuildersKt.withContext(Unknown Source)\n",
      "\tat com.intellij.ide.startup.impl.StartupManagerImpl$runPostStartupActivities$3.invokeSuspend(StartupManagerImpl.kt:191)\n",
      "\tat kotlin.coroutines.jvm.internal.BaseContinuationImpl.resumeWith(ContinuationImpl.kt:33)\n",
      "\tat kotlinx.coroutines.UndispatchedCoroutine.afterResume(CoroutineContext.kt:270)\n",
      "\tat kotlinx.coroutines.AbstractCoroutine.resumeWith(AbstractCoroutine.kt:102)\n",
      "\tat kotlin.coroutines.jvm.internal.BaseContinuationImpl.resumeWith(ContinuationImpl.kt:46)\n",
      "\tat kotlinx.coroutines.DispatchedTask.run(DispatchedTask.kt:108)\n",
      "\tat kotlinx.coroutines.scheduling.CoroutineScheduler.runSafely(CoroutineScheduler.kt:584)\n",
      "\tat kotlinx.coroutines.scheduling.CoroutineScheduler$Worker.executeTask(CoroutineScheduler.kt:793)\n",
      "\tat kotlinx.coroutines.scheduling.CoroutineScheduler$Worker.runWorker(CoroutineScheduler.kt:697)\n",
      "\tat kotlinx.coroutines.scheduling.CoroutineScheduler$Worker.run(CoroutineScheduler.kt:684)\n",
      "2024-04-18 14:48:28,145 [   9942]   WARN - #c.i.i.s.i.StartupManagerImpl - Migrate com.jetbrains.php.tools.quality.phpstan.PhpStanSettingsTransferStartupActivity to ProjectActivity [Plugin: com.intellij.php.tools.quality.phpstan]\n",
      "com.intellij.diagnostic.PluginException: Migrate com.jetbrains.php.tools.quality.phpstan.PhpStanSettingsTransferStartupActivity to ProjectActivity [Plugin: com.intellij.php.tools.quality.phpstan]\n",
      "\tat com.intellij.ide.startup.impl.StartupManagerImpl.runPostStartupActivities(StartupManagerImpl.kt:277)\n",
      "\tat com.intellij.ide.startup.impl.StartupManagerImpl.access$runPostStartupActivities(StartupManagerImpl.kt:69)\n",
      "\tat com.intellij.ide.startup.impl.StartupManagerImpl$runPostStartupActivities$3$2.invokeSuspend(StartupManagerImpl.kt:192)\n",
      "\tat com.intellij.ide.startup.impl.StartupManagerImpl$runPostStartupActivities$3$2.invoke(StartupManagerImpl.kt)\n",
      "\tat com.intellij.ide.startup.impl.StartupManagerImpl$runPostStartupActivities$3$2.invoke(StartupManagerImpl.kt)\n",
      "\tat kotlinx.coroutines.intrinsics.UndispatchedKt.startUndispatchedOrReturn(Undispatched.kt:78)\n",
      "\tat kotlinx.coroutines.BuildersKt__Builders_commonKt.withContext(Builders.common.kt:167)\n",
      "\tat kotlinx.coroutines.BuildersKt.withContext(Unknown Source)\n",
      "\tat com.intellij.ide.startup.impl.StartupManagerImpl$runPostStartupActivities$3.invokeSuspend(StartupManagerImpl.kt:191)\n",
      "\tat kotlin.coroutines.jvm.internal.BaseContinuationImpl.resumeWith(ContinuationImpl.kt:33)\n",
      "\tat kotlinx.coroutines.UndispatchedCoroutine.afterResume(CoroutineContext.kt:270)\n",
      "\tat kotlinx.coroutines.AbstractCoroutine.resumeWith(AbstractCoroutine.kt:102)\n",
      "\tat kotlin.coroutines.jvm.internal.BaseContinuationImpl.resumeWith(ContinuationImpl.kt:46)\n",
      "\tat kotlinx.coroutines.DispatchedTask.run(DispatchedTask.kt:108)\n",
      "\tat kotlinx.coroutines.scheduling.CoroutineScheduler.runSafely(CoroutineScheduler.kt:584)\n",
      "\tat kotlinx.coroutines.scheduling.CoroutineScheduler$Worker.executeTask(CoroutineScheduler.kt:793)\n",
      "\tat kotlinx.coroutines.scheduling.CoroutineScheduler$Worker.runWorker(CoroutineScheduler.kt:697)\n",
      "\tat kotlinx.coroutines.scheduling.CoroutineScheduler$Worker.run(CoroutineScheduler.kt:684)\n",
      "2024-04-18 14:48:28,342 [  10139]   WARN - #c.i.i.s.p.i.BundledSharedIndexPostStartupActivity - Skipped 1 pre-built shared indexes: bundled-js-predefined-1d06a55b98c1-985749b364ce-JavaScript-PS-233.14475.35\n",
      "2024-04-18 14:48:29,016 [  10813]   WARN - #c.i.s.ComponentManagerImpl - com.intellij.database.console.session.DatabaseSessionManager initializer requests com.intellij.database.console.session.DatabaseSessionViewService instance\n",
      "2024-04-18 14:48:30,745 [  12542]   WARN - #c.i.o.a.i.ActionUpdater - 469 ms to grab EDT for ToolWindowHeader$2#Update@ToolwindowTitle (com.intellij.toolWindow.ToolWindowHeader$2)\n",
      "2024-04-18 14:48:30,750 [  12547]   WARN - #c.i.o.a.i.ActionUpdater - 459 ms to grab EDT for EditorMarkupModelImpl$TrafficLightAction#Update@EditorInspectionsToolbar (com.intellij.openapi.editor.impl.EditorMarkupModelImpl$TrafficLightAction)\n",
      "2024-04-18 14:48:30,750 [  12547]   WARN - #c.i.o.a.i.ActionUpdater - 456 ms to grab EDT for EditorMarkupModelImpl$1#Update@EditorInspectionsToolbar (com.intellij.openapi.editor.impl.EditorMarkupModelImpl$1)\n",
      "2024-04-18 14:48:30,784 [  12581]   WARN - #c.i.o.a.i.ActionUpdater - 441 ms to grab EDT for ReviewModeActionGroup#Update@EditorInspectionsToolbar (org.jetbrains.plugins.gitlab.mergerequest.ui.editor.action.ReviewModeActionGroup)\n",
      "2024-04-18 14:48:30,784 [  12581]   WARN - #c.i.o.a.i.ActionUpdater - 441 ms to grab EDT for JoinCallAction#Update@MainToolbar (com.jetbrains.rd.platform.codeWithMe.telephony.JoinCallAction)\n",
      "2024-04-18 14:48:33,591 [  15388]   WARN - #c.j.p.PhpIndex - Invalid Signature '\\Webmozart\\Assert\\class-string<#ᢐ\\ExpectedType.>'\n",
      "2024-04-18 14:48:34,792 [  16589]   WARN - #c.j.p.PhpIndex - Invalid Signature '\\Webmozart\\Assert\\class-string<#ᢐ\\ExpectedType.>'\n",
      "2024-04-18 14:48:54,262 [  36059]   WARN - #c.j.p.PhpIndex - Invalid Signature '\\Webmozart\\Assert\\class-string<#ᢐ\\ExpectedType.>'\n",
      "2024-04-18 14:48:55,174 [  36971]   WARN - #c.i.s.ComponentManagerImpl - com.intellij.util.text.JBDateFormat initializer requests com.intellij.util.text.DateTimeFormatManager instance\n",
      "2024-04-18 14:49:03,908 [  45705]   WARN - #c.j.p.PhpIndex - Invalid Signature '\\Webmozart\\Assert\\class-string<#ᢐ\\ExpectedType.>'\n",
      "2024-04-18 14:49:05,988 [  47785]   WARN - #c.j.p.PhpIndex - Invalid Signature '\\Webmozart\\Assert\\class-string<#ᢐ\\ExpectedType.>'\n",
      "2024-04-18 14:49:19,204 [  61001]   WARN - #c.i.u.x.Binding - no accessors for com.intellij.ide.util.TipsUsageManager$State\n",
      "2024-04-18 14:50:10,960 [ 112757]   WARN - #c.j.p.PhpIndex - Invalid Signature '\\Webmozart\\Assert\\class-string<#ᢐ\\ExpectedType.>'\n",
      "2024-04-18 14:50:12,630 [ 114427]   WARN - #c.i.s.ComponentManagerImpl - com.intellij.psi.codeStyle.CodeStyleSettingsCustomizable initializer requests com.intellij.util.LocaleSensitiveApplicationCacheService instance\n",
      "2024-04-18 14:50:16,190 [ 117987]   WARN - #c.j.p.PhpIndex - Invalid Signature '\\Webmozart\\Assert\\class-string<#ᢐ\\ExpectedType.>'\n",
      "2024-04-18 15:00:05,747 [ 707544]   WARN - #c.j.p.PhpIndex - Invalid Signature '\\Webmozart\\Assert\\class-string<#ᢐ\\ExpectedType.>'\n",
      "2024-04-18 15:00:11,320 [ 713117]   WARN - #c.j.p.PhpIndex - Invalid Signature '\\Webmozart\\Assert\\class-string<#ᢐ\\ExpectedType.>'\n",
      "2024-04-18 15:00:11,708 [ 713505]   WARN - #c.j.p.PhpIndex - Invalid Signature '\\Webmozart\\Assert\\class-string<#ᢐ\\ExpectedType.>'\n",
      "2024-04-18 15:00:16,184 [ 717981]   WARN - #c.j.p.PhpIndex - Invalid Signature '\\Webmozart\\Assert\\class-string<#ᢐ\\ExpectedType.>'\n",
      "2024-04-18 15:00:16,709 [ 718506]   WARN - #c.j.p.PhpIndex - Invalid Signature '\\Webmozart\\Assert\\class-string<#ᢐ\\ExpectedType.>'\n",
      "2024-04-18 15:00:22,291 [ 724088]   WARN - #c.j.p.PhpIndex - Invalid Signature '\\Webmozart\\Assert\\class-string<#ᢐ\\ExpectedType.>'\n",
      "2024-04-18 15:00:24,042 [ 725839]   WARN - #c.i.s.ComponentManagerImpl - com.intellij.usages.UsageNodePresentation initializer requests com.intellij.usageView.UsageTreeColorsScheme instance\n",
      "2024-04-18 15:00:24,544 [ 726341]   WARN - #c.j.p.PhpIndex - Invalid Signature '\\Webmozart\\Assert\\class-string<#ᢐ\\ExpectedType.>'\n",
      "2024-04-18 15:00:26,578 [ 728375]   WARN - #c.j.p.PhpIndex - Invalid Signature '\\Webmozart\\Assert\\class-string<#ᢐ\\ExpectedType.>'\n",
      "2024-04-18 15:00:26,934 [ 728731]   WARN - #c.j.p.PhpIndex - Invalid Signature '\\Webmozart\\Assert\\class-string<#ᢐ\\ExpectedType.>'\n",
      "2024-04-18 15:00:27,767 [ 729564]   WARN - #c.j.p.PhpIndex - Invalid Signature '\\Webmozart\\Assert\\class-string<#ᢐ\\ExpectedType.>'\n",
      "2024-04-18 15:00:32,080 [ 733877]   WARN - #c.j.p.PhpIndex - Invalid Signature '\\Webmozart\\Assert\\class-string<#ᢐ\\ExpectedType.>'\n",
      "2024-04-18 15:00:33,156 [ 734953]   WARN - #c.j.p.PhpIndex - Invalid Signature '\\Webmozart\\Assert\\class-string<#ᢐ\\ExpectedType.>'\n",
      "2024-04-18 15:00:34,464 [ 736261]   WARN - #c.j.p.PhpIndex - Invalid Signature '\\Webmozart\\Assert\\class-string<#ᢐ\\ExpectedType.>'\n",
      "2024-04-18 15:00:35,177 [ 736974]   WARN - #c.j.p.PhpIndex - Invalid Signature '\\Webmozart\\Assert\\class-string<#ᢐ\\ExpectedType.>'\n",
      "2024-04-18 15:00:39,579 [ 741376]   WARN - #c.j.p.PhpIndex - Invalid Signature '\\Webmozart\\Assert\\class-string<#ᢐ\\ExpectedType.>'\n",
      "2024-04-18 15:00:39,935 [ 741732]   WARN - #c.j.p.PhpIndex - Invalid Signature '\\Webmozart\\Assert\\class-string<#ᢐ\\ExpectedType.>'\n",
      "2024-04-18 15:00:42,776 [ 744573]   WARN - #c.j.p.PhpIndex - Invalid Signature '\\Webmozart\\Assert\\class-string<#ᢐ\\ExpectedType.>'\n",
      "2024-04-18 15:00:44,560 [ 746357]   WARN - #c.j.p.PhpIndex - Invalid Signature '\\Webmozart\\Assert\\class-string<#ᢐ\\ExpectedType.>'\n",
      "2024-04-18 15:00:45,676 [ 747473]   WARN - #c.j.p.PhpIndex - Invalid Signature '\\Webmozart\\Assert\\class-string<#ᢐ\\ExpectedType.>'\n",
      "2024-04-18 15:00:46,259 [ 748056]   WARN - #c.j.p.PhpIndex - Invalid Signature '\\Webmozart\\Assert\\class-string<#ᢐ\\ExpectedType.>'\n",
      "2024-04-18 15:00:47,845 [ 749642]   WARN - #c.j.p.PhpIndex - Invalid Signature '\\Webmozart\\Assert\\class-string<#ᢐ\\ExpectedType.>'\n",
      "2024-04-18 15:00:48,880 [ 750677]   WARN - #c.j.p.PhpIndex - Invalid Signature '\\Webmozart\\Assert\\class-string<#ᢐ\\ExpectedType.>'\n",
      "2024-04-18 15:00:51,030 [ 752827]   WARN - #c.j.p.PhpIndex - Invalid Signature '\\Webmozart\\Assert\\class-string<#ᢐ\\ExpectedType.>'\n",
      "2024-04-18 15:00:52,639 [ 754436]   WARN - #c.j.p.PhpIndex - Invalid Signature '\\Webmozart\\Assert\\class-string<#ᢐ\\ExpectedType.>'\n",
      "2024-04-18 15:00:53,294 [ 755091]   WARN - #c.j.p.PhpIndex - Invalid Signature '\\Webmozart\\Assert\\class-string<#ᢐ\\ExpectedType.>'\n",
      "2024-04-18 15:00:54,933 [ 756730]   WARN - #c.j.p.PhpIndex - Invalid Signature '\\Webmozart\\Assert\\class-string<#ᢐ\\ExpectedType.>'\n",
      "2024-04-18 15:01:02,172 [ 763969]   WARN - #c.j.p.PhpIndex - Invalid Signature '\\Webmozart\\Assert\\class-string<#ᢐ\\ExpectedType.>'\n",
      "2024-04-18 15:01:05,661 [ 767458]   WARN - #c.j.p.PhpIndex - Invalid Signature '\\Webmozart\\Assert\\class-string<#ᢐ\\ExpectedType.>'\n",
      "2024-04-18 15:01:07,481 [ 769278]   WARN - #c.j.p.PhpIndex - Invalid Signature '\\Webmozart\\Assert\\class-string<#ᢐ\\ExpectedType.>'\n",
      "2024-04-18 15:01:10,071 [ 771868]   WARN - #c.j.p.PhpIndex - Invalid Signature '\\Webmozart\\Assert\\class-string<#ᢐ\\ExpectedType.>'\n",
      "2024-04-18 15:01:11,298 [ 773095]   WARN - #c.j.p.PhpIndex - Invalid Signature '\\Webmozart\\Assert\\class-string<#ᢐ\\ExpectedType.>'\n",
      "2024-04-18 15:01:12,898 [ 774695]   WARN - #c.j.p.PhpIndex - Invalid Signature '\\Webmozart\\Assert\\class-string<#ᢐ\\ExpectedType.>'\n",
      "2024-04-18 15:01:25,867 [ 787664]   WARN - #c.j.p.PhpIndex - Invalid Signature '\\Webmozart\\Assert\\class-string<#ᢐ\\ExpectedType.>'\n",
      "2024-04-18 15:01:28,035 [ 789832]   WARN - #c.j.p.PhpIndex - Invalid Signature '\\Webmozart\\Assert\\class-string<#ᢐ\\ExpectedType.>'\n",
      "2024-04-18 15:02:23,236 [ 845033]   WARN - #c.j.p.PhpIndex - Invalid Signature '\\Webmozart\\Assert\\class-string<#ᢐ\\ExpectedType.>'\n",
      "2024-04-18 15:02:29,007 [ 850804]   WARN - #c.j.p.PhpIndex - Invalid Signature '\\Webmozart\\Assert\\class-string<#ᢐ\\ExpectedType.>'\n",
      "2024-04-18 15:02:30,303 [ 852100]   WARN - #c.j.p.PhpIndex - Invalid Signature '\\Webmozart\\Assert\\class-string<#ᢐ\\ExpectedType.>'\n",
      "2024-04-18 15:02:30,722 [ 852519]   WARN - #c.j.p.PhpIndex - Invalid Signature '\\Webmozart\\Assert\\class-string<#ᢐ\\ExpectedType.>'\n",
      "2024-04-18 15:02:31,769 [ 853566]   WARN - #c.j.p.PhpIndex - Invalid Signature '\\Webmozart\\Assert\\class-string<#ᢐ\\ExpectedType.>'\n",
      "2024-04-18 15:02:32,977 [ 854774]   WARN - #c.j.p.PhpIndex - Invalid Signature '\\Webmozart\\Assert\\class-string<#ᢐ\\ExpectedType.>'\n",
      "2024-04-18 15:02:36,478 [ 858275]   WARN - #c.j.p.PhpIndex - Invalid Signature '\\Webmozart\\Assert\\class-string<#ᢐ\\ExpectedType.>'\n",
      "2024-04-18 15:02:36,939 [ 858736]   WARN - #c.j.p.PhpIndex - Invalid Signature '\\Webmozart\\Assert\\class-string<#ᢐ\\ExpectedType.>'\n",
      "2024-04-18 15:02:37,824 [ 859621]   WARN - #c.j.p.PhpIndex - Invalid Signature '\\Webmozart\\Assert\\class-string<#ᢐ\\ExpectedType.>'\n",
      "2024-04-18 15:02:39,958 [ 861755]   WARN - #c.j.p.PhpIndex - Invalid Signature '\\Webmozart\\Assert\\class-string<#ᢐ\\ExpectedType.>'\n",
      "2024-04-18 15:02:40,542 [ 862339]   WARN - #c.j.p.PhpIndex - Invalid Signature '\\Webmozart\\Assert\\class-string<#ᢐ\\ExpectedType.>'\n",
      "2024-04-18 15:03:00,530 [ 882327]   WARN - #c.j.p.PhpIndex - Invalid Signature '\\Webmozart\\Assert\\class-string<#ᢐ\\ExpectedType.>'\n",
      "2024-04-18 15:04:04,005 [ 945802]   WARN - #c.j.p.PhpIndex - Invalid Signature '\\Webmozart\\Assert\\class-string<#ᢐ\\ExpectedType.>'\n",
      "2024-04-18 15:04:07,566 [ 949363]   WARN - #c.j.p.PhpIndex - Invalid Signature '\\array<#ᢐ\\T.>'\n",
      "2024-04-18 15:04:07,569 [ 949366]   WARN - #c.j.p.PhpIndex - Invalid Signature '\\Webmozart\\Assert\\class-string<#ᢐ\\ExpectedType.>'\n",
      "2024-04-18 15:04:07,596 [ 949393]   WARN - #c.j.p.PhpIndex - Invalid Signature '\\Webmozart\\Assert\\class-string<#ᢐ\\UnexpectedType.>'\n",
      "2024-04-18 15:04:07,616 [ 949413]   WARN - #c.j.p.PhpIndex - Invalid Signature '\\iterable<\\object,\\string>'\n",
      "2024-04-18 15:04:07,677 [ 949474]   WARN - #c.j.p.PhpIndex - Invalid Signature '\\iterable<\\mixed,\\array<T>,\\null>'\n",
      "2024-04-18 15:04:07,701 [ 949498]   WARN - #c.j.p.PhpIndex - Invalid Signature '\\iterable<\\mixed,\\array<T>>'\n",
      "2024-04-18 15:04:07,758 [ 949555]   WARN - #c.j.p.PhpIndex - Invalid Signature '\\iterable<\\object,\\string,\\null>'\n",
      "2024-04-18 15:04:14,172 [ 955969]   WARN - #c.j.p.PhpIndex - Invalid Signature '\\Webmozart\\Assert\\class-string<#ᢐ\\ExpectedType.>'\n",
      "2024-04-18 15:04:20,230 [ 962027]   WARN - #c.j.p.PhpIndex - Invalid Signature '\\Webmozart\\Assert\\class-string<#ᢐ\\ExpectedType.>'\n",
      "2024-04-18 15:04:22,409 [ 964206]   WARN - #c.j.p.PhpIndex - Invalid Signature '\\Webmozart\\Assert\\class-string<#ᢐ\\ExpectedType.>'\n",
      "2024-04-18 15:04:23,115 [ 964912]   WARN - #c.j.p.PhpIndex - Invalid Signature '\\Webmozart\\Assert\\class-string<#ᢐ\\ExpectedType.>'\n",
      "2024-04-18 15:04:24,309 [ 966106]   WARN - #c.j.p.PhpIndex - Invalid Signature '\\Webmozart\\Assert\\class-string<#ᢐ\\ExpectedType.>'\n",
      "2024-04-18 15:04:24,700 [ 966497]   WARN - #c.j.p.PhpIndex - Invalid Signature '\\Webmozart\\Assert\\class-string<#ᢐ\\ExpectedType.>'\n",
      "2024-04-18 15:04:24,805 [ 966602]   WARN - #c.j.p.PhpIndex - Invalid Signature '\\Webmozart\\Assert\\class-string<#ᢐ\\ExpectedType.>'\n",
      "2024-04-18 15:04:25,022 [ 966819]   WARN - #c.j.p.PhpIndex - Invalid Signature '\\Webmozart\\Assert\\class-string<#ᢐ\\ExpectedType.>'\n",
      "2024-04-18 15:04:25,169 [ 966966]   WARN - #c.j.p.PhpIndex - Invalid Signature '\\Webmozart\\Assert\\class-string<#ᢐ\\ExpectedType.>'\n",
      "2024-04-18 15:04:25,344 [ 967141]   WARN - #c.j.p.PhpIndex - Invalid Signature '\\Webmozart\\Assert\\class-string<#ᢐ\\ExpectedType.>'\n",
      "2024-04-18 15:04:25,684 [ 967481]   WARN - #c.j.p.PhpIndex - Invalid Signature '\\Webmozart\\Assert\\class-string<#ᢐ\\ExpectedType.>'\n",
      "2024-04-18 15:04:25,851 [ 967648]   WARN - #c.j.p.PhpIndex - Invalid Signature '\\Webmozart\\Assert\\class-string<#ᢐ\\ExpectedType.>'\n",
      "2024-04-18 15:04:26,043 [ 967840]   WARN - #c.j.p.PhpIndex - Invalid Signature '\\Webmozart\\Assert\\class-string<#ᢐ\\ExpectedType.>'\n",
      "2024-04-18 15:04:26,235 [ 968032]   WARN - #c.j.p.PhpIndex - Invalid Signature '\\Webmozart\\Assert\\class-string<#ᢐ\\ExpectedType.>'\n",
      "2024-04-18 15:04:26,938 [ 968735]   WARN - #c.j.p.PhpIndex - Invalid Signature '\\Webmozart\\Assert\\class-string<#ᢐ\\ExpectedType.>'\n",
      "2024-04-18 15:04:26,938 [ 968735]   WARN - #c.j.p.PhpIndex - Invalid Signature '\\Webmozart\\Assert\\class-string<#ᢐ\\ExpectedType.>'\n",
      "2024-04-18 15:04:27,165 [ 968962]   WARN - #c.j.p.PhpIndex - Invalid Signature '\\Webmozart\\Assert\\class-string<#ᢐ\\ExpectedType.>'\n",
      "2024-04-18 15:04:27,298 [ 969095]   WARN - #c.j.p.PhpIndex - Invalid Signature '\\Webmozart\\Assert\\class-string<#ᢐ\\ExpectedType.>'\n",
      "2024-04-18 15:04:27,455 [ 969252]   WARN - #c.j.p.PhpIndex - Invalid Signature '\\Webmozart\\Assert\\class-string<#ᢐ\\ExpectedType.>'\n",
      "2024-04-18 15:04:44,330 [ 986127]   WARN - #c.j.p.PhpIndex - Invalid Signature '\\Webmozart\\Assert\\class-string<#ᢐ\\ExpectedType.>'\n",
      "2024-04-18 15:04:44,799 [ 986596]   WARN - #c.j.p.PhpIndex - Invalid Signature '\\Webmozart\\Assert\\class-string<#ᢐ\\ExpectedType.>'\n",
      "2024-04-18 15:04:45,011 [ 986808]   WARN - #c.j.p.PhpIndex - Invalid Signature '\\Webmozart\\Assert\\class-string<#ᢐ\\ExpectedType.>'\n",
      "2024-04-18 15:04:45,159 [ 986956]   WARN - #c.j.p.PhpIndex - Invalid Signature '\\Webmozart\\Assert\\class-string<#ᢐ\\ExpectedType.>'\n",
      "2024-04-18 15:04:45,278 [ 987075]   WARN - #c.j.p.PhpIndex - Invalid Signature '\\Webmozart\\Assert\\class-string<#ᢐ\\ExpectedType.>'\n",
      "2024-04-18 15:04:45,473 [ 987270]   WARN - #c.j.p.PhpIndex - Invalid Signature '\\Webmozart\\Assert\\class-string<#ᢐ\\ExpectedType.>'\n",
      "2024-04-18 15:04:45,619 [ 987416]   WARN - #c.j.p.PhpIndex - Invalid Signature '\\Webmozart\\Assert\\class-string<#ᢐ\\ExpectedType.>'\n",
      "2024-04-18 15:04:46,691 [ 988488]   WARN - #c.j.p.PhpIndex - Invalid Signature '\\Webmozart\\Assert\\class-string<#ᢐ\\ExpectedType.>'\n",
      "2024-04-18 15:04:46,691 [ 988488]   WARN - #c.j.p.PhpIndex - Invalid Signature '\\Webmozart\\Assert\\class-string<#ᢐ\\ExpectedType.>'\n",
      "2024-04-18 15:04:47,388 [ 989185]   WARN - #c.j.p.PhpIndex - Invalid Signature '\\Webmozart\\Assert\\class-string<#ᢐ\\ExpectedType.>'\n",
      "2024-04-18 15:04:47,723 [ 989520]   WARN - #c.j.p.PhpIndex - Invalid Signature '\\Webmozart\\Assert\\class-string<#ᢐ\\ExpectedType.>'\n",
      "2024-04-18 15:04:47,859 [ 989656]   WARN - #c.j.p.PhpIndex - Invalid Signature '\\Webmozart\\Assert\\class-string<#ᢐ\\ExpectedType.>'\n",
      "2024-04-18 15:04:48,020 [ 989817]   WARN - #c.j.p.PhpIndex - Invalid Signature '\\Webmozart\\Assert\\class-string<#ᢐ\\ExpectedType.>'\n",
      "2024-04-18 15:04:48,125 [ 989922]   WARN - #c.j.p.PhpIndex - Invalid Signature '\\Webmozart\\Assert\\class-string<#ᢐ\\ExpectedType.>'\n",
      "2024-04-18 15:04:48,334 [ 990131]   WARN - #c.j.p.PhpIndex - Invalid Signature '\\Webmozart\\Assert\\class-string<#ᢐ\\ExpectedType.>'\n",
      "2024-04-18 15:04:48,449 [ 990246]   WARN - #c.j.p.PhpIndex - Invalid Signature '\\Webmozart\\Assert\\class-string<#ᢐ\\ExpectedType.>'\n",
      "2024-04-18 15:04:49,661 [ 991458]   WARN - #c.j.p.PhpIndex - Invalid Signature '\\Webmozart\\Assert\\class-string<#ᢐ\\ExpectedType.>'\n",
      "2024-04-18 15:04:53,397 [ 995194]   WARN - #c.j.p.PhpIndex - Invalid Signature '\\Webmozart\\Assert\\class-string<#ᢐ\\ExpectedType.>'\n",
      "2024-04-18 15:04:54,426 [ 996223]   WARN - #c.j.p.PhpIndex - Invalid Signature '\\Webmozart\\Assert\\class-string<#ᢐ\\ExpectedType.>'\n",
      "2024-04-18 15:04:56,282 [ 998079]   WARN - #c.j.p.PhpIndex - Invalid Signature '\\Webmozart\\Assert\\class-string<#ᢐ\\ExpectedType.>'\n",
      "2024-04-18 15:05:08,640 [1010437]   WARN - #c.j.p.PhpIndex - Invalid Signature '\\Webmozart\\Assert\\class-string<#ᢐ\\ExpectedType.>'\n",
      "2024-04-18 15:06:22,585 [1084382]   WARN - #c.j.p.PhpIndex - Invalid Signature '\\Webmozart\\Assert\\class-string<#ᢐ\\ExpectedType.>'\n",
      "2024-04-18 15:06:23,263 [1085060]   WARN - #c.j.p.PhpIndex - Invalid Signature '\\Webmozart\\Assert\\class-string<#ᢐ\\ExpectedType.>'\n",
      "2024-04-18 15:06:26,343 [1088140]   WARN - #c.j.p.PhpIndex - Invalid Signature '\\Webmozart\\Assert\\class-string<#ᢐ\\ExpectedType.>'\n",
      "2024-04-18 15:06:26,703 [1088500]   WARN - #c.j.p.PhpIndex - Invalid Signature '\\Webmozart\\Assert\\class-string<#ᢐ\\ExpectedType.>'\n",
      "2024-04-18 15:06:28,102 [1089899]   WARN - #c.j.p.PhpIndex - Invalid Signature '\\Webmozart\\Assert\\class-string<#ᢐ\\ExpectedType.>'\n",
      "2024-04-18 15:06:36,504 [1098301]   WARN - #c.j.p.PhpIndex - Invalid Signature '\\Webmozart\\Assert\\class-string<#ᢐ\\ExpectedType.>'\n",
      "2024-04-18 15:06:39,825 [1101622]   WARN - #c.j.p.PhpIndex - Invalid Signature '\\Webmozart\\Assert\\class-string<#ᢐ\\ExpectedType.>'\n",
      "2024-04-18 15:06:47,731 [1109528]   WARN - #c.j.p.PhpIndex - Invalid Signature '\\Webmozart\\Assert\\class-string<#ᢐ\\ExpectedType.>'\n",
      "2024-04-18 15:07:05,616 [1127413]   WARN - #c.j.p.PhpIndex - Invalid Signature '\\Webmozart\\Assert\\class-string<#ᢐ\\ExpectedType.>'\n",
      "2024-04-18 15:07:11,561 [1133358]   WARN - #c.j.p.PhpIndex - Invalid Signature '\\Webmozart\\Assert\\class-string<#ᢐ\\ExpectedType.>'\n",
      "2024-04-18 15:07:11,561 [1133358]   WARN - #c.j.p.PhpIndex - Invalid Signature '\\Webmozart\\Assert\\class-string<#ᢐ\\ExpectedType.>'\n",
      "2024-04-18 15:07:21,050 [1142847]   WARN - #c.j.p.PhpIndex - Invalid Signature '\\Webmozart\\Assert\\class-string<#ᢐ\\ExpectedType.>'\n",
      "2024-04-18 15:07:21,438 [1143235]   WARN - #c.j.p.PhpIndex - Invalid Signature '\\Webmozart\\Assert\\class-string<#ᢐ\\ExpectedType.>'\n",
      "2024-04-18 15:07:29,083 [1150880]   WARN - #c.j.p.PhpIndex - Invalid Signature '\\array<#ᢐ\\T.>'\n",
      "2024-04-18 15:07:29,084 [1150881]   WARN - #c.j.p.PhpIndex - Invalid Signature '\\Webmozart\\Assert\\class-string<#ᢐ\\ExpectedType.>'\n",
      "2024-04-18 15:07:29,108 [1150905]   WARN - #c.j.p.PhpIndex - Invalid Signature '\\Webmozart\\Assert\\class-string<#ᢐ\\UnexpectedType.>'\n",
      "2024-04-18 15:07:29,131 [1150928]   WARN - #c.j.p.PhpIndex - Invalid Signature '\\iterable<\\object,\\string>'\n",
      "2024-04-18 15:07:29,144 [1150941]   WARN - #c.j.p.PhpIndex - Invalid Signature '\\iterable<\\mixed,\\array<T>,\\null>'\n",
      "2024-04-18 15:07:29,156 [1150953]   WARN - #c.j.p.PhpIndex - Invalid Signature '\\iterable<\\mixed,\\array<T>>'\n",
      "2024-04-18 15:07:29,197 [1150994]   WARN - #c.j.p.PhpIndex - Invalid Signature '\\iterable<\\object,\\string,\\null>'\n",
      "2024-04-18 15:07:51,600 [1173397]   WARN - #c.j.p.PhpIndex - Invalid Signature '\\Webmozart\\Assert\\class-string<#ᢐ\\ExpectedType.>'\n",
      "2024-04-18 15:08:16,127 [1197924]   WARN - #c.j.p.PhpIndex - Invalid Signature '\\Webmozart\\Assert\\class-string<#ᢐ\\ExpectedType.>'\n",
      "2024-04-18 15:08:17,572 [1199369]   WARN - #c.j.p.PhpIndex - Invalid Signature '\\Webmozart\\Assert\\class-string<#ᢐ\\ExpectedType.>'\n",
      "2024-04-18 15:08:18,580 [1200377]   WARN - #c.j.p.PhpIndex - Invalid Signature '\\Webmozart\\Assert\\class-string<#ᢐ\\ExpectedType.>'\n",
      "2024-04-18 15:08:20,672 [1202469]   WARN - #c.j.p.PhpIndex - Invalid Signature '\\Webmozart\\Assert\\class-string<#ᢐ\\ExpectedType.>'\n",
      "2024-04-18 15:08:22,536 [1204333]   WARN - #c.j.p.PhpIndex - Invalid Signature '\\Webmozart\\Assert\\class-string<#ᢐ\\ExpectedType.>'\n",
      "2024-04-18 15:08:22,536 [1204333]   WARN - #c.j.p.PhpIndex - Invalid Signature '\\Webmozart\\Assert\\class-string<#ᢐ\\ExpectedType.>'\n",
      "2024-04-18 15:08:24,651 [1206448]   WARN - #c.j.p.PhpIndex - Invalid Signature '\\Webmozart\\Assert\\class-string<#ᢐ\\ExpectedType.>'\n",
      "2024-04-18 15:08:24,657 [1206454]   WARN - #c.j.p.PhpIndex - Invalid Signature '\\Webmozart\\Assert\\class-string<#ᢐ\\ExpectedType.>'\n",
      "2024-04-18 15:08:34,188 [1215985]   WARN - #c.j.p.PhpIndex - Invalid Signature '\\Webmozart\\Assert\\class-string<#ᢐ\\ExpectedType.>'\n",
      "2024-04-18 15:08:34,600 [1216397]   WARN - #c.j.p.PhpIndex - Invalid Signature '\\Webmozart\\Assert\\class-string<#ᢐ\\ExpectedType.>'\n",
      "2024-04-18 15:08:38,961 [1220758]   WARN - #c.j.p.PhpIndex - Invalid Signature '\\Webmozart\\Assert\\class-string<#ᢐ\\ExpectedType.>'\n",
      "2024-04-18 15:08:40,157 [1221954]   WARN - #c.j.p.PhpIndex - Invalid Signature '\\Webmozart\\Assert\\class-string<#ᢐ\\ExpectedType.>'\n",
      "2024-04-18 15:08:40,157 [1221954]   WARN - #c.j.p.PhpIndex - Invalid Signature '\\Webmozart\\Assert\\class-string<#ᢐ\\ExpectedType.>'\n",
      "2024-04-18 15:08:40,803 [1222600]   WARN - #c.j.p.PhpIndex - Invalid Signature '\\Webmozart\\Assert\\class-string<#ᢐ\\ExpectedType.>'\n",
      "2024-04-18 15:08:41,637 [1223434]   WARN - #c.j.p.PhpIndex - Invalid Signature '\\Webmozart\\Assert\\class-string<#ᢐ\\ExpectedType.>'\n",
      "2024-04-18 15:08:42,432 [1224229]   WARN - #c.j.p.PhpIndex - Invalid Signature '\\Webmozart\\Assert\\class-string<#ᢐ\\ExpectedType.>'\n",
      "2024-04-18 15:08:44,188 [1225985]   WARN - #c.j.p.PhpIndex - Invalid Signature '\\Webmozart\\Assert\\class-string<#ᢐ\\ExpectedType.>'\n",
      "2024-04-18 15:08:44,802 [1226599]   WARN - #c.j.p.PhpIndex - Invalid Signature '\\Webmozart\\Assert\\class-string<#ᢐ\\ExpectedType.>'\n",
      "2024-04-18 15:08:47,767 [1229564]   WARN - #c.j.p.PhpIndex - Invalid Signature '\\Webmozart\\Assert\\class-string<#ᢐ\\ExpectedType.>'\n",
      "2024-04-18 15:08:49,482 [1231279]   WARN - #c.j.p.PhpIndex - Invalid Signature '\\Webmozart\\Assert\\class-string<#ᢐ\\ExpectedType.>'\n",
      "2024-04-18 15:08:49,934 [1231731]   WARN - #c.j.p.PhpIndex - Invalid Signature '\\Webmozart\\Assert\\class-string<#ᢐ\\ExpectedType.>'\n",
      "2024-04-18 15:08:50,647 [1232444]   WARN - #c.j.p.PhpIndex - Invalid Signature '\\Webmozart\\Assert\\class-string<#ᢐ\\ExpectedType.>'\n",
      "2024-04-18 15:08:51,561 [1233358]   WARN - #c.j.p.PhpIndex - Invalid Signature '\\Webmozart\\Assert\\class-string<#ᢐ\\ExpectedType.>'\n",
      "2024-04-18 15:08:53,832 [1235629]   WARN - #c.j.p.PhpIndex - Invalid Signature '\\Webmozart\\Assert\\class-string<#ᢐ\\ExpectedType.>'\n",
      "2024-04-18 15:09:02,898 [1244695]   WARN - #c.j.p.PhpIndex - Invalid Signature '\\Webmozart\\Assert\\class-string<#ᢐ\\ExpectedType.>'\n",
      "2024-04-18 15:09:18,712 [1260509]   WARN - #c.j.p.PhpIndex - Invalid Signature '\\Webmozart\\Assert\\class-string<#ᢐ\\ExpectedType.>'\n",
      "2024-04-18 15:09:23,805 [1265602]   WARN - #c.j.p.PhpIndex - Invalid Signature '\\Webmozart\\Assert\\class-string<#ᢐ\\ExpectedType.>'\n",
      "2024-04-18 15:09:30,607 [1272404]   WARN - #c.j.p.PhpIndex - Invalid Signature '\\Webmozart\\Assert\\class-string<#ᢐ\\ExpectedType.>'\n",
      "2024-04-18 15:09:45,069 [1286866]   WARN - #c.j.p.PhpIndex - Invalid Signature '\\Webmozart\\Assert\\class-string<#ᢐ\\ExpectedType.>'\n",
      "2024-04-18 15:09:46,050 [1287847]   WARN - #c.j.p.PhpIndex - Invalid Signature '\\Webmozart\\Assert\\class-string<#ᢐ\\ExpectedType.>'\n",
      "2024-04-18 15:09:46,987 [1288784]   WARN - #c.j.p.PhpIndex - Invalid Signature '\\Webmozart\\Assert\\class-string<#ᢐ\\ExpectedType.>'\n",
      "2024-04-18 15:09:47,767 [1289564]   WARN - #c.j.p.PhpIndex - Invalid Signature '\\Webmozart\\Assert\\class-string<#ᢐ\\ExpectedType.>'\n",
      "2024-04-18 15:09:51,759 [1293556]   WARN - #c.j.p.PhpIndex - Invalid Signature '\\Webmozart\\Assert\\class-string<#ᢐ\\ExpectedType.>'\n",
      "2024-04-18 15:09:56,654 [1298451]   WARN - #c.j.p.PhpIndex - Invalid Signature '\\Webmozart\\Assert\\class-string<#ᢐ\\ExpectedType.>'\n",
      "2024-04-18 15:09:58,571 [1300368]   WARN - #c.j.p.PhpIndex - Invalid Signature '\\Webmozart\\Assert\\class-string<#ᢐ\\ExpectedType.>'\n",
      "2024-04-18 15:09:59,775 [1301572]   WARN - #c.j.p.PhpIndex - Invalid Signature '\\Webmozart\\Assert\\class-string<#ᢐ\\ExpectedType.>'\n",
      "2024-04-18 15:10:00,727 [1302524]   WARN - #c.j.p.PhpIndex - Invalid Signature '\\Webmozart\\Assert\\class-string<#ᢐ\\ExpectedType.>'\n",
      "2024-04-18 15:10:00,727 [1302524]   WARN - #c.j.p.PhpIndex - Invalid Signature '\\Webmozart\\Assert\\class-string<#ᢐ\\ExpectedType.>'\n",
      "2024-04-18 15:10:02,468 [1304265]   WARN - #c.j.p.PhpIndex - Invalid Signature '\\Webmozart\\Assert\\class-string<#ᢐ\\ExpectedType.>'\n",
      "2024-04-18 15:10:09,085 [1310882]   WARN - #c.j.p.PhpIndex - Invalid Signature '\\Webmozart\\Assert\\class-string<#ᢐ\\ExpectedType.>'\n",
      "2024-04-18 15:10:09,085 [1310882]   WARN - #c.j.p.PhpIndex - Invalid Signature '\\Webmozart\\Assert\\class-string<#ᢐ\\ExpectedType.>'\n",
      "2024-04-18 15:10:09,943 [1311740]   WARN - #c.j.p.PhpIndex - Invalid Signature '\\Webmozart\\Assert\\class-string<#ᢐ\\ExpectedType.>'\n",
      "2024-04-18 15:10:11,591 [1313388]   WARN - #c.j.p.PhpIndex - Invalid Signature '\\Webmozart\\Assert\\class-string<#ᢐ\\ExpectedType.>'\n",
      "2024-04-18 15:10:12,932 [1314729]   WARN - #c.j.p.PhpIndex - Invalid Signature '\\Webmozart\\Assert\\class-string<#ᢐ\\ExpectedType.>'\n",
      "2024-04-18 15:10:13,277 [1315074]   WARN - #c.j.p.PhpIndex - Invalid Signature '\\Webmozart\\Assert\\class-string<#ᢐ\\ExpectedType.>'\n",
      "2024-04-18 15:10:13,925 [1315722]   WARN - #c.j.p.PhpIndex - Invalid Signature '\\Webmozart\\Assert\\class-string<#ᢐ\\ExpectedType.>'\n",
      "2024-04-18 15:10:15,496 [1317293]   WARN - #c.j.p.PhpIndex - Invalid Signature '\\Webmozart\\Assert\\class-string<#ᢐ\\ExpectedType.>'\n",
      "2024-04-18 15:10:16,037 [1317834]   WARN - #c.j.p.PhpIndex - Invalid Signature '\\Webmozart\\Assert\\class-string<#ᢐ\\ExpectedType.>'\n",
      "2024-04-18 15:10:17,541 [1319338]   WARN - #c.j.p.PhpIndex - Invalid Signature '\\Webmozart\\Assert\\class-string<#ᢐ\\ExpectedType.>'\n",
      "2024-04-18 15:10:18,937 [1320734]   WARN - #c.j.p.PhpIndex - Invalid Signature '\\Webmozart\\Assert\\class-string<#ᢐ\\ExpectedType.>'\n",
      "2024-04-18 15:10:19,772 [1321569]   WARN - #c.j.p.PhpIndex - Invalid Signature '\\Webmozart\\Assert\\class-string<#ᢐ\\ExpectedType.>'\n",
      "2024-04-18 15:10:19,775 [1321572]   WARN - #c.j.p.PhpIndex - Invalid Signature '\\Webmozart\\Assert\\class-string<#ᢐ\\ExpectedType.>'\n",
      "2024-04-18 15:10:19,775 [1321572]   WARN - #c.j.p.PhpIndex - Invalid Signature '\\Webmozart\\Assert\\class-string<#ᢐ\\ExpectedType.>'\n",
      "2024-04-18 15:10:20,753 [1322550]   WARN - #c.j.p.PhpIndex - Invalid Signature '\\Webmozart\\Assert\\class-string<#ᢐ\\ExpectedType.>'\n",
      "2024-04-18 15:10:22,181 [1323978]   WARN - #c.j.p.PhpIndex - Invalid Signature '\\Webmozart\\Assert\\class-string<#ᢐ\\ExpectedType.>'\n",
      "2024-04-18 15:10:24,308 [1326105]   WARN - #c.j.p.PhpIndex - Invalid Signature '\\Webmozart\\Assert\\class-string<#ᢐ\\ExpectedType.>'\n",
      "2024-04-18 15:10:25,180 [1326977]   WARN - #c.j.p.PhpIndex - Invalid Signature '\\Webmozart\\Assert\\class-string<#ᢐ\\ExpectedType.>'\n",
      "2024-04-18 15:10:25,181 [1326978]   WARN - #c.j.p.PhpIndex - Invalid Signature '\\Webmozart\\Assert\\class-string<#ᢐ\\ExpectedType.>'\n",
      "2024-04-18 15:10:28,699 [1330496]   WARN - #c.j.p.PhpIndex - Invalid Signature '\\Webmozart\\Assert\\class-string<#ᢐ\\ExpectedType.>'\n",
      "2024-04-18 15:10:34,151 [1335948]   WARN - #c.j.p.PhpIndex - Invalid Signature '\\Webmozart\\Assert\\class-string<#ᢐ\\ExpectedType.>'\n",
      "2024-04-18 15:10:34,646 [1336443]   WARN - #c.j.p.PhpIndex - Invalid Signature '\\Webmozart\\Assert\\class-string<#ᢐ\\ExpectedType.>'\n",
      "2024-04-18 15:10:39,165 [1340962]   WARN - #c.j.p.PhpIndex - Invalid Signature '\\Webmozart\\Assert\\class-string<#ᢐ\\ExpectedType.>'\n",
      "2024-04-18 15:10:39,165 [1340962]   WARN - #c.j.p.PhpIndex - Invalid Signature '\\Webmozart\\Assert\\class-string<#ᢐ\\ExpectedType.>'\n",
      "2024-04-18 15:10:39,934 [1341731]   WARN - #c.j.p.PhpIndex - Invalid Signature '\\Webmozart\\Assert\\class-string<#ᢐ\\ExpectedType.>'\n",
      "2024-04-18 15:10:47,002 [1348799]   WARN - #c.j.p.PhpIndex - Invalid Signature '\\Webmozart\\Assert\\class-string<#ᢐ\\ExpectedType.>'\n",
      "2024-04-18 15:10:47,838 [1349635]   WARN - #c.j.p.PhpIndex - Invalid Signature '\\Webmozart\\Assert\\class-string<#ᢐ\\ExpectedType.>'\n",
      "2024-04-18 15:10:50,829 [1352626]   WARN - #c.j.p.PhpIndex - Invalid Signature '\\Webmozart\\Assert\\class-string<#ᢐ\\ExpectedType.>'\n",
      "2024-04-18 15:10:50,831 [1352628]   WARN - #c.j.p.PhpIndex - Invalid Signature '\\Webmozart\\Assert\\class-string<#ᢐ\\ExpectedType.>'\n",
      "2024-04-18 15:10:51,887 [1353684]   WARN - #c.j.p.PhpIndex - Invalid Signature '\\Webmozart\\Assert\\class-string<#ᢐ\\ExpectedType.>'\n",
      "2024-04-18 15:10:57,935 [1359732]   WARN - #c.j.p.PhpIndex - Invalid Signature '\\Webmozart\\Assert\\class-string<#ᢐ\\ExpectedType.>'\n",
      "2024-04-18 15:11:00,997 [1362794]   WARN - #c.j.p.PhpIndex - Invalid Signature '\\Webmozart\\Assert\\class-string<#ᢐ\\ExpectedType.>'\n",
      "2024-04-18 15:11:02,428 [1364225]   WARN - #c.j.p.PhpIndex - Invalid Signature '\\Webmozart\\Assert\\class-string<#ᢐ\\ExpectedType.>'\n",
      "2024-04-18 15:11:03,512 [1365309]   WARN - #c.j.p.PhpIndex - Invalid Signature '\\Webmozart\\Assert\\class-string<#ᢐ\\ExpectedType.>'\n",
      "2024-04-18 15:11:55,449 [1417246]   WARN - #c.j.p.PhpIndex - Invalid Signature '\\array<#ᢐ\\T.>'\n",
      "2024-04-18 15:11:55,452 [1417249]   WARN - #c.j.p.PhpIndex - Invalid Signature '\\Webmozart\\Assert\\class-string<#ᢐ\\ExpectedType.>'\n",
      "2024-04-18 15:11:55,462 [1417259]   WARN - #c.j.p.PhpIndex - Invalid Signature '\\Webmozart\\Assert\\class-string<#ᢐ\\UnexpectedType.>'\n",
      "2024-04-18 15:11:55,472 [1417269]   WARN - #c.j.p.PhpIndex - Invalid Signature '\\iterable<\\object,\\string>'\n",
      "2024-04-18 15:11:55,480 [1417277]   WARN - #c.j.p.PhpIndex - Invalid Signature '\\iterable<\\mixed,\\array<T>,\\null>'\n",
      "2024-04-18 15:11:55,494 [1417291]   WARN - #c.j.p.PhpIndex - Invalid Signature '\\iterable<\\mixed,\\array<T>>'\n",
      "2024-04-18 15:11:55,516 [1417313]   WARN - #c.j.p.PhpIndex - Invalid Signature '\\iterable<\\object,\\string,\\null>'\n",
      "2024-04-18 15:11:56,066 [1417863]   WARN - #c.j.p.PhpIndex - Invalid Signature '\\Webmozart\\Assert\\class-string<#ᢐ\\ExpectedType.>'\n",
      "2024-04-18 15:11:58,020 [1419817]   WARN - #c.j.p.PhpIndex - Invalid Signature '\\Webmozart\\Assert\\class-string<#ᢐ\\ExpectedType.>'\n",
      "2024-04-18 15:12:01,073 [1422870]   WARN - #c.j.p.PhpIndex - Invalid Signature '\\Webmozart\\Assert\\class-string<#ᢐ\\ExpectedType.>'\n",
      "2024-04-18 15:12:01,903 [1423700]   WARN - #c.j.p.PhpIndex - Invalid Signature '\\Webmozart\\Assert\\class-string<#ᢐ\\ExpectedType.>'\n",
      "2024-04-18 15:12:02,884 [1424681]   WARN - #c.j.p.PhpIndex - Invalid Signature '\\Webmozart\\Assert\\class-string<#ᢐ\\ExpectedType.>'\n",
      "2024-04-18 15:12:03,529 [1425326]   WARN - #c.j.p.PhpIndex - Invalid Signature '\\Webmozart\\Assert\\class-string<#ᢐ\\ExpectedType.>'\n",
      "2024-04-18 15:12:06,564 [1428361]   WARN - #c.j.p.PhpIndex - Invalid Signature '\\Webmozart\\Assert\\class-string<#ᢐ\\ExpectedType.>'\n",
      "2024-04-18 15:12:06,564 [1428361]   WARN - #c.j.p.PhpIndex - Invalid Signature '\\Webmozart\\Assert\\class-string<#ᢐ\\ExpectedType.>'\n",
      "2024-04-18 15:12:07,599 [1429396]   WARN - #c.j.p.PhpIndex - Invalid Signature '\\Webmozart\\Assert\\class-string<#ᢐ\\ExpectedType.>'\n",
      "2024-04-18 15:12:08,770 [1430567]   WARN - #c.j.p.PhpIndex - Invalid Signature '\\Webmozart\\Assert\\class-string<#ᢐ\\ExpectedType.>'\n",
      "2024-04-18 15:12:10,049 [1431846]   WARN - #c.j.p.PhpIndex - Invalid Signature '\\Webmozart\\Assert\\class-string<#ᢐ\\ExpectedType.>'\n",
      "2024-04-18 15:12:12,032 [1433829]   WARN - #c.j.p.PhpIndex - Invalid Signature '\\Webmozart\\Assert\\class-string<#ᢐ\\ExpectedType.>'\n",
      "2024-04-18 15:12:13,662 [1435459]   WARN - #c.j.p.PhpIndex - Invalid Signature '\\Webmozart\\Assert\\class-string<#ᢐ\\ExpectedType.>'\n",
      "2024-04-18 15:12:16,470 [1438267]   WARN - #c.j.p.PhpIndex - Invalid Signature '\\Webmozart\\Assert\\class-string<#ᢐ\\ExpectedType.>'\n",
      "2024-04-18 15:12:17,010 [1438807]   WARN - #c.j.p.PhpIndex - Invalid Signature '\\Webmozart\\Assert\\class-string<#ᢐ\\ExpectedType.>'\n",
      "2024-04-18 15:12:19,124 [1440921]   WARN - #c.j.p.PhpIndex - Invalid Signature '\\Webmozart\\Assert\\class-string<#ᢐ\\ExpectedType.>'\n",
      "2024-04-18 15:12:22,089 [1443886]   WARN - #c.j.p.PhpIndex - Invalid Signature '\\Webmozart\\Assert\\class-string<#ᢐ\\ExpectedType.>'\n",
      "2024-04-18 15:12:22,432 [1444229]   WARN - #c.j.p.PhpIndex - Invalid Signature '\\Webmozart\\Assert\\class-string<#ᢐ\\ExpectedType.>'\n",
      "2024-04-18 15:12:23,039 [1444836]   WARN - #c.j.p.PhpIndex - Invalid Signature '\\Webmozart\\Assert\\class-string<#ᢐ\\ExpectedType.>'\n",
      "2024-04-18 15:12:24,042 [1445839]   WARN - #c.j.p.PhpIndex - Invalid Signature '\\Webmozart\\Assert\\class-string<#ᢐ\\ExpectedType.>'\n",
      "2024-04-18 15:12:24,433 [1446230]   WARN - #c.j.p.PhpIndex - Invalid Signature '\\Webmozart\\Assert\\class-string<#ᢐ\\ExpectedType.>'\n",
      "2024-04-18 15:12:25,307 [1447104]   WARN - #c.j.p.PhpIndex - Invalid Signature '\\Webmozart\\Assert\\class-string<#ᢐ\\ExpectedType.>'\n",
      "2024-04-18 15:12:29,103 [1450900]   WARN - #c.j.p.PhpIndex - Invalid Signature '\\Webmozart\\Assert\\class-string<#ᢐ\\ExpectedType.>'\n",
      "2024-04-18 15:17:05,340 [1727137]   WARN - #c.j.p.PhpIndex - Invalid Signature '\\Webmozart\\Assert\\class-string<#ᢐ\\ExpectedType.>'\n",
      "2024-04-18 15:17:07,805 [1729602]   WARN - #c.j.p.PhpIndex - Invalid Signature '\\Webmozart\\Assert\\class-string<#ᢐ\\ExpectedType.>'\n",
      "2024-04-18 15:31:32,330 [2594127]   WARN - #c.j.p.PhpIndex - Invalid Signature '\\class-string<#ᢐ\\T.>'\n",
      "2024-04-18 15:31:32,827 [2594624]   WARN - #c.j.p.PhpIndex - Invalid Signature '\\Webmozart\\Assert\\class-string<#ᢐ\\ExpectedType.>'\n",
      "2024-04-18 15:31:34,071 [2595868]   WARN - #c.j.p.PhpIndex - Invalid Signature '\\Webmozart\\Assert\\class-string<#ᢐ\\ExpectedType.>'\n",
      "2024-04-18 15:32:06,547 [2628344]   WARN - #c.j.p.PhpIndex - Invalid Signature '\\Webmozart\\Assert\\class-string<#ᢐ\\ExpectedType.>'\n",
      "2024-04-18 15:32:06,547 [2628344]   WARN - #c.j.p.PhpIndex - Invalid Signature '\\Webmozart\\Assert\\class-string<#ᢐ\\ExpectedType.>'\n",
      "2024-04-18 15:32:11,206 [2633003]   WARN - #c.j.p.PhpIndex - Invalid Signature '\\array<#ᢐ\\T.>'\n",
      "2024-04-18 15:32:11,207 [2633004]   WARN - #c.j.p.PhpIndex - Invalid Signature '\\Webmozart\\Assert\\class-string<#ᢐ\\ExpectedType.>'\n",
      "2024-04-18 15:32:11,220 [2633017]   WARN - #c.j.p.PhpIndex - Invalid Signature '\\Webmozart\\Assert\\class-string<#ᢐ\\UnexpectedType.>'\n",
      "2024-04-18 15:32:11,228 [2633025]   WARN - #c.j.p.PhpIndex - Invalid Signature '\\iterable<\\object,\\string>'\n",
      "2024-04-18 15:32:11,234 [2633031]   WARN - #c.j.p.PhpIndex - Invalid Signature '\\iterable<\\mixed,\\array<T>,\\null>'\n",
      "2024-04-18 15:32:11,247 [2633044]   WARN - #c.j.p.PhpIndex - Invalid Signature '\\iterable<\\mixed,\\array<T>>'\n",
      "2024-04-18 15:32:11,273 [2633070]   WARN - #c.j.p.PhpIndex - Invalid Signature '\\iterable<\\object,\\string,\\null>'\n",
      "2024-04-18 15:32:17,279 [2639076]   WARN - #c.j.p.PhpIndex - Invalid Signature '\\Webmozart\\Assert\\class-string<#ᢐ\\ExpectedType.>'\n",
      "2024-04-18 15:32:18,779 [2640576]   WARN - #c.j.p.PhpIndex - Invalid Signature '\\Webmozart\\Assert\\class-string<#ᢐ\\ExpectedType.>'\n",
      "2024-04-18 15:32:23,252 [2645049]   WARN - #c.j.p.PhpIndex - Invalid Signature '\\Webmozart\\Assert\\class-string<#ᢐ\\ExpectedType.>'\n",
      "2024-04-18 15:32:26,821 [2648618]   WARN - #c.j.p.PhpIndex - Invalid Signature '\\Webmozart\\Assert\\class-string<#ᢐ\\ExpectedType.>'\n",
      "2024-04-18 15:32:26,821 [2648618]   WARN - #c.j.p.PhpIndex - Invalid Signature '\\Webmozart\\Assert\\class-string<#ᢐ\\ExpectedType.>'\n",
      "2024-04-18 15:32:27,928 [2649725]   WARN - #c.j.p.PhpIndex - Invalid Signature '\\Webmozart\\Assert\\class-string<#ᢐ\\ExpectedType.>'\n",
      "2024-04-18 15:32:29,591 [2651388]   WARN - #c.j.p.PhpIndex - Invalid Signature '\\Webmozart\\Assert\\class-string<#ᢐ\\ExpectedType.>'\n",
      "2024-04-18 15:32:31,712 [2653509]   WARN - #c.j.p.PhpIndex - Invalid Signature '\\Webmozart\\Assert\\class-string<#ᢐ\\ExpectedType.>'\n",
      "2024-04-18 15:32:33,482 [2655279]   WARN - #c.j.p.PhpIndex - Invalid Signature '\\Webmozart\\Assert\\class-string<#ᢐ\\ExpectedType.>'\n",
      "2024-04-18 15:32:34,538 [2656335]   WARN - #c.j.p.PhpIndex - Invalid Signature '\\Webmozart\\Assert\\class-string<#ᢐ\\ExpectedType.>'\n",
      "2024-04-18 15:32:35,794 [2657591]   WARN - #c.j.p.PhpIndex - Invalid Signature '\\Webmozart\\Assert\\class-string<#ᢐ\\ExpectedType.>'\n",
      "2024-04-18 15:32:37,007 [2658804]   WARN - #c.j.p.PhpIndex - Invalid Signature '\\Webmozart\\Assert\\class-string<#ᢐ\\ExpectedType.>'\n",
      "2024-04-18 15:32:37,437 [2659234]   WARN - #c.j.p.PhpIndex - Invalid Signature '\\Webmozart\\Assert\\class-string<#ᢐ\\ExpectedType.>'\n",
      "2024-04-18 15:32:38,037 [2659834]   WARN - #c.j.p.PhpIndex - Invalid Signature '\\Webmozart\\Assert\\class-string<#ᢐ\\ExpectedType.>'\n",
      "2024-04-18 15:32:39,294 [2661091]   WARN - #c.j.p.PhpIndex - Invalid Signature '\\Webmozart\\Assert\\class-string<#ᢐ\\ExpectedType.>'\n",
      "2024-04-18 15:32:39,967 [2661764]   WARN - #c.j.p.PhpIndex - Invalid Signature '\\Webmozart\\Assert\\class-string<#ᢐ\\ExpectedType.>'\n",
      "2024-04-18 15:32:41,390 [2663187]   WARN - #c.j.p.PhpIndex - Invalid Signature '\\Webmozart\\Assert\\class-string<#ᢐ\\ExpectedType.>'\n",
      "2024-04-18 15:32:41,815 [2663612]   WARN - #c.j.p.PhpIndex - Invalid Signature '\\Webmozart\\Assert\\class-string<#ᢐ\\ExpectedType.>'\n",
      "2024-04-18 15:32:43,130 [2664927]   WARN - #c.j.p.PhpIndex - Invalid Signature '\\Webmozart\\Assert\\class-string<#ᢐ\\ExpectedType.>'\n",
      "2024-04-18 15:32:44,336 [2666133]   WARN - #c.j.p.PhpIndex - Invalid Signature '\\Webmozart\\Assert\\class-string<#ᢐ\\ExpectedType.>'\n",
      "2024-04-18 15:32:46,452 [2668249]   WARN - #c.j.p.PhpIndex - Invalid Signature '\\Webmozart\\Assert\\class-string<#ᢐ\\ExpectedType.>'\n",
      "2024-04-18 15:33:17,580 [2699377]   WARN - #c.j.p.PhpIndex - Invalid Signature '\\Webmozart\\Assert\\class-string<#ᢐ\\ExpectedType.>'\n",
      "2024-04-18 15:33:21,511 [2703308]   WARN - #c.j.p.PhpIndex - Invalid Signature '\\array<#ᢐ\\T.>'\n",
      "2024-04-18 15:33:21,511 [2703308]   WARN - #c.j.p.PhpIndex - Invalid Signature '\\Webmozart\\Assert\\class-string<#ᢐ\\ExpectedType.>'\n",
      "2024-04-18 15:33:21,524 [2703321]   WARN - #c.j.p.PhpIndex - Invalid Signature '\\Webmozart\\Assert\\class-string<#ᢐ\\UnexpectedType.>'\n",
      "2024-04-18 15:33:21,538 [2703335]   WARN - #c.j.p.PhpIndex - Invalid Signature '\\iterable<\\object,\\string>'\n",
      "2024-04-18 15:33:21,545 [2703342]   WARN - #c.j.p.PhpIndex - Invalid Signature '\\iterable<\\mixed,\\array<T>,\\null>'\n",
      "2024-04-18 15:33:21,562 [2703359]   WARN - #c.j.p.PhpIndex - Invalid Signature '\\iterable<\\mixed,\\array<T>>'\n",
      "2024-04-18 15:33:21,583 [2703380]   WARN - #c.j.p.PhpIndex - Invalid Signature '\\iterable<\\object,\\string,\\null>'\n",
      "2024-04-18 15:33:25,327 [2707124]   WARN - #c.j.p.PhpIndex - Invalid Signature '\\Webmozart\\Assert\\class-string<#ᢐ\\ExpectedType.>'\n",
      "2024-04-18 15:33:29,779 [2711576]   WARN - #c.j.p.PhpIndex - Invalid Signature '\\Webmozart\\Assert\\class-string<#ᢐ\\ExpectedType.>'\n",
      "2024-04-18 15:33:31,754 [2713551]   WARN - #c.j.p.PhpIndex - Invalid Signature '\\Webmozart\\Assert\\class-string<#ᢐ\\ExpectedType.>'\n",
      "2024-04-18 15:33:33,920 [2715717]   WARN - #c.j.p.PhpIndex - Invalid Signature '\\Webmozart\\Assert\\class-string<#ᢐ\\ExpectedType.>'\n",
      "2024-04-18 15:33:35,100 [2716897]   WARN - #c.j.p.PhpIndex - Invalid Signature '\\Webmozart\\Assert\\class-string<#ᢐ\\ExpectedType.>'\n",
      "2024-04-18 15:33:35,102 [2716899]   WARN - #c.j.p.PhpIndex - Invalid Signature '\\Webmozart\\Assert\\class-string<#ᢐ\\ExpectedType.>'\n",
      "2024-04-18 15:33:35,101 [2716898]   WARN - #c.j.p.PhpIndex - Invalid Signature '\\Webmozart\\Assert\\class-string<#ᢐ\\ExpectedType.>'\n",
      "2024-04-18 15:33:35,506 [2717303]   WARN - #c.j.p.PhpIndex - Invalid Signature '\\Webmozart\\Assert\\class-string<#ᢐ\\ExpectedType.>'\n",
      "2024-04-18 15:34:39,076 [2780873]   WARN - #c.j.p.PhpIndex - Invalid Signature '\\Webmozart\\Assert\\class-string<#ᢐ\\ExpectedType.>'\n",
      "2024-04-18 15:34:41,533 [2783330]   WARN - #c.j.p.PhpIndex - Invalid Signature '\\Webmozart\\Assert\\class-string<#ᢐ\\ExpectedType.>'\n",
      "2024-04-18 15:34:41,533 [2783330]   WARN - #c.j.p.PhpIndex - Invalid Signature '\\Webmozart\\Assert\\class-string<#ᢐ\\ExpectedType.>'\n",
      "2024-04-18 15:35:05,269 [2807066]   WARN - #c.j.p.PhpIndex - Invalid Signature '\\Webmozart\\Assert\\class-string<#ᢐ\\ExpectedType.>'\n",
      "2024-04-18 15:35:11,659 [2813456]   WARN - #c.j.p.PhpIndex - Invalid Signature '\\Webmozart\\Assert\\class-string<#ᢐ\\ExpectedType.>'\n",
      "2024-04-18 15:35:16,005 [2817802]   WARN - #c.j.p.PhpIndex - Invalid Signature '\\Webmozart\\Assert\\class-string<#ᢐ\\ExpectedType.>'\n",
      "2024-04-18 15:35:24,465 [2826262]   WARN - #c.j.p.PhpIndex - Invalid Signature '\\Webmozart\\Assert\\class-string<#ᢐ\\ExpectedType.>'\n",
      "2024-04-18 15:35:27,142 [2828939]   WARN - #c.j.p.PhpIndex - Invalid Signature '\\array<#ᢐ\\T.>'\n",
      "2024-04-18 15:35:27,143 [2828940]   WARN - #c.j.p.PhpIndex - Invalid Signature '\\Webmozart\\Assert\\class-string<#ᢐ\\ExpectedType.>'\n",
      "2024-04-18 15:35:27,154 [2828951]   WARN - #c.j.p.PhpIndex - Invalid Signature '\\Webmozart\\Assert\\class-string<#ᢐ\\UnexpectedType.>'\n",
      "2024-04-18 15:35:27,161 [2828958]   WARN - #c.j.p.PhpIndex - Invalid Signature '\\iterable<\\object,\\string>'\n",
      "2024-04-18 15:35:27,168 [2828965]   WARN - #c.j.p.PhpIndex - Invalid Signature '\\iterable<\\mixed,\\array<T>,\\null>'\n",
      "2024-04-18 15:35:27,194 [2828991]   WARN - #c.j.p.PhpIndex - Invalid Signature '\\iterable<\\mixed,\\array<T>>'\n",
      "2024-04-18 15:35:27,247 [2829044]   WARN - #c.j.p.PhpIndex - Invalid Signature '\\iterable<\\object,\\string,\\null>'\n",
      "2024-04-18 15:35:29,401 [2831198]   WARN - #c.j.p.PhpIndex - Invalid Signature '\\Webmozart\\Assert\\class-string<#ᢐ\\ExpectedType.>'\n",
      "2024-04-18 15:35:42,507 [2844304]   WARN - #c.j.p.PhpIndex - Invalid Signature '\\Webmozart\\Assert\\class-string<#ᢐ\\ExpectedType.>'\n",
      "2024-04-18 15:35:43,943 [2845740]   WARN - #c.j.p.PhpIndex - Invalid Signature '\\Webmozart\\Assert\\class-string<#ᢐ\\ExpectedType.>'\n",
      "2024-04-18 15:35:46,756 [2848553]   WARN - #c.j.p.PhpIndex - Invalid Signature '\\Webmozart\\Assert\\class-string<#ᢐ\\ExpectedType.>'\n",
      "2024-04-18 15:35:48,224 [2850021]   WARN - #c.j.p.PhpIndex - Invalid Signature '\\Webmozart\\Assert\\class-string<#ᢐ\\ExpectedType.>'\n",
      "2024-04-18 15:35:48,883 [2850680]   WARN - #c.j.p.PhpIndex - Invalid Signature '\\Webmozart\\Assert\\class-string<#ᢐ\\ExpectedType.>'\n",
      "2024-04-18 15:35:50,133 [2851930]   WARN - #c.j.p.PhpIndex - Invalid Signature '\\Webmozart\\Assert\\class-string<#ᢐ\\ExpectedType.>'\n",
      "2024-04-18 15:35:50,688 [2852485]   WARN - #c.j.p.PhpIndex - Invalid Signature '\\Webmozart\\Assert\\class-string<#ᢐ\\ExpectedType.>'\n",
      "2024-04-18 15:35:52,218 [2854015]   WARN - #c.j.p.PhpIndex - Invalid Signature '\\Webmozart\\Assert\\class-string<#ᢐ\\ExpectedType.>'\n",
      "2024-04-18 15:35:53,803 [2855600]   WARN - #c.j.p.PhpIndex - Invalid Signature '\\Webmozart\\Assert\\class-string<#ᢐ\\ExpectedType.>'\n",
      "2024-04-18 15:35:53,804 [2855601]   WARN - #c.j.p.PhpIndex - Invalid Signature '\\Webmozart\\Assert\\class-string<#ᢐ\\ExpectedType.>'\n",
      "2024-04-18 15:35:54,422 [2856219]   WARN - #c.j.p.PhpIndex - Invalid Signature '\\Webmozart\\Assert\\class-string<#ᢐ\\ExpectedType.>'\n",
      "2024-04-18 15:35:56,216 [2858013]   WARN - #c.j.p.PhpIndex - Invalid Signature '\\Webmozart\\Assert\\class-string<#ᢐ\\ExpectedType.>'\n",
      "2024-04-18 15:36:02,502 [2864299]   WARN - #c.j.p.PhpIndex - Invalid Signature '\\Webmozart\\Assert\\class-string<#ᢐ\\ExpectedType.>'\n",
      "2024-04-18 15:37:30,614 [2952411]   WARN - #c.j.p.PhpIndex - Invalid Signature '\\Webmozart\\Assert\\class-string<#ᢐ\\ExpectedType.>'\n",
      "2024-04-18 15:37:31,931 [2953728]   WARN - #c.j.p.PhpIndex - Invalid Signature '\\Webmozart\\Assert\\class-string<#ᢐ\\ExpectedType.>'\n",
      "2024-04-18 15:37:38,882 [2960679]   WARN - #c.j.p.PhpIndex - Invalid Signature '\\array<#ᢐ\\T.>'\n",
      "2024-04-18 15:37:38,883 [2960680]   WARN - #c.j.p.PhpIndex - Invalid Signature '\\Webmozart\\Assert\\class-string<#ᢐ\\ExpectedType.>'\n",
      "2024-04-18 15:37:38,893 [2960690]   WARN - #c.j.p.PhpIndex - Invalid Signature '\\Webmozart\\Assert\\class-string<#ᢐ\\UnexpectedType.>'\n",
      "2024-04-18 15:37:38,905 [2960702]   WARN - #c.j.p.PhpIndex - Invalid Signature '\\iterable<\\object,\\string>'\n",
      "2024-04-18 15:37:38,914 [2960711]   WARN - #c.j.p.PhpIndex - Invalid Signature '\\iterable<\\mixed,\\array<T>,\\null>'\n",
      "2024-04-18 15:37:38,936 [2960733]   WARN - #c.j.p.PhpIndex - Invalid Signature '\\iterable<\\mixed,\\array<T>>'\n",
      "2024-04-18 15:37:38,964 [2960761]   WARN - #c.j.p.PhpIndex - Invalid Signature '\\iterable<\\object,\\string,\\null>'\n",
      "2024-04-18 15:37:42,233 [2964030]   WARN - #c.j.p.PhpIndex - Invalid Signature '\\Webmozart\\Assert\\class-string<#ᢐ\\ExpectedType.>'\n",
      "2024-04-18 15:37:59,607 [2981404]   WARN - #c.j.p.PhpIndex - Invalid Signature '\\Webmozart\\Assert\\class-string<#ᢐ\\ExpectedType.>'\n",
      "2024-04-18 15:38:01,573 [2983370]   WARN - #c.j.p.PhpIndex - Invalid Signature '\\Webmozart\\Assert\\class-string<#ᢐ\\ExpectedType.>'\n",
      "2024-04-18 15:38:01,573 [2983370]   WARN - #c.j.p.PhpIndex - Invalid Signature '\\Webmozart\\Assert\\class-string<#ᢐ\\ExpectedType.>'\n",
      "2024-04-18 15:38:02,174 [2983971]   WARN - #c.j.p.PhpIndex - Invalid Signature '\\Webmozart\\Assert\\class-string<#ᢐ\\ExpectedType.>'\n",
      "2024-04-18 15:38:04,966 [2986763]   WARN - #c.j.p.PhpIndex - Invalid Signature '\\Webmozart\\Assert\\class-string<#ᢐ\\ExpectedType.>'\n",
      "2024-04-18 15:38:05,350 [2987147]   WARN - #c.j.p.PhpIndex - Invalid Signature '\\Webmozart\\Assert\\class-string<#ᢐ\\ExpectedType.>'\n",
      "2024-04-18 15:38:28,130 [3009927]   WARN - #c.j.p.PhpIndex - Invalid Signature '\\Webmozart\\Assert\\class-string<#ᢐ\\ExpectedType.>'\n",
      "2024-04-18 15:38:29,329 [3011126]   WARN - #c.j.p.PhpIndex - Invalid Signature '\\Webmozart\\Assert\\class-string<#ᢐ\\ExpectedType.>'\n",
      "2024-04-18 15:38:38,296 [3020093]   WARN - #c.j.p.PhpIndex - Invalid Signature '\\Webmozart\\Assert\\class-string<#ᢐ\\ExpectedType.>'\n",
      "2024-04-18 15:42:33,724 [3255521]   WARN - #c.j.p.PhpIndex - Invalid Signature '\\Webmozart\\Assert\\class-string<#ᢐ\\ExpectedType.>'\n",
      "2024-04-18 15:42:34,232 [3256029]   WARN - #c.j.p.PhpIndex - Invalid Signature '\\Webmozart\\Assert\\class-string<#ᢐ\\ExpectedType.>'\n",
      "2024-04-18 15:42:35,215 [3257012]   WARN - #c.j.p.PhpIndex - Invalid Signature '\\Webmozart\\Assert\\class-string<#ᢐ\\ExpectedType.>'\n"
     ]
    }
   ],
   "source": [
    "! phpstorm project"
   ]
  },
  {
   "cell_type": "markdown",
   "metadata": {},
   "source": [
    "Stop the databses:"
   ]
  },
  {
   "cell_type": "code",
   "execution_count": 4,
   "metadata": {},
   "outputs": [
    {
     "name": "stdout",
     "output_type": "stream",
     "text": [
      "redis\n"
     ]
    }
   ],
   "source": [
    "! docker container stop redis"
   ]
  },
  {
   "cell_type": "code",
   "execution_count": 3,
   "metadata": {},
   "outputs": [
    {
     "name": "stdout",
     "output_type": "stream",
     "text": [
      "mysql\n"
     ]
    }
   ],
   "source": [
    "! docker container stop mysql"
   ]
  },
  {
   "cell_type": "code",
   "execution_count": null,
   "metadata": {},
   "outputs": [],
   "source": []
  }
 ],
 "metadata": {
  "kernelspec": {
   "display_name": "Python 3 (ipykernel)",
   "language": "python",
   "name": "python3"
  },
  "language_info": {
   "codemirror_mode": {
    "name": "ipython",
    "version": 3
   },
   "file_extension": ".py",
   "mimetype": "text/x-python",
   "name": "python",
   "nbconvert_exporter": "python",
   "pygments_lexer": "ipython3",
   "version": "3.11.5"
  }
 },
 "nbformat": 4,
 "nbformat_minor": 4
}
