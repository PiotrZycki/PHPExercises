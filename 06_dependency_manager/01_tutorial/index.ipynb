{
 "cells": [
  {
   "cell_type": "markdown",
   "metadata": {},
   "source": [
    "# PHP"
   ]
  },
  {
   "cell_type": "markdown",
   "metadata": {},
   "source": [
    "## 6. Dependency Manager"
   ]
  },
  {
   "cell_type": "markdown",
   "metadata": {},
   "source": [
    "### 6.1 Tutorial"
   ]
  },
  {
   "cell_type": "markdown",
   "metadata": {},
   "source": [
    "#### Composer"
   ]
  },
  {
   "cell_type": "markdown",
   "metadata": {},
   "source": [
    "Current directory content:"
   ]
  },
  {
   "cell_type": "code",
   "execution_count": 1,
   "metadata": {},
   "outputs": [
    {
     "name": "stdout",
     "output_type": "stream",
     "text": [
      "total 12\n",
      "-rw-rw-r-- 1 student student 8770 Apr 18 09:40 index.ipynb\n"
     ]
    }
   ],
   "source": [
    "! ls -l"
   ]
  },
  {
   "cell_type": "markdown",
   "metadata": {},
   "source": [
    "Composer version:"
   ]
  },
  {
   "cell_type": "code",
   "execution_count": 2,
   "metadata": {},
   "outputs": [
    {
     "name": "stdout",
     "output_type": "stream",
     "text": [
      "\u001b[32mComposer\u001b[39m version \u001b[33m2.7.1\u001b[39m 2024-02-09 15:26:28\n"
     ]
    }
   ],
   "source": [
    "! composer --version"
   ]
  },
  {
   "cell_type": "markdown",
   "metadata": {},
   "source": [
    "Initializing Composer:"
   ]
  },
  {
   "cell_type": "code",
   "execution_count": 3,
   "metadata": {},
   "outputs": [
    {
     "name": "stdout",
     "output_type": "stream",
     "text": [
      "Writing ./composer.json\n"
     ]
    }
   ],
   "source": [
    "! composer init --no-interaction \\\n",
    "    --name=\"ddgg/tutorial\" \\\n",
    "    --description=\"Simple tutorial\" \\\n",
    "    --author=\"Damian Gwiżdż <damian.gwizdz@gmail.com>\" \\\n",
    "    --type=\"project\" \\\n",
    "    --stability=\"stable\" \\\n",
    "    --license=\"MIT\""
   ]
  },
  {
   "cell_type": "markdown",
   "metadata": {},
   "source": [
    "This command generated new file:"
   ]
  },
  {
   "cell_type": "code",
   "execution_count": 4,
   "metadata": {},
   "outputs": [
    {
     "name": "stdout",
     "output_type": "stream",
     "text": [
      "total 16\n",
      "-rw-r--r-- 1 student student  299 Apr 18 09:53 composer.json\n",
      "-rw-rw-r-- 1 student student 8770 Apr 18 09:40 index.ipynb\n"
     ]
    }
   ],
   "source": [
    "! ls -l"
   ]
  },
  {
   "cell_type": "markdown",
   "metadata": {},
   "source": [
    "Now open the generated [composer.json](/edit/06_dependency_manager/01_tutorial/composer.json)."
   ]
  },
  {
   "cell_type": "markdown",
   "metadata": {},
   "source": [
    "Next run:"
   ]
  },
  {
   "cell_type": "code",
   "execution_count": 5,
   "metadata": {},
   "outputs": [
    {
     "name": "stdout",
     "output_type": "stream",
     "text": [
      "\u001b[30;43mNo composer.lock file present. Updating dependencies to latest instead of installing from lock file. See https://getcomposer.org/install for more information.\u001b[39;49m\n",
      "\u001b[32mLoading composer repositories with package information\u001b[39m\n",
      "\u001b[32mUpdating dependencies\u001b[39m\n",
      "Nothing to modify in lock file\n",
      "\u001b[32mWriting lock file\u001b[39m\n",
      "\u001b[32mInstalling dependencies from lock file (including require-dev)\u001b[39m\n",
      "Nothing to install, update or remove\n",
      "\u001b[32mGenerating autoload files\u001b[39m\n"
     ]
    }
   ],
   "source": [
    "! composer install"
   ]
  },
  {
   "cell_type": "markdown",
   "metadata": {},
   "source": [
    "This command creates the [vendor/](/tree/06_dependency_manager/01_tutorial/vendor) directory."
   ]
  },
  {
   "cell_type": "code",
   "execution_count": 6,
   "metadata": {},
   "outputs": [
    {
     "name": "stdout",
     "output_type": "stream",
     "text": [
      "total 24\n",
      "-rw-r--r-- 1 student student   299 Apr 18 09:53 composer.json\n",
      "-rw-r--r-- 1 student student   571 Apr 18 09:54 composer.lock\n",
      "-rw-rw-r-- 1 student student 10211 Apr 18 09:54 index.ipynb\n",
      "drwxr-xr-x 3 student student  4096 Apr 18 09:54 vendor\n"
     ]
    }
   ],
   "source": [
    "! ls -l"
   ]
  },
  {
   "cell_type": "markdown",
   "metadata": {},
   "source": [
    "Note that there is an automatically generated autoloader in [vendor/autoload.php](/edit/06_dependency_manager/01_tutorial/vendor/autoload.php)!"
   ]
  },
  {
   "cell_type": "markdown",
   "metadata": {},
   "source": [
    "Instal a package:"
   ]
  },
  {
   "cell_type": "code",
   "execution_count": 7,
   "metadata": {},
   "outputs": [
    {
     "name": "stdout",
     "output_type": "stream",
     "text": [
      "\u001b[30;43mYou are using the deprecated option \"--no-suggest\". It has no effect and will break in Composer 3.\u001b[39;49m\n",
      "\u001b[32m./composer.json has been updated\u001b[39m\n",
      "\u001b[32mRunning composer update monolog/monolog\u001b[39m\n",
      "\u001b[32mLoading composer repositories with package information\u001b[39m\n",
      "\u001b[32mUpdating dependencies\u001b[39m\n",
      "\u001b[32mLock file operations: 2 installs, 0 updates, 0 removals\u001b[39m\n",
      "  - Locking \u001b[32mmonolog/monolog\u001b[39m (\u001b[33m3.6.0\u001b[39m)\n",
      "  - Locking \u001b[32mpsr/log\u001b[39m (\u001b[33m3.0.0\u001b[39m)\n",
      "\u001b[32mWriting lock file\u001b[39m\n",
      "\u001b[32mInstalling dependencies from lock file (including require-dev)\u001b[39m\n",
      "\u001b[32mPackage operations: 2 installs, 0 updates, 0 removals\u001b[39m\n",
      "  - Downloading \u001b[32mpsr/log\u001b[39m (\u001b[33m3.0.0\u001b[39m)\n",
      "  - Downloading \u001b[32mmonolog/monolog\u001b[39m (\u001b[33m3.6.0\u001b[39m)\n",
      " 0/2 [>---------------------------]   0%\u001b[1G\u001b[2K 1/2 [==============>-------------]  50%\u001b[1G\u001b[2K 2/2 [============================] 100%\u001b[1G\u001b[2K  - Installing \u001b[32mpsr/log\u001b[39m (\u001b[33m3.0.0\u001b[39m): Extracting archive\n",
      "  - Installing \u001b[32mmonolog/monolog\u001b[39m (\u001b[33m3.6.0\u001b[39m): Extracting archive\n",
      " 0/2 [>---------------------------]   0%\u001b[1G\u001b[2K 1/2 [==============>-------------]  50%\u001b[1G\u001b[2K 2/2 [============================] 100%\u001b[1G\u001b[2K\u001b[32m10 package suggestions were added by new dependencies, use `composer suggest` to see details.\u001b[39m\n",
      "\u001b[32mGenerating autoload files\u001b[39m\n",
      "\u001b[32m1 package you are using is looking for funding.\u001b[39m\n",
      "\u001b[32mUse the `composer fund` command to find out more!\u001b[39m\n",
      "\u001b[32mNo security vulnerability advisories found.\u001b[39m\n",
      "Using version \u001b[32m^3.6\u001b[39m for \u001b[32mmonolog/monolog\u001b[39m\n"
     ]
    }
   ],
   "source": [
    "! composer require monolog/monolog --no-suggest "
   ]
  },
  {
   "cell_type": "markdown",
   "metadata": {},
   "source": [
    "New file is created:"
   ]
  },
  {
   "cell_type": "code",
   "execution_count": 8,
   "metadata": {},
   "outputs": [
    {
     "name": "stdout",
     "output_type": "stream",
     "text": [
      "total 28\n",
      "-rw-r--r-- 1 student student   338 Apr 18 09:56 composer.json\n",
      "-rw-r--r-- 1 student student  6791 Apr 18 09:56 composer.lock\n",
      "-rw-rw-r-- 1 student student 10211 Apr 18 09:54 index.ipynb\n",
      "drwxr-xr-x 6 student student  4096 Apr 18 09:56 vendor\n"
     ]
    }
   ],
   "source": [
    "! ls -l"
   ]
  },
  {
   "cell_type": "markdown",
   "metadata": {},
   "source": [
    "Now open the generated [composer.lock](/edit/06_dependency_manager/01_tutorial/composer.lock). This file contains exact versions of installed packages. \n",
    "\n",
    "The [composer.json](/edit/06_dependency_manager/01_tutorial/composer.json) has also changed - it contains new package in the ```require``` section."
   ]
  },
  {
   "cell_type": "markdown",
   "metadata": {},
   "source": [
    "Create a new PHP file:"
   ]
  },
  {
   "cell_type": "code",
   "execution_count": 9,
   "metadata": {},
   "outputs": [],
   "source": [
    "! touch index.php"
   ]
  },
  {
   "cell_type": "markdown",
   "metadata": {},
   "source": [
    "Add this code in [index.php](/edit/06_dependency_manager/01_tutorial/index.php):\n",
    "\n",
    "```php\n",
    "<?php\n",
    "\n",
    "require \"vendor/autoload.php\";\n",
    "    \n",
    "use Monolog\\Logger;\n",
    "use Monolog\\Handler\\StreamHandler;\n",
    "\n",
    "// create a log channel\n",
    "$log = new Logger('name');\n",
    "$log->pushHandler(new StreamHandler('test.log', Logger::WARNING));\n",
    "\n",
    "// add records to the log\n",
    "$log->warning('Foo');\n",
    "$log->error('Bar');\n",
    "\n",
    "```"
   ]
  },
  {
   "cell_type": "markdown",
   "metadata": {},
   "source": [
    "Run the code:"
   ]
  },
  {
   "cell_type": "code",
   "execution_count": 10,
   "metadata": {},
   "outputs": [],
   "source": [
    "! php index.php"
   ]
  },
  {
   "cell_type": "markdown",
   "metadata": {},
   "source": [
    "See the directory content:"
   ]
  },
  {
   "cell_type": "code",
   "execution_count": 11,
   "metadata": {},
   "outputs": [
    {
     "name": "stdout",
     "output_type": "stream",
     "text": [
      "total 40\n",
      "-rw-r--r-- 1 student student   338 Apr 18 09:56 composer.json\n",
      "-rw-r--r-- 1 student student  6791 Apr 18 09:56 composer.lock\n",
      "-rw-rw-r-- 1 student student 13212 Apr 18 09:56 index.ipynb\n",
      "-rw-r--r-- 1 student student   285 Apr 18 09:57 index.php\n",
      "-rw-r--r-- 1 student student   116 Apr 18 10:00 test.log\n",
      "drwxr-xr-x 6 student student  4096 Apr 18 09:56 vendor\n"
     ]
    }
   ],
   "source": [
    "! ls -l"
   ]
  },
  {
   "cell_type": "markdown",
   "metadata": {},
   "source": [
    "The file with logs has been created:"
   ]
  },
  {
   "cell_type": "code",
   "execution_count": 12,
   "metadata": {},
   "outputs": [
    {
     "name": "stdout",
     "output_type": "stream",
     "text": [
      "[2024-04-18T08:00:30.128336+00:00] name.WARNING: Foo [] []\n",
      "[2024-04-18T08:00:30.129734+00:00] name.ERROR: Bar [] []\n"
     ]
    }
   ],
   "source": [
    "! cat test.log"
   ]
  },
  {
   "cell_type": "markdown",
   "metadata": {},
   "source": [
    "Simulate clean checkout:"
   ]
  },
  {
   "cell_type": "code",
   "execution_count": 13,
   "metadata": {},
   "outputs": [],
   "source": [
    "! rm -rf vendor/ test.log"
   ]
  },
  {
   "cell_type": "markdown",
   "metadata": {},
   "source": [
    "Try executing application:"
   ]
  },
  {
   "cell_type": "code",
   "execution_count": 14,
   "metadata": {},
   "outputs": [
    {
     "name": "stdout",
     "output_type": "stream",
     "text": [
      "PHP Warning:  require(vendor/autoload.php): Failed to open stream: No such file or directory in /home/student/php_2024/06_dependency_manager/01_tutorial/index.php on line 3\n",
      "PHP Stack trace:\n",
      "PHP   1. {main}() /home/student/php_2024/06_dependency_manager/01_tutorial/index.php:0\n",
      "PHP Fatal error:  Uncaught Error: Failed opening required 'vendor/autoload.php' (include_path='.:/usr/share/php') in /home/student/php_2024/06_dependency_manager/01_tutorial/index.php:3\n",
      "Stack trace:\n",
      "#0 {main}\n",
      "  thrown in /home/student/php_2024/06_dependency_manager/01_tutorial/index.php on line 3\n"
     ]
    }
   ],
   "source": [
    "! php index.php"
   ]
  },
  {
   "cell_type": "markdown",
   "metadata": {},
   "source": [
    "Fix the error by installing packages:"
   ]
  },
  {
   "cell_type": "code",
   "execution_count": 15,
   "metadata": {},
   "outputs": [
    {
     "name": "stdout",
     "output_type": "stream",
     "text": [
      "\u001b[32mInstalling dependencies from lock file (including require-dev)\u001b[39m\n",
      "\u001b[32mVerifying lock file contents can be installed on current platform.\u001b[39m\n",
      "\u001b[32mPackage operations: 2 installs, 0 updates, 0 removals\u001b[39m\n",
      "    0 [>---------------------------]\u001b[1G\u001b[2K    0 [->--------------------------]\u001b[1G\u001b[2K    0 [--->------------------------]\u001b[1G\u001b[2K  - Installing \u001b[32mpsr/log\u001b[39m (\u001b[33m3.0.0\u001b[39m): Extracting archive\n",
      "  - Installing \u001b[32mmonolog/monolog\u001b[39m (\u001b[33m3.6.0\u001b[39m): Extracting archive\n",
      " 0/2 [>---------------------------]   0%\u001b[1G\u001b[2K 2/2 [============================] 100%\u001b[1G\u001b[2K\u001b[32mGenerating autoload files\u001b[39m\n",
      "\u001b[32m1 package you are using is looking for funding.\u001b[39m\n",
      "\u001b[32mUse the `composer fund` command to find out more!\u001b[39m\n"
     ]
    }
   ],
   "source": [
    "! composer install"
   ]
  },
  {
   "cell_type": "markdown",
   "metadata": {},
   "source": [
    "Try again:"
   ]
  },
  {
   "cell_type": "code",
   "execution_count": 16,
   "metadata": {},
   "outputs": [],
   "source": [
    "! php index.php"
   ]
  },
  {
   "cell_type": "code",
   "execution_count": 17,
   "metadata": {},
   "outputs": [
    {
     "name": "stdout",
     "output_type": "stream",
     "text": [
      "[2024-04-18T08:01:25.354278+00:00] name.WARNING: Foo [] []\n",
      "[2024-04-18T08:01:25.355543+00:00] name.ERROR: Bar [] []\n"
     ]
    }
   ],
   "source": [
    "! cat test.log"
   ]
  },
  {
   "cell_type": "markdown",
   "metadata": {},
   "source": [
    "Cleanup:"
   ]
  },
  {
   "cell_type": "code",
   "execution_count": 18,
   "metadata": {},
   "outputs": [
    {
     "name": "stdout",
     "output_type": "stream",
     "text": [
      "Removing .ipynb_checkpoints/\n",
      "Removing composer.json\n",
      "Removing composer.lock\n",
      "Removing index.php\n",
      "Removing test.log\n",
      "Removing vendor/\n"
     ]
    }
   ],
   "source": [
    "! git clean -fdx ."
   ]
  },
  {
   "cell_type": "markdown",
   "metadata": {},
   "source": [
    "#### Redis"
   ]
  },
  {
   "cell_type": "markdown",
   "metadata": {},
   "source": [
    "Check running containers:"
   ]
  },
  {
   "cell_type": "code",
   "execution_count": 19,
   "metadata": {},
   "outputs": [
    {
     "name": "stdout",
     "output_type": "stream",
     "text": [
      "CONTAINER ID   IMAGE                    COMMAND                  CREATED          STATUS                PORTS     NAMES\n",
      "386ea5678a9d   ddgg/php_2024:notes_v1   \"/bin/sh -c 'jupyter…\"   20 minutes ago   Up 20 minutes                   objective_ptolemy\n",
      "a59deeda1ec8   mysql/mysql-server:8.0   \"/entrypoint.sh mysq…\"   6 days ago       Up 6 days (healthy)             mysql\n",
      "e89d07634a22   redis                    \"docker-entrypoint.s…\"   6 days ago       Up 6 days                       redis\n",
      "50e282b32b2f   ddgg/php_2024:notes_v1   \"/bin/sh -c 'jupyter…\"   6 days ago       Up 6 days                       upbeat_swartz\n",
      "6ae9715d1bf6   ddgg/php_2024:notes_v1   \"/bin/sh -c 'jupyter…\"   13 days ago      Up 13 days                      pedantic_feistel\n"
     ]
    }
   ],
   "source": [
    "! docker ps"
   ]
  },
  {
   "cell_type": "markdown",
   "metadata": {},
   "source": [
    "Start Redis:"
   ]
  },
  {
   "cell_type": "code",
   "execution_count": 20,
   "metadata": {},
   "outputs": [
    {
     "name": "stdout",
     "output_type": "stream",
     "text": [
      "docker: Error response from daemon: Conflict. The container name \"/redis\" is already in use by container \"e89d07634a227e7ae83c3230d9a55654d37268f20805c9a0c9e5e12dfaba5aaa\". You have to remove (or rename) that container to be able to reuse that name.\n",
      "See 'docker run --help'.\n"
     ]
    }
   ],
   "source": [
    "! docker run --net=host --rm --name redis -d redis"
   ]
  },
  {
   "cell_type": "markdown",
   "metadata": {},
   "source": [
    "Check running containers again:"
   ]
  },
  {
   "cell_type": "code",
   "execution_count": 21,
   "metadata": {},
   "outputs": [
    {
     "name": "stdout",
     "output_type": "stream",
     "text": [
      "CONTAINER ID   IMAGE                    COMMAND                  CREATED          STATUS                PORTS     NAMES\n",
      "386ea5678a9d   ddgg/php_2024:notes_v1   \"/bin/sh -c 'jupyter…\"   20 minutes ago   Up 20 minutes                   objective_ptolemy\n",
      "a59deeda1ec8   mysql/mysql-server:8.0   \"/entrypoint.sh mysq…\"   6 days ago       Up 6 days (healthy)             mysql\n",
      "e89d07634a22   redis                    \"docker-entrypoint.s…\"   6 days ago       Up 6 days                       redis\n",
      "50e282b32b2f   ddgg/php_2024:notes_v1   \"/bin/sh -c 'jupyter…\"   6 days ago       Up 6 days                       upbeat_swartz\n",
      "6ae9715d1bf6   ddgg/php_2024:notes_v1   \"/bin/sh -c 'jupyter…\"   13 days ago      Up 13 days                      pedantic_feistel\n"
     ]
    }
   ],
   "source": [
    "! docker ps"
   ]
  },
  {
   "cell_type": "markdown",
   "metadata": {},
   "source": [
    "Wait for port ```6379```:"
   ]
  },
  {
   "cell_type": "code",
   "execution_count": 22,
   "metadata": {},
   "outputs": [
    {
     "name": "stdout",
     "output_type": "stream",
     "text": [
      "Done.\n"
     ]
    }
   ],
   "source": [
    "! while ! timeout 1 bash -c \"echo > /dev/tcp/localhost/6379\" 2> /dev/null; \\\n",
    "  do \\\n",
    "    echo \"Waiting for Redis...\"; \\\n",
    "    sleep 1; \\\n",
    "  done; \\\n",
    "  echo \"Done.\""
   ]
  },
  {
   "cell_type": "markdown",
   "metadata": {},
   "source": [
    "See Redis logs:"
   ]
  },
  {
   "cell_type": "code",
   "execution_count": 23,
   "metadata": {
    "scrolled": true
   },
   "outputs": [
    {
     "name": "stdout",
     "output_type": "stream",
     "text": [
      "1:C 11 Apr 2024 15:18:57.597 # WARNING Memory overcommit must be enabled! Without it, a background save or replication may fail under low memory condition. Being disabled, it can also cause failures without low memory condition, see https://github.com/jemalloc/jemalloc/issues/1328. To fix this issue add 'vm.overcommit_memory = 1' to /etc/sysctl.conf and then reboot or run the command 'sysctl vm.overcommit_memory=1' for this to take effect.\n",
      "1:C 11 Apr 2024 15:18:57.597 * oO0OoO0OoO0Oo Redis is starting oO0OoO0OoO0Oo\n",
      "1:C 11 Apr 2024 15:18:57.597 * Redis version=7.2.4, bits=64, commit=00000000, modified=0, pid=1, just started\n",
      "1:C 11 Apr 2024 15:18:57.597 # Warning: no config file specified, using the default config. In order to specify a config file use redis-server /path/to/redis.conf\n",
      "1:M 11 Apr 2024 15:18:57.598 * monotonic clock: POSIX clock_gettime\n",
      "1:M 11 Apr 2024 15:18:57.598 * Running mode=standalone, port=6379.\n",
      "1:M 11 Apr 2024 15:18:57.599 * Server initialized\n",
      "1:M 11 Apr 2024 15:18:57.599 * Ready to accept connections tcp\n"
     ]
    }
   ],
   "source": [
    "! docker logs redis"
   ]
  },
  {
   "cell_type": "markdown",
   "metadata": {},
   "source": [
    "Stop Redis:"
   ]
  },
  {
   "cell_type": "code",
   "execution_count": 24,
   "metadata": {},
   "outputs": [
    {
     "name": "stdout",
     "output_type": "stream",
     "text": [
      "redis\n"
     ]
    }
   ],
   "source": [
    "! docker container stop redis"
   ]
  },
  {
   "cell_type": "code",
   "execution_count": null,
   "metadata": {},
   "outputs": [],
   "source": []
  }
 ],
 "metadata": {
  "kernelspec": {
   "display_name": "Python 3 (ipykernel)",
   "language": "python",
   "name": "python3"
  },
  "language_info": {
   "codemirror_mode": {
    "name": "ipython",
    "version": 3
   },
   "file_extension": ".py",
   "mimetype": "text/x-python",
   "name": "python",
   "nbconvert_exporter": "python",
   "pygments_lexer": "ipython3",
   "version": "3.11.5"
  }
 },
 "nbformat": 4,
 "nbformat_minor": 4
}
