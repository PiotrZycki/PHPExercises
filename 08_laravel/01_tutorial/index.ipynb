{
 "cells": [
  {
   "cell_type": "markdown",
   "metadata": {},
   "source": [
    "# PHP"
   ]
  },
  {
   "cell_type": "markdown",
   "metadata": {},
   "source": [
    "## 8. Laravel"
   ]
  },
  {
   "cell_type": "markdown",
   "metadata": {},
   "source": [
    "### 8.1 Tutorial"
   ]
  },
  {
   "cell_type": "markdown",
   "metadata": {},
   "source": [
    "#### Basics"
   ]
  },
  {
   "cell_type": "markdown",
   "metadata": {},
   "source": [
    "Create a project:"
   ]
  },
  {
   "cell_type": "code",
   "execution_count": 1,
   "metadata": {},
   "outputs": [
    {
     "name": "stdout",
     "output_type": "stream",
     "text": [
      "\u001b[32mCreating a \"laravel/laravel:11.0.6\" project at \"./project\"\u001b[39m\n",
      "\u001b[32mInstalling laravel/laravel (v11.0.6)\u001b[39m\n",
      "  - Downloading \u001b[32mlaravel/laravel\u001b[39m (\u001b[33mv11.0.6\u001b[39m)\n",
      "  - Installing \u001b[32mlaravel/laravel\u001b[39m (\u001b[33mv11.0.6\u001b[39m): Extracting archive\n",
      "\u001b[32mCreated project in /home/student/php_2024_piotr_zycki/08_laravel/01_tutorial/project\u001b[39m\n",
      "> @php -r \"file_exists('.env') || copy('.env.example', '.env');\"\n",
      "\u001b[32mLoading composer repositories with package information\u001b[39m\n",
      "\u001b[32mUpdating dependencies\u001b[39m\n",
      "\u001b[32mLock file operations: 111 installs, 0 updates, 0 removals\u001b[39m\n",
      "  - Locking \u001b[32mbrick/math\u001b[39m (\u001b[33m0.12.1\u001b[39m)\n",
      "  - Locking \u001b[32mcarbonphp/carbon-doctrine-types\u001b[39m (\u001b[33m3.2.0\u001b[39m)\n",
      "  - Locking \u001b[32mdflydev/dot-access-data\u001b[39m (\u001b[33mv3.0.2\u001b[39m)\n",
      "  - Locking \u001b[32mdoctrine/inflector\u001b[39m (\u001b[33m2.0.10\u001b[39m)\n",
      "  - Locking \u001b[32mdoctrine/lexer\u001b[39m (\u001b[33m3.0.1\u001b[39m)\n",
      "  - Locking \u001b[32mdragonmantank/cron-expression\u001b[39m (\u001b[33mv3.3.3\u001b[39m)\n",
      "  - Locking \u001b[32megulias/email-validator\u001b[39m (\u001b[33m4.0.2\u001b[39m)\n",
      "  - Locking \u001b[32mfakerphp/faker\u001b[39m (\u001b[33mv1.23.1\u001b[39m)\n",
      "  - Locking \u001b[32mfilp/whoops\u001b[39m (\u001b[33m2.15.4\u001b[39m)\n",
      "  - Locking \u001b[32mfruitcake/php-cors\u001b[39m (\u001b[33mv1.3.0\u001b[39m)\n",
      "  - Locking \u001b[32mgraham-campbell/result-type\u001b[39m (\u001b[33mv1.1.2\u001b[39m)\n",
      "  - Locking \u001b[32mguzzlehttp/guzzle\u001b[39m (\u001b[33m7.8.1\u001b[39m)\n",
      "  - Locking \u001b[32mguzzlehttp/promises\u001b[39m (\u001b[33m2.0.2\u001b[39m)\n",
      "  - Locking \u001b[32mguzzlehttp/psr7\u001b[39m (\u001b[33m2.6.2\u001b[39m)\n",
      "  - Locking \u001b[32mguzzlehttp/uri-template\u001b[39m (\u001b[33mv1.0.3\u001b[39m)\n",
      "  - Locking \u001b[32mhamcrest/hamcrest-php\u001b[39m (\u001b[33mv2.0.1\u001b[39m)\n",
      "  - Locking \u001b[32mlaravel/framework\u001b[39m (\u001b[33mv11.7.0\u001b[39m)\n",
      "  - Locking \u001b[32mlaravel/pint\u001b[39m (\u001b[33mv1.15.3\u001b[39m)\n",
      "  - Locking \u001b[32mlaravel/prompts\u001b[39m (\u001b[33mv0.1.21\u001b[39m)\n",
      "  - Locking \u001b[32mlaravel/sail\u001b[39m (\u001b[33mv1.29.1\u001b[39m)\n",
      "  - Locking \u001b[32mlaravel/serializable-closure\u001b[39m (\u001b[33mv1.3.3\u001b[39m)\n",
      "  - Locking \u001b[32mlaravel/tinker\u001b[39m (\u001b[33mv2.9.0\u001b[39m)\n",
      "  - Locking \u001b[32mleague/commonmark\u001b[39m (\u001b[33m2.4.2\u001b[39m)\n",
      "  - Locking \u001b[32mleague/config\u001b[39m (\u001b[33mv1.2.0\u001b[39m)\n",
      "  - Locking \u001b[32mleague/flysystem\u001b[39m (\u001b[33m3.27.0\u001b[39m)\n",
      "  - Locking \u001b[32mleague/flysystem-local\u001b[39m (\u001b[33m3.25.1\u001b[39m)\n",
      "  - Locking \u001b[32mleague/mime-type-detection\u001b[39m (\u001b[33m1.15.0\u001b[39m)\n",
      "  - Locking \u001b[32mmockery/mockery\u001b[39m (\u001b[33m1.6.12\u001b[39m)\n",
      "  - Locking \u001b[32mmonolog/monolog\u001b[39m (\u001b[33m3.6.0\u001b[39m)\n",
      "  - Locking \u001b[32mmyclabs/deep-copy\u001b[39m (\u001b[33m1.11.1\u001b[39m)\n",
      "  - Locking \u001b[32mnesbot/carbon\u001b[39m (\u001b[33m3.3.1\u001b[39m)\n",
      "  - Locking \u001b[32mnette/schema\u001b[39m (\u001b[33mv1.3.0\u001b[39m)\n",
      "  - Locking \u001b[32mnette/utils\u001b[39m (\u001b[33mv4.0.4\u001b[39m)\n",
      "  - Locking \u001b[32mnikic/php-parser\u001b[39m (\u001b[33mv5.0.2\u001b[39m)\n",
      "  - Locking \u001b[32mnunomaduro/collision\u001b[39m (\u001b[33mv8.1.1\u001b[39m)\n",
      "  - Locking \u001b[32mnunomaduro/termwind\u001b[39m (\u001b[33mv2.0.1\u001b[39m)\n",
      "  - Locking \u001b[32mphar-io/manifest\u001b[39m (\u001b[33m2.0.4\u001b[39m)\n",
      "  - Locking \u001b[32mphar-io/version\u001b[39m (\u001b[33m3.2.1\u001b[39m)\n",
      "  - Locking \u001b[32mphpoption/phpoption\u001b[39m (\u001b[33m1.9.2\u001b[39m)\n",
      "  - Locking \u001b[32mphpunit/php-code-coverage\u001b[39m (\u001b[33m11.0.3\u001b[39m)\n",
      "  - Locking \u001b[32mphpunit/php-file-iterator\u001b[39m (\u001b[33m5.0.0\u001b[39m)\n",
      "  - Locking \u001b[32mphpunit/php-invoker\u001b[39m (\u001b[33m5.0.0\u001b[39m)\n",
      "  - Locking \u001b[32mphpunit/php-text-template\u001b[39m (\u001b[33m4.0.0\u001b[39m)\n",
      "  - Locking \u001b[32mphpunit/php-timer\u001b[39m (\u001b[33m7.0.0\u001b[39m)\n",
      "  - Locking \u001b[32mphpunit/phpunit\u001b[39m (\u001b[33m11.1.3\u001b[39m)\n",
      "  - Locking \u001b[32mpsr/clock\u001b[39m (\u001b[33m1.0.0\u001b[39m)\n",
      "  - Locking \u001b[32mpsr/container\u001b[39m (\u001b[33m2.0.2\u001b[39m)\n",
      "  - Locking \u001b[32mpsr/event-dispatcher\u001b[39m (\u001b[33m1.0.0\u001b[39m)\n",
      "  - Locking \u001b[32mpsr/http-client\u001b[39m (\u001b[33m1.0.3\u001b[39m)\n",
      "  - Locking \u001b[32mpsr/http-factory\u001b[39m (\u001b[33m1.1.0\u001b[39m)\n",
      "  - Locking \u001b[32mpsr/http-message\u001b[39m (\u001b[33m2.0\u001b[39m)\n",
      "  - Locking \u001b[32mpsr/log\u001b[39m (\u001b[33m3.0.0\u001b[39m)\n",
      "  - Locking \u001b[32mpsr/simple-cache\u001b[39m (\u001b[33m3.0.0\u001b[39m)\n",
      "  - Locking \u001b[32mpsy/psysh\u001b[39m (\u001b[33mv0.12.3\u001b[39m)\n",
      "  - Locking \u001b[32mralouphie/getallheaders\u001b[39m (\u001b[33m3.0.3\u001b[39m)\n",
      "  - Locking \u001b[32mramsey/collection\u001b[39m (\u001b[33m2.0.0\u001b[39m)\n",
      "  - Locking \u001b[32mramsey/uuid\u001b[39m (\u001b[33m4.7.6\u001b[39m)\n",
      "  - Locking \u001b[32msebastian/cli-parser\u001b[39m (\u001b[33m3.0.1\u001b[39m)\n",
      "  - Locking \u001b[32msebastian/code-unit\u001b[39m (\u001b[33m3.0.0\u001b[39m)\n",
      "  - Locking \u001b[32msebastian/code-unit-reverse-lookup\u001b[39m (\u001b[33m4.0.0\u001b[39m)\n",
      "  - Locking \u001b[32msebastian/comparator\u001b[39m (\u001b[33m6.0.0\u001b[39m)\n",
      "  - Locking \u001b[32msebastian/complexity\u001b[39m (\u001b[33m4.0.0\u001b[39m)\n",
      "  - Locking \u001b[32msebastian/diff\u001b[39m (\u001b[33m6.0.1\u001b[39m)\n",
      "  - Locking \u001b[32msebastian/environment\u001b[39m (\u001b[33m7.1.0\u001b[39m)\n",
      "  - Locking \u001b[32msebastian/exporter\u001b[39m (\u001b[33m6.0.1\u001b[39m)\n",
      "  - Locking \u001b[32msebastian/global-state\u001b[39m (\u001b[33m7.0.1\u001b[39m)\n",
      "  - Locking \u001b[32msebastian/lines-of-code\u001b[39m (\u001b[33m3.0.0\u001b[39m)\n",
      "  - Locking \u001b[32msebastian/object-enumerator\u001b[39m (\u001b[33m6.0.0\u001b[39m)\n",
      "  - Locking \u001b[32msebastian/object-reflector\u001b[39m (\u001b[33m4.0.0\u001b[39m)\n",
      "  - Locking \u001b[32msebastian/recursion-context\u001b[39m (\u001b[33m6.0.0\u001b[39m)\n",
      "  - Locking \u001b[32msebastian/type\u001b[39m (\u001b[33m5.0.0\u001b[39m)\n",
      "  - Locking \u001b[32msebastian/version\u001b[39m (\u001b[33m5.0.0\u001b[39m)\n",
      "  - Locking \u001b[32mspatie/backtrace\u001b[39m (\u001b[33m1.6.1\u001b[39m)\n",
      "  - Locking \u001b[32mspatie/flare-client-php\u001b[39m (\u001b[33m1.5.1\u001b[39m)\n",
      "  - Locking \u001b[32mspatie/ignition\u001b[39m (\u001b[33m1.14.1\u001b[39m)\n",
      "  - Locking \u001b[32mspatie/laravel-ignition\u001b[39m (\u001b[33m2.7.0\u001b[39m)\n",
      "  - Locking \u001b[32msymfony/clock\u001b[39m (\u001b[33mv7.0.7\u001b[39m)\n",
      "  - Locking \u001b[32msymfony/console\u001b[39m (\u001b[33mv7.0.7\u001b[39m)\n",
      "  - Locking \u001b[32msymfony/css-selector\u001b[39m (\u001b[33mv7.0.7\u001b[39m)\n",
      "  - Locking \u001b[32msymfony/deprecation-contracts\u001b[39m (\u001b[33mv3.5.0\u001b[39m)\n",
      "  - Locking \u001b[32msymfony/error-handler\u001b[39m (\u001b[33mv7.0.7\u001b[39m)\n",
      "  - Locking \u001b[32msymfony/event-dispatcher\u001b[39m (\u001b[33mv7.0.7\u001b[39m)\n",
      "  - Locking \u001b[32msymfony/event-dispatcher-contracts\u001b[39m (\u001b[33mv3.5.0\u001b[39m)\n",
      "  - Locking \u001b[32msymfony/finder\u001b[39m (\u001b[33mv7.0.7\u001b[39m)\n",
      "  - Locking \u001b[32msymfony/http-foundation\u001b[39m (\u001b[33mv7.0.7\u001b[39m)\n",
      "  - Locking \u001b[32msymfony/http-kernel\u001b[39m (\u001b[33mv7.0.7\u001b[39m)\n",
      "  - Locking \u001b[32msymfony/mailer\u001b[39m (\u001b[33mv7.0.7\u001b[39m)\n",
      "  - Locking \u001b[32msymfony/mime\u001b[39m (\u001b[33mv7.0.7\u001b[39m)\n",
      "  - Locking \u001b[32msymfony/polyfill-ctype\u001b[39m (\u001b[33mv1.29.0\u001b[39m)\n",
      "  - Locking \u001b[32msymfony/polyfill-intl-grapheme\u001b[39m (\u001b[33mv1.29.0\u001b[39m)\n",
      "  - Locking \u001b[32msymfony/polyfill-intl-idn\u001b[39m (\u001b[33mv1.29.0\u001b[39m)\n",
      "  - Locking \u001b[32msymfony/polyfill-intl-normalizer\u001b[39m (\u001b[33mv1.29.0\u001b[39m)\n",
      "  - Locking \u001b[32msymfony/polyfill-mbstring\u001b[39m (\u001b[33mv1.29.0\u001b[39m)\n",
      "  - Locking \u001b[32msymfony/polyfill-php72\u001b[39m (\u001b[33mv1.29.0\u001b[39m)\n",
      "  - Locking \u001b[32msymfony/polyfill-php80\u001b[39m (\u001b[33mv1.29.0\u001b[39m)\n",
      "  - Locking \u001b[32msymfony/polyfill-php83\u001b[39m (\u001b[33mv1.29.0\u001b[39m)\n",
      "  - Locking \u001b[32msymfony/polyfill-uuid\u001b[39m (\u001b[33mv1.29.0\u001b[39m)\n",
      "  - Locking \u001b[32msymfony/process\u001b[39m (\u001b[33mv7.0.7\u001b[39m)\n",
      "  - Locking \u001b[32msymfony/routing\u001b[39m (\u001b[33mv7.0.7\u001b[39m)\n",
      "  - Locking \u001b[32msymfony/service-contracts\u001b[39m (\u001b[33mv3.5.0\u001b[39m)\n",
      "  - Locking \u001b[32msymfony/string\u001b[39m (\u001b[33mv7.0.7\u001b[39m)\n",
      "  - Locking \u001b[32msymfony/translation\u001b[39m (\u001b[33mv7.0.7\u001b[39m)\n",
      "  - Locking \u001b[32msymfony/translation-contracts\u001b[39m (\u001b[33mv3.5.0\u001b[39m)\n",
      "  - Locking \u001b[32msymfony/uid\u001b[39m (\u001b[33mv7.0.7\u001b[39m)\n",
      "  - Locking \u001b[32msymfony/var-dumper\u001b[39m (\u001b[33mv7.0.7\u001b[39m)\n",
      "  - Locking \u001b[32msymfony/yaml\u001b[39m (\u001b[33mv7.0.7\u001b[39m)\n",
      "  - Locking \u001b[32mtheseer/tokenizer\u001b[39m (\u001b[33m1.2.3\u001b[39m)\n",
      "  - Locking \u001b[32mtijsverkoyen/css-to-inline-styles\u001b[39m (\u001b[33mv2.2.7\u001b[39m)\n",
      "  - Locking \u001b[32mvlucas/phpdotenv\u001b[39m (\u001b[33mv5.6.0\u001b[39m)\n",
      "  - Locking \u001b[32mvoku/portable-ascii\u001b[39m (\u001b[33m2.0.1\u001b[39m)\n",
      "  - Locking \u001b[32mwebmozart/assert\u001b[39m (\u001b[33m1.11.0\u001b[39m)\n",
      "\u001b[32mWriting lock file\u001b[39m\n",
      "\u001b[32mInstalling dependencies from lock file (including require-dev)\u001b[39m\n",
      "\u001b[32mPackage operations: 111 installs, 0 updates, 0 removals\u001b[39m\n",
      "  - Downloading \u001b[32mdoctrine/inflector\u001b[39m (\u001b[33m2.0.10\u001b[39m)\n",
      "  - Downloading \u001b[32mdoctrine/lexer\u001b[39m (\u001b[33m3.0.1\u001b[39m)\n",
      "  - Downloading \u001b[32mwebmozart/assert\u001b[39m (\u001b[33m1.11.0\u001b[39m)\n",
      "  - Downloading \u001b[32mdragonmantank/cron-expression\u001b[39m (\u001b[33mv3.3.3\u001b[39m)\n",
      "  - Downloading \u001b[32msymfony/deprecation-contracts\u001b[39m (\u001b[33mv3.5.0\u001b[39m)\n",
      "  - Downloading \u001b[32mfakerphp/faker\u001b[39m (\u001b[33mv1.23.1\u001b[39m)\n",
      "  - Downloading \u001b[32msymfony/polyfill-php83\u001b[39m (\u001b[33mv1.29.0\u001b[39m)\n",
      "  - Downloading \u001b[32msymfony/http-foundation\u001b[39m (\u001b[33mv7.0.7\u001b[39m)\n",
      "  - Downloading \u001b[32mfruitcake/php-cors\u001b[39m (\u001b[33mv1.3.0\u001b[39m)\n",
      "  - Downloading \u001b[32mpsr/http-message\u001b[39m (\u001b[33m2.0\u001b[39m)\n",
      "  - Downloading \u001b[32mpsr/http-client\u001b[39m (\u001b[33m1.0.3\u001b[39m)\n",
      "  - Downloading \u001b[32mralouphie/getallheaders\u001b[39m (\u001b[33m3.0.3\u001b[39m)\n",
      "  - Downloading \u001b[32mpsr/http-factory\u001b[39m (\u001b[33m1.1.0\u001b[39m)\n",
      "  - Downloading \u001b[32mguzzlehttp/psr7\u001b[39m (\u001b[33m2.6.2\u001b[39m)\n",
      "  - Downloading \u001b[32mguzzlehttp/promises\u001b[39m (\u001b[33m2.0.2\u001b[39m)\n",
      "  - Downloading \u001b[32mguzzlehttp/guzzle\u001b[39m (\u001b[33m7.8.1\u001b[39m)\n",
      "  - Downloading \u001b[32mguzzlehttp/uri-template\u001b[39m (\u001b[33mv1.0.3\u001b[39m)\n",
      "  - Downloading \u001b[32mlaravel/pint\u001b[39m (\u001b[33mv1.15.3\u001b[39m)\n",
      "  - Downloading \u001b[32msymfony/string\u001b[39m (\u001b[33mv7.0.7\u001b[39m)\n",
      "  - Downloading \u001b[32msymfony/service-contracts\u001b[39m (\u001b[33mv3.5.0\u001b[39m)\n",
      "  - Downloading \u001b[32msymfony/console\u001b[39m (\u001b[33mv7.0.7\u001b[39m)\n",
      "  - Downloading \u001b[32mvoku/portable-ascii\u001b[39m (\u001b[33m2.0.1\u001b[39m)\n",
      "  - Downloading \u001b[32mphpoption/phpoption\u001b[39m (\u001b[33m1.9.2\u001b[39m)\n",
      "  - Downloading \u001b[32mgraham-campbell/result-type\u001b[39m (\u001b[33mv1.1.2\u001b[39m)\n",
      "  - Downloading \u001b[32mvlucas/phpdotenv\u001b[39m (\u001b[33mv5.6.0\u001b[39m)\n",
      "  - Downloading \u001b[32msymfony/css-selector\u001b[39m (\u001b[33mv7.0.7\u001b[39m)\n",
      "  - Downloading \u001b[32mtijsverkoyen/css-to-inline-styles\u001b[39m (\u001b[33mv2.2.7\u001b[39m)\n",
      "  - Downloading \u001b[32msymfony/var-dumper\u001b[39m (\u001b[33mv7.0.7\u001b[39m)\n",
      "  - Downloading \u001b[32msymfony/polyfill-uuid\u001b[39m (\u001b[33mv1.29.0\u001b[39m)\n",
      "  - Downloading \u001b[32msymfony/uid\u001b[39m (\u001b[33mv7.0.7\u001b[39m)\n",
      "  - Downloading \u001b[32msymfony/routing\u001b[39m (\u001b[33mv7.0.7\u001b[39m)\n",
      "  - Downloading \u001b[32msymfony/process\u001b[39m (\u001b[33mv7.0.7\u001b[39m)\n",
      "  - Downloading \u001b[32msymfony/polyfill-php72\u001b[39m (\u001b[33mv1.29.0\u001b[39m)\n",
      "  - Downloading \u001b[32msymfony/polyfill-intl-idn\u001b[39m (\u001b[33mv1.29.0\u001b[39m)\n",
      "  - Downloading \u001b[32msymfony/mime\u001b[39m (\u001b[33mv7.0.7\u001b[39m)\n",
      "  - Downloading \u001b[32mpsr/event-dispatcher\u001b[39m (\u001b[33m1.0.0\u001b[39m)\n",
      "  - Downloading \u001b[32msymfony/event-dispatcher-contracts\u001b[39m (\u001b[33mv3.5.0\u001b[39m)\n",
      "  - Downloading \u001b[32msymfony/event-dispatcher\u001b[39m (\u001b[33mv7.0.7\u001b[39m)\n",
      "  - Downloading \u001b[32mpsr/log\u001b[39m (\u001b[33m3.0.0\u001b[39m)\n",
      "  - Downloading \u001b[32megulias/email-validator\u001b[39m (\u001b[33m4.0.2\u001b[39m)\n",
      "  - Downloading \u001b[32msymfony/mailer\u001b[39m (\u001b[33mv7.0.7\u001b[39m)\n",
      "  - Downloading \u001b[32msymfony/error-handler\u001b[39m (\u001b[33mv7.0.7\u001b[39m)\n",
      "  - Downloading \u001b[32msymfony/http-kernel\u001b[39m (\u001b[33mv7.0.7\u001b[39m)\n",
      "  - Downloading \u001b[32msymfony/finder\u001b[39m (\u001b[33mv7.0.7\u001b[39m)\n",
      "  - Downloading \u001b[32mbrick/math\u001b[39m (\u001b[33m0.12.1\u001b[39m)\n",
      "  - Downloading \u001b[32mramsey/uuid\u001b[39m (\u001b[33m4.7.6\u001b[39m)\n",
      "  - Downloading \u001b[32mpsr/simple-cache\u001b[39m (\u001b[33m3.0.0\u001b[39m)\n",
      "  - Downloading \u001b[32mnunomaduro/termwind\u001b[39m (\u001b[33mv2.0.1\u001b[39m)\n",
      "  - Downloading \u001b[32msymfony/translation-contracts\u001b[39m (\u001b[33mv3.5.0\u001b[39m)\n",
      "  - Downloading \u001b[32msymfony/translation\u001b[39m (\u001b[33mv7.0.7\u001b[39m)\n",
      "  - Downloading \u001b[32mpsr/clock\u001b[39m (\u001b[33m1.0.0\u001b[39m)\n",
      "  - Downloading \u001b[32msymfony/clock\u001b[39m (\u001b[33mv7.0.7\u001b[39m)\n",
      "  - Downloading \u001b[32mcarbonphp/carbon-doctrine-types\u001b[39m (\u001b[33m3.2.0\u001b[39m)\n",
      "  - Downloading \u001b[32mnesbot/carbon\u001b[39m (\u001b[33m3.3.1\u001b[39m)\n",
      "  - Downloading \u001b[32mmonolog/monolog\u001b[39m (\u001b[33m3.6.0\u001b[39m)\n",
      "  - Downloading \u001b[32mleague/mime-type-detection\u001b[39m (\u001b[33m1.15.0\u001b[39m)\n",
      "  - Downloading \u001b[32mleague/flysystem\u001b[39m (\u001b[33m3.27.0\u001b[39m)\n",
      "  - Downloading \u001b[32mleague/flysystem-local\u001b[39m (\u001b[33m3.25.1\u001b[39m)\n",
      "  - Downloading \u001b[32mnette/utils\u001b[39m (\u001b[33mv4.0.4\u001b[39m)\n",
      "  - Downloading \u001b[32mnette/schema\u001b[39m (\u001b[33mv1.3.0\u001b[39m)\n",
      "  - Downloading \u001b[32mdflydev/dot-access-data\u001b[39m (\u001b[33mv3.0.2\u001b[39m)\n",
      "  - Downloading \u001b[32mleague/config\u001b[39m (\u001b[33mv1.2.0\u001b[39m)\n",
      "  - Downloading \u001b[32mleague/commonmark\u001b[39m (\u001b[33m2.4.2\u001b[39m)\n",
      "  - Downloading \u001b[32mlaravel/serializable-closure\u001b[39m (\u001b[33mv1.3.3\u001b[39m)\n",
      "  - Downloading \u001b[32mlaravel/prompts\u001b[39m (\u001b[33mv0.1.21\u001b[39m)\n",
      "  - Downloading \u001b[32mlaravel/framework\u001b[39m (\u001b[33mv11.7.0\u001b[39m)\n",
      "  - Downloading \u001b[32msymfony/yaml\u001b[39m (\u001b[33mv7.0.7\u001b[39m)\n",
      "  - Downloading \u001b[32mlaravel/sail\u001b[39m (\u001b[33mv1.29.1\u001b[39m)\n",
      "  - Downloading \u001b[32mnikic/php-parser\u001b[39m (\u001b[33mv5.0.2\u001b[39m)\n",
      "  - Downloading \u001b[32mpsy/psysh\u001b[39m (\u001b[33mv0.12.3\u001b[39m)\n",
      "  - Downloading \u001b[32mlaravel/tinker\u001b[39m (\u001b[33mv2.9.0\u001b[39m)\n",
      "  - Downloading \u001b[32mhamcrest/hamcrest-php\u001b[39m (\u001b[33mv2.0.1\u001b[39m)\n",
      "  - Downloading \u001b[32mmockery/mockery\u001b[39m (\u001b[33m1.6.12\u001b[39m)\n",
      "  - Downloading \u001b[32mfilp/whoops\u001b[39m (\u001b[33m2.15.4\u001b[39m)\n",
      "  - Downloading \u001b[32mnunomaduro/collision\u001b[39m (\u001b[33mv8.1.1\u001b[39m)\n",
      "  - Downloading \u001b[32msebastian/version\u001b[39m (\u001b[33m5.0.0\u001b[39m)\n",
      "  - Downloading \u001b[32msebastian/type\u001b[39m (\u001b[33m5.0.0\u001b[39m)\n",
      "  - Downloading \u001b[32msebastian/recursion-context\u001b[39m (\u001b[33m6.0.0\u001b[39m)\n",
      "  - Downloading \u001b[32msebastian/object-reflector\u001b[39m (\u001b[33m4.0.0\u001b[39m)\n",
      "  - Downloading \u001b[32msebastian/object-enumerator\u001b[39m (\u001b[33m6.0.0\u001b[39m)\n",
      "  - Downloading \u001b[32msebastian/global-state\u001b[39m (\u001b[33m7.0.1\u001b[39m)\n",
      "  - Downloading \u001b[32msebastian/exporter\u001b[39m (\u001b[33m6.0.1\u001b[39m)\n",
      "  - Downloading \u001b[32msebastian/environment\u001b[39m (\u001b[33m7.1.0\u001b[39m)\n",
      "  - Downloading \u001b[32msebastian/diff\u001b[39m (\u001b[33m6.0.1\u001b[39m)\n",
      "  - Downloading \u001b[32msebastian/comparator\u001b[39m (\u001b[33m6.0.0\u001b[39m)\n",
      "  - Downloading \u001b[32msebastian/code-unit\u001b[39m (\u001b[33m3.0.0\u001b[39m)\n",
      "  - Downloading \u001b[32msebastian/cli-parser\u001b[39m (\u001b[33m3.0.1\u001b[39m)\n",
      "  - Downloading \u001b[32mphpunit/php-timer\u001b[39m (\u001b[33m7.0.0\u001b[39m)\n",
      "  - Downloading \u001b[32mphpunit/php-text-template\u001b[39m (\u001b[33m4.0.0\u001b[39m)\n",
      "  - Downloading \u001b[32mphpunit/php-invoker\u001b[39m (\u001b[33m5.0.0\u001b[39m)\n",
      "  - Downloading \u001b[32mphpunit/php-file-iterator\u001b[39m (\u001b[33m5.0.0\u001b[39m)\n",
      "  - Downloading \u001b[32mtheseer/tokenizer\u001b[39m (\u001b[33m1.2.3\u001b[39m)\n",
      "  - Downloading \u001b[32msebastian/lines-of-code\u001b[39m (\u001b[33m3.0.0\u001b[39m)\n",
      "  - Downloading \u001b[32msebastian/complexity\u001b[39m (\u001b[33m4.0.0\u001b[39m)\n",
      "  - Downloading \u001b[32msebastian/code-unit-reverse-lookup\u001b[39m (\u001b[33m4.0.0\u001b[39m)\n",
      "  - Downloading \u001b[32mphpunit/php-code-coverage\u001b[39m (\u001b[33m11.0.3\u001b[39m)\n",
      "  - Downloading \u001b[32mphar-io/version\u001b[39m (\u001b[33m3.2.1\u001b[39m)\n",
      "  - Downloading \u001b[32mphar-io/manifest\u001b[39m (\u001b[33m2.0.4\u001b[39m)\n",
      "  - Downloading \u001b[32mmyclabs/deep-copy\u001b[39m (\u001b[33m1.11.1\u001b[39m)\n",
      "  - Downloading \u001b[32mphpunit/phpunit\u001b[39m (\u001b[33m11.1.3\u001b[39m)\n",
      "  - Downloading \u001b[32mspatie/backtrace\u001b[39m (\u001b[33m1.6.1\u001b[39m)\n",
      "  - Downloading \u001b[32mspatie/flare-client-php\u001b[39m (\u001b[33m1.5.1\u001b[39m)\n",
      "  - Downloading \u001b[32mspatie/ignition\u001b[39m (\u001b[33m1.14.1\u001b[39m)\n",
      "  - Downloading \u001b[32mspatie/laravel-ignition\u001b[39m (\u001b[33m2.7.0\u001b[39m)\n",
      "   0/104 [>---------------------------]   0%\u001b[1G\u001b[2K   6/104 [=>--------------------------]   5%\u001b[1G\u001b[2K  11/104 [==>-------------------------]  10%\u001b[1G\u001b[2K  23/104 [======>---------------------]  22%\u001b[1G\u001b[2K  35/104 [=========>------------------]  33%\u001b[1G\u001b[2K  45/104 [============>---------------]  43%\u001b[1G\u001b[2K  52/104 [==============>-------------]  50%\u001b[1G\u001b[2K  67/104 [==================>---------]  64%\u001b[1G\u001b[2K  76/104 [====================>-------]  73%\u001b[1G\u001b[2K  89/104 [=======================>----]  85%\u001b[1G\u001b[2K  97/104 [==========================>-]  93%\u001b[1G\u001b[2K 104/104 [============================] 100%\u001b[1G\u001b[2K  - Installing \u001b[32mdoctrine/inflector\u001b[39m (\u001b[33m2.0.10\u001b[39m): Extracting archive\n",
      "  - Installing \u001b[32mdoctrine/lexer\u001b[39m (\u001b[33m3.0.1\u001b[39m): Extracting archive\n",
      "  - Installing \u001b[32msymfony/polyfill-ctype\u001b[39m (\u001b[33mv1.29.0\u001b[39m): Extracting archive\n",
      "  - Installing \u001b[32mwebmozart/assert\u001b[39m (\u001b[33m1.11.0\u001b[39m): Extracting archive\n",
      "  - Installing \u001b[32mdragonmantank/cron-expression\u001b[39m (\u001b[33mv3.3.3\u001b[39m): Extracting archive\n",
      "  - Installing \u001b[32msymfony/deprecation-contracts\u001b[39m (\u001b[33mv3.5.0\u001b[39m): Extracting archive\n",
      "  - Installing \u001b[32mpsr/container\u001b[39m (\u001b[33m2.0.2\u001b[39m): Extracting archive\n",
      "  - Installing \u001b[32mfakerphp/faker\u001b[39m (\u001b[33mv1.23.1\u001b[39m): Extracting archive\n",
      "  - Installing \u001b[32msymfony/polyfill-php80\u001b[39m (\u001b[33mv1.29.0\u001b[39m): Extracting archive\n",
      "  - Installing \u001b[32msymfony/polyfill-php83\u001b[39m (\u001b[33mv1.29.0\u001b[39m): Extracting archive\n",
      "  - Installing \u001b[32msymfony/polyfill-mbstring\u001b[39m (\u001b[33mv1.29.0\u001b[39m): Extracting archive\n",
      "  - Installing \u001b[32msymfony/http-foundation\u001b[39m (\u001b[33mv7.0.7\u001b[39m): Extracting archive\n",
      "  - Installing \u001b[32mfruitcake/php-cors\u001b[39m (\u001b[33mv1.3.0\u001b[39m): Extracting archive\n",
      "  - Installing \u001b[32mpsr/http-message\u001b[39m (\u001b[33m2.0\u001b[39m): Extracting archive\n",
      "  - Installing \u001b[32mpsr/http-client\u001b[39m (\u001b[33m1.0.3\u001b[39m): Extracting archive\n",
      "  - Installing \u001b[32mralouphie/getallheaders\u001b[39m (\u001b[33m3.0.3\u001b[39m): Extracting archive\n",
      "  - Installing \u001b[32mpsr/http-factory\u001b[39m (\u001b[33m1.1.0\u001b[39m): Extracting archive\n",
      "  - Installing \u001b[32mguzzlehttp/psr7\u001b[39m (\u001b[33m2.6.2\u001b[39m): Extracting archive\n",
      "  - Installing \u001b[32mguzzlehttp/promises\u001b[39m (\u001b[33m2.0.2\u001b[39m): Extracting archive\n",
      "  - Installing \u001b[32mguzzlehttp/guzzle\u001b[39m (\u001b[33m7.8.1\u001b[39m): Extracting archive\n",
      "  - Installing \u001b[32mguzzlehttp/uri-template\u001b[39m (\u001b[33mv1.0.3\u001b[39m): Extracting archive\n",
      "  - Installing \u001b[32mlaravel/pint\u001b[39m (\u001b[33mv1.15.3\u001b[39m): Extracting archive\n",
      "  - Installing \u001b[32msymfony/polyfill-intl-normalizer\u001b[39m (\u001b[33mv1.29.0\u001b[39m): Extracting archive\n",
      "  - Installing \u001b[32msymfony/polyfill-intl-grapheme\u001b[39m (\u001b[33mv1.29.0\u001b[39m): Extracting archive\n",
      "  - Installing \u001b[32msymfony/string\u001b[39m (\u001b[33mv7.0.7\u001b[39m): Extracting archive\n",
      "  - Installing \u001b[32msymfony/service-contracts\u001b[39m (\u001b[33mv3.5.0\u001b[39m): Extracting archive\n",
      "  - Installing \u001b[32msymfony/console\u001b[39m (\u001b[33mv7.0.7\u001b[39m): Extracting archive\n",
      "  - Installing \u001b[32mvoku/portable-ascii\u001b[39m (\u001b[33m2.0.1\u001b[39m): Extracting archive\n",
      "  - Installing \u001b[32mphpoption/phpoption\u001b[39m (\u001b[33m1.9.2\u001b[39m): Extracting archive\n",
      "  - Installing \u001b[32mgraham-campbell/result-type\u001b[39m (\u001b[33mv1.1.2\u001b[39m): Extracting archive\n",
      "  - Installing \u001b[32mvlucas/phpdotenv\u001b[39m (\u001b[33mv5.6.0\u001b[39m): Extracting archive\n",
      "  - Installing \u001b[32msymfony/css-selector\u001b[39m (\u001b[33mv7.0.7\u001b[39m): Extracting archive\n",
      "  - Installing \u001b[32mtijsverkoyen/css-to-inline-styles\u001b[39m (\u001b[33mv2.2.7\u001b[39m): Extracting archive\n",
      "  - Installing \u001b[32msymfony/var-dumper\u001b[39m (\u001b[33mv7.0.7\u001b[39m): Extracting archive\n",
      "  - Installing \u001b[32msymfony/polyfill-uuid\u001b[39m (\u001b[33mv1.29.0\u001b[39m): Extracting archive\n",
      "  - Installing \u001b[32msymfony/uid\u001b[39m (\u001b[33mv7.0.7\u001b[39m): Extracting archive\n",
      "  - Installing \u001b[32msymfony/routing\u001b[39m (\u001b[33mv7.0.7\u001b[39m): Extracting archive\n",
      "  - Installing \u001b[32msymfony/process\u001b[39m (\u001b[33mv7.0.7\u001b[39m): Extracting archive\n",
      "  - Installing \u001b[32msymfony/polyfill-php72\u001b[39m (\u001b[33mv1.29.0\u001b[39m): Extracting archive\n",
      "  - Installing \u001b[32msymfony/polyfill-intl-idn\u001b[39m (\u001b[33mv1.29.0\u001b[39m): Extracting archive\n",
      "  - Installing \u001b[32msymfony/mime\u001b[39m (\u001b[33mv7.0.7\u001b[39m): Extracting archive\n",
      "  - Installing \u001b[32mpsr/event-dispatcher\u001b[39m (\u001b[33m1.0.0\u001b[39m): Extracting archive\n",
      "  - Installing \u001b[32msymfony/event-dispatcher-contracts\u001b[39m (\u001b[33mv3.5.0\u001b[39m): Extracting archive\n",
      "  - Installing \u001b[32msymfony/event-dispatcher\u001b[39m (\u001b[33mv7.0.7\u001b[39m): Extracting archive\n",
      "  - Installing \u001b[32mpsr/log\u001b[39m (\u001b[33m3.0.0\u001b[39m): Extracting archive\n",
      "  - Installing \u001b[32megulias/email-validator\u001b[39m (\u001b[33m4.0.2\u001b[39m): Extracting archive\n",
      "  - Installing \u001b[32msymfony/mailer\u001b[39m (\u001b[33mv7.0.7\u001b[39m): Extracting archive\n",
      "  - Installing \u001b[32msymfony/error-handler\u001b[39m (\u001b[33mv7.0.7\u001b[39m): Extracting archive\n",
      "  - Installing \u001b[32msymfony/http-kernel\u001b[39m (\u001b[33mv7.0.7\u001b[39m): Extracting archive\n",
      "  - Installing \u001b[32msymfony/finder\u001b[39m (\u001b[33mv7.0.7\u001b[39m): Extracting archive\n",
      "  - Installing \u001b[32mramsey/collection\u001b[39m (\u001b[33m2.0.0\u001b[39m): Extracting archive\n",
      "  - Installing \u001b[32mbrick/math\u001b[39m (\u001b[33m0.12.1\u001b[39m): Extracting archive\n",
      "  - Installing \u001b[32mramsey/uuid\u001b[39m (\u001b[33m4.7.6\u001b[39m): Extracting archive\n",
      "  - Installing \u001b[32mpsr/simple-cache\u001b[39m (\u001b[33m3.0.0\u001b[39m): Extracting archive\n",
      "  - Installing \u001b[32mnunomaduro/termwind\u001b[39m (\u001b[33mv2.0.1\u001b[39m): Extracting archive\n",
      "  - Installing \u001b[32msymfony/translation-contracts\u001b[39m (\u001b[33mv3.5.0\u001b[39m): Extracting archive\n",
      "  - Installing \u001b[32msymfony/translation\u001b[39m (\u001b[33mv7.0.7\u001b[39m): Extracting archive\n",
      "  - Installing \u001b[32mpsr/clock\u001b[39m (\u001b[33m1.0.0\u001b[39m): Extracting archive\n",
      "  - Installing \u001b[32msymfony/clock\u001b[39m (\u001b[33mv7.0.7\u001b[39m): Extracting archive\n",
      "  - Installing \u001b[32mcarbonphp/carbon-doctrine-types\u001b[39m (\u001b[33m3.2.0\u001b[39m): Extracting archive\n",
      "  - Installing \u001b[32mnesbot/carbon\u001b[39m (\u001b[33m3.3.1\u001b[39m): Extracting archive\n",
      "  - Installing \u001b[32mmonolog/monolog\u001b[39m (\u001b[33m3.6.0\u001b[39m): Extracting archive\n",
      "  - Installing \u001b[32mleague/mime-type-detection\u001b[39m (\u001b[33m1.15.0\u001b[39m): Extracting archive\n",
      "  - Installing \u001b[32mleague/flysystem\u001b[39m (\u001b[33m3.27.0\u001b[39m): Extracting archive\n",
      "  - Installing \u001b[32mleague/flysystem-local\u001b[39m (\u001b[33m3.25.1\u001b[39m): Extracting archive\n",
      "  - Installing \u001b[32mnette/utils\u001b[39m (\u001b[33mv4.0.4\u001b[39m): Extracting archive\n",
      "  - Installing \u001b[32mnette/schema\u001b[39m (\u001b[33mv1.3.0\u001b[39m): Extracting archive\n",
      "  - Installing \u001b[32mdflydev/dot-access-data\u001b[39m (\u001b[33mv3.0.2\u001b[39m): Extracting archive\n",
      "  - Installing \u001b[32mleague/config\u001b[39m (\u001b[33mv1.2.0\u001b[39m): Extracting archive\n",
      "  - Installing \u001b[32mleague/commonmark\u001b[39m (\u001b[33m2.4.2\u001b[39m): Extracting archive\n",
      "  - Installing \u001b[32mlaravel/serializable-closure\u001b[39m (\u001b[33mv1.3.3\u001b[39m): Extracting archive\n",
      "  - Installing \u001b[32mlaravel/prompts\u001b[39m (\u001b[33mv0.1.21\u001b[39m): Extracting archive\n",
      "  - Installing \u001b[32mlaravel/framework\u001b[39m (\u001b[33mv11.7.0\u001b[39m): Extracting archive\n",
      "  - Installing \u001b[32msymfony/yaml\u001b[39m (\u001b[33mv7.0.7\u001b[39m): Extracting archive\n",
      "  - Installing \u001b[32mlaravel/sail\u001b[39m (\u001b[33mv1.29.1\u001b[39m): Extracting archive\n",
      "  - Installing \u001b[32mnikic/php-parser\u001b[39m (\u001b[33mv5.0.2\u001b[39m): Extracting archive\n",
      "  - Installing \u001b[32mpsy/psysh\u001b[39m (\u001b[33mv0.12.3\u001b[39m): Extracting archive\n",
      "  - Installing \u001b[32mlaravel/tinker\u001b[39m (\u001b[33mv2.9.0\u001b[39m): Extracting archive\n",
      "  - Installing \u001b[32mhamcrest/hamcrest-php\u001b[39m (\u001b[33mv2.0.1\u001b[39m): Extracting archive\n",
      "  - Installing \u001b[32mmockery/mockery\u001b[39m (\u001b[33m1.6.12\u001b[39m): Extracting archive\n",
      "  - Installing \u001b[32mfilp/whoops\u001b[39m (\u001b[33m2.15.4\u001b[39m): Extracting archive\n",
      "  - Installing \u001b[32mnunomaduro/collision\u001b[39m (\u001b[33mv8.1.1\u001b[39m): Extracting archive\n",
      "  - Installing \u001b[32msebastian/version\u001b[39m (\u001b[33m5.0.0\u001b[39m): Extracting archive\n",
      "  - Installing \u001b[32msebastian/type\u001b[39m (\u001b[33m5.0.0\u001b[39m): Extracting archive\n",
      "  - Installing \u001b[32msebastian/recursion-context\u001b[39m (\u001b[33m6.0.0\u001b[39m): Extracting archive\n",
      "  - Installing \u001b[32msebastian/object-reflector\u001b[39m (\u001b[33m4.0.0\u001b[39m): Extracting archive\n",
      "  - Installing \u001b[32msebastian/object-enumerator\u001b[39m (\u001b[33m6.0.0\u001b[39m): Extracting archive\n",
      "  - Installing \u001b[32msebastian/global-state\u001b[39m (\u001b[33m7.0.1\u001b[39m): Extracting archive\n",
      "  - Installing \u001b[32msebastian/exporter\u001b[39m (\u001b[33m6.0.1\u001b[39m): Extracting archive\n",
      "  - Installing \u001b[32msebastian/environment\u001b[39m (\u001b[33m7.1.0\u001b[39m): Extracting archive\n",
      "  - Installing \u001b[32msebastian/diff\u001b[39m (\u001b[33m6.0.1\u001b[39m): Extracting archive\n",
      "  - Installing \u001b[32msebastian/comparator\u001b[39m (\u001b[33m6.0.0\u001b[39m): Extracting archive\n",
      "  - Installing \u001b[32msebastian/code-unit\u001b[39m (\u001b[33m3.0.0\u001b[39m): Extracting archive\n",
      "  - Installing \u001b[32msebastian/cli-parser\u001b[39m (\u001b[33m3.0.1\u001b[39m): Extracting archive\n",
      "  - Installing \u001b[32mphpunit/php-timer\u001b[39m (\u001b[33m7.0.0\u001b[39m): Extracting archive\n",
      "  - Installing \u001b[32mphpunit/php-text-template\u001b[39m (\u001b[33m4.0.0\u001b[39m): Extracting archive\n",
      "  - Installing \u001b[32mphpunit/php-invoker\u001b[39m (\u001b[33m5.0.0\u001b[39m): Extracting archive\n",
      "  - Installing \u001b[32mphpunit/php-file-iterator\u001b[39m (\u001b[33m5.0.0\u001b[39m): Extracting archive\n",
      "  - Installing \u001b[32mtheseer/tokenizer\u001b[39m (\u001b[33m1.2.3\u001b[39m): Extracting archive\n",
      "  - Installing \u001b[32msebastian/lines-of-code\u001b[39m (\u001b[33m3.0.0\u001b[39m): Extracting archive\n",
      "  - Installing \u001b[32msebastian/complexity\u001b[39m (\u001b[33m4.0.0\u001b[39m): Extracting archive\n",
      "  - Installing \u001b[32msebastian/code-unit-reverse-lookup\u001b[39m (\u001b[33m4.0.0\u001b[39m): Extracting archive\n",
      "  - Installing \u001b[32mphpunit/php-code-coverage\u001b[39m (\u001b[33m11.0.3\u001b[39m): Extracting archive\n",
      "  - Installing \u001b[32mphar-io/version\u001b[39m (\u001b[33m3.2.1\u001b[39m): Extracting archive\n",
      "  - Installing \u001b[32mphar-io/manifest\u001b[39m (\u001b[33m2.0.4\u001b[39m): Extracting archive\n",
      "  - Installing \u001b[32mmyclabs/deep-copy\u001b[39m (\u001b[33m1.11.1\u001b[39m): Extracting archive\n",
      "  - Installing \u001b[32mphpunit/phpunit\u001b[39m (\u001b[33m11.1.3\u001b[39m): Extracting archive\n",
      "  - Installing \u001b[32mspatie/backtrace\u001b[39m (\u001b[33m1.6.1\u001b[39m): Extracting archive\n",
      "  - Installing \u001b[32mspatie/flare-client-php\u001b[39m (\u001b[33m1.5.1\u001b[39m): Extracting archive\n",
      "  - Installing \u001b[32mspatie/ignition\u001b[39m (\u001b[33m1.14.1\u001b[39m): Extracting archive\n",
      "  - Installing \u001b[32mspatie/laravel-ignition\u001b[39m (\u001b[33m2.7.0\u001b[39m): Extracting archive\n",
      "   0/111 [>---------------------------]   0%\u001b[1G\u001b[2K  18/111 [====>-----------------------]  16%\u001b[1G\u001b[2K  32/111 [========>-------------------]  28%\u001b[1G\u001b[2K  51/111 [============>---------------]  45%\u001b[1G\u001b[2K  68/111 [=================>----------]  61%\u001b[1G\u001b[2K  80/111 [====================>-------]  72%\u001b[1G\u001b[2K  96/111 [========================>---]  86%\u001b[1G\u001b[2K 106/111 [==========================>-]  95%\u001b[1G\u001b[2K 111/111 [============================] 100%\u001b[1G\u001b[2K\u001b[32m53 package suggestions were added by new dependencies, use `composer suggest` to see details.\u001b[39m\n",
      "\u001b[32mGenerating optimized autoload files\u001b[39m\n",
      "> Illuminate\\Foundation\\ComposerScripts::postAutoloadDump\n",
      "> @php artisan package:discover --ansi\n",
      "\n",
      "  \u001b[37;44m INFO \u001b[39;49m Discovering packages.  \n",
      "\n",
      "  laravel/sail \u001b[90m.\u001b[39m\u001b[90m.\u001b[39m\u001b[90m.\u001b[39m\u001b[90m.\u001b[39m\u001b[90m.\u001b[39m\u001b[90m.\u001b[39m\u001b[90m.\u001b[39m\u001b[90m.\u001b[39m\u001b[90m.\u001b[39m\u001b[90m.\u001b[39m\u001b[90m.\u001b[39m\u001b[90m.\u001b[39m\u001b[90m.\u001b[39m\u001b[90m.\u001b[39m\u001b[90m.\u001b[39m\u001b[90m.\u001b[39m\u001b[90m.\u001b[39m\u001b[90m.\u001b[39m\u001b[90m.\u001b[39m\u001b[90m.\u001b[39m\u001b[90m.\u001b[39m\u001b[90m.\u001b[39m\u001b[90m.\u001b[39m\u001b[90m.\u001b[39m\u001b[90m.\u001b[39m\u001b[90m.\u001b[39m\u001b[90m.\u001b[39m\u001b[90m.\u001b[39m\u001b[90m.\u001b[39m\u001b[90m.\u001b[39m\u001b[90m.\u001b[39m\u001b[90m.\u001b[39m\u001b[90m.\u001b[39m\u001b[90m.\u001b[39m\u001b[90m.\u001b[39m\u001b[90m.\u001b[39m\u001b[90m.\u001b[39m\u001b[90m.\u001b[39m\u001b[90m.\u001b[39m\u001b[90m.\u001b[39m\u001b[90m.\u001b[39m\u001b[90m.\u001b[39m\u001b[90m.\u001b[39m\u001b[90m.\u001b[39m\u001b[90m.\u001b[39m\u001b[90m.\u001b[39m\u001b[90m.\u001b[39m\u001b[90m.\u001b[39m\u001b[90m.\u001b[39m\u001b[90m.\u001b[39m\u001b[90m.\u001b[39m\u001b[90m.\u001b[39m\u001b[90m.\u001b[39m\u001b[90m.\u001b[39m\u001b[90m.\u001b[39m\u001b[90m.\u001b[39m\u001b[90m.\u001b[39m\u001b[90m.\u001b[39m \u001b[32;1mDONE\u001b[39;22m\n",
      "  laravel/tinker \u001b[90m.\u001b[39m\u001b[90m.\u001b[39m\u001b[90m.\u001b[39m\u001b[90m.\u001b[39m\u001b[90m.\u001b[39m\u001b[90m.\u001b[39m\u001b[90m.\u001b[39m\u001b[90m.\u001b[39m\u001b[90m.\u001b[39m\u001b[90m.\u001b[39m\u001b[90m.\u001b[39m\u001b[90m.\u001b[39m\u001b[90m.\u001b[39m\u001b[90m.\u001b[39m\u001b[90m.\u001b[39m\u001b[90m.\u001b[39m\u001b[90m.\u001b[39m\u001b[90m.\u001b[39m\u001b[90m.\u001b[39m\u001b[90m.\u001b[39m\u001b[90m.\u001b[39m\u001b[90m.\u001b[39m\u001b[90m.\u001b[39m\u001b[90m.\u001b[39m\u001b[90m.\u001b[39m\u001b[90m.\u001b[39m\u001b[90m.\u001b[39m\u001b[90m.\u001b[39m\u001b[90m.\u001b[39m\u001b[90m.\u001b[39m\u001b[90m.\u001b[39m\u001b[90m.\u001b[39m\u001b[90m.\u001b[39m\u001b[90m.\u001b[39m\u001b[90m.\u001b[39m\u001b[90m.\u001b[39m\u001b[90m.\u001b[39m\u001b[90m.\u001b[39m\u001b[90m.\u001b[39m\u001b[90m.\u001b[39m\u001b[90m.\u001b[39m\u001b[90m.\u001b[39m\u001b[90m.\u001b[39m\u001b[90m.\u001b[39m\u001b[90m.\u001b[39m\u001b[90m.\u001b[39m\u001b[90m.\u001b[39m\u001b[90m.\u001b[39m\u001b[90m.\u001b[39m\u001b[90m.\u001b[39m\u001b[90m.\u001b[39m\u001b[90m.\u001b[39m\u001b[90m.\u001b[39m\u001b[90m.\u001b[39m\u001b[90m.\u001b[39m\u001b[90m.\u001b[39m \u001b[32;1mDONE\u001b[39;22m\n",
      "  nesbot/carbon \u001b[90m.\u001b[39m\u001b[90m.\u001b[39m\u001b[90m.\u001b[39m\u001b[90m.\u001b[39m\u001b[90m.\u001b[39m\u001b[90m.\u001b[39m\u001b[90m.\u001b[39m\u001b[90m.\u001b[39m\u001b[90m.\u001b[39m\u001b[90m.\u001b[39m\u001b[90m.\u001b[39m\u001b[90m.\u001b[39m\u001b[90m.\u001b[39m\u001b[90m.\u001b[39m\u001b[90m.\u001b[39m\u001b[90m.\u001b[39m\u001b[90m.\u001b[39m\u001b[90m.\u001b[39m\u001b[90m.\u001b[39m\u001b[90m.\u001b[39m\u001b[90m.\u001b[39m\u001b[90m.\u001b[39m\u001b[90m.\u001b[39m\u001b[90m.\u001b[39m\u001b[90m.\u001b[39m\u001b[90m.\u001b[39m\u001b[90m.\u001b[39m\u001b[90m.\u001b[39m\u001b[90m.\u001b[39m\u001b[90m.\u001b[39m\u001b[90m.\u001b[39m\u001b[90m.\u001b[39m\u001b[90m.\u001b[39m\u001b[90m.\u001b[39m\u001b[90m.\u001b[39m\u001b[90m.\u001b[39m\u001b[90m.\u001b[39m\u001b[90m.\u001b[39m\u001b[90m.\u001b[39m\u001b[90m.\u001b[39m\u001b[90m.\u001b[39m\u001b[90m.\u001b[39m\u001b[90m.\u001b[39m\u001b[90m.\u001b[39m\u001b[90m.\u001b[39m\u001b[90m.\u001b[39m\u001b[90m.\u001b[39m\u001b[90m.\u001b[39m\u001b[90m.\u001b[39m\u001b[90m.\u001b[39m\u001b[90m.\u001b[39m\u001b[90m.\u001b[39m\u001b[90m.\u001b[39m\u001b[90m.\u001b[39m\u001b[90m.\u001b[39m\u001b[90m.\u001b[39m\u001b[90m.\u001b[39m \u001b[32;1mDONE\u001b[39;22m\n",
      "  nunomaduro/collision \u001b[90m.\u001b[39m\u001b[90m.\u001b[39m\u001b[90m.\u001b[39m\u001b[90m.\u001b[39m\u001b[90m.\u001b[39m\u001b[90m.\u001b[39m\u001b[90m.\u001b[39m\u001b[90m.\u001b[39m\u001b[90m.\u001b[39m\u001b[90m.\u001b[39m\u001b[90m.\u001b[39m\u001b[90m.\u001b[39m\u001b[90m.\u001b[39m\u001b[90m.\u001b[39m\u001b[90m.\u001b[39m\u001b[90m.\u001b[39m\u001b[90m.\u001b[39m\u001b[90m.\u001b[39m\u001b[90m.\u001b[39m\u001b[90m.\u001b[39m\u001b[90m.\u001b[39m\u001b[90m.\u001b[39m\u001b[90m.\u001b[39m\u001b[90m.\u001b[39m\u001b[90m.\u001b[39m\u001b[90m.\u001b[39m\u001b[90m.\u001b[39m\u001b[90m.\u001b[39m\u001b[90m.\u001b[39m\u001b[90m.\u001b[39m\u001b[90m.\u001b[39m\u001b[90m.\u001b[39m\u001b[90m.\u001b[39m\u001b[90m.\u001b[39m\u001b[90m.\u001b[39m\u001b[90m.\u001b[39m\u001b[90m.\u001b[39m\u001b[90m.\u001b[39m\u001b[90m.\u001b[39m\u001b[90m.\u001b[39m\u001b[90m.\u001b[39m\u001b[90m.\u001b[39m\u001b[90m.\u001b[39m\u001b[90m.\u001b[39m\u001b[90m.\u001b[39m\u001b[90m.\u001b[39m\u001b[90m.\u001b[39m\u001b[90m.\u001b[39m\u001b[90m.\u001b[39m\u001b[90m.\u001b[39m \u001b[32;1mDONE\u001b[39;22m\n",
      "  nunomaduro/termwind \u001b[90m.\u001b[39m\u001b[90m.\u001b[39m\u001b[90m.\u001b[39m\u001b[90m.\u001b[39m\u001b[90m.\u001b[39m\u001b[90m.\u001b[39m\u001b[90m.\u001b[39m\u001b[90m.\u001b[39m\u001b[90m.\u001b[39m\u001b[90m.\u001b[39m\u001b[90m.\u001b[39m\u001b[90m.\u001b[39m\u001b[90m.\u001b[39m\u001b[90m.\u001b[39m\u001b[90m.\u001b[39m\u001b[90m.\u001b[39m\u001b[90m.\u001b[39m\u001b[90m.\u001b[39m\u001b[90m.\u001b[39m\u001b[90m.\u001b[39m\u001b[90m.\u001b[39m\u001b[90m.\u001b[39m\u001b[90m.\u001b[39m\u001b[90m.\u001b[39m\u001b[90m.\u001b[39m\u001b[90m.\u001b[39m\u001b[90m.\u001b[39m\u001b[90m.\u001b[39m\u001b[90m.\u001b[39m\u001b[90m.\u001b[39m\u001b[90m.\u001b[39m\u001b[90m.\u001b[39m\u001b[90m.\u001b[39m\u001b[90m.\u001b[39m\u001b[90m.\u001b[39m\u001b[90m.\u001b[39m\u001b[90m.\u001b[39m\u001b[90m.\u001b[39m\u001b[90m.\u001b[39m\u001b[90m.\u001b[39m\u001b[90m.\u001b[39m\u001b[90m.\u001b[39m\u001b[90m.\u001b[39m\u001b[90m.\u001b[39m\u001b[90m.\u001b[39m\u001b[90m.\u001b[39m\u001b[90m.\u001b[39m\u001b[90m.\u001b[39m\u001b[90m.\u001b[39m\u001b[90m.\u001b[39m\u001b[90m.\u001b[39m \u001b[32;1mDONE\u001b[39;22m\n",
      "  spatie/laravel-ignition \u001b[90m.\u001b[39m\u001b[90m.\u001b[39m\u001b[90m.\u001b[39m\u001b[90m.\u001b[39m\u001b[90m.\u001b[39m\u001b[90m.\u001b[39m\u001b[90m.\u001b[39m\u001b[90m.\u001b[39m\u001b[90m.\u001b[39m\u001b[90m.\u001b[39m\u001b[90m.\u001b[39m\u001b[90m.\u001b[39m\u001b[90m.\u001b[39m\u001b[90m.\u001b[39m\u001b[90m.\u001b[39m\u001b[90m.\u001b[39m\u001b[90m.\u001b[39m\u001b[90m.\u001b[39m\u001b[90m.\u001b[39m\u001b[90m.\u001b[39m\u001b[90m.\u001b[39m\u001b[90m.\u001b[39m\u001b[90m.\u001b[39m\u001b[90m.\u001b[39m\u001b[90m.\u001b[39m\u001b[90m.\u001b[39m\u001b[90m.\u001b[39m\u001b[90m.\u001b[39m\u001b[90m.\u001b[39m\u001b[90m.\u001b[39m\u001b[90m.\u001b[39m\u001b[90m.\u001b[39m\u001b[90m.\u001b[39m\u001b[90m.\u001b[39m\u001b[90m.\u001b[39m\u001b[90m.\u001b[39m\u001b[90m.\u001b[39m\u001b[90m.\u001b[39m\u001b[90m.\u001b[39m\u001b[90m.\u001b[39m\u001b[90m.\u001b[39m\u001b[90m.\u001b[39m\u001b[90m.\u001b[39m\u001b[90m.\u001b[39m\u001b[90m.\u001b[39m\u001b[90m.\u001b[39m\u001b[90m.\u001b[39m \u001b[32;1mDONE\u001b[39;22m\n",
      "\n",
      "\u001b[32m85 packages you are using are looking for funding.\u001b[39m\n",
      "\u001b[32mUse the `composer fund` command to find out more!\u001b[39m\n",
      "> @php artisan vendor:publish --tag=laravel-assets --ansi --force\n",
      "\n",
      "  \u001b[37;44m INFO \u001b[39;49m No publishable resources for tag \u001b[1m[laravel-assets]\u001b[22m.  \n",
      "\n",
      "\u001b[32mNo security vulnerability advisories found.\u001b[39m\n",
      "> @php artisan key:generate --ansi\n",
      "\n",
      "  \u001b[37;44m INFO \u001b[39;49m Application key set successfully.  \n",
      "\n",
      "> @php -r \"file_exists('database/database.sqlite') || touch('database/database.sqlite');\"\n",
      "> @php artisan migrate --graceful --ansi\n",
      "\n",
      "  \u001b[37;44m INFO \u001b[39;49m Preparing database.  \n",
      "\n",
      "  Creating migration table \u001b[90m.\u001b[39m\u001b[90m.\u001b[39m\u001b[90m.\u001b[39m\u001b[90m.\u001b[39m\u001b[90m.\u001b[39m\u001b[90m.\u001b[39m\u001b[90m.\u001b[39m\u001b[90m.\u001b[39m\u001b[90m.\u001b[39m\u001b[90m.\u001b[39m\u001b[90m.\u001b[39m\u001b[90m.\u001b[39m\u001b[90m.\u001b[39m\u001b[90m.\u001b[39m\u001b[90m.\u001b[39m\u001b[90m.\u001b[39m\u001b[90m.\u001b[39m\u001b[90m.\u001b[39m\u001b[90m.\u001b[39m\u001b[90m.\u001b[39m\u001b[90m.\u001b[39m\u001b[90m.\u001b[39m\u001b[90m.\u001b[39m\u001b[90m.\u001b[39m\u001b[90m.\u001b[39m\u001b[90m.\u001b[39m\u001b[90m.\u001b[39m\u001b[90m.\u001b[39m\u001b[90m.\u001b[39m\u001b[90m.\u001b[39m\u001b[90m.\u001b[39m\u001b[90m.\u001b[39m\u001b[90m.\u001b[39m\u001b[90m.\u001b[39m\u001b[90m.\u001b[39m\u001b[90m.\u001b[39m\u001b[90m.\u001b[39m\u001b[90m.\u001b[39m\u001b[90m 83.10ms\u001b[39m \u001b[32;1mDONE\u001b[39;22m\n",
      "\n",
      "  \u001b[37;44m INFO \u001b[39;49m Running migrations.  \n",
      "\n",
      "  0001_01_01_000000_create_users_table \u001b[90m.\u001b[39m\u001b[90m.\u001b[39m\u001b[90m.\u001b[39m\u001b[90m.\u001b[39m\u001b[90m.\u001b[39m\u001b[90m.\u001b[39m\u001b[90m.\u001b[39m\u001b[90m.\u001b[39m\u001b[90m.\u001b[39m\u001b[90m.\u001b[39m\u001b[90m.\u001b[39m\u001b[90m.\u001b[39m\u001b[90m.\u001b[39m\u001b[90m.\u001b[39m\u001b[90m.\u001b[39m\u001b[90m.\u001b[39m\u001b[90m.\u001b[39m\u001b[90m.\u001b[39m\u001b[90m.\u001b[39m\u001b[90m.\u001b[39m\u001b[90m.\u001b[39m\u001b[90m.\u001b[39m\u001b[90m.\u001b[39m\u001b[90m.\u001b[39m\u001b[90m.\u001b[39m\u001b[90m 115.32ms\u001b[39m \u001b[32;1mDONE\u001b[39;22m\n",
      "  0001_01_01_000001_create_cache_table \u001b[90m.\u001b[39m\u001b[90m.\u001b[39m\u001b[90m.\u001b[39m\u001b[90m.\u001b[39m\u001b[90m.\u001b[39m\u001b[90m.\u001b[39m\u001b[90m.\u001b[39m\u001b[90m.\u001b[39m\u001b[90m.\u001b[39m\u001b[90m.\u001b[39m\u001b[90m.\u001b[39m\u001b[90m.\u001b[39m\u001b[90m.\u001b[39m\u001b[90m.\u001b[39m\u001b[90m.\u001b[39m\u001b[90m.\u001b[39m\u001b[90m.\u001b[39m\u001b[90m.\u001b[39m\u001b[90m.\u001b[39m\u001b[90m.\u001b[39m\u001b[90m.\u001b[39m\u001b[90m.\u001b[39m\u001b[90m.\u001b[39m\u001b[90m.\u001b[39m\u001b[90m.\u001b[39m\u001b[90m.\u001b[39m\u001b[90m 35.40ms\u001b[39m \u001b[32;1mDONE\u001b[39;22m\n",
      "  0001_01_01_000002_create_jobs_table \u001b[90m.\u001b[39m\u001b[90m.\u001b[39m\u001b[90m.\u001b[39m\u001b[90m.\u001b[39m\u001b[90m.\u001b[39m\u001b[90m.\u001b[39m\u001b[90m.\u001b[39m\u001b[90m.\u001b[39m\u001b[90m.\u001b[39m\u001b[90m.\u001b[39m\u001b[90m.\u001b[39m\u001b[90m.\u001b[39m\u001b[90m.\u001b[39m\u001b[90m.\u001b[39m\u001b[90m.\u001b[39m\u001b[90m.\u001b[39m\u001b[90m.\u001b[39m\u001b[90m.\u001b[39m\u001b[90m.\u001b[39m\u001b[90m.\u001b[39m\u001b[90m.\u001b[39m\u001b[90m.\u001b[39m\u001b[90m.\u001b[39m\u001b[90m.\u001b[39m\u001b[90m.\u001b[39m\u001b[90m.\u001b[39m\u001b[90m.\u001b[39m\u001b[90m 89.27ms\u001b[39m \u001b[32;1mDONE\u001b[39;22m\n",
      "\n"
     ]
    }
   ],
   "source": [
    "! composer create-project laravel/laravel:11.0.6 project"
   ]
  },
  {
   "cell_type": "markdown",
   "metadata": {},
   "source": [
    "Add created directory to GIT so we can track the changes:"
   ]
  },
  {
   "cell_type": "code",
   "execution_count": 2,
   "metadata": {},
   "outputs": [],
   "source": [
    "! git add project/"
   ]
  },
  {
   "cell_type": "markdown",
   "metadata": {},
   "source": [
    "Change working directory:"
   ]
  },
  {
   "cell_type": "code",
   "execution_count": 3,
   "metadata": {},
   "outputs": [
    {
     "name": "stdout",
     "output_type": "stream",
     "text": [
      "/home/student/php_2024_piotr_zycki/08_laravel/01_tutorial/project\n"
     ]
    }
   ],
   "source": [
    "%cd project"
   ]
  },
  {
   "cell_type": "markdown",
   "metadata": {},
   "source": [
    "Try running the application:"
   ]
  },
  {
   "cell_type": "code",
   "execution_count": 4,
   "metadata": {},
   "outputs": [],
   "source": [
    "import subprocess\n",
    "phpServer = subprocess.Popen(['php', 'artisan', 'serve', '--port', '8888'])"
   ]
  },
  {
   "cell_type": "markdown",
   "metadata": {},
   "source": [
    "Go to [http://127.0.0.1:8888](http://127.0.0.1:8888) to view the page."
   ]
  },
  {
   "cell_type": "code",
   "execution_count": 5,
   "metadata": {},
   "outputs": [
    {
     "name": "stdout",
     "output_type": "stream",
     "text": [
      "\n",
      "   INFO  Server running on [http://127.0.0.1:8888].  \n",
      "\n",
      "  Press Ctrl+C to stop the server\n",
      "\n"
     ]
    }
   ],
   "source": [
    "! killall php8.3"
   ]
  },
  {
   "cell_type": "markdown",
   "metadata": {},
   "source": [
    "See the created files:"
   ]
  },
  {
   "cell_type": "code",
   "execution_count": 6,
   "metadata": {},
   "outputs": [
    {
     "name": "stdout",
     "output_type": "stream",
     "text": [
      "total 392\n",
      "drwxr-xr-x 12 student student   4096 May 21 13:44 .\n",
      "drwxrwxr-x  4 student student   4096 May 21 13:44 ..\n",
      "-rw-r--r--  1 student student    258 Apr  9 16:13 .editorconfig\n",
      "-rw-r--r--  1 student student   1126 May 21 13:45 .env\n",
      "-rw-r--r--  1 student student   1075 Apr  9 16:13 .env.example\n",
      "-rw-r--r--  1 student student    186 Apr  9 16:13 .gitattributes\n",
      "-rw-r--r--  1 student student    243 Apr  9 16:13 .gitignore\n",
      "-rw-r--r--  1 student student   4109 Apr  9 16:13 README.md\n",
      "drwxr-xr-x  5 student student   4096 Apr  9 16:13 app\n",
      "-rwxr-xr-x  1 student student    350 Apr  9 16:13 artisan\n",
      "drwxr-xr-x  3 student student   4096 Apr  9 16:13 bootstrap\n",
      "-rw-r--r--  1 student student   1968 Apr  9 16:13 composer.json\n",
      "-rw-r--r--  1 student student 299262 May 21 13:44 composer.lock\n",
      "drwxr-xr-x  2 student student   4096 Apr  9 16:13 config\n",
      "drwxr-xr-x  5 student student   4096 May 21 13:45 database\n",
      "-rw-r--r--  1 student student    244 Apr  9 16:13 package.json\n",
      "-rw-r--r--  1 student student   1191 Apr  9 16:13 phpunit.xml\n",
      "drwxr-xr-x  2 student student   4096 Apr  9 16:13 public\n",
      "drwxr-xr-x  5 student student   4096 Apr  9 16:13 resources\n",
      "drwxr-xr-x  2 student student   4096 Apr  9 16:13 routes\n",
      "drwxr-xr-x  5 student student   4096 Apr  9 16:13 storage\n",
      "drwxr-xr-x  4 student student   4096 Apr  9 16:13 tests\n",
      "drwxr-xr-x 40 student student   4096 May 21 13:45 vendor\n",
      "-rw-r--r--  1 student student    263 Apr  9 16:13 vite.config.js\n"
     ]
    }
   ],
   "source": [
    "! ls -la ."
   ]
  },
  {
   "cell_type": "markdown",
   "metadata": {},
   "source": [
    "See ignored files and directories:"
   ]
  },
  {
   "cell_type": "code",
   "execution_count": 7,
   "metadata": {},
   "outputs": [
    {
     "name": "stdout",
     "output_type": "stream",
     "text": [
      "/.phpunit.cache\n",
      "/node_modules\n",
      "/public/build\n",
      "/public/hot\n",
      "/public/storage\n",
      "/storage/*.key\n",
      "/vendor\n",
      ".env\n",
      ".env.backup\n",
      ".env.production\n",
      ".phpunit.result.cache\n",
      "Homestead.json\n",
      "Homestead.yaml\n",
      "auth.json\n",
      "npm-debug.log\n",
      "yarn-error.log\n",
      "/.fleet\n",
      "/.idea\n",
      "/.vscode\n"
     ]
    }
   ],
   "source": [
    "! cat .gitignore"
   ]
  },
  {
   "cell_type": "markdown",
   "metadata": {},
   "source": [
    "Simulate clean checkot:"
   ]
  },
  {
   "cell_type": "code",
   "execution_count": 8,
   "metadata": {},
   "outputs": [
    {
     "name": "stdout",
     "output_type": "stream",
     "text": [
      "Removing .env\n",
      "Removing bootstrap/cache/packages.php\n",
      "Removing bootstrap/cache/services.php\n",
      "Removing database/database.sqlite\n",
      "Removing vendor/\n"
     ]
    }
   ],
   "source": [
    "! git clean -fdx ."
   ]
  },
  {
   "cell_type": "code",
   "execution_count": 9,
   "metadata": {},
   "outputs": [],
   "source": [
    "! git diff ."
   ]
  },
  {
   "cell_type": "markdown",
   "metadata": {},
   "source": [
    "Restore the application:"
   ]
  },
  {
   "cell_type": "code",
   "execution_count": 10,
   "metadata": {},
   "outputs": [
    {
     "name": "stdout",
     "output_type": "stream",
     "text": [
      "\u001b[32mInstalling dependencies from lock file (including require-dev)\u001b[39m\n",
      "\u001b[32mVerifying lock file contents can be installed on current platform.\u001b[39m\n",
      "\u001b[32mPackage operations: 111 installs, 0 updates, 0 removals\u001b[39m\n",
      "    0 [>---------------------------]\u001b[1G\u001b[2K    0 [->--------------------------]\u001b[1G\u001b[2K    0 [--->------------------------]\u001b[1G\u001b[2K  - Installing \u001b[32mdoctrine/inflector\u001b[39m (\u001b[33m2.0.10\u001b[39m): Extracting archive\n",
      "  - Installing \u001b[32mdoctrine/lexer\u001b[39m (\u001b[33m3.0.1\u001b[39m): Extracting archive\n",
      "  - Installing \u001b[32msymfony/polyfill-ctype\u001b[39m (\u001b[33mv1.29.0\u001b[39m): Extracting archive\n",
      "  - Installing \u001b[32mwebmozart/assert\u001b[39m (\u001b[33m1.11.0\u001b[39m): Extracting archive\n",
      "  - Installing \u001b[32mdragonmantank/cron-expression\u001b[39m (\u001b[33mv3.3.3\u001b[39m): Extracting archive\n",
      "  - Installing \u001b[32msymfony/deprecation-contracts\u001b[39m (\u001b[33mv3.5.0\u001b[39m): Extracting archive\n",
      "  - Installing \u001b[32mpsr/container\u001b[39m (\u001b[33m2.0.2\u001b[39m): Extracting archive\n",
      "  - Installing \u001b[32mfakerphp/faker\u001b[39m (\u001b[33mv1.23.1\u001b[39m): Extracting archive\n",
      "  - Installing \u001b[32msymfony/polyfill-php80\u001b[39m (\u001b[33mv1.29.0\u001b[39m): Extracting archive\n",
      "  - Installing \u001b[32msymfony/polyfill-php83\u001b[39m (\u001b[33mv1.29.0\u001b[39m): Extracting archive\n",
      "  - Installing \u001b[32msymfony/polyfill-mbstring\u001b[39m (\u001b[33mv1.29.0\u001b[39m): Extracting archive\n",
      "  - Installing \u001b[32msymfony/http-foundation\u001b[39m (\u001b[33mv7.0.7\u001b[39m): Extracting archive\n",
      "  - Installing \u001b[32mfruitcake/php-cors\u001b[39m (\u001b[33mv1.3.0\u001b[39m): Extracting archive\n",
      "  - Installing \u001b[32mpsr/http-message\u001b[39m (\u001b[33m2.0\u001b[39m): Extracting archive\n",
      "  - Installing \u001b[32mpsr/http-client\u001b[39m (\u001b[33m1.0.3\u001b[39m): Extracting archive\n",
      "  - Installing \u001b[32mralouphie/getallheaders\u001b[39m (\u001b[33m3.0.3\u001b[39m): Extracting archive\n",
      "  - Installing \u001b[32mpsr/http-factory\u001b[39m (\u001b[33m1.1.0\u001b[39m): Extracting archive\n",
      "  - Installing \u001b[32mguzzlehttp/psr7\u001b[39m (\u001b[33m2.6.2\u001b[39m): Extracting archive\n",
      "  - Installing \u001b[32mguzzlehttp/promises\u001b[39m (\u001b[33m2.0.2\u001b[39m): Extracting archive\n",
      "  - Installing \u001b[32mguzzlehttp/guzzle\u001b[39m (\u001b[33m7.8.1\u001b[39m): Extracting archive\n",
      "  - Installing \u001b[32mguzzlehttp/uri-template\u001b[39m (\u001b[33mv1.0.3\u001b[39m): Extracting archive\n",
      "  - Installing \u001b[32mlaravel/pint\u001b[39m (\u001b[33mv1.15.3\u001b[39m): Extracting archive\n",
      "  - Installing \u001b[32msymfony/polyfill-intl-normalizer\u001b[39m (\u001b[33mv1.29.0\u001b[39m): Extracting archive\n",
      "  - Installing \u001b[32msymfony/polyfill-intl-grapheme\u001b[39m (\u001b[33mv1.29.0\u001b[39m): Extracting archive\n",
      "  - Installing \u001b[32msymfony/string\u001b[39m (\u001b[33mv7.0.7\u001b[39m): Extracting archive\n",
      "  - Installing \u001b[32msymfony/service-contracts\u001b[39m (\u001b[33mv3.5.0\u001b[39m): Extracting archive\n",
      "  - Installing \u001b[32msymfony/console\u001b[39m (\u001b[33mv7.0.7\u001b[39m): Extracting archive\n",
      "  - Installing \u001b[32mvoku/portable-ascii\u001b[39m (\u001b[33m2.0.1\u001b[39m): Extracting archive\n",
      "  - Installing \u001b[32mphpoption/phpoption\u001b[39m (\u001b[33m1.9.2\u001b[39m): Extracting archive\n",
      "  - Installing \u001b[32mgraham-campbell/result-type\u001b[39m (\u001b[33mv1.1.2\u001b[39m): Extracting archive\n",
      "  - Installing \u001b[32mvlucas/phpdotenv\u001b[39m (\u001b[33mv5.6.0\u001b[39m): Extracting archive\n",
      "  - Installing \u001b[32msymfony/css-selector\u001b[39m (\u001b[33mv7.0.7\u001b[39m): Extracting archive\n",
      "  - Installing \u001b[32mtijsverkoyen/css-to-inline-styles\u001b[39m (\u001b[33mv2.2.7\u001b[39m): Extracting archive\n",
      "  - Installing \u001b[32msymfony/var-dumper\u001b[39m (\u001b[33mv7.0.7\u001b[39m): Extracting archive\n",
      "  - Installing \u001b[32msymfony/polyfill-uuid\u001b[39m (\u001b[33mv1.29.0\u001b[39m): Extracting archive\n",
      "  - Installing \u001b[32msymfony/uid\u001b[39m (\u001b[33mv7.0.7\u001b[39m): Extracting archive\n",
      "  - Installing \u001b[32msymfony/routing\u001b[39m (\u001b[33mv7.0.7\u001b[39m): Extracting archive\n",
      "  - Installing \u001b[32msymfony/process\u001b[39m (\u001b[33mv7.0.7\u001b[39m): Extracting archive\n",
      "  - Installing \u001b[32msymfony/polyfill-php72\u001b[39m (\u001b[33mv1.29.0\u001b[39m): Extracting archive\n",
      "  - Installing \u001b[32msymfony/polyfill-intl-idn\u001b[39m (\u001b[33mv1.29.0\u001b[39m): Extracting archive\n",
      "  - Installing \u001b[32msymfony/mime\u001b[39m (\u001b[33mv7.0.7\u001b[39m): Extracting archive\n",
      "  - Installing \u001b[32mpsr/event-dispatcher\u001b[39m (\u001b[33m1.0.0\u001b[39m): Extracting archive\n",
      "  - Installing \u001b[32msymfony/event-dispatcher-contracts\u001b[39m (\u001b[33mv3.5.0\u001b[39m): Extracting archive\n",
      "  - Installing \u001b[32msymfony/event-dispatcher\u001b[39m (\u001b[33mv7.0.7\u001b[39m): Extracting archive\n",
      "  - Installing \u001b[32mpsr/log\u001b[39m (\u001b[33m3.0.0\u001b[39m): Extracting archive\n",
      "  - Installing \u001b[32megulias/email-validator\u001b[39m (\u001b[33m4.0.2\u001b[39m): Extracting archive\n",
      "  - Installing \u001b[32msymfony/mailer\u001b[39m (\u001b[33mv7.0.7\u001b[39m): Extracting archive\n",
      "  - Installing \u001b[32msymfony/error-handler\u001b[39m (\u001b[33mv7.0.7\u001b[39m): Extracting archive\n",
      "  - Installing \u001b[32msymfony/http-kernel\u001b[39m (\u001b[33mv7.0.7\u001b[39m): Extracting archive\n",
      "  - Installing \u001b[32msymfony/finder\u001b[39m (\u001b[33mv7.0.7\u001b[39m): Extracting archive\n",
      "  - Installing \u001b[32mramsey/collection\u001b[39m (\u001b[33m2.0.0\u001b[39m): Extracting archive\n",
      "  - Installing \u001b[32mbrick/math\u001b[39m (\u001b[33m0.12.1\u001b[39m): Extracting archive\n",
      "  - Installing \u001b[32mramsey/uuid\u001b[39m (\u001b[33m4.7.6\u001b[39m): Extracting archive\n",
      "  - Installing \u001b[32mpsr/simple-cache\u001b[39m (\u001b[33m3.0.0\u001b[39m): Extracting archive\n",
      "  - Installing \u001b[32mnunomaduro/termwind\u001b[39m (\u001b[33mv2.0.1\u001b[39m): Extracting archive\n",
      "  - Installing \u001b[32msymfony/translation-contracts\u001b[39m (\u001b[33mv3.5.0\u001b[39m): Extracting archive\n",
      "  - Installing \u001b[32msymfony/translation\u001b[39m (\u001b[33mv7.0.7\u001b[39m): Extracting archive\n",
      "  - Installing \u001b[32mpsr/clock\u001b[39m (\u001b[33m1.0.0\u001b[39m): Extracting archive\n",
      "  - Installing \u001b[32msymfony/clock\u001b[39m (\u001b[33mv7.0.7\u001b[39m): Extracting archive\n",
      "  - Installing \u001b[32mcarbonphp/carbon-doctrine-types\u001b[39m (\u001b[33m3.2.0\u001b[39m): Extracting archive\n",
      "  - Installing \u001b[32mnesbot/carbon\u001b[39m (\u001b[33m3.3.1\u001b[39m): Extracting archive\n",
      "  - Installing \u001b[32mmonolog/monolog\u001b[39m (\u001b[33m3.6.0\u001b[39m): Extracting archive\n",
      "  - Installing \u001b[32mleague/mime-type-detection\u001b[39m (\u001b[33m1.15.0\u001b[39m): Extracting archive\n",
      "  - Installing \u001b[32mleague/flysystem\u001b[39m (\u001b[33m3.27.0\u001b[39m): Extracting archive\n",
      "  - Installing \u001b[32mleague/flysystem-local\u001b[39m (\u001b[33m3.25.1\u001b[39m): Extracting archive\n",
      "  - Installing \u001b[32mnette/utils\u001b[39m (\u001b[33mv4.0.4\u001b[39m): Extracting archive\n",
      "  - Installing \u001b[32mnette/schema\u001b[39m (\u001b[33mv1.3.0\u001b[39m): Extracting archive\n",
      "  - Installing \u001b[32mdflydev/dot-access-data\u001b[39m (\u001b[33mv3.0.2\u001b[39m): Extracting archive\n",
      "  - Installing \u001b[32mleague/config\u001b[39m (\u001b[33mv1.2.0\u001b[39m): Extracting archive\n",
      "  - Installing \u001b[32mleague/commonmark\u001b[39m (\u001b[33m2.4.2\u001b[39m): Extracting archive\n",
      "  - Installing \u001b[32mlaravel/serializable-closure\u001b[39m (\u001b[33mv1.3.3\u001b[39m): Extracting archive\n",
      "  - Installing \u001b[32mlaravel/prompts\u001b[39m (\u001b[33mv0.1.21\u001b[39m): Extracting archive\n",
      "  - Installing \u001b[32mlaravel/framework\u001b[39m (\u001b[33mv11.7.0\u001b[39m): Extracting archive\n",
      "  - Installing \u001b[32msymfony/yaml\u001b[39m (\u001b[33mv7.0.7\u001b[39m): Extracting archive\n",
      "  - Installing \u001b[32mlaravel/sail\u001b[39m (\u001b[33mv1.29.1\u001b[39m): Extracting archive\n",
      "  - Installing \u001b[32mnikic/php-parser\u001b[39m (\u001b[33mv5.0.2\u001b[39m): Extracting archive\n",
      "  - Installing \u001b[32mpsy/psysh\u001b[39m (\u001b[33mv0.12.3\u001b[39m): Extracting archive\n",
      "  - Installing \u001b[32mlaravel/tinker\u001b[39m (\u001b[33mv2.9.0\u001b[39m): Extracting archive\n",
      "  - Installing \u001b[32mhamcrest/hamcrest-php\u001b[39m (\u001b[33mv2.0.1\u001b[39m): Extracting archive\n",
      "  - Installing \u001b[32mmockery/mockery\u001b[39m (\u001b[33m1.6.12\u001b[39m): Extracting archive\n",
      "  - Installing \u001b[32mfilp/whoops\u001b[39m (\u001b[33m2.15.4\u001b[39m): Extracting archive\n",
      "  - Installing \u001b[32mnunomaduro/collision\u001b[39m (\u001b[33mv8.1.1\u001b[39m): Extracting archive\n",
      "  - Installing \u001b[32msebastian/version\u001b[39m (\u001b[33m5.0.0\u001b[39m): Extracting archive\n",
      "  - Installing \u001b[32msebastian/type\u001b[39m (\u001b[33m5.0.0\u001b[39m): Extracting archive\n",
      "  - Installing \u001b[32msebastian/recursion-context\u001b[39m (\u001b[33m6.0.0\u001b[39m): Extracting archive\n",
      "  - Installing \u001b[32msebastian/object-reflector\u001b[39m (\u001b[33m4.0.0\u001b[39m): Extracting archive\n",
      "  - Installing \u001b[32msebastian/object-enumerator\u001b[39m (\u001b[33m6.0.0\u001b[39m): Extracting archive\n",
      "  - Installing \u001b[32msebastian/global-state\u001b[39m (\u001b[33m7.0.1\u001b[39m): Extracting archive\n",
      "  - Installing \u001b[32msebastian/exporter\u001b[39m (\u001b[33m6.0.1\u001b[39m): Extracting archive\n",
      "  - Installing \u001b[32msebastian/environment\u001b[39m (\u001b[33m7.1.0\u001b[39m): Extracting archive\n",
      "  - Installing \u001b[32msebastian/diff\u001b[39m (\u001b[33m6.0.1\u001b[39m): Extracting archive\n",
      "  - Installing \u001b[32msebastian/comparator\u001b[39m (\u001b[33m6.0.0\u001b[39m): Extracting archive\n",
      "  - Installing \u001b[32msebastian/code-unit\u001b[39m (\u001b[33m3.0.0\u001b[39m): Extracting archive\n",
      "  - Installing \u001b[32msebastian/cli-parser\u001b[39m (\u001b[33m3.0.1\u001b[39m): Extracting archive\n",
      "  - Installing \u001b[32mphpunit/php-timer\u001b[39m (\u001b[33m7.0.0\u001b[39m): Extracting archive\n",
      "  - Installing \u001b[32mphpunit/php-text-template\u001b[39m (\u001b[33m4.0.0\u001b[39m): Extracting archive\n",
      "  - Installing \u001b[32mphpunit/php-invoker\u001b[39m (\u001b[33m5.0.0\u001b[39m): Extracting archive\n",
      "  - Installing \u001b[32mphpunit/php-file-iterator\u001b[39m (\u001b[33m5.0.0\u001b[39m): Extracting archive\n",
      "  - Installing \u001b[32mtheseer/tokenizer\u001b[39m (\u001b[33m1.2.3\u001b[39m): Extracting archive\n",
      "  - Installing \u001b[32msebastian/lines-of-code\u001b[39m (\u001b[33m3.0.0\u001b[39m): Extracting archive\n",
      "  - Installing \u001b[32msebastian/complexity\u001b[39m (\u001b[33m4.0.0\u001b[39m): Extracting archive\n",
      "  - Installing \u001b[32msebastian/code-unit-reverse-lookup\u001b[39m (\u001b[33m4.0.0\u001b[39m): Extracting archive\n",
      "  - Installing \u001b[32mphpunit/php-code-coverage\u001b[39m (\u001b[33m11.0.3\u001b[39m): Extracting archive\n",
      "  - Installing \u001b[32mphar-io/version\u001b[39m (\u001b[33m3.2.1\u001b[39m): Extracting archive\n",
      "  - Installing \u001b[32mphar-io/manifest\u001b[39m (\u001b[33m2.0.4\u001b[39m): Extracting archive\n",
      "  - Installing \u001b[32mmyclabs/deep-copy\u001b[39m (\u001b[33m1.11.1\u001b[39m): Extracting archive\n",
      "  - Installing \u001b[32mphpunit/phpunit\u001b[39m (\u001b[33m11.1.3\u001b[39m): Extracting archive\n",
      "  - Installing \u001b[32mspatie/backtrace\u001b[39m (\u001b[33m1.6.1\u001b[39m): Extracting archive\n",
      "  - Installing \u001b[32mspatie/flare-client-php\u001b[39m (\u001b[33m1.5.1\u001b[39m): Extracting archive\n",
      "  - Installing \u001b[32mspatie/ignition\u001b[39m (\u001b[33m1.14.1\u001b[39m): Extracting archive\n",
      "  - Installing \u001b[32mspatie/laravel-ignition\u001b[39m (\u001b[33m2.7.0\u001b[39m): Extracting archive\n",
      "   0/111 [>---------------------------]   0%\u001b[1G\u001b[2K  18/111 [====>-----------------------]  16%\u001b[1G\u001b[2K  33/111 [========>-------------------]  29%\u001b[1G\u001b[2K  53/111 [=============>--------------]  47%\u001b[1G\u001b[2K  67/111 [================>-----------]  60%\u001b[1G\u001b[2K  80/111 [====================>-------]  72%\u001b[1G\u001b[2K  93/111 [=======================>----]  83%\u001b[1G\u001b[2K 107/111 [==========================>-]  96%\u001b[1G\u001b[2K 111/111 [============================] 100%\u001b[1G\u001b[2K\u001b[32mGenerating optimized autoload files\u001b[39m\n",
      "> Illuminate\\Foundation\\ComposerScripts::postAutoloadDump\n",
      "> @php artisan package:discover --ansi\n",
      "\n",
      "  \u001b[37;44m INFO \u001b[39;49m Discovering packages.  \n",
      "\n",
      "  laravel/sail \u001b[90m.\u001b[39m\u001b[90m.\u001b[39m\u001b[90m.\u001b[39m\u001b[90m.\u001b[39m\u001b[90m.\u001b[39m\u001b[90m.\u001b[39m\u001b[90m.\u001b[39m\u001b[90m.\u001b[39m\u001b[90m.\u001b[39m\u001b[90m.\u001b[39m\u001b[90m.\u001b[39m\u001b[90m.\u001b[39m\u001b[90m.\u001b[39m\u001b[90m.\u001b[39m\u001b[90m.\u001b[39m\u001b[90m.\u001b[39m\u001b[90m.\u001b[39m\u001b[90m.\u001b[39m\u001b[90m.\u001b[39m\u001b[90m.\u001b[39m\u001b[90m.\u001b[39m\u001b[90m.\u001b[39m\u001b[90m.\u001b[39m\u001b[90m.\u001b[39m\u001b[90m.\u001b[39m\u001b[90m.\u001b[39m\u001b[90m.\u001b[39m\u001b[90m.\u001b[39m\u001b[90m.\u001b[39m\u001b[90m.\u001b[39m\u001b[90m.\u001b[39m\u001b[90m.\u001b[39m\u001b[90m.\u001b[39m\u001b[90m.\u001b[39m\u001b[90m.\u001b[39m\u001b[90m.\u001b[39m\u001b[90m.\u001b[39m\u001b[90m.\u001b[39m\u001b[90m.\u001b[39m\u001b[90m.\u001b[39m\u001b[90m.\u001b[39m\u001b[90m.\u001b[39m\u001b[90m.\u001b[39m\u001b[90m.\u001b[39m\u001b[90m.\u001b[39m\u001b[90m.\u001b[39m\u001b[90m.\u001b[39m\u001b[90m.\u001b[39m\u001b[90m.\u001b[39m\u001b[90m.\u001b[39m\u001b[90m.\u001b[39m\u001b[90m.\u001b[39m\u001b[90m.\u001b[39m\u001b[90m.\u001b[39m\u001b[90m.\u001b[39m\u001b[90m.\u001b[39m\u001b[90m.\u001b[39m\u001b[90m.\u001b[39m \u001b[32;1mDONE\u001b[39;22m\n",
      "  laravel/tinker \u001b[90m.\u001b[39m\u001b[90m.\u001b[39m\u001b[90m.\u001b[39m\u001b[90m.\u001b[39m\u001b[90m.\u001b[39m\u001b[90m.\u001b[39m\u001b[90m.\u001b[39m\u001b[90m.\u001b[39m\u001b[90m.\u001b[39m\u001b[90m.\u001b[39m\u001b[90m.\u001b[39m\u001b[90m.\u001b[39m\u001b[90m.\u001b[39m\u001b[90m.\u001b[39m\u001b[90m.\u001b[39m\u001b[90m.\u001b[39m\u001b[90m.\u001b[39m\u001b[90m.\u001b[39m\u001b[90m.\u001b[39m\u001b[90m.\u001b[39m\u001b[90m.\u001b[39m\u001b[90m.\u001b[39m\u001b[90m.\u001b[39m\u001b[90m.\u001b[39m\u001b[90m.\u001b[39m\u001b[90m.\u001b[39m\u001b[90m.\u001b[39m\u001b[90m.\u001b[39m\u001b[90m.\u001b[39m\u001b[90m.\u001b[39m\u001b[90m.\u001b[39m\u001b[90m.\u001b[39m\u001b[90m.\u001b[39m\u001b[90m.\u001b[39m\u001b[90m.\u001b[39m\u001b[90m.\u001b[39m\u001b[90m.\u001b[39m\u001b[90m.\u001b[39m\u001b[90m.\u001b[39m\u001b[90m.\u001b[39m\u001b[90m.\u001b[39m\u001b[90m.\u001b[39m\u001b[90m.\u001b[39m\u001b[90m.\u001b[39m\u001b[90m.\u001b[39m\u001b[90m.\u001b[39m\u001b[90m.\u001b[39m\u001b[90m.\u001b[39m\u001b[90m.\u001b[39m\u001b[90m.\u001b[39m\u001b[90m.\u001b[39m\u001b[90m.\u001b[39m\u001b[90m.\u001b[39m\u001b[90m.\u001b[39m\u001b[90m.\u001b[39m\u001b[90m.\u001b[39m \u001b[32;1mDONE\u001b[39;22m\n",
      "  nesbot/carbon \u001b[90m.\u001b[39m\u001b[90m.\u001b[39m\u001b[90m.\u001b[39m\u001b[90m.\u001b[39m\u001b[90m.\u001b[39m\u001b[90m.\u001b[39m\u001b[90m.\u001b[39m\u001b[90m.\u001b[39m\u001b[90m.\u001b[39m\u001b[90m.\u001b[39m\u001b[90m.\u001b[39m\u001b[90m.\u001b[39m\u001b[90m.\u001b[39m\u001b[90m.\u001b[39m\u001b[90m.\u001b[39m\u001b[90m.\u001b[39m\u001b[90m.\u001b[39m\u001b[90m.\u001b[39m\u001b[90m.\u001b[39m\u001b[90m.\u001b[39m\u001b[90m.\u001b[39m\u001b[90m.\u001b[39m\u001b[90m.\u001b[39m\u001b[90m.\u001b[39m\u001b[90m.\u001b[39m\u001b[90m.\u001b[39m\u001b[90m.\u001b[39m\u001b[90m.\u001b[39m\u001b[90m.\u001b[39m\u001b[90m.\u001b[39m\u001b[90m.\u001b[39m\u001b[90m.\u001b[39m\u001b[90m.\u001b[39m\u001b[90m.\u001b[39m\u001b[90m.\u001b[39m\u001b[90m.\u001b[39m\u001b[90m.\u001b[39m\u001b[90m.\u001b[39m\u001b[90m.\u001b[39m\u001b[90m.\u001b[39m\u001b[90m.\u001b[39m\u001b[90m.\u001b[39m\u001b[90m.\u001b[39m\u001b[90m.\u001b[39m\u001b[90m.\u001b[39m\u001b[90m.\u001b[39m\u001b[90m.\u001b[39m\u001b[90m.\u001b[39m\u001b[90m.\u001b[39m\u001b[90m.\u001b[39m\u001b[90m.\u001b[39m\u001b[90m.\u001b[39m\u001b[90m.\u001b[39m\u001b[90m.\u001b[39m\u001b[90m.\u001b[39m\u001b[90m.\u001b[39m\u001b[90m.\u001b[39m \u001b[32;1mDONE\u001b[39;22m\n",
      "  nunomaduro/collision \u001b[90m.\u001b[39m\u001b[90m.\u001b[39m\u001b[90m.\u001b[39m\u001b[90m.\u001b[39m\u001b[90m.\u001b[39m\u001b[90m.\u001b[39m\u001b[90m.\u001b[39m\u001b[90m.\u001b[39m\u001b[90m.\u001b[39m\u001b[90m.\u001b[39m\u001b[90m.\u001b[39m\u001b[90m.\u001b[39m\u001b[90m.\u001b[39m\u001b[90m.\u001b[39m\u001b[90m.\u001b[39m\u001b[90m.\u001b[39m\u001b[90m.\u001b[39m\u001b[90m.\u001b[39m\u001b[90m.\u001b[39m\u001b[90m.\u001b[39m\u001b[90m.\u001b[39m\u001b[90m.\u001b[39m\u001b[90m.\u001b[39m\u001b[90m.\u001b[39m\u001b[90m.\u001b[39m\u001b[90m.\u001b[39m\u001b[90m.\u001b[39m\u001b[90m.\u001b[39m\u001b[90m.\u001b[39m\u001b[90m.\u001b[39m\u001b[90m.\u001b[39m\u001b[90m.\u001b[39m\u001b[90m.\u001b[39m\u001b[90m.\u001b[39m\u001b[90m.\u001b[39m\u001b[90m.\u001b[39m\u001b[90m.\u001b[39m\u001b[90m.\u001b[39m\u001b[90m.\u001b[39m\u001b[90m.\u001b[39m\u001b[90m.\u001b[39m\u001b[90m.\u001b[39m\u001b[90m.\u001b[39m\u001b[90m.\u001b[39m\u001b[90m.\u001b[39m\u001b[90m.\u001b[39m\u001b[90m.\u001b[39m\u001b[90m.\u001b[39m\u001b[90m.\u001b[39m\u001b[90m.\u001b[39m \u001b[32;1mDONE\u001b[39;22m\n",
      "  nunomaduro/termwind \u001b[90m.\u001b[39m\u001b[90m.\u001b[39m\u001b[90m.\u001b[39m\u001b[90m.\u001b[39m\u001b[90m.\u001b[39m\u001b[90m.\u001b[39m\u001b[90m.\u001b[39m\u001b[90m.\u001b[39m\u001b[90m.\u001b[39m\u001b[90m.\u001b[39m\u001b[90m.\u001b[39m\u001b[90m.\u001b[39m\u001b[90m.\u001b[39m\u001b[90m.\u001b[39m\u001b[90m.\u001b[39m\u001b[90m.\u001b[39m\u001b[90m.\u001b[39m\u001b[90m.\u001b[39m\u001b[90m.\u001b[39m\u001b[90m.\u001b[39m\u001b[90m.\u001b[39m\u001b[90m.\u001b[39m\u001b[90m.\u001b[39m\u001b[90m.\u001b[39m\u001b[90m.\u001b[39m\u001b[90m.\u001b[39m\u001b[90m.\u001b[39m\u001b[90m.\u001b[39m\u001b[90m.\u001b[39m\u001b[90m.\u001b[39m\u001b[90m.\u001b[39m\u001b[90m.\u001b[39m\u001b[90m.\u001b[39m\u001b[90m.\u001b[39m\u001b[90m.\u001b[39m\u001b[90m.\u001b[39m\u001b[90m.\u001b[39m\u001b[90m.\u001b[39m\u001b[90m.\u001b[39m\u001b[90m.\u001b[39m\u001b[90m.\u001b[39m\u001b[90m.\u001b[39m\u001b[90m.\u001b[39m\u001b[90m.\u001b[39m\u001b[90m.\u001b[39m\u001b[90m.\u001b[39m\u001b[90m.\u001b[39m\u001b[90m.\u001b[39m\u001b[90m.\u001b[39m\u001b[90m.\u001b[39m\u001b[90m.\u001b[39m \u001b[32;1mDONE\u001b[39;22m\n",
      "  spatie/laravel-ignition \u001b[90m.\u001b[39m\u001b[90m.\u001b[39m\u001b[90m.\u001b[39m\u001b[90m.\u001b[39m\u001b[90m.\u001b[39m\u001b[90m.\u001b[39m\u001b[90m.\u001b[39m\u001b[90m.\u001b[39m\u001b[90m.\u001b[39m\u001b[90m.\u001b[39m\u001b[90m.\u001b[39m\u001b[90m.\u001b[39m\u001b[90m.\u001b[39m\u001b[90m.\u001b[39m\u001b[90m.\u001b[39m\u001b[90m.\u001b[39m\u001b[90m.\u001b[39m\u001b[90m.\u001b[39m\u001b[90m.\u001b[39m\u001b[90m.\u001b[39m\u001b[90m.\u001b[39m\u001b[90m.\u001b[39m\u001b[90m.\u001b[39m\u001b[90m.\u001b[39m\u001b[90m.\u001b[39m\u001b[90m.\u001b[39m\u001b[90m.\u001b[39m\u001b[90m.\u001b[39m\u001b[90m.\u001b[39m\u001b[90m.\u001b[39m\u001b[90m.\u001b[39m\u001b[90m.\u001b[39m\u001b[90m.\u001b[39m\u001b[90m.\u001b[39m\u001b[90m.\u001b[39m\u001b[90m.\u001b[39m\u001b[90m.\u001b[39m\u001b[90m.\u001b[39m\u001b[90m.\u001b[39m\u001b[90m.\u001b[39m\u001b[90m.\u001b[39m\u001b[90m.\u001b[39m\u001b[90m.\u001b[39m\u001b[90m.\u001b[39m\u001b[90m.\u001b[39m\u001b[90m.\u001b[39m\u001b[90m.\u001b[39m \u001b[32;1mDONE\u001b[39;22m\n",
      "\n",
      "\u001b[32m85 packages you are using are looking for funding.\u001b[39m\n",
      "\u001b[32mUse the `composer fund` command to find out more!\u001b[39m\n"
     ]
    }
   ],
   "source": [
    "! composer install"
   ]
  },
  {
   "cell_type": "code",
   "execution_count": 11,
   "metadata": {},
   "outputs": [
    {
     "name": "stdout",
     "output_type": "stream",
     "text": [
      "\n",
      "   INFO  Server running on [http://127.0.0.1:8888].  \n",
      "\n",
      "  Press Ctrl+C to stop the server\n",
      "\n"
     ]
    }
   ],
   "source": [
    "import subprocess\n",
    "phpServer = subprocess.Popen(['php', 'artisan', 'serve', '--port', '8888'])"
   ]
  },
  {
   "cell_type": "markdown",
   "metadata": {},
   "source": [
    "Go to [http://127.0.0.1:8888](http://127.0.0.1:8888) to view the page."
   ]
  },
  {
   "cell_type": "code",
   "execution_count": 12,
   "metadata": {},
   "outputs": [],
   "source": [
    "! killall php8.3"
   ]
  },
  {
   "cell_type": "markdown",
   "metadata": {},
   "source": [
    "Add ```.env``` file:"
   ]
  },
  {
   "cell_type": "code",
   "execution_count": 13,
   "metadata": {},
   "outputs": [],
   "source": [
    "! cp .env.example .env"
   ]
  },
  {
   "cell_type": "code",
   "execution_count": 14,
   "metadata": {},
   "outputs": [
    {
     "name": "stdout",
     "output_type": "stream",
     "text": [
      "APP_NAME=Laravel\n",
      "APP_ENV=local\n",
      "APP_KEY=\n",
      "APP_DEBUG=true\n",
      "APP_TIMEZONE=UTC\n",
      "APP_URL=http://localhost\n",
      "\n",
      "APP_LOCALE=en\n",
      "APP_FALLBACK_LOCALE=en\n",
      "APP_FAKER_LOCALE=en_US\n",
      "\n",
      "APP_MAINTENANCE_DRIVER=file\n",
      "APP_MAINTENANCE_STORE=database\n",
      "\n",
      "BCRYPT_ROUNDS=12\n",
      "\n",
      "LOG_CHANNEL=stack\n",
      "LOG_STACK=single\n",
      "LOG_DEPRECATIONS_CHANNEL=null\n",
      "LOG_LEVEL=debug\n",
      "\n",
      "DB_CONNECTION=sqlite\n",
      "# DB_HOST=127.0.0.1\n",
      "# DB_PORT=3306\n",
      "# DB_DATABASE=laravel\n",
      "# DB_USERNAME=root\n",
      "# DB_PASSWORD=\n",
      "\n",
      "SESSION_DRIVER=database\n",
      "SESSION_LIFETIME=120\n",
      "SESSION_ENCRYPT=false\n",
      "SESSION_PATH=/\n",
      "SESSION_DOMAIN=null\n",
      "\n",
      "BROADCAST_CONNECTION=log\n",
      "FILESYSTEM_DISK=local\n",
      "QUEUE_CONNECTION=database\n",
      "\n",
      "CACHE_STORE=database\n",
      "CACHE_PREFIX=\n",
      "\n",
      "MEMCACHED_HOST=127.0.0.1\n",
      "\n",
      "REDIS_CLIENT=phpredis\n",
      "REDIS_HOST=127.0.0.1\n",
      "REDIS_PASSWORD=null\n",
      "REDIS_PORT=6379\n",
      "\n",
      "MAIL_MAILER=log\n",
      "MAIL_HOST=127.0.0.1\n",
      "MAIL_PORT=2525\n",
      "MAIL_USERNAME=null\n",
      "MAIL_PASSWORD=null\n",
      "MAIL_ENCRYPTION=null\n",
      "MAIL_FROM_ADDRESS=\"hello@example.com\"\n",
      "MAIL_FROM_NAME=\"${APP_NAME}\"\n",
      "\n",
      "AWS_ACCESS_KEY_ID=\n",
      "AWS_SECRET_ACCESS_KEY=\n",
      "AWS_DEFAULT_REGION=us-east-1\n",
      "AWS_BUCKET=\n",
      "AWS_USE_PATH_STYLE_ENDPOINT=false\n",
      "\n",
      "VITE_APP_NAME=\"${APP_NAME}\"\n"
     ]
    }
   ],
   "source": [
    "! cat .env"
   ]
  },
  {
   "cell_type": "code",
   "execution_count": 15,
   "metadata": {},
   "outputs": [
    {
     "name": "stdout",
     "output_type": "stream",
     "text": [
      "\n",
      "   INFO  Server running on [http://127.0.0.1:8888].  \n",
      "\n",
      "  Press Ctrl+C to stop the server\n",
      "\n"
     ]
    }
   ],
   "source": [
    "import subprocess\n",
    "phpServer = subprocess.Popen(['php', 'artisan', 'serve', '--port', '8888'])"
   ]
  },
  {
   "cell_type": "markdown",
   "metadata": {},
   "source": [
    "Go to [http://127.0.0.1:8888](http://127.0.0.1:8888) to view the page."
   ]
  },
  {
   "cell_type": "code",
   "execution_count": 16,
   "metadata": {},
   "outputs": [],
   "source": [
    "! killall php8.3"
   ]
  },
  {
   "cell_type": "markdown",
   "metadata": {},
   "source": [
    "Generate the application key:"
   ]
  },
  {
   "cell_type": "code",
   "execution_count": 17,
   "metadata": {},
   "outputs": [
    {
     "name": "stdout",
     "output_type": "stream",
     "text": [
      "\n",
      "  \u001b[37;44m INFO \u001b[39;49m Application key set successfully.  \n",
      "\n"
     ]
    }
   ],
   "source": [
    "! php artisan key:generate"
   ]
  },
  {
   "cell_type": "code",
   "execution_count": 18,
   "metadata": {},
   "outputs": [
    {
     "name": "stdout",
     "output_type": "stream",
     "text": [
      "\n",
      "   INFO  Server running on [http://127.0.0.1:8888].  \n",
      "\n",
      "  Press Ctrl+C to stop the server\n",
      "\n"
     ]
    }
   ],
   "source": [
    "import subprocess\n",
    "phpServer = subprocess.Popen(['php', 'artisan', 'serve', '--port', '8888'])"
   ]
  },
  {
   "cell_type": "markdown",
   "metadata": {},
   "source": [
    "Go to [http://127.0.0.1:8888](http://127.0.0.1:8888) to view the page."
   ]
  },
  {
   "cell_type": "code",
   "execution_count": 19,
   "metadata": {},
   "outputs": [],
   "source": [
    "! killall php8.3"
   ]
  },
  {
   "cell_type": "markdown",
   "metadata": {},
   "source": [
    "Create empty SQLite database and do the migration:"
   ]
  },
  {
   "cell_type": "code",
   "execution_count": 20,
   "metadata": {},
   "outputs": [],
   "source": [
    "! touch database/database.sqlite"
   ]
  },
  {
   "cell_type": "code",
   "execution_count": 21,
   "metadata": {},
   "outputs": [
    {
     "name": "stdout",
     "output_type": "stream",
     "text": [
      "\n",
      "  \u001b[37;44m INFO \u001b[39;49m Preparing database.  \n",
      "\n",
      "  Creating migration table \u001b[90m.\u001b[39m\u001b[90m.\u001b[39m\u001b[90m.\u001b[39m\u001b[90m.\u001b[39m\u001b[90m.\u001b[39m\u001b[90m.\u001b[39m\u001b[90m.\u001b[39m\u001b[90m.\u001b[39m\u001b[90m.\u001b[39m\u001b[90m.\u001b[39m\u001b[90m.\u001b[39m\u001b[90m.\u001b[39m\u001b[90m.\u001b[39m\u001b[90m.\u001b[39m\u001b[90m.\u001b[39m\u001b[90m.\u001b[39m\u001b[90m.\u001b[39m\u001b[90m.\u001b[39m\u001b[90m.\u001b[39m\u001b[90m.\u001b[39m\u001b[90m.\u001b[39m\u001b[90m.\u001b[39m\u001b[90m.\u001b[39m\u001b[90m.\u001b[39m\u001b[90m.\u001b[39m\u001b[90m.\u001b[39m\u001b[90m.\u001b[39m\u001b[90m.\u001b[39m\u001b[90m.\u001b[39m\u001b[90m.\u001b[39m\u001b[90m.\u001b[39m\u001b[90m.\u001b[39m\u001b[90m.\u001b[39m\u001b[90m.\u001b[39m\u001b[90m.\u001b[39m\u001b[90m.\u001b[39m\u001b[90m.\u001b[39m\u001b[90m.\u001b[39m\u001b[90m 39.87ms\u001b[39m \u001b[32;1mDONE\u001b[39;22m\n",
      "\n",
      "  \u001b[37;44m INFO \u001b[39;49m Running migrations.  \n",
      "\n",
      "  0001_01_01_000000_create_users_table \u001b[90m.\u001b[39m\u001b[90m.\u001b[39m\u001b[90m.\u001b[39m\u001b[90m.\u001b[39m\u001b[90m.\u001b[39m\u001b[90m.\u001b[39m\u001b[90m.\u001b[39m\u001b[90m.\u001b[39m\u001b[90m.\u001b[39m\u001b[90m.\u001b[39m\u001b[90m.\u001b[39m\u001b[90m.\u001b[39m\u001b[90m.\u001b[39m\u001b[90m.\u001b[39m\u001b[90m.\u001b[39m\u001b[90m.\u001b[39m\u001b[90m.\u001b[39m\u001b[90m.\u001b[39m\u001b[90m.\u001b[39m\u001b[90m.\u001b[39m\u001b[90m.\u001b[39m\u001b[90m.\u001b[39m\u001b[90m.\u001b[39m\u001b[90m.\u001b[39m\u001b[90m.\u001b[39m\u001b[90m 104.16ms\u001b[39m \u001b[32;1mDONE\u001b[39;22m\n",
      "  0001_01_01_000001_create_cache_table \u001b[90m.\u001b[39m\u001b[90m.\u001b[39m\u001b[90m.\u001b[39m\u001b[90m.\u001b[39m\u001b[90m.\u001b[39m\u001b[90m.\u001b[39m\u001b[90m.\u001b[39m\u001b[90m.\u001b[39m\u001b[90m.\u001b[39m\u001b[90m.\u001b[39m\u001b[90m.\u001b[39m\u001b[90m.\u001b[39m\u001b[90m.\u001b[39m\u001b[90m.\u001b[39m\u001b[90m.\u001b[39m\u001b[90m.\u001b[39m\u001b[90m.\u001b[39m\u001b[90m.\u001b[39m\u001b[90m.\u001b[39m\u001b[90m.\u001b[39m\u001b[90m.\u001b[39m\u001b[90m.\u001b[39m\u001b[90m.\u001b[39m\u001b[90m.\u001b[39m\u001b[90m.\u001b[39m\u001b[90m.\u001b[39m\u001b[90m 43.33ms\u001b[39m \u001b[32;1mDONE\u001b[39;22m\n",
      "  0001_01_01_000002_create_jobs_table \u001b[90m.\u001b[39m\u001b[90m.\u001b[39m\u001b[90m.\u001b[39m\u001b[90m.\u001b[39m\u001b[90m.\u001b[39m\u001b[90m.\u001b[39m\u001b[90m.\u001b[39m\u001b[90m.\u001b[39m\u001b[90m.\u001b[39m\u001b[90m.\u001b[39m\u001b[90m.\u001b[39m\u001b[90m.\u001b[39m\u001b[90m.\u001b[39m\u001b[90m.\u001b[39m\u001b[90m.\u001b[39m\u001b[90m.\u001b[39m\u001b[90m.\u001b[39m\u001b[90m.\u001b[39m\u001b[90m.\u001b[39m\u001b[90m.\u001b[39m\u001b[90m.\u001b[39m\u001b[90m.\u001b[39m\u001b[90m.\u001b[39m\u001b[90m.\u001b[39m\u001b[90m.\u001b[39m\u001b[90m.\u001b[39m\u001b[90m.\u001b[39m\u001b[90m 82.76ms\u001b[39m \u001b[32;1mDONE\u001b[39;22m\n",
      "\n"
     ]
    }
   ],
   "source": [
    "! php artisan migrate"
   ]
  },
  {
   "cell_type": "markdown",
   "metadata": {},
   "source": [
    "The application should now run crrectly."
   ]
  },
  {
   "cell_type": "code",
   "execution_count": 22,
   "metadata": {},
   "outputs": [],
   "source": [
    "import subprocess\n",
    "phpServer = subprocess.Popen(['php', 'artisan', 'serve', '--port', '8888'])"
   ]
  },
  {
   "cell_type": "markdown",
   "metadata": {},
   "source": [
    "Go to [http://127.0.0.1:8888](http://127.0.0.1:8888) to view the page."
   ]
  },
  {
   "cell_type": "code",
   "execution_count": 23,
   "metadata": {},
   "outputs": [
    {
     "name": "stdout",
     "output_type": "stream",
     "text": [
      "\n",
      "   INFO  Server running on [http://127.0.0.1:8888].  \n",
      "\n",
      "  Press Ctrl+C to stop the server\n",
      "\n"
     ]
    }
   ],
   "source": [
    "! killall php8.3"
   ]
  },
  {
   "cell_type": "markdown",
   "metadata": {},
   "source": [
    "There should be no changes in the code:"
   ]
  },
  {
   "cell_type": "code",
   "execution_count": 24,
   "metadata": {},
   "outputs": [],
   "source": [
    "! git diff ."
   ]
  },
  {
   "cell_type": "markdown",
   "metadata": {},
   "source": [
    "#### Codeception"
   ]
  },
  {
   "cell_type": "code",
   "execution_count": 25,
   "metadata": {},
   "outputs": [
    {
     "name": "stdout",
     "output_type": "stream",
     "text": [
      "\u001b[32m./composer.json has been updated\u001b[39m\n",
      "\u001b[32mRunning composer update codeception/codeception codeception/module-asserts codeception/module-phpbrowser codeception/module-webdriver\u001b[39m\n",
      "\u001b[32mLoading composer repositories with package information\u001b[39m\n",
      "\u001b[32mUpdating dependencies\u001b[39m\n",
      "\u001b[32mLock file operations: 13 installs, 0 updates, 0 removals\u001b[39m\n",
      "  - Locking \u001b[32mbehat/gherkin\u001b[39m (\u001b[33mv4.9.0\u001b[39m)\n",
      "  - Locking \u001b[32mcodeception/codeception\u001b[39m (\u001b[33m5.1.2\u001b[39m)\n",
      "  - Locking \u001b[32mcodeception/lib-asserts\u001b[39m (\u001b[33m2.1.0\u001b[39m)\n",
      "  - Locking \u001b[32mcodeception/lib-innerbrowser\u001b[39m (\u001b[33m4.0.3\u001b[39m)\n",
      "  - Locking \u001b[32mcodeception/lib-web\u001b[39m (\u001b[33m1.0.6\u001b[39m)\n",
      "  - Locking \u001b[32mcodeception/module-asserts\u001b[39m (\u001b[33m3.0.0\u001b[39m)\n",
      "  - Locking \u001b[32mcodeception/module-phpbrowser\u001b[39m (\u001b[33m3.0.1\u001b[39m)\n",
      "  - Locking \u001b[32mcodeception/module-webdriver\u001b[39m (\u001b[33m4.0.1\u001b[39m)\n",
      "  - Locking \u001b[32mcodeception/stub\u001b[39m (\u001b[33m4.1.3\u001b[39m)\n",
      "  - Locking \u001b[32mmasterminds/html5\u001b[39m (\u001b[33m2.9.0\u001b[39m)\n",
      "  - Locking \u001b[32mphp-webdriver/webdriver\u001b[39m (\u001b[33m1.15.1\u001b[39m)\n",
      "  - Locking \u001b[32msymfony/browser-kit\u001b[39m (\u001b[33mv7.0.7\u001b[39m)\n",
      "  - Locking \u001b[32msymfony/dom-crawler\u001b[39m (\u001b[33mv7.0.7\u001b[39m)\n",
      "\u001b[32mWriting lock file\u001b[39m\n",
      "\u001b[32mInstalling dependencies from lock file (including require-dev)\u001b[39m\n",
      "\u001b[32mPackage operations: 13 installs, 0 updates, 0 removals\u001b[39m\n",
      "  - Downloading \u001b[32mbehat/gherkin\u001b[39m (\u001b[33mv4.9.0\u001b[39m)\n",
      "  - Downloading \u001b[32mcodeception/stub\u001b[39m (\u001b[33m4.1.3\u001b[39m)\n",
      "  - Downloading \u001b[32mcodeception/lib-asserts\u001b[39m (\u001b[33m2.1.0\u001b[39m)\n",
      "  - Downloading \u001b[32mcodeception/codeception\u001b[39m (\u001b[33m5.1.2\u001b[39m)\n",
      "  - Downloading \u001b[32mcodeception/module-asserts\u001b[39m (\u001b[33m3.0.0\u001b[39m)\n",
      "  - Downloading \u001b[32mmasterminds/html5\u001b[39m (\u001b[33m2.9.0\u001b[39m)\n",
      "  - Downloading \u001b[32msymfony/dom-crawler\u001b[39m (\u001b[33mv7.0.7\u001b[39m)\n",
      "  - Downloading \u001b[32msymfony/browser-kit\u001b[39m (\u001b[33mv7.0.7\u001b[39m)\n",
      "  - Downloading \u001b[32mcodeception/lib-web\u001b[39m (\u001b[33m1.0.6\u001b[39m)\n",
      "  - Downloading \u001b[32mcodeception/lib-innerbrowser\u001b[39m (\u001b[33m4.0.3\u001b[39m)\n",
      "  - Downloading \u001b[32mcodeception/module-phpbrowser\u001b[39m (\u001b[33m3.0.1\u001b[39m)\n",
      "  - Downloading \u001b[32mphp-webdriver/webdriver\u001b[39m (\u001b[33m1.15.1\u001b[39m)\n",
      "  - Downloading \u001b[32mcodeception/module-webdriver\u001b[39m (\u001b[33m4.0.1\u001b[39m)\n",
      "  0/13 [>---------------------------]   0%\u001b[1G\u001b[2K  6/13 [============>---------------]  46%\u001b[1G\u001b[2K 12/13 [=========================>--]  92%\u001b[1G\u001b[2K 13/13 [============================] 100%\u001b[1G\u001b[2K  - Installing \u001b[32mbehat/gherkin\u001b[39m (\u001b[33mv4.9.0\u001b[39m): Extracting archive\n",
      "  - Installing \u001b[32mcodeception/stub\u001b[39m (\u001b[33m4.1.3\u001b[39m): Extracting archive\n",
      "  - Installing \u001b[32mcodeception/lib-asserts\u001b[39m (\u001b[33m2.1.0\u001b[39m): Extracting archive\n",
      "  - Installing \u001b[32mcodeception/codeception\u001b[39m (\u001b[33m5.1.2\u001b[39m): Extracting archive\n",
      "  - Installing \u001b[32mcodeception/module-asserts\u001b[39m (\u001b[33m3.0.0\u001b[39m): Extracting archive\n",
      "  - Installing \u001b[32mmasterminds/html5\u001b[39m (\u001b[33m2.9.0\u001b[39m): Extracting archive\n",
      "  - Installing \u001b[32msymfony/dom-crawler\u001b[39m (\u001b[33mv7.0.7\u001b[39m): Extracting archive\n",
      "  - Installing \u001b[32msymfony/browser-kit\u001b[39m (\u001b[33mv7.0.7\u001b[39m): Extracting archive\n",
      "  - Installing \u001b[32mcodeception/lib-web\u001b[39m (\u001b[33m1.0.6\u001b[39m): Extracting archive\n",
      "  - Installing \u001b[32mcodeception/lib-innerbrowser\u001b[39m (\u001b[33m4.0.3\u001b[39m): Extracting archive\n",
      "  - Installing \u001b[32mcodeception/module-phpbrowser\u001b[39m (\u001b[33m3.0.1\u001b[39m): Extracting archive\n",
      "  - Installing \u001b[32mphp-webdriver/webdriver\u001b[39m (\u001b[33m1.15.1\u001b[39m): Extracting archive\n",
      "  - Installing \u001b[32mcodeception/module-webdriver\u001b[39m (\u001b[33m4.0.1\u001b[39m): Extracting archive\n",
      "  0/13 [>---------------------------]   0%\u001b[1G\u001b[2K  9/13 [===================>--------]  69%\u001b[1G\u001b[2K 13/13 [============================] 100%\u001b[1G\u001b[2K\u001b[32m8 package suggestions were added by new dependencies, use `composer suggest` to see details.\u001b[39m\n",
      "\u001b[32mGenerating optimized autoload files\u001b[39m\n",
      "> Illuminate\\Foundation\\ComposerScripts::postAutoloadDump\n",
      "> @php artisan package:discover --ansi\n",
      "\n",
      "  \u001b[37;44m INFO \u001b[39;49m Discovering packages.  \n",
      "\n",
      "  laravel/sail \u001b[90m.\u001b[39m\u001b[90m.\u001b[39m\u001b[90m.\u001b[39m\u001b[90m.\u001b[39m\u001b[90m.\u001b[39m\u001b[90m.\u001b[39m\u001b[90m.\u001b[39m\u001b[90m.\u001b[39m\u001b[90m.\u001b[39m\u001b[90m.\u001b[39m\u001b[90m.\u001b[39m\u001b[90m.\u001b[39m\u001b[90m.\u001b[39m\u001b[90m.\u001b[39m\u001b[90m.\u001b[39m\u001b[90m.\u001b[39m\u001b[90m.\u001b[39m\u001b[90m.\u001b[39m\u001b[90m.\u001b[39m\u001b[90m.\u001b[39m\u001b[90m.\u001b[39m\u001b[90m.\u001b[39m\u001b[90m.\u001b[39m\u001b[90m.\u001b[39m\u001b[90m.\u001b[39m\u001b[90m.\u001b[39m\u001b[90m.\u001b[39m\u001b[90m.\u001b[39m\u001b[90m.\u001b[39m\u001b[90m.\u001b[39m\u001b[90m.\u001b[39m\u001b[90m.\u001b[39m\u001b[90m.\u001b[39m\u001b[90m.\u001b[39m\u001b[90m.\u001b[39m\u001b[90m.\u001b[39m\u001b[90m.\u001b[39m\u001b[90m.\u001b[39m\u001b[90m.\u001b[39m\u001b[90m.\u001b[39m\u001b[90m.\u001b[39m\u001b[90m.\u001b[39m\u001b[90m.\u001b[39m\u001b[90m.\u001b[39m\u001b[90m.\u001b[39m\u001b[90m.\u001b[39m\u001b[90m.\u001b[39m\u001b[90m.\u001b[39m\u001b[90m.\u001b[39m\u001b[90m.\u001b[39m\u001b[90m.\u001b[39m\u001b[90m.\u001b[39m\u001b[90m.\u001b[39m\u001b[90m.\u001b[39m\u001b[90m.\u001b[39m\u001b[90m.\u001b[39m\u001b[90m.\u001b[39m\u001b[90m.\u001b[39m \u001b[32;1mDONE\u001b[39;22m\n",
      "  laravel/tinker \u001b[90m.\u001b[39m\u001b[90m.\u001b[39m\u001b[90m.\u001b[39m\u001b[90m.\u001b[39m\u001b[90m.\u001b[39m\u001b[90m.\u001b[39m\u001b[90m.\u001b[39m\u001b[90m.\u001b[39m\u001b[90m.\u001b[39m\u001b[90m.\u001b[39m\u001b[90m.\u001b[39m\u001b[90m.\u001b[39m\u001b[90m.\u001b[39m\u001b[90m.\u001b[39m\u001b[90m.\u001b[39m\u001b[90m.\u001b[39m\u001b[90m.\u001b[39m\u001b[90m.\u001b[39m\u001b[90m.\u001b[39m\u001b[90m.\u001b[39m\u001b[90m.\u001b[39m\u001b[90m.\u001b[39m\u001b[90m.\u001b[39m\u001b[90m.\u001b[39m\u001b[90m.\u001b[39m\u001b[90m.\u001b[39m\u001b[90m.\u001b[39m\u001b[90m.\u001b[39m\u001b[90m.\u001b[39m\u001b[90m.\u001b[39m\u001b[90m.\u001b[39m\u001b[90m.\u001b[39m\u001b[90m.\u001b[39m\u001b[90m.\u001b[39m\u001b[90m.\u001b[39m\u001b[90m.\u001b[39m\u001b[90m.\u001b[39m\u001b[90m.\u001b[39m\u001b[90m.\u001b[39m\u001b[90m.\u001b[39m\u001b[90m.\u001b[39m\u001b[90m.\u001b[39m\u001b[90m.\u001b[39m\u001b[90m.\u001b[39m\u001b[90m.\u001b[39m\u001b[90m.\u001b[39m\u001b[90m.\u001b[39m\u001b[90m.\u001b[39m\u001b[90m.\u001b[39m\u001b[90m.\u001b[39m\u001b[90m.\u001b[39m\u001b[90m.\u001b[39m\u001b[90m.\u001b[39m\u001b[90m.\u001b[39m\u001b[90m.\u001b[39m\u001b[90m.\u001b[39m \u001b[32;1mDONE\u001b[39;22m\n",
      "  nesbot/carbon \u001b[90m.\u001b[39m\u001b[90m.\u001b[39m\u001b[90m.\u001b[39m\u001b[90m.\u001b[39m\u001b[90m.\u001b[39m\u001b[90m.\u001b[39m\u001b[90m.\u001b[39m\u001b[90m.\u001b[39m\u001b[90m.\u001b[39m\u001b[90m.\u001b[39m\u001b[90m.\u001b[39m\u001b[90m.\u001b[39m\u001b[90m.\u001b[39m\u001b[90m.\u001b[39m\u001b[90m.\u001b[39m\u001b[90m.\u001b[39m\u001b[90m.\u001b[39m\u001b[90m.\u001b[39m\u001b[90m.\u001b[39m\u001b[90m.\u001b[39m\u001b[90m.\u001b[39m\u001b[90m.\u001b[39m\u001b[90m.\u001b[39m\u001b[90m.\u001b[39m\u001b[90m.\u001b[39m\u001b[90m.\u001b[39m\u001b[90m.\u001b[39m\u001b[90m.\u001b[39m\u001b[90m.\u001b[39m\u001b[90m.\u001b[39m\u001b[90m.\u001b[39m\u001b[90m.\u001b[39m\u001b[90m.\u001b[39m\u001b[90m.\u001b[39m\u001b[90m.\u001b[39m\u001b[90m.\u001b[39m\u001b[90m.\u001b[39m\u001b[90m.\u001b[39m\u001b[90m.\u001b[39m\u001b[90m.\u001b[39m\u001b[90m.\u001b[39m\u001b[90m.\u001b[39m\u001b[90m.\u001b[39m\u001b[90m.\u001b[39m\u001b[90m.\u001b[39m\u001b[90m.\u001b[39m\u001b[90m.\u001b[39m\u001b[90m.\u001b[39m\u001b[90m.\u001b[39m\u001b[90m.\u001b[39m\u001b[90m.\u001b[39m\u001b[90m.\u001b[39m\u001b[90m.\u001b[39m\u001b[90m.\u001b[39m\u001b[90m.\u001b[39m\u001b[90m.\u001b[39m\u001b[90m.\u001b[39m \u001b[32;1mDONE\u001b[39;22m\n",
      "  nunomaduro/collision \u001b[90m.\u001b[39m\u001b[90m.\u001b[39m\u001b[90m.\u001b[39m\u001b[90m.\u001b[39m\u001b[90m.\u001b[39m\u001b[90m.\u001b[39m\u001b[90m.\u001b[39m\u001b[90m.\u001b[39m\u001b[90m.\u001b[39m\u001b[90m.\u001b[39m\u001b[90m.\u001b[39m\u001b[90m.\u001b[39m\u001b[90m.\u001b[39m\u001b[90m.\u001b[39m\u001b[90m.\u001b[39m\u001b[90m.\u001b[39m\u001b[90m.\u001b[39m\u001b[90m.\u001b[39m\u001b[90m.\u001b[39m\u001b[90m.\u001b[39m\u001b[90m.\u001b[39m\u001b[90m.\u001b[39m\u001b[90m.\u001b[39m\u001b[90m.\u001b[39m\u001b[90m.\u001b[39m\u001b[90m.\u001b[39m\u001b[90m.\u001b[39m\u001b[90m.\u001b[39m\u001b[90m.\u001b[39m\u001b[90m.\u001b[39m\u001b[90m.\u001b[39m\u001b[90m.\u001b[39m\u001b[90m.\u001b[39m\u001b[90m.\u001b[39m\u001b[90m.\u001b[39m\u001b[90m.\u001b[39m\u001b[90m.\u001b[39m\u001b[90m.\u001b[39m\u001b[90m.\u001b[39m\u001b[90m.\u001b[39m\u001b[90m.\u001b[39m\u001b[90m.\u001b[39m\u001b[90m.\u001b[39m\u001b[90m.\u001b[39m\u001b[90m.\u001b[39m\u001b[90m.\u001b[39m\u001b[90m.\u001b[39m\u001b[90m.\u001b[39m\u001b[90m.\u001b[39m\u001b[90m.\u001b[39m \u001b[32;1mDONE\u001b[39;22m\n",
      "  nunomaduro/termwind \u001b[90m.\u001b[39m\u001b[90m.\u001b[39m\u001b[90m.\u001b[39m\u001b[90m.\u001b[39m\u001b[90m.\u001b[39m\u001b[90m.\u001b[39m\u001b[90m.\u001b[39m\u001b[90m.\u001b[39m\u001b[90m.\u001b[39m\u001b[90m.\u001b[39m\u001b[90m.\u001b[39m\u001b[90m.\u001b[39m\u001b[90m.\u001b[39m\u001b[90m.\u001b[39m\u001b[90m.\u001b[39m\u001b[90m.\u001b[39m\u001b[90m.\u001b[39m\u001b[90m.\u001b[39m\u001b[90m.\u001b[39m\u001b[90m.\u001b[39m\u001b[90m.\u001b[39m\u001b[90m.\u001b[39m\u001b[90m.\u001b[39m\u001b[90m.\u001b[39m\u001b[90m.\u001b[39m\u001b[90m.\u001b[39m\u001b[90m.\u001b[39m\u001b[90m.\u001b[39m\u001b[90m.\u001b[39m\u001b[90m.\u001b[39m\u001b[90m.\u001b[39m\u001b[90m.\u001b[39m\u001b[90m.\u001b[39m\u001b[90m.\u001b[39m\u001b[90m.\u001b[39m\u001b[90m.\u001b[39m\u001b[90m.\u001b[39m\u001b[90m.\u001b[39m\u001b[90m.\u001b[39m\u001b[90m.\u001b[39m\u001b[90m.\u001b[39m\u001b[90m.\u001b[39m\u001b[90m.\u001b[39m\u001b[90m.\u001b[39m\u001b[90m.\u001b[39m\u001b[90m.\u001b[39m\u001b[90m.\u001b[39m\u001b[90m.\u001b[39m\u001b[90m.\u001b[39m\u001b[90m.\u001b[39m\u001b[90m.\u001b[39m \u001b[32;1mDONE\u001b[39;22m\n",
      "  spatie/laravel-ignition \u001b[90m.\u001b[39m\u001b[90m.\u001b[39m\u001b[90m.\u001b[39m\u001b[90m.\u001b[39m\u001b[90m.\u001b[39m\u001b[90m.\u001b[39m\u001b[90m.\u001b[39m\u001b[90m.\u001b[39m\u001b[90m.\u001b[39m\u001b[90m.\u001b[39m\u001b[90m.\u001b[39m\u001b[90m.\u001b[39m\u001b[90m.\u001b[39m\u001b[90m.\u001b[39m\u001b[90m.\u001b[39m\u001b[90m.\u001b[39m\u001b[90m.\u001b[39m\u001b[90m.\u001b[39m\u001b[90m.\u001b[39m\u001b[90m.\u001b[39m\u001b[90m.\u001b[39m\u001b[90m.\u001b[39m\u001b[90m.\u001b[39m\u001b[90m.\u001b[39m\u001b[90m.\u001b[39m\u001b[90m.\u001b[39m\u001b[90m.\u001b[39m\u001b[90m.\u001b[39m\u001b[90m.\u001b[39m\u001b[90m.\u001b[39m\u001b[90m.\u001b[39m\u001b[90m.\u001b[39m\u001b[90m.\u001b[39m\u001b[90m.\u001b[39m\u001b[90m.\u001b[39m\u001b[90m.\u001b[39m\u001b[90m.\u001b[39m\u001b[90m.\u001b[39m\u001b[90m.\u001b[39m\u001b[90m.\u001b[39m\u001b[90m.\u001b[39m\u001b[90m.\u001b[39m\u001b[90m.\u001b[39m\u001b[90m.\u001b[39m\u001b[90m.\u001b[39m\u001b[90m.\u001b[39m\u001b[90m.\u001b[39m \u001b[32;1mDONE\u001b[39;22m\n",
      "\n",
      "\u001b[32m88 packages you are using are looking for funding.\u001b[39m\n",
      "\u001b[32mUse the `composer fund` command to find out more!\u001b[39m\n",
      "> @php artisan vendor:publish --tag=laravel-assets --ansi --force\n",
      "\n",
      "  \u001b[37;44m INFO \u001b[39;49m No publishable resources for tag \u001b[1m[laravel-assets]\u001b[22m.  \n",
      "\n",
      "\u001b[32mNo security vulnerability advisories found.\u001b[39m\n",
      "Using version \u001b[32m^5.1\u001b[39m for \u001b[32mcodeception/codeception\u001b[39m\n",
      "Using version \u001b[32m^3.0\u001b[39m for \u001b[32mcodeception/module-asserts\u001b[39m\n",
      "Using version \u001b[32m^3.0\u001b[39m for \u001b[32mcodeception/module-phpbrowser\u001b[39m\n",
      "Using version \u001b[32m^4.0\u001b[39m for \u001b[32mcodeception/module-webdriver\u001b[39m\n"
     ]
    }
   ],
   "source": [
    "! composer require codeception/codeception codeception/module-asserts codeception/module-phpbrowser codeception/module-webdriver --dev"
   ]
  },
  {
   "cell_type": "code",
   "execution_count": 26,
   "metadata": {},
   "outputs": [
    {
     "name": "stdout",
     "output_type": "stream",
     "text": [
      "\u001b[36m Initializing Codeception in tmp_bootrstrap\u001b[39m\n",
      "\u001b[37;45m Bootstrapping Codeception \u001b[39;49m\n",
      "\n",
      "File codeception.yml created       <- global configuration\n",
      "\u001b[36m UnitTester actor has been created in tests/Support\u001b[39m\n",
      "\u001b[36m Actions have been loaded\u001b[39m\n",
      "tests/Unit/ created                <- unit tests\n",
      "tests/Unit.suite.yml written       <- unit test suite configuration\n",
      "\u001b[36m FunctionalTester actor has been created in tests/Support\u001b[39m\n",
      "\u001b[36m Actions have been loaded\u001b[39m\n",
      "tests/Functional/ created          <- functional tests\n",
      "tests/Functional.suite.yml written <- functional test suite configuration\n",
      "\u001b[36m AcceptanceTester actor has been created in tests/Support\u001b[39m\n",
      "\u001b[36m Actions have been loaded\u001b[39m\n",
      "tests/Acceptance/ created          <- acceptance tests\n",
      "tests/Acceptance.suite.yml written <- acceptance test suite configuration\n",
      " --- \n",
      "\n",
      "\u001b[37;42;1m Codeception is installed for acceptance, functional, and unit testing \u001b[39;49;22m\n",
      "\n",
      "\u001b[1mNext steps:\u001b[22m\n",
      "1. Edit \u001b[1mtests/acceptance.suite.yml\u001b[22m to set url of your application. Change PhpBrowser to WebDriver to enable browser testing\n",
      "2. Edit \u001b[1mtests/functional.suite.yml\u001b[22m to enable a framework module. Remove this file if you don't use a framework\n",
      "3. Create your first acceptance tests using \u001b[33mcodecept g:cest acceptance First\u001b[39m\n",
      "4. Write first test in \u001b[1mtests/acceptance/FirstCest.php\u001b[22m\n",
      "5. Run tests using: \u001b[33mcodecept run\u001b[39m\n"
     ]
    }
   ],
   "source": [
    "! vendor/bin/codecept bootstrap tmp_bootrstrap"
   ]
  },
  {
   "cell_type": "code",
   "execution_count": 27,
   "metadata": {},
   "outputs": [],
   "source": [
    "! mv tmp_bootrstrap/tests/ tests_codeception"
   ]
  },
  {
   "cell_type": "code",
   "execution_count": 28,
   "metadata": {},
   "outputs": [],
   "source": [
    "! mv tmp_bootrstrap/codeception.yml ."
   ]
  },
  {
   "cell_type": "code",
   "execution_count": 29,
   "metadata": {},
   "outputs": [],
   "source": [
    "! rm -rf tmp_bootrstrap/"
   ]
  },
  {
   "cell_type": "markdown",
   "metadata": {},
   "source": [
    "Replace the configuration in [codeception.yml](/edit/08_laravel/01_tutorial/project/codeception.yml) by:\n",
    "\n",
    "```yml\n",
    "namespace: TestsCodeception\n",
    "support_namespace: Support\n",
    "paths:\n",
    "    tests: tests_codeception\n",
    "    output: tests_codeception/_output\n",
    "    data: tests_codeception/Support/Data\n",
    "    support: tests_codeception/Support\n",
    "    envs: tests_codeception/_envs\n",
    "actor_suffix: Tester\n",
    "extensions:\n",
    "    enabled:\n",
    "        - Codeception\\Extension\\RunFailed\n",
    "\n",
    "```"
   ]
  },
  {
   "cell_type": "markdown",
   "metadata": {},
   "source": [
    "You can safely remove the Unit and Functional test suites as we will not use them for now."
   ]
  },
  {
   "cell_type": "code",
   "execution_count": 30,
   "metadata": {},
   "outputs": [],
   "source": [
    "! rm tests_codeception/Functional.suite.yml"
   ]
  },
  {
   "cell_type": "code",
   "execution_count": 31,
   "metadata": {},
   "outputs": [],
   "source": [
    "! rm -rf tests_codeception/Functional"
   ]
  },
  {
   "cell_type": "code",
   "execution_count": 32,
   "metadata": {},
   "outputs": [],
   "source": [
    "! rm tests_codeception/Support/FunctionalTester.php"
   ]
  },
  {
   "cell_type": "code",
   "execution_count": 33,
   "metadata": {},
   "outputs": [],
   "source": [
    "! rm tests_codeception/Support/_generated/FunctionalTesterActions.php"
   ]
  },
  {
   "cell_type": "code",
   "execution_count": 34,
   "metadata": {},
   "outputs": [],
   "source": [
    "! rm tests_codeception/Unit.suite.yml"
   ]
  },
  {
   "cell_type": "code",
   "execution_count": 35,
   "metadata": {},
   "outputs": [],
   "source": [
    "! rm -rf tests_codeception/Unit"
   ]
  },
  {
   "cell_type": "code",
   "execution_count": 36,
   "metadata": {},
   "outputs": [],
   "source": [
    "! rm tests_codeception/Support/UnitTester.php"
   ]
  },
  {
   "cell_type": "code",
   "execution_count": 37,
   "metadata": {},
   "outputs": [],
   "source": [
    "! rm tests_codeception/Support/_generated/UnitTesterActions.php"
   ]
  },
  {
   "cell_type": "markdown",
   "metadata": {},
   "source": [
    "We also need to make sure that autoloading works correctly.\n",
    "We need to add new entry in autoload-dev in [composer.json](/edit/08_laravel/01_tutorial/project/composer.json).\n",
    "\n",
    "Change from:\n",
    "\n",
    "```json\n",
    "    \"autoload-dev\": {\n",
    "        \"psr-4\": {\n",
    "            \"Tests\\\\\": \"tests/\"\n",
    "        }\n",
    "    },\n",
    "```\n",
    "\n",
    "to:\n",
    "\n",
    "```json\n",
    "    \"autoload-dev\": {\n",
    "        \"psr-4\": {\n",
    "            \"Tests\\\\\": \"tests/\",\n",
    "            \"TestsCodeception\\\\\": \"tests_codeception/\"\n",
    "        }\n",
    "    },\n",
    "```"
   ]
  },
  {
   "cell_type": "markdown",
   "metadata": {},
   "source": [
    "Run the tests:"
   ]
  },
  {
   "cell_type": "code",
   "execution_count": 38,
   "metadata": {},
   "outputs": [
    {
     "name": "stdout",
     "output_type": "stream",
     "text": [
      "Codeception PHP Testing Framework v5.1.2 https://stand-with-ukraine.pp.ua\n",
      "PHP Fatal error:  Trait \"Tests\\Support\\_generated\\AcceptanceTesterActions\" not found in /home/student/php_2024_piotr_zycki/08_laravel/01_tutorial/project/tests_codeception/Support/AcceptanceTester.php on line 22\n",
      "PHP Stack trace:\n",
      "PHP   1. {main}() /home/student/php_2024_piotr_zycki/08_laravel/01_tutorial/project/vendor/bin/codecept:0\n",
      "PHP   2. include() /home/student/php_2024_piotr_zycki/08_laravel/01_tutorial/project/vendor/bin/codecept:119\n",
      "PHP   3. require() /home/student/php_2024_piotr_zycki/08_laravel/01_tutorial/project/vendor/codeception/codeception/codecept:7\n",
      "PHP   4. {closure:/home/student/php_2024_piotr_zycki/08_laravel/01_tutorial/project/vendor/codeception/codeception/app.php:7-46}() /home/student/php_2024_piotr_zycki/08_laravel/01_tutorial/project/vendor/codeception/codeception/app.php:46\n",
      "PHP   5. Codeception\\Application->run($input = *uninitialized*, $output = *uninitialized*) /home/student/php_2024_piotr_zycki/08_laravel/01_tutorial/project/vendor/codeception/codeception/app.php:45\n",
      "PHP   6. Symfony\\Component\\Console\\Application->run($input = class Symfony\\Component\\Console\\Input\\ArgvInput { protected Symfony\\Component\\Console\\Input\\InputDefinition $definition = class Symfony\\Component\\Console\\Input\\InputDefinition { private array $arguments = [...]; private int $requiredCount = 1; private ?Symfony\\Component\\Console\\Input\\InputArgument $lastArrayArgument = NULL; private ?Symfony\\Component\\Console\\Input\\InputArgument $lastOptionalArgument = class Symfony\\Component\\Console\\Input\\InputArgument { ... }; private array $options = [...]; private array $negations = [...]; private array $shortcuts = [...] }; protected $stream = NULL; protected array $options = []; protected array $arguments = ['command' => 'run']; protected bool $interactive = TRUE; private array $tokens = [0 => 'run']; private array $parsed = [] }, $output = NULL) /home/student/php_2024_piotr_zycki/08_laravel/01_tutorial/project/vendor/codeception/codeception/src/Codeception/Application.php:112\n",
      "PHP   7. Symfony\\Component\\Console\\Application->doRun($input = class Symfony\\Component\\Console\\Input\\ArgvInput { protected Symfony\\Component\\Console\\Input\\InputDefinition $definition = class Symfony\\Component\\Console\\Input\\InputDefinition { private array $arguments = [...]; private int $requiredCount = 1; private ?Symfony\\Component\\Console\\Input\\InputArgument $lastArrayArgument = NULL; private ?Symfony\\Component\\Console\\Input\\InputArgument $lastOptionalArgument = class Symfony\\Component\\Console\\Input\\InputArgument { ... }; private array $options = [...]; private array $negations = [...]; private array $shortcuts = [...] }; protected $stream = NULL; protected array $options = []; protected array $arguments = ['command' => 'run']; protected bool $interactive = TRUE; private array $tokens = [0 => 'run']; private array $parsed = [] }, $output = class Symfony\\Component\\Console\\Output\\ConsoleOutput { private int ${Symfony\\Component\\Console\\Output\\Output}verbosity = 32; private Symfony\\Component\\Console\\Formatter\\OutputFormatterInterface ${Symfony\\Component\\Console\\Output\\Output}formatter = class Symfony\\Component\\Console\\Formatter\\OutputFormatter { private bool $decorated = TRUE; private array $styles = [...]; private Symfony\\Component\\Console\\Formatter\\OutputFormatterStyleStack $styleStack = class Symfony\\Component\\Console\\Formatter\\OutputFormatterStyleStack { ... } }; private ${Symfony\\Component\\Console\\Output\\StreamOutput}stream = resource(2) of type (stream); private Symfony\\Component\\Console\\Output\\OutputInterface $stderr = class Symfony\\Component\\Console\\Output\\StreamOutput { private int ${Symfony\\Component\\Console\\Output\\Output}verbosity = 32; private Symfony\\Component\\Console\\Formatter\\OutputFormatterInterface ${Symfony\\Component\\Console\\Output\\Output}formatter = class Symfony\\Component\\Console\\Formatter\\OutputFormatter { ... }; private $stream = resource(3) of type (stream) }; private array $consoleSectionOutputs = [] }) /home/student/php_2024_piotr_zycki/08_laravel/01_tutorial/project/vendor/symfony/console/Application.php:169\n",
      "PHP   8. Symfony\\Component\\Console\\Application->doRunCommand($command = class Codeception\\Command\\Run { private ?Symfony\\Component\\Console\\Application ${Symfony\\Component\\Console\\Command\\Command}application = class Codeception\\Application { private array ${Symfony\\Component\\Console\\Application}commands = [...]; private bool ${Symfony\\Component\\Console\\Application}wantHelps = FALSE; private ?Symfony\\Component\\Console\\Command\\Command ${Symfony\\Component\\Console\\Application}runningCommand = ...; private string ${Symfony\\Component\\Console\\Application}name = 'Codeception'; private string ${Symfony\\Component\\Console\\Application}version = '5.1.2'; private ?Symfony\\Component\\Console\\CommandLoader\\CommandLoaderInterface ${Symfony\\Component\\Console\\Application}commandLoader = NULL; private bool ${Symfony\\Component\\Console\\Application}catchExceptions = TRUE; private bool ${Symfony\\Component\\Console\\Application}catchErrors = FALSE; private bool ${Symfony\\Component\\Console\\Application}autoExit = TRUE; private Symfony\\Component\\Console\\Input\\InputDefinition ${Symfony\\Component\\Console\\Application}definition = class Symfony\\Component\\Console\\Input\\InputDefinition { ... }; private Symfony\\Component\\Console\\Helper\\HelperSet ${Symfony\\Component\\Console\\Application}helperSet = class Symfony\\Component\\Console\\Helper\\HelperSet { ... }; private ?Symfony\\Contracts\\EventDispatcher\\EventDispatcherInterface ${Symfony\\Component\\Console\\Application}dispatcher = NULL; private Symfony\\Component\\Console\\Terminal ${Symfony\\Component\\Console\\Application}terminal = class Symfony\\Component\\Console\\Terminal { ... }; private string ${Symfony\\Component\\Console\\Application}defaultCommand = 'list'; private bool ${Symfony\\Component\\Console\\Application}singleCommand = FALSE; private bool ${Symfony\\Component\\Console\\Application}initialized = TRUE; private ?Symfony\\Component\\Console\\SignalRegistry\\SignalRegistry ${Symfony\\Component\\Console\\Application}signalRegistry = class Symfony\\Component\\Console\\SignalRegistry\\SignalRegistry { ... }; private array ${Symfony\\Component\\Console\\Application}signalsToDispatchEvent = [...]; protected ?Symfony\\Component\\Console\\Input\\ArgvInput $coreArguments = class Symfony\\Component\\Console\\Input\\ArgvInput { ... } }; private ?string ${Symfony\\Component\\Console\\Command\\Command}name = 'run'; private ?string ${Symfony\\Component\\Console\\Command\\Command}processTitle = NULL; private array ${Symfony\\Component\\Console\\Command\\Command}aliases = []; private Symfony\\Component\\Console\\Input\\InputDefinition ${Symfony\\Component\\Console\\Command\\Command}definition = class Symfony\\Component\\Console\\Input\\InputDefinition { private array $arguments = [...]; private int $requiredCount = 0; private ?Symfony\\Component\\Console\\Input\\InputArgument $lastArrayArgument = NULL; private ?Symfony\\Component\\Console\\Input\\InputArgument $lastOptionalArgument = class Symfony\\Component\\Console\\Input\\InputArgument { ... }; private array $options = [...]; private array $negations = [...]; private array $shortcuts = [...] }; private bool ${Symfony\\Component\\Console\\Command\\Command}hidden = FALSE; private string ${Symfony\\Component\\Console\\Command\\Command}help = ''; private string ${Symfony\\Component\\Console\\Command\\Command}description = ''; private ?Symfony\\Component\\Console\\Input\\InputDefinition ${Symfony\\Component\\Console\\Command\\Command}fullDefinition = class Symfony\\Component\\Console\\Input\\InputDefinition { private array $arguments = [...]; private int $requiredCount = 1; private ?Symfony\\Component\\Console\\Input\\InputArgument $lastArrayArgument = NULL; private ?Symfony\\Component\\Console\\Input\\InputArgument $lastOptionalArgument = class Symfony\\Component\\Console\\Input\\InputArgument { ... }; private array $options = [...]; private array $negations = [...]; private array $shortcuts = [...] }; private bool ${Symfony\\Component\\Console\\Command\\Command}ignoreValidationErrors = FALSE; private ?Closure ${Symfony\\Component\\Console\\Command\\Command}code = NULL; private array ${Symfony\\Component\\Console\\Command\\Command}synopsis = []; private array ${Symfony\\Component\\Console\\Command\\Command}usages = []; private ?Symfony\\Component\\Console\\Helper\\HelperSet ${Symfony\\Component\\Console\\Command\\Command}helperSet = class Symfony\\Component\\Console\\Helper\\HelperSet { private array $helpers = [...] }; protected ?Codeception\\Codecept $codecept = class Codeception\\Codecept { protected Codeception\\ResultAggregator $resultAggregator = class Codeception\\ResultAggregator { ... }; protected Symfony\\Component\\EventDispatcher\\EventDispatcher $dispatcher = class Symfony\\Component\\EventDispatcher\\EventDispatcher { ... }; protected Codeception\\Subscriber\\ExtensionLoader $extensionLoader = class Codeception\\Subscriber\\ExtensionLoader { ... }; protected array $options = [...]; protected array $config = [...]; protected array $extensions = [...]; private Codeception\\Lib\\Console\\Output $output = class Codeception\\Lib\\Console\\Output { ... } }; protected int $executed = 0; protected array $options = ['override' => [...], 'ext' => [...], 'report' => FALSE, 'html' => 'report.html', 'xml' => 'report.xml', 'phpunit-xml' => 'phpunit-report.xml', 'colors' => TRUE, 'no-colors' => FALSE, 'silent' => FALSE, 'steps' => FALSE, 'debug' => FALSE, 'shard' => NULL, 'filter' => NULL, 'grep' => NULL, 'bootstrap' => FALSE, 'no-redirect' => FALSE, 'coverage' => NULL, 'coverage-html' => NULL, 'coverage-xml' => NULL, 'coverage-text' => NULL, 'coverage-crap4j' => NULL, 'coverage-cobertura' => NULL, 'coverage-phpunit' => NULL, 'no-exit' => FALSE, 'group' => [...], 'skip' => [...], 'skip-group' => [...], 'env' => [...], 'fail-fast' => NULL, 'no-rebuild' => FALSE, 'seed' => NULL, 'no-artifacts' => FALSE, 'help' => FALSE, 'quiet' => FALSE, 'verbose' => FALSE, 'version' => FALSE, 'ansi' => NULL, 'no-interaction' => FALSE, 'config' => NULL]; protected ?Symfony\\Component\\Console\\Output\\OutputInterface $output = class Symfony\\Component\\Console\\Output\\ConsoleOutput { private int ${Symfony\\Component\\Console\\Output\\Output}verbosity = 32; private Symfony\\Component\\Console\\Formatter\\OutputFormatterInterface ${Symfony\\Component\\Console\\Output\\Output}formatter = class Symfony\\Component\\Console\\Formatter\\OutputFormatter { ... }; private ${Symfony\\Component\\Console\\Output\\StreamOutput}stream = resource(2) of type (stream); private Symfony\\Component\\Console\\Output\\OutputInterface $stderr = class Symfony\\Component\\Console\\Output\\StreamOutput { ... }; private array $consoleSectionOutputs = [...] } }, $input = class Symfony\\Component\\Console\\Input\\ArgvInput { protected Symfony\\Component\\Console\\Input\\InputDefinition $definition = class Symfony\\Component\\Console\\Input\\InputDefinition { private array $arguments = [...]; private int $requiredCount = 1; private ?Symfony\\Component\\Console\\Input\\InputArgument $lastArrayArgument = NULL; private ?Symfony\\Component\\Console\\Input\\InputArgument $lastOptionalArgument = class Symfony\\Component\\Console\\Input\\InputArgument { ... }; private array $options = [...]; private array $negations = [...]; private array $shortcuts = [...] }; protected $stream = NULL; protected array $options = []; protected array $arguments = ['command' => 'run']; protected bool $interactive = TRUE; private array $tokens = [0 => 'run']; private array $parsed = [] }, $output = class Symfony\\Component\\Console\\Output\\ConsoleOutput { private int ${Symfony\\Component\\Console\\Output\\Output}verbosity = 32; private Symfony\\Component\\Console\\Formatter\\OutputFormatterInterface ${Symfony\\Component\\Console\\Output\\Output}formatter = class Symfony\\Component\\Console\\Formatter\\OutputFormatter { private bool $decorated = TRUE; private array $styles = [...]; private Symfony\\Component\\Console\\Formatter\\OutputFormatterStyleStack $styleStack = class Symfony\\Component\\Console\\Formatter\\OutputFormatterStyleStack { ... } }; private ${Symfony\\Component\\Console\\Output\\StreamOutput}stream = resource(2) of type (stream); private Symfony\\Component\\Console\\Output\\OutputInterface $stderr = class Symfony\\Component\\Console\\Output\\StreamOutput { private int ${Symfony\\Component\\Console\\Output\\Output}verbosity = 32; private Symfony\\Component\\Console\\Formatter\\OutputFormatterInterface ${Symfony\\Component\\Console\\Output\\Output}formatter = class Symfony\\Component\\Console\\Formatter\\OutputFormatter { ... }; private $stream = resource(3) of type (stream) }; private array $consoleSectionOutputs = [] }) /home/student/php_2024_piotr_zycki/08_laravel/01_tutorial/project/vendor/symfony/console/Application.php:318\n",
      "PHP   9. Symfony\\Component\\Console\\Command\\Command->run($input = class Symfony\\Component\\Console\\Input\\ArgvInput { protected Symfony\\Component\\Console\\Input\\InputDefinition $definition = class Symfony\\Component\\Console\\Input\\InputDefinition { private array $arguments = [...]; private int $requiredCount = 1; private ?Symfony\\Component\\Console\\Input\\InputArgument $lastArrayArgument = NULL; private ?Symfony\\Component\\Console\\Input\\InputArgument $lastOptionalArgument = class Symfony\\Component\\Console\\Input\\InputArgument { ... }; private array $options = [...]; private array $negations = [...]; private array $shortcuts = [...] }; protected $stream = NULL; protected array $options = []; protected array $arguments = ['command' => 'run']; protected bool $interactive = TRUE; private array $tokens = [0 => 'run']; private array $parsed = [] }, $output = class Symfony\\Component\\Console\\Output\\ConsoleOutput { private int ${Symfony\\Component\\Console\\Output\\Output}verbosity = 32; private Symfony\\Component\\Console\\Formatter\\OutputFormatterInterface ${Symfony\\Component\\Console\\Output\\Output}formatter = class Symfony\\Component\\Console\\Formatter\\OutputFormatter { private bool $decorated = TRUE; private array $styles = [...]; private Symfony\\Component\\Console\\Formatter\\OutputFormatterStyleStack $styleStack = class Symfony\\Component\\Console\\Formatter\\OutputFormatterStyleStack { ... } }; private ${Symfony\\Component\\Console\\Output\\StreamOutput}stream = resource(2) of type (stream); private Symfony\\Component\\Console\\Output\\OutputInterface $stderr = class Symfony\\Component\\Console\\Output\\StreamOutput { private int ${Symfony\\Component\\Console\\Output\\Output}verbosity = 32; private Symfony\\Component\\Console\\Formatter\\OutputFormatterInterface ${Symfony\\Component\\Console\\Output\\Output}formatter = class Symfony\\Component\\Console\\Formatter\\OutputFormatter { ... }; private $stream = resource(3) of type (stream) }; private array $consoleSectionOutputs = [] }) /home/student/php_2024_piotr_zycki/08_laravel/01_tutorial/project/vendor/symfony/console/Application.php:1031\n",
      "PHP  10. Codeception\\Command\\Run->execute($input = class Symfony\\Component\\Console\\Input\\ArgvInput { protected Symfony\\Component\\Console\\Input\\InputDefinition $definition = class Symfony\\Component\\Console\\Input\\InputDefinition { private array $arguments = [...]; private int $requiredCount = 1; private ?Symfony\\Component\\Console\\Input\\InputArgument $lastArrayArgument = NULL; private ?Symfony\\Component\\Console\\Input\\InputArgument $lastOptionalArgument = class Symfony\\Component\\Console\\Input\\InputArgument { ... }; private array $options = [...]; private array $negations = [...]; private array $shortcuts = [...] }; protected $stream = NULL; protected array $options = []; protected array $arguments = ['command' => 'run']; protected bool $interactive = TRUE; private array $tokens = [0 => 'run']; private array $parsed = [] }, $output = class Symfony\\Component\\Console\\Output\\ConsoleOutput { private int ${Symfony\\Component\\Console\\Output\\Output}verbosity = 32; private Symfony\\Component\\Console\\Formatter\\OutputFormatterInterface ${Symfony\\Component\\Console\\Output\\Output}formatter = class Symfony\\Component\\Console\\Formatter\\OutputFormatter { private bool $decorated = TRUE; private array $styles = [...]; private Symfony\\Component\\Console\\Formatter\\OutputFormatterStyleStack $styleStack = class Symfony\\Component\\Console\\Formatter\\OutputFormatterStyleStack { ... } }; private ${Symfony\\Component\\Console\\Output\\StreamOutput}stream = resource(2) of type (stream); private Symfony\\Component\\Console\\Output\\OutputInterface $stderr = class Symfony\\Component\\Console\\Output\\StreamOutput { private int ${Symfony\\Component\\Console\\Output\\Output}verbosity = 32; private Symfony\\Component\\Console\\Formatter\\OutputFormatterInterface ${Symfony\\Component\\Console\\Output\\Output}formatter = class Symfony\\Component\\Console\\Formatter\\OutputFormatter { ... }; private $stream = resource(3) of type (stream) }; private array $consoleSectionOutputs = [] }) /home/student/php_2024_piotr_zycki/08_laravel/01_tutorial/project/vendor/symfony/console/Command/Command.php:279\n",
      "PHP  11. Codeception\\Command\\Run->runSuites($suites = [0 => 'Acceptance'], $skippedSuites = []) /home/student/php_2024_piotr_zycki/08_laravel/01_tutorial/project/vendor/codeception/codeception/src/Codeception/Command/Run.php:467\n",
      "PHP  12. Codeception\\Codecept->run($suite = 'Acceptance', $test = *uninitialized*, $config = *uninitialized*) /home/student/php_2024_piotr_zycki/08_laravel/01_tutorial/project/vendor/codeception/codeception/src/Codeception/Command/Run.php:646\n",
      "PHP  13. Codeception\\Codecept->runSuite($settings = ['actor' => 'AcceptanceTester', 'modules' => ['enabled' => [...], 'config' => [...], 'depends' => [...]], 'step_decorators' => [0 => 'Codeception\\\\Step\\\\ConditionalAssertion', 1 => 'Codeception\\\\Step\\\\TryTo', 2 => 'Codeception\\\\Step\\\\Retry'], 'colors' => TRUE, 'bootstrap' => FALSE, 'strict_xml' => FALSE, 'lint' => TRUE, 'backup_globals' => TRUE, 'report_useless_tests' => FALSE, 'be_strict_about_changes_to_global_state' => FALSE, 'shuffle' => FALSE, 'coverage' => [], 'support_namespace' => 'Support', 'namespace' => 'TestsCodeception', 'groups' => ['failed' => 'tests_codeception/_output/failed'], 'gherkin' => [], 'extensions' => ['enabled' => [...], 'config' => [...], 'commands' => [...]], 'path' => '/home/student/php_2024_piotr_zycki/08_laravel/01_tutorial/project/tests_codeception/Acceptance/', 'extends' => NULL, 'formats' => [], 'error_level' => 'E_ALL & ~E_STRICT & ~E_DEPRECATED', 'convert_deprecations_to_exceptions' => FALSE, 'suite' => 'Acceptance', 'suite_namespace' => 'TestsCodeception\\\\Acceptance'], $suite = 'Acceptance', $test = NULL) /home/student/php_2024_piotr_zycki/08_laravel/01_tutorial/project/vendor/codeception/codeception/src/Codeception/Codecept.php:216\n",
      "PHP  14. Codeception\\SuiteManager->loadTests($path = NULL) /home/student/php_2024_piotr_zycki/08_laravel/01_tutorial/project/vendor/codeception/codeception/src/Codeception/Codecept.php:258\n",
      "PHP  15. Codeception\\Test\\Loader->__construct($suiteSettings = ['actor' => 'AcceptanceTester', 'modules' => ['enabled' => [...], 'config' => [...], 'depends' => [...]], 'step_decorators' => [0 => 'Codeception\\\\Step\\\\ConditionalAssertion', 1 => 'Codeception\\\\Step\\\\TryTo', 2 => 'Codeception\\\\Step\\\\Retry'], 'colors' => TRUE, 'bootstrap' => FALSE, 'strict_xml' => FALSE, 'lint' => TRUE, 'backup_globals' => TRUE, 'report_useless_tests' => FALSE, 'be_strict_about_changes_to_global_state' => FALSE, 'shuffle' => FALSE, 'coverage' => [], 'support_namespace' => 'Support', 'namespace' => 'TestsCodeception', 'groups' => ['failed' => 'tests_codeception/_output/failed'], 'gherkin' => [], 'extensions' => ['enabled' => [...], 'config' => [...], 'commands' => [...]], 'path' => '/home/student/php_2024_piotr_zycki/08_laravel/01_tutorial/project/tests_codeception/Acceptance/', 'extends' => NULL, 'formats' => [], 'error_level' => 'E_ALL & ~E_STRICT & ~E_DEPRECATED', 'convert_deprecations_to_exceptions' => FALSE, 'suite' => 'Acceptance', 'suite_namespace' => 'TestsCodeception\\\\Acceptance', 'shard' => NULL]) /home/student/php_2024_piotr_zycki/08_laravel/01_tutorial/project/vendor/codeception/codeception/src/Codeception/SuiteManager.php:86\n",
      "PHP  16. Codeception\\Test\\Loader\\Gherkin->__construct($settings = ['actor' => 'AcceptanceTester', 'modules' => ['enabled' => [...], 'config' => [...], 'depends' => [...]], 'step_decorators' => [0 => 'Codeception\\\\Step\\\\ConditionalAssertion', 1 => 'Codeception\\\\Step\\\\TryTo', 2 => 'Codeception\\\\Step\\\\Retry'], 'colors' => TRUE, 'bootstrap' => FALSE, 'strict_xml' => FALSE, 'lint' => TRUE, 'backup_globals' => TRUE, 'report_useless_tests' => FALSE, 'be_strict_about_changes_to_global_state' => FALSE, 'shuffle' => FALSE, 'coverage' => [], 'support_namespace' => 'Support', 'namespace' => 'TestsCodeception', 'groups' => ['failed' => 'tests_codeception/_output/failed'], 'gherkin' => [], 'extensions' => ['enabled' => [...], 'config' => [...], 'commands' => [...]], 'path' => '/home/student/php_2024_piotr_zycki/08_laravel/01_tutorial/project/tests_codeception/Acceptance/', 'extends' => NULL, 'formats' => [], 'error_level' => 'E_ALL & ~E_STRICT & ~E_DEPRECATED', 'convert_deprecations_to_exceptions' => FALSE, 'suite' => 'Acceptance', 'suite_namespace' => 'TestsCodeception\\\\Acceptance', 'shard' => NULL]) /home/student/php_2024_piotr_zycki/08_laravel/01_tutorial/project/vendor/codeception/codeception/src/Codeception/Test/Loader.php:73\n",
      "PHP  17. Codeception\\Test\\Loader\\Gherkin->fetchGherkinSteps() /home/student/php_2024_piotr_zycki/08_laravel/01_tutorial/project/vendor/codeception/codeception/src/Codeception/Test/Loader/Gherkin.php:82\n",
      "PHP  18. Codeception\\Test\\Loader\\Gherkin->addSteps($contexts = [0 => 'TestsCodeception\\\\Support\\\\AcceptanceTester'], $group = *uninitialized*) /home/student/php_2024_piotr_zycki/08_laravel/01_tutorial/project/vendor/codeception/codeception/src/Codeception/Test/Loader/Gherkin.php:119\n",
      "PHP  19. class_exists($class = 'TestsCodeception\\\\Support\\\\AcceptanceTester') /home/student/php_2024_piotr_zycki/08_laravel/01_tutorial/project/vendor/codeception/codeception/src/Codeception/Test/Loader/Gherkin.php:129\n",
      "PHP  20. Codeception\\Util\\Autoload::load($class = 'TestsCodeception\\\\Support\\\\AcceptanceTester') /home/student/php_2024_piotr_zycki/08_laravel/01_tutorial/project/vendor/codeception/codeception/src/Codeception/Test/Loader/Gherkin.php:129\n",
      "PHP  21. Codeception\\Util\\Autoload::loadMappedFile($prefix = 'TestsCodeception\\\\Support\\\\', $relativeClass = 'AcceptanceTester') /home/student/php_2024_piotr_zycki/08_laravel/01_tutorial/project/vendor/codeception/codeception/src/Codeception/Util/Autoload.php:94\n",
      "PHP  22. Codeception\\Util\\Autoload::requireFile($file = '/home/student/php_2024_piotr_zycki/08_laravel/01_tutorial/project/tests_codeception/Support/AcceptanceTester.php') /home/student/php_2024_piotr_zycki/08_laravel/01_tutorial/project/vendor/codeception/codeception/src/Codeception/Util/Autoload.php:138\n",
      "PHP  23. require_once() /home/student/php_2024_piotr_zycki/08_laravel/01_tutorial/project/vendor/codeception/codeception/src/Codeception/Util/Autoload.php:149\n"
     ]
    }
   ],
   "source": [
    "! vendor/bin/codecept run"
   ]
  },
  {
   "cell_type": "markdown",
   "metadata": {},
   "source": [
    "The tests will fail because of the namespace change.\n",
    "\n",
    "We need to update the namespace in [tests_codeception/Support/AcceptanceTester.php](/edit/08_laravel/01_tutorial/project/tests_codeception/Support/AcceptanceTester.php).\n",
    "\n",
    "Change from:\n",
    "\n",
    "```php\n",
    "namespace Tests\\Support;\n",
    "```\n",
    "\n",
    "to:\n",
    "\n",
    "```php\n",
    "namespace TestsCodeception\\Support;\n",
    "```"
   ]
  },
  {
   "cell_type": "markdown",
   "metadata": {},
   "source": [
    "The tests will probably fail once more, because the generated code was not updated:"
   ]
  },
  {
   "cell_type": "code",
   "execution_count": 39,
   "metadata": {},
   "outputs": [
    {
     "name": "stdout",
     "output_type": "stream",
     "text": [
      "Codeception PHP Testing Framework v5.1.2 https://stand-with-ukraine.pp.ua\n",
      "PHP Fatal error:  Trait \"TestsCodeception\\Support\\_generated\\AcceptanceTesterActions\" not found in /home/student/php_2024_piotr_zycki/08_laravel/01_tutorial/project/tests_codeception/Support/AcceptanceTester.php on line 22\n",
      "PHP Stack trace:\n",
      "PHP   1. {main}() /home/student/php_2024_piotr_zycki/08_laravel/01_tutorial/project/vendor/bin/codecept:0\n",
      "PHP   2. include() /home/student/php_2024_piotr_zycki/08_laravel/01_tutorial/project/vendor/bin/codecept:119\n",
      "PHP   3. require() /home/student/php_2024_piotr_zycki/08_laravel/01_tutorial/project/vendor/codeception/codeception/codecept:7\n",
      "PHP   4. {closure:/home/student/php_2024_piotr_zycki/08_laravel/01_tutorial/project/vendor/codeception/codeception/app.php:7-46}() /home/student/php_2024_piotr_zycki/08_laravel/01_tutorial/project/vendor/codeception/codeception/app.php:46\n",
      "PHP   5. Codeception\\Application->run($input = *uninitialized*, $output = *uninitialized*) /home/student/php_2024_piotr_zycki/08_laravel/01_tutorial/project/vendor/codeception/codeception/app.php:45\n",
      "PHP   6. Symfony\\Component\\Console\\Application->run($input = class Symfony\\Component\\Console\\Input\\ArgvInput { protected Symfony\\Component\\Console\\Input\\InputDefinition $definition = class Symfony\\Component\\Console\\Input\\InputDefinition { private array $arguments = [...]; private int $requiredCount = 1; private ?Symfony\\Component\\Console\\Input\\InputArgument $lastArrayArgument = NULL; private ?Symfony\\Component\\Console\\Input\\InputArgument $lastOptionalArgument = class Symfony\\Component\\Console\\Input\\InputArgument { ... }; private array $options = [...]; private array $negations = [...]; private array $shortcuts = [...] }; protected $stream = NULL; protected array $options = []; protected array $arguments = ['command' => 'run']; protected bool $interactive = TRUE; private array $tokens = [0 => 'run']; private array $parsed = [] }, $output = NULL) /home/student/php_2024_piotr_zycki/08_laravel/01_tutorial/project/vendor/codeception/codeception/src/Codeception/Application.php:112\n",
      "PHP   7. Symfony\\Component\\Console\\Application->doRun($input = class Symfony\\Component\\Console\\Input\\ArgvInput { protected Symfony\\Component\\Console\\Input\\InputDefinition $definition = class Symfony\\Component\\Console\\Input\\InputDefinition { private array $arguments = [...]; private int $requiredCount = 1; private ?Symfony\\Component\\Console\\Input\\InputArgument $lastArrayArgument = NULL; private ?Symfony\\Component\\Console\\Input\\InputArgument $lastOptionalArgument = class Symfony\\Component\\Console\\Input\\InputArgument { ... }; private array $options = [...]; private array $negations = [...]; private array $shortcuts = [...] }; protected $stream = NULL; protected array $options = []; protected array $arguments = ['command' => 'run']; protected bool $interactive = TRUE; private array $tokens = [0 => 'run']; private array $parsed = [] }, $output = class Symfony\\Component\\Console\\Output\\ConsoleOutput { private int ${Symfony\\Component\\Console\\Output\\Output}verbosity = 32; private Symfony\\Component\\Console\\Formatter\\OutputFormatterInterface ${Symfony\\Component\\Console\\Output\\Output}formatter = class Symfony\\Component\\Console\\Formatter\\OutputFormatter { private bool $decorated = TRUE; private array $styles = [...]; private Symfony\\Component\\Console\\Formatter\\OutputFormatterStyleStack $styleStack = class Symfony\\Component\\Console\\Formatter\\OutputFormatterStyleStack { ... } }; private ${Symfony\\Component\\Console\\Output\\StreamOutput}stream = resource(2) of type (stream); private Symfony\\Component\\Console\\Output\\OutputInterface $stderr = class Symfony\\Component\\Console\\Output\\StreamOutput { private int ${Symfony\\Component\\Console\\Output\\Output}verbosity = 32; private Symfony\\Component\\Console\\Formatter\\OutputFormatterInterface ${Symfony\\Component\\Console\\Output\\Output}formatter = class Symfony\\Component\\Console\\Formatter\\OutputFormatter { ... }; private $stream = resource(3) of type (stream) }; private array $consoleSectionOutputs = [] }) /home/student/php_2024_piotr_zycki/08_laravel/01_tutorial/project/vendor/symfony/console/Application.php:169\n",
      "PHP   8. Symfony\\Component\\Console\\Application->doRunCommand($command = class Codeception\\Command\\Run { private ?Symfony\\Component\\Console\\Application ${Symfony\\Component\\Console\\Command\\Command}application = class Codeception\\Application { private array ${Symfony\\Component\\Console\\Application}commands = [...]; private bool ${Symfony\\Component\\Console\\Application}wantHelps = FALSE; private ?Symfony\\Component\\Console\\Command\\Command ${Symfony\\Component\\Console\\Application}runningCommand = ...; private string ${Symfony\\Component\\Console\\Application}name = 'Codeception'; private string ${Symfony\\Component\\Console\\Application}version = '5.1.2'; private ?Symfony\\Component\\Console\\CommandLoader\\CommandLoaderInterface ${Symfony\\Component\\Console\\Application}commandLoader = NULL; private bool ${Symfony\\Component\\Console\\Application}catchExceptions = TRUE; private bool ${Symfony\\Component\\Console\\Application}catchErrors = FALSE; private bool ${Symfony\\Component\\Console\\Application}autoExit = TRUE; private Symfony\\Component\\Console\\Input\\InputDefinition ${Symfony\\Component\\Console\\Application}definition = class Symfony\\Component\\Console\\Input\\InputDefinition { ... }; private Symfony\\Component\\Console\\Helper\\HelperSet ${Symfony\\Component\\Console\\Application}helperSet = class Symfony\\Component\\Console\\Helper\\HelperSet { ... }; private ?Symfony\\Contracts\\EventDispatcher\\EventDispatcherInterface ${Symfony\\Component\\Console\\Application}dispatcher = NULL; private Symfony\\Component\\Console\\Terminal ${Symfony\\Component\\Console\\Application}terminal = class Symfony\\Component\\Console\\Terminal { ... }; private string ${Symfony\\Component\\Console\\Application}defaultCommand = 'list'; private bool ${Symfony\\Component\\Console\\Application}singleCommand = FALSE; private bool ${Symfony\\Component\\Console\\Application}initialized = TRUE; private ?Symfony\\Component\\Console\\SignalRegistry\\SignalRegistry ${Symfony\\Component\\Console\\Application}signalRegistry = class Symfony\\Component\\Console\\SignalRegistry\\SignalRegistry { ... }; private array ${Symfony\\Component\\Console\\Application}signalsToDispatchEvent = [...]; protected ?Symfony\\Component\\Console\\Input\\ArgvInput $coreArguments = class Symfony\\Component\\Console\\Input\\ArgvInput { ... } }; private ?string ${Symfony\\Component\\Console\\Command\\Command}name = 'run'; private ?string ${Symfony\\Component\\Console\\Command\\Command}processTitle = NULL; private array ${Symfony\\Component\\Console\\Command\\Command}aliases = []; private Symfony\\Component\\Console\\Input\\InputDefinition ${Symfony\\Component\\Console\\Command\\Command}definition = class Symfony\\Component\\Console\\Input\\InputDefinition { private array $arguments = [...]; private int $requiredCount = 0; private ?Symfony\\Component\\Console\\Input\\InputArgument $lastArrayArgument = NULL; private ?Symfony\\Component\\Console\\Input\\InputArgument $lastOptionalArgument = class Symfony\\Component\\Console\\Input\\InputArgument { ... }; private array $options = [...]; private array $negations = [...]; private array $shortcuts = [...] }; private bool ${Symfony\\Component\\Console\\Command\\Command}hidden = FALSE; private string ${Symfony\\Component\\Console\\Command\\Command}help = ''; private string ${Symfony\\Component\\Console\\Command\\Command}description = ''; private ?Symfony\\Component\\Console\\Input\\InputDefinition ${Symfony\\Component\\Console\\Command\\Command}fullDefinition = class Symfony\\Component\\Console\\Input\\InputDefinition { private array $arguments = [...]; private int $requiredCount = 1; private ?Symfony\\Component\\Console\\Input\\InputArgument $lastArrayArgument = NULL; private ?Symfony\\Component\\Console\\Input\\InputArgument $lastOptionalArgument = class Symfony\\Component\\Console\\Input\\InputArgument { ... }; private array $options = [...]; private array $negations = [...]; private array $shortcuts = [...] }; private bool ${Symfony\\Component\\Console\\Command\\Command}ignoreValidationErrors = FALSE; private ?Closure ${Symfony\\Component\\Console\\Command\\Command}code = NULL; private array ${Symfony\\Component\\Console\\Command\\Command}synopsis = []; private array ${Symfony\\Component\\Console\\Command\\Command}usages = []; private ?Symfony\\Component\\Console\\Helper\\HelperSet ${Symfony\\Component\\Console\\Command\\Command}helperSet = class Symfony\\Component\\Console\\Helper\\HelperSet { private array $helpers = [...] }; protected ?Codeception\\Codecept $codecept = class Codeception\\Codecept { protected Codeception\\ResultAggregator $resultAggregator = class Codeception\\ResultAggregator { ... }; protected Symfony\\Component\\EventDispatcher\\EventDispatcher $dispatcher = class Symfony\\Component\\EventDispatcher\\EventDispatcher { ... }; protected Codeception\\Subscriber\\ExtensionLoader $extensionLoader = class Codeception\\Subscriber\\ExtensionLoader { ... }; protected array $options = [...]; protected array $config = [...]; protected array $extensions = [...]; private Codeception\\Lib\\Console\\Output $output = class Codeception\\Lib\\Console\\Output { ... } }; protected int $executed = 0; protected array $options = ['override' => [...], 'ext' => [...], 'report' => FALSE, 'html' => 'report.html', 'xml' => 'report.xml', 'phpunit-xml' => 'phpunit-report.xml', 'colors' => TRUE, 'no-colors' => FALSE, 'silent' => FALSE, 'steps' => FALSE, 'debug' => FALSE, 'shard' => NULL, 'filter' => NULL, 'grep' => NULL, 'bootstrap' => FALSE, 'no-redirect' => FALSE, 'coverage' => NULL, 'coverage-html' => NULL, 'coverage-xml' => NULL, 'coverage-text' => NULL, 'coverage-crap4j' => NULL, 'coverage-cobertura' => NULL, 'coverage-phpunit' => NULL, 'no-exit' => FALSE, 'group' => [...], 'skip' => [...], 'skip-group' => [...], 'env' => [...], 'fail-fast' => NULL, 'no-rebuild' => FALSE, 'seed' => NULL, 'no-artifacts' => FALSE, 'help' => FALSE, 'quiet' => FALSE, 'verbose' => FALSE, 'version' => FALSE, 'ansi' => NULL, 'no-interaction' => FALSE, 'config' => NULL]; protected ?Symfony\\Component\\Console\\Output\\OutputInterface $output = class Symfony\\Component\\Console\\Output\\ConsoleOutput { private int ${Symfony\\Component\\Console\\Output\\Output}verbosity = 32; private Symfony\\Component\\Console\\Formatter\\OutputFormatterInterface ${Symfony\\Component\\Console\\Output\\Output}formatter = class Symfony\\Component\\Console\\Formatter\\OutputFormatter { ... }; private ${Symfony\\Component\\Console\\Output\\StreamOutput}stream = resource(2) of type (stream); private Symfony\\Component\\Console\\Output\\OutputInterface $stderr = class Symfony\\Component\\Console\\Output\\StreamOutput { ... }; private array $consoleSectionOutputs = [...] } }, $input = class Symfony\\Component\\Console\\Input\\ArgvInput { protected Symfony\\Component\\Console\\Input\\InputDefinition $definition = class Symfony\\Component\\Console\\Input\\InputDefinition { private array $arguments = [...]; private int $requiredCount = 1; private ?Symfony\\Component\\Console\\Input\\InputArgument $lastArrayArgument = NULL; private ?Symfony\\Component\\Console\\Input\\InputArgument $lastOptionalArgument = class Symfony\\Component\\Console\\Input\\InputArgument { ... }; private array $options = [...]; private array $negations = [...]; private array $shortcuts = [...] }; protected $stream = NULL; protected array $options = []; protected array $arguments = ['command' => 'run']; protected bool $interactive = TRUE; private array $tokens = [0 => 'run']; private array $parsed = [] }, $output = class Symfony\\Component\\Console\\Output\\ConsoleOutput { private int ${Symfony\\Component\\Console\\Output\\Output}verbosity = 32; private Symfony\\Component\\Console\\Formatter\\OutputFormatterInterface ${Symfony\\Component\\Console\\Output\\Output}formatter = class Symfony\\Component\\Console\\Formatter\\OutputFormatter { private bool $decorated = TRUE; private array $styles = [...]; private Symfony\\Component\\Console\\Formatter\\OutputFormatterStyleStack $styleStack = class Symfony\\Component\\Console\\Formatter\\OutputFormatterStyleStack { ... } }; private ${Symfony\\Component\\Console\\Output\\StreamOutput}stream = resource(2) of type (stream); private Symfony\\Component\\Console\\Output\\OutputInterface $stderr = class Symfony\\Component\\Console\\Output\\StreamOutput { private int ${Symfony\\Component\\Console\\Output\\Output}verbosity = 32; private Symfony\\Component\\Console\\Formatter\\OutputFormatterInterface ${Symfony\\Component\\Console\\Output\\Output}formatter = class Symfony\\Component\\Console\\Formatter\\OutputFormatter { ... }; private $stream = resource(3) of type (stream) }; private array $consoleSectionOutputs = [] }) /home/student/php_2024_piotr_zycki/08_laravel/01_tutorial/project/vendor/symfony/console/Application.php:318\n",
      "PHP   9. Symfony\\Component\\Console\\Command\\Command->run($input = class Symfony\\Component\\Console\\Input\\ArgvInput { protected Symfony\\Component\\Console\\Input\\InputDefinition $definition = class Symfony\\Component\\Console\\Input\\InputDefinition { private array $arguments = [...]; private int $requiredCount = 1; private ?Symfony\\Component\\Console\\Input\\InputArgument $lastArrayArgument = NULL; private ?Symfony\\Component\\Console\\Input\\InputArgument $lastOptionalArgument = class Symfony\\Component\\Console\\Input\\InputArgument { ... }; private array $options = [...]; private array $negations = [...]; private array $shortcuts = [...] }; protected $stream = NULL; protected array $options = []; protected array $arguments = ['command' => 'run']; protected bool $interactive = TRUE; private array $tokens = [0 => 'run']; private array $parsed = [] }, $output = class Symfony\\Component\\Console\\Output\\ConsoleOutput { private int ${Symfony\\Component\\Console\\Output\\Output}verbosity = 32; private Symfony\\Component\\Console\\Formatter\\OutputFormatterInterface ${Symfony\\Component\\Console\\Output\\Output}formatter = class Symfony\\Component\\Console\\Formatter\\OutputFormatter { private bool $decorated = TRUE; private array $styles = [...]; private Symfony\\Component\\Console\\Formatter\\OutputFormatterStyleStack $styleStack = class Symfony\\Component\\Console\\Formatter\\OutputFormatterStyleStack { ... } }; private ${Symfony\\Component\\Console\\Output\\StreamOutput}stream = resource(2) of type (stream); private Symfony\\Component\\Console\\Output\\OutputInterface $stderr = class Symfony\\Component\\Console\\Output\\StreamOutput { private int ${Symfony\\Component\\Console\\Output\\Output}verbosity = 32; private Symfony\\Component\\Console\\Formatter\\OutputFormatterInterface ${Symfony\\Component\\Console\\Output\\Output}formatter = class Symfony\\Component\\Console\\Formatter\\OutputFormatter { ... }; private $stream = resource(3) of type (stream) }; private array $consoleSectionOutputs = [] }) /home/student/php_2024_piotr_zycki/08_laravel/01_tutorial/project/vendor/symfony/console/Application.php:1031\n",
      "PHP  10. Codeception\\Command\\Run->execute($input = class Symfony\\Component\\Console\\Input\\ArgvInput { protected Symfony\\Component\\Console\\Input\\InputDefinition $definition = class Symfony\\Component\\Console\\Input\\InputDefinition { private array $arguments = [...]; private int $requiredCount = 1; private ?Symfony\\Component\\Console\\Input\\InputArgument $lastArrayArgument = NULL; private ?Symfony\\Component\\Console\\Input\\InputArgument $lastOptionalArgument = class Symfony\\Component\\Console\\Input\\InputArgument { ... }; private array $options = [...]; private array $negations = [...]; private array $shortcuts = [...] }; protected $stream = NULL; protected array $options = []; protected array $arguments = ['command' => 'run']; protected bool $interactive = TRUE; private array $tokens = [0 => 'run']; private array $parsed = [] }, $output = class Symfony\\Component\\Console\\Output\\ConsoleOutput { private int ${Symfony\\Component\\Console\\Output\\Output}verbosity = 32; private Symfony\\Component\\Console\\Formatter\\OutputFormatterInterface ${Symfony\\Component\\Console\\Output\\Output}formatter = class Symfony\\Component\\Console\\Formatter\\OutputFormatter { private bool $decorated = TRUE; private array $styles = [...]; private Symfony\\Component\\Console\\Formatter\\OutputFormatterStyleStack $styleStack = class Symfony\\Component\\Console\\Formatter\\OutputFormatterStyleStack { ... } }; private ${Symfony\\Component\\Console\\Output\\StreamOutput}stream = resource(2) of type (stream); private Symfony\\Component\\Console\\Output\\OutputInterface $stderr = class Symfony\\Component\\Console\\Output\\StreamOutput { private int ${Symfony\\Component\\Console\\Output\\Output}verbosity = 32; private Symfony\\Component\\Console\\Formatter\\OutputFormatterInterface ${Symfony\\Component\\Console\\Output\\Output}formatter = class Symfony\\Component\\Console\\Formatter\\OutputFormatter { ... }; private $stream = resource(3) of type (stream) }; private array $consoleSectionOutputs = [] }) /home/student/php_2024_piotr_zycki/08_laravel/01_tutorial/project/vendor/symfony/console/Command/Command.php:279\n",
      "PHP  11. Codeception\\Command\\Run->runSuites($suites = [0 => 'Acceptance'], $skippedSuites = []) /home/student/php_2024_piotr_zycki/08_laravel/01_tutorial/project/vendor/codeception/codeception/src/Codeception/Command/Run.php:467\n",
      "PHP  12. Codeception\\Codecept->run($suite = 'Acceptance', $test = *uninitialized*, $config = *uninitialized*) /home/student/php_2024_piotr_zycki/08_laravel/01_tutorial/project/vendor/codeception/codeception/src/Codeception/Command/Run.php:646\n",
      "PHP  13. Codeception\\Codecept->runSuite($settings = ['actor' => 'AcceptanceTester', 'modules' => ['enabled' => [...], 'config' => [...], 'depends' => [...]], 'step_decorators' => [0 => 'Codeception\\\\Step\\\\ConditionalAssertion', 1 => 'Codeception\\\\Step\\\\TryTo', 2 => 'Codeception\\\\Step\\\\Retry'], 'colors' => TRUE, 'bootstrap' => FALSE, 'strict_xml' => FALSE, 'lint' => TRUE, 'backup_globals' => TRUE, 'report_useless_tests' => FALSE, 'be_strict_about_changes_to_global_state' => FALSE, 'shuffle' => FALSE, 'coverage' => [], 'support_namespace' => 'Support', 'namespace' => 'TestsCodeception', 'groups' => ['failed' => 'tests_codeception/_output/failed'], 'gherkin' => [], 'extensions' => ['enabled' => [...], 'config' => [...], 'commands' => [...]], 'path' => '/home/student/php_2024_piotr_zycki/08_laravel/01_tutorial/project/tests_codeception/Acceptance/', 'extends' => NULL, 'formats' => [], 'error_level' => 'E_ALL & ~E_STRICT & ~E_DEPRECATED', 'convert_deprecations_to_exceptions' => FALSE, 'suite' => 'Acceptance', 'suite_namespace' => 'TestsCodeception\\\\Acceptance'], $suite = 'Acceptance', $test = NULL) /home/student/php_2024_piotr_zycki/08_laravel/01_tutorial/project/vendor/codeception/codeception/src/Codeception/Codecept.php:216\n",
      "PHP  14. Codeception\\SuiteManager->loadTests($path = NULL) /home/student/php_2024_piotr_zycki/08_laravel/01_tutorial/project/vendor/codeception/codeception/src/Codeception/Codecept.php:258\n",
      "PHP  15. Codeception\\Test\\Loader->__construct($suiteSettings = ['actor' => 'AcceptanceTester', 'modules' => ['enabled' => [...], 'config' => [...], 'depends' => [...]], 'step_decorators' => [0 => 'Codeception\\\\Step\\\\ConditionalAssertion', 1 => 'Codeception\\\\Step\\\\TryTo', 2 => 'Codeception\\\\Step\\\\Retry'], 'colors' => TRUE, 'bootstrap' => FALSE, 'strict_xml' => FALSE, 'lint' => TRUE, 'backup_globals' => TRUE, 'report_useless_tests' => FALSE, 'be_strict_about_changes_to_global_state' => FALSE, 'shuffle' => FALSE, 'coverage' => [], 'support_namespace' => 'Support', 'namespace' => 'TestsCodeception', 'groups' => ['failed' => 'tests_codeception/_output/failed'], 'gherkin' => [], 'extensions' => ['enabled' => [...], 'config' => [...], 'commands' => [...]], 'path' => '/home/student/php_2024_piotr_zycki/08_laravel/01_tutorial/project/tests_codeception/Acceptance/', 'extends' => NULL, 'formats' => [], 'error_level' => 'E_ALL & ~E_STRICT & ~E_DEPRECATED', 'convert_deprecations_to_exceptions' => FALSE, 'suite' => 'Acceptance', 'suite_namespace' => 'TestsCodeception\\\\Acceptance', 'shard' => NULL]) /home/student/php_2024_piotr_zycki/08_laravel/01_tutorial/project/vendor/codeception/codeception/src/Codeception/SuiteManager.php:86\n",
      "PHP  16. Codeception\\Test\\Loader\\Gherkin->__construct($settings = ['actor' => 'AcceptanceTester', 'modules' => ['enabled' => [...], 'config' => [...], 'depends' => [...]], 'step_decorators' => [0 => 'Codeception\\\\Step\\\\ConditionalAssertion', 1 => 'Codeception\\\\Step\\\\TryTo', 2 => 'Codeception\\\\Step\\\\Retry'], 'colors' => TRUE, 'bootstrap' => FALSE, 'strict_xml' => FALSE, 'lint' => TRUE, 'backup_globals' => TRUE, 'report_useless_tests' => FALSE, 'be_strict_about_changes_to_global_state' => FALSE, 'shuffle' => FALSE, 'coverage' => [], 'support_namespace' => 'Support', 'namespace' => 'TestsCodeception', 'groups' => ['failed' => 'tests_codeception/_output/failed'], 'gherkin' => [], 'extensions' => ['enabled' => [...], 'config' => [...], 'commands' => [...]], 'path' => '/home/student/php_2024_piotr_zycki/08_laravel/01_tutorial/project/tests_codeception/Acceptance/', 'extends' => NULL, 'formats' => [], 'error_level' => 'E_ALL & ~E_STRICT & ~E_DEPRECATED', 'convert_deprecations_to_exceptions' => FALSE, 'suite' => 'Acceptance', 'suite_namespace' => 'TestsCodeception\\\\Acceptance', 'shard' => NULL]) /home/student/php_2024_piotr_zycki/08_laravel/01_tutorial/project/vendor/codeception/codeception/src/Codeception/Test/Loader.php:73\n",
      "PHP  17. Codeception\\Test\\Loader\\Gherkin->fetchGherkinSteps() /home/student/php_2024_piotr_zycki/08_laravel/01_tutorial/project/vendor/codeception/codeception/src/Codeception/Test/Loader/Gherkin.php:82\n",
      "PHP  18. Codeception\\Test\\Loader\\Gherkin->addSteps($contexts = [0 => 'TestsCodeception\\\\Support\\\\AcceptanceTester'], $group = *uninitialized*) /home/student/php_2024_piotr_zycki/08_laravel/01_tutorial/project/vendor/codeception/codeception/src/Codeception/Test/Loader/Gherkin.php:119\n",
      "PHP  19. class_exists($class = 'TestsCodeception\\\\Support\\\\AcceptanceTester') /home/student/php_2024_piotr_zycki/08_laravel/01_tutorial/project/vendor/codeception/codeception/src/Codeception/Test/Loader/Gherkin.php:129\n",
      "PHP  20. Codeception\\Util\\Autoload::load($class = 'TestsCodeception\\\\Support\\\\AcceptanceTester') /home/student/php_2024_piotr_zycki/08_laravel/01_tutorial/project/vendor/codeception/codeception/src/Codeception/Test/Loader/Gherkin.php:129\n",
      "PHP  21. Codeception\\Util\\Autoload::loadMappedFile($prefix = 'TestsCodeception\\\\Support\\\\', $relativeClass = 'AcceptanceTester') /home/student/php_2024_piotr_zycki/08_laravel/01_tutorial/project/vendor/codeception/codeception/src/Codeception/Util/Autoload.php:94\n",
      "PHP  22. Codeception\\Util\\Autoload::requireFile($file = '/home/student/php_2024_piotr_zycki/08_laravel/01_tutorial/project/tests_codeception/Support/AcceptanceTester.php') /home/student/php_2024_piotr_zycki/08_laravel/01_tutorial/project/vendor/codeception/codeception/src/Codeception/Util/Autoload.php:138\n",
      "PHP  23. require_once() /home/student/php_2024_piotr_zycki/08_laravel/01_tutorial/project/vendor/codeception/codeception/src/Codeception/Util/Autoload.php:149\n"
     ]
    }
   ],
   "source": [
    "! vendor/bin/codecept run"
   ]
  },
  {
   "cell_type": "markdown",
   "metadata": {},
   "source": [
    "Lets regenerate the files:"
   ]
  },
  {
   "cell_type": "code",
   "execution_count": 40,
   "metadata": {},
   "outputs": [
    {
     "name": "stdout",
     "output_type": "stream",
     "text": [
      "\u001b[32mBuilding Actor classes for suites: Acceptance\u001b[39m\n",
      " -> AcceptanceTesterActions.php generated successfully. 71 methods added\n",
      "\u001b[32mTestsCodeception\\AcceptanceTester\u001b[39m includes modules: PhpBrowser\n"
     ]
    }
   ],
   "source": [
    "! vendor/bin/codecept build"
   ]
  },
  {
   "cell_type": "markdown",
   "metadata": {},
   "source": [
    "And now the tests should be green:"
   ]
  },
  {
   "cell_type": "code",
   "execution_count": 41,
   "metadata": {},
   "outputs": [
    {
     "name": "stdout",
     "output_type": "stream",
     "text": [
      "Codeception PHP Testing Framework v5.1.2 https://stand-with-ukraine.pp.ua\n",
      "\n",
      "\u001b[1mTestsCodeception.Acceptance Tests (0) \u001b[22m------------------------------------------\n",
      "--------------------------------------------------------------------------------\n",
      "\n",
      "\u001b[30;43mNo tests executed!\u001b[39;49m\n"
     ]
    }
   ],
   "source": [
    "! vendor/bin/codecept run"
   ]
  },
  {
   "cell_type": "markdown",
   "metadata": {},
   "source": [
    "Add a test:"
   ]
  },
  {
   "cell_type": "code",
   "execution_count": 42,
   "metadata": {},
   "outputs": [
    {
     "name": "stdout",
     "output_type": "stream",
     "text": [
      "\u001b[32mTest was created in /home/student/php_2024_piotr_zycki/08_laravel/01_tutorial/project/tests_codeception/Acceptance/HomepageCest.php\u001b[39m\n"
     ]
    }
   ],
   "source": [
    "! vendor/bin/codecept generate:cest Acceptance Homepage"
   ]
  },
  {
   "cell_type": "markdown",
   "metadata": {},
   "source": [
    "Add below code in [tests_codeception/Acceptance/HomepageCest.php](/edit/08_laravel/01_tutorial/project/tests_codeception/Acceptance/HomepageCest.php):\n",
    "\n",
    "```php\n",
    "<?php\n",
    "\n",
    "namespace TestsCodeception\\Acceptance;\n",
    "\n",
    "use TestsCodeception\\Support\\AcceptanceTester;\n",
    "\n",
    "class HomepageCest\n",
    "{\n",
    "    public function test(AcceptanceTester $I): void\n",
    "    {\n",
    "        $I->wantTo('see Laravel links on homepage');\n",
    "\n",
    "        $I->amOnPage('/');\n",
    "\n",
    "        $I->seeInTitle('Laravel');\n",
    "\n",
    "        $I->seeLink(\"Documentation\", \"https://laravel.com/docs\");\n",
    "        $I->seeLink(\"Laracasts\", \"https://laracasts.com\");\n",
    "        $I->seeLink(\"Forge\", \"https://forge.laravel.com\");\n",
    "    }\n",
    "}\n",
    "\n",
    "```"
   ]
  },
  {
   "cell_type": "markdown",
   "metadata": {},
   "source": [
    "To fix the URL in configuration open the [tests_codeception/Acceptance.suite.yml](/edit/08_laravel/01_tutorial/project/tests_codeception/Acceptance.suite.yml) and change:\n",
    "\n",
    "```yml\n",
    "modules:\n",
    "    enabled:\n",
    "        - PhpBrowser:\n",
    "            url: http://localhost/myapp\n",
    "```\n",
    "\n",
    "to\n",
    "\n",
    "```yml\n",
    "modules:\n",
    "    enabled:\n",
    "        # - PhpBrowser:\n",
    "        #    url: http://localhost:8888\n",
    "        - WebDriver:\n",
    "            # Do not forget to start Selenium - execute below command in bash:\n",
    "            #   PATH=/opt/selenium:$PATH java -jar /opt/selenium/selenium-server-4.18.0.jar standalone\n",
    "            url: http://localhost:8888\n",
    "            browser: chrome\n",
    "```"
   ]
  },
  {
   "cell_type": "markdown",
   "metadata": {},
   "source": [
    "Run the tests:"
   ]
  },
  {
   "cell_type": "code",
   "execution_count": 43,
   "metadata": {},
   "outputs": [],
   "source": [
    "import subprocess, os\n",
    "os.environ[\"PATH\"] += os.pathsep + '/opt/selenium/'\n",
    "seleniumServer = subprocess.Popen(['java', '-jar', 'selenium-server-4.18.0.jar', 'standalone'], cwd='/opt/selenium/')"
   ]
  },
  {
   "cell_type": "code",
   "execution_count": 44,
   "metadata": {},
   "outputs": [
    {
     "name": "stdout",
     "output_type": "stream",
     "text": [
      "13:52:10.562 INFO [LoggingOptions.configureLogEncoding] - Using the system default encoding\n",
      "13:52:10.572 INFO [OpenTelemetryTracer.createTracer] - Using OpenTelemetry for tracing\n",
      "\n",
      "   INFO  Server running on [http://127.0.0.1:8888].  \n",
      "\n",
      "  Press Ctrl+C to stop the server\n",
      "\n",
      "13:52:11.459 INFO [NodeOptions.getSessionFactories] - Detected 4 available processors\n",
      "13:52:11.462 INFO [NodeOptions.discoverDrivers] - Looking for existing drivers on the PATH.\n",
      "13:52:11.462 INFO [NodeOptions.discoverDrivers] - Add '--selenium-manager true' to the startup command to setup drivers automatically.\n"
     ]
    }
   ],
   "source": [
    "import subprocess\n",
    "phpServer = subprocess.Popen(['php', 'artisan', 'serve', '--port', '8888'])"
   ]
  },
  {
   "cell_type": "code",
   "execution_count": 46,
   "metadata": {},
   "outputs": [
    {
     "name": "stdout",
     "output_type": "stream",
     "text": [
      "Codeception PHP Testing Framework v5.1.2 https://stand-with-ukraine.pp.ua\n",
      "\n",
      "\u001b[1mTestsCodeception.Acceptance Tests (1) \u001b[22m------------------------------------------\n",
      "- \u001b[35;1mHomepageCest:\u001b[39;22m See Laravel links on homepage13:52:25.173 INFO [LocalDistributor.newSession] - Session request received by the Distributor: \n",
      " [Capabilities {browserName: chrome}]\n",
      "13:52:26.668 INFO [LocalNode.newSession] - Session created by the Node. Id: 777dff8516bc4172ace57665fd39c80f, Caps: Capabilities {acceptInsecureCerts: false, browserName: chrome, browserVersion: 121.0.6167.184, chrome: {chromedriverVersion: 121.0.6167.184 (057a8ae7deb..., userDataDir: /tmp/.org.chromium.Chromium...}, fedcm:accounts: true, goog:chromeOptions: {debuggerAddress: localhost:39691}, networkConnectionEnabled: false, pageLoadStrategy: normal, platformName: linux, proxy: Proxy(), se:bidiEnabled: false, se:cdp: ws://172.17.0.1:4444/sessio..., se:cdpVersion: 121.0.6167.184, setWindowRect: true, strictFileInteractability: false, timeouts: {implicit: 0, pageLoad: 300000, script: 30000}, unhandledPromptBehavior: dismiss and notify, webauthn:extension:credBlob: true, webauthn:extension:largeBlob: true, webauthn:extension:minPinLength: true, webauthn:extension:prf: true, webauthn:virtualAuthenticators: true}\n",
      "13:52:26.688 INFO [LocalDistributor.newSession] - Session created by the Distributor. Id: 777dff8516bc4172ace57665fd39c80f \n",
      " Caps: Capabilities {acceptInsecureCerts: false, browserName: chrome, browserVersion: 121.0.6167.184, chrome: {chromedriverVersion: 121.0.6167.184 (057a8ae7deb..., userDataDir: /tmp/.org.chromium.Chromium...}, fedcm:accounts: true, goog:chromeOptions: {debuggerAddress: localhost:39691}, networkConnectionEnabled: false, pageLoadStrategy: normal, platformName: linux, proxy: Proxy(), se:bidiEnabled: false, se:cdp: ws://172.17.0.1:4444/sessio..., se:cdpVersion: 121.0.6167.184, setWindowRect: true, strictFileInteractability: false, timeouts: {implicit: 0, pageLoad: 300000, script: 30000}, unhandledPromptBehavior: dismiss and notify, webauthn:extension:credBlob: true, webauthn:extension:largeBlob: true, webauthn:extension:minPinLength: true, webauthn:extension:prf: true, webauthn:virtualAuthenticators: true}\n",
      "  2024-05-21 13:52:26 .................................................. ~ -1s\n",
      "  2024-05-21 13:52:27 /favicon.ico ...................................... ~ 0s\n",
      "\u001b[32;1m✔\u001b[39;22m \u001b[35;1mHomepageCest:\u001b[39;22m See Laravel links on homepage\u001b[32m(2.03s)\u001b[39m\n",
      "13:52:29.831 INFO [LocalSessionMap.lambda$new$0] - Deleted session from local Session Map, Id: 777dff8516bc4172ace57665fd39c80f\n",
      "13:52:29.832 INFO [GridModel.release] - Releasing slot for session id 777dff8516bc4172ace57665fd39c80f\n",
      "13:52:29.833 INFO [SessionSlot.stop] - Stopping session 777dff8516bc4172ace57665fd39c80f\n",
      "--------------------------------------------------------------------------------\n",
      "Time: 00:04.904, Memory: 14.00 MB\n",
      "\n",
      "\u001b[30;42mOK (1 test, 4 assertions)\u001b[39;49m\n"
     ]
    }
   ],
   "source": [
    "! vendor/bin/codecept run"
   ]
  },
  {
   "cell_type": "code",
   "execution_count": 47,
   "metadata": {},
   "outputs": [],
   "source": [
    "! killall php8.3"
   ]
  },
  {
   "cell_type": "code",
   "execution_count": 48,
   "metadata": {},
   "outputs": [],
   "source": [
    "seleniumServer.kill()"
   ]
  },
  {
   "cell_type": "markdown",
   "metadata": {},
   "source": [
    "Check the changes:"
   ]
  },
  {
   "cell_type": "code",
   "execution_count": 49,
   "metadata": {},
   "outputs": [
    {
     "name": "stdout",
     "output_type": "stream",
     "text": [
      "\u001b[1mdiff --git a/08_laravel/01_tutorial/project/composer.json b/08_laravel/01_tutorial/project/composer.json\u001b[m\n",
      "\u001b[1mindex 15cebc1..e722609 100644\u001b[m\n",
      "\u001b[1m--- a/08_laravel/01_tutorial/project/composer.json\u001b[m\n",
      "\u001b[1m+++ b/08_laravel/01_tutorial/project/composer.json\u001b[m\n",
      "\u001b[36m@@ -10,6 +10,10 @@\u001b[m\n",
      "         \"laravel/tinker\": \"^2.9\"\u001b[m\n",
      "     },\u001b[m\n",
      "     \"require-dev\": {\u001b[m\n",
      "\u001b[32m+\u001b[m\u001b[32m        \"codeception/codeception\": \"^5.1\",\u001b[m\n",
      "\u001b[32m+\u001b[m\u001b[32m        \"codeception/module-asserts\": \"^3.0\",\u001b[m\n",
      "\u001b[32m+\u001b[m\u001b[32m        \"codeception/module-phpbrowser\": \"^3.0\",\u001b[m\n",
      "\u001b[32m+\u001b[m\u001b[32m        \"codeception/module-webdriver\": \"^4.0\",\u001b[m\n",
      "         \"fakerphp/faker\": \"^1.23\",\u001b[m\n",
      "         \"laravel/pint\": \"^1.13\",\u001b[m\n",
      "         \"laravel/sail\": \"^1.26\",\u001b[m\n",
      "\u001b[36m@@ -27,7 +31,8 @@\u001b[m\n",
      "     },\u001b[m\n",
      "     \"autoload-dev\": {\u001b[m\n",
      "         \"psr-4\": {\u001b[m\n",
      "\u001b[31m-            \"Tests\\\\\": \"tests/\"\u001b[m\n",
      "\u001b[32m+\u001b[m\u001b[32m            \"Tests\\\\\": \"tests/\",\u001b[m\n",
      "\u001b[32m+\u001b[m\u001b[32m            \"TestsCodeception\\\\\": \"tests_codeception/\"\u001b[m\n",
      "         }\u001b[m\n",
      "     },\u001b[m\n",
      "     \"scripts\": {\u001b[m\n",
      "\u001b[1mdiff --git a/08_laravel/01_tutorial/project/composer.lock b/08_laravel/01_tutorial/project/composer.lock\u001b[m\n",
      "\u001b[1mindex 3660964..fd100b4 100644\u001b[m\n",
      "\u001b[1m--- a/08_laravel/01_tutorial/project/composer.lock\u001b[m\n",
      "\u001b[1m+++ b/08_laravel/01_tutorial/project/composer.lock\u001b[m\n",
      "\u001b[36m@@ -4,7 +4,7 @@\u001b[m\n",
      "         \"Read more about it at https://getcomposer.org/doc/01-basic-usage.md#installing-dependencies\",\u001b[m\n",
      "         \"This file is @generated automatically\"\u001b[m\n",
      "     ],\u001b[m\n",
      "\u001b[31m-    \"content-hash\": \"da9b7a1dc1dd923105198c572cc7df8d\",\u001b[m\n",
      "\u001b[32m+\u001b[m\u001b[32m    \"content-hash\": \"1415db8de07955fb7adc9d08c82fa636\",\u001b[m\n",
      "     \"packages\": [\u001b[m\n",
      "         {\u001b[m\n",
      "             \"name\": \"brick/math\",\u001b[m\n",
      "\u001b[36m@@ -5694,6 +5694,575 @@\u001b[m\n",
      "         }\u001b[m\n",
      "     ],\u001b[m\n",
      "     \"packages-dev\": [\u001b[m\n",
      "\u001b[32m+\u001b[m\u001b[32m        {\u001b[m\n",
      "\u001b[32m+\u001b[m\u001b[32m            \"name\": \"behat/gherkin\",\u001b[m\n",
      "\u001b[32m+\u001b[m\u001b[32m            \"version\": \"v4.9.0\",\u001b[m\n",
      "\u001b[32m+\u001b[m\u001b[32m            \"source\": {\u001b[m\n",
      "\u001b[32m+\u001b[m\u001b[32m                \"type\": \"git\",\u001b[m\n",
      "\u001b[32m+\u001b[m\u001b[32m                \"url\": \"https://github.com/Behat/Gherkin.git\",\u001b[m\n",
      "\u001b[32m+\u001b[m\u001b[32m                \"reference\": \"0bc8d1e30e96183e4f36db9dc79caead300beff4\"\u001b[m\n",
      "\u001b[32m+\u001b[m\u001b[32m            },\u001b[m\n",
      "\u001b[32m+\u001b[m\u001b[32m            \"dist\": {\u001b[m\n",
      "\u001b[32m+\u001b[m\u001b[32m                \"type\": \"zip\",\u001b[m\n",
      "\u001b[32m+\u001b[m\u001b[32m                \"url\": \"https://api.github.com/repos/Behat/Gherkin/zipball/0bc8d1e30e96183e4f36db9dc79caead300beff4\",\u001b[m\n",
      "\u001b[32m+\u001b[m\u001b[32m                \"reference\": \"0bc8d1e30e96183e4f36db9dc79caead300beff4\",\u001b[m\n",
      "\u001b[32m+\u001b[m\u001b[32m                \"shasum\": \"\"\u001b[m\n",
      "\u001b[32m+\u001b[m\u001b[32m            },\u001b[m\n",
      "\u001b[32m+\u001b[m\u001b[32m            \"require\": {\u001b[m\n",
      "\u001b[32m+\u001b[m\u001b[32m                \"php\": \"~7.2|~8.0\"\u001b[m\n",
      "\u001b[32m+\u001b[m\u001b[32m            },\u001b[m\n",
      "\u001b[32m+\u001b[m\u001b[32m            \"require-dev\": {\u001b[m\n",
      "\u001b[32m+\u001b[m\u001b[32m                \"cucumber/cucumber\": \"dev-gherkin-22.0.0\",\u001b[m\n",
      "\u001b[32m+\u001b[m\u001b[32m                \"phpunit/phpunit\": \"~8|~9\",\u001b[m\n",
      "\u001b[32m+\u001b[m\u001b[32m                \"symfony/yaml\": \"~3|~4|~5\"\u001b[m\n",
      "\u001b[32m+\u001b[m\u001b[32m            },\u001b[m\n",
      "\u001b[32m+\u001b[m\u001b[32m            \"suggest\": {\u001b[m\n",
      "\u001b[32m+\u001b[m\u001b[32m                \"symfony/yaml\": \"If you want to parse features, represented in YAML files\"\u001b[m\n",
      "\u001b[32m+\u001b[m\u001b[32m            },\u001b[m\n",
      "\u001b[32m+\u001b[m\u001b[32m            \"type\": \"library\",\u001b[m\n",
      "\u001b[32m+\u001b[m\u001b[32m            \"extra\": {\u001b[m\n",
      "\u001b[32m+\u001b[m\u001b[32m                \"branch-alias\": {\u001b[m\n",
      "\u001b[32m+\u001b[m\u001b[32m                    \"dev-master\": \"4.x-dev\"\u001b[m\n",
      "\u001b[32m+\u001b[m\u001b[32m                }\u001b[m\n",
      "\u001b[32m+\u001b[m\u001b[32m            },\u001b[m\n",
      "\u001b[32m+\u001b[m\u001b[32m            \"autoload\": {\u001b[m\n",
      "\u001b[32m+\u001b[m\u001b[32m                \"psr-0\": {\u001b[m\n",
      "\u001b[32m+\u001b[m\u001b[32m                    \"Behat\\\\Gherkin\": \"src/\"\u001b[m\n",
      "\u001b[32m+\u001b[m\u001b[32m                }\u001b[m\n",
      "\u001b[32m+\u001b[m\u001b[32m            },\u001b[m\n",
      "\u001b[32m+\u001b[m\u001b[32m            \"notification-url\": \"https://packagist.org/downloads/\",\u001b[m\n",
      "\u001b[32m+\u001b[m\u001b[32m            \"license\": [\u001b[m\n",
      "\u001b[32m+\u001b[m\u001b[32m                \"MIT\"\u001b[m\n",
      "\u001b[32m+\u001b[m\u001b[32m            ],\u001b[m\n",
      "\u001b[32m+\u001b[m\u001b[32m            \"authors\": [\u001b[m\n",
      "\u001b[32m+\u001b[m\u001b[32m                {\u001b[m\n",
      "\u001b[32m+\u001b[m\u001b[32m                    \"name\": \"Konstantin Kudryashov\",\u001b[m\n",
      "\u001b[32m+\u001b[m\u001b[32m                    \"email\": \"ever.zet@gmail.com\",\u001b[m\n",
      "\u001b[32m+\u001b[m\u001b[32m                    \"homepage\": \"http://everzet.com\"\u001b[m\n",
      "\u001b[32m+\u001b[m\u001b[32m                }\u001b[m\n",
      "\u001b[32m+\u001b[m\u001b[32m            ],\u001b[m\n",
      "\u001b[32m+\u001b[m\u001b[32m            \"description\": \"Gherkin DSL parser for PHP\",\u001b[m\n",
      "\u001b[32m+\u001b[m\u001b[32m            \"homepage\": \"http://behat.org/\",\u001b[m\n",
      "\u001b[32m+\u001b[m\u001b[32m            \"keywords\": [\u001b[m\n",
      "\u001b[32m+\u001b[m\u001b[32m                \"BDD\",\u001b[m\n",
      "\u001b[32m+\u001b[m\u001b[32m                \"Behat\",\u001b[m\n",
      "\u001b[32m+\u001b[m\u001b[32m                \"Cucumber\",\u001b[m\n",
      "\u001b[32m+\u001b[m\u001b[32m                \"DSL\",\u001b[m\n",
      "\u001b[32m+\u001b[m\u001b[32m                \"gherkin\",\u001b[m\n",
      "\u001b[32m+\u001b[m\u001b[32m                \"parser\"\u001b[m\n",
      "\u001b[32m+\u001b[m\u001b[32m            ],\u001b[m\n",
      "\u001b[32m+\u001b[m\u001b[32m            \"support\": {\u001b[m\n",
      "\u001b[32m+\u001b[m\u001b[32m                \"issues\": \"https://github.com/Behat/Gherkin/issues\",\u001b[m\n",
      "\u001b[32m+\u001b[m\u001b[32m                \"source\": \"https://github.com/Behat/Gherkin/tree/v4.9.0\"\u001b[m\n",
      "\u001b[32m+\u001b[m\u001b[32m            },\u001b[m\n",
      "\u001b[32m+\u001b[m\u001b[32m            \"time\": \"2021-10-12T13:05:09+00:00\"\u001b[m\n",
      "\u001b[32m+\u001b[m\u001b[32m        },\u001b[m\n",
      "\u001b[32m+\u001b[m\u001b[32m        {\u001b[m\n",
      "\u001b[32m+\u001b[m\u001b[32m            \"name\": \"codeception/codeception\",\u001b[m\n",
      "\u001b[32m+\u001b[m\u001b[32m            \"version\": \"5.1.2\",\u001b[m\n",
      "\u001b[32m+\u001b[m\u001b[32m            \"source\": {\u001b[m\n",
      "\u001b[32m+\u001b[m\u001b[32m                \"type\": \"git\",\u001b[m\n",
      "\u001b[32m+\u001b[m\u001b[32m                \"url\": \"https://github.com/Codeception/Codeception.git\",\u001b[m\n",
      "\u001b[32m+\u001b[m\u001b[32m                \"reference\": \"3b2d7d1a88e7e1d9dc0acb6d3c8f0acda0a37374\"\u001b[m\n",
      "\u001b[32m+\u001b[m\u001b[32m            },\u001b[m\n",
      "\u001b[32m+\u001b[m\u001b[32m            \"dist\": {\u001b[m\n",
      "\u001b[32m+\u001b[m\u001b[32m                \"type\": \"zip\",\u001b[m\n",
      "\u001b[32m+\u001b[m\u001b[32m                \"url\": \"https://api.github.com/repos/Codeception/Codeception/zipball/3b2d7d1a88e7e1d9dc0acb6d3c8f0acda0a37374\",\u001b[m\n",
      "\u001b[32m+\u001b[m\u001b[32m                \"reference\": \"3b2d7d1a88e7e1d9dc0acb6d3c8f0acda0a37374\",\u001b[m\n",
      "\u001b[32m+\u001b[m\u001b[32m                \"shasum\": \"\"\u001b[m\n",
      "\u001b[32m+\u001b[m\u001b[32m            },\u001b[m\n",
      "\u001b[32m+\u001b[m\u001b[32m            \"require\": {\u001b[m\n",
      "\u001b[32m+\u001b[m\u001b[32m                \"behat/gherkin\": \"^4.6.2\",\u001b[m\n",
      "\u001b[32m+\u001b[m\u001b[32m                \"codeception/lib-asserts\": \"^2.0\",\u001b[m\n",
      "\u001b[32m+\u001b[m\u001b[32m                \"codeception/stub\": \"^4.1\",\u001b[m\n",
      "\u001b[32m+\u001b[m\u001b[32m                \"ext-curl\": \"*\",\u001b[m\n",
      "\u001b[32m+\u001b[m\u001b[32m                \"ext-json\": \"*\",\u001b[m\n",
      "\u001b[32m+\u001b[m\u001b[32m                \"ext-mbstring\": \"*\",\u001b[m\n",
      "\u001b[32m+\u001b[m\u001b[32m                \"php\": \"^8.0\",\u001b[m\n",
      "\u001b[32m+\u001b[m\u001b[32m                \"phpunit/php-code-coverage\": \"^9.2 || ^10.0 || ^11.0\",\u001b[m\n",
      "\u001b[32m+\u001b[m\u001b[32m                \"phpunit/php-text-template\": \"^2.0 || ^3.0 || ^4.0\",\u001b[m\n",
      "\u001b[32m+\u001b[m\u001b[32m                \"phpunit/php-timer\": \"^5.0.3 || ^6.0 || ^7.0\",\u001b[m\n",
      "\u001b[32m+\u001b[m\u001b[32m                \"phpunit/phpunit\": \"^9.5.20 || ^10.0 || ^11.0\",\u001b[m\n",
      "\u001b[32m+\u001b[m\u001b[32m                \"psy/psysh\": \"^0.11.2 || ^0.12\",\u001b[m\n",
      "\u001b[32m+\u001b[m\u001b[32m                \"sebastian/comparator\": \"^4.0.5 || ^5.0 || ^6.0\",\u001b[m\n",
      "\u001b[32m+\u001b[m\u001b[32m                \"sebastian/diff\": \"^4.0.3 || ^5.0 || ^6.0\",\u001b[m\n",
      "\u001b[32m+\u001b[m\u001b[32m                \"symfony/console\": \">=4.4.24 <8.0\",\u001b[m\n",
      "\u001b[32m+\u001b[m\u001b[32m                \"symfony/css-selector\": \">=4.4.24 <8.0\",\u001b[m\n",
      "\u001b[32m+\u001b[m\u001b[32m                \"symfony/event-dispatcher\": \">=4.4.24 <8.0\",\u001b[m\n",
      "\u001b[32m+\u001b[m\u001b[32m                \"symfony/finder\": \">=4.4.24 <8.0\",\u001b[m\n",
      "\u001b[32m+\u001b[m\u001b[32m                \"symfony/var-dumper\": \">=4.4.24 <8.0\",\u001b[m\n",
      "\u001b[32m+\u001b[m\u001b[32m                \"symfony/yaml\": \">=4.4.24 <8.0\"\u001b[m\n",
      "\u001b[32m+\u001b[m\u001b[32m            },\u001b[m\n",
      "\u001b[32m+\u001b[m\u001b[32m            \"conflict\": {\u001b[m\n",
      "\u001b[32m+\u001b[m\u001b[32m                \"codeception/lib-innerbrowser\": \"<3.1.3\",\u001b[m\n",
      "\u001b[32m+\u001b[m\u001b[32m                \"codeception/module-filesystem\": \"<3.0\",\u001b[m\n",
      "\u001b[32m+\u001b[m\u001b[32m                \"codeception/module-phpbrowser\": \"<2.5\"\u001b[m\n",
      "\u001b[32m+\u001b[m\u001b[32m            },\u001b[m\n",
      "\u001b[32m+\u001b[m\u001b[32m            \"replace\": {\u001b[m\n",
      "\u001b[32m+\u001b[m\u001b[32m                \"codeception/phpunit-wrapper\": \"*\"\u001b[m\n",
      "\u001b[32m+\u001b[m\u001b[32m            },\u001b[m\n",
      "\u001b[32m+\u001b[m\u001b[32m            \"require-dev\": {\u001b[m\n",
      "\u001b[32m+\u001b[m\u001b[32m                \"codeception/lib-innerbrowser\": \"*@dev\",\u001b[m\n",
      "\u001b[32m+\u001b[m\u001b[32m                \"codeception/lib-web\": \"^1.0\",\u001b[m\n",
      "\u001b[32m+\u001b[m\u001b[32m                \"codeception/module-asserts\": \"*@dev\",\u001b[m\n",
      "\u001b[32m+\u001b[m\u001b[32m                \"codeception/module-cli\": \"*@dev\",\u001b[m\n",
      "\u001b[32m+\u001b[m\u001b[32m                \"codeception/module-db\": \"*@dev\",\u001b[m\n",
      "\u001b[32m+\u001b[m\u001b[32m                \"codeception/module-filesystem\": \"*@dev\",\u001b[m\n",
      "\u001b[32m+\u001b[m\u001b[32m                \"codeception/module-phpbrowser\": \"*@dev\",\u001b[m\n",
      "\u001b[32m+\u001b[m\u001b[32m                \"codeception/util-universalframework\": \"*@dev\",\u001b[m\n",
      "\u001b[32m+\u001b[m\u001b[32m                \"ext-simplexml\": \"*\",\u001b[m\n",
      "\u001b[32m+\u001b[m\u001b[32m                \"jetbrains/phpstorm-attributes\": \"^1.0\",\u001b[m\n",
      "\u001b[32m+\u001b[m\u001b[32m                \"symfony/dotenv\": \">=4.4.24 <8.0\",\u001b[m\n",
      "\u001b[32m+\u001b[m\u001b[32m                \"symfony/process\": \">=4.4.24 <8.0\",\u001b[m\n",
      "\u001b[32m+\u001b[m\u001b[32m                \"vlucas/phpdotenv\": \"^5.1\"\u001b[m\n",
      "\u001b[32m+\u001b[m\u001b[32m            },\u001b[m\n",
      "\u001b[32m+\u001b[m\u001b[32m            \"suggest\": {\u001b[m\n",
      "\u001b[32m+\u001b[m\u001b[32m                \"codeception/specify\": \"BDD-style code blocks\",\u001b[m\n",
      "\u001b[32m+\u001b[m\u001b[32m                \"codeception/verify\": \"BDD-style assertions\",\u001b[m\n",
      "\u001b[32m+\u001b[m\u001b[32m                \"ext-simplexml\": \"For loading params from XML files\",\u001b[m\n",
      "\u001b[32m+\u001b[m\u001b[32m                \"stecman/symfony-console-completion\": \"For BASH autocompletion\",\u001b[m\n",
      "\u001b[32m+\u001b[m\u001b[32m                \"symfony/dotenv\": \"For loading params from .env files\",\u001b[m\n",
      "\u001b[32m+\u001b[m\u001b[32m                \"symfony/phpunit-bridge\": \"For phpunit-bridge support\",\u001b[m\n",
      "\u001b[32m+\u001b[m\u001b[32m                \"vlucas/phpdotenv\": \"For loading params from .env files\"\u001b[m\n",
      "\u001b[32m+\u001b[m\u001b[32m            },\u001b[m\n",
      "\u001b[32m+\u001b[m\u001b[32m            \"bin\": [\u001b[m\n",
      "\u001b[32m+\u001b[m\u001b[32m                \"codecept\"\u001b[m\n",
      "\u001b[32m+\u001b[m\u001b[32m            ],\u001b[m\n",
      "\u001b[32m+\u001b[m\u001b[32m            \"type\": \"library\",\u001b[m\n",
      "\u001b[32m+\u001b[m\u001b[32m            \"autoload\": {\u001b[m\n",
      "\u001b[32m+\u001b[m\u001b[32m                \"files\": [\u001b[m\n",
      "\u001b[32m+\u001b[m\u001b[32m                    \"functions.php\"\u001b[m\n",
      "\u001b[32m+\u001b[m\u001b[32m                ],\u001b[m\n",
      "\u001b[32m+\u001b[m\u001b[32m                \"psr-4\": {\u001b[m\n",
      "\u001b[32m+\u001b[m\u001b[32m                    \"Codeception\\\\\": \"src/Codeception\",\u001b[m\n",
      "\u001b[32m+\u001b[m\u001b[32m                    \"Codeception\\\\Extension\\\\\": \"ext\"\u001b[m\n",
      "\u001b[32m+\u001b[m\u001b[32m                },\u001b[m\n",
      "\u001b[32m+\u001b[m\u001b[32m                \"classmap\": [\u001b[m\n",
      "\u001b[32m+\u001b[m\u001b[32m                    \"src/PHPUnit/TestCase.php\"\u001b[m\n",
      "\u001b[32m+\u001b[m\u001b[32m                ]\u001b[m\n",
      "\u001b[32m+\u001b[m\u001b[32m            },\u001b[m\n",
      "\u001b[32m+\u001b[m\u001b[32m            \"notification-url\": \"https://packagist.org/downloads/\",\u001b[m\n",
      "\u001b[32m+\u001b[m\u001b[32m            \"license\": [\u001b[m\n",
      "\u001b[32m+\u001b[m\u001b[32m                \"MIT\"\u001b[m\n",
      "\u001b[32m+\u001b[m\u001b[32m            ],\u001b[m\n",
      "\u001b[32m+\u001b[m\u001b[32m            \"authors\": [\u001b[m\n",
      "\u001b[32m+\u001b[m\u001b[32m                {\u001b[m\n",
      "\u001b[32m+\u001b[m\u001b[32m                    \"name\": \"Michael Bodnarchuk\",\u001b[m\n",
      "\u001b[32m+\u001b[m\u001b[32m                    \"email\": \"davert.ua@gmail.com\",\u001b[m\n",
      "\u001b[32m+\u001b[m\u001b[32m                    \"homepage\": \"https://codeception.com\"\u001b[m\n",
      "\u001b[32m+\u001b[m\u001b[32m                }\u001b[m\n",
      "\u001b[32m+\u001b[m\u001b[32m            ],\u001b[m\n",
      "\u001b[32m+\u001b[m\u001b[32m            \"description\": \"BDD-style testing framework\",\u001b[m\n",
      "\u001b[32m+\u001b[m\u001b[32m            \"homepage\": \"https://codeception.com/\",\u001b[m\n",
      "\u001b[32m+\u001b[m\u001b[32m            \"keywords\": [\u001b[m\n",
      "\u001b[32m+\u001b[m\u001b[32m                \"BDD\",\u001b[m\n",
      "\u001b[32m+\u001b[m\u001b[32m                \"TDD\",\u001b[m\n",
      "\u001b[32m+\u001b[m\u001b[32m                \"acceptance testing\",\u001b[m\n",
      "\u001b[32m+\u001b[m\u001b[32m                \"functional testing\",\u001b[m\n",
      "\u001b[32m+\u001b[m\u001b[32m                \"unit testing\"\u001b[m\n",
      "\u001b[32m+\u001b[m\u001b[32m            ],\u001b[m\n",
      "\u001b[32m+\u001b[m\u001b[32m            \"support\": {\u001b[m\n",
      "\u001b[32m+\u001b[m\u001b[32m                \"issues\": \"https://github.com/Codeception/Codeception/issues\",\u001b[m\n",
      "\u001b[32m+\u001b[m\u001b[32m                \"source\": \"https://github.com/Codeception/Codeception/tree/5.1.2\"\u001b[m\n",
      "\u001b[32m+\u001b[m\u001b[32m            },\u001b[m\n",
      "\u001b[32m+\u001b[m\u001b[32m            \"funding\": [\u001b[m\n",
      "\u001b[32m+\u001b[m\u001b[32m                {\u001b[m\n",
      "\u001b[32m+\u001b[m\u001b[32m                    \"url\": \"https://opencollective.com/codeception\",\u001b[m\n",
      "\u001b[32m+\u001b[m\u001b[32m                    \"type\": \"open_collective\"\u001b[m\n",
      "\u001b[32m+\u001b[m\u001b[32m                }\u001b[m\n",
      "\u001b[32m+\u001b[m\u001b[32m            ],\u001b[m\n",
      "\u001b[32m+\u001b[m\u001b[32m            \"time\": \"2024-03-07T07:19:42+00:00\"\u001b[m\n",
      "\u001b[32m+\u001b[m\u001b[32m        },\u001b[m\n",
      "\u001b[32m+\u001b[m\u001b[32m        {\u001b[m\n",
      "\u001b[32m+\u001b[m\u001b[32m            \"name\": \"codeception/lib-asserts\",\u001b[m\n",
      "\u001b[32m+\u001b[m\u001b[32m            \"version\": \"2.1.0\",\u001b[m\n",
      "\u001b[32m+\u001b[m\u001b[32m            \"source\": {\u001b[m\n",
      "\u001b[32m+\u001b[m\u001b[32m                \"type\": \"git\",\u001b[m\n",
      "\u001b[32m+\u001b[m\u001b[32m                \"url\": \"https://github.com/Codeception/lib-asserts.git\",\u001b[m\n",
      "\u001b[32m+\u001b[m\u001b[32m                \"reference\": \"b8c7dff552249e560879c682ba44a4b963af91bc\"\u001b[m\n",
      "\u001b[32m+\u001b[m\u001b[32m            },\u001b[m\n",
      "\u001b[32m+\u001b[m\u001b[32m            \"dist\": {\u001b[m\n",
      "\u001b[32m+\u001b[m\u001b[32m                \"type\": \"zip\",\u001b[m\n",
      "\u001b[32m+\u001b[m\u001b[32m                \"url\": \"https://api.github.com/repos/Codeception/lib-asserts/zipball/b8c7dff552249e560879c682ba44a4b963af91bc\",\u001b[m\n",
      "\u001b[32m+\u001b[m\u001b[32m                \"reference\": \"b8c7dff552249e560879c682ba44a4b963af91bc\",\u001b[m\n",
      "\u001b[32m+\u001b[m\u001b[32m                \"shasum\": \"\"\u001b[m\n",
      "\u001b[32m+\u001b[m\u001b[32m            },\u001b[m\n",
      "\u001b[32m+\u001b[m\u001b[32m            \"require\": {\u001b[m\n",
      "\u001b[32m+\u001b[m\u001b[32m                \"codeception/phpunit-wrapper\": \"^7.7.1 | ^8.0.3 | ^9.0\",\u001b[m\n",
      "\u001b[32m+\u001b[m\u001b[32m                \"ext-dom\": \"*\",\u001b[m\n",
      "\u001b[32m+\u001b[m\u001b[32m                \"php\": \"^7.4 | ^8.0\"\u001b[m\n",
      "\u001b[32m+\u001b[m\u001b[32m            },\u001b[m\n",
      "\u001b[32m+\u001b[m\u001b[32m            \"type\": \"library\",\u001b[m\n",
      "\u001b[32m+\u001b[m\u001b[32m            \"autoload\": {\u001b[m\n",
      "\u001b[32m+\u001b[m\u001b[32m                \"classmap\": [\u001b[m\n",
      "\u001b[32m+\u001b[m\u001b[32m                    \"src/\"\u001b[m\n",
      "\u001b[32m+\u001b[m\u001b[32m                ]\u001b[m\n",
      "\u001b[32m+\u001b[m\u001b[32m            },\u001b[m\n",
      "\u001b[32m+\u001b[m\u001b[32m            \"notification-url\": \"https://packagist.org/downloads/\",\u001b[m\n",
      "\u001b[32m+\u001b[m\u001b[32m            \"license\": [\u001b[m\n",
      "\u001b[32m+\u001b[m\u001b[32m                \"MIT\"\u001b[m\n",
      "\u001b[32m+\u001b[m\u001b[32m            ],\u001b[m\n",
      "\u001b[32m+\u001b[m\u001b[32m            \"authors\": [\u001b[m\n",
      "\u001b[32m+\u001b[m\u001b[32m                {\u001b[m\n",
      "\u001b[32m+\u001b[m\u001b[32m                    \"name\": \"Michael Bodnarchuk\",\u001b[m\n",
      "\u001b[32m+\u001b[m\u001b[32m                    \"email\": \"davert@mail.ua\",\u001b[m\n",
      "\u001b[32m+\u001b[m\u001b[32m                    \"homepage\": \"http://codegyre.com\"\u001b[m\n",
      "\u001b[32m+\u001b[m\u001b[32m                },\u001b[m\n",
      "\u001b[32m+\u001b[m\u001b[32m                {\u001b[m\n",
      "\u001b[32m+\u001b[m\u001b[32m                    \"name\": \"Gintautas Miselis\"\u001b[m\n",
      "\u001b[32m+\u001b[m\u001b[32m                },\u001b[m\n",
      "\u001b[32m+\u001b[m\u001b[32m                {\u001b[m\n",
      "\u001b[32m+\u001b[m\u001b[32m                    \"name\": \"Gustavo Nieves\",\u001b[m\n",
      "\u001b[32m+\u001b[m\u001b[32m                    \"homepage\": \"https://medium.com/@ganieves\"\u001b[m\n",
      "\u001b[32m+\u001b[m\u001b[32m                }\u001b[m\n",
      "\u001b[32m+\u001b[m\u001b[32m            ],\u001b[m\n",
      "\u001b[32m+\u001b[m\u001b[32m            \"description\": \"Assertion methods used by Codeception core and Asserts module\",\u001b[m\n",
      "\u001b[32m+\u001b[m\u001b[32m            \"homepage\": \"https://codeception.com/\",\u001b[m\n",
      "\u001b[32m+\u001b[m\u001b[32m            \"keywords\": [\u001b[m\n",
      "\u001b[32m+\u001b[m\u001b[32m                \"codeception\"\u001b[m\n",
      "\u001b[32m+\u001b[m\u001b[32m            ],\u001b[m\n",
      "\u001b[32m+\u001b[m\u001b[32m            \"support\": {\u001b[m\n",
      "\u001b[32m+\u001b[m\u001b[32m                \"issues\": \"https://github.com/Codeception/lib-asserts/issues\",\u001b[m\n",
      "\u001b[32m+\u001b[m\u001b[32m                \"source\": \"https://github.com/Codeception/lib-asserts/tree/2.1.0\"\u001b[m\n",
      "\u001b[32m+\u001b[m\u001b[32m            },\u001b[m\n",
      "\u001b[32m+\u001b[m\u001b[32m            \"time\": \"2023-02-10T18:36:23+00:00\"\u001b[m\n",
      "\u001b[32m+\u001b[m\u001b[32m        },\u001b[m\n",
      "\u001b[32m+\u001b[m\u001b[32m        {\u001b[m\n",
      "\u001b[32m+\u001b[m\u001b[32m            \"name\": \"codeception/lib-innerbrowser\",\u001b[m\n",
      "\u001b[32m+\u001b[m\u001b[32m            \"version\": \"4.0.3\",\u001b[m\n",
      "\u001b[32m+\u001b[m\u001b[32m            \"source\": {\u001b[m\n",
      "\u001b[32m+\u001b[m\u001b[32m                \"type\": \"git\",\u001b[m\n",
      "\u001b[32m+\u001b[m\u001b[32m                \"url\": \"https://github.com/Codeception/lib-innerbrowser.git\",\u001b[m\n",
      "\u001b[32m+\u001b[m\u001b[32m                \"reference\": \"d9fbf1ca5297c76c44e45eaf03d44f0d4961686c\"\u001b[m\n",
      "\u001b[32m+\u001b[m\u001b[32m            },\u001b[m\n",
      "\u001b[32m+\u001b[m\u001b[32m            \"dist\": {\u001b[m\n",
      "\u001b[32m+\u001b[m\u001b[32m                \"type\": \"zip\",\u001b[m\n",
      "\u001b[32m+\u001b[m\u001b[32m                \"url\": \"https://api.github.com/repos/Codeception/lib-innerbrowser/zipball/d9fbf1ca5297c76c44e45eaf03d44f0d4961686c\",\u001b[m\n",
      "\u001b[32m+\u001b[m\u001b[32m                \"reference\": \"d9fbf1ca5297c76c44e45eaf03d44f0d4961686c\",\u001b[m\n",
      "\u001b[32m+\u001b[m\u001b[32m                \"shasum\": \"\"\u001b[m\n",
      "\u001b[32m+\u001b[m\u001b[32m            },\u001b[m\n",
      "\u001b[32m+\u001b[m\u001b[32m            \"require\": {\u001b[m\n",
      "\u001b[32m+\u001b[m\u001b[32m                \"codeception/codeception\": \"^5.0.8\",\u001b[m\n",
      "\u001b[32m+\u001b[m\u001b[32m                \"codeception/lib-web\": \"^1.0.1\",\u001b[m\n",
      "\u001b[32m+\u001b[m\u001b[32m                \"ext-dom\": \"*\",\u001b[m\n",
      "\u001b[32m+\u001b[m\u001b[32m                \"ext-json\": \"*\",\u001b[m\n",
      "\u001b[32m+\u001b[m\u001b[32m                \"ext-mbstring\": \"*\",\u001b[m\n",
      "\u001b[32m+\u001b[m\u001b[32m                \"php\": \"^8.1\",\u001b[m\n",
      "\u001b[32m+\u001b[m\u001b[32m                \"phpunit/phpunit\": \"^10.0 || ^11.0\",\u001b[m\n",
      "\u001b[32m+\u001b[m\u001b[32m                \"symfony/browser-kit\": \"^4.4.24 || ^5.4 || ^6.0 || ^7.0\",\u001b[m\n",
      "\u001b[32m+\u001b[m\u001b[32m                \"symfony/dom-crawler\": \"^4.4.30 || ^5.4 || ^6.0 || ^7.0\"\u001b[m\n",
      "\u001b[32m+\u001b[m\u001b[32m            },\u001b[m\n",
      "\u001b[32m+\u001b[m\u001b[32m            \"require-dev\": {\u001b[m\n",
      "\u001b[32m+\u001b[m\u001b[32m                \"codeception/util-universalframework\": \"^1.0\"\u001b[m\n",
      "\u001b[32m+\u001b[m\u001b[32m            },\u001b[m\n",
      "\u001b[32m+\u001b[m\u001b[32m            \"type\": \"library\",\u001b[m\n",
      "\u001b[32m+\u001b[m\u001b[32m            \"autoload\": {\u001b[m\n",
      "\u001b[32m+\u001b[m\u001b[32m                \"classmap\": [\u001b[m\n",
      "\u001b[32m+\u001b[m\u001b[32m                    \"src/\"\u001b[m\n",
      "\u001b[32m+\u001b[m\u001b[32m                ]\u001b[m\n",
      "\u001b[32m+\u001b[m\u001b[32m            },\u001b[m\n",
      "\u001b[32m+\u001b[m\u001b[32m            \"notification-url\": \"https://packagist.org/downloads/\",\u001b[m\n",
      "\u001b[32m+\u001b[m\u001b[32m            \"license\": [\u001b[m\n",
      "\u001b[32m+\u001b[m\u001b[32m                \"MIT\"\u001b[m\n",
      "\u001b[32m+\u001b[m\u001b[32m            ],\u001b[m\n",
      "\u001b[32m+\u001b[m\u001b[32m            \"authors\": [\u001b[m\n",
      "\u001b[32m+\u001b[m\u001b[32m                {\u001b[m\n",
      "\u001b[32m+\u001b[m\u001b[32m                    \"name\": \"Michael Bodnarchuk\",\u001b[m\n",
      "\u001b[32m+\u001b[m\u001b[32m                    \"email\": \"davert@mail.ua\",\u001b[m\n",
      "\u001b[32m+\u001b[m\u001b[32m                    \"homepage\": \"https://codegyre.com\"\u001b[m\n",
      "\u001b[32m+\u001b[m\u001b[32m                },\u001b[m\n",
      "\u001b[32m+\u001b[m\u001b[32m                {\u001b[m\n",
      "\u001b[32m+\u001b[m\u001b[32m                    \"name\": \"Gintautas Miselis\"\u001b[m\n",
      "\u001b[32m+\u001b[m\u001b[32m                }\u001b[m\n",
      "\u001b[32m+\u001b[m\u001b[32m            ],\u001b[m\n",
      "\u001b[32m+\u001b[m\u001b[32m            \"description\": \"Parent library for all Codeception framework modules and PhpBrowser\",\u001b[m\n",
      "\u001b[32m+\u001b[m\u001b[32m            \"homepage\": \"https://codeception.com/\",\u001b[m\n",
      "\u001b[32m+\u001b[m\u001b[32m            \"keywords\": [\u001b[m\n",
      "\u001b[32m+\u001b[m\u001b[32m                \"codeception\"\u001b[m\n",
      "\u001b[32m+\u001b[m\u001b[32m            ],\u001b[m\n",
      "\u001b[32m+\u001b[m\u001b[32m            \"support\": {\u001b[m\n",
      "\u001b[32m+\u001b[m\u001b[32m                \"issues\": \"https://github.com/Codeception/lib-innerbrowser/issues\",\u001b[m\n",
      "\u001b[32m+\u001b[m\u001b[32m                \"source\": \"https://github.com/Codeception/lib-innerbrowser/tree/4.0.3\"\u001b[m\n",
      "\u001b[32m+\u001b[m\u001b[32m            },\u001b[m\n",
      "\u001b[32m+\u001b[m\u001b[32m            \"time\": \"2024-02-02T20:36:15+00:00\"\u001b[m\n",
      "\u001b[32m+\u001b[m\u001b[32m        },\u001b[m\n",
      "\u001b[32m+\u001b[m\u001b[32m        {\u001b[m\n",
      "\u001b[32m+\u001b[m\u001b[32m            \"name\": \"codeception/lib-web\",\u001b[m\n",
      "\u001b[32m+\u001b[m\u001b[32m            \"version\": \"1.0.6\",\u001b[m\n",
      "\u001b[32m+\u001b[m\u001b[32m            \"source\": {\u001b[m\n",
      "\u001b[32m+\u001b[m\u001b[32m                \"type\": \"git\",\u001b[m\n",
      "\u001b[32m+\u001b[m\u001b[32m                \"url\": \"https://github.com/Codeception/lib-web.git\",\u001b[m\n",
      "\u001b[32m+\u001b[m\u001b[32m                \"reference\": \"01ff7f9ed8760ba0b0805a0b3a843b4e74165a60\"\u001b[m\n",
      "\u001b[32m+\u001b[m\u001b[32m            },\u001b[m\n",
      "\u001b[32m+\u001b[m\u001b[32m            \"dist\": {\u001b[m\n",
      "\u001b[32m+\u001b[m\u001b[32m                \"type\": \"zip\",\u001b[m\n",
      "\u001b[32m+\u001b[m\u001b[32m                \"url\": \"https://api.github.com/repos/Codeception/lib-web/zipball/01ff7f9ed8760ba0b0805a0b3a843b4e74165a60\",\u001b[m\n",
      "\u001b[32m+\u001b[m\u001b[32m                \"reference\": \"01ff7f9ed8760ba0b0805a0b3a843b4e74165a60\",\u001b[m\n",
      "\u001b[32m+\u001b[m\u001b[32m                \"shasum\": \"\"\u001b[m\n",
      "\u001b[32m+\u001b[m\u001b[32m            },\u001b[m\n",
      "\u001b[32m+\u001b[m\u001b[32m            \"require\": {\u001b[m\n",
      "\u001b[32m+\u001b[m\u001b[32m                \"ext-mbstring\": \"*\",\u001b[m\n",
      "\u001b[32m+\u001b[m\u001b[32m                \"guzzlehttp/psr7\": \"^2.0\",\u001b[m\n",
      "\u001b[32m+\u001b[m\u001b[32m                \"php\": \"^8.0\",\u001b[m\n",
      "\u001b[32m+\u001b[m\u001b[32m                \"phpunit/phpunit\": \"^9.5 | ^10.0 | ^11.0\",\u001b[m\n",
      "\u001b[32m+\u001b[m\u001b[32m                \"symfony/css-selector\": \">=4.4.24 <8.0\"\u001b[m\n",
      "\u001b[32m+\u001b[m\u001b[32m            },\u001b[m\n",
      "\u001b[32m+\u001b[m\u001b[32m            \"conflict\": {\u001b[m\n",
      "\u001b[32m+\u001b[m\u001b[32m                \"codeception/codeception\": \"<5.0.0-alpha3\"\u001b[m\n",
      "\u001b[32m+\u001b[m\u001b[32m            },\u001b[m\n",
      "\u001b[32m+\u001b[m\u001b[32m            \"require-dev\": {\u001b[m\n",
      "\u001b[32m+\u001b[m\u001b[32m                \"php-webdriver/webdriver\": \"^1.12\"\u001b[m\n",
      "\u001b[32m+\u001b[m\u001b[32m            },\u001b[m\n",
      "\u001b[32m+\u001b[m\u001b[32m            \"type\": \"library\",\u001b[m\n",
      "\u001b[32m+\u001b[m\u001b[32m            \"autoload\": {\u001b[m\n",
      "\u001b[32m+\u001b[m\u001b[32m                \"classmap\": [\u001b[m\n",
      "\u001b[32m+\u001b[m\u001b[32m                    \"src/\"\u001b[m\n",
      "\u001b[32m+\u001b[m\u001b[32m                ]\u001b[m\n",
      "\u001b[32m+\u001b[m\u001b[32m            },\u001b[m\n",
      "\u001b[32m+\u001b[m\u001b[32m            \"notification-url\": \"https://packagist.org/downloads/\",\u001b[m\n",
      "\u001b[32m+\u001b[m\u001b[32m            \"license\": [\u001b[m\n",
      "\u001b[32m+\u001b[m\u001b[32m                \"MIT\"\u001b[m\n",
      "\u001b[32m+\u001b[m\u001b[32m            ],\u001b[m\n",
      "\u001b[32m+\u001b[m\u001b[32m            \"authors\": [\u001b[m\n",
      "\u001b[32m+\u001b[m\u001b[32m                {\u001b[m\n",
      "\u001b[32m+\u001b[m\u001b[32m                    \"name\": \"Gintautas Miselis\"\u001b[m\n",
      "\u001b[32m+\u001b[m\u001b[32m                }\u001b[m\n",
      "\u001b[32m+\u001b[m\u001b[32m            ],\u001b[m\n",
      "\u001b[32m+\u001b[m\u001b[32m            \"description\": \"Library containing files used by module-webdriver and lib-innerbrowser or module-phpbrowser\",\u001b[m\n",
      "\u001b[32m+\u001b[m\u001b[32m            \"homepage\": \"https://codeception.com/\",\u001b[m\n",
      "\u001b[32m+\u001b[m\u001b[32m            \"keywords\": [\u001b[m\n",
      "\u001b[32m+\u001b[m\u001b[32m                \"codeception\"\u001b[m\n",
      "\u001b[32m+\u001b[m\u001b[32m            ],\u001b[m\n",
      "\u001b[32m+\u001b[m\u001b[32m            \"support\": {\u001b[m\n",
      "\u001b[32m+\u001b[m\u001b[32m                \"issues\": \"https://github.com/Codeception/lib-web/issues\",\u001b[m\n",
      "\u001b[32m+\u001b[m\u001b[32m                \"source\": \"https://github.com/Codeception/lib-web/tree/1.0.6\"\u001b[m\n",
      "\u001b[32m+\u001b[m\u001b[32m            },\u001b[m\n",
      "\u001b[32m+\u001b[m\u001b[32m            \"time\": \"2024-02-06T20:50:08+00:00\"\u001b[m\n",
      "\u001b[32m+\u001b[m\u001b[32m        },\u001b[m\n",
      "\u001b[32m+\u001b[m\u001b[32m        {\u001b[m\n",
      "\u001b[32m+\u001b[m\u001b[32m            \"name\": \"codeception/module-asserts\",\u001b[m\n",
      "\u001b[32m+\u001b[m\u001b[32m            \"version\": \"3.0.0\",\u001b[m\n",
      "\u001b[32m+\u001b[m\u001b[32m            \"source\": {\u001b[m\n",
      "\u001b[32m+\u001b[m\u001b[32m                \"type\": \"git\",\u001b[m\n",
      "\u001b[32m+\u001b[m\u001b[32m                \"url\": \"https://github.com/Codeception/module-asserts.git\",\u001b[m\n",
      "\u001b[32m+\u001b[m\u001b[32m                \"reference\": \"1b6b150b30586c3614e7e5761b31834ed7968603\"\u001b[m\n",
      "\u001b[32m+\u001b[m\u001b[32m            },\u001b[m\n",
      "\u001b[32m+\u001b[m\u001b[32m            \"dist\": {\u001b[m\n",
      "\u001b[32m+\u001b[m\u001b[32m                \"type\": \"zip\",\u001b[m\n",
      "\u001b[32m+\u001b[m\u001b[32m                \"url\": \"https://api.github.com/repos/Codeception/module-asserts/zipball/1b6b150b30586c3614e7e5761b31834ed7968603\",\u001b[m\n",
      "\u001b[32m+\u001b[m\u001b[32m                \"reference\": \"1b6b150b30586c3614e7e5761b31834ed7968603\",\u001b[m\n",
      "\u001b[32m+\u001b[m\u001b[32m                \"shasum\": \"\"\u001b[m\n",
      "\u001b[32m+\u001b[m\u001b[32m            },\u001b[m\n",
      "\u001b[32m+\u001b[m\u001b[32m            \"require\": {\u001b[m\n",
      "\u001b[32m+\u001b[m\u001b[32m                \"codeception/codeception\": \"*@dev\",\u001b[m\n",
      "\u001b[32m+\u001b[m\u001b[32m                \"codeception/lib-asserts\": \"^2.0\",\u001b[m\n",
      "\u001b[32m+\u001b[m\u001b[32m                \"php\": \"^8.0\"\u001b[m\n",
      "\u001b[32m+\u001b[m\u001b[32m            },\u001b[m\n",
      "\u001b[32m+\u001b[m\u001b[32m            \"conflict\": {\u001b[m\n",
      "\u001b[32m+\u001b[m\u001b[32m                \"codeception/codeception\": \"<5.0\"\u001b[m\n",
      "\u001b[32m+\u001b[m\u001b[32m            },\u001b[m\n",
      "\u001b[32m+\u001b[m\u001b[32m            \"type\": \"library\",\u001b[m\n",
      "\u001b[32m+\u001b[m\u001b[32m            \"autoload\": {\u001b[m\n",
      "\u001b[32m+\u001b[m\u001b[32m                \"classmap\": [\u001b[m\n",
      "\u001b[32m+\u001b[m\u001b[32m                    \"src/\"\u001b[m\n",
      "\u001b[32m+\u001b[m\u001b[32m                ]\u001b[m\n",
      "\u001b[32m+\u001b[m\u001b[32m            },\u001b[m\n",
      "\u001b[32m+\u001b[m\u001b[32m            \"notification-url\": \"https://packagist.org/downloads/\",\u001b[m\n",
      "\u001b[32m+\u001b[m\u001b[32m            \"license\": [\u001b[m\n",
      "\u001b[32m+\u001b[m\u001b[32m                \"MIT\"\u001b[m\n",
      "\u001b[32m+\u001b[m\u001b[32m            ],\u001b[m\n",
      "\u001b[32m+\u001b[m\u001b[32m            \"authors\": [\u001b[m\n",
      "\u001b[32m+\u001b[m\u001b[32m                {\u001b[m\n",
      "\u001b[32m+\u001b[m\u001b[32m                    \"name\": \"Michael Bodnarchuk\"\u001b[m\n",
      "\u001b[32m+\u001b[m\u001b[32m                },\u001b[m\n",
      "\u001b[32m+\u001b[m\u001b[32m                {\u001b[m\n",
      "\u001b[32m+\u001b[m\u001b[32m                    \"name\": \"Gintautas Miselis\"\u001b[m\n",
      "\u001b[32m+\u001b[m\u001b[32m                },\u001b[m\n",
      "\u001b[32m+\u001b[m\u001b[32m                {\u001b[m\n",
      "\u001b[32m+\u001b[m\u001b[32m                    \"name\": \"Gustavo Nieves\",\u001b[m\n",
      "\u001b[32m+\u001b[m\u001b[32m                    \"homepage\": \"https://medium.com/@ganieves\"\u001b[m\n",
      "\u001b[32m+\u001b[m\u001b[32m                }\u001b[m\n",
      "\u001b[32m+\u001b[m\u001b[32m            ],\u001b[m\n",
      "\u001b[32m+\u001b[m\u001b[32m            \"description\": \"Codeception module containing various assertions\",\u001b[m\n",
      "\u001b[32m+\u001b[m\u001b[32m            \"homepage\": \"https://codeception.com/\",\u001b[m\n",
      "\u001b[32m+\u001b[m\u001b[32m            \"keywords\": [\u001b[m\n",
      "\u001b[32m+\u001b[m\u001b[32m                \"assertions\",\u001b[m\n",
      "\u001b[32m+\u001b[m\u001b[32m                \"asserts\",\u001b[m\n",
      "\u001b[32m+\u001b[m\u001b[32m                \"codeception\"\u001b[m\n",
      "\u001b[32m+\u001b[m\u001b[32m            ],\u001b[m\n",
      "\u001b[32m+\u001b[m\u001b[32m            \"support\": {\u001b[m\n",
      "\u001b[32m+\u001b[m\u001b[32m                \"issues\": \"https://github.com/Codeception/module-asserts/issues\",\u001b[m\n",
      "\u001b[32m+\u001b[m\u001b[32m                \"source\": \"https://github.com/Codeception/module-asserts/tree/3.0.0\"\u001b[m\n",
      "\u001b[32m+\u001b[m\u001b[32m            },\u001b[m\n",
      "\u001b[32m+\u001b[m\u001b[32m            \"time\": \"2022-02-16T19:48:08+00:00\"\u001b[m\n",
      "\u001b[32m+\u001b[m\u001b[32m        },\u001b[m\n",
      "\u001b[32m+\u001b[m\u001b[32m        {\u001b[m\n",
      "\u001b[32m+\u001b[m\u001b[32m            \"name\": \"codeception/module-phpbrowser\",\u001b[m\n",
      "\u001b[32m+\u001b[m\u001b[32m            \"version\": \"3.0.1\",\u001b[m\n",
      "\u001b[32m+\u001b[m\u001b[32m            \"source\": {\u001b[m\n",
      "\u001b[32m+\u001b[m\u001b[32m                \"type\": \"git\",\u001b[m\n",
      "\u001b[32m+\u001b[m\u001b[32m                \"url\": \"https://github.com/Codeception/module-phpbrowser.git\",\u001b[m\n",
      "\u001b[32m+\u001b[m\u001b[32m                \"reference\": \"a972411f60cd00d00d5e5e3b35496ba4a23bcffc\"\u001b[m\n",
      "\u001b[32m+\u001b[m\u001b[32m            },\u001b[m\n",
      "\u001b[32m+\u001b[m\u001b[32m            \"dist\": {\u001b[m\n",
      "\u001b[32m+\u001b[m\u001b[32m                \"type\": \"zip\",\u001b[m\n",
      "\u001b[32m+\u001b[m\u001b[32m                \"url\": \"https://api.github.com/repos/Codeception/module-phpbrowser/zipball/a972411f60cd00d00d5e5e3b35496ba4a23bcffc\",\u001b[m\n",
      "\u001b[32m+\u001b[m\u001b[32m                \"reference\": \"a972411f60cd00d00d5e5e3b35496ba4a23bcffc\",\u001b[m\n",
      "\u001b[32m+\u001b[m\u001b[32m                \"shasum\": \"\"\u001b[m\n",
      "\u001b[32m+\u001b[m\u001b[32m            },\u001b[m\n",
      "\u001b[32m+\u001b[m\u001b[32m            \"require\": {\u001b[m\n",
      "\u001b[32m+\u001b[m\u001b[32m                \"codeception/codeception\": \"*@dev\",\u001b[m\n",
      "\u001b[32m+\u001b[m\u001b[32m                \"codeception/lib-innerbrowser\": \"*@dev\",\u001b[m\n",
      "\u001b[32m+\u001b[m\u001b[32m                \"ext-json\": \"*\",\u001b[m\n",
      "\u001b[32m+\u001b[m\u001b[32m                \"guzzlehttp/guzzle\": \"^7.4\",\u001b[m\n",
      "\u001b[32m+\u001b[m\u001b[32m                \"php\": \"^8.0\",\u001b[m\n",
      "\u001b[32m+\u001b[m\u001b[32m                \"symfony/browser-kit\": \"^5.4 || ^6.0 || ^7.0\"\u001b[m\n",
      "\u001b[32m+\u001b[m\u001b[32m            },\u001b[m\n",
      "\u001b[32m+\u001b[m\u001b[32m            \"conflict\": {\u001b[m\n",
      "\u001b[32m+\u001b[m\u001b[32m                \"codeception/codeception\": \"<5.0\",\u001b[m\n",
      "\u001b[32m+\u001b[m\u001b[32m                \"codeception/lib-innerbrowser\": \"<3.0\"\u001b[m\n",
      "\u001b[32m+\u001b[m\u001b[32m            },\u001b[m\n",
      "\u001b[32m+\u001b[m\u001b[32m            \"require-dev\": {\u001b[m\n",
      "\u001b[32m+\u001b[m\u001b[32m                \"aws/aws-sdk-php\": \"^3.199\",\u001b[m\n",
      "\u001b[32m+\u001b[m\u001b[32m                \"codeception/module-rest\": \"^2.0 || *@dev\",\u001b[m\n",
      "\u001b[32m+\u001b[m\u001b[32m                \"ext-curl\": \"*\"\u001b[m\n",
      "\u001b[32m+\u001b[m\u001b[32m            },\u001b[m\n",
      "\u001b[32m+\u001b[m\u001b[32m            \"suggest\": {\u001b[m\n",
      "\u001b[32m+\u001b[m\u001b[32m                \"codeception/phpbuiltinserver\": \"Start and stop PHP built-in web server for your tests\"\u001b[m\n",
      "\u001b[32m+\u001b[m\u001b[32m            },\u001b[m\n",
      "\u001b[32m+\u001b[m\u001b[32m            \"type\": \"library\",\u001b[m\n",
      "\u001b[32m+\u001b[m\u001b[32m            \"autoload\": {\u001b[m\n",
      "\u001b[32m+\u001b[m\u001b[32m                \"classmap\": [\u001b[m\n",
      "\u001b[32m+\u001b[m\u001b[32m                    \"src/\"\u001b[m\n",
      "\u001b[32m+\u001b[m\u001b[32m                ]\u001b[m\n",
      "\u001b[32m+\u001b[m\u001b[32m            },\u001b[m\n",
      "\u001b[32m+\u001b[m\u001b[32m            \"notification-url\": \"https://packagist.org/downloads/\",\u001b[m\n",
      "\u001b[32m+\u001b[m\u001b[32m            \"license\": [\u001b[m\n",
      "\u001b[32m+\u001b[m\u001b[32m                \"MIT\"\u001b[m\n",
      "\u001b[32m+\u001b[m\u001b[32m            ],\u001b[m\n",
      "\u001b[32m+\u001b[m\u001b[32m            \"authors\": [\u001b[m\n",
      "\u001b[32m+\u001b[m\u001b[32m                {\u001b[m\n",
      "\u001b[32m+\u001b[m\u001b[32m                    \"name\": \"Michael Bodnarchuk\"\u001b[m\n",
      "\u001b[32m+\u001b[m\u001b[32m                },\u001b[m\n",
      "\u001b[32m+\u001b[m\u001b[32m                {\u001b[m\n",
      "\u001b[32m+\u001b[m\u001b[32m                    \"name\": \"Gintautas Miselis\"\u001b[m\n",
      "\u001b[32m+\u001b[m\u001b[32m                }\u001b[m\n",
      "\u001b[32m+\u001b[m\u001b[32m            ],\u001b[m\n",
      "\u001b[32m+\u001b[m\u001b[32m            \"description\": \"Codeception module for testing web application over HTTP\",\u001b[m\n",
      "\u001b[32m+\u001b[m\u001b[32m            \"homepage\": \"https://codeception.com/\",\u001b[m\n",
      "\u001b[32m+\u001b[m\u001b[32m            \"keywords\": [\u001b[m\n",
      "\u001b[32m+\u001b[m\u001b[32m                \"codeception\",\u001b[m\n",
      "\u001b[32m+\u001b[m\u001b[32m                \"functional-testing\",\u001b[m\n",
      "\u001b[32m+\u001b[m\u001b[32m                \"http\"\u001b[m\n",
      "\u001b[32m+\u001b[m\u001b[32m            ],\u001b[m\n",
      "\u001b[32m+\u001b[m\u001b[32m            \"support\": {\u001b[m\n",
      "\u001b[32m+\u001b[m\u001b[32m                \"issues\": \"https://github.com/Codeception/module-phpbrowser/issues\",\u001b[m\n",
      "\u001b[32m+\u001b[m\u001b[32m                \"source\": \"https://github.com/Codeception/module-phpbrowser/tree/3.0.1\"\u001b[m\n",
      "\u001b[32m+\u001b[m\u001b[32m            },\u001b[m\n",
      "\u001b[32m+\u001b[m\u001b[32m            \"time\": \"2023-12-08T19:41:28+00:00\"\u001b[m\n",
      "\u001b[32m+\u001b[m\u001b[32m        },\u001b[m\n",
      "\u001b[32m+\u001b[m\u001b[32m        {\u001b[m\n",
      "\u001b[32m+\u001b[m\u001b[32m            \"name\": \"codeception/module-webdriver\",\u001b[m\n",
      "\u001b[32m+\u001b[m\u001b[32m            \"version\": \"4.0.1\",\u001b[m\n",
      "\u001b[32m+\u001b[m\u001b[32m            \"source\": {\u001b[m\n",
      "\u001b[32m+\u001b[m\u001b[32m                \"type\": \"git\",\u001b[m\n",
      "\u001b[32m+\u001b[m\u001b[32m                \"url\": \"https://github.com/Codeception/module-webdriver.git\",\u001b[m\n",
      "\u001b[32m+\u001b[m\u001b[32m                \"reference\": \"68bd12857f2b3321d3114c3c87c9ad9345b3bd5e\"\u001b[m\n",
      "\u001b[32m+\u001b[m\u001b[32m            },\u001b[m\n",
      "\u001b[32m+\u001b[m\u001b[32m            \"dist\": {\u001b[m\n",
      "\u001b[32m+\u001b[m\u001b[32m                \"type\": \"zip\",\u001b[m\n",
      "\u001b[32m+\u001b[m\u001b[32m                \"url\": \"https://api.github.com/repos/Codeception/module-webdriver/zipball/68bd12857f2b3321d3114c3c87c9ad9345b3bd5e\",\u001b[m\n",
      "\u001b[32m+\u001b[m\u001b[32m                \"reference\": \"68bd12857f2b3321d3114c3c87c9ad9345b3bd5e\",\u001b[m\n",
      "\u001b[32m+\u001b[m\u001b[32m                \"shasum\": \"\"\u001b[m\n",
      "\u001b[32m+\u001b[m\u001b[32m            },\u001b[m\n",
      "\u001b[32m+\u001b[m\u001b[32m            \"require\": {\u001b[m\n",
      "\u001b[32m+\u001b[m\u001b[32m                \"codeception/codeception\": \"^5.0.8\",\u001b[m\n",
      "\u001b[32m+\u001b[m\u001b[32m                \"codeception/lib-web\": \"^1.0.1\",\u001b[m\n",
      "\u001b[32m+\u001b[m\u001b[32m                \"codeception/stub\": \"^4.0\",\u001b[m\n",
      "\u001b[32m+\u001b[m\u001b[32m                \"ext-json\": \"*\",\u001b[m\n",
      "\u001b[32m+\u001b[m\u001b[32m                \"ext-mbstring\": \"*\",\u001b[m\n",
      "\u001b[32m+\u001b[m\u001b[32m                \"php\": \"^8.1\",\u001b[m\n",
      "\u001b[32m+\u001b[m\u001b[32m                \"php-webdriver/webdriver\": \"^1.14.0\",\u001b[m\n",
      "\u001b[32m+\u001b[m\u001b[32m                \"phpunit/phpunit\": \"^10.0 || ^11.0\"\u001b[m\n",
      "\u001b[32m+\u001b[m\u001b[32m            },\u001b[m\n",
      "\u001b[32m+\u001b[m\u001b[32m            \"suggest\": {\u001b[m\n",
      "\u001b[32m+\u001b[m\u001b[32m                \"codeception/phpbuiltinserver\": \"Start and stop PHP built-in web server for your tests\"\u001b[m\n",
      "\u001b[32m+\u001b[m\u001b[32m            },\u001b[m\n",
      "\u001b[32m+\u001b[m\u001b[32m            \"type\": \"library\",\u001b[m\n",
      "\u001b[32m+\u001b[m\u001b[32m            \"autoload\": {\u001b[m\n",
      "\u001b[32m+\u001b[m\u001b[32m                \"classmap\": [\u001b[m\n",
      "\u001b[32m+\u001b[m\u001b[32m                    \"src/\"\u001b[m\n",
      "\u001b[32m+\u001b[m\u001b[32m                ]\u001b[m\n",
      "\u001b[32m+\u001b[m\u001b[32m            },\u001b[m\n",
      "\u001b[32m+\u001b[m\u001b[32m            \"notification-url\": \"https://packagist.org/downloads/\",\u001b[m\n",
      "\u001b[32m+\u001b[m\u001b[32m            \"license\": [\u001b[m\n",
      "\u001b[32m+\u001b[m\u001b[32m                \"MIT\"\u001b[m\n",
      "\u001b[32m+\u001b[m\u001b[32m            ],\u001b[m\n",
      "\u001b[32m+\u001b[m\u001b[32m            \"authors\": [\u001b[m\n",
      "\u001b[32m+\u001b[m\u001b[32m                {\u001b[m\n",
      "\u001b[32m+\u001b[m\u001b[32m                    \"name\": \"Michael Bodnarchuk\"\u001b[m\n",
      "\u001b[32m+\u001b[m\u001b[32m                },\u001b[m\n",
      "\u001b[32m+\u001b[m\u001b[32m                {\u001b[m\n",
      "\u001b[32m+\u001b[m\u001b[32m                    \"name\": \"Gintautas Miselis\"\u001b[m\n",
      "\u001b[32m+\u001b[m\u001b[32m                },\u001b[m\n",
      "\u001b[32m+\u001b[m\u001b[32m                {\u001b[m\n",
      "\u001b[32m+\u001b[m\u001b[32m                    \"name\": \"Zaahid Bateson\"\u001b[m\n",
      "\u001b[32m+\u001b[m\u001b[32m                }\u001b[m\n",
      "\u001b[32m+\u001b[m\u001b[32m            ],\u001b[m\n",
      "\u001b[32m+\u001b[m\u001b[32m            \"description\": \"WebDriver module for Codeception\",\u001b[m\n",
      "\u001b[32m+\u001b[m\u001b[32m            \"homepage\": \"https://codeception.com/\",\u001b[m\n",
      "\u001b[32m+\u001b[m\u001b[32m            \"keywords\": [\u001b[m\n",
      "\u001b[32m+\u001b[m\u001b[32m                \"acceptance-testing\",\u001b[m\n",
      "\u001b[32m+\u001b[m\u001b[32m                \"browser-testing\",\u001b[m\n",
      "\u001b[32m+\u001b[m\u001b[32m                \"codeception\"\u001b[m\n",
      "\u001b[32m+\u001b[m\u001b[32m            ],\u001b[m\n",
      "\u001b[32m+\u001b[m\u001b[32m            \"support\": {\u001b[m\n",
      "\u001b[32m+\u001b[m\u001b[32m                \"issues\": \"https://github.com/Codeception/module-webdriver/issues\",\u001b[m\n",
      "\u001b[32m+\u001b[m\u001b[32m                \"source\": \"https://github.com/Codeception/module-webdriver/tree/4.0.1\"\u001b[m\n",
      "\u001b[32m+\u001b[m\u001b[32m            },\u001b[m\n",
      "\u001b[32m+\u001b[m\u001b[32m            \"time\": \"2024-02-16T12:47:00+00:00\"\u001b[m\n",
      "\u001b[32m+\u001b[m\u001b[32m        },\u001b[m\n",
      "\u001b[32m+\u001b[m\u001b[32m        {\u001b[m\n",
      "\u001b[32m+\u001b[m\u001b[32m            \"name\": \"codeception/stub\",\u001b[m\n",
      "\u001b[32m+\u001b[m\u001b[32m            \"version\": \"4.1.3\",\u001b[m\n",
      "\u001b[32m+\u001b[m\u001b[32m            \"source\": {\u001b[m\n",
      "\u001b[32m+\u001b[m\u001b[32m                \"type\": \"git\",\u001b[m\n",
      "\u001b[32m+\u001b[m\u001b[32m                \"url\": \"https://github.com/Codeception/Stub.git\",\u001b[m\n",
      "\u001b[32m+\u001b[m\u001b[32m                \"reference\": \"4fcad2c165f365377486dc3fd8703b07f1f2fcae\"\u001b[m\n",
      "\u001b[32m+\u001b[m\u001b[32m            },\u001b[m\n",
      "\u001b[32m+\u001b[m\u001b[32m            \"dist\": {\u001b[m\n",
      "\u001b[32m+\u001b[m\u001b[32m                \"type\": \"zip\",\u001b[m\n",
      "\u001b[32m+\u001b[m\u001b[32m                \"url\": \"https://api.github.com/repos/Codeception/Stub/zipball/4fcad2c165f365377486dc3fd8703b07f1f2fcae\",\u001b[m\n",
      "\u001b[32m+\u001b[m\u001b[32m                \"reference\": \"4fcad2c165f365377486dc3fd8703b07f1f2fcae\",\u001b[m\n",
      "\u001b[32m+\u001b[m\u001b[32m                \"shasum\": \"\"\u001b[m\n",
      "\u001b[32m+\u001b[m\u001b[32m            },\u001b[m\n",
      "\u001b[32m+\u001b[m\u001b[32m            \"require\": {\u001b[m\n",
      "\u001b[32m+\u001b[m\u001b[32m                \"php\": \"^7.4 | ^8.0\",\u001b[m\n",
      "\u001b[32m+\u001b[m\u001b[32m                \"phpunit/phpunit\": \"^8.4 | ^9.0 | ^10.0 | ^11\"\u001b[m\n",
      "\u001b[32m+\u001b[m\u001b[32m            },\u001b[m\n",
      "\u001b[32m+\u001b[m\u001b[32m            \"conflict\": {\u001b[m\n",
      "\u001b[32m+\u001b[m\u001b[32m                \"codeception/codeception\": \"<5.0.6\"\u001b[m\n",
      "\u001b[32m+\u001b[m\u001b[32m            },\u001b[m\n",
      "\u001b[32m+\u001b[m\u001b[32m            \"require-dev\": {\u001b[m\n",
      "\u001b[32m+\u001b[m\u001b[32m                \"consolidation/robo\": \"^3.0\"\u001b[m\n",
      "\u001b[32m+\u001b[m\u001b[32m            },\u001b[m\n",
      "\u001b[32m+\u001b[m\u001b[32m            \"type\": \"library\",\u001b[m\n",
      "\u001b[32m+\u001b[m\u001b[32m            \"autoload\": {\u001b[m\n",
      "\u001b[32m+\u001b[m\u001b[32m                \"psr-4\": {\u001b[m\n",
      "\u001b[32m+\u001b[m\u001b[32m                    \"Codeception\\\\\": \"src/\"\u001b[m\n",
      "\u001b[32m+\u001b[m\u001b[32m                }\u001b[m\n",
      "\u001b[32m+\u001b[m\u001b[32m            },\u001b[m\n",
      "\u001b[32m+\u001b[m\u001b[32m            \"notification-url\": \"https://packagist.org/downloads/\",\u001b[m\n",
      "\u001b[32m+\u001b[m\u001b[32m            \"license\": [\u001b[m\n",
      "\u001b[32m+\u001b[m\u001b[32m                \"MIT\"\u001b[m\n",
      "\u001b[32m+\u001b[m\u001b[32m            ],\u001b[m\n",
      "\u001b[32m+\u001b[m\u001b[32m            \"description\": \"Flexible Stub wrapper for PHPUnit's Mock Builder\",\u001b[m\n",
      "\u001b[32m+\u001b[m\u001b[32m            \"support\": {\u001b[m\n",
      "\u001b[32m+\u001b[m\u001b[32m                \"issues\": \"https://github.com/Codeception/Stub/issues\",\u001b[m\n",
      "\u001b[32m+\u001b[m\u001b[32m                \"source\": \"https://github.com/Codeception/Stub/tree/4.1.3\"\u001b[m\n",
      "\u001b[32m+\u001b[m\u001b[32m            },\u001b[m\n",
      "\u001b[32m+\u001b[m\u001b[32m            \"time\": \"2024-02-02T19:21:00+00:00\"\u001b[m\n",
      "\u001b[32m+\u001b[m\u001b[32m        },\u001b[m\n",
      "         {\u001b[m\n",
      "             \"name\": \"fakerphp/faker\",\u001b[m\n",
      "             \"version\": \"v1.23.1\",\u001b[m\n",
      "\u001b[36m@@ -6008,6 +6577,73 @@\u001b[m\n",
      "             },\u001b[m\n",
      "             \"time\": \"2024-03-20T20:09:31+00:00\"\u001b[m\n",
      "         },\u001b[m\n",
      "\u001b[32m+\u001b[m\u001b[32m        {\u001b[m\n",
      "\u001b[32m+\u001b[m\u001b[32m            \"name\": \"masterminds/html5\",\u001b[m\n",
      "\u001b[32m+\u001b[m\u001b[32m            \"version\": \"2.9.0\",\u001b[m\n",
      "\u001b[32m+\u001b[m\u001b[32m            \"source\": {\u001b[m\n",
      "\u001b[32m+\u001b[m\u001b[32m                \"type\": \"git\",\u001b[m\n",
      "\u001b[32m+\u001b[m\u001b[32m                \"url\": \"https://github.com/Masterminds/html5-php.git\",\u001b[m\n",
      "\u001b[32m+\u001b[m\u001b[32m                \"reference\": \"f5ac2c0b0a2eefca70b2ce32a5809992227e75a6\"\u001b[m\n",
      "\u001b[32m+\u001b[m\u001b[32m            },\u001b[m\n",
      "\u001b[32m+\u001b[m\u001b[32m            \"dist\": {\u001b[m\n",
      "\u001b[32m+\u001b[m\u001b[32m                \"type\": \"zip\",\u001b[m\n",
      "\u001b[32m+\u001b[m\u001b[32m                \"url\": \"https://api.github.com/repos/Masterminds/html5-php/zipball/f5ac2c0b0a2eefca70b2ce32a5809992227e75a6\",\u001b[m\n",
      "\u001b[32m+\u001b[m\u001b[32m                \"reference\": \"f5ac2c0b0a2eefca70b2ce32a5809992227e75a6\",\u001b[m\n",
      "\u001b[32m+\u001b[m\u001b[32m                \"shasum\": \"\"\u001b[m\n",
      "\u001b[32m+\u001b[m\u001b[32m            },\u001b[m\n",
      "\u001b[32m+\u001b[m\u001b[32m            \"require\": {\u001b[m\n",
      "\u001b[32m+\u001b[m\u001b[32m                \"ext-dom\": \"*\",\u001b[m\n",
      "\u001b[32m+\u001b[m\u001b[32m                \"php\": \">=5.3.0\"\u001b[m\n",
      "\u001b[32m+\u001b[m\u001b[32m            },\u001b[m\n",
      "\u001b[32m+\u001b[m\u001b[32m            \"require-dev\": {\u001b[m\n",
      "\u001b[32m+\u001b[m\u001b[32m                \"phpunit/phpunit\": \"^4.8.35 || ^5.7.21 || ^6 || ^7 || ^8 || ^9\"\u001b[m\n",
      "\u001b[32m+\u001b[m\u001b[32m            },\u001b[m\n",
      "\u001b[32m+\u001b[m\u001b[32m            \"type\": \"library\",\u001b[m\n",
      "\u001b[32m+\u001b[m\u001b[32m            \"extra\": {\u001b[m\n",
      "\u001b[32m+\u001b[m\u001b[32m                \"branch-alias\": {\u001b[m\n",
      "\u001b[32m+\u001b[m\u001b[32m                    \"dev-master\": \"2.7-dev\"\u001b[m\n",
      "\u001b[32m+\u001b[m\u001b[32m                }\u001b[m\n",
      "\u001b[32m+\u001b[m\u001b[32m            },\u001b[m\n",
      "\u001b[32m+\u001b[m\u001b[32m            \"autoload\": {\u001b[m\n",
      "\u001b[32m+\u001b[m\u001b[32m                \"psr-4\": {\u001b[m\n",
      "\u001b[32m+\u001b[m\u001b[32m                    \"Masterminds\\\\\": \"src\"\u001b[m\n",
      "\u001b[32m+\u001b[m\u001b[32m                }\u001b[m\n",
      "\u001b[32m+\u001b[m\u001b[32m            },\u001b[m\n",
      "\u001b[32m+\u001b[m\u001b[32m            \"notification-url\": \"https://packagist.org/downloads/\",\u001b[m\n",
      "\u001b[32m+\u001b[m\u001b[32m            \"license\": [\u001b[m\n",
      "\u001b[32m+\u001b[m\u001b[32m                \"MIT\"\u001b[m\n",
      "\u001b[32m+\u001b[m\u001b[32m            ],\u001b[m\n",
      "\u001b[32m+\u001b[m\u001b[32m            \"authors\": [\u001b[m\n",
      "\u001b[32m+\u001b[m\u001b[32m                {\u001b[m\n",
      "\u001b[32m+\u001b[m\u001b[32m                    \"name\": \"Matt Butcher\",\u001b[m\n",
      "\u001b[32m+\u001b[m\u001b[32m                    \"email\": \"technosophos@gmail.com\"\u001b[m\n",
      "\u001b[32m+\u001b[m\u001b[32m                },\u001b[m\n",
      "\u001b[32m+\u001b[m\u001b[32m                {\u001b[m\n",
      "\u001b[32m+\u001b[m\u001b[32m                    \"name\": \"Matt Farina\",\u001b[m\n",
      "\u001b[32m+\u001b[m\u001b[32m                    \"email\": \"matt@mattfarina.com\"\u001b[m\n",
      "\u001b[32m+\u001b[m\u001b[32m                },\u001b[m\n",
      "\u001b[32m+\u001b[m\u001b[32m                {\u001b[m\n",
      "\u001b[32m+\u001b[m\u001b[32m                    \"name\": \"Asmir Mustafic\",\u001b[m\n",
      "\u001b[32m+\u001b[m\u001b[32m                    \"email\": \"goetas@gmail.com\"\u001b[m\n",
      "\u001b[32m+\u001b[m\u001b[32m                }\u001b[m\n",
      "\u001b[32m+\u001b[m\u001b[32m            ],\u001b[m\n",
      "\u001b[32m+\u001b[m\u001b[32m            \"description\": \"An HTML5 parser and serializer.\",\u001b[m\n",
      "\u001b[32m+\u001b[m\u001b[32m            \"homepage\": \"http://masterminds.github.io/html5-php\",\u001b[m\n",
      "\u001b[32m+\u001b[m\u001b[32m            \"keywords\": [\u001b[m\n",
      "\u001b[32m+\u001b[m\u001b[32m                \"HTML5\",\u001b[m\n",
      "\u001b[32m+\u001b[m\u001b[32m                \"dom\",\u001b[m\n",
      "\u001b[32m+\u001b[m\u001b[32m                \"html\",\u001b[m\n",
      "\u001b[32m+\u001b[m\u001b[32m                \"parser\",\u001b[m\n",
      "\u001b[32m+\u001b[m\u001b[32m                \"querypath\",\u001b[m\n",
      "\u001b[32m+\u001b[m\u001b[32m                \"serializer\",\u001b[m\n",
      "\u001b[32m+\u001b[m\u001b[32m                \"xml\"\u001b[m\n",
      "\u001b[32m+\u001b[m\u001b[32m            ],\u001b[m\n",
      "\u001b[32m+\u001b[m\u001b[32m            \"support\": {\u001b[m\n",
      "\u001b[32m+\u001b[m\u001b[32m                \"issues\": \"https://github.com/Masterminds/html5-php/issues\",\u001b[m\n",
      "\u001b[32m+\u001b[m\u001b[32m                \"source\": \"https://github.com/Masterminds/html5-php/tree/2.9.0\"\u001b[m\n",
      "\u001b[32m+\u001b[m\u001b[32m            },\u001b[m\n",
      "\u001b[32m+\u001b[m\u001b[32m            \"time\": \"2024-03-31T07:05:07+00:00\"\u001b[m\n",
      "\u001b[32m+\u001b[m\u001b[32m        },\u001b[m\n",
      "         {\u001b[m\n",
      "             \"name\": \"mockery/mockery\",\u001b[m\n",
      "             \"version\": \"1.6.12\",\u001b[m\n",
      "\u001b[36m@@ -6365,6 +7001,72 @@\u001b[m\n",
      "             },\u001b[m\n",
      "             \"time\": \"2022-02-21T01:04:05+00:00\"\u001b[m\n",
      "         },\u001b[m\n",
      "\u001b[32m+\u001b[m\u001b[32m        {\u001b[m\n",
      "\u001b[32m+\u001b[m\u001b[32m            \"name\": \"php-webdriver/webdriver\",\u001b[m\n",
      "\u001b[32m+\u001b[m\u001b[32m            \"version\": \"1.15.1\",\u001b[m\n",
      "\u001b[32m+\u001b[m\u001b[32m            \"source\": {\u001b[m\n",
      "\u001b[32m+\u001b[m\u001b[32m                \"type\": \"git\",\u001b[m\n",
      "\u001b[32m+\u001b[m\u001b[32m                \"url\": \"https://github.com/php-webdriver/php-webdriver.git\",\u001b[m\n",
      "\u001b[32m+\u001b[m\u001b[32m                \"reference\": \"cd52d9342c5aa738c2e75a67e47a1b6df97154e8\"\u001b[m\n",
      "\u001b[32m+\u001b[m\u001b[32m            },\u001b[m\n",
      "\u001b[32m+\u001b[m\u001b[32m            \"dist\": {\u001b[m\n",
      "\u001b[32m+\u001b[m\u001b[32m                \"type\": \"zip\",\u001b[m\n",
      "\u001b[32m+\u001b[m\u001b[32m                \"url\": \"https://api.github.com/repos/php-webdriver/php-webdriver/zipball/cd52d9342c5aa738c2e75a67e47a1b6df97154e8\",\u001b[m\n",
      "\u001b[32m+\u001b[m\u001b[32m                \"reference\": \"cd52d9342c5aa738c2e75a67e47a1b6df97154e8\",\u001b[m\n",
      "\u001b[32m+\u001b[m\u001b[32m                \"shasum\": \"\"\u001b[m\n",
      "\u001b[32m+\u001b[m\u001b[32m            },\u001b[m\n",
      "\u001b[32m+\u001b[m\u001b[32m            \"require\": {\u001b[m\n",
      "\u001b[32m+\u001b[m\u001b[32m                \"ext-curl\": \"*\",\u001b[m\n",
      "\u001b[32m+\u001b[m\u001b[32m                \"ext-json\": \"*\",\u001b[m\n",
      "\u001b[32m+\u001b[m\u001b[32m                \"ext-zip\": \"*\",\u001b[m\n",
      "\u001b[32m+\u001b[m\u001b[32m                \"php\": \"^7.3 || ^8.0\",\u001b[m\n",
      "\u001b[32m+\u001b[m\u001b[32m                \"symfony/polyfill-mbstring\": \"^1.12\",\u001b[m\n",
      "\u001b[32m+\u001b[m\u001b[32m                \"symfony/process\": \"^5.0 || ^6.0 || ^7.0\"\u001b[m\n",
      "\u001b[32m+\u001b[m\u001b[32m            },\u001b[m\n",
      "\u001b[32m+\u001b[m\u001b[32m            \"replace\": {\u001b[m\n",
      "\u001b[32m+\u001b[m\u001b[32m                \"facebook/webdriver\": \"*\"\u001b[m\n",
      "\u001b[32m+\u001b[m\u001b[32m            },\u001b[m\n",
      "\u001b[32m+\u001b[m\u001b[32m            \"require-dev\": {\u001b[m\n",
      "\u001b[32m+\u001b[m\u001b[32m                \"ergebnis/composer-normalize\": \"^2.20.0\",\u001b[m\n",
      "\u001b[32m+\u001b[m\u001b[32m                \"ondram/ci-detector\": \"^4.0\",\u001b[m\n",
      "\u001b[32m+\u001b[m\u001b[32m                \"php-coveralls/php-coveralls\": \"^2.4\",\u001b[m\n",
      "\u001b[32m+\u001b[m\u001b[32m                \"php-mock/php-mock-phpunit\": \"^2.0\",\u001b[m\n",
      "\u001b[32m+\u001b[m\u001b[32m                \"php-parallel-lint/php-parallel-lint\": \"^1.2\",\u001b[m\n",
      "\u001b[32m+\u001b[m\u001b[32m                \"phpunit/phpunit\": \"^9.3\",\u001b[m\n",
      "\u001b[32m+\u001b[m\u001b[32m                \"squizlabs/php_codesniffer\": \"^3.5\",\u001b[m\n",
      "\u001b[32m+\u001b[m\u001b[32m                \"symfony/var-dumper\": \"^5.0 || ^6.0\"\u001b[m\n",
      "\u001b[32m+\u001b[m\u001b[32m            },\u001b[m\n",
      "\u001b[32m+\u001b[m\u001b[32m            \"suggest\": {\u001b[m\n",
      "\u001b[32m+\u001b[m\u001b[32m                \"ext-SimpleXML\": \"For Firefox profile creation\"\u001b[m\n",
      "\u001b[32m+\u001b[m\u001b[32m            },\u001b[m\n",
      "\u001b[32m+\u001b[m\u001b[32m            \"type\": \"library\",\u001b[m\n",
      "\u001b[32m+\u001b[m\u001b[32m            \"autoload\": {\u001b[m\n",
      "\u001b[32m+\u001b[m\u001b[32m                \"files\": [\u001b[m\n",
      "\u001b[32m+\u001b[m\u001b[32m                    \"lib/Exception/TimeoutException.php\"\u001b[m\n",
      "\u001b[32m+\u001b[m\u001b[32m                ],\u001b[m\n",
      "\u001b[32m+\u001b[m\u001b[32m                \"psr-4\": {\u001b[m\n",
      "\u001b[32m+\u001b[m\u001b[32m                    \"Facebook\\\\WebDriver\\\\\": \"lib/\"\u001b[m\n",
      "\u001b[32m+\u001b[m\u001b[32m                }\u001b[m\n",
      "\u001b[32m+\u001b[m\u001b[32m            },\u001b[m\n",
      "\u001b[32m+\u001b[m\u001b[32m            \"notification-url\": \"https://packagist.org/downloads/\",\u001b[m\n",
      "\u001b[32m+\u001b[m\u001b[32m            \"license\": [\u001b[m\n",
      "\u001b[32m+\u001b[m\u001b[32m                \"MIT\"\u001b[m\n",
      "\u001b[32m+\u001b[m\u001b[32m            ],\u001b[m\n",
      "\u001b[32m+\u001b[m\u001b[32m            \"description\": \"A PHP client for Selenium WebDriver. Previously facebook/webdriver.\",\u001b[m\n",
      "\u001b[32m+\u001b[m\u001b[32m            \"homepage\": \"https://github.com/php-webdriver/php-webdriver\",\u001b[m\n",
      "\u001b[32m+\u001b[m\u001b[32m            \"keywords\": [\u001b[m\n",
      "\u001b[32m+\u001b[m\u001b[32m                \"Chromedriver\",\u001b[m\n",
      "\u001b[32m+\u001b[m\u001b[32m                \"geckodriver\",\u001b[m\n",
      "\u001b[32m+\u001b[m\u001b[32m                \"php\",\u001b[m\n",
      "\u001b[32m+\u001b[m\u001b[32m                \"selenium\",\u001b[m\n",
      "\u001b[32m+\u001b[m\u001b[32m                \"webdriver\"\u001b[m\n",
      "\u001b[32m+\u001b[m\u001b[32m            ],\u001b[m\n",
      "\u001b[32m+\u001b[m\u001b[32m            \"support\": {\u001b[m\n",
      "\u001b[32m+\u001b[m\u001b[32m                \"issues\": \"https://github.com/php-webdriver/php-webdriver/issues\",\u001b[m\n",
      "\u001b[32m+\u001b[m\u001b[32m                \"source\": \"https://github.com/php-webdriver/php-webdriver/tree/1.15.1\"\u001b[m\n",
      "\u001b[32m+\u001b[m\u001b[32m            },\u001b[m\n",
      "\u001b[32m+\u001b[m\u001b[32m            \"time\": \"2023-10-20T12:21:20+00:00\"\u001b[m\n",
      "\u001b[32m+\u001b[m\u001b[32m        },\u001b[m\n",
      "         {\u001b[m\n",
      "             \"name\": \"phpunit/php-code-coverage\",\u001b[m\n",
      "             \"version\": \"11.0.3\",\u001b[m\n",
      "\u001b[36m@@ -8018,6 +8720,141 @@\u001b[m\n",
      "             ],\u001b[m\n",
      "             \"time\": \"2024-05-02T13:42:49+00:00\"\u001b[m\n",
      "         },\u001b[m\n",
      "\u001b[32m+\u001b[m\u001b[32m        {\u001b[m\n",
      "\u001b[32m+\u001b[m\u001b[32m            \"name\": \"symfony/browser-kit\",\u001b[m\n",
      "\u001b[32m+\u001b[m\u001b[32m            \"version\": \"v7.0.7\",\u001b[m\n",
      "\u001b[32m+\u001b[m\u001b[32m            \"source\": {\u001b[m\n",
      "\u001b[32m+\u001b[m\u001b[32m                \"type\": \"git\",\u001b[m\n",
      "\u001b[32m+\u001b[m\u001b[32m                \"url\": \"https://github.com/symfony/browser-kit.git\",\u001b[m\n",
      "\u001b[32m+\u001b[m\u001b[32m                \"reference\": \"0a48e67a7975c07d8cc0661fbbdddce56c58425e\"\u001b[m\n",
      "\u001b[32m+\u001b[m\u001b[32m            },\u001b[m\n",
      "\u001b[32m+\u001b[m\u001b[32m            \"dist\": {\u001b[m\n",
      "\u001b[32m+\u001b[m\u001b[32m                \"type\": \"zip\",\u001b[m\n",
      "\u001b[32m+\u001b[m\u001b[32m                \"url\": \"https://api.github.com/repos/symfony/browser-kit/zipball/0a48e67a7975c07d8cc0661fbbdddce56c58425e\",\u001b[m\n",
      "\u001b[32m+\u001b[m\u001b[32m                \"reference\": \"0a48e67a7975c07d8cc0661fbbdddce56c58425e\",\u001b[m\n",
      "\u001b[32m+\u001b[m\u001b[32m                \"shasum\": \"\"\u001b[m\n",
      "\u001b[32m+\u001b[m\u001b[32m            },\u001b[m\n",
      "\u001b[32m+\u001b[m\u001b[32m            \"require\": {\u001b[m\n",
      "\u001b[32m+\u001b[m\u001b[32m                \"php\": \">=8.2\",\u001b[m\n",
      "\u001b[32m+\u001b[m\u001b[32m                \"symfony/dom-crawler\": \"^6.4|^7.0\"\u001b[m\n",
      "\u001b[32m+\u001b[m\u001b[32m            },\u001b[m\n",
      "\u001b[32m+\u001b[m\u001b[32m            \"require-dev\": {\u001b[m\n",
      "\u001b[32m+\u001b[m\u001b[32m                \"symfony/css-selector\": \"^6.4|^7.0\",\u001b[m\n",
      "\u001b[32m+\u001b[m\u001b[32m                \"symfony/http-client\": \"^6.4|^7.0\",\u001b[m\n",
      "\u001b[32m+\u001b[m\u001b[32m                \"symfony/mime\": \"^6.4|^7.0\",\u001b[m\n",
      "\u001b[32m+\u001b[m\u001b[32m                \"symfony/process\": \"^6.4|^7.0\"\u001b[m\n",
      "\u001b[32m+\u001b[m\u001b[32m            },\u001b[m\n",
      "\u001b[32m+\u001b[m\u001b[32m            \"type\": \"library\",\u001b[m\n",
      "\u001b[32m+\u001b[m\u001b[32m            \"autoload\": {\u001b[m\n",
      "\u001b[32m+\u001b[m\u001b[32m                \"psr-4\": {\u001b[m\n",
      "\u001b[32m+\u001b[m\u001b[32m                    \"Symfony\\\\Component\\\\BrowserKit\\\\\": \"\"\u001b[m\n",
      "\u001b[32m+\u001b[m\u001b[32m                },\u001b[m\n",
      "\u001b[32m+\u001b[m\u001b[32m                \"exclude-from-classmap\": [\u001b[m\n",
      "\u001b[32m+\u001b[m\u001b[32m                    \"/Tests/\"\u001b[m\n",
      "\u001b[32m+\u001b[m\u001b[32m                ]\u001b[m\n",
      "\u001b[32m+\u001b[m\u001b[32m            },\u001b[m\n",
      "\u001b[32m+\u001b[m\u001b[32m            \"notification-url\": \"https://packagist.org/downloads/\",\u001b[m\n",
      "\u001b[32m+\u001b[m\u001b[32m            \"license\": [\u001b[m\n",
      "\u001b[32m+\u001b[m\u001b[32m                \"MIT\"\u001b[m\n",
      "\u001b[32m+\u001b[m\u001b[32m            ],\u001b[m\n",
      "\u001b[32m+\u001b[m\u001b[32m            \"authors\": [\u001b[m\n",
      "\u001b[32m+\u001b[m\u001b[32m                {\u001b[m\n",
      "\u001b[32m+\u001b[m\u001b[32m                    \"name\": \"Fabien Potencier\",\u001b[m\n",
      "\u001b[32m+\u001b[m\u001b[32m                    \"email\": \"fabien@symfony.com\"\u001b[m\n",
      "\u001b[32m+\u001b[m\u001b[32m                },\u001b[m\n",
      "\u001b[32m+\u001b[m\u001b[32m                {\u001b[m\n",
      "\u001b[32m+\u001b[m\u001b[32m                    \"name\": \"Symfony Community\",\u001b[m\n",
      "\u001b[32m+\u001b[m\u001b[32m                    \"homepage\": \"https://symfony.com/contributors\"\u001b[m\n",
      "\u001b[32m+\u001b[m\u001b[32m                }\u001b[m\n",
      "\u001b[32m+\u001b[m\u001b[32m            ],\u001b[m\n",
      "\u001b[32m+\u001b[m\u001b[32m            \"description\": \"Simulates the behavior of a web browser, allowing you to make requests, click on links and submit forms programmatically\",\u001b[m\n",
      "\u001b[32m+\u001b[m\u001b[32m            \"homepage\": \"https://symfony.com\",\u001b[m\n",
      "\u001b[32m+\u001b[m\u001b[32m            \"support\": {\u001b[m\n",
      "\u001b[32m+\u001b[m\u001b[32m                \"source\": \"https://github.com/symfony/browser-kit/tree/v7.0.7\"\u001b[m\n",
      "\u001b[32m+\u001b[m\u001b[32m            },\u001b[m\n",
      "\u001b[32m+\u001b[m\u001b[32m            \"funding\": [\u001b[m\n",
      "\u001b[32m+\u001b[m\u001b[32m                {\u001b[m\n",
      "\u001b[32m+\u001b[m\u001b[32m                    \"url\": \"https://symfony.com/sponsor\",\u001b[m\n",
      "\u001b[32m+\u001b[m\u001b[32m                    \"type\": \"custom\"\u001b[m\n",
      "\u001b[32m+\u001b[m\u001b[32m                },\u001b[m\n",
      "\u001b[32m+\u001b[m\u001b[32m                {\u001b[m\n",
      "\u001b[32m+\u001b[m\u001b[32m                    \"url\": \"https://github.com/fabpot\",\u001b[m\n",
      "\u001b[32m+\u001b[m\u001b[32m                    \"type\": \"github\"\u001b[m\n",
      "\u001b[32m+\u001b[m\u001b[32m                },\u001b[m\n",
      "\u001b[32m+\u001b[m\u001b[32m                {\u001b[m\n",
      "\u001b[32m+\u001b[m\u001b[32m                    \"url\": \"https://tidelift.com/funding/github/packagist/symfony/symfony\",\u001b[m\n",
      "\u001b[32m+\u001b[m\u001b[32m                    \"type\": \"tidelift\"\u001b[m\n",
      "\u001b[32m+\u001b[m\u001b[32m                }\u001b[m\n",
      "\u001b[32m+\u001b[m\u001b[32m            ],\u001b[m\n",
      "\u001b[32m+\u001b[m\u001b[32m            \"time\": \"2024-04-18T09:29:19+00:00\"\u001b[m\n",
      "\u001b[32m+\u001b[m\u001b[32m        },\u001b[m\n",
      "\u001b[32m+\u001b[m\u001b[32m        {\u001b[m\n",
      "\u001b[32m+\u001b[m\u001b[32m            \"name\": \"symfony/dom-crawler\",\u001b[m\n",
      "\u001b[32m+\u001b[m\u001b[32m            \"version\": \"v7.0.7\",\u001b[m\n",
      "\u001b[32m+\u001b[m\u001b[32m            \"source\": {\u001b[m\n",
      "\u001b[32m+\u001b[m\u001b[32m                \"type\": \"git\",\u001b[m\n",
      "\u001b[32m+\u001b[m\u001b[32m                \"url\": \"https://github.com/symfony/dom-crawler.git\",\u001b[m\n",
      "\u001b[32m+\u001b[m\u001b[32m                \"reference\": \"7cb4ae7166a8a36916be390dbb3819474fb06a29\"\u001b[m\n",
      "\u001b[32m+\u001b[m\u001b[32m            },\u001b[m\n",
      "\u001b[32m+\u001b[m\u001b[32m            \"dist\": {\u001b[m\n",
      "\u001b[32m+\u001b[m\u001b[32m                \"type\": \"zip\",\u001b[m\n",
      "\u001b[32m+\u001b[m\u001b[32m                \"url\": \"https://api.github.com/repos/symfony/dom-crawler/zipball/7cb4ae7166a8a36916be390dbb3819474fb06a29\",\u001b[m\n",
      "\u001b[32m+\u001b[m\u001b[32m                \"reference\": \"7cb4ae7166a8a36916be390dbb3819474fb06a29\",\u001b[m\n",
      "\u001b[32m+\u001b[m\u001b[32m                \"shasum\": \"\"\u001b[m\n",
      "\u001b[32m+\u001b[m\u001b[32m            },\u001b[m\n",
      "\u001b[32m+\u001b[m\u001b[32m            \"require\": {\u001b[m\n",
      "\u001b[32m+\u001b[m\u001b[32m                \"masterminds/html5\": \"^2.6\",\u001b[m\n",
      "\u001b[32m+\u001b[m\u001b[32m                \"php\": \">=8.2\",\u001b[m\n",
      "\u001b[32m+\u001b[m\u001b[32m                \"symfony/polyfill-ctype\": \"~1.8\",\u001b[m\n",
      "\u001b[32m+\u001b[m\u001b[32m                \"symfony/polyfill-mbstring\": \"~1.0\"\u001b[m\n",
      "\u001b[32m+\u001b[m\u001b[32m            },\u001b[m\n",
      "\u001b[32m+\u001b[m\u001b[32m            \"require-dev\": {\u001b[m\n",
      "\u001b[32m+\u001b[m\u001b[32m                \"symfony/css-selector\": \"^6.4|^7.0\"\u001b[m\n",
      "\u001b[32m+\u001b[m\u001b[32m            },\u001b[m\n",
      "\u001b[32m+\u001b[m\u001b[32m            \"type\": \"library\",\u001b[m\n",
      "\u001b[32m+\u001b[m\u001b[32m            \"autoload\": {\u001b[m\n",
      "\u001b[32m+\u001b[m\u001b[32m                \"psr-4\": {\u001b[m\n",
      "\u001b[32m+\u001b[m\u001b[32m                    \"Symfony\\\\Component\\\\DomCrawler\\\\\": \"\"\u001b[m\n",
      "\u001b[32m+\u001b[m\u001b[32m                },\u001b[m\n",
      "\u001b[32m+\u001b[m\u001b[32m                \"exclude-from-classmap\": [\u001b[m\n",
      "\u001b[32m+\u001b[m\u001b[32m                    \"/Tests/\"\u001b[m\n",
      "\u001b[32m+\u001b[m\u001b[32m                ]\u001b[m\n",
      "\u001b[32m+\u001b[m\u001b[32m            },\u001b[m\n",
      "\u001b[32m+\u001b[m\u001b[32m            \"notification-url\": \"https://packagist.org/downloads/\",\u001b[m\n",
      "\u001b[32m+\u001b[m\u001b[32m            \"license\": [\u001b[m\n",
      "\u001b[32m+\u001b[m\u001b[32m                \"MIT\"\u001b[m\n",
      "\u001b[32m+\u001b[m\u001b[32m            ],\u001b[m\n",
      "\u001b[32m+\u001b[m\u001b[32m            \"authors\": [\u001b[m\n",
      "\u001b[32m+\u001b[m\u001b[32m                {\u001b[m\n",
      "\u001b[32m+\u001b[m\u001b[32m                    \"name\": \"Fabien Potencier\",\u001b[m\n",
      "\u001b[32m+\u001b[m\u001b[32m                    \"email\": \"fabien@symfony.com\"\u001b[m\n",
      "\u001b[32m+\u001b[m\u001b[32m                },\u001b[m\n",
      "\u001b[32m+\u001b[m\u001b[32m                {\u001b[m\n",
      "\u001b[32m+\u001b[m\u001b[32m                    \"name\": \"Symfony Community\",\u001b[m\n",
      "\u001b[32m+\u001b[m\u001b[32m                    \"homepage\": \"https://symfony.com/contributors\"\u001b[m\n",
      "\u001b[32m+\u001b[m\u001b[32m                }\u001b[m\n",
      "\u001b[32m+\u001b[m\u001b[32m            ],\u001b[m\n",
      "\u001b[32m+\u001b[m\u001b[32m            \"description\": \"Eases DOM navigation for HTML and XML documents\",\u001b[m\n",
      "\u001b[32m+\u001b[m\u001b[32m            \"homepage\": \"https://symfony.com\",\u001b[m\n",
      "\u001b[32m+\u001b[m\u001b[32m            \"support\": {\u001b[m\n",
      "\u001b[32m+\u001b[m\u001b[32m                \"source\": \"https://github.com/symfony/dom-crawler/tree/v7.0.7\"\u001b[m\n",
      "\u001b[32m+\u001b[m\u001b[32m            },\u001b[m\n",
      "\u001b[32m+\u001b[m\u001b[32m            \"funding\": [\u001b[m\n",
      "\u001b[32m+\u001b[m\u001b[32m                {\u001b[m\n",
      "\u001b[32m+\u001b[m\u001b[32m                    \"url\": \"https://symfony.com/sponsor\",\u001b[m\n",
      "\u001b[32m+\u001b[m\u001b[32m                    \"type\": \"custom\"\u001b[m\n",
      "\u001b[32m+\u001b[m\u001b[32m                },\u001b[m\n",
      "\u001b[32m+\u001b[m\u001b[32m                {\u001b[m\n",
      "\u001b[32m+\u001b[m\u001b[32m                    \"url\": \"https://github.com/fabpot\",\u001b[m\n",
      "\u001b[32m+\u001b[m\u001b[32m                    \"type\": \"github\"\u001b[m\n",
      "\u001b[32m+\u001b[m\u001b[32m                },\u001b[m\n",
      "\u001b[32m+\u001b[m\u001b[32m                {\u001b[m\n",
      "\u001b[32m+\u001b[m\u001b[32m                    \"url\": \"https://tidelift.com/funding/github/packagist/symfony/symfony\",\u001b[m\n",
      "\u001b[32m+\u001b[m\u001b[32m                    \"type\": \"tidelift\"\u001b[m\n",
      "\u001b[32m+\u001b[m\u001b[32m                }\u001b[m\n",
      "\u001b[32m+\u001b[m\u001b[32m            ],\u001b[m\n",
      "\u001b[32m+\u001b[m\u001b[32m            \"time\": \"2024-04-18T09:29:19+00:00\"\u001b[m\n",
      "\u001b[32m+\u001b[m\u001b[32m        },\u001b[m\n",
      "         {\u001b[m\n",
      "             \"name\": \"symfony/yaml\",\u001b[m\n",
      "             \"version\": \"v7.0.7\",\u001b[m\n"
     ]
    }
   ],
   "source": [
    "! git diff ."
   ]
  },
  {
   "cell_type": "code",
   "execution_count": 50,
   "metadata": {},
   "outputs": [
    {
     "name": "stdout",
     "output_type": "stream",
     "text": [
      "On branch master\n",
      "Your branch is up to date with 'origin/master'.\n",
      "\n",
      "Changes to be committed:\n",
      "  (use \"git restore --staged <file>...\" to unstage)\n",
      "\t\u001b[32mnew file:   .editorconfig\u001b[m\n",
      "\t\u001b[32mnew file:   .env.example\u001b[m\n",
      "\t\u001b[32mnew file:   .gitattributes\u001b[m\n",
      "\t\u001b[32mnew file:   .gitignore\u001b[m\n",
      "\t\u001b[32mnew file:   README.md\u001b[m\n",
      "\t\u001b[32mnew file:   app/Http/Controllers/Controller.php\u001b[m\n",
      "\t\u001b[32mnew file:   app/Models/User.php\u001b[m\n",
      "\t\u001b[32mnew file:   app/Providers/AppServiceProvider.php\u001b[m\n",
      "\t\u001b[32mnew file:   artisan\u001b[m\n",
      "\t\u001b[32mnew file:   bootstrap/app.php\u001b[m\n",
      "\t\u001b[32mnew file:   bootstrap/cache/.gitignore\u001b[m\n",
      "\t\u001b[32mnew file:   bootstrap/providers.php\u001b[m\n",
      "\t\u001b[32mnew file:   composer.json\u001b[m\n",
      "\t\u001b[32mnew file:   composer.lock\u001b[m\n",
      "\t\u001b[32mnew file:   config/app.php\u001b[m\n",
      "\t\u001b[32mnew file:   config/auth.php\u001b[m\n",
      "\t\u001b[32mnew file:   config/cache.php\u001b[m\n",
      "\t\u001b[32mnew file:   config/database.php\u001b[m\n",
      "\t\u001b[32mnew file:   config/filesystems.php\u001b[m\n",
      "\t\u001b[32mnew file:   config/logging.php\u001b[m\n",
      "\t\u001b[32mnew file:   config/mail.php\u001b[m\n",
      "\t\u001b[32mnew file:   config/queue.php\u001b[m\n",
      "\t\u001b[32mnew file:   config/services.php\u001b[m\n",
      "\t\u001b[32mnew file:   config/session.php\u001b[m\n",
      "\t\u001b[32mnew file:   database/.gitignore\u001b[m\n",
      "\t\u001b[32mnew file:   database/factories/UserFactory.php\u001b[m\n",
      "\t\u001b[32mnew file:   database/migrations/0001_01_01_000000_create_users_table.php\u001b[m\n",
      "\t\u001b[32mnew file:   database/migrations/0001_01_01_000001_create_cache_table.php\u001b[m\n",
      "\t\u001b[32mnew file:   database/migrations/0001_01_01_000002_create_jobs_table.php\u001b[m\n",
      "\t\u001b[32mnew file:   database/seeders/DatabaseSeeder.php\u001b[m\n",
      "\t\u001b[32mnew file:   package.json\u001b[m\n",
      "\t\u001b[32mnew file:   phpunit.xml\u001b[m\n",
      "\t\u001b[32mnew file:   public/.htaccess\u001b[m\n",
      "\t\u001b[32mnew file:   public/favicon.ico\u001b[m\n",
      "\t\u001b[32mnew file:   public/index.php\u001b[m\n",
      "\t\u001b[32mnew file:   public/robots.txt\u001b[m\n",
      "\t\u001b[32mnew file:   resources/css/app.css\u001b[m\n",
      "\t\u001b[32mnew file:   resources/js/app.js\u001b[m\n",
      "\t\u001b[32mnew file:   resources/js/bootstrap.js\u001b[m\n",
      "\t\u001b[32mnew file:   resources/views/welcome.blade.php\u001b[m\n",
      "\t\u001b[32mnew file:   routes/console.php\u001b[m\n",
      "\t\u001b[32mnew file:   routes/web.php\u001b[m\n",
      "\t\u001b[32mnew file:   storage/app/.gitignore\u001b[m\n",
      "\t\u001b[32mnew file:   storage/app/public/.gitignore\u001b[m\n",
      "\t\u001b[32mnew file:   storage/framework/.gitignore\u001b[m\n",
      "\t\u001b[32mnew file:   storage/framework/cache/.gitignore\u001b[m\n",
      "\t\u001b[32mnew file:   storage/framework/cache/data/.gitignore\u001b[m\n",
      "\t\u001b[32mnew file:   storage/framework/sessions/.gitignore\u001b[m\n",
      "\t\u001b[32mnew file:   storage/framework/testing/.gitignore\u001b[m\n",
      "\t\u001b[32mnew file:   storage/framework/views/.gitignore\u001b[m\n",
      "\t\u001b[32mnew file:   storage/logs/.gitignore\u001b[m\n",
      "\t\u001b[32mnew file:   tests/Feature/ExampleTest.php\u001b[m\n",
      "\t\u001b[32mnew file:   tests/TestCase.php\u001b[m\n",
      "\t\u001b[32mnew file:   tests/Unit/ExampleTest.php\u001b[m\n",
      "\t\u001b[32mnew file:   vite.config.js\u001b[m\n",
      "\n",
      "Changes not staged for commit:\n",
      "  (use \"git add <file>...\" to update what will be committed)\n",
      "  (use \"git restore <file>...\" to discard changes in working directory)\n",
      "\t\u001b[31mmodified:   composer.json\u001b[m\n",
      "\t\u001b[31mmodified:   composer.lock\u001b[m\n",
      "\n",
      "Untracked files:\n",
      "  (use \"git add <file>...\" to include in what will be committed)\n",
      "\t\u001b[31mcodeception.yml\u001b[m\n",
      "\t\u001b[31mtests_codeception/\u001b[m\n",
      "\n"
     ]
    }
   ],
   "source": [
    "! git status ."
   ]
  },
  {
   "cell_type": "code",
   "execution_count": 51,
   "metadata": {},
   "outputs": [],
   "source": [
    "! git add ."
   ]
  },
  {
   "cell_type": "markdown",
   "metadata": {},
   "source": [
    "#### MySQL Database"
   ]
  },
  {
   "cell_type": "markdown",
   "metadata": {},
   "source": [
    "Start database:"
   ]
  },
  {
   "cell_type": "code",
   "execution_count": 52,
   "metadata": {},
   "outputs": [
    {
     "name": "stdout",
     "output_type": "stream",
     "text": [
      "04c8d1225c494ea90635230e374e5a73debc289b35629ea09f07eebd7c07aafe\n"
     ]
    }
   ],
   "source": [
    "! docker run --name=mysql --net=host --rm --env MYSQL_ROOT_PASSWORD=root123 --env MYSQL_ROOT_HOST=% --env MYSQL_DATABASE=test --env MYSQL_USER=test --env MYSQL_PASSWORD=test123 -d mysql/mysql-server:8.0"
   ]
  },
  {
   "cell_type": "code",
   "execution_count": 53,
   "metadata": {},
   "outputs": [
    {
     "name": "stdout",
     "output_type": "stream",
     "text": [
      "Done.\n"
     ]
    }
   ],
   "source": [
    "! while ! timeout 1 bash -c \"echo > /dev/tcp/localhost/3306\" 2> /dev/null; do sleep 1; done; echo \"Done.\";"
   ]
  },
  {
   "cell_type": "markdown",
   "metadata": {},
   "source": [
    "Try migrating the databse:"
   ]
  },
  {
   "cell_type": "code",
   "execution_count": 54,
   "metadata": {},
   "outputs": [
    {
     "name": "stdout",
     "output_type": "stream",
     "text": [
      "\n",
      "  \u001b[37;44m INFO \u001b[39;49m Nothing to migrate.  \n",
      "\n"
     ]
    }
   ],
   "source": [
    "! php artisan migrate"
   ]
  },
  {
   "cell_type": "markdown",
   "metadata": {},
   "source": [
    "It will say that there is nothing to migrate because we are using the SQLite now. Let us change this."
   ]
  },
  {
   "cell_type": "markdown",
   "metadata": {},
   "source": [
    "Edit the ```.env``` file from command line, and replace:\n",
    "\n",
    "```\n",
    "DB_CONNECTION=sqlite\n",
    "# DB_HOST=127.0.0.1\n",
    "# DB_PORT=3306\n",
    "# DB_DATABASE=laravel\n",
    "# DB_USERNAME=root\n",
    "# DB_PASSWORD=\n",
    "```\n",
    "\n",
    "by\n",
    "\n",
    "```\n",
    "DB_CONNECTION=mysql\n",
    "DB_HOST=127.0.0.1\n",
    "DB_PORT=3306\n",
    "DB_DATABASE=test\n",
    "DB_USERNAME=test\n",
    "DB_PASSWORD=test123\n",
    "```"
   ]
  },
  {
   "cell_type": "code",
   "execution_count": 55,
   "metadata": {},
   "outputs": [],
   "source": [
    "! sed -i 's/DB_CONNECTION=sqlite/DB_CONNECTION=mysql/' .env"
   ]
  },
  {
   "cell_type": "code",
   "execution_count": 56,
   "metadata": {},
   "outputs": [],
   "source": [
    "! sed -i 's/# DB_HOST=127.0.0.1/DB_HOST=127.0.0.1/' .env"
   ]
  },
  {
   "cell_type": "code",
   "execution_count": 57,
   "metadata": {},
   "outputs": [],
   "source": [
    "! sed -i 's/# DB_PORT=3306/DB_PORT=3306/' .env"
   ]
  },
  {
   "cell_type": "code",
   "execution_count": 58,
   "metadata": {},
   "outputs": [],
   "source": [
    "! sed -i 's/# DB_DATABASE=laravel/DB_DATABASE=test/' .env"
   ]
  },
  {
   "cell_type": "code",
   "execution_count": 59,
   "metadata": {},
   "outputs": [],
   "source": [
    "! sed -i 's/# DB_USERNAME=root/DB_USERNAME=test/' .env"
   ]
  },
  {
   "cell_type": "code",
   "execution_count": 60,
   "metadata": {},
   "outputs": [],
   "source": [
    "! sed -i 's/# DB_PASSWORD=/DB_PASSWORD=test123/' .env"
   ]
  },
  {
   "cell_type": "code",
   "execution_count": 61,
   "metadata": {},
   "outputs": [
    {
     "name": "stdout",
     "output_type": "stream",
     "text": [
      "\n",
      "  \u001b[37;44m INFO \u001b[39;49m Preparing database.  \n",
      "\n",
      "  Creating migration table \u001b[90m.\u001b[39m\u001b[90m.\u001b[39m\u001b[90m.\u001b[39m\u001b[90m.\u001b[39m\u001b[90m.\u001b[39m\u001b[90m.\u001b[39m\u001b[90m.\u001b[39m\u001b[90m.\u001b[39m\u001b[90m.\u001b[39m\u001b[90m.\u001b[39m\u001b[90m.\u001b[39m\u001b[90m.\u001b[39m\u001b[90m.\u001b[39m\u001b[90m.\u001b[39m\u001b[90m.\u001b[39m\u001b[90m.\u001b[39m\u001b[90m.\u001b[39m\u001b[90m.\u001b[39m\u001b[90m.\u001b[39m\u001b[90m.\u001b[39m\u001b[90m.\u001b[39m\u001b[90m.\u001b[39m\u001b[90m.\u001b[39m\u001b[90m.\u001b[39m\u001b[90m.\u001b[39m\u001b[90m.\u001b[39m\u001b[90m.\u001b[39m\u001b[90m.\u001b[39m\u001b[90m.\u001b[39m\u001b[90m.\u001b[39m\u001b[90m.\u001b[39m\u001b[90m.\u001b[39m\u001b[90m.\u001b[39m\u001b[90m.\u001b[39m\u001b[90m.\u001b[39m\u001b[90m.\u001b[39m\u001b[90m.\u001b[39m\u001b[90m.\u001b[39m\u001b[90m 91.34ms\u001b[39m \u001b[32;1mDONE\u001b[39;22m\n",
      "\n",
      "  \u001b[37;44m INFO \u001b[39;49m Running migrations.  \n",
      "\n",
      "  0001_01_01_000000_create_users_table \u001b[90m.\u001b[39m\u001b[90m.\u001b[39m\u001b[90m.\u001b[39m\u001b[90m.\u001b[39m\u001b[90m.\u001b[39m\u001b[90m.\u001b[39m\u001b[90m.\u001b[39m\u001b[90m.\u001b[39m\u001b[90m.\u001b[39m\u001b[90m.\u001b[39m\u001b[90m.\u001b[39m\u001b[90m.\u001b[39m\u001b[90m.\u001b[39m\u001b[90m.\u001b[39m\u001b[90m.\u001b[39m\u001b[90m.\u001b[39m\u001b[90m.\u001b[39m\u001b[90m.\u001b[39m\u001b[90m.\u001b[39m\u001b[90m.\u001b[39m\u001b[90m.\u001b[39m\u001b[90m.\u001b[39m\u001b[90m.\u001b[39m\u001b[90m.\u001b[39m\u001b[90m.\u001b[39m\u001b[90m 453.73ms\u001b[39m \u001b[32;1mDONE\u001b[39;22m\n",
      "  0001_01_01_000001_create_cache_table \u001b[90m.\u001b[39m\u001b[90m.\u001b[39m\u001b[90m.\u001b[39m\u001b[90m.\u001b[39m\u001b[90m.\u001b[39m\u001b[90m.\u001b[39m\u001b[90m.\u001b[39m\u001b[90m.\u001b[39m\u001b[90m.\u001b[39m\u001b[90m.\u001b[39m\u001b[90m.\u001b[39m\u001b[90m.\u001b[39m\u001b[90m.\u001b[39m\u001b[90m.\u001b[39m\u001b[90m.\u001b[39m\u001b[90m.\u001b[39m\u001b[90m.\u001b[39m\u001b[90m.\u001b[39m\u001b[90m.\u001b[39m\u001b[90m.\u001b[39m\u001b[90m.\u001b[39m\u001b[90m.\u001b[39m\u001b[90m.\u001b[39m\u001b[90m.\u001b[39m\u001b[90m.\u001b[39m\u001b[90m 209.35ms\u001b[39m \u001b[32;1mDONE\u001b[39;22m\n",
      "  0001_01_01_000002_create_jobs_table \u001b[90m.\u001b[39m\u001b[90m.\u001b[39m\u001b[90m.\u001b[39m\u001b[90m.\u001b[39m\u001b[90m.\u001b[39m\u001b[90m.\u001b[39m\u001b[90m.\u001b[39m\u001b[90m.\u001b[39m\u001b[90m.\u001b[39m\u001b[90m.\u001b[39m\u001b[90m.\u001b[39m\u001b[90m.\u001b[39m\u001b[90m.\u001b[39m\u001b[90m.\u001b[39m\u001b[90m.\u001b[39m\u001b[90m.\u001b[39m\u001b[90m.\u001b[39m\u001b[90m.\u001b[39m\u001b[90m.\u001b[39m\u001b[90m.\u001b[39m\u001b[90m.\u001b[39m\u001b[90m.\u001b[39m\u001b[90m.\u001b[39m\u001b[90m.\u001b[39m\u001b[90m.\u001b[39m\u001b[90m.\u001b[39m\u001b[90m 732.19ms\u001b[39m \u001b[32;1mDONE\u001b[39;22m\n",
      "\n"
     ]
    }
   ],
   "source": [
    "! php artisan migrate"
   ]
  },
  {
   "cell_type": "markdown",
   "metadata": {},
   "source": [
    "You also need to edit the ```.env.example``` to have the test database credentails set after clean checkout or in the Bitbucket Pipelines. It is safe to store the dummy test database credentials, but it is not safe to store the production database credentials. We will never store in the ```.env.example``` any credentials for the production services."
   ]
  },
  {
   "cell_type": "code",
   "execution_count": 62,
   "metadata": {},
   "outputs": [],
   "source": [
    "! sed -i 's/DB_CONNECTION=sqlite/DB_CONNECTION=mysql/' .env.example"
   ]
  },
  {
   "cell_type": "code",
   "execution_count": 63,
   "metadata": {},
   "outputs": [],
   "source": [
    "! sed -i 's/# DB_HOST=127.0.0.1/DB_HOST=127.0.0.1/' .env.example"
   ]
  },
  {
   "cell_type": "code",
   "execution_count": 64,
   "metadata": {},
   "outputs": [],
   "source": [
    "! sed -i 's/# DB_PORT=3306/DB_PORT=3306/' .env.example"
   ]
  },
  {
   "cell_type": "code",
   "execution_count": 65,
   "metadata": {},
   "outputs": [],
   "source": [
    "! sed -i 's/# DB_DATABASE=laravel/DB_DATABASE=test/' .env.example"
   ]
  },
  {
   "cell_type": "code",
   "execution_count": 66,
   "metadata": {},
   "outputs": [],
   "source": [
    "! sed -i 's/# DB_USERNAME=root/DB_USERNAME=test/' .env.example"
   ]
  },
  {
   "cell_type": "code",
   "execution_count": 67,
   "metadata": {},
   "outputs": [],
   "source": [
    "! sed -i 's/# DB_PASSWORD=/DB_PASSWORD=test123/' .env.example"
   ]
  },
  {
   "cell_type": "markdown",
   "metadata": {},
   "source": [
    "#### Codeception + Database"
   ]
  },
  {
   "cell_type": "code",
   "execution_count": 68,
   "metadata": {},
   "outputs": [
    {
     "name": "stdout",
     "output_type": "stream",
     "text": [
      "\u001b[32m./composer.json has been updated\u001b[39m\n",
      "\u001b[32mRunning composer update codeception/module-db\u001b[39m\n",
      "\u001b[32mLoading composer repositories with package information\u001b[39m\n",
      "\u001b[32mUpdating dependencies\u001b[39m\n",
      "\u001b[32mLock file operations: 1 install, 0 updates, 0 removals\u001b[39m\n",
      "  - Locking \u001b[32mcodeception/module-db\u001b[39m (\u001b[33m3.1.4\u001b[39m)\n",
      "\u001b[32mWriting lock file\u001b[39m\n",
      "\u001b[32mInstalling dependencies from lock file (including require-dev)\u001b[39m\n",
      "\u001b[32mPackage operations: 1 install, 0 updates, 0 removals\u001b[39m\n",
      "  - Downloading \u001b[32mcodeception/module-db\u001b[39m (\u001b[33m3.1.4\u001b[39m)\n",
      "  - Installing \u001b[32mcodeception/module-db\u001b[39m (\u001b[33m3.1.4\u001b[39m): Extracting archive\n",
      "\u001b[32mGenerating optimized autoload files\u001b[39m\n",
      "> Illuminate\\Foundation\\ComposerScripts::postAutoloadDump\n",
      "> @php artisan package:discover --ansi\n",
      "\n",
      "  \u001b[37;44m INFO \u001b[39;49m Discovering packages.  \n",
      "\n",
      "  laravel/sail \u001b[90m.\u001b[39m\u001b[90m.\u001b[39m\u001b[90m.\u001b[39m\u001b[90m.\u001b[39m\u001b[90m.\u001b[39m\u001b[90m.\u001b[39m\u001b[90m.\u001b[39m\u001b[90m.\u001b[39m\u001b[90m.\u001b[39m\u001b[90m.\u001b[39m\u001b[90m.\u001b[39m\u001b[90m.\u001b[39m\u001b[90m.\u001b[39m\u001b[90m.\u001b[39m\u001b[90m.\u001b[39m\u001b[90m.\u001b[39m\u001b[90m.\u001b[39m\u001b[90m.\u001b[39m\u001b[90m.\u001b[39m\u001b[90m.\u001b[39m\u001b[90m.\u001b[39m\u001b[90m.\u001b[39m\u001b[90m.\u001b[39m\u001b[90m.\u001b[39m\u001b[90m.\u001b[39m\u001b[90m.\u001b[39m\u001b[90m.\u001b[39m\u001b[90m.\u001b[39m\u001b[90m.\u001b[39m\u001b[90m.\u001b[39m\u001b[90m.\u001b[39m\u001b[90m.\u001b[39m\u001b[90m.\u001b[39m\u001b[90m.\u001b[39m\u001b[90m.\u001b[39m\u001b[90m.\u001b[39m\u001b[90m.\u001b[39m\u001b[90m.\u001b[39m\u001b[90m.\u001b[39m\u001b[90m.\u001b[39m\u001b[90m.\u001b[39m\u001b[90m.\u001b[39m\u001b[90m.\u001b[39m\u001b[90m.\u001b[39m\u001b[90m.\u001b[39m\u001b[90m.\u001b[39m\u001b[90m.\u001b[39m\u001b[90m.\u001b[39m\u001b[90m.\u001b[39m\u001b[90m.\u001b[39m\u001b[90m.\u001b[39m\u001b[90m.\u001b[39m\u001b[90m.\u001b[39m\u001b[90m.\u001b[39m\u001b[90m.\u001b[39m\u001b[90m.\u001b[39m\u001b[90m.\u001b[39m\u001b[90m.\u001b[39m \u001b[32;1mDONE\u001b[39;22m\n",
      "  laravel/tinker \u001b[90m.\u001b[39m\u001b[90m.\u001b[39m\u001b[90m.\u001b[39m\u001b[90m.\u001b[39m\u001b[90m.\u001b[39m\u001b[90m.\u001b[39m\u001b[90m.\u001b[39m\u001b[90m.\u001b[39m\u001b[90m.\u001b[39m\u001b[90m.\u001b[39m\u001b[90m.\u001b[39m\u001b[90m.\u001b[39m\u001b[90m.\u001b[39m\u001b[90m.\u001b[39m\u001b[90m.\u001b[39m\u001b[90m.\u001b[39m\u001b[90m.\u001b[39m\u001b[90m.\u001b[39m\u001b[90m.\u001b[39m\u001b[90m.\u001b[39m\u001b[90m.\u001b[39m\u001b[90m.\u001b[39m\u001b[90m.\u001b[39m\u001b[90m.\u001b[39m\u001b[90m.\u001b[39m\u001b[90m.\u001b[39m\u001b[90m.\u001b[39m\u001b[90m.\u001b[39m\u001b[90m.\u001b[39m\u001b[90m.\u001b[39m\u001b[90m.\u001b[39m\u001b[90m.\u001b[39m\u001b[90m.\u001b[39m\u001b[90m.\u001b[39m\u001b[90m.\u001b[39m\u001b[90m.\u001b[39m\u001b[90m.\u001b[39m\u001b[90m.\u001b[39m\u001b[90m.\u001b[39m\u001b[90m.\u001b[39m\u001b[90m.\u001b[39m\u001b[90m.\u001b[39m\u001b[90m.\u001b[39m\u001b[90m.\u001b[39m\u001b[90m.\u001b[39m\u001b[90m.\u001b[39m\u001b[90m.\u001b[39m\u001b[90m.\u001b[39m\u001b[90m.\u001b[39m\u001b[90m.\u001b[39m\u001b[90m.\u001b[39m\u001b[90m.\u001b[39m\u001b[90m.\u001b[39m\u001b[90m.\u001b[39m\u001b[90m.\u001b[39m\u001b[90m.\u001b[39m \u001b[32;1mDONE\u001b[39;22m\n",
      "  nesbot/carbon \u001b[90m.\u001b[39m\u001b[90m.\u001b[39m\u001b[90m.\u001b[39m\u001b[90m.\u001b[39m\u001b[90m.\u001b[39m\u001b[90m.\u001b[39m\u001b[90m.\u001b[39m\u001b[90m.\u001b[39m\u001b[90m.\u001b[39m\u001b[90m.\u001b[39m\u001b[90m.\u001b[39m\u001b[90m.\u001b[39m\u001b[90m.\u001b[39m\u001b[90m.\u001b[39m\u001b[90m.\u001b[39m\u001b[90m.\u001b[39m\u001b[90m.\u001b[39m\u001b[90m.\u001b[39m\u001b[90m.\u001b[39m\u001b[90m.\u001b[39m\u001b[90m.\u001b[39m\u001b[90m.\u001b[39m\u001b[90m.\u001b[39m\u001b[90m.\u001b[39m\u001b[90m.\u001b[39m\u001b[90m.\u001b[39m\u001b[90m.\u001b[39m\u001b[90m.\u001b[39m\u001b[90m.\u001b[39m\u001b[90m.\u001b[39m\u001b[90m.\u001b[39m\u001b[90m.\u001b[39m\u001b[90m.\u001b[39m\u001b[90m.\u001b[39m\u001b[90m.\u001b[39m\u001b[90m.\u001b[39m\u001b[90m.\u001b[39m\u001b[90m.\u001b[39m\u001b[90m.\u001b[39m\u001b[90m.\u001b[39m\u001b[90m.\u001b[39m\u001b[90m.\u001b[39m\u001b[90m.\u001b[39m\u001b[90m.\u001b[39m\u001b[90m.\u001b[39m\u001b[90m.\u001b[39m\u001b[90m.\u001b[39m\u001b[90m.\u001b[39m\u001b[90m.\u001b[39m\u001b[90m.\u001b[39m\u001b[90m.\u001b[39m\u001b[90m.\u001b[39m\u001b[90m.\u001b[39m\u001b[90m.\u001b[39m\u001b[90m.\u001b[39m\u001b[90m.\u001b[39m\u001b[90m.\u001b[39m \u001b[32;1mDONE\u001b[39;22m\n",
      "  nunomaduro/collision \u001b[90m.\u001b[39m\u001b[90m.\u001b[39m\u001b[90m.\u001b[39m\u001b[90m.\u001b[39m\u001b[90m.\u001b[39m\u001b[90m.\u001b[39m\u001b[90m.\u001b[39m\u001b[90m.\u001b[39m\u001b[90m.\u001b[39m\u001b[90m.\u001b[39m\u001b[90m.\u001b[39m\u001b[90m.\u001b[39m\u001b[90m.\u001b[39m\u001b[90m.\u001b[39m\u001b[90m.\u001b[39m\u001b[90m.\u001b[39m\u001b[90m.\u001b[39m\u001b[90m.\u001b[39m\u001b[90m.\u001b[39m\u001b[90m.\u001b[39m\u001b[90m.\u001b[39m\u001b[90m.\u001b[39m\u001b[90m.\u001b[39m\u001b[90m.\u001b[39m\u001b[90m.\u001b[39m\u001b[90m.\u001b[39m\u001b[90m.\u001b[39m\u001b[90m.\u001b[39m\u001b[90m.\u001b[39m\u001b[90m.\u001b[39m\u001b[90m.\u001b[39m\u001b[90m.\u001b[39m\u001b[90m.\u001b[39m\u001b[90m.\u001b[39m\u001b[90m.\u001b[39m\u001b[90m.\u001b[39m\u001b[90m.\u001b[39m\u001b[90m.\u001b[39m\u001b[90m.\u001b[39m\u001b[90m.\u001b[39m\u001b[90m.\u001b[39m\u001b[90m.\u001b[39m\u001b[90m.\u001b[39m\u001b[90m.\u001b[39m\u001b[90m.\u001b[39m\u001b[90m.\u001b[39m\u001b[90m.\u001b[39m\u001b[90m.\u001b[39m\u001b[90m.\u001b[39m\u001b[90m.\u001b[39m \u001b[32;1mDONE\u001b[39;22m\n",
      "  nunomaduro/termwind \u001b[90m.\u001b[39m\u001b[90m.\u001b[39m\u001b[90m.\u001b[39m\u001b[90m.\u001b[39m\u001b[90m.\u001b[39m\u001b[90m.\u001b[39m\u001b[90m.\u001b[39m\u001b[90m.\u001b[39m\u001b[90m.\u001b[39m\u001b[90m.\u001b[39m\u001b[90m.\u001b[39m\u001b[90m.\u001b[39m\u001b[90m.\u001b[39m\u001b[90m.\u001b[39m\u001b[90m.\u001b[39m\u001b[90m.\u001b[39m\u001b[90m.\u001b[39m\u001b[90m.\u001b[39m\u001b[90m.\u001b[39m\u001b[90m.\u001b[39m\u001b[90m.\u001b[39m\u001b[90m.\u001b[39m\u001b[90m.\u001b[39m\u001b[90m.\u001b[39m\u001b[90m.\u001b[39m\u001b[90m.\u001b[39m\u001b[90m.\u001b[39m\u001b[90m.\u001b[39m\u001b[90m.\u001b[39m\u001b[90m.\u001b[39m\u001b[90m.\u001b[39m\u001b[90m.\u001b[39m\u001b[90m.\u001b[39m\u001b[90m.\u001b[39m\u001b[90m.\u001b[39m\u001b[90m.\u001b[39m\u001b[90m.\u001b[39m\u001b[90m.\u001b[39m\u001b[90m.\u001b[39m\u001b[90m.\u001b[39m\u001b[90m.\u001b[39m\u001b[90m.\u001b[39m\u001b[90m.\u001b[39m\u001b[90m.\u001b[39m\u001b[90m.\u001b[39m\u001b[90m.\u001b[39m\u001b[90m.\u001b[39m\u001b[90m.\u001b[39m\u001b[90m.\u001b[39m\u001b[90m.\u001b[39m\u001b[90m.\u001b[39m \u001b[32;1mDONE\u001b[39;22m\n",
      "  spatie/laravel-ignition \u001b[90m.\u001b[39m\u001b[90m.\u001b[39m\u001b[90m.\u001b[39m\u001b[90m.\u001b[39m\u001b[90m.\u001b[39m\u001b[90m.\u001b[39m\u001b[90m.\u001b[39m\u001b[90m.\u001b[39m\u001b[90m.\u001b[39m\u001b[90m.\u001b[39m\u001b[90m.\u001b[39m\u001b[90m.\u001b[39m\u001b[90m.\u001b[39m\u001b[90m.\u001b[39m\u001b[90m.\u001b[39m\u001b[90m.\u001b[39m\u001b[90m.\u001b[39m\u001b[90m.\u001b[39m\u001b[90m.\u001b[39m\u001b[90m.\u001b[39m\u001b[90m.\u001b[39m\u001b[90m.\u001b[39m\u001b[90m.\u001b[39m\u001b[90m.\u001b[39m\u001b[90m.\u001b[39m\u001b[90m.\u001b[39m\u001b[90m.\u001b[39m\u001b[90m.\u001b[39m\u001b[90m.\u001b[39m\u001b[90m.\u001b[39m\u001b[90m.\u001b[39m\u001b[90m.\u001b[39m\u001b[90m.\u001b[39m\u001b[90m.\u001b[39m\u001b[90m.\u001b[39m\u001b[90m.\u001b[39m\u001b[90m.\u001b[39m\u001b[90m.\u001b[39m\u001b[90m.\u001b[39m\u001b[90m.\u001b[39m\u001b[90m.\u001b[39m\u001b[90m.\u001b[39m\u001b[90m.\u001b[39m\u001b[90m.\u001b[39m\u001b[90m.\u001b[39m\u001b[90m.\u001b[39m\u001b[90m.\u001b[39m \u001b[32;1mDONE\u001b[39;22m\n",
      "\n",
      "\u001b[32m88 packages you are using are looking for funding.\u001b[39m\n",
      "\u001b[32mUse the `composer fund` command to find out more!\u001b[39m\n",
      "> @php artisan vendor:publish --tag=laravel-assets --ansi --force\n",
      "\n",
      "  \u001b[37;44m INFO \u001b[39;49m No publishable resources for tag \u001b[1m[laravel-assets]\u001b[22m.  \n",
      "\n",
      "\u001b[32mNo security vulnerability advisories found.\u001b[39m\n",
      "Using version \u001b[32m^3.1\u001b[39m for \u001b[32mcodeception/module-db\u001b[39m\n"
     ]
    }
   ],
   "source": [
    "! composer require codeception/module-db --dev"
   ]
  },
  {
   "cell_type": "markdown",
   "metadata": {},
   "source": [
    "To connect to the database from tests, open the [tests_codeception/Acceptance.suite.yml](/edit/08_laravel/01_tutorial/project/tests_codeception/Acceptance.suite.yml) and add\n",
    "\n",
    "```yml\n",
    "modules:\n",
    "    enabled:\n",
    "        - Db:\n",
    "            dsn: 'mysql:host=127.0.0.1;dbname=test'\n",
    "            user: 'test'\n",
    "            password: 'test123'\n",
    "```"
   ]
  },
  {
   "cell_type": "markdown",
   "metadata": {},
   "source": [
    "Edit code in [tests_codeception/Acceptance/HomepageCest.php](/edit/08_laravel/01_tutorial/project/tests_codeception/Acceptance/HomepageCest.php) and add below code at the end:\n",
    "\n",
    "```php\n",
    "$I->dontSeeInDatabase('users');\n",
    "$I->seeNumRecords(0, 'users');\n",
    "$I->haveInDatabase('users', array('name' => 'john', 'email' => 'john@doe.com', 'password' => ''));\n",
    "$I->seeNumRecords(1, 'users');\n",
    "```"
   ]
  },
  {
   "cell_type": "code",
   "execution_count": 69,
   "metadata": {},
   "outputs": [],
   "source": [
    "import subprocess, os\n",
    "os.environ[\"PATH\"] += os.pathsep + '/opt/selenium/'\n",
    "seleniumServer = subprocess.Popen(['java', '-jar', 'selenium-server-4.18.0.jar', 'standalone'], cwd='/opt/selenium/')"
   ]
  },
  {
   "cell_type": "code",
   "execution_count": 70,
   "metadata": {},
   "outputs": [
    {
     "name": "stdout",
     "output_type": "stream",
     "text": [
      "13:58:20.525 INFO [LoggingOptions.configureLogEncoding] - Using the system default encoding\n",
      "13:58:20.531 INFO [OpenTelemetryTracer.createTracer] - Using OpenTelemetry for tracing\n",
      "13:58:21.140 INFO [NodeOptions.getSessionFactories] - Detected 4 available processors\n",
      "13:58:21.141 INFO [NodeOptions.discoverDrivers] - Looking for existing drivers on the PATH.\n",
      "13:58:21.141 INFO [NodeOptions.discoverDrivers] - Add '--selenium-manager true' to the startup command to setup drivers automatically.\n",
      "13:58:21.258 WARN [SeleniumManager.lambda$runCommand$1] - Unable to discover proper msedgedriver version in offline mode\n",
      "\n",
      "   INFO  Server running on [http://127.0.0.1:8888].  \n",
      "\n",
      "  Press Ctrl+C to stop the server\n",
      "\n",
      "13:58:21.271 WARN [SeleniumManager.lambda$runCommand$1] - Unable to discover proper geckodriver version in offline mode\n",
      "13:58:21.294 INFO [NodeOptions.report] - Adding Chrome for {\"browserName\": \"chrome\",\"platformName\": \"linux\"} 4 times\n",
      "13:58:21.326 INFO [Node.<init>] - Binding additional locator mechanisms: relative\n",
      "13:58:21.351 INFO [GridModel.setAvailability] - Switching Node 63a92564-ed0b-4c7a-a1c2-f2f6e6c3ff56 (uri: http://172.17.0.1:4444) from DOWN to UP\n",
      "13:58:21.352 INFO [LocalDistributor.add] - Added node 63a92564-ed0b-4c7a-a1c2-f2f6e6c3ff56 at http://172.17.0.1:4444. Health check every 120s\n",
      "13:58:21.472 INFO [Standalone.execute] - Started Selenium Standalone 4.18.0 (revision b6bf9de7cc): http://172.17.0.1:4444\n"
     ]
    }
   ],
   "source": [
    "import subprocess\n",
    "phpServer = subprocess.Popen(['php', 'artisan', 'serve', '--port', '8888'])"
   ]
  },
  {
   "cell_type": "code",
   "execution_count": 71,
   "metadata": {},
   "outputs": [
    {
     "name": "stdout",
     "output_type": "stream",
     "text": [
      "Codeception PHP Testing Framework v5.1.2 https://stand-with-ukraine.pp.ua\n",
      "\n",
      "\u001b[1mTestsCodeception.Acceptance Tests (1) \u001b[22m------------------------------------------\n",
      "- \u001b[35;1mHomepageCest:\u001b[39;22m See Laravel links on homepage13:58:27.933 INFO [LocalDistributor.newSession] - Session request received by the Distributor: \n",
      " [Capabilities {browserName: chrome}]\n",
      "13:58:29.165 INFO [LocalNode.newSession] - Session created by the Node. Id: b7384a0855e86c4a558354e74ddbc62a, Caps: Capabilities {acceptInsecureCerts: false, browserName: chrome, browserVersion: 121.0.6167.184, chrome: {chromedriverVersion: 121.0.6167.184 (057a8ae7deb..., userDataDir: /tmp/.org.chromium.Chromium...}, fedcm:accounts: true, goog:chromeOptions: {debuggerAddress: localhost:39667}, networkConnectionEnabled: false, pageLoadStrategy: normal, platformName: linux, proxy: Proxy(), se:bidiEnabled: false, se:cdp: ws://172.17.0.1:4444/sessio..., se:cdpVersion: 121.0.6167.184, setWindowRect: true, strictFileInteractability: false, timeouts: {implicit: 0, pageLoad: 300000, script: 30000}, unhandledPromptBehavior: dismiss and notify, webauthn:extension:credBlob: true, webauthn:extension:largeBlob: true, webauthn:extension:minPinLength: true, webauthn:extension:prf: true, webauthn:virtualAuthenticators: true}\n",
      "13:58:29.174 INFO [LocalDistributor.newSession] - Session created by the Distributor. Id: b7384a0855e86c4a558354e74ddbc62a \n",
      " Caps: Capabilities {acceptInsecureCerts: false, browserName: chrome, browserVersion: 121.0.6167.184, chrome: {chromedriverVersion: 121.0.6167.184 (057a8ae7deb..., userDataDir: /tmp/.org.chromium.Chromium...}, fedcm:accounts: true, goog:chromeOptions: {debuggerAddress: localhost:39667}, networkConnectionEnabled: false, pageLoadStrategy: normal, platformName: linux, proxy: Proxy(), se:bidiEnabled: false, se:cdp: ws://172.17.0.1:4444/sessio..., se:cdpVersion: 121.0.6167.184, setWindowRect: true, strictFileInteractability: false, timeouts: {implicit: 0, pageLoad: 300000, script: 30000}, unhandledPromptBehavior: dismiss and notify, webauthn:extension:credBlob: true, webauthn:extension:largeBlob: true, webauthn:extension:minPinLength: true, webauthn:extension:prf: true, webauthn:virtualAuthenticators: true}\n",
      "  2024-05-21 13:58:29 ................................................... ~ 0s\n",
      "  2024-05-21 13:58:29 /favicon.ico ..................................... ~ -1s\n",
      "\u001b[32;1m✔\u001b[39;22m \u001b[35;1mHomepageCest:\u001b[39;22m See Laravel links on homepage\u001b[32m(1.40s)\u001b[39m\n",
      "13:58:36.693 INFO [LocalSessionMap.lambda$new$0] - Deleted session from local Session Map, Id: b7384a0855e86c4a558354e74ddbc62a\n",
      "13:58:36.694 INFO [GridModel.release] - Releasing slot for session id b7384a0855e86c4a558354e74ddbc62a\n",
      "13:58:36.695 INFO [SessionSlot.stop] - Stopping session b7384a0855e86c4a558354e74ddbc62a\n",
      "--------------------------------------------------------------------------------\n",
      "Time: 00:09.021, Memory: 14.00 MB\n",
      "\n",
      "\u001b[30;42mOK (1 test, 7 assertions)\u001b[39;49m\n"
     ]
    }
   ],
   "source": [
    "! vendor/bin/codecept run"
   ]
  },
  {
   "cell_type": "code",
   "execution_count": 72,
   "metadata": {},
   "outputs": [],
   "source": [
    "! killall php8.3"
   ]
  },
  {
   "cell_type": "code",
   "execution_count": 73,
   "metadata": {},
   "outputs": [],
   "source": [
    "seleniumServer.kill()"
   ]
  },
  {
   "cell_type": "markdown",
   "metadata": {},
   "source": [
    "Check the changes:"
   ]
  },
  {
   "cell_type": "code",
   "execution_count": 74,
   "metadata": {},
   "outputs": [
    {
     "name": "stdout",
     "output_type": "stream",
     "text": [
      "\u001b[1mdiff --git a/08_laravel/01_tutorial/project/.env.example b/08_laravel/01_tutorial/project/.env.example\u001b[m\n",
      "\u001b[1mindex 7b49625..4231fea 100644\u001b[m\n",
      "\u001b[1m--- a/08_laravel/01_tutorial/project/.env.example\u001b[m\n",
      "\u001b[1m+++ b/08_laravel/01_tutorial/project/.env.example\u001b[m\n",
      "\u001b[36m@@ -19,12 +19,12 @@\u001b[m \u001b[mLOG_STACK=single\u001b[m\n",
      " LOG_DEPRECATIONS_CHANNEL=null\u001b[m\n",
      " LOG_LEVEL=debug\u001b[m\n",
      " \u001b[m\n",
      "\u001b[31m-DB_CONNECTION=sqlite\u001b[m\n",
      "\u001b[31m-# DB_HOST=127.0.0.1\u001b[m\n",
      "\u001b[31m-# DB_PORT=3306\u001b[m\n",
      "\u001b[31m-# DB_DATABASE=laravel\u001b[m\n",
      "\u001b[31m-# DB_USERNAME=root\u001b[m\n",
      "\u001b[31m-# DB_PASSWORD=\u001b[m\n",
      "\u001b[32m+\u001b[m\u001b[32mDB_CONNECTION=mysql\u001b[m\n",
      "\u001b[32m+\u001b[m\u001b[32mDB_HOST=127.0.0.1\u001b[m\n",
      "\u001b[32m+\u001b[m\u001b[32mDB_PORT=3306\u001b[m\n",
      "\u001b[32m+\u001b[m\u001b[32mDB_DATABASE=test\u001b[m\n",
      "\u001b[32m+\u001b[m\u001b[32mDB_USERNAME=test\u001b[m\n",
      "\u001b[32m+\u001b[m\u001b[32mDB_PASSWORD=test123\u001b[m\n",
      " \u001b[m\n",
      " SESSION_DRIVER=database\u001b[m\n",
      " SESSION_LIFETIME=120\u001b[m\n",
      "\u001b[1mdiff --git a/08_laravel/01_tutorial/project/composer.json b/08_laravel/01_tutorial/project/composer.json\u001b[m\n",
      "\u001b[1mindex e722609..029dbd5 100644\u001b[m\n",
      "\u001b[1m--- a/08_laravel/01_tutorial/project/composer.json\u001b[m\n",
      "\u001b[1m+++ b/08_laravel/01_tutorial/project/composer.json\u001b[m\n",
      "\u001b[36m@@ -12,6 +12,7 @@\u001b[m\n",
      "     \"require-dev\": {\u001b[m\n",
      "         \"codeception/codeception\": \"^5.1\",\u001b[m\n",
      "         \"codeception/module-asserts\": \"^3.0\",\u001b[m\n",
      "\u001b[32m+\u001b[m\u001b[32m        \"codeception/module-db\": \"^3.1\",\u001b[m\n",
      "         \"codeception/module-phpbrowser\": \"^3.0\",\u001b[m\n",
      "         \"codeception/module-webdriver\": \"^4.0\",\u001b[m\n",
      "         \"fakerphp/faker\": \"^1.23\",\u001b[m\n",
      "\u001b[1mdiff --git a/08_laravel/01_tutorial/project/composer.lock b/08_laravel/01_tutorial/project/composer.lock\u001b[m\n",
      "\u001b[1mindex fd100b4..8ca96ab 100644\u001b[m\n",
      "\u001b[1m--- a/08_laravel/01_tutorial/project/composer.lock\u001b[m\n",
      "\u001b[1m+++ b/08_laravel/01_tutorial/project/composer.lock\u001b[m\n",
      "\u001b[36m@@ -4,7 +4,7 @@\u001b[m\n",
      "         \"Read more about it at https://getcomposer.org/doc/01-basic-usage.md#installing-dependencies\",\u001b[m\n",
      "         \"This file is @generated automatically\"\u001b[m\n",
      "     ],\u001b[m\n",
      "\u001b[31m-    \"content-hash\": \"1415db8de07955fb7adc9d08c82fa636\",\u001b[m\n",
      "\u001b[32m+\u001b[m\u001b[32m    \"content-hash\": \"c3112e0c15e4c259611a65b0accf0f7d\",\u001b[m\n",
      "     \"packages\": [\u001b[m\n",
      "         {\u001b[m\n",
      "             \"name\": \"brick/math\",\u001b[m\n",
      "\u001b[36m@@ -6096,6 +6096,64 @@\u001b[m\n",
      "             },\u001b[m\n",
      "             \"time\": \"2022-02-16T19:48:08+00:00\"\u001b[m\n",
      "         },\u001b[m\n",
      "\u001b[32m+\u001b[m\u001b[32m        {\u001b[m\n",
      "\u001b[32m+\u001b[m\u001b[32m            \"name\": \"codeception/module-db\",\u001b[m\n",
      "\u001b[32m+\u001b[m\u001b[32m            \"version\": \"3.1.4\",\u001b[m\n",
      "\u001b[32m+\u001b[m\u001b[32m            \"source\": {\u001b[m\n",
      "\u001b[32m+\u001b[m\u001b[32m                \"type\": \"git\",\u001b[m\n",
      "\u001b[32m+\u001b[m\u001b[32m                \"url\": \"https://github.com/Codeception/module-db.git\",\u001b[m\n",
      "\u001b[32m+\u001b[m\u001b[32m                \"reference\": \"06be16dcf4dda46eaef9454f1361d62bcb971c36\"\u001b[m\n",
      "\u001b[32m+\u001b[m\u001b[32m            },\u001b[m\n",
      "\u001b[32m+\u001b[m\u001b[32m            \"dist\": {\u001b[m\n",
      "\u001b[32m+\u001b[m\u001b[32m                \"type\": \"zip\",\u001b[m\n",
      "\u001b[32m+\u001b[m\u001b[32m                \"url\": \"https://api.github.com/repos/Codeception/module-db/zipball/06be16dcf4dda46eaef9454f1361d62bcb971c36\",\u001b[m\n",
      "\u001b[32m+\u001b[m\u001b[32m                \"reference\": \"06be16dcf4dda46eaef9454f1361d62bcb971c36\",\u001b[m\n",
      "\u001b[32m+\u001b[m\u001b[32m                \"shasum\": \"\"\u001b[m\n",
      "\u001b[32m+\u001b[m\u001b[32m            },\u001b[m\n",
      "\u001b[32m+\u001b[m\u001b[32m            \"require\": {\u001b[m\n",
      "\u001b[32m+\u001b[m\u001b[32m                \"codeception/codeception\": \"*@dev\",\u001b[m\n",
      "\u001b[32m+\u001b[m\u001b[32m                \"ext-json\": \"*\",\u001b[m\n",
      "\u001b[32m+\u001b[m\u001b[32m                \"ext-mbstring\": \"*\",\u001b[m\n",
      "\u001b[32m+\u001b[m\u001b[32m                \"ext-pdo\": \"*\",\u001b[m\n",
      "\u001b[32m+\u001b[m\u001b[32m                \"php\": \"^8.0\"\u001b[m\n",
      "\u001b[32m+\u001b[m\u001b[32m            },\u001b[m\n",
      "\u001b[32m+\u001b[m\u001b[32m            \"conflict\": {\u001b[m\n",
      "\u001b[32m+\u001b[m\u001b[32m                \"codeception/codeception\": \"<5.0\"\u001b[m\n",
      "\u001b[32m+\u001b[m\u001b[32m            },\u001b[m\n",
      "\u001b[32m+\u001b[m\u001b[32m            \"require-dev\": {\u001b[m\n",
      "\u001b[32m+\u001b[m\u001b[32m                \"squizlabs/php_codesniffer\": \"*\"\u001b[m\n",
      "\u001b[32m+\u001b[m\u001b[32m            },\u001b[m\n",
      "\u001b[32m+\u001b[m\u001b[32m            \"type\": \"library\",\u001b[m\n",
      "\u001b[32m+\u001b[m\u001b[32m            \"autoload\": {\u001b[m\n",
      "\u001b[32m+\u001b[m\u001b[32m                \"classmap\": [\u001b[m\n",
      "\u001b[32m+\u001b[m\u001b[32m                    \"src/\"\u001b[m\n",
      "\u001b[32m+\u001b[m\u001b[32m                ]\u001b[m\n",
      "\u001b[32m+\u001b[m\u001b[32m            },\u001b[m\n",
      "\u001b[32m+\u001b[m\u001b[32m            \"notification-url\": \"https://packagist.org/downloads/\",\u001b[m\n",
      "\u001b[32m+\u001b[m\u001b[32m            \"license\": [\u001b[m\n",
      "\u001b[32m+\u001b[m\u001b[32m                \"MIT\"\u001b[m\n",
      "\u001b[32m+\u001b[m\u001b[32m            ],\u001b[m\n",
      "\u001b[32m+\u001b[m\u001b[32m            \"authors\": [\u001b[m\n",
      "\u001b[32m+\u001b[m\u001b[32m                {\u001b[m\n",
      "\u001b[32m+\u001b[m\u001b[32m                    \"name\": \"Michael Bodnarchuk\"\u001b[m\n",
      "\u001b[32m+\u001b[m\u001b[32m                },\u001b[m\n",
      "\u001b[32m+\u001b[m\u001b[32m                {\u001b[m\n",
      "\u001b[32m+\u001b[m\u001b[32m                    \"name\": \"Gintautas Miselis\"\u001b[m\n",
      "\u001b[32m+\u001b[m\u001b[32m                }\u001b[m\n",
      "\u001b[32m+\u001b[m\u001b[32m            ],\u001b[m\n",
      "\u001b[32m+\u001b[m\u001b[32m            \"description\": \"DB module for Codeception\",\u001b[m\n",
      "\u001b[32m+\u001b[m\u001b[32m            \"homepage\": \"https://codeception.com/\",\u001b[m\n",
      "\u001b[32m+\u001b[m\u001b[32m            \"keywords\": [\u001b[m\n",
      "\u001b[32m+\u001b[m\u001b[32m                \"codeception\",\u001b[m\n",
      "\u001b[32m+\u001b[m\u001b[32m                \"database-testing\",\u001b[m\n",
      "\u001b[32m+\u001b[m\u001b[32m                \"db-testing\"\u001b[m\n",
      "\u001b[32m+\u001b[m\u001b[32m            ],\u001b[m\n",
      "\u001b[32m+\u001b[m\u001b[32m            \"support\": {\u001b[m\n",
      "\u001b[32m+\u001b[m\u001b[32m                \"issues\": \"https://github.com/Codeception/module-db/issues\",\u001b[m\n",
      "\u001b[32m+\u001b[m\u001b[32m                \"source\": \"https://github.com/Codeception/module-db/tree/3.1.4\"\u001b[m\n",
      "\u001b[32m+\u001b[m\u001b[32m            },\u001b[m\n",
      "\u001b[32m+\u001b[m\u001b[32m            \"time\": \"2024-05-16T20:12:18+00:00\"\u001b[m\n",
      "\u001b[32m+\u001b[m\u001b[32m        },\u001b[m\n",
      "         {\u001b[m\n",
      "             \"name\": \"codeception/module-phpbrowser\",\u001b[m\n",
      "             \"version\": \"3.0.1\",\u001b[m\n",
      "\u001b[1mdiff --git a/08_laravel/01_tutorial/project/tests_codeception/Acceptance.suite.yml b/08_laravel/01_tutorial/project/tests_codeception/Acceptance.suite.yml\u001b[m\n",
      "\u001b[1mindex cb9d1da..bf61cbd 100644\u001b[m\n",
      "\u001b[1m--- a/08_laravel/01_tutorial/project/tests_codeception/Acceptance.suite.yml\u001b[m\n",
      "\u001b[1m+++ b/08_laravel/01_tutorial/project/tests_codeception/Acceptance.suite.yml\u001b[m\n",
      "\u001b[36m@@ -6,6 +6,10 @@\u001b[m\n",
      " actor: AcceptanceTester\u001b[m\n",
      " modules:\u001b[m\n",
      "     enabled:\u001b[m\n",
      "\u001b[32m+\u001b[m\u001b[32m        - Db:\u001b[m\n",
      "\u001b[32m+\u001b[m\u001b[32m            dsn: 'mysql:host=127.0.0.1;dbname=test'\u001b[m\n",
      "\u001b[32m+\u001b[m\u001b[32m            user: 'test'\u001b[m\n",
      "\u001b[32m+\u001b[m\u001b[32m            password: 'test123'\u001b[m\n",
      "         # - PhpBrowser:\u001b[m\n",
      "         #    url: http://localhost:8888\u001b[m\n",
      "         - WebDriver:\u001b[m\n",
      "\u001b[1mdiff --git a/08_laravel/01_tutorial/project/tests_codeception/Acceptance/HomepageCest.php b/08_laravel/01_tutorial/project/tests_codeception/Acceptance/HomepageCest.php\u001b[m\n",
      "\u001b[1mindex 35ca6b2..8964ce6 100644\u001b[m\n",
      "\u001b[1m--- a/08_laravel/01_tutorial/project/tests_codeception/Acceptance/HomepageCest.php\u001b[m\n",
      "\u001b[1m+++ b/08_laravel/01_tutorial/project/tests_codeception/Acceptance/HomepageCest.php\u001b[m\n",
      "\u001b[36m@@ -17,5 +17,10 @@\u001b[m \u001b[mpublic function test(AcceptanceTester $I): void\u001b[m\n",
      "         $I->seeLink(\"Documentation\", \"https://laravel.com/docs\");\u001b[m\n",
      "         $I->seeLink(\"Laracasts\", \"https://laracasts.com\");\u001b[m\n",
      "         $I->seeLink(\"Forge\", \"https://forge.laravel.com\");\u001b[m\n",
      "\u001b[32m+\u001b[m\n",
      "\u001b[32m+\u001b[m\u001b[32m        $I->dontSeeInDatabase('users');\u001b[m\n",
      "\u001b[32m+\u001b[m\u001b[32m        $I->seeNumRecords(0, 'users');\u001b[m\n",
      "\u001b[32m+\u001b[m\u001b[32m        $I->haveInDatabase('users', array('name' => 'john', 'email' => 'john@doe.com', 'password' => ''));\u001b[m\n",
      "\u001b[32m+\u001b[m\u001b[32m        $I->seeNumRecords(1, 'users');\u001b[m\n",
      "     }\u001b[m\n",
      " }\u001b[m\n",
      "\\ No newline at end of file\u001b[m\n"
     ]
    }
   ],
   "source": [
    "! git diff ."
   ]
  },
  {
   "cell_type": "code",
   "execution_count": 75,
   "metadata": {},
   "outputs": [
    {
     "name": "stdout",
     "output_type": "stream",
     "text": [
      "On branch master\n",
      "Your branch is up to date with 'origin/master'.\n",
      "\n",
      "Changes to be committed:\n",
      "  (use \"git restore --staged <file>...\" to unstage)\n",
      "\t\u001b[32mnew file:   .editorconfig\u001b[m\n",
      "\t\u001b[32mnew file:   .env.example\u001b[m\n",
      "\t\u001b[32mnew file:   .gitattributes\u001b[m\n",
      "\t\u001b[32mnew file:   .gitignore\u001b[m\n",
      "\t\u001b[32mnew file:   README.md\u001b[m\n",
      "\t\u001b[32mnew file:   app/Http/Controllers/Controller.php\u001b[m\n",
      "\t\u001b[32mnew file:   app/Models/User.php\u001b[m\n",
      "\t\u001b[32mnew file:   app/Providers/AppServiceProvider.php\u001b[m\n",
      "\t\u001b[32mnew file:   artisan\u001b[m\n",
      "\t\u001b[32mnew file:   bootstrap/app.php\u001b[m\n",
      "\t\u001b[32mnew file:   bootstrap/cache/.gitignore\u001b[m\n",
      "\t\u001b[32mnew file:   bootstrap/providers.php\u001b[m\n",
      "\t\u001b[32mnew file:   codeception.yml\u001b[m\n",
      "\t\u001b[32mnew file:   composer.json\u001b[m\n",
      "\t\u001b[32mnew file:   composer.lock\u001b[m\n",
      "\t\u001b[32mnew file:   config/app.php\u001b[m\n",
      "\t\u001b[32mnew file:   config/auth.php\u001b[m\n",
      "\t\u001b[32mnew file:   config/cache.php\u001b[m\n",
      "\t\u001b[32mnew file:   config/database.php\u001b[m\n",
      "\t\u001b[32mnew file:   config/filesystems.php\u001b[m\n",
      "\t\u001b[32mnew file:   config/logging.php\u001b[m\n",
      "\t\u001b[32mnew file:   config/mail.php\u001b[m\n",
      "\t\u001b[32mnew file:   config/queue.php\u001b[m\n",
      "\t\u001b[32mnew file:   config/services.php\u001b[m\n",
      "\t\u001b[32mnew file:   config/session.php\u001b[m\n",
      "\t\u001b[32mnew file:   database/.gitignore\u001b[m\n",
      "\t\u001b[32mnew file:   database/factories/UserFactory.php\u001b[m\n",
      "\t\u001b[32mnew file:   database/migrations/0001_01_01_000000_create_users_table.php\u001b[m\n",
      "\t\u001b[32mnew file:   database/migrations/0001_01_01_000001_create_cache_table.php\u001b[m\n",
      "\t\u001b[32mnew file:   database/migrations/0001_01_01_000002_create_jobs_table.php\u001b[m\n",
      "\t\u001b[32mnew file:   database/seeders/DatabaseSeeder.php\u001b[m\n",
      "\t\u001b[32mnew file:   package.json\u001b[m\n",
      "\t\u001b[32mnew file:   phpunit.xml\u001b[m\n",
      "\t\u001b[32mnew file:   public/.htaccess\u001b[m\n",
      "\t\u001b[32mnew file:   public/favicon.ico\u001b[m\n",
      "\t\u001b[32mnew file:   public/index.php\u001b[m\n",
      "\t\u001b[32mnew file:   public/robots.txt\u001b[m\n",
      "\t\u001b[32mnew file:   resources/css/app.css\u001b[m\n",
      "\t\u001b[32mnew file:   resources/js/app.js\u001b[m\n",
      "\t\u001b[32mnew file:   resources/js/bootstrap.js\u001b[m\n",
      "\t\u001b[32mnew file:   resources/views/welcome.blade.php\u001b[m\n",
      "\t\u001b[32mnew file:   routes/console.php\u001b[m\n",
      "\t\u001b[32mnew file:   routes/web.php\u001b[m\n",
      "\t\u001b[32mnew file:   storage/app/.gitignore\u001b[m\n",
      "\t\u001b[32mnew file:   storage/app/public/.gitignore\u001b[m\n",
      "\t\u001b[32mnew file:   storage/framework/.gitignore\u001b[m\n",
      "\t\u001b[32mnew file:   storage/framework/cache/.gitignore\u001b[m\n",
      "\t\u001b[32mnew file:   storage/framework/cache/data/.gitignore\u001b[m\n",
      "\t\u001b[32mnew file:   storage/framework/sessions/.gitignore\u001b[m\n",
      "\t\u001b[32mnew file:   storage/framework/testing/.gitignore\u001b[m\n",
      "\t\u001b[32mnew file:   storage/framework/views/.gitignore\u001b[m\n",
      "\t\u001b[32mnew file:   storage/logs/.gitignore\u001b[m\n",
      "\t\u001b[32mnew file:   tests/Feature/ExampleTest.php\u001b[m\n",
      "\t\u001b[32mnew file:   tests/TestCase.php\u001b[m\n",
      "\t\u001b[32mnew file:   tests/Unit/ExampleTest.php\u001b[m\n",
      "\t\u001b[32mnew file:   tests_codeception/Acceptance.suite.yml\u001b[m\n",
      "\t\u001b[32mnew file:   tests_codeception/Acceptance/HomepageCest.php\u001b[m\n",
      "\t\u001b[32mnew file:   tests_codeception/Support/AcceptanceTester.php\u001b[m\n",
      "\t\u001b[32mnew file:   tests_codeception/Support/Data/.gitkeep\u001b[m\n",
      "\t\u001b[32mnew file:   tests_codeception/Support/_generated/.gitignore\u001b[m\n",
      "\t\u001b[32mnew file:   tests_codeception/_output/.gitignore\u001b[m\n",
      "\t\u001b[32mnew file:   vite.config.js\u001b[m\n",
      "\n",
      "Changes not staged for commit:\n",
      "  (use \"git add <file>...\" to update what will be committed)\n",
      "  (use \"git restore <file>...\" to discard changes in working directory)\n",
      "\t\u001b[31mmodified:   .env.example\u001b[m\n",
      "\t\u001b[31mmodified:   composer.json\u001b[m\n",
      "\t\u001b[31mmodified:   composer.lock\u001b[m\n",
      "\t\u001b[31mmodified:   tests_codeception/Acceptance.suite.yml\u001b[m\n",
      "\t\u001b[31mmodified:   tests_codeception/Acceptance/HomepageCest.php\u001b[m\n",
      "\n"
     ]
    }
   ],
   "source": [
    "! git status ."
   ]
  },
  {
   "cell_type": "code",
   "execution_count": 76,
   "metadata": {},
   "outputs": [],
   "source": [
    "! git add ."
   ]
  },
  {
   "cell_type": "markdown",
   "metadata": {},
   "source": [
    "#### Database dump"
   ]
  },
  {
   "cell_type": "markdown",
   "metadata": {},
   "source": [
    "Dump the contents of the ```test``` database to ```dump.sql``` file:"
   ]
  },
  {
   "cell_type": "code",
   "execution_count": 77,
   "metadata": {},
   "outputs": [],
   "source": [
    "! rm tests_codeception/Support/Data/.gitkeep"
   ]
  },
  {
   "cell_type": "code",
   "execution_count": 78,
   "metadata": {},
   "outputs": [],
   "source": [
    "! echo \"*\" > tests_codeception/Support/Data/.gitignore"
   ]
  },
  {
   "cell_type": "code",
   "execution_count": 79,
   "metadata": {},
   "outputs": [],
   "source": [
    "! echo \"!.gitignore\" >> tests_codeception/Support/Data/.gitignore"
   ]
  },
  {
   "cell_type": "code",
   "execution_count": 80,
   "metadata": {},
   "outputs": [
    {
     "name": "stdout",
     "output_type": "stream",
     "text": [
      "mysqldump: [Warning] Using a password on the command line interface can be insecure.\n"
     ]
    }
   ],
   "source": [
    "! mysqldump -h127.0.0.1 -u root --password=root123 test > tests_codeception/Support/Data/dump.sql"
   ]
  },
  {
   "cell_type": "markdown",
   "metadata": {},
   "source": [
    "Open and inspect the generated file [tests_codeception/Support/Data/dump.sql](/edit/08_laravel/01_tutorial/project/tests_codeception/Support/Data/dump.sql)."
   ]
  },
  {
   "cell_type": "markdown",
   "metadata": {},
   "source": [
    "Open the [tests_codeception/Acceptance.suite.yml](/edit/08_laravel/01_tutorial/project/tests_codeception/Acceptance.suite.yml) and replace:\n",
    "\n",
    "```yml\n",
    "dsn: 'mysql:host=127.0.0.1;dbname=test'\n",
    "user: 'test'\n",
    "password: 'test123'\n",
    "```\n",
    "\n",
    "by:\n",
    "\n",
    "```yml\n",
    "dsn: 'mysql:host=127.0.0.1;dbname=test'\n",
    "user: 'test'\n",
    "password: 'test123'\n",
    "populate: true\n",
    "cleanup: true\n",
    "dump: tests_codeception/Support/Data/dump.sql\n",
    "```"
   ]
  },
  {
   "cell_type": "code",
   "execution_count": 81,
   "metadata": {},
   "outputs": [
    {
     "name": "stdout",
     "output_type": "stream",
     "text": [
      "13:59:30.755 INFO [LoggingOptions.configureLogEncoding] - Using the system default encoding\n",
      "13:59:30.762 INFO [OpenTelemetryTracer.createTracer] - Using OpenTelemetry for tracing\n"
     ]
    }
   ],
   "source": [
    "import subprocess, os\n",
    "os.environ[\"PATH\"] += os.pathsep + '/opt/selenium/'\n",
    "seleniumServer = subprocess.Popen(['java', '-jar', 'selenium-server-4.18.0.jar', 'standalone'], cwd='/opt/selenium/')"
   ]
  },
  {
   "cell_type": "code",
   "execution_count": 82,
   "metadata": {},
   "outputs": [
    {
     "name": "stdout",
     "output_type": "stream",
     "text": [
      "13:59:31.322 INFO [NodeOptions.getSessionFactories] - Detected 4 available processors\n",
      "13:59:31.323 INFO [NodeOptions.discoverDrivers] - Looking for existing drivers on the PATH.\n",
      "13:59:31.323 INFO [NodeOptions.discoverDrivers] - Add '--selenium-manager true' to the startup command to setup drivers automatically.\n",
      "13:59:31.431 WARN [SeleniumManager.lambda$runCommand$1] - Unable to discover proper msedgedriver version in offline mode\n",
      "13:59:31.448 WARN [SeleniumManager.lambda$runCommand$1] - Unable to discover proper geckodriver version in offline mode\n",
      "13:59:31.467 INFO [NodeOptions.report] - Adding Chrome for {\"browserName\": \"chrome\",\"platformName\": \"linux\"} 4 times\n",
      "13:59:31.491 INFO [Node.<init>] - Binding additional locator mechanisms: relative\n",
      "13:59:31.507 INFO [GridModel.setAvailability] - Switching Node bf37661c-f2ad-4e4e-af2f-ec2b406ccac0 (uri: http://172.17.0.1:4444) from DOWN to UP\n",
      "13:59:31.508 INFO [LocalDistributor.add] - Added node bf37661c-f2ad-4e4e-af2f-ec2b406ccac0 at http://172.17.0.1:4444. Health check every 120s\n",
      "13:59:31.615 INFO [Standalone.execute] - Started Selenium Standalone 4.18.0 (revision b6bf9de7cc): http://172.17.0.1:4444\n",
      "\n",
      "   INFO  Server running on [http://127.0.0.1:8888].  \n",
      "\n",
      "  Press Ctrl+C to stop the server\n",
      "\n"
     ]
    }
   ],
   "source": [
    "import subprocess\n",
    "phpServer = subprocess.Popen(['php', 'artisan', 'serve', '--port', '8888'])"
   ]
  },
  {
   "cell_type": "code",
   "execution_count": 83,
   "metadata": {},
   "outputs": [
    {
     "name": "stdout",
     "output_type": "stream",
     "text": [
      "Codeception PHP Testing Framework v5.1.2 https://stand-with-ukraine.pp.ua\n",
      "\n",
      "\u001b[1mTestsCodeception.Acceptance Tests (1) \u001b[22m------------------------------------------\n",
      "- \u001b[35;1mHomepageCest:\u001b[39;22m See Laravel links on homepage13:59:42.069 INFO [LocalDistributor.newSession] - Session request received by the Distributor: \n",
      " [Capabilities {browserName: chrome}]\n",
      "13:59:42.933 INFO [LocalNode.newSession] - Session created by the Node. Id: 95ba36bf5a37bb4b60852f2f0ea1b4c1, Caps: Capabilities {acceptInsecureCerts: false, browserName: chrome, browserVersion: 121.0.6167.184, chrome: {chromedriverVersion: 121.0.6167.184 (057a8ae7deb..., userDataDir: /tmp/.org.chromium.Chromium...}, fedcm:accounts: true, goog:chromeOptions: {debuggerAddress: localhost:42793}, networkConnectionEnabled: false, pageLoadStrategy: normal, platformName: linux, proxy: Proxy(), se:bidiEnabled: false, se:cdp: ws://172.17.0.1:4444/sessio..., se:cdpVersion: 121.0.6167.184, setWindowRect: true, strictFileInteractability: false, timeouts: {implicit: 0, pageLoad: 300000, script: 30000}, unhandledPromptBehavior: dismiss and notify, webauthn:extension:credBlob: true, webauthn:extension:largeBlob: true, webauthn:extension:minPinLength: true, webauthn:extension:prf: true, webauthn:virtualAuthenticators: true}\n",
      "13:59:42.940 INFO [LocalDistributor.newSession] - Session created by the Distributor. Id: 95ba36bf5a37bb4b60852f2f0ea1b4c1 \n",
      " Caps: Capabilities {acceptInsecureCerts: false, browserName: chrome, browserVersion: 121.0.6167.184, chrome: {chromedriverVersion: 121.0.6167.184 (057a8ae7deb..., userDataDir: /tmp/.org.chromium.Chromium...}, fedcm:accounts: true, goog:chromeOptions: {debuggerAddress: localhost:42793}, networkConnectionEnabled: false, pageLoadStrategy: normal, platformName: linux, proxy: Proxy(), se:bidiEnabled: false, se:cdp: ws://172.17.0.1:4444/sessio..., se:cdpVersion: 121.0.6167.184, setWindowRect: true, strictFileInteractability: false, timeouts: {implicit: 0, pageLoad: 300000, script: 30000}, unhandledPromptBehavior: dismiss and notify, webauthn:extension:credBlob: true, webauthn:extension:largeBlob: true, webauthn:extension:minPinLength: true, webauthn:extension:prf: true, webauthn:virtualAuthenticators: true}\n",
      "  2024-05-21 13:59:43 ................................................... ~ 0s\n",
      "\u001b[32;1m✔\u001b[39;22m \u001b[35;1mHomepageCest:\u001b[39;22m See Laravel links on homepage\u001b[32m(1.48s)\u001b[39m\n",
      "  2024-05-21 13:59:43 /favicon.ico ..................................... ~ -1s\n",
      "13:59:50.842 INFO [LocalSessionMap.lambda$new$0] - Deleted session from local Session Map, Id: 95ba36bf5a37bb4b60852f2f0ea1b4c1\n",
      "13:59:50.843 INFO [GridModel.release] - Releasing slot for session id 95ba36bf5a37bb4b60852f2f0ea1b4c1\n",
      "13:59:50.844 INFO [SessionSlot.stop] - Stopping session 95ba36bf5a37bb4b60852f2f0ea1b4c1\n",
      "--------------------------------------------------------------------------------\n",
      "Time: 00:13.810, Memory: 14.00 MB\n",
      "\n",
      "\u001b[30;42mOK (1 test, 7 assertions)\u001b[39;49m\n"
     ]
    }
   ],
   "source": [
    "! vendor/bin/codecept run"
   ]
  },
  {
   "cell_type": "code",
   "execution_count": 84,
   "metadata": {},
   "outputs": [],
   "source": [
    "! killall php8.3"
   ]
  },
  {
   "cell_type": "code",
   "execution_count": 85,
   "metadata": {},
   "outputs": [],
   "source": [
    "seleniumServer.kill()"
   ]
  },
  {
   "cell_type": "markdown",
   "metadata": {},
   "source": [
    "Check the changes:"
   ]
  },
  {
   "cell_type": "code",
   "execution_count": 86,
   "metadata": {},
   "outputs": [
    {
     "name": "stdout",
     "output_type": "stream",
     "text": [
      "\u001b[1mdiff --git a/08_laravel/01_tutorial/project/tests_codeception/Acceptance.suite.yml b/08_laravel/01_tutorial/project/tests_codeception/Acceptance.suite.yml\u001b[m\n",
      "\u001b[1mindex bf61cbd..d1dc836 100644\u001b[m\n",
      "\u001b[1m--- a/08_laravel/01_tutorial/project/tests_codeception/Acceptance.suite.yml\u001b[m\n",
      "\u001b[1m+++ b/08_laravel/01_tutorial/project/tests_codeception/Acceptance.suite.yml\u001b[m\n",
      "\u001b[36m@@ -10,6 +10,9 @@\u001b[m \u001b[mmodules:\u001b[m\n",
      "             dsn: 'mysql:host=127.0.0.1;dbname=test'\u001b[m\n",
      "             user: 'test'\u001b[m\n",
      "             password: 'test123'\u001b[m\n",
      "\u001b[32m+\u001b[m\u001b[32m            populate: true\u001b[m\n",
      "\u001b[32m+\u001b[m\u001b[32m            cleanup: true\u001b[m\n",
      "\u001b[32m+\u001b[m\u001b[32m            dump: tests_codeception/Support/Data/dump.sql\u001b[m\n",
      "         # - PhpBrowser:\u001b[m\n",
      "         #    url: http://localhost:8888\u001b[m\n",
      "         - WebDriver:\u001b[m\n",
      "\u001b[1mdiff --git a/08_laravel/01_tutorial/project/tests_codeception/Support/Data/.gitkeep b/08_laravel/01_tutorial/project/tests_codeception/Support/Data/.gitkeep\u001b[m\n",
      "\u001b[1mdeleted file mode 100644\u001b[m\n",
      "\u001b[1mindex e69de29..0000000\u001b[m\n"
     ]
    }
   ],
   "source": [
    "! git diff ."
   ]
  },
  {
   "cell_type": "code",
   "execution_count": 87,
   "metadata": {},
   "outputs": [
    {
     "name": "stdout",
     "output_type": "stream",
     "text": [
      "On branch master\n",
      "Your branch is up to date with 'origin/master'.\n",
      "\n",
      "Changes to be committed:\n",
      "  (use \"git restore --staged <file>...\" to unstage)\n",
      "\t\u001b[32mnew file:   .editorconfig\u001b[m\n",
      "\t\u001b[32mnew file:   .env.example\u001b[m\n",
      "\t\u001b[32mnew file:   .gitattributes\u001b[m\n",
      "\t\u001b[32mnew file:   .gitignore\u001b[m\n",
      "\t\u001b[32mnew file:   README.md\u001b[m\n",
      "\t\u001b[32mnew file:   app/Http/Controllers/Controller.php\u001b[m\n",
      "\t\u001b[32mnew file:   app/Models/User.php\u001b[m\n",
      "\t\u001b[32mnew file:   app/Providers/AppServiceProvider.php\u001b[m\n",
      "\t\u001b[32mnew file:   artisan\u001b[m\n",
      "\t\u001b[32mnew file:   bootstrap/app.php\u001b[m\n",
      "\t\u001b[32mnew file:   bootstrap/cache/.gitignore\u001b[m\n",
      "\t\u001b[32mnew file:   bootstrap/providers.php\u001b[m\n",
      "\t\u001b[32mnew file:   codeception.yml\u001b[m\n",
      "\t\u001b[32mnew file:   composer.json\u001b[m\n",
      "\t\u001b[32mnew file:   composer.lock\u001b[m\n",
      "\t\u001b[32mnew file:   config/app.php\u001b[m\n",
      "\t\u001b[32mnew file:   config/auth.php\u001b[m\n",
      "\t\u001b[32mnew file:   config/cache.php\u001b[m\n",
      "\t\u001b[32mnew file:   config/database.php\u001b[m\n",
      "\t\u001b[32mnew file:   config/filesystems.php\u001b[m\n",
      "\t\u001b[32mnew file:   config/logging.php\u001b[m\n",
      "\t\u001b[32mnew file:   config/mail.php\u001b[m\n",
      "\t\u001b[32mnew file:   config/queue.php\u001b[m\n",
      "\t\u001b[32mnew file:   config/services.php\u001b[m\n",
      "\t\u001b[32mnew file:   config/session.php\u001b[m\n",
      "\t\u001b[32mnew file:   database/.gitignore\u001b[m\n",
      "\t\u001b[32mnew file:   database/factories/UserFactory.php\u001b[m\n",
      "\t\u001b[32mnew file:   database/migrations/0001_01_01_000000_create_users_table.php\u001b[m\n",
      "\t\u001b[32mnew file:   database/migrations/0001_01_01_000001_create_cache_table.php\u001b[m\n",
      "\t\u001b[32mnew file:   database/migrations/0001_01_01_000002_create_jobs_table.php\u001b[m\n",
      "\t\u001b[32mnew file:   database/seeders/DatabaseSeeder.php\u001b[m\n",
      "\t\u001b[32mnew file:   package.json\u001b[m\n",
      "\t\u001b[32mnew file:   phpunit.xml\u001b[m\n",
      "\t\u001b[32mnew file:   public/.htaccess\u001b[m\n",
      "\t\u001b[32mnew file:   public/favicon.ico\u001b[m\n",
      "\t\u001b[32mnew file:   public/index.php\u001b[m\n",
      "\t\u001b[32mnew file:   public/robots.txt\u001b[m\n",
      "\t\u001b[32mnew file:   resources/css/app.css\u001b[m\n",
      "\t\u001b[32mnew file:   resources/js/app.js\u001b[m\n",
      "\t\u001b[32mnew file:   resources/js/bootstrap.js\u001b[m\n",
      "\t\u001b[32mnew file:   resources/views/welcome.blade.php\u001b[m\n",
      "\t\u001b[32mnew file:   routes/console.php\u001b[m\n",
      "\t\u001b[32mnew file:   routes/web.php\u001b[m\n",
      "\t\u001b[32mnew file:   storage/app/.gitignore\u001b[m\n",
      "\t\u001b[32mnew file:   storage/app/public/.gitignore\u001b[m\n",
      "\t\u001b[32mnew file:   storage/framework/.gitignore\u001b[m\n",
      "\t\u001b[32mnew file:   storage/framework/cache/.gitignore\u001b[m\n",
      "\t\u001b[32mnew file:   storage/framework/cache/data/.gitignore\u001b[m\n",
      "\t\u001b[32mnew file:   storage/framework/sessions/.gitignore\u001b[m\n",
      "\t\u001b[32mnew file:   storage/framework/testing/.gitignore\u001b[m\n",
      "\t\u001b[32mnew file:   storage/framework/views/.gitignore\u001b[m\n",
      "\t\u001b[32mnew file:   storage/logs/.gitignore\u001b[m\n",
      "\t\u001b[32mnew file:   tests/Feature/ExampleTest.php\u001b[m\n",
      "\t\u001b[32mnew file:   tests/TestCase.php\u001b[m\n",
      "\t\u001b[32mnew file:   tests/Unit/ExampleTest.php\u001b[m\n",
      "\t\u001b[32mnew file:   tests_codeception/Acceptance.suite.yml\u001b[m\n",
      "\t\u001b[32mnew file:   tests_codeception/Acceptance/HomepageCest.php\u001b[m\n",
      "\t\u001b[32mnew file:   tests_codeception/Support/AcceptanceTester.php\u001b[m\n",
      "\t\u001b[32mnew file:   tests_codeception/Support/Data/.gitkeep\u001b[m\n",
      "\t\u001b[32mnew file:   tests_codeception/Support/_generated/.gitignore\u001b[m\n",
      "\t\u001b[32mnew file:   tests_codeception/_output/.gitignore\u001b[m\n",
      "\t\u001b[32mnew file:   vite.config.js\u001b[m\n",
      "\n",
      "Changes not staged for commit:\n",
      "  (use \"git add/rm <file>...\" to update what will be committed)\n",
      "  (use \"git restore <file>...\" to discard changes in working directory)\n",
      "\t\u001b[31mmodified:   tests_codeception/Acceptance.suite.yml\u001b[m\n",
      "\t\u001b[31mdeleted:    tests_codeception/Support/Data/.gitkeep\u001b[m\n",
      "\n",
      "Untracked files:\n",
      "  (use \"git add <file>...\" to include in what will be committed)\n",
      "\t\u001b[31mtests_codeception/Support/Data/.gitignore\u001b[m\n",
      "\n"
     ]
    }
   ],
   "source": [
    "! git status ."
   ]
  },
  {
   "cell_type": "code",
   "execution_count": 88,
   "metadata": {},
   "outputs": [],
   "source": [
    "! git add ."
   ]
  },
  {
   "cell_type": "markdown",
   "metadata": {},
   "source": [
    "#### Final check to see if everything works"
   ]
  },
  {
   "cell_type": "markdown",
   "metadata": {},
   "source": [
    "Simulate clean checkout"
   ]
  },
  {
   "cell_type": "code",
   "execution_count": 89,
   "metadata": {},
   "outputs": [
    {
     "name": "stdout",
     "output_type": "stream",
     "text": [
      "Removing .env\n",
      "Removing .ipynb_checkpoints/\n",
      "Removing bootstrap/cache/packages.php\n",
      "Removing bootstrap/cache/services.php\n",
      "Removing database/database.sqlite\n",
      "Removing storage/framework/views/eba5037ad582440254b00ef8ffb9ae61.php\n",
      "Removing tests_codeception/.ipynb_checkpoints/\n",
      "Removing tests_codeception/Acceptance/.ipynb_checkpoints/\n",
      "Removing tests_codeception/Support/.ipynb_checkpoints/\n",
      "Removing tests_codeception/Support/Data/dump.sql\n",
      "Removing tests_codeception/Support/Helper/\n",
      "Removing tests_codeception/Support/_generated/AcceptanceTesterActions.php\n",
      "Removing vendor/\n"
     ]
    }
   ],
   "source": [
    "! git clean -fdx ."
   ]
  },
  {
   "cell_type": "code",
   "execution_count": 90,
   "metadata": {},
   "outputs": [
    {
     "name": "stdout",
     "output_type": "stream",
     "text": [
      "\u001b[32mInstalling dependencies from lock file (including require-dev)\u001b[39m\n",
      "\u001b[32mVerifying lock file contents can be installed on current platform.\u001b[39m\n",
      "\u001b[32mPackage operations: 125 installs, 0 updates, 0 removals\u001b[39m\n",
      "    0 [>---------------------------]\u001b[1G\u001b[2K    0 [->--------------------------]\u001b[1G\u001b[2K    0 [--->------------------------]\u001b[1G\u001b[2K  - Installing \u001b[32mbehat/gherkin\u001b[39m (\u001b[33mv4.9.0\u001b[39m): Extracting archive\n",
      "  - Installing \u001b[32msymfony/polyfill-ctype\u001b[39m (\u001b[33mv1.29.0\u001b[39m): Extracting archive\n",
      "  - Installing \u001b[32msymfony/yaml\u001b[39m (\u001b[33mv7.0.7\u001b[39m): Extracting archive\n",
      "  - Installing \u001b[32msymfony/polyfill-mbstring\u001b[39m (\u001b[33mv1.29.0\u001b[39m): Extracting archive\n",
      "  - Installing \u001b[32msymfony/var-dumper\u001b[39m (\u001b[33mv7.0.7\u001b[39m): Extracting archive\n",
      "  - Installing \u001b[32msymfony/finder\u001b[39m (\u001b[33mv7.0.7\u001b[39m): Extracting archive\n",
      "  - Installing \u001b[32mpsr/event-dispatcher\u001b[39m (\u001b[33m1.0.0\u001b[39m): Extracting archive\n",
      "  - Installing \u001b[32msymfony/event-dispatcher-contracts\u001b[39m (\u001b[33mv3.5.0\u001b[39m): Extracting archive\n",
      "  - Installing \u001b[32msymfony/event-dispatcher\u001b[39m (\u001b[33mv7.0.7\u001b[39m): Extracting archive\n",
      "  - Installing \u001b[32msymfony/css-selector\u001b[39m (\u001b[33mv7.0.7\u001b[39m): Extracting archive\n",
      "  - Installing \u001b[32msymfony/polyfill-intl-normalizer\u001b[39m (\u001b[33mv1.29.0\u001b[39m): Extracting archive\n",
      "  - Installing \u001b[32msymfony/polyfill-intl-grapheme\u001b[39m (\u001b[33mv1.29.0\u001b[39m): Extracting archive\n",
      "  - Installing \u001b[32msymfony/string\u001b[39m (\u001b[33mv7.0.7\u001b[39m): Extracting archive\n",
      "  - Installing \u001b[32msymfony/deprecation-contracts\u001b[39m (\u001b[33mv3.5.0\u001b[39m): Extracting archive\n",
      "  - Installing \u001b[32mpsr/container\u001b[39m (\u001b[33m2.0.2\u001b[39m): Extracting archive\n",
      "  - Installing \u001b[32msymfony/service-contracts\u001b[39m (\u001b[33mv3.5.0\u001b[39m): Extracting archive\n",
      "  - Installing \u001b[32msymfony/console\u001b[39m (\u001b[33mv7.0.7\u001b[39m): Extracting archive\n",
      "  - Installing \u001b[32msebastian/diff\u001b[39m (\u001b[33m6.0.1\u001b[39m): Extracting archive\n",
      "  - Installing \u001b[32msebastian/recursion-context\u001b[39m (\u001b[33m6.0.0\u001b[39m): Extracting archive\n",
      "  - Installing \u001b[32msebastian/exporter\u001b[39m (\u001b[33m6.0.1\u001b[39m): Extracting archive\n",
      "  - Installing \u001b[32msebastian/comparator\u001b[39m (\u001b[33m6.0.0\u001b[39m): Extracting archive\n",
      "  - Installing \u001b[32mnikic/php-parser\u001b[39m (\u001b[33mv5.0.2\u001b[39m): Extracting archive\n",
      "  - Installing \u001b[32mpsy/psysh\u001b[39m (\u001b[33mv0.12.3\u001b[39m): Extracting archive\n",
      "  - Installing \u001b[32msebastian/version\u001b[39m (\u001b[33m5.0.0\u001b[39m): Extracting archive\n",
      "  - Installing \u001b[32msebastian/type\u001b[39m (\u001b[33m5.0.0\u001b[39m): Extracting archive\n",
      "  - Installing \u001b[32msebastian/object-reflector\u001b[39m (\u001b[33m4.0.0\u001b[39m): Extracting archive\n",
      "  - Installing \u001b[32msebastian/object-enumerator\u001b[39m (\u001b[33m6.0.0\u001b[39m): Extracting archive\n",
      "  - Installing \u001b[32msebastian/global-state\u001b[39m (\u001b[33m7.0.1\u001b[39m): Extracting archive\n",
      "  - Installing \u001b[32msebastian/environment\u001b[39m (\u001b[33m7.1.0\u001b[39m): Extracting archive\n",
      "  - Installing \u001b[32msebastian/code-unit\u001b[39m (\u001b[33m3.0.0\u001b[39m): Extracting archive\n",
      "  - Installing \u001b[32msebastian/cli-parser\u001b[39m (\u001b[33m3.0.1\u001b[39m): Extracting archive\n",
      "  - Installing \u001b[32mphpunit/php-timer\u001b[39m (\u001b[33m7.0.0\u001b[39m): Extracting archive\n",
      "  - Installing \u001b[32mphpunit/php-text-template\u001b[39m (\u001b[33m4.0.0\u001b[39m): Extracting archive\n",
      "  - Installing \u001b[32mphpunit/php-invoker\u001b[39m (\u001b[33m5.0.0\u001b[39m): Extracting archive\n",
      "  - Installing \u001b[32mphpunit/php-file-iterator\u001b[39m (\u001b[33m5.0.0\u001b[39m): Extracting archive\n",
      "  - Installing \u001b[32mtheseer/tokenizer\u001b[39m (\u001b[33m1.2.3\u001b[39m): Extracting archive\n",
      "  - Installing \u001b[32msebastian/lines-of-code\u001b[39m (\u001b[33m3.0.0\u001b[39m): Extracting archive\n",
      "  - Installing \u001b[32msebastian/complexity\u001b[39m (\u001b[33m4.0.0\u001b[39m): Extracting archive\n",
      "  - Installing \u001b[32msebastian/code-unit-reverse-lookup\u001b[39m (\u001b[33m4.0.0\u001b[39m): Extracting archive\n",
      "  - Installing \u001b[32mphpunit/php-code-coverage\u001b[39m (\u001b[33m11.0.3\u001b[39m): Extracting archive\n",
      "  - Installing \u001b[32mphar-io/version\u001b[39m (\u001b[33m3.2.1\u001b[39m): Extracting archive\n",
      "  - Installing \u001b[32mphar-io/manifest\u001b[39m (\u001b[33m2.0.4\u001b[39m): Extracting archive\n",
      "  - Installing \u001b[32mmyclabs/deep-copy\u001b[39m (\u001b[33m1.11.1\u001b[39m): Extracting archive\n",
      "  - Installing \u001b[32mphpunit/phpunit\u001b[39m (\u001b[33m11.1.3\u001b[39m): Extracting archive\n",
      "  - Installing \u001b[32mcodeception/stub\u001b[39m (\u001b[33m4.1.3\u001b[39m): Extracting archive\n",
      "  - Installing \u001b[32mcodeception/lib-asserts\u001b[39m (\u001b[33m2.1.0\u001b[39m): Extracting archive\n",
      "  - Installing \u001b[32mcodeception/codeception\u001b[39m (\u001b[33m5.1.2\u001b[39m): Extracting archive\n",
      "  - Installing \u001b[32mcodeception/module-asserts\u001b[39m (\u001b[33m3.0.0\u001b[39m): Extracting archive\n",
      "  - Installing \u001b[32mcodeception/module-db\u001b[39m (\u001b[33m3.1.4\u001b[39m): Extracting archive\n",
      "  - Installing \u001b[32mmasterminds/html5\u001b[39m (\u001b[33m2.9.0\u001b[39m): Extracting archive\n",
      "  - Installing \u001b[32msymfony/dom-crawler\u001b[39m (\u001b[33mv7.0.7\u001b[39m): Extracting archive\n",
      "  - Installing \u001b[32msymfony/browser-kit\u001b[39m (\u001b[33mv7.0.7\u001b[39m): Extracting archive\n",
      "  - Installing \u001b[32mpsr/http-message\u001b[39m (\u001b[33m2.0\u001b[39m): Extracting archive\n",
      "  - Installing \u001b[32mpsr/http-client\u001b[39m (\u001b[33m1.0.3\u001b[39m): Extracting archive\n",
      "  - Installing \u001b[32mralouphie/getallheaders\u001b[39m (\u001b[33m3.0.3\u001b[39m): Extracting archive\n",
      "  - Installing \u001b[32mpsr/http-factory\u001b[39m (\u001b[33m1.1.0\u001b[39m): Extracting archive\n",
      "  - Installing \u001b[32mguzzlehttp/psr7\u001b[39m (\u001b[33m2.6.2\u001b[39m): Extracting archive\n",
      "  - Installing \u001b[32mguzzlehttp/promises\u001b[39m (\u001b[33m2.0.2\u001b[39m): Extracting archive\n",
      "  - Installing \u001b[32mguzzlehttp/guzzle\u001b[39m (\u001b[33m7.8.1\u001b[39m): Extracting archive\n",
      "  - Installing \u001b[32mcodeception/lib-web\u001b[39m (\u001b[33m1.0.6\u001b[39m): Extracting archive\n",
      "  - Installing \u001b[32mcodeception/lib-innerbrowser\u001b[39m (\u001b[33m4.0.3\u001b[39m): Extracting archive\n",
      "  - Installing \u001b[32mcodeception/module-phpbrowser\u001b[39m (\u001b[33m3.0.1\u001b[39m): Extracting archive\n",
      "  - Installing \u001b[32msymfony/process\u001b[39m (\u001b[33mv7.0.7\u001b[39m): Extracting archive\n",
      "  - Installing \u001b[32mphp-webdriver/webdriver\u001b[39m (\u001b[33m1.15.1\u001b[39m): Extracting archive\n",
      "  - Installing \u001b[32mcodeception/module-webdriver\u001b[39m (\u001b[33m4.0.1\u001b[39m): Extracting archive\n",
      "  - Installing \u001b[32mdoctrine/inflector\u001b[39m (\u001b[33m2.0.10\u001b[39m): Extracting archive\n",
      "  - Installing \u001b[32mdoctrine/lexer\u001b[39m (\u001b[33m3.0.1\u001b[39m): Extracting archive\n",
      "  - Installing \u001b[32mwebmozart/assert\u001b[39m (\u001b[33m1.11.0\u001b[39m): Extracting archive\n",
      "  - Installing \u001b[32mdragonmantank/cron-expression\u001b[39m (\u001b[33mv3.3.3\u001b[39m): Extracting archive\n",
      "  - Installing \u001b[32mfakerphp/faker\u001b[39m (\u001b[33mv1.23.1\u001b[39m): Extracting archive\n",
      "  - Installing \u001b[32msymfony/polyfill-php80\u001b[39m (\u001b[33mv1.29.0\u001b[39m): Extracting archive\n",
      "  - Installing \u001b[32msymfony/polyfill-php83\u001b[39m (\u001b[33mv1.29.0\u001b[39m): Extracting archive\n",
      "  - Installing \u001b[32msymfony/http-foundation\u001b[39m (\u001b[33mv7.0.7\u001b[39m): Extracting archive\n",
      "  - Installing \u001b[32mfruitcake/php-cors\u001b[39m (\u001b[33mv1.3.0\u001b[39m): Extracting archive\n",
      "  - Installing \u001b[32mguzzlehttp/uri-template\u001b[39m (\u001b[33mv1.0.3\u001b[39m): Extracting archive\n",
      "  - Installing \u001b[32mlaravel/pint\u001b[39m (\u001b[33mv1.15.3\u001b[39m): Extracting archive\n",
      "  - Installing \u001b[32mvoku/portable-ascii\u001b[39m (\u001b[33m2.0.1\u001b[39m): Extracting archive\n",
      "  - Installing \u001b[32mphpoption/phpoption\u001b[39m (\u001b[33m1.9.2\u001b[39m): Extracting archive\n",
      "  - Installing \u001b[32mgraham-campbell/result-type\u001b[39m (\u001b[33mv1.1.2\u001b[39m): Extracting archive\n",
      "  - Installing \u001b[32mvlucas/phpdotenv\u001b[39m (\u001b[33mv5.6.0\u001b[39m): Extracting archive\n",
      "  - Installing \u001b[32mtijsverkoyen/css-to-inline-styles\u001b[39m (\u001b[33mv2.2.7\u001b[39m): Extracting archive\n",
      "  - Installing \u001b[32msymfony/polyfill-uuid\u001b[39m (\u001b[33mv1.29.0\u001b[39m): Extracting archive\n",
      "  - Installing \u001b[32msymfony/uid\u001b[39m (\u001b[33mv7.0.7\u001b[39m): Extracting archive\n",
      "  - Installing \u001b[32msymfony/routing\u001b[39m (\u001b[33mv7.0.7\u001b[39m): Extracting archive\n",
      "  - Installing \u001b[32msymfony/polyfill-php72\u001b[39m (\u001b[33mv1.29.0\u001b[39m): Extracting archive\n",
      "  - Installing \u001b[32msymfony/polyfill-intl-idn\u001b[39m (\u001b[33mv1.29.0\u001b[39m): Extracting archive\n",
      "  - Installing \u001b[32msymfony/mime\u001b[39m (\u001b[33mv7.0.7\u001b[39m): Extracting archive\n",
      "  - Installing \u001b[32mpsr/log\u001b[39m (\u001b[33m3.0.0\u001b[39m): Extracting archive\n",
      "  - Installing \u001b[32megulias/email-validator\u001b[39m (\u001b[33m4.0.2\u001b[39m): Extracting archive\n",
      "  - Installing \u001b[32msymfony/mailer\u001b[39m (\u001b[33mv7.0.7\u001b[39m): Extracting archive\n",
      "  - Installing \u001b[32msymfony/error-handler\u001b[39m (\u001b[33mv7.0.7\u001b[39m): Extracting archive\n",
      "  - Installing \u001b[32msymfony/http-kernel\u001b[39m (\u001b[33mv7.0.7\u001b[39m): Extracting archive\n",
      "  - Installing \u001b[32mramsey/collection\u001b[39m (\u001b[33m2.0.0\u001b[39m): Extracting archive\n",
      "  - Installing \u001b[32mbrick/math\u001b[39m (\u001b[33m0.12.1\u001b[39m): Extracting archive\n",
      "  - Installing \u001b[32mramsey/uuid\u001b[39m (\u001b[33m4.7.6\u001b[39m): Extracting archive\n",
      "  - Installing \u001b[32mpsr/simple-cache\u001b[39m (\u001b[33m3.0.0\u001b[39m): Extracting archive\n",
      "  - Installing \u001b[32mnunomaduro/termwind\u001b[39m (\u001b[33mv2.0.1\u001b[39m): Extracting archive\n",
      "  - Installing \u001b[32msymfony/translation-contracts\u001b[39m (\u001b[33mv3.5.0\u001b[39m): Extracting archive\n",
      "  - Installing \u001b[32msymfony/translation\u001b[39m (\u001b[33mv7.0.7\u001b[39m): Extracting archive\n",
      "  - Installing \u001b[32mpsr/clock\u001b[39m (\u001b[33m1.0.0\u001b[39m): Extracting archive\n",
      "  - Installing \u001b[32msymfony/clock\u001b[39m (\u001b[33mv7.0.7\u001b[39m): Extracting archive\n",
      "  - Installing \u001b[32mcarbonphp/carbon-doctrine-types\u001b[39m (\u001b[33m3.2.0\u001b[39m): Extracting archive\n",
      "  - Installing \u001b[32mnesbot/carbon\u001b[39m (\u001b[33m3.3.1\u001b[39m): Extracting archive\n",
      "  - Installing \u001b[32mmonolog/monolog\u001b[39m (\u001b[33m3.6.0\u001b[39m): Extracting archive\n",
      "  - Installing \u001b[32mleague/mime-type-detection\u001b[39m (\u001b[33m1.15.0\u001b[39m): Extracting archive\n",
      "  - Installing \u001b[32mleague/flysystem\u001b[39m (\u001b[33m3.27.0\u001b[39m): Extracting archive\n",
      "  - Installing \u001b[32mleague/flysystem-local\u001b[39m (\u001b[33m3.25.1\u001b[39m): Extracting archive\n",
      "  - Installing \u001b[32mnette/utils\u001b[39m (\u001b[33mv4.0.4\u001b[39m): Extracting archive\n",
      "  - Installing \u001b[32mnette/schema\u001b[39m (\u001b[33mv1.3.0\u001b[39m): Extracting archive\n",
      "  - Installing \u001b[32mdflydev/dot-access-data\u001b[39m (\u001b[33mv3.0.2\u001b[39m): Extracting archive\n",
      "  - Installing \u001b[32mleague/config\u001b[39m (\u001b[33mv1.2.0\u001b[39m): Extracting archive\n",
      "  - Installing \u001b[32mleague/commonmark\u001b[39m (\u001b[33m2.4.2\u001b[39m): Extracting archive\n",
      "  - Installing \u001b[32mlaravel/serializable-closure\u001b[39m (\u001b[33mv1.3.3\u001b[39m): Extracting archive\n",
      "  - Installing \u001b[32mlaravel/prompts\u001b[39m (\u001b[33mv0.1.21\u001b[39m): Extracting archive\n",
      "  - Installing \u001b[32mlaravel/framework\u001b[39m (\u001b[33mv11.7.0\u001b[39m): Extracting archive\n",
      "  - Installing \u001b[32mlaravel/sail\u001b[39m (\u001b[33mv1.29.1\u001b[39m): Extracting archive\n",
      "  - Installing \u001b[32mlaravel/tinker\u001b[39m (\u001b[33mv2.9.0\u001b[39m): Extracting archive\n",
      "  - Installing \u001b[32mhamcrest/hamcrest-php\u001b[39m (\u001b[33mv2.0.1\u001b[39m): Extracting archive\n",
      "  - Installing \u001b[32mmockery/mockery\u001b[39m (\u001b[33m1.6.12\u001b[39m): Extracting archive\n",
      "  - Installing \u001b[32mfilp/whoops\u001b[39m (\u001b[33m2.15.4\u001b[39m): Extracting archive\n",
      "  - Installing \u001b[32mnunomaduro/collision\u001b[39m (\u001b[33mv8.1.1\u001b[39m): Extracting archive\n",
      "  - Installing \u001b[32mspatie/backtrace\u001b[39m (\u001b[33m1.6.1\u001b[39m): Extracting archive\n",
      "  - Installing \u001b[32mspatie/flare-client-php\u001b[39m (\u001b[33m1.5.1\u001b[39m): Extracting archive\n",
      "  - Installing \u001b[32mspatie/ignition\u001b[39m (\u001b[33m1.14.1\u001b[39m): Extracting archive\n",
      "  - Installing \u001b[32mspatie/laravel-ignition\u001b[39m (\u001b[33m2.7.0\u001b[39m): Extracting archive\n",
      "   0/125 [>---------------------------]   0%\u001b[1G\u001b[2K  29/125 [======>---------------------]  23%\u001b[1G\u001b[2K  53/125 [===========>----------------]  42%\u001b[1G\u001b[2K  73/125 [================>-----------]  58%\u001b[1G\u001b[2K  86/125 [===================>--------]  68%\u001b[1G\u001b[2K 102/125 [======================>-----]  81%\u001b[1G\u001b[2K 116/125 [=========================>--]  92%\u001b[1G\u001b[2K 125/125 [============================] 100%\u001b[1G\u001b[2K\u001b[32mGenerating optimized autoload files\u001b[39m\n",
      "> Illuminate\\Foundation\\ComposerScripts::postAutoloadDump\n",
      "> @php artisan package:discover --ansi\n",
      "\n",
      "  \u001b[37;44m INFO \u001b[39;49m Discovering packages.  \n",
      "\n",
      "  laravel/sail \u001b[90m.\u001b[39m\u001b[90m.\u001b[39m\u001b[90m.\u001b[39m\u001b[90m.\u001b[39m\u001b[90m.\u001b[39m\u001b[90m.\u001b[39m\u001b[90m.\u001b[39m\u001b[90m.\u001b[39m\u001b[90m.\u001b[39m\u001b[90m.\u001b[39m\u001b[90m.\u001b[39m\u001b[90m.\u001b[39m\u001b[90m.\u001b[39m\u001b[90m.\u001b[39m\u001b[90m.\u001b[39m\u001b[90m.\u001b[39m\u001b[90m.\u001b[39m\u001b[90m.\u001b[39m\u001b[90m.\u001b[39m\u001b[90m.\u001b[39m\u001b[90m.\u001b[39m\u001b[90m.\u001b[39m\u001b[90m.\u001b[39m\u001b[90m.\u001b[39m\u001b[90m.\u001b[39m\u001b[90m.\u001b[39m\u001b[90m.\u001b[39m\u001b[90m.\u001b[39m\u001b[90m.\u001b[39m\u001b[90m.\u001b[39m\u001b[90m.\u001b[39m\u001b[90m.\u001b[39m\u001b[90m.\u001b[39m\u001b[90m.\u001b[39m\u001b[90m.\u001b[39m\u001b[90m.\u001b[39m\u001b[90m.\u001b[39m\u001b[90m.\u001b[39m\u001b[90m.\u001b[39m\u001b[90m.\u001b[39m\u001b[90m.\u001b[39m\u001b[90m.\u001b[39m\u001b[90m.\u001b[39m\u001b[90m.\u001b[39m\u001b[90m.\u001b[39m\u001b[90m.\u001b[39m\u001b[90m.\u001b[39m\u001b[90m.\u001b[39m\u001b[90m.\u001b[39m\u001b[90m.\u001b[39m\u001b[90m.\u001b[39m\u001b[90m.\u001b[39m\u001b[90m.\u001b[39m\u001b[90m.\u001b[39m\u001b[90m.\u001b[39m\u001b[90m.\u001b[39m\u001b[90m.\u001b[39m\u001b[90m.\u001b[39m \u001b[32;1mDONE\u001b[39;22m\n",
      "  laravel/tinker \u001b[90m.\u001b[39m\u001b[90m.\u001b[39m\u001b[90m.\u001b[39m\u001b[90m.\u001b[39m\u001b[90m.\u001b[39m\u001b[90m.\u001b[39m\u001b[90m.\u001b[39m\u001b[90m.\u001b[39m\u001b[90m.\u001b[39m\u001b[90m.\u001b[39m\u001b[90m.\u001b[39m\u001b[90m.\u001b[39m\u001b[90m.\u001b[39m\u001b[90m.\u001b[39m\u001b[90m.\u001b[39m\u001b[90m.\u001b[39m\u001b[90m.\u001b[39m\u001b[90m.\u001b[39m\u001b[90m.\u001b[39m\u001b[90m.\u001b[39m\u001b[90m.\u001b[39m\u001b[90m.\u001b[39m\u001b[90m.\u001b[39m\u001b[90m.\u001b[39m\u001b[90m.\u001b[39m\u001b[90m.\u001b[39m\u001b[90m.\u001b[39m\u001b[90m.\u001b[39m\u001b[90m.\u001b[39m\u001b[90m.\u001b[39m\u001b[90m.\u001b[39m\u001b[90m.\u001b[39m\u001b[90m.\u001b[39m\u001b[90m.\u001b[39m\u001b[90m.\u001b[39m\u001b[90m.\u001b[39m\u001b[90m.\u001b[39m\u001b[90m.\u001b[39m\u001b[90m.\u001b[39m\u001b[90m.\u001b[39m\u001b[90m.\u001b[39m\u001b[90m.\u001b[39m\u001b[90m.\u001b[39m\u001b[90m.\u001b[39m\u001b[90m.\u001b[39m\u001b[90m.\u001b[39m\u001b[90m.\u001b[39m\u001b[90m.\u001b[39m\u001b[90m.\u001b[39m\u001b[90m.\u001b[39m\u001b[90m.\u001b[39m\u001b[90m.\u001b[39m\u001b[90m.\u001b[39m\u001b[90m.\u001b[39m\u001b[90m.\u001b[39m\u001b[90m.\u001b[39m \u001b[32;1mDONE\u001b[39;22m\n",
      "  nesbot/carbon \u001b[90m.\u001b[39m\u001b[90m.\u001b[39m\u001b[90m.\u001b[39m\u001b[90m.\u001b[39m\u001b[90m.\u001b[39m\u001b[90m.\u001b[39m\u001b[90m.\u001b[39m\u001b[90m.\u001b[39m\u001b[90m.\u001b[39m\u001b[90m.\u001b[39m\u001b[90m.\u001b[39m\u001b[90m.\u001b[39m\u001b[90m.\u001b[39m\u001b[90m.\u001b[39m\u001b[90m.\u001b[39m\u001b[90m.\u001b[39m\u001b[90m.\u001b[39m\u001b[90m.\u001b[39m\u001b[90m.\u001b[39m\u001b[90m.\u001b[39m\u001b[90m.\u001b[39m\u001b[90m.\u001b[39m\u001b[90m.\u001b[39m\u001b[90m.\u001b[39m\u001b[90m.\u001b[39m\u001b[90m.\u001b[39m\u001b[90m.\u001b[39m\u001b[90m.\u001b[39m\u001b[90m.\u001b[39m\u001b[90m.\u001b[39m\u001b[90m.\u001b[39m\u001b[90m.\u001b[39m\u001b[90m.\u001b[39m\u001b[90m.\u001b[39m\u001b[90m.\u001b[39m\u001b[90m.\u001b[39m\u001b[90m.\u001b[39m\u001b[90m.\u001b[39m\u001b[90m.\u001b[39m\u001b[90m.\u001b[39m\u001b[90m.\u001b[39m\u001b[90m.\u001b[39m\u001b[90m.\u001b[39m\u001b[90m.\u001b[39m\u001b[90m.\u001b[39m\u001b[90m.\u001b[39m\u001b[90m.\u001b[39m\u001b[90m.\u001b[39m\u001b[90m.\u001b[39m\u001b[90m.\u001b[39m\u001b[90m.\u001b[39m\u001b[90m.\u001b[39m\u001b[90m.\u001b[39m\u001b[90m.\u001b[39m\u001b[90m.\u001b[39m\u001b[90m.\u001b[39m\u001b[90m.\u001b[39m \u001b[32;1mDONE\u001b[39;22m\n",
      "  nunomaduro/collision \u001b[90m.\u001b[39m\u001b[90m.\u001b[39m\u001b[90m.\u001b[39m\u001b[90m.\u001b[39m\u001b[90m.\u001b[39m\u001b[90m.\u001b[39m\u001b[90m.\u001b[39m\u001b[90m.\u001b[39m\u001b[90m.\u001b[39m\u001b[90m.\u001b[39m\u001b[90m.\u001b[39m\u001b[90m.\u001b[39m\u001b[90m.\u001b[39m\u001b[90m.\u001b[39m\u001b[90m.\u001b[39m\u001b[90m.\u001b[39m\u001b[90m.\u001b[39m\u001b[90m.\u001b[39m\u001b[90m.\u001b[39m\u001b[90m.\u001b[39m\u001b[90m.\u001b[39m\u001b[90m.\u001b[39m\u001b[90m.\u001b[39m\u001b[90m.\u001b[39m\u001b[90m.\u001b[39m\u001b[90m.\u001b[39m\u001b[90m.\u001b[39m\u001b[90m.\u001b[39m\u001b[90m.\u001b[39m\u001b[90m.\u001b[39m\u001b[90m.\u001b[39m\u001b[90m.\u001b[39m\u001b[90m.\u001b[39m\u001b[90m.\u001b[39m\u001b[90m.\u001b[39m\u001b[90m.\u001b[39m\u001b[90m.\u001b[39m\u001b[90m.\u001b[39m\u001b[90m.\u001b[39m\u001b[90m.\u001b[39m\u001b[90m.\u001b[39m\u001b[90m.\u001b[39m\u001b[90m.\u001b[39m\u001b[90m.\u001b[39m\u001b[90m.\u001b[39m\u001b[90m.\u001b[39m\u001b[90m.\u001b[39m\u001b[90m.\u001b[39m\u001b[90m.\u001b[39m\u001b[90m.\u001b[39m \u001b[32;1mDONE\u001b[39;22m\n",
      "  nunomaduro/termwind \u001b[90m.\u001b[39m\u001b[90m.\u001b[39m\u001b[90m.\u001b[39m\u001b[90m.\u001b[39m\u001b[90m.\u001b[39m\u001b[90m.\u001b[39m\u001b[90m.\u001b[39m\u001b[90m.\u001b[39m\u001b[90m.\u001b[39m\u001b[90m.\u001b[39m\u001b[90m.\u001b[39m\u001b[90m.\u001b[39m\u001b[90m.\u001b[39m\u001b[90m.\u001b[39m\u001b[90m.\u001b[39m\u001b[90m.\u001b[39m\u001b[90m.\u001b[39m\u001b[90m.\u001b[39m\u001b[90m.\u001b[39m\u001b[90m.\u001b[39m\u001b[90m.\u001b[39m\u001b[90m.\u001b[39m\u001b[90m.\u001b[39m\u001b[90m.\u001b[39m\u001b[90m.\u001b[39m\u001b[90m.\u001b[39m\u001b[90m.\u001b[39m\u001b[90m.\u001b[39m\u001b[90m.\u001b[39m\u001b[90m.\u001b[39m\u001b[90m.\u001b[39m\u001b[90m.\u001b[39m\u001b[90m.\u001b[39m\u001b[90m.\u001b[39m\u001b[90m.\u001b[39m\u001b[90m.\u001b[39m\u001b[90m.\u001b[39m\u001b[90m.\u001b[39m\u001b[90m.\u001b[39m\u001b[90m.\u001b[39m\u001b[90m.\u001b[39m\u001b[90m.\u001b[39m\u001b[90m.\u001b[39m\u001b[90m.\u001b[39m\u001b[90m.\u001b[39m\u001b[90m.\u001b[39m\u001b[90m.\u001b[39m\u001b[90m.\u001b[39m\u001b[90m.\u001b[39m\u001b[90m.\u001b[39m\u001b[90m.\u001b[39m \u001b[32;1mDONE\u001b[39;22m\n",
      "  spatie/laravel-ignition \u001b[90m.\u001b[39m\u001b[90m.\u001b[39m\u001b[90m.\u001b[39m\u001b[90m.\u001b[39m\u001b[90m.\u001b[39m\u001b[90m.\u001b[39m\u001b[90m.\u001b[39m\u001b[90m.\u001b[39m\u001b[90m.\u001b[39m\u001b[90m.\u001b[39m\u001b[90m.\u001b[39m\u001b[90m.\u001b[39m\u001b[90m.\u001b[39m\u001b[90m.\u001b[39m\u001b[90m.\u001b[39m\u001b[90m.\u001b[39m\u001b[90m.\u001b[39m\u001b[90m.\u001b[39m\u001b[90m.\u001b[39m\u001b[90m.\u001b[39m\u001b[90m.\u001b[39m\u001b[90m.\u001b[39m\u001b[90m.\u001b[39m\u001b[90m.\u001b[39m\u001b[90m.\u001b[39m\u001b[90m.\u001b[39m\u001b[90m.\u001b[39m\u001b[90m.\u001b[39m\u001b[90m.\u001b[39m\u001b[90m.\u001b[39m\u001b[90m.\u001b[39m\u001b[90m.\u001b[39m\u001b[90m.\u001b[39m\u001b[90m.\u001b[39m\u001b[90m.\u001b[39m\u001b[90m.\u001b[39m\u001b[90m.\u001b[39m\u001b[90m.\u001b[39m\u001b[90m.\u001b[39m\u001b[90m.\u001b[39m\u001b[90m.\u001b[39m\u001b[90m.\u001b[39m\u001b[90m.\u001b[39m\u001b[90m.\u001b[39m\u001b[90m.\u001b[39m\u001b[90m.\u001b[39m\u001b[90m.\u001b[39m \u001b[32;1mDONE\u001b[39;22m\n",
      "\n",
      "\u001b[32m88 packages you are using are looking for funding.\u001b[39m\n",
      "\u001b[32mUse the `composer fund` command to find out more!\u001b[39m\n"
     ]
    }
   ],
   "source": [
    "! composer install"
   ]
  },
  {
   "cell_type": "code",
   "execution_count": 91,
   "metadata": {},
   "outputs": [],
   "source": [
    "! cp .env.example .env"
   ]
  },
  {
   "cell_type": "code",
   "execution_count": 92,
   "metadata": {},
   "outputs": [
    {
     "name": "stdout",
     "output_type": "stream",
     "text": [
      "\n",
      "  \u001b[37;44m INFO \u001b[39;49m Application key set successfully.  \n",
      "\n"
     ]
    }
   ],
   "source": [
    "! php artisan key:generate"
   ]
  },
  {
   "cell_type": "code",
   "execution_count": 93,
   "metadata": {},
   "outputs": [
    {
     "name": "stdout",
     "output_type": "stream",
     "text": [
      "\n",
      "  Dropping all tables \u001b[90m.\u001b[39m\u001b[90m.\u001b[39m\u001b[90m.\u001b[39m\u001b[90m.\u001b[39m\u001b[90m.\u001b[39m\u001b[90m.\u001b[39m\u001b[90m.\u001b[39m\u001b[90m.\u001b[39m\u001b[90m.\u001b[39m\u001b[90m.\u001b[39m\u001b[90m.\u001b[39m\u001b[90m.\u001b[39m\u001b[90m.\u001b[39m\u001b[90m.\u001b[39m\u001b[90m.\u001b[39m\u001b[90m.\u001b[39m\u001b[90m.\u001b[39m\u001b[90m.\u001b[39m\u001b[90m.\u001b[39m\u001b[90m.\u001b[39m\u001b[90m.\u001b[39m\u001b[90m.\u001b[39m\u001b[90m.\u001b[39m\u001b[90m.\u001b[39m\u001b[90m.\u001b[39m\u001b[90m.\u001b[39m\u001b[90m.\u001b[39m\u001b[90m.\u001b[39m\u001b[90m.\u001b[39m\u001b[90m.\u001b[39m\u001b[90m.\u001b[39m\u001b[90m.\u001b[39m\u001b[90m.\u001b[39m\u001b[90m.\u001b[39m\u001b[90m.\u001b[39m\u001b[90m.\u001b[39m\u001b[90m.\u001b[39m\u001b[90m.\u001b[39m\u001b[90m.\u001b[39m\u001b[90m.\u001b[39m\u001b[90m.\u001b[39m\u001b[90m.\u001b[39m\u001b[90m 462.92ms\u001b[39m \u001b[32;1mDONE\u001b[39;22m\n",
      "\n",
      "  \u001b[37;44m INFO \u001b[39;49m Preparing database.  \n",
      "\n",
      "  Creating migration table \u001b[90m.\u001b[39m\u001b[90m.\u001b[39m\u001b[90m.\u001b[39m\u001b[90m.\u001b[39m\u001b[90m.\u001b[39m\u001b[90m.\u001b[39m\u001b[90m.\u001b[39m\u001b[90m.\u001b[39m\u001b[90m.\u001b[39m\u001b[90m.\u001b[39m\u001b[90m.\u001b[39m\u001b[90m.\u001b[39m\u001b[90m.\u001b[39m\u001b[90m.\u001b[39m\u001b[90m.\u001b[39m\u001b[90m.\u001b[39m\u001b[90m.\u001b[39m\u001b[90m.\u001b[39m\u001b[90m.\u001b[39m\u001b[90m.\u001b[39m\u001b[90m.\u001b[39m\u001b[90m.\u001b[39m\u001b[90m.\u001b[39m\u001b[90m.\u001b[39m\u001b[90m.\u001b[39m\u001b[90m.\u001b[39m\u001b[90m.\u001b[39m\u001b[90m.\u001b[39m\u001b[90m.\u001b[39m\u001b[90m.\u001b[39m\u001b[90m.\u001b[39m\u001b[90m.\u001b[39m\u001b[90m.\u001b[39m\u001b[90m.\u001b[39m\u001b[90m.\u001b[39m\u001b[90m.\u001b[39m\u001b[90m.\u001b[39m\u001b[90m 139.94ms\u001b[39m \u001b[32;1mDONE\u001b[39;22m\n",
      "\n",
      "  \u001b[37;44m INFO \u001b[39;49m Running migrations.  \n",
      "\n",
      "  0001_01_01_000000_create_users_table \u001b[90m.\u001b[39m\u001b[90m.\u001b[39m\u001b[90m.\u001b[39m\u001b[90m.\u001b[39m\u001b[90m.\u001b[39m\u001b[90m.\u001b[39m\u001b[90m.\u001b[39m\u001b[90m.\u001b[39m\u001b[90m.\u001b[39m\u001b[90m.\u001b[39m\u001b[90m.\u001b[39m\u001b[90m.\u001b[39m\u001b[90m.\u001b[39m\u001b[90m.\u001b[39m\u001b[90m.\u001b[39m\u001b[90m.\u001b[39m\u001b[90m.\u001b[39m\u001b[90m.\u001b[39m\u001b[90m.\u001b[39m\u001b[90m.\u001b[39m\u001b[90m.\u001b[39m\u001b[90m.\u001b[39m\u001b[90m.\u001b[39m\u001b[90m.\u001b[39m\u001b[90m.\u001b[39m\u001b[90m.\u001b[39m\u001b[90m.\u001b[39m\u001b[90m.\u001b[39m\u001b[90m.\u001b[39m\u001b[90m.\u001b[39m\u001b[90m.\u001b[39m\u001b[90m 1s\u001b[39m \u001b[32;1mDONE\u001b[39;22m\n",
      "  0001_01_01_000001_create_cache_table \u001b[90m.\u001b[39m\u001b[90m.\u001b[39m\u001b[90m.\u001b[39m\u001b[90m.\u001b[39m\u001b[90m.\u001b[39m\u001b[90m.\u001b[39m\u001b[90m.\u001b[39m\u001b[90m.\u001b[39m\u001b[90m.\u001b[39m\u001b[90m.\u001b[39m\u001b[90m.\u001b[39m\u001b[90m.\u001b[39m\u001b[90m.\u001b[39m\u001b[90m.\u001b[39m\u001b[90m.\u001b[39m\u001b[90m.\u001b[39m\u001b[90m.\u001b[39m\u001b[90m.\u001b[39m\u001b[90m.\u001b[39m\u001b[90m.\u001b[39m\u001b[90m.\u001b[39m\u001b[90m.\u001b[39m\u001b[90m.\u001b[39m\u001b[90m.\u001b[39m\u001b[90m.\u001b[39m\u001b[90m 254.24ms\u001b[39m \u001b[32;1mDONE\u001b[39;22m\n",
      "  0001_01_01_000002_create_jobs_table \u001b[90m.\u001b[39m\u001b[90m.\u001b[39m\u001b[90m.\u001b[39m\u001b[90m.\u001b[39m\u001b[90m.\u001b[39m\u001b[90m.\u001b[39m\u001b[90m.\u001b[39m\u001b[90m.\u001b[39m\u001b[90m.\u001b[39m\u001b[90m.\u001b[39m\u001b[90m.\u001b[39m\u001b[90m.\u001b[39m\u001b[90m.\u001b[39m\u001b[90m.\u001b[39m\u001b[90m.\u001b[39m\u001b[90m.\u001b[39m\u001b[90m.\u001b[39m\u001b[90m.\u001b[39m\u001b[90m.\u001b[39m\u001b[90m.\u001b[39m\u001b[90m.\u001b[39m\u001b[90m.\u001b[39m\u001b[90m.\u001b[39m\u001b[90m.\u001b[39m\u001b[90m.\u001b[39m\u001b[90m.\u001b[39m\u001b[90m 523.24ms\u001b[39m \u001b[32;1mDONE\u001b[39;22m\n",
      "\n"
     ]
    }
   ],
   "source": [
    "! php artisan migrate:fresh"
   ]
  },
  {
   "cell_type": "code",
   "execution_count": 94,
   "metadata": {},
   "outputs": [
    {
     "name": "stdout",
     "output_type": "stream",
     "text": [
      "mysqldump: [Warning] Using a password on the command line interface can be insecure.\n"
     ]
    }
   ],
   "source": [
    "! mysqldump -h127.0.0.1 -u root --password=root123 test > tests_codeception/Support/Data/dump.sql"
   ]
  },
  {
   "cell_type": "code",
   "execution_count": 95,
   "metadata": {},
   "outputs": [],
   "source": [
    "import subprocess, os\n",
    "os.environ[\"PATH\"] += os.pathsep + '/opt/selenium/'\n",
    "seleniumServer = subprocess.Popen(['java', '-jar', 'selenium-server-4.18.0.jar', 'standalone'], cwd='/opt/selenium/')"
   ]
  },
  {
   "cell_type": "code",
   "execution_count": 96,
   "metadata": {},
   "outputs": [
    {
     "name": "stdout",
     "output_type": "stream",
     "text": [
      "14:00:37.323 INFO [LoggingOptions.configureLogEncoding] - Using the system default encoding\n",
      "14:00:37.328 INFO [OpenTelemetryTracer.createTracer] - Using OpenTelemetry for tracing\n",
      "14:00:37.923 INFO [NodeOptions.getSessionFactories] - Detected 4 available processors\n",
      "14:00:37.925 INFO [NodeOptions.discoverDrivers] - Looking for existing drivers on the PATH.\n",
      "14:00:37.925 INFO [NodeOptions.discoverDrivers] - Add '--selenium-manager true' to the startup command to setup drivers automatically.\n",
      "14:00:38.005 WARN [SeleniumManager.lambda$runCommand$1] - Unable to discover proper msedgedriver version in offline mode\n",
      "14:00:38.019 WARN [SeleniumManager.lambda$runCommand$1] - Unable to discover proper geckodriver version in offline mode\n",
      "14:00:38.039 INFO [NodeOptions.report] - Adding Chrome for {\"browserName\": \"chrome\",\"platformName\": \"linux\"} 4 times\n",
      "14:00:38.065 INFO [Node.<init>] - Binding additional locator mechanisms: relative\n",
      "14:00:38.084 INFO [GridModel.setAvailability] - Switching Node eeaf2742-3500-4ea1-b9a8-3e8a81633a85 (uri: http://172.17.0.1:4444) from DOWN to UP\n",
      "14:00:38.084 INFO [LocalDistributor.add] - Added node eeaf2742-3500-4ea1-b9a8-3e8a81633a85 at http://172.17.0.1:4444. Health check every 120s\n",
      "\n",
      "   INFO  Server running on [http://127.0.0.1:8888].  \n",
      "\n",
      "  Press Ctrl+C to stop the server\n",
      "\n",
      "14:00:38.246 INFO [Standalone.execute] - Started Selenium Standalone 4.18.0 (revision b6bf9de7cc): http://172.17.0.1:4444\n"
     ]
    }
   ],
   "source": [
    "import subprocess\n",
    "phpServer = subprocess.Popen(['php', 'artisan', 'serve', '--port', '8888'])"
   ]
  },
  {
   "cell_type": "code",
   "execution_count": 97,
   "metadata": {},
   "outputs": [
    {
     "name": "stdout",
     "output_type": "stream",
     "text": [
      "Codeception PHP Testing Framework v5.1.2 https://stand-with-ukraine.pp.ua\n",
      "\n",
      "\u001b[1mTestsCodeception.Acceptance Tests (1) \u001b[22m------------------------------------------\n",
      "- \u001b[35;1mHomepageCest:\u001b[39;22m See Laravel links on homepage14:00:48.404 INFO [LocalDistributor.newSession] - Session request received by the Distributor: \n",
      " [Capabilities {browserName: chrome}]\n",
      "14:00:49.538 INFO [LocalNode.newSession] - Session created by the Node. Id: 414dc7886af3dd53d84379f860a752cf, Caps: Capabilities {acceptInsecureCerts: false, browserName: chrome, browserVersion: 121.0.6167.184, chrome: {chromedriverVersion: 121.0.6167.184 (057a8ae7deb..., userDataDir: /tmp/.org.chromium.Chromium...}, fedcm:accounts: true, goog:chromeOptions: {debuggerAddress: localhost:44387}, networkConnectionEnabled: false, pageLoadStrategy: normal, platformName: linux, proxy: Proxy(), se:bidiEnabled: false, se:cdp: ws://172.17.0.1:4444/sessio..., se:cdpVersion: 121.0.6167.184, setWindowRect: true, strictFileInteractability: false, timeouts: {implicit: 0, pageLoad: 300000, script: 30000}, unhandledPromptBehavior: dismiss and notify, webauthn:extension:credBlob: true, webauthn:extension:largeBlob: true, webauthn:extension:minPinLength: true, webauthn:extension:prf: true, webauthn:virtualAuthenticators: true}\n",
      "14:00:49.552 INFO [LocalDistributor.newSession] - Session created by the Distributor. Id: 414dc7886af3dd53d84379f860a752cf \n",
      " Caps: Capabilities {acceptInsecureCerts: false, browserName: chrome, browserVersion: 121.0.6167.184, chrome: {chromedriverVersion: 121.0.6167.184 (057a8ae7deb..., userDataDir: /tmp/.org.chromium.Chromium...}, fedcm:accounts: true, goog:chromeOptions: {debuggerAddress: localhost:44387}, networkConnectionEnabled: false, pageLoadStrategy: normal, platformName: linux, proxy: Proxy(), se:bidiEnabled: false, se:cdp: ws://172.17.0.1:4444/sessio..., se:cdpVersion: 121.0.6167.184, setWindowRect: true, strictFileInteractability: false, timeouts: {implicit: 0, pageLoad: 300000, script: 30000}, unhandledPromptBehavior: dismiss and notify, webauthn:extension:credBlob: true, webauthn:extension:largeBlob: true, webauthn:extension:minPinLength: true, webauthn:extension:prf: true, webauthn:virtualAuthenticators: true}\n",
      "  2024-05-21 14:00:49 ................................................... ~ 0s\n",
      "  2024-05-21 14:00:49 /favicon.ico ..................................... ~ -1s\n",
      "\u001b[32;1m✔\u001b[39;22m \u001b[35;1mHomepageCest:\u001b[39;22m See Laravel links on homepage\u001b[32m(1.66s)\u001b[39m\n",
      "14:00:53.752 INFO [LocalSessionMap.lambda$new$0] - Deleted session from local Session Map, Id: 414dc7886af3dd53d84379f860a752cf\n",
      "14:00:53.752 INFO [GridModel.release] - Releasing slot for session id 414dc7886af3dd53d84379f860a752cf\n",
      "14:00:53.753 INFO [SessionSlot.stop] - Stopping session 414dc7886af3dd53d84379f860a752cf\n",
      "--------------------------------------------------------------------------------\n",
      "Time: 00:11.923, Memory: 14.00 MB\n",
      "\n",
      "\u001b[30;42mOK (1 test, 7 assertions)\u001b[39;49m\n"
     ]
    }
   ],
   "source": [
    "! vendor/bin/codecept run"
   ]
  },
  {
   "cell_type": "code",
   "execution_count": 98,
   "metadata": {},
   "outputs": [],
   "source": [
    "! killall php8.3"
   ]
  },
  {
   "cell_type": "code",
   "execution_count": 99,
   "metadata": {},
   "outputs": [],
   "source": [
    "seleniumServer.kill()"
   ]
  },
  {
   "cell_type": "code",
   "execution_count": 100,
   "metadata": {},
   "outputs": [
    {
     "name": "stdout",
     "output_type": "stream",
     "text": [
      "On branch master\n",
      "Your branch is up to date with 'origin/master'.\n",
      "\n",
      "Changes to be committed:\n",
      "  (use \"git restore --staged <file>...\" to unstage)\n",
      "\t\u001b[32mnew file:   .editorconfig\u001b[m\n",
      "\t\u001b[32mnew file:   .env.example\u001b[m\n",
      "\t\u001b[32mnew file:   .gitattributes\u001b[m\n",
      "\t\u001b[32mnew file:   .gitignore\u001b[m\n",
      "\t\u001b[32mnew file:   README.md\u001b[m\n",
      "\t\u001b[32mnew file:   app/Http/Controllers/Controller.php\u001b[m\n",
      "\t\u001b[32mnew file:   app/Models/User.php\u001b[m\n",
      "\t\u001b[32mnew file:   app/Providers/AppServiceProvider.php\u001b[m\n",
      "\t\u001b[32mnew file:   artisan\u001b[m\n",
      "\t\u001b[32mnew file:   bootstrap/app.php\u001b[m\n",
      "\t\u001b[32mnew file:   bootstrap/cache/.gitignore\u001b[m\n",
      "\t\u001b[32mnew file:   bootstrap/providers.php\u001b[m\n",
      "\t\u001b[32mnew file:   codeception.yml\u001b[m\n",
      "\t\u001b[32mnew file:   composer.json\u001b[m\n",
      "\t\u001b[32mnew file:   composer.lock\u001b[m\n",
      "\t\u001b[32mnew file:   config/app.php\u001b[m\n",
      "\t\u001b[32mnew file:   config/auth.php\u001b[m\n",
      "\t\u001b[32mnew file:   config/cache.php\u001b[m\n",
      "\t\u001b[32mnew file:   config/database.php\u001b[m\n",
      "\t\u001b[32mnew file:   config/filesystems.php\u001b[m\n",
      "\t\u001b[32mnew file:   config/logging.php\u001b[m\n",
      "\t\u001b[32mnew file:   config/mail.php\u001b[m\n",
      "\t\u001b[32mnew file:   config/queue.php\u001b[m\n",
      "\t\u001b[32mnew file:   config/services.php\u001b[m\n",
      "\t\u001b[32mnew file:   config/session.php\u001b[m\n",
      "\t\u001b[32mnew file:   database/.gitignore\u001b[m\n",
      "\t\u001b[32mnew file:   database/factories/UserFactory.php\u001b[m\n",
      "\t\u001b[32mnew file:   database/migrations/0001_01_01_000000_create_users_table.php\u001b[m\n",
      "\t\u001b[32mnew file:   database/migrations/0001_01_01_000001_create_cache_table.php\u001b[m\n",
      "\t\u001b[32mnew file:   database/migrations/0001_01_01_000002_create_jobs_table.php\u001b[m\n",
      "\t\u001b[32mnew file:   database/seeders/DatabaseSeeder.php\u001b[m\n",
      "\t\u001b[32mnew file:   package.json\u001b[m\n",
      "\t\u001b[32mnew file:   phpunit.xml\u001b[m\n",
      "\t\u001b[32mnew file:   public/.htaccess\u001b[m\n",
      "\t\u001b[32mnew file:   public/favicon.ico\u001b[m\n",
      "\t\u001b[32mnew file:   public/index.php\u001b[m\n",
      "\t\u001b[32mnew file:   public/robots.txt\u001b[m\n",
      "\t\u001b[32mnew file:   resources/css/app.css\u001b[m\n",
      "\t\u001b[32mnew file:   resources/js/app.js\u001b[m\n",
      "\t\u001b[32mnew file:   resources/js/bootstrap.js\u001b[m\n",
      "\t\u001b[32mnew file:   resources/views/welcome.blade.php\u001b[m\n",
      "\t\u001b[32mnew file:   routes/console.php\u001b[m\n",
      "\t\u001b[32mnew file:   routes/web.php\u001b[m\n",
      "\t\u001b[32mnew file:   storage/app/.gitignore\u001b[m\n",
      "\t\u001b[32mnew file:   storage/app/public/.gitignore\u001b[m\n",
      "\t\u001b[32mnew file:   storage/framework/.gitignore\u001b[m\n",
      "\t\u001b[32mnew file:   storage/framework/cache/.gitignore\u001b[m\n",
      "\t\u001b[32mnew file:   storage/framework/cache/data/.gitignore\u001b[m\n",
      "\t\u001b[32mnew file:   storage/framework/sessions/.gitignore\u001b[m\n",
      "\t\u001b[32mnew file:   storage/framework/testing/.gitignore\u001b[m\n",
      "\t\u001b[32mnew file:   storage/framework/views/.gitignore\u001b[m\n",
      "\t\u001b[32mnew file:   storage/logs/.gitignore\u001b[m\n",
      "\t\u001b[32mnew file:   tests/Feature/ExampleTest.php\u001b[m\n",
      "\t\u001b[32mnew file:   tests/TestCase.php\u001b[m\n",
      "\t\u001b[32mnew file:   tests/Unit/ExampleTest.php\u001b[m\n",
      "\t\u001b[32mnew file:   tests_codeception/Acceptance.suite.yml\u001b[m\n",
      "\t\u001b[32mnew file:   tests_codeception/Acceptance/HomepageCest.php\u001b[m\n",
      "\t\u001b[32mnew file:   tests_codeception/Support/AcceptanceTester.php\u001b[m\n",
      "\t\u001b[32mnew file:   tests_codeception/Support/Data/.gitignore\u001b[m\n",
      "\t\u001b[32mnew file:   tests_codeception/Support/_generated/.gitignore\u001b[m\n",
      "\t\u001b[32mnew file:   tests_codeception/_output/.gitignore\u001b[m\n",
      "\t\u001b[32mnew file:   vite.config.js\u001b[m\n",
      "\n"
     ]
    }
   ],
   "source": [
    "! git status ."
   ]
  },
  {
   "cell_type": "markdown",
   "metadata": {},
   "source": [
    "#### Stop the database"
   ]
  },
  {
   "cell_type": "code",
   "execution_count": 101,
   "metadata": {},
   "outputs": [
    {
     "name": "stdout",
     "output_type": "stream",
     "text": [
      "mysql\n"
     ]
    }
   ],
   "source": [
    "! docker container stop mysql"
   ]
  },
  {
   "cell_type": "markdown",
   "metadata": {},
   "source": [
    "#### Frontend"
   ]
  },
  {
   "cell_type": "code",
   "execution_count": 102,
   "metadata": {},
   "outputs": [
    {
     "name": "stdout",
     "output_type": "stream",
     "text": [
      "\u001b[K\u001b[?25hm##################\u001b[0m) ⠦ reify:@esbuild/linux-x64: \u001b[32;40mtiming\u001b[0m \u001b[35mreifyNode:node_modules/\u001b[0m\u001b[Kd\u001b[0m Comp\u001b[0m\u001b[K\n",
      "added 23 packages, and audited 24 packages in 7s\n",
      "\n",
      "5 packages are looking for funding\n",
      "  run `npm fund` for details\n",
      "\n",
      "found \u001b[32m\u001b[1m0\u001b[22m\u001b[39m vulnerabilities\n",
      "\u001b[37;40mnpm\u001b[0m \u001b[0m\u001b[36;40mnotice\u001b[0m\u001b[35m\u001b[0m \n",
      "\u001b[0m\u001b[37;40mnpm\u001b[0m \u001b[0m\u001b[36;40mnotice\u001b[0m\u001b[35m\u001b[0m New \u001b[33mminor\u001b[39m version of npm available! \u001b[31m10.2.4\u001b[39m -> \u001b[32m10.8.0\u001b[39m\n",
      "\u001b[0m\u001b[37;40mnpm\u001b[0m \u001b[0m\u001b[36;40mnotice\u001b[0m\u001b[35m\u001b[0m Changelog: \u001b[36mhttps://github.com/npm/cli/releases/tag/v10.8.0\u001b[39m\n",
      "\u001b[0m\u001b[37;40mnpm\u001b[0m \u001b[0m\u001b[36;40mnotice\u001b[0m\u001b[35m\u001b[0m Run \u001b[32mnpm install -g npm@10.8.0\u001b[39m to update!\n",
      "\u001b[0m\u001b[37;40mnpm\u001b[0m \u001b[0m\u001b[36;40mnotice\u001b[0m\u001b[35m\u001b[0m \n",
      "\u001b[0m"
     ]
    }
   ],
   "source": [
    "! npm install"
   ]
  },
  {
   "cell_type": "code",
   "execution_count": 103,
   "metadata": {},
   "outputs": [
    {
     "name": "stdout",
     "output_type": "stream",
     "text": [
      "\n",
      "> build\n",
      "> vite build\n",
      "\n",
      "\u001b[36mvite v5.2.11 \u001b[32mbuilding for production...\u001b[36m\u001b[39m\n",
      "\u001b[2K\u001b[1Gtransforming (1) \u001b[2mresources/js/app.js\u001b[22m\u001b[2K\u001b[1Gtransforming (22) \u001b[2mnode_modules/axios/lib/helpers/buildURL.js\u001b[22m\u001b[2K\u001b[1G\u001b[32m✓\u001b[39m 53 modules transformed.\n",
      "\u001b[2K\u001b[1Grendering chunks (1)...\u001b[2K\u001b[1Grendering chunks (2)...\u001b[2K\u001b[1G\u001b[2K\u001b[1Gcomputing gzip size (0)...\u001b[2K\u001b[1Gcomputing gzip size (1)...\u001b[2K\u001b[1Gcomputing gzip size (2)...\u001b[2K\u001b[1Gcomputing gzip size (3)...\u001b[2K\u001b[1G\u001b[2mpublic/build/\u001b[22m\u001b[32mmanifest.json           \u001b[39m\u001b[1m\u001b[2m 0.29 kB\u001b[22m\u001b[1m\u001b[22m\u001b[2m │ gzip:  0.15 kB\u001b[22m\n",
      "\u001b[2mpublic/build/\u001b[22m\u001b[2massets/\u001b[22m\u001b[36mapp-l0sNRNKZ.js  \u001b[39m\u001b[1m\u001b[2m 0.00 kB\u001b[22m\u001b[1m\u001b[22m\u001b[2m │ gzip:  0.02 kB\u001b[22m\n",
      "\u001b[2mpublic/build/\u001b[22m\u001b[2massets/\u001b[22m\u001b[36mapp-DIM0x79V.js  \u001b[39m\u001b[1m\u001b[2m34.04 kB\u001b[22m\u001b[1m\u001b[22m\u001b[2m │ gzip: 13.61 kB\u001b[22m\n",
      "\u001b[32m✓ built in 388ms\u001b[39m\n"
     ]
    }
   ],
   "source": [
    "! npm run build"
   ]
  },
  {
   "cell_type": "markdown",
   "metadata": {},
   "source": [
    "Check changes:"
   ]
  },
  {
   "cell_type": "code",
   "execution_count": 104,
   "metadata": {},
   "outputs": [],
   "source": [
    "! git diff ."
   ]
  },
  {
   "cell_type": "code",
   "execution_count": 105,
   "metadata": {},
   "outputs": [
    {
     "name": "stdout",
     "output_type": "stream",
     "text": [
      "On branch master\n",
      "Your branch is up to date with 'origin/master'.\n",
      "\n",
      "Changes to be committed:\n",
      "  (use \"git restore --staged <file>...\" to unstage)\n",
      "\t\u001b[32mnew file:   .editorconfig\u001b[m\n",
      "\t\u001b[32mnew file:   .env.example\u001b[m\n",
      "\t\u001b[32mnew file:   .gitattributes\u001b[m\n",
      "\t\u001b[32mnew file:   .gitignore\u001b[m\n",
      "\t\u001b[32mnew file:   README.md\u001b[m\n",
      "\t\u001b[32mnew file:   app/Http/Controllers/Controller.php\u001b[m\n",
      "\t\u001b[32mnew file:   app/Models/User.php\u001b[m\n",
      "\t\u001b[32mnew file:   app/Providers/AppServiceProvider.php\u001b[m\n",
      "\t\u001b[32mnew file:   artisan\u001b[m\n",
      "\t\u001b[32mnew file:   bootstrap/app.php\u001b[m\n",
      "\t\u001b[32mnew file:   bootstrap/cache/.gitignore\u001b[m\n",
      "\t\u001b[32mnew file:   bootstrap/providers.php\u001b[m\n",
      "\t\u001b[32mnew file:   codeception.yml\u001b[m\n",
      "\t\u001b[32mnew file:   composer.json\u001b[m\n",
      "\t\u001b[32mnew file:   composer.lock\u001b[m\n",
      "\t\u001b[32mnew file:   config/app.php\u001b[m\n",
      "\t\u001b[32mnew file:   config/auth.php\u001b[m\n",
      "\t\u001b[32mnew file:   config/cache.php\u001b[m\n",
      "\t\u001b[32mnew file:   config/database.php\u001b[m\n",
      "\t\u001b[32mnew file:   config/filesystems.php\u001b[m\n",
      "\t\u001b[32mnew file:   config/logging.php\u001b[m\n",
      "\t\u001b[32mnew file:   config/mail.php\u001b[m\n",
      "\t\u001b[32mnew file:   config/queue.php\u001b[m\n",
      "\t\u001b[32mnew file:   config/services.php\u001b[m\n",
      "\t\u001b[32mnew file:   config/session.php\u001b[m\n",
      "\t\u001b[32mnew file:   database/.gitignore\u001b[m\n",
      "\t\u001b[32mnew file:   database/factories/UserFactory.php\u001b[m\n",
      "\t\u001b[32mnew file:   database/migrations/0001_01_01_000000_create_users_table.php\u001b[m\n",
      "\t\u001b[32mnew file:   database/migrations/0001_01_01_000001_create_cache_table.php\u001b[m\n",
      "\t\u001b[32mnew file:   database/migrations/0001_01_01_000002_create_jobs_table.php\u001b[m\n",
      "\t\u001b[32mnew file:   database/seeders/DatabaseSeeder.php\u001b[m\n",
      "\t\u001b[32mnew file:   package.json\u001b[m\n",
      "\t\u001b[32mnew file:   phpunit.xml\u001b[m\n",
      "\t\u001b[32mnew file:   public/.htaccess\u001b[m\n",
      "\t\u001b[32mnew file:   public/favicon.ico\u001b[m\n",
      "\t\u001b[32mnew file:   public/index.php\u001b[m\n",
      "\t\u001b[32mnew file:   public/robots.txt\u001b[m\n",
      "\t\u001b[32mnew file:   resources/css/app.css\u001b[m\n",
      "\t\u001b[32mnew file:   resources/js/app.js\u001b[m\n",
      "\t\u001b[32mnew file:   resources/js/bootstrap.js\u001b[m\n",
      "\t\u001b[32mnew file:   resources/views/welcome.blade.php\u001b[m\n",
      "\t\u001b[32mnew file:   routes/console.php\u001b[m\n",
      "\t\u001b[32mnew file:   routes/web.php\u001b[m\n",
      "\t\u001b[32mnew file:   storage/app/.gitignore\u001b[m\n",
      "\t\u001b[32mnew file:   storage/app/public/.gitignore\u001b[m\n",
      "\t\u001b[32mnew file:   storage/framework/.gitignore\u001b[m\n",
      "\t\u001b[32mnew file:   storage/framework/cache/.gitignore\u001b[m\n",
      "\t\u001b[32mnew file:   storage/framework/cache/data/.gitignore\u001b[m\n",
      "\t\u001b[32mnew file:   storage/framework/sessions/.gitignore\u001b[m\n",
      "\t\u001b[32mnew file:   storage/framework/testing/.gitignore\u001b[m\n",
      "\t\u001b[32mnew file:   storage/framework/views/.gitignore\u001b[m\n",
      "\t\u001b[32mnew file:   storage/logs/.gitignore\u001b[m\n",
      "\t\u001b[32mnew file:   tests/Feature/ExampleTest.php\u001b[m\n",
      "\t\u001b[32mnew file:   tests/TestCase.php\u001b[m\n",
      "\t\u001b[32mnew file:   tests/Unit/ExampleTest.php\u001b[m\n",
      "\t\u001b[32mnew file:   tests_codeception/Acceptance.suite.yml\u001b[m\n",
      "\t\u001b[32mnew file:   tests_codeception/Acceptance/HomepageCest.php\u001b[m\n",
      "\t\u001b[32mnew file:   tests_codeception/Support/AcceptanceTester.php\u001b[m\n",
      "\t\u001b[32mnew file:   tests_codeception/Support/Data/.gitignore\u001b[m\n",
      "\t\u001b[32mnew file:   tests_codeception/Support/_generated/.gitignore\u001b[m\n",
      "\t\u001b[32mnew file:   tests_codeception/_output/.gitignore\u001b[m\n",
      "\t\u001b[32mnew file:   vite.config.js\u001b[m\n",
      "\n",
      "Untracked files:\n",
      "  (use \"git add <file>...\" to include in what will be committed)\n",
      "\t\u001b[31mpackage-lock.json\u001b[m\n",
      "\n"
     ]
    }
   ],
   "source": [
    "! git status ."
   ]
  },
  {
   "cell_type": "code",
   "execution_count": 106,
   "metadata": {},
   "outputs": [],
   "source": [
    "! git add ."
   ]
  },
  {
   "cell_type": "markdown",
   "metadata": {},
   "source": [
    "#### Cleanup"
   ]
  },
  {
   "cell_type": "markdown",
   "metadata": {},
   "source": [
    "Change working directory:"
   ]
  },
  {
   "cell_type": "code",
   "execution_count": 107,
   "metadata": {},
   "outputs": [
    {
     "name": "stdout",
     "output_type": "stream",
     "text": [
      "/home/student/php_2024_piotr_zycki/08_laravel/01_tutorial\n"
     ]
    }
   ],
   "source": [
    "%cd .."
   ]
  },
  {
   "cell_type": "markdown",
   "metadata": {},
   "source": [
    "Now let us stop tracking the tutorial code by GIT:"
   ]
  },
  {
   "cell_type": "code",
   "execution_count": 108,
   "metadata": {},
   "outputs": [
    {
     "name": "stdout",
     "output_type": "stream",
     "text": [
      "Unstaged changes after reset:\n",
      "M\t07_testing/02_exercise/index.ipynb\n",
      "M\t08_laravel/02_exercise/index.ipynb\n",
      "D\t08_laravel/02_exercise/project/.editorconfig\n",
      "D\t08_laravel/02_exercise/project/.env.example\n",
      "D\t08_laravel/02_exercise/project/.gitattributes\n",
      "D\t08_laravel/02_exercise/project/.gitignore\n",
      "D\t08_laravel/02_exercise/project/README.md\n",
      "D\t08_laravel/02_exercise/project/app/Http/Controllers/Controller.php\n",
      "D\t08_laravel/02_exercise/project/app/Models/User.php\n",
      "D\t08_laravel/02_exercise/project/app/Providers/AppServiceProvider.php\n",
      "D\t08_laravel/02_exercise/project/artisan\n",
      "D\t08_laravel/02_exercise/project/bootstrap/app.php\n",
      "D\t08_laravel/02_exercise/project/bootstrap/cache/.gitignore\n",
      "D\t08_laravel/02_exercise/project/bootstrap/providers.php\n",
      "D\t08_laravel/02_exercise/project/codeception.yml\n",
      "D\t08_laravel/02_exercise/project/composer.json\n",
      "D\t08_laravel/02_exercise/project/composer.lock\n",
      "D\t08_laravel/02_exercise/project/config/app.php\n",
      "D\t08_laravel/02_exercise/project/config/auth.php\n",
      "D\t08_laravel/02_exercise/project/config/cache.php\n",
      "D\t08_laravel/02_exercise/project/config/database.php\n",
      "D\t08_laravel/02_exercise/project/config/filesystems.php\n",
      "D\t08_laravel/02_exercise/project/config/logging.php\n",
      "D\t08_laravel/02_exercise/project/config/mail.php\n",
      "D\t08_laravel/02_exercise/project/config/queue.php\n",
      "D\t08_laravel/02_exercise/project/config/services.php\n",
      "D\t08_laravel/02_exercise/project/config/session.php\n",
      "D\t08_laravel/02_exercise/project/database/.gitignore\n",
      "D\t08_laravel/02_exercise/project/database/factories/UserFactory.php\n",
      "D\t08_laravel/02_exercise/project/database/migrations/0001_01_01_000000_create_users_table.php\n",
      "D\t08_laravel/02_exercise/project/database/migrations/0001_01_01_000001_create_cache_table.php\n",
      "D\t08_laravel/02_exercise/project/database/migrations/0001_01_01_000002_create_jobs_table.php\n",
      "D\t08_laravel/02_exercise/project/database/seeders/DatabaseSeeder.php\n",
      "D\t08_laravel/02_exercise/project/package-lock.json\n",
      "D\t08_laravel/02_exercise/project/package.json\n",
      "D\t08_laravel/02_exercise/project/phpunit.xml\n",
      "D\t08_laravel/02_exercise/project/public/.htaccess\n",
      "D\t08_laravel/02_exercise/project/public/favicon.ico\n",
      "D\t08_laravel/02_exercise/project/public/index.php\n",
      "D\t08_laravel/02_exercise/project/public/robots.txt\n",
      "D\t08_laravel/02_exercise/project/resources/css/app.css\n",
      "D\t08_laravel/02_exercise/project/resources/js/app.js\n",
      "D\t08_laravel/02_exercise/project/resources/js/bootstrap.js\n",
      "D\t08_laravel/02_exercise/project/resources/views/welcome.blade.php\n",
      "D\t08_laravel/02_exercise/project/routes/console.php\n",
      "D\t08_laravel/02_exercise/project/routes/web.php\n",
      "D\t08_laravel/02_exercise/project/storage/app/.gitignore\n",
      "D\t08_laravel/02_exercise/project/storage/app/public/.gitignore\n",
      "D\t08_laravel/02_exercise/project/storage/framework/.gitignore\n",
      "D\t08_laravel/02_exercise/project/storage/framework/cache/.gitignore\n",
      "D\t08_laravel/02_exercise/project/storage/framework/cache/data/.gitignore\n",
      "D\t08_laravel/02_exercise/project/storage/framework/sessions/.gitignore\n",
      "D\t08_laravel/02_exercise/project/storage/framework/testing/.gitignore\n",
      "D\t08_laravel/02_exercise/project/storage/framework/views/.gitignore\n",
      "D\t08_laravel/02_exercise/project/storage/logs/.gitignore\n",
      "D\t08_laravel/02_exercise/project/tests/Feature/ExampleTest.php\n",
      "D\t08_laravel/02_exercise/project/tests/TestCase.php\n",
      "D\t08_laravel/02_exercise/project/tests/Unit/ExampleTest.php\n",
      "D\t08_laravel/02_exercise/project/tests_codeception/Acceptance.suite.yml\n",
      "D\t08_laravel/02_exercise/project/tests_codeception/Acceptance/HomepageCest.php\n",
      "D\t08_laravel/02_exercise/project/tests_codeception/Support/AcceptanceTester.php\n",
      "D\t08_laravel/02_exercise/project/tests_codeception/Support/Data/.gitignore\n",
      "D\t08_laravel/02_exercise/project/tests_codeception/Support/_generated/.gitignore\n",
      "D\t08_laravel/02_exercise/project/tests_codeception/_output/.gitignore\n",
      "D\t08_laravel/02_exercise/project/vite.config.js\n",
      "M\tbitbucket-pipelines.yml\n",
      "M\tindex.ipynb\n"
     ]
    }
   ],
   "source": [
    "! git reset project/"
   ]
  },
  {
   "cell_type": "markdown",
   "metadata": {},
   "source": [
    "Now you can cpy the code as a starter project to the exercise:"
   ]
  },
  {
   "cell_type": "code",
   "execution_count": 109,
   "metadata": {},
   "outputs": [],
   "source": [
    "! cp -r project/ ../02_exercise/"
   ]
  },
  {
   "cell_type": "markdown",
   "metadata": {},
   "source": [
    "And finally, we do the cleanup:"
   ]
  },
  {
   "cell_type": "code",
   "execution_count": 110,
   "metadata": {},
   "outputs": [
    {
     "name": "stdout",
     "output_type": "stream",
     "text": [
      "Refusing to remove current working directory\n",
      "Removing ./project\n",
      "Removing ./index.ipynb\n",
      "Removing ./.ipynb_checkpoints\n"
     ]
    }
   ],
   "source": [
    "! git clean -fdx ."
   ]
  },
  {
   "cell_type": "code",
   "execution_count": null,
   "metadata": {},
   "outputs": [],
   "source": []
  }
 ],
 "metadata": {
  "kernelspec": {
   "display_name": "Python 3 (ipykernel)",
   "language": "python",
   "name": "python3"
  },
  "language_info": {
   "codemirror_mode": {
    "name": "ipython",
    "version": 3
   },
   "file_extension": ".py",
   "mimetype": "text/x-python",
   "name": "python",
   "nbconvert_exporter": "python",
   "pygments_lexer": "ipython3",
   "version": "3.11.5"
  }
 },
 "nbformat": 4,
 "nbformat_minor": 4
}
