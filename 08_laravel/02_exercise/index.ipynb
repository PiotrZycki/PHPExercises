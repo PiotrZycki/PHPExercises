{
 "cells": [
  {
   "cell_type": "markdown",
   "metadata": {},
   "source": [
    "# PHP"
   ]
  },
  {
   "cell_type": "markdown",
   "metadata": {},
   "source": [
    "## 8. Laravel"
   ]
  },
  {
   "cell_type": "markdown",
   "metadata": {},
   "source": [
    "### 8.2 Exercise"
   ]
  },
  {
   "cell_type": "markdown",
   "metadata": {},
   "source": [
    "Tasks:\n",
    "\n",
    "- Create new Laravel project in ```project``` directory and bootstrap ```Codeception``` tests in the ```tests_codeception``` directory (follow the tutorial)\n",
    "- Add below test in ```tests_codeception/Acceptance/CommentsCest.php``` and make it pass by changing Laravel project:\n",
    "\n",
    "```php\n",
    "<?php\n",
    "\n",
    "namespace TestsCodeception\\Acceptance;\n",
    "\n",
    "use TestsCodeception\\Support\\AcceptanceTester;\n",
    "\n",
    "class CommentsCest\n",
    "{\n",
    "    public function test(AcceptanceTester $I): void\n",
    "    {\n",
    "        $I->wantTo('see comments from DB displayed on page');\n",
    "\n",
    "        $I->seeNumRecords(0, \"comments\");\n",
    "\n",
    "        $randomNumber = rand();\n",
    "\n",
    "        $title = \"Title $randomNumber\";\n",
    "        $text = \"Some text $randomNumber\";\n",
    "\n",
    "        $id = $I->haveInDatabase('comments', ['title' => $title, 'text' => $text]);\n",
    "\n",
    "        $I->amOnPage('/comments');\n",
    "        $I->see('Comments', 'h1');\n",
    "        $I->seeLink($title, \"/comments/$id\");\n",
    "\n",
    "        $I->click($title);\n",
    "        $I->seeCurrentUrlEquals(\"/comments/$id\");\n",
    "\n",
    "        $I->see($title, 'h1');\n",
    "        $I->see($text, 'p');\n",
    "    }\n",
    "}\n",
    "\n",
    "```\n",
    "\n",
    "- To configure PHP CS Fixer install ```friendsofphp/php-cs-fixer``` (as dev dependency) and add configuration in ```.php-cs-fixer.dist.php```:\n",
    "```php\n",
    "<?php\n",
    "\n",
    "use PhpCsFixer\\Finder;\n",
    "use PhpCsFixer\\Config;\n",
    "\n",
    "$finder = Finder::create();\n",
    "$finder->ignoreVCSIgnored(true);\n",
    "\n",
    "$config = new Config();\n",
    "$config->setFinder($finder);\n",
    "\n",
    "return $config;\n",
    "\n",
    "```\n",
    "- To configure PHPStan install ```phpstan/phpstan```, ```larastan/larastan``` (as dev dependencise) and add configuration in ```phpstan.neon```:\n",
    "```yml\n",
    "includes:\n",
    "    - ./vendor/larastan/larastan/extension.neon\n",
    "parameters:\n",
    "    level: max\n",
    "    paths:\n",
    "        - .\n",
    "    excludePaths:\n",
    "        - vendor\n",
    "        - storage\n",
    "        - config\n",
    "        - tests_codeception/Support/_generated\n",
    "\n",
    "```\n",
    "- To fix the error in ```routes/console.php``` you need to add:\n",
    "```php\n",
    "use Illuminate\\Foundation\\Console\\ClosureCommand;\n",
    "\n",
    "/**\n",
    " * @var ClosureCommand $this\n",
    " */\n",
    "```"
   ]
  },
  {
   "cell_type": "markdown",
   "metadata": {},
   "source": [
    "Start database:"
   ]
  },
  {
   "cell_type": "code",
   "execution_count": 1,
   "metadata": {},
   "outputs": [
    {
     "name": "stdout",
     "output_type": "stream",
     "text": [
      "f5cb0e905608dd20396fd44e22a957003bb0cfe6caa0378f872987ec164b74ff\n"
     ]
    }
   ],
   "source": [
    "! docker run --name=mysql --net=host --rm --env MYSQL_ROOT_PASSWORD=root123 --env MYSQL_ROOT_HOST=% --env MYSQL_DATABASE=test --env MYSQL_USER=test --env MYSQL_PASSWORD=test123 -d mysql/mysql-server:8.0"
   ]
  },
  {
   "cell_type": "code",
   "execution_count": 27,
   "metadata": {},
   "outputs": [
    {
     "name": "stdout",
     "output_type": "stream",
     "text": [
      "Done.\n"
     ]
    }
   ],
   "source": [
    "! while ! timeout 1 bash -c \"echo > /dev/tcp/localhost/3306\" 2> /dev/null; do sleep 1; done; echo \"Done.\";"
   ]
  },
  {
   "cell_type": "markdown",
   "metadata": {},
   "source": [
    "Install the CPD checker globally:"
   ]
  },
  {
   "cell_type": "code",
   "execution_count": 28,
   "metadata": {},
   "outputs": [
    {
     "name": "stdout",
     "output_type": "stream",
     "text": [
      "\u001b[32mChanged current directory to /home/student/.composer\u001b[39m\n",
      "\u001b[32m./composer.json has been updated\u001b[39m\n",
      "\u001b[32mRunning composer update sebastian/phpcpd\u001b[39m\n",
      "\u001b[32mLoading composer repositories with package information\u001b[39m\n",
      "\u001b[32mUpdating dependencies\u001b[39m\n",
      "Nothing to modify in lock file\n",
      "\u001b[32mInstalling dependencies from lock file (including require-dev)\u001b[39m\n",
      "Nothing to install, update or remove\n",
      "\u001b[30;43mPackage sebastian/phpcpd is abandoned, you should avoid using it. No replacement was suggested.\u001b[39;49m\n",
      "\u001b[32mGenerating autoload files\u001b[39m\n",
      "\u001b[32m5 packages you are using are looking for funding.\u001b[39m\n",
      "\u001b[32mUse the `composer fund` command to find out more!\u001b[39m\n",
      "\u001b[32mNo security vulnerability advisories found.\u001b[39m\n"
     ]
    }
   ],
   "source": [
    "! composer global require sebastian/phpcpd 6.0.3"
   ]
  },
  {
   "cell_type": "markdown",
   "metadata": {},
   "source": [
    "You can test your solution using included tests:"
   ]
  },
  {
   "cell_type": "code",
   "execution_count": 29,
   "metadata": {},
   "outputs": [
    {
     "name": "stdout",
     "output_type": "stream",
     "text": [
      "[Errno 2] No such file or directory: 'project'\n",
      "/home/student/php_2024_piotr_zycki/08_laravel/02_exercise/project\n"
     ]
    }
   ],
   "source": [
    "%cd project"
   ]
  },
  {
   "cell_type": "code",
   "execution_count": 30,
   "metadata": {},
   "outputs": [
    {
     "name": "stdout",
     "output_type": "stream",
     "text": [
      "\u001b[32mInstalling dependencies from lock file (including require-dev)\u001b[39m\n",
      "\u001b[32mVerifying lock file contents can be installed on current platform.\u001b[39m\n",
      "Nothing to install, update or remove\n",
      "\u001b[32mGenerating optimized autoload files\u001b[39m\n",
      "> Illuminate\\Foundation\\ComposerScripts::postAutoloadDump\n",
      "> @php artisan package:discover --ansi\n",
      "\n",
      "  \u001b[37;44m INFO \u001b[39;49m Discovering packages.  \n",
      "\n",
      "  laravel/sail \u001b[90m.\u001b[39m\u001b[90m.\u001b[39m\u001b[90m.\u001b[39m\u001b[90m.\u001b[39m\u001b[90m.\u001b[39m\u001b[90m.\u001b[39m\u001b[90m.\u001b[39m\u001b[90m.\u001b[39m\u001b[90m.\u001b[39m\u001b[90m.\u001b[39m\u001b[90m.\u001b[39m\u001b[90m.\u001b[39m\u001b[90m.\u001b[39m\u001b[90m.\u001b[39m\u001b[90m.\u001b[39m\u001b[90m.\u001b[39m\u001b[90m.\u001b[39m\u001b[90m.\u001b[39m\u001b[90m.\u001b[39m\u001b[90m.\u001b[39m\u001b[90m.\u001b[39m\u001b[90m.\u001b[39m\u001b[90m.\u001b[39m\u001b[90m.\u001b[39m\u001b[90m.\u001b[39m\u001b[90m.\u001b[39m\u001b[90m.\u001b[39m\u001b[90m.\u001b[39m\u001b[90m.\u001b[39m\u001b[90m.\u001b[39m\u001b[90m.\u001b[39m\u001b[90m.\u001b[39m\u001b[90m.\u001b[39m\u001b[90m.\u001b[39m\u001b[90m.\u001b[39m\u001b[90m.\u001b[39m\u001b[90m.\u001b[39m\u001b[90m.\u001b[39m\u001b[90m.\u001b[39m\u001b[90m.\u001b[39m\u001b[90m.\u001b[39m\u001b[90m.\u001b[39m\u001b[90m.\u001b[39m\u001b[90m.\u001b[39m\u001b[90m.\u001b[39m\u001b[90m.\u001b[39m\u001b[90m.\u001b[39m\u001b[90m.\u001b[39m\u001b[90m.\u001b[39m\u001b[90m.\u001b[39m\u001b[90m.\u001b[39m\u001b[90m.\u001b[39m\u001b[90m.\u001b[39m\u001b[90m.\u001b[39m\u001b[90m.\u001b[39m\u001b[90m.\u001b[39m\u001b[90m.\u001b[39m\u001b[90m.\u001b[39m \u001b[32;1mDONE\u001b[39;22m\n",
      "  laravel/tinker \u001b[90m.\u001b[39m\u001b[90m.\u001b[39m\u001b[90m.\u001b[39m\u001b[90m.\u001b[39m\u001b[90m.\u001b[39m\u001b[90m.\u001b[39m\u001b[90m.\u001b[39m\u001b[90m.\u001b[39m\u001b[90m.\u001b[39m\u001b[90m.\u001b[39m\u001b[90m.\u001b[39m\u001b[90m.\u001b[39m\u001b[90m.\u001b[39m\u001b[90m.\u001b[39m\u001b[90m.\u001b[39m\u001b[90m.\u001b[39m\u001b[90m.\u001b[39m\u001b[90m.\u001b[39m\u001b[90m.\u001b[39m\u001b[90m.\u001b[39m\u001b[90m.\u001b[39m\u001b[90m.\u001b[39m\u001b[90m.\u001b[39m\u001b[90m.\u001b[39m\u001b[90m.\u001b[39m\u001b[90m.\u001b[39m\u001b[90m.\u001b[39m\u001b[90m.\u001b[39m\u001b[90m.\u001b[39m\u001b[90m.\u001b[39m\u001b[90m.\u001b[39m\u001b[90m.\u001b[39m\u001b[90m.\u001b[39m\u001b[90m.\u001b[39m\u001b[90m.\u001b[39m\u001b[90m.\u001b[39m\u001b[90m.\u001b[39m\u001b[90m.\u001b[39m\u001b[90m.\u001b[39m\u001b[90m.\u001b[39m\u001b[90m.\u001b[39m\u001b[90m.\u001b[39m\u001b[90m.\u001b[39m\u001b[90m.\u001b[39m\u001b[90m.\u001b[39m\u001b[90m.\u001b[39m\u001b[90m.\u001b[39m\u001b[90m.\u001b[39m\u001b[90m.\u001b[39m\u001b[90m.\u001b[39m\u001b[90m.\u001b[39m\u001b[90m.\u001b[39m\u001b[90m.\u001b[39m\u001b[90m.\u001b[39m\u001b[90m.\u001b[39m\u001b[90m.\u001b[39m \u001b[32;1mDONE\u001b[39;22m\n",
      "  nesbot/carbon \u001b[90m.\u001b[39m\u001b[90m.\u001b[39m\u001b[90m.\u001b[39m\u001b[90m.\u001b[39m\u001b[90m.\u001b[39m\u001b[90m.\u001b[39m\u001b[90m.\u001b[39m\u001b[90m.\u001b[39m\u001b[90m.\u001b[39m\u001b[90m.\u001b[39m\u001b[90m.\u001b[39m\u001b[90m.\u001b[39m\u001b[90m.\u001b[39m\u001b[90m.\u001b[39m\u001b[90m.\u001b[39m\u001b[90m.\u001b[39m\u001b[90m.\u001b[39m\u001b[90m.\u001b[39m\u001b[90m.\u001b[39m\u001b[90m.\u001b[39m\u001b[90m.\u001b[39m\u001b[90m.\u001b[39m\u001b[90m.\u001b[39m\u001b[90m.\u001b[39m\u001b[90m.\u001b[39m\u001b[90m.\u001b[39m\u001b[90m.\u001b[39m\u001b[90m.\u001b[39m\u001b[90m.\u001b[39m\u001b[90m.\u001b[39m\u001b[90m.\u001b[39m\u001b[90m.\u001b[39m\u001b[90m.\u001b[39m\u001b[90m.\u001b[39m\u001b[90m.\u001b[39m\u001b[90m.\u001b[39m\u001b[90m.\u001b[39m\u001b[90m.\u001b[39m\u001b[90m.\u001b[39m\u001b[90m.\u001b[39m\u001b[90m.\u001b[39m\u001b[90m.\u001b[39m\u001b[90m.\u001b[39m\u001b[90m.\u001b[39m\u001b[90m.\u001b[39m\u001b[90m.\u001b[39m\u001b[90m.\u001b[39m\u001b[90m.\u001b[39m\u001b[90m.\u001b[39m\u001b[90m.\u001b[39m\u001b[90m.\u001b[39m\u001b[90m.\u001b[39m\u001b[90m.\u001b[39m\u001b[90m.\u001b[39m\u001b[90m.\u001b[39m\u001b[90m.\u001b[39m\u001b[90m.\u001b[39m \u001b[32;1mDONE\u001b[39;22m\n",
      "  nunomaduro/collision \u001b[90m.\u001b[39m\u001b[90m.\u001b[39m\u001b[90m.\u001b[39m\u001b[90m.\u001b[39m\u001b[90m.\u001b[39m\u001b[90m.\u001b[39m\u001b[90m.\u001b[39m\u001b[90m.\u001b[39m\u001b[90m.\u001b[39m\u001b[90m.\u001b[39m\u001b[90m.\u001b[39m\u001b[90m.\u001b[39m\u001b[90m.\u001b[39m\u001b[90m.\u001b[39m\u001b[90m.\u001b[39m\u001b[90m.\u001b[39m\u001b[90m.\u001b[39m\u001b[90m.\u001b[39m\u001b[90m.\u001b[39m\u001b[90m.\u001b[39m\u001b[90m.\u001b[39m\u001b[90m.\u001b[39m\u001b[90m.\u001b[39m\u001b[90m.\u001b[39m\u001b[90m.\u001b[39m\u001b[90m.\u001b[39m\u001b[90m.\u001b[39m\u001b[90m.\u001b[39m\u001b[90m.\u001b[39m\u001b[90m.\u001b[39m\u001b[90m.\u001b[39m\u001b[90m.\u001b[39m\u001b[90m.\u001b[39m\u001b[90m.\u001b[39m\u001b[90m.\u001b[39m\u001b[90m.\u001b[39m\u001b[90m.\u001b[39m\u001b[90m.\u001b[39m\u001b[90m.\u001b[39m\u001b[90m.\u001b[39m\u001b[90m.\u001b[39m\u001b[90m.\u001b[39m\u001b[90m.\u001b[39m\u001b[90m.\u001b[39m\u001b[90m.\u001b[39m\u001b[90m.\u001b[39m\u001b[90m.\u001b[39m\u001b[90m.\u001b[39m\u001b[90m.\u001b[39m\u001b[90m.\u001b[39m \u001b[32;1mDONE\u001b[39;22m\n",
      "  nunomaduro/termwind \u001b[90m.\u001b[39m\u001b[90m.\u001b[39m\u001b[90m.\u001b[39m\u001b[90m.\u001b[39m\u001b[90m.\u001b[39m\u001b[90m.\u001b[39m\u001b[90m.\u001b[39m\u001b[90m.\u001b[39m\u001b[90m.\u001b[39m\u001b[90m.\u001b[39m\u001b[90m.\u001b[39m\u001b[90m.\u001b[39m\u001b[90m.\u001b[39m\u001b[90m.\u001b[39m\u001b[90m.\u001b[39m\u001b[90m.\u001b[39m\u001b[90m.\u001b[39m\u001b[90m.\u001b[39m\u001b[90m.\u001b[39m\u001b[90m.\u001b[39m\u001b[90m.\u001b[39m\u001b[90m.\u001b[39m\u001b[90m.\u001b[39m\u001b[90m.\u001b[39m\u001b[90m.\u001b[39m\u001b[90m.\u001b[39m\u001b[90m.\u001b[39m\u001b[90m.\u001b[39m\u001b[90m.\u001b[39m\u001b[90m.\u001b[39m\u001b[90m.\u001b[39m\u001b[90m.\u001b[39m\u001b[90m.\u001b[39m\u001b[90m.\u001b[39m\u001b[90m.\u001b[39m\u001b[90m.\u001b[39m\u001b[90m.\u001b[39m\u001b[90m.\u001b[39m\u001b[90m.\u001b[39m\u001b[90m.\u001b[39m\u001b[90m.\u001b[39m\u001b[90m.\u001b[39m\u001b[90m.\u001b[39m\u001b[90m.\u001b[39m\u001b[90m.\u001b[39m\u001b[90m.\u001b[39m\u001b[90m.\u001b[39m\u001b[90m.\u001b[39m\u001b[90m.\u001b[39m\u001b[90m.\u001b[39m\u001b[90m.\u001b[39m \u001b[32;1mDONE\u001b[39;22m\n",
      "  spatie/laravel-ignition \u001b[90m.\u001b[39m\u001b[90m.\u001b[39m\u001b[90m.\u001b[39m\u001b[90m.\u001b[39m\u001b[90m.\u001b[39m\u001b[90m.\u001b[39m\u001b[90m.\u001b[39m\u001b[90m.\u001b[39m\u001b[90m.\u001b[39m\u001b[90m.\u001b[39m\u001b[90m.\u001b[39m\u001b[90m.\u001b[39m\u001b[90m.\u001b[39m\u001b[90m.\u001b[39m\u001b[90m.\u001b[39m\u001b[90m.\u001b[39m\u001b[90m.\u001b[39m\u001b[90m.\u001b[39m\u001b[90m.\u001b[39m\u001b[90m.\u001b[39m\u001b[90m.\u001b[39m\u001b[90m.\u001b[39m\u001b[90m.\u001b[39m\u001b[90m.\u001b[39m\u001b[90m.\u001b[39m\u001b[90m.\u001b[39m\u001b[90m.\u001b[39m\u001b[90m.\u001b[39m\u001b[90m.\u001b[39m\u001b[90m.\u001b[39m\u001b[90m.\u001b[39m\u001b[90m.\u001b[39m\u001b[90m.\u001b[39m\u001b[90m.\u001b[39m\u001b[90m.\u001b[39m\u001b[90m.\u001b[39m\u001b[90m.\u001b[39m\u001b[90m.\u001b[39m\u001b[90m.\u001b[39m\u001b[90m.\u001b[39m\u001b[90m.\u001b[39m\u001b[90m.\u001b[39m\u001b[90m.\u001b[39m\u001b[90m.\u001b[39m\u001b[90m.\u001b[39m\u001b[90m.\u001b[39m\u001b[90m.\u001b[39m \u001b[32;1mDONE\u001b[39;22m\n",
      "\n",
      "\u001b[32m108 packages you are using are looking for funding.\u001b[39m\n",
      "\u001b[32mUse the `composer fund` command to find out more!\u001b[39m\n"
     ]
    }
   ],
   "source": [
    "! composer install"
   ]
  },
  {
   "cell_type": "code",
   "execution_count": 31,
   "metadata": {},
   "outputs": [
    {
     "name": "stdout",
     "output_type": "stream",
     "text": [
      "\u001b[32mBuilding Actor classes for suites: Acceptance\u001b[39m\n",
      " -> AcceptanceTesterActions.php generated successfully. 111 methods added\n",
      "\u001b[32mTestsCodeception\\AcceptanceTester\u001b[39m includes modules: Db, WebDriver\n"
     ]
    }
   ],
   "source": [
    "! vendor/bin/codecept build"
   ]
  },
  {
   "cell_type": "code",
   "execution_count": 77,
   "metadata": {},
   "outputs": [
    {
     "name": "stdout",
     "output_type": "stream",
     "text": [
      "PHP CS Fixer \u001b[32m3.57.2\u001b[39m \u001b[32m7th Gear\u001b[39m by \u001b[33mFabien Potencier\u001b[39m, \u001b[33mDariusz Ruminski\u001b[39m and \u001b[33mcontributors\u001b[39m.\n",
      "PHP runtime: \u001b[32m8.3.0-1ubuntu1\u001b[39m\n",
      "Running analysis on 1 core sequentially.\n",
      "\u001b[30;43mYou can enable parallel runner and speed up the analysis! Please see \u001b[39;49m\u001b[31;43m\u001b]8;;https://cs.symfony.com/doc/usage.html\u001b\\usage docs\u001b]8;;\u001b\\\u001b[39;49m\u001b[30;43m for more information.\u001b[39;49m\n",
      "Loaded config \u001b[33mdefault\u001b[39m from \"/home/student/php_2024_piotr_zycki/08_laravel/02_exercise/project/./.php-cs-fixer.dist.php\".\n",
      "Using cache file \".php-cs-fixer.cache\".\n",
      "  0/35 [░░░░░░░░░░░░░░░░░░░░░░░░░░░░]   0%\u001b[1G\u001b[2K  4/35 [▓▓▓░░░░░░░░░░░░░░░░░░░░░░░░░]  11%\u001b[1G\u001b[2K 35/35 [▓▓▓▓▓▓▓▓▓▓▓▓▓▓▓▓▓▓▓▓▓▓▓▓▓▓▓▓] 100%\n",
      "\n",
      "\n",
      "Found 0 of 35 files that can be fixed in 0.029 seconds, 20.00 MB memory used\n"
     ]
    }
   ],
   "source": [
    "! vendor/bin/php-cs-fixer fix --diff --dry-run ."
   ]
  },
  {
   "cell_type": "code",
   "execution_count": 76,
   "metadata": {},
   "outputs": [
    {
     "name": "stdout",
     "output_type": "stream",
     "text": [
      "  0/24 [░░░░░░░░░░░░░░░░░░░░░░░░░░░░]   0%\u001b[1G\u001b[2K 24/24 [▓▓▓▓▓▓▓▓▓▓▓▓▓▓▓▓▓▓▓▓▓▓▓▓▓▓▓▓] 100%\n",
      "\n",
      "\n",
      "\u001b[30;42m                                                                                \u001b[39;49m\n",
      "\u001b[30;42m [OK] No errors                                                                 \u001b[39;49m\n",
      "\u001b[30;42m                                                                                \u001b[39;49m\n",
      "\n"
     ]
    }
   ],
   "source": [
    "! vendor/bin/phpstan analyze -c phpstan.neon"
   ]
  },
  {
   "cell_type": "code",
   "execution_count": 78,
   "metadata": {},
   "outputs": [
    {
     "name": "stdout",
     "output_type": "stream",
     "text": [
      "phpcpd 6.0.3 by Sebastian Bergmann.\n",
      "\n",
      "No clones found.\n",
      "\n",
      "Time: 00:00.012, Memory: 2.00 MB\n"
     ]
    }
   ],
   "source": [
    "! ~/.composer/vendor/bin/phpcpd . --fuzzy --min-lines 1 --min-tokens 20 --exclude vendor --exclude config --exclude tests_codeception/Support/_generated"
   ]
  },
  {
   "cell_type": "code",
   "execution_count": 79,
   "metadata": {},
   "outputs": [
    {
     "name": "stdout",
     "output_type": "stream",
     "text": [
      "\n",
      "   INFO  Environment modified. Restarting server...  \n",
      "\n",
      "   INFO  Server running on [http://127.0.0.1:8888].  \n",
      "\n",
      "  Press Ctrl+C to stop the server\n",
      "\n"
     ]
    }
   ],
   "source": [
    "! cp .env.example .env"
   ]
  },
  {
   "cell_type": "code",
   "execution_count": 80,
   "metadata": {},
   "outputs": [
    {
     "name": "stdout",
     "output_type": "stream",
     "text": [
      "\n",
      "  \u001b[37;44m INFO \u001b[39;49m Application key set successfully.  \n",
      "\n",
      "\n",
      "   INFO  Environment modified. Restarting server...  \n",
      "\n",
      "   INFO  Server running on [http://127.0.0.1:8888].  \n",
      "\n",
      "  Press Ctrl+C to stop the server\n",
      "\n"
     ]
    }
   ],
   "source": [
    "! php artisan key:generate"
   ]
  },
  {
   "cell_type": "code",
   "execution_count": 81,
   "metadata": {},
   "outputs": [],
   "source": [
    "! while ! timeout 1 bash -c \"echo > /dev/tcp/localhost/3306\"; do echo \"Waiting for MySQL...\"; sleep 1; done"
   ]
  },
  {
   "cell_type": "code",
   "execution_count": 82,
   "metadata": {},
   "outputs": [
    {
     "name": "stdout",
     "output_type": "stream",
     "text": [
      "\n",
      "  Dropping all tables \u001b[90m.\u001b[39m\u001b[90m.\u001b[39m\u001b[90m.\u001b[39m\u001b[90m.\u001b[39m\u001b[90m.\u001b[39m\u001b[90m.\u001b[39m\u001b[90m.\u001b[39m\u001b[90m.\u001b[39m\u001b[90m.\u001b[39m\u001b[90m.\u001b[39m\u001b[90m.\u001b[39m\u001b[90m.\u001b[39m\u001b[90m.\u001b[39m\u001b[90m.\u001b[39m\u001b[90m.\u001b[39m\u001b[90m.\u001b[39m\u001b[90m.\u001b[39m\u001b[90m.\u001b[39m\u001b[90m.\u001b[39m\u001b[90m.\u001b[39m\u001b[90m.\u001b[39m\u001b[90m.\u001b[39m\u001b[90m.\u001b[39m\u001b[90m.\u001b[39m\u001b[90m.\u001b[39m\u001b[90m.\u001b[39m\u001b[90m.\u001b[39m\u001b[90m.\u001b[39m\u001b[90m.\u001b[39m\u001b[90m.\u001b[39m\u001b[90m.\u001b[39m\u001b[90m.\u001b[39m\u001b[90m.\u001b[39m\u001b[90m.\u001b[39m\u001b[90m.\u001b[39m\u001b[90m.\u001b[39m\u001b[90m.\u001b[39m\u001b[90m.\u001b[39m\u001b[90m.\u001b[39m\u001b[90m.\u001b[39m\u001b[90m.\u001b[39m\u001b[90m.\u001b[39m\u001b[90m 293.04ms\u001b[39m \u001b[32;1mDONE\u001b[39;22m\n",
      "\n",
      "  \u001b[37;44m INFO \u001b[39;49m Preparing database.  \n",
      "\n",
      "  Creating migration table \u001b[90m.\u001b[39m\u001b[90m.\u001b[39m\u001b[90m.\u001b[39m\u001b[90m.\u001b[39m\u001b[90m.\u001b[39m\u001b[90m.\u001b[39m\u001b[90m.\u001b[39m\u001b[90m.\u001b[39m\u001b[90m.\u001b[39m\u001b[90m.\u001b[39m\u001b[90m.\u001b[39m\u001b[90m.\u001b[39m\u001b[90m.\u001b[39m\u001b[90m.\u001b[39m\u001b[90m.\u001b[39m\u001b[90m.\u001b[39m\u001b[90m.\u001b[39m\u001b[90m.\u001b[39m\u001b[90m.\u001b[39m\u001b[90m.\u001b[39m\u001b[90m.\u001b[39m\u001b[90m.\u001b[39m\u001b[90m.\u001b[39m\u001b[90m.\u001b[39m\u001b[90m.\u001b[39m\u001b[90m.\u001b[39m\u001b[90m.\u001b[39m\u001b[90m.\u001b[39m\u001b[90m.\u001b[39m\u001b[90m.\u001b[39m\u001b[90m.\u001b[39m\u001b[90m.\u001b[39m\u001b[90m.\u001b[39m\u001b[90m.\u001b[39m\u001b[90m.\u001b[39m\u001b[90m.\u001b[39m\u001b[90m.\u001b[39m\u001b[90m.\u001b[39m\u001b[90m 87.55ms\u001b[39m \u001b[32;1mDONE\u001b[39;22m\n",
      "\n",
      "  \u001b[37;44m INFO \u001b[39;49m Running migrations.  \n",
      "\n",
      "  0001_01_01_000000_create_users_table \u001b[90m.\u001b[39m\u001b[90m.\u001b[39m\u001b[90m.\u001b[39m\u001b[90m.\u001b[39m\u001b[90m.\u001b[39m\u001b[90m.\u001b[39m\u001b[90m.\u001b[39m\u001b[90m.\u001b[39m\u001b[90m.\u001b[39m\u001b[90m.\u001b[39m\u001b[90m.\u001b[39m\u001b[90m.\u001b[39m\u001b[90m.\u001b[39m\u001b[90m.\u001b[39m\u001b[90m.\u001b[39m\u001b[90m.\u001b[39m\u001b[90m.\u001b[39m\u001b[90m.\u001b[39m\u001b[90m.\u001b[39m\u001b[90m.\u001b[39m\u001b[90m.\u001b[39m\u001b[90m.\u001b[39m\u001b[90m.\u001b[39m\u001b[90m.\u001b[39m\u001b[90m.\u001b[39m\u001b[90m 468.64ms\u001b[39m \u001b[32;1mDONE\u001b[39;22m\n",
      "  0001_01_01_000001_create_cache_table \u001b[90m.\u001b[39m\u001b[90m.\u001b[39m\u001b[90m.\u001b[39m\u001b[90m.\u001b[39m\u001b[90m.\u001b[39m\u001b[90m.\u001b[39m\u001b[90m.\u001b[39m\u001b[90m.\u001b[39m\u001b[90m.\u001b[39m\u001b[90m.\u001b[39m\u001b[90m.\u001b[39m\u001b[90m.\u001b[39m\u001b[90m.\u001b[39m\u001b[90m.\u001b[39m\u001b[90m.\u001b[39m\u001b[90m.\u001b[39m\u001b[90m.\u001b[39m\u001b[90m.\u001b[39m\u001b[90m.\u001b[39m\u001b[90m.\u001b[39m\u001b[90m.\u001b[39m\u001b[90m.\u001b[39m\u001b[90m.\u001b[39m\u001b[90m.\u001b[39m\u001b[90m.\u001b[39m\u001b[90m 411.63ms\u001b[39m \u001b[32;1mDONE\u001b[39;22m\n",
      "  0001_01_01_000002_create_jobs_table \u001b[90m.\u001b[39m\u001b[90m.\u001b[39m\u001b[90m.\u001b[39m\u001b[90m.\u001b[39m\u001b[90m.\u001b[39m\u001b[90m.\u001b[39m\u001b[90m.\u001b[39m\u001b[90m.\u001b[39m\u001b[90m.\u001b[39m\u001b[90m.\u001b[39m\u001b[90m.\u001b[39m\u001b[90m.\u001b[39m\u001b[90m.\u001b[39m\u001b[90m.\u001b[39m\u001b[90m.\u001b[39m\u001b[90m.\u001b[39m\u001b[90m.\u001b[39m\u001b[90m.\u001b[39m\u001b[90m.\u001b[39m\u001b[90m.\u001b[39m\u001b[90m.\u001b[39m\u001b[90m.\u001b[39m\u001b[90m.\u001b[39m\u001b[90m.\u001b[39m\u001b[90m.\u001b[39m\u001b[90m.\u001b[39m\u001b[90m 570.86ms\u001b[39m \u001b[32;1mDONE\u001b[39;22m\n",
      "  2024_05_22_161730_create_comments_table \u001b[90m.\u001b[39m\u001b[90m.\u001b[39m\u001b[90m.\u001b[39m\u001b[90m.\u001b[39m\u001b[90m.\u001b[39m\u001b[90m.\u001b[39m\u001b[90m.\u001b[39m\u001b[90m.\u001b[39m\u001b[90m.\u001b[39m\u001b[90m.\u001b[39m\u001b[90m.\u001b[39m\u001b[90m.\u001b[39m\u001b[90m.\u001b[39m\u001b[90m.\u001b[39m\u001b[90m.\u001b[39m\u001b[90m.\u001b[39m\u001b[90m.\u001b[39m\u001b[90m.\u001b[39m\u001b[90m.\u001b[39m\u001b[90m.\u001b[39m\u001b[90m.\u001b[39m\u001b[90m.\u001b[39m\u001b[90m.\u001b[39m\u001b[90m 73.32ms\u001b[39m \u001b[32;1mDONE\u001b[39;22m\n",
      "\n"
     ]
    }
   ],
   "source": [
    "! php artisan migrate:fresh"
   ]
  },
  {
   "cell_type": "code",
   "execution_count": 83,
   "metadata": {},
   "outputs": [
    {
     "name": "stdout",
     "output_type": "stream",
     "text": [
      "mysqldump: [Warning] Using a password on the command line interface can be insecure.\n"
     ]
    }
   ],
   "source": [
    "! mysqldump -h127.0.0.1 -u root --password=root123 test > tests_codeception/Support/Data/dump.sql"
   ]
  },
  {
   "cell_type": "code",
   "execution_count": 84,
   "metadata": {},
   "outputs": [
    {
     "name": "stdout",
     "output_type": "stream",
     "text": [
      "\u001b[K\u001b[?25hm##################\u001b[0m) ⠦ reify:@esbuild/aix-ppc64: \u001b[32;40mtiming\u001b[0m \u001b[35mreifyNode:node_modules/\u001b[0m\u001b[K 51ms\u001b[0m\u001b[K\n",
      "up to date, audited 24 packages in 1s\n",
      "\n",
      "5 packages are looking for funding\n",
      "  run `npm fund` for details\n",
      "\n",
      "found \u001b[32m\u001b[1m0\u001b[22m\u001b[39m vulnerabilities\n"
     ]
    }
   ],
   "source": [
    "! npm install"
   ]
  },
  {
   "cell_type": "code",
   "execution_count": 85,
   "metadata": {},
   "outputs": [
    {
     "name": "stdout",
     "output_type": "stream",
     "text": [
      "\n",
      "> build\n",
      "> vite build\n",
      "\n",
      "\u001b[36mvite v5.2.11 \u001b[32mbuilding for production...\u001b[36m\u001b[39m\n",
      "\u001b[2K\u001b[1Gtransforming (1) \u001b[2mresources/js/app.js\u001b[22m\u001b[2K\u001b[1Gtransforming (23) \u001b[2mnode_modules/axios/lib/helpers/buildURL.js\u001b[22m\u001b[2K\u001b[1G\u001b[32m✓\u001b[39m 53 modules transformed.\n",
      "\u001b[2K\u001b[1Grendering chunks (1)...\u001b[2K\u001b[1Grendering chunks (2)...\u001b[2K\u001b[1G\u001b[2K\u001b[1Gcomputing gzip size (0)...\u001b[2K\u001b[1Gcomputing gzip size (1)...\u001b[2K\u001b[1Gcomputing gzip size (2)...\u001b[2K\u001b[1Gcomputing gzip size (3)...\u001b[2K\u001b[1G\u001b[2mpublic/build/\u001b[22m\u001b[32mmanifest.json           \u001b[39m\u001b[1m\u001b[2m 0.29 kB\u001b[22m\u001b[1m\u001b[22m\u001b[2m │ gzip:  0.15 kB\u001b[22m\n",
      "\u001b[2mpublic/build/\u001b[22m\u001b[2massets/\u001b[22m\u001b[36mapp-l0sNRNKZ.js  \u001b[39m\u001b[1m\u001b[2m 0.00 kB\u001b[22m\u001b[1m\u001b[22m\u001b[2m │ gzip:  0.02 kB\u001b[22m\n",
      "\u001b[2mpublic/build/\u001b[22m\u001b[2massets/\u001b[22m\u001b[36mapp-DIM0x79V.js  \u001b[39m\u001b[1m\u001b[2m34.04 kB\u001b[22m\u001b[1m\u001b[22m\u001b[2m │ gzip: 13.61 kB\u001b[22m\n",
      "\u001b[32m✓ built in 389ms\u001b[39m\n"
     ]
    }
   ],
   "source": [
    "! npm run build"
   ]
  },
  {
   "cell_type": "code",
   "execution_count": 86,
   "metadata": {},
   "outputs": [
    {
     "name": "stdout",
     "output_type": "stream",
     "text": [
      "\n",
      "  \u001b[30;42;1m PASS \u001b[39;49;22m\u001b[39m Tests\\Unit\\ExampleTest\u001b[39m\n",
      "  \u001b[32;1m✓\u001b[39;22m\u001b[90m \u001b[39m\u001b[90mthat true is true\u001b[39m\u001b[90m                                                   \u001b[39m \u001b[90m0.01s\u001b[39m  \n",
      "\n",
      "  \u001b[30;42;1m PASS \u001b[39;49;22m\u001b[39m Tests\\Feature\\ExampleTest\u001b[39m\n",
      "  \u001b[32;1m✓\u001b[39;22m\u001b[90m \u001b[39m\u001b[90mthe application returns a successful response\u001b[39m\u001b[90m                       \u001b[39m \u001b[90m0.21s\u001b[39m  \n",
      "\n",
      "  \u001b[90mTests:\u001b[39m    \u001b[32;1m2 passed\u001b[39;22m\u001b[90m (2 assertions)\u001b[39m\n",
      "  \u001b[90mDuration:\u001b[39m \u001b[39m0.37s\u001b[39m\n",
      "\n"
     ]
    }
   ],
   "source": [
    "! php artisan test"
   ]
  },
  {
   "cell_type": "code",
   "execution_count": 87,
   "metadata": {},
   "outputs": [
    {
     "name": "stdout",
     "output_type": "stream",
     "text": [
      "13:37:19.991 INFO [LoggingOptions.configureLogEncoding] - Using the system default encoding\n",
      "13:37:20.026 INFO [OpenTelemetryTracer.createTracer] - Using OpenTelemetry for tracing\n",
      "13:37:21.202 INFO [NodeOptions.getSessionFactories] - Detected 4 available processors\n",
      "13:37:21.205 INFO [NodeOptions.discoverDrivers] - Looking for existing drivers on the PATH.\n",
      "13:37:21.205 INFO [NodeOptions.discoverDrivers] - Add '--selenium-manager true' to the startup command to setup drivers automatically.\n",
      "13:37:21.392 WARN [SeleniumManager.lambda$runCommand$1] - Exception managing chrome: Unable to discover proper chromedriver version in offline mode\n",
      "13:37:21.409 WARN [SeleniumManager.lambda$runCommand$1] - Unable to discover proper msedgedriver version in offline mode\n",
      "13:37:21.438 WARN [SeleniumManager.lambda$runCommand$1] - Unable to discover proper geckodriver version in offline mode\n",
      "13:37:21.481 INFO [NodeOptions.report] - Adding Chrome for {\"browserName\": \"chrome\",\"platformName\": \"linux\"} 4 times\n",
      "13:37:21.613 INFO [Node.<init>] - Binding additional locator mechanisms: relative\n",
      "13:37:21.720 INFO [GridModel.setAvailability] - Switching Node fdb6b4c7-27b4-49a1-b282-346c1aeb36bd (uri: http://172.17.0.1:4444) from DOWN to UP\n",
      "13:37:21.723 INFO [LocalDistributor.add] - Added node fdb6b4c7-27b4-49a1-b282-346c1aeb36bd at http://172.17.0.1:4444. Health check every 120s\n",
      "13:37:22.315 ERROR [Bootstrap.runMain] - Error during execution\n",
      "java.lang.reflect.InvocationTargetException\n",
      "\tat java.base/jdk.internal.reflect.NativeMethodAccessorImpl.invoke0(Native Method)\n",
      "\tat java.base/jdk.internal.reflect.NativeMethodAccessorImpl.invoke(NativeMethodAccessorImpl.java:77)\n",
      "\tat java.base/jdk.internal.reflect.DelegatingMethodAccessorImpl.invoke(DelegatingMethodAccessorImpl.java:43)\n",
      "\tat java.base/java.lang.reflect.Method.invoke(Method.java:568)\n",
      "\tat org.openqa.selenium.grid.Bootstrap.runMain(Bootstrap.java:77)\n",
      "\tat org.openqa.selenium.grid.Bootstrap.main(Bootstrap.java:70)\n",
      "Caused by: org.openqa.selenium.netty.server.ServerBindException: Could not bind to address or port is already in use. Host 0.0.0.0, Port 4444\n",
      "\tat org.openqa.selenium.netty.server.NettyServer.start(NettyServer.java:168)\n",
      "\tat org.openqa.selenium.netty.server.NettyServer.start(NettyServer.java:51)\n",
      "\tat org.openqa.selenium.grid.commands.Standalone.execute(Standalone.java:243)\n",
      "\tat org.openqa.selenium.grid.TemplateGridCommand.lambda$configure$4(TemplateGridCommand.java:122)\n",
      "\tat org.openqa.selenium.grid.Main.launch(Main.java:83)\n",
      "\tat org.openqa.selenium.grid.Main.go(Main.java:56)\n",
      "\tat org.openqa.selenium.grid.Main.main(Main.java:41)\n",
      "\t... 6 more\n",
      "Caused by: java.net.BindException: Address already in use\n",
      "\tat java.base/sun.nio.ch.Net.bind0(Native Method)\n",
      "\tat java.base/sun.nio.ch.Net.bind(Net.java:555)\n",
      "\tat java.base/sun.nio.ch.ServerSocketChannelImpl.netBind(ServerSocketChannelImpl.java:337)\n",
      "\tat java.base/sun.nio.ch.ServerSocketChannelImpl.bind(ServerSocketChannelImpl.java:294)\n",
      "\tat io.netty.channel.socket.nio.NioServerSocketChannel.doBind(NioServerSocketChannel.java:141)\n",
      "\tat io.netty.channel.AbstractChannel$AbstractUnsafe.bind(AbstractChannel.java:562)\n",
      "\tat io.netty.channel.DefaultChannelPipeline$HeadContext.bind(DefaultChannelPipeline.java:1334)\n",
      "\tat io.netty.channel.AbstractChannelHandlerContext.invokeBind(AbstractChannelHandlerContext.java:600)\n",
      "\tat io.netty.channel.AbstractChannelHandlerContext.bind(AbstractChannelHandlerContext.java:579)\n",
      "\tat io.netty.handler.logging.LoggingHandler.bind(LoggingHandler.java:230)\n",
      "\tat io.netty.channel.AbstractChannelHandlerContext.invokeBind(AbstractChannelHandlerContext.java:602)\n",
      "\tat io.netty.channel.AbstractChannelHandlerContext.bind(AbstractChannelHandlerContext.java:579)\n",
      "\tat io.netty.channel.DefaultChannelPipeline.bind(DefaultChannelPipeline.java:973)\n",
      "\tat io.netty.channel.AbstractChannel.bind(AbstractChannel.java:260)\n",
      "\tat io.netty.bootstrap.AbstractBootstrap$2.run(AbstractBootstrap.java:380)\n",
      "\tat io.netty.util.concurrent.AbstractEventExecutor.runTask(AbstractEventExecutor.java:173)\n",
      "\tat io.netty.util.concurrent.AbstractEventExecutor.safeExecute(AbstractEventExecutor.java:166)\n",
      "\tat io.netty.util.concurrent.SingleThreadEventExecutor.runAllTasks(SingleThreadEventExecutor.java:470)\n",
      "\tat io.netty.channel.nio.NioEventLoop.run(NioEventLoop.java:569)\n",
      "\tat io.netty.util.concurrent.SingleThreadEventExecutor$4.run(SingleThreadEventExecutor.java:997)\n",
      "\tat io.netty.util.internal.ThreadExecutorMap$2.run(ThreadExecutorMap.java:74)\n",
      "\tat io.netty.util.concurrent.FastThreadLocalRunnable.run(FastThreadLocalRunnable.java:30)\n",
      "\tat java.base/java.lang.Thread.run(Thread.java:840)\n"
     ]
    }
   ],
   "source": [
    "import subprocess, os\n",
    "os.environ[\"PATH\"] += os.pathsep + '/opt/selenium/'\n",
    "seleniumServer = subprocess.Popen(['java', '-jar', 'selenium-server-4.18.0.jar', 'standalone'], cwd='/opt/selenium/')"
   ]
  },
  {
   "cell_type": "code",
   "execution_count": 88,
   "metadata": {},
   "outputs": [
    {
     "name": "stdout",
     "output_type": "stream",
     "text": [
      "  Failed to listen on 127.0.0.1:8888 (reason: Address already in use)\n"
     ]
    }
   ],
   "source": [
    "import subprocess\n",
    "artisanServe = subprocess.Popen(['php', 'artisan', 'serve', '--port', '8888'])"
   ]
  },
  {
   "cell_type": "code",
   "execution_count": 89,
   "metadata": {},
   "outputs": [],
   "source": [
    "! while ! timeout 1 bash -c \"echo > /dev/tcp/localhost/4444\"; do echo \"Waiting for Selenium...\"; sleep 1; done"
   ]
  },
  {
   "cell_type": "code",
   "execution_count": 90,
   "metadata": {},
   "outputs": [
    {
     "name": "stdout",
     "output_type": "stream",
     "text": [
      "  2024-05-23 13:37:27 ................................................... ~ 0s\n"
     ]
    }
   ],
   "source": [
    "! while ! timeout 1 bash -c \"echo > /dev/tcp/localhost/8888\"; do echo \"Waiting for App...\"; sleep 1; done"
   ]
  },
  {
   "cell_type": "code",
   "execution_count": 91,
   "metadata": {},
   "outputs": [
    {
     "name": "stdout",
     "output_type": "stream",
     "text": [
      "Codeception PHP Testing Framework v5.1.2 https://stand-with-ukraine.pp.ua\n",
      "\n",
      "\u001b[1mTestsCodeception.Acceptance Tests (2) \u001b[22m------------------------------------------\n",
      "- \u001b[35;1mCommentsCest:\u001b[39;22m See comments from DB displayed on page13:37:40.947 INFO [LocalDistributor.newSession] - Session request received by the Distributor: \n",
      " [Capabilities {browserName: chrome}]\n",
      "13:37:42.215 INFO [LocalNode.newSession] - Session created by the Node. Id: 31b93c60132e13f59c3701cca2d32c8b, Caps: Capabilities {acceptInsecureCerts: false, browserName: chrome, browserVersion: 121.0.6167.184, chrome: {chromedriverVersion: 121.0.6167.184 (057a8ae7deb..., userDataDir: /tmp/.org.chromium.Chromium...}, fedcm:accounts: true, goog:chromeOptions: {debuggerAddress: localhost:43913}, networkConnectionEnabled: false, pageLoadStrategy: normal, platformName: linux, proxy: Proxy(), se:bidiEnabled: false, se:cdp: ws://172.17.0.1:4444/sessio..., se:cdpVersion: 121.0.6167.184, setWindowRect: true, strictFileInteractability: false, timeouts: {implicit: 0, pageLoad: 300000, script: 30000}, unhandledPromptBehavior: dismiss and notify, webauthn:extension:credBlob: true, webauthn:extension:largeBlob: true, webauthn:extension:minPinLength: true, webauthn:extension:prf: true, webauthn:virtualAuthenticators: true}\n",
      "13:37:42.234 INFO [LocalDistributor.newSession] - Session created by the Distributor. Id: 31b93c60132e13f59c3701cca2d32c8b \n",
      " Caps: Capabilities {acceptInsecureCerts: false, browserName: chrome, browserVersion: 121.0.6167.184, chrome: {chromedriverVersion: 121.0.6167.184 (057a8ae7deb..., userDataDir: /tmp/.org.chromium.Chromium...}, fedcm:accounts: true, goog:chromeOptions: {debuggerAddress: localhost:43913}, networkConnectionEnabled: false, pageLoadStrategy: normal, platformName: linux, proxy: Proxy(), se:bidiEnabled: false, se:cdp: ws://172.17.0.1:4444/sessio..., se:cdpVersion: 121.0.6167.184, setWindowRect: true, strictFileInteractability: false, timeouts: {implicit: 0, pageLoad: 300000, script: 30000}, unhandledPromptBehavior: dismiss and notify, webauthn:extension:credBlob: true, webauthn:extension:largeBlob: true, webauthn:extension:minPinLength: true, webauthn:extension:prf: true, webauthn:virtualAuthenticators: true}\n",
      "  2024-05-23 13:37:42 ................................................... ~ 0s\n",
      "  2024-05-23 13:37:42 /favicon.ico ..................................... ~ -1s\n",
      "\u001b[32;1m✔\u001b[39;22m \u001b[35;1mCommentsCest:\u001b[39;22m See comments from DB displayed on page\u001b[32m(1.72s)\u001b[39m\n",
      "- \u001b[35;1mHomepageCest:\u001b[39;22m See Laravel links on homepage  2024-05-23 13:37:43 ................................................... ~ 0s\n",
      "  2024-05-23 13:37:43 /favicon.ico ...................................... ~ 0s\n",
      "  2024-05-23 13:37:46 ................................................... ~ 0s\n",
      "\u001b[32;1m✔\u001b[39;22m \u001b[35;1mHomepageCest:\u001b[39;22m See Laravel links on homepage\u001b[32m(0.91s)\u001b[39m\n",
      "  2024-05-23 13:37:46 /favicon.ico ..................................... ~ -1s\n",
      "13:37:50.553 INFO [LocalSessionMap.lambda$new$0] - Deleted session from local Session Map, Id: 31b93c60132e13f59c3701cca2d32c8b\n",
      "13:37:50.553 INFO [GridModel.release] - Releasing slot for session id 31b93c60132e13f59c3701cca2d32c8b\n",
      "13:37:50.553 INFO [SessionSlot.stop] - Stopping session 31b93c60132e13f59c3701cca2d32c8b\n",
      "--------------------------------------------------------------------------------\n",
      "Time: 00:14.868, Memory: 16.00 MB\n",
      "\n",
      "\u001b[30;42mOK (2 tests, 13 assertions)\u001b[39;49m\n"
     ]
    }
   ],
   "source": [
    "! vendor/bin/codecept run"
   ]
  },
  {
   "cell_type": "markdown",
   "metadata": {},
   "source": [
    "Edit the code:"
   ]
  },
  {
   "cell_type": "code",
   "execution_count": null,
   "metadata": {},
   "outputs": [
    {
     "name": "stdout",
     "output_type": "stream",
     "text": [
      "CompileCommand: exclude com/intellij/openapi/vfs/impl/FilePartNodeRoot.trieDescend bool exclude = true\n",
      "2024-05-23 14:04:44,830 [   2138]   WARN - #c.i.s.ComponentManagerImpl - `preload=true` must be used only for core services (service=com.intellij.ae.database.core.baseEvents.fus.AddStatisticsEventLogListenerTemporary, plugin=com.jetbrains.ae.database)\n",
      "2024-05-23 14:04:44,832 [   2140]   WARN - #c.i.s.ComponentManagerImpl - `preload=true` must be used only for core services (service=com.jetbrains.rdserver.statistics.BackendStatisticsManager, plugin=com.jetbrains.codeWithMe)\n",
      "2024-05-23 14:04:45,710 [   3018]   WARN - #c.i.s.ComponentManagerImpl - com.intellij.psi.search.FilenameIndex initializer requests com.intellij.ide.plugins.PluginUtil instance\n",
      "2024-05-23 14:04:46,793 [   4101]   WARN - #c.i.s.ComponentManagerImpl - com.intellij.lang.javascript.psi.jsdoc.impl.JSDocCustomTags initializer requests com.intellij.lang.javascript.JSDisposable instance\n",
      "2024-05-23 14:04:47,953 [   5261]   WARN - #c.i.o.v.n.p.d.e.DurableEnumeratorFactory - [enumerator.mmapped]: .valueToId map is out-of-sync with .valuesLog data -> rebuilding it\n",
      "2024-05-23 14:04:48,407 [   5715]   WARN - #c.i.s.ComponentManagerImpl - org.zmlx.hg4idea.provider.HgChangeProvider initializer requests com.intellij.openapi.vcs.FileStatusFactory instance\n",
      "2024-05-23 14:04:48,788 [   6096]   WARN - #c.i.s.ComponentManagerImpl - com.intellij.psi.LanguageSubstitutors initializer requests com.intellij.psi.LanguageSubstitutors instance\n",
      "2024-05-23 14:04:50,014 [   7322]   WARN - #c.i.s.ComponentManagerImpl - com.intellij.psi.codeStyle.CodeStyleSettingsCustomizable initializer requests com.intellij.util.LocaleSensitiveApplicationCacheService instance\n",
      "2024-05-23 14:04:51,190 [   8498]   WARN - #o.j.p.t.TextMateService - Cannot find referenced file `./language-configuration.json` in bundle `/opt/PhpStorm-233.14475.35/plugins/textmate/lib/bundles/mdx`\n",
      "2024-05-23 14:04:52,375 [   9683]   WARN - #c.i.u.x.Binding - no accessors for com.jetbrains.php.testFramework.PhpTestFrameworkType\n",
      "2024-05-23 14:04:52,378 [   9686]   WARN - #c.i.o.a.i.ActionUpdater - 665 ms to grab EDT for ToolWindowHeader$2#Update@ToolwindowTitle (com.intellij.toolWindow.ToolWindowHeader$2)\n",
      "2024-05-23 14:04:52,379 [   9687]   WARN - #c.i.o.a.i.ActionUpdater - 502 ms to grab EDT for ToolWindowHeader$2#Update@ToolwindowTitle (com.intellij.toolWindow.ToolWindowHeader$2)\n",
      "2024-05-23 14:04:52,496 [   9804]   WARN - #c.i.o.a.i.ActionUpdater - 418 ms to grab EDT for ToolWindowHeader$2#Update@ToolwindowTitle (com.intellij.toolWindow.ToolWindowHeader$2)\n",
      "2024-05-23 14:04:53,056 [  10364]   WARN - #c.i.o.a.i.ActionUpdater - 563 ms to grab EDT for JoinCallAction#Update@MainToolbar (com.jetbrains.rd.platform.codeWithMe.telephony.JoinCallAction)\n",
      "2024-05-23 14:04:53,146 [  10454]   WARN - #c.i.o.a.i.ActionUpdater - 649 ms to grab EDT for ToolWindowHeader$2#GetChildren@ToolwindowTitle (com.intellij.toolWindow.ToolWindowHeader$2)\n",
      "2024-05-23 14:04:53,220 [  10528]   WARN - #c.i.o.a.i.ActionUpdater - 630 ms to grab EDT for DockToolWindowAction#Update@ToolwindowTitle (com.intellij.openapi.wm.impl.DockToolWindowAction)\n",
      "2024-05-23 14:04:53,253 [  10561]   WARN - #c.i.o.a.i.ActionUpdater - 664 ms to grab EDT for ExpandAllAction#Update@ToolwindowTitle (com.intellij.ide.actions.ExpandAllAction)\n",
      "2024-05-23 14:04:53,254 [  10562]   WARN - #c.i.o.a.i.ActionUpdater - 665 ms to grab EDT for CollapseAllAction#Update@ToolwindowTitle (com.intellij.ide.actions.CollapseAllAction)\n",
      "2024-05-23 14:04:53,301 [  10609]   WARN - #c.i.o.a.i.ActionUpdater - 711 ms to grab EDT for DockToolWindowAction#Update@ToolwindowTitle (com.intellij.openapi.wm.impl.DockToolWindowAction)\n",
      "2024-05-23 14:04:53,546 [  10854]   WARN - #c.i.o.a.i.ActionUpdater - 397 ms to grab EDT for ExpandAllAction#Update@ToolwindowTitle (com.intellij.ide.actions.ExpandAllAction)\n",
      "2024-05-23 14:04:53,547 [  10855]   WARN - #c.i.o.a.i.ActionUpdater - 398 ms to grab EDT for CollapseAllAction#Update@ToolwindowTitle (com.intellij.ide.actions.CollapseAllAction)\n",
      "2024-05-23 14:04:53,548 [  10856]   WARN - #c.i.o.a.i.ActionUpdater - 399 ms to grab EDT for DockToolWindowAction#Update@ToolwindowTitle (com.intellij.openapi.wm.impl.DockToolWindowAction)\n",
      "2024-05-23 14:04:56,059 [  13367]   WARN - #c.i.i.s.i.StartupManagerImpl - Migrate com.jetbrains.php.tools.quality.psalm.PsalmSettingsTransferStartupActivity to ProjectActivity [Plugin: com.intellij.php.psalm]\n",
      "com.intellij.diagnostic.PluginException: Migrate com.jetbrains.php.tools.quality.psalm.PsalmSettingsTransferStartupActivity to ProjectActivity [Plugin: com.intellij.php.psalm]\n",
      "\tat com.intellij.ide.startup.impl.StartupManagerImpl.runPostStartupActivities(StartupManagerImpl.kt:277)\n",
      "\tat com.intellij.ide.startup.impl.StartupManagerImpl.access$runPostStartupActivities(StartupManagerImpl.kt:69)\n",
      "\tat com.intellij.ide.startup.impl.StartupManagerImpl$runPostStartupActivities$3$2.invokeSuspend(StartupManagerImpl.kt:192)\n",
      "\tat com.intellij.ide.startup.impl.StartupManagerImpl$runPostStartupActivities$3$2.invoke(StartupManagerImpl.kt)\n",
      "\tat com.intellij.ide.startup.impl.StartupManagerImpl$runPostStartupActivities$3$2.invoke(StartupManagerImpl.kt)\n",
      "\tat kotlinx.coroutines.intrinsics.UndispatchedKt.startUndispatchedOrReturn(Undispatched.kt:78)\n",
      "\tat kotlinx.coroutines.BuildersKt__Builders_commonKt.withContext(Builders.common.kt:167)\n",
      "\tat kotlinx.coroutines.BuildersKt.withContext(Unknown Source)\n",
      "\tat com.intellij.ide.startup.impl.StartupManagerImpl$runPostStartupActivities$3.invokeSuspend(StartupManagerImpl.kt:191)\n",
      "\tat kotlin.coroutines.jvm.internal.BaseContinuationImpl.resumeWith(ContinuationImpl.kt:33)\n",
      "\tat kotlinx.coroutines.UndispatchedCoroutine.afterResume(CoroutineContext.kt:270)\n",
      "\tat kotlinx.coroutines.AbstractCoroutine.resumeWith(AbstractCoroutine.kt:102)\n",
      "\tat kotlin.coroutines.jvm.internal.BaseContinuationImpl.resumeWith(ContinuationImpl.kt:46)\n",
      "\tat kotlinx.coroutines.DispatchedTask.run(DispatchedTask.kt:108)\n",
      "\tat kotlinx.coroutines.scheduling.CoroutineScheduler.runSafely(CoroutineScheduler.kt:584)\n",
      "\tat kotlinx.coroutines.scheduling.CoroutineScheduler$Worker.executeTask(CoroutineScheduler.kt:793)\n",
      "\tat kotlinx.coroutines.scheduling.CoroutineScheduler$Worker.runWorker(CoroutineScheduler.kt:697)\n",
      "\tat kotlinx.coroutines.scheduling.CoroutineScheduler$Worker.run(CoroutineScheduler.kt:684)\n",
      "2024-05-23 14:04:56,124 [  13432]   WARN - #c.i.i.s.i.StartupManagerImpl - Migrate com.jetbrains.php.tools.quality.phpstan.PhpStanSettingsTransferStartupActivity to ProjectActivity [Plugin: com.intellij.php.tools.quality.phpstan]\n",
      "com.intellij.diagnostic.PluginException: Migrate com.jetbrains.php.tools.quality.phpstan.PhpStanSettingsTransferStartupActivity to ProjectActivity [Plugin: com.intellij.php.tools.quality.phpstan]\n",
      "\tat com.intellij.ide.startup.impl.StartupManagerImpl.runPostStartupActivities(StartupManagerImpl.kt:277)\n",
      "\tat com.intellij.ide.startup.impl.StartupManagerImpl.access$runPostStartupActivities(StartupManagerImpl.kt:69)\n",
      "\tat com.intellij.ide.startup.impl.StartupManagerImpl$runPostStartupActivities$3$2.invokeSuspend(StartupManagerImpl.kt:192)\n",
      "\tat com.intellij.ide.startup.impl.StartupManagerImpl$runPostStartupActivities$3$2.invoke(StartupManagerImpl.kt)\n",
      "\tat com.intellij.ide.startup.impl.StartupManagerImpl$runPostStartupActivities$3$2.invoke(StartupManagerImpl.kt)\n",
      "\tat kotlinx.coroutines.intrinsics.UndispatchedKt.startUndispatchedOrReturn(Undispatched.kt:78)\n",
      "\tat kotlinx.coroutines.BuildersKt__Builders_commonKt.withContext(Builders.common.kt:167)\n",
      "\tat kotlinx.coroutines.BuildersKt.withContext(Unknown Source)\n",
      "\tat com.intellij.ide.startup.impl.StartupManagerImpl$runPostStartupActivities$3.invokeSuspend(StartupManagerImpl.kt:191)\n",
      "\tat kotlin.coroutines.jvm.internal.BaseContinuationImpl.resumeWith(ContinuationImpl.kt:33)\n",
      "\tat kotlinx.coroutines.UndispatchedCoroutine.afterResume(CoroutineContext.kt:270)\n",
      "\tat kotlinx.coroutines.AbstractCoroutine.resumeWith(AbstractCoroutine.kt:102)\n",
      "\tat kotlin.coroutines.jvm.internal.BaseContinuationImpl.resumeWith(ContinuationImpl.kt:46)\n",
      "\tat kotlinx.coroutines.DispatchedTask.run(DispatchedTask.kt:108)\n",
      "\tat kotlinx.coroutines.scheduling.CoroutineScheduler.runSafely(CoroutineScheduler.kt:584)\n",
      "\tat kotlinx.coroutines.scheduling.CoroutineScheduler$Worker.executeTask(CoroutineScheduler.kt:793)\n",
      "\tat kotlinx.coroutines.scheduling.CoroutineScheduler$Worker.runWorker(CoroutineScheduler.kt:697)\n",
      "\tat kotlinx.coroutines.scheduling.CoroutineScheduler$Worker.run(CoroutineScheduler.kt:684)\n",
      "2024-05-23 14:04:56,962 [  14270]   WARN - #c.i.o.a.i.ActionUpdater - 510 ms to grab EDT for ToolWindowHeader$2#Update@ToolwindowTitle (com.intellij.toolWindow.ToolWindowHeader$2)\n",
      "2024-05-23 14:04:56,963 [  14271]   WARN - #c.i.o.a.i.ActionUpdater - 495 ms to grab EDT for EditorMarkupModelImpl$1#Update@EditorInspectionsToolbar (com.intellij.openapi.editor.impl.EditorMarkupModelImpl$1)\n",
      "2024-05-23 14:04:56,963 [  14271]   WARN - #c.i.o.a.i.ActionUpdater - 470 ms to grab EDT for FontEditorPreview$RestorePreviewTextAction#Update@ContextToolbar (com.intellij.application.options.colors.FontEditorPreview$RestorePreviewTextAction)\n",
      "2024-05-23 14:04:56,968 [  14276]   WARN - #c.i.o.a.i.ActionUpdater - 470 ms to grab EDT for FontEditorPreview$ToggleBoldFontAction#Update@ContextToolbar (com.intellij.application.options.colors.FontEditorPreview$ToggleBoldFontAction)\n",
      "2024-05-23 14:04:56,969 [  14277]   WARN - #c.i.o.a.i.ActionUpdater - 410 ms to grab EDT for ReviewModeActionGroup#Update@EditorInspectionsToolbar (org.jetbrains.plugins.gitlab.mergerequest.ui.editor.action.ReviewModeActionGroup)\n",
      "2024-05-23 14:04:56,973 [  14281]   WARN - #c.i.o.a.i.ActionUpdater - 423 ms to grab EDT for JoinCallAction#Update@MainToolbar (com.jetbrains.rd.platform.codeWithMe.telephony.JoinCallAction)\n",
      "2024-05-23 14:04:56,974 [  14282]   WARN - #c.i.o.a.i.ActionUpdater - 493 ms to grab EDT for EditorMarkupModelImpl$TrafficLightAction#Update@EditorInspectionsToolbar (com.intellij.openapi.editor.impl.EditorMarkupModelImpl$TrafficLightAction)\n",
      "2024-05-23 14:04:57,063 [  14371]   WARN - #c.i.i.s.p.i.BundledSharedIndexPostStartupActivity - Skipped 1 pre-built shared indexes: bundled-js-predefined-1d06a55b98c1-985749b364ce-JavaScript-PS-233.14475.35\n",
      "2024-05-23 14:04:57,408 [  14716]   WARN - #c.i.o.a.i.ActionUpdater - 403 ms to grab EDT for ToolWindowHeader$2#GetChildren@ToolwindowTitle (com.intellij.toolWindow.ToolWindowHeader$2)\n",
      "2024-05-23 14:04:58,714 [  16022]   WARN - #c.i.s.ComponentManagerImpl - com.intellij.database.console.session.DatabaseSessionManager initializer requests com.intellij.database.console.session.DatabaseSessionViewService instance\n",
      "2024-05-23 14:04:59,356 [  16664]   WARN - #c.i.o.a.i.ActionUpdater - 673 ms to grab EDT for CollapseAllAction#Update@ToolwindowTitle (com.intellij.ide.actions.CollapseAllAction)\n",
      "2024-05-23 14:04:59,356 [  16664]   WARN - #c.i.o.a.i.ActionUpdater - 673 ms to grab EDT for ExpandAllAction#Update@ToolwindowTitle (com.intellij.ide.actions.ExpandAllAction)\n",
      "2024-05-23 14:04:59,356 [  16664]   WARN - #c.i.o.a.i.ActionUpdater - 673 ms to grab EDT for DockToolWindowAction#Update@ToolwindowTitle (com.intellij.openapi.wm.impl.DockToolWindowAction)\n",
      "2024-05-23 14:04:59,532 [  16840]   WARN - #c.i.o.a.i.ActionUpdater - 318 ms to grab EDT for ToolWindowHeader$2#Update@ToolwindowTitle (com.intellij.toolWindow.ToolWindowHeader$2)\n",
      "2024-05-23 14:04:59,533 [  16841]   WARN - #c.i.o.a.i.ActionUpdater - 302 ms to grab EDT for EditorMarkupModelImpl$1#Update@EditorInspectionsToolbar (com.intellij.openapi.editor.impl.EditorMarkupModelImpl$1)\n",
      "2024-05-23 14:04:59,535 [  16843]   WARN - #c.i.o.a.i.ActionUpdater - 302 ms to grab EDT for ReviewModeActionGroup#Update@EditorInspectionsToolbar (org.jetbrains.plugins.gitlab.mergerequest.ui.editor.action.ReviewModeActionGroup)\n",
      "2024-05-23 14:04:59,532 [  16840]   WARN - #c.i.o.a.i.ActionUpdater - 302 ms to grab EDT for EditorMarkupModelImpl$TrafficLightAction#Update@EditorInspectionsToolbar (com.intellij.openapi.editor.impl.EditorMarkupModelImpl$TrafficLightAction)\n",
      "2024-05-23 14:05:02,125 [  19433]   WARN - #c.j.p.PhpIndex - Completing type '#π(#g#F\\App\\Http\\Controllers\\view)(\"comments.index\")' took 757ms, visited:[#π(#g#F\\App\\Http\\Controllers\\view)(\"comments.index\")]\n",
      "2024-05-23 14:05:45,153 [  62461]   WARN - #c.i.u.x.Binding - no accessors for com.intellij.ide.util.TipsUsageManager$State\n",
      "2024-05-23 14:17:14,150 [ 751458]   WARN - #c.i.s.ComponentManagerImpl - com.intellij.usages.UsageNodePresentation initializer requests com.intellij.usageView.UsageTreeColorsScheme instance\n",
      "2024-05-23 14:33:33,649 [1730957] SEVERE - #c.i.u.IdempotenceChecker - Non-idempotent computation: it returns different results when invoked multiple times or on different threads:\n",
      "  {} (class com.jetbrains.php.lang.psi.stubs.indexes.PhpGlobalVariableFakeElement) != {} (class com.jetbrains.php.lang.psi.stubs.indexes.PhpGlobalVariableFakeElement)\n",
      "  which is element of PsiElementResolveResult with class com.jetbrains.php.lang.psi.stubs.indexes.PhpGlobalVariableFakeElement: comments and PsiElementResolveResult with class com.jetbrains.php.lang.psi.stubs.indexes.PhpGlobalVariableFakeElement: comments\n",
      "  which is 0th element of [PsiElementResolveResult with class com.jetbrains.php.lang.psi.stubs.indexes.PhpGlobalVariableFakeElement: comments] and [PsiElementResolveResult with class com.jetbrains.php.lang.psi.stubs.indexes.PhpGlobalVariableFakeElement: comments]\n",
      "\n",
      "Recomputation gives [Lcom.intellij.psi.ResolveResult;@24cbee9b (class [Lcom.intellij.psi.ResolveResult;) which is different from both values\n",
      "Recomputation log:\n",
      "  Resolving VariableImpl: comments of class com.jetbrains.php.lang.psi.elements.impl.VariableImpl [Plugin: com.jetbrains.php]\n",
      "com.intellij.diagnostic.PluginException: Non-idempotent computation: it returns different results when invoked multiple times or on different threads:\n",
      "  {} (class com.jetbrains.php.lang.psi.stubs.indexes.PhpGlobalVariableFakeElement) != {} (class com.jetbrains.php.lang.psi.stubs.indexes.PhpGlobalVariableFakeElement)\n",
      "  which is element of PsiElementResolveResult with class com.jetbrains.php.lang.psi.stubs.indexes.PhpGlobalVariableFakeElement: comments and PsiElementResolveResult with class com.jetbrains.php.lang.psi.stubs.indexes.PhpGlobalVariableFakeElement: comments\n",
      "  which is 0th element of [PsiElementResolveResult with class com.jetbrains.php.lang.psi.stubs.indexes.PhpGlobalVariableFakeElement: comments] and [PsiElementResolveResult with class com.jetbrains.php.lang.psi.stubs.indexes.PhpGlobalVariableFakeElement: comments]\n",
      "\n",
      "Recomputation gives [Lcom.intellij.psi.ResolveResult;@24cbee9b (class [Lcom.intellij.psi.ResolveResult;) which is different from both values\n",
      "Recomputation log:\n",
      "  Resolving VariableImpl: comments of class com.jetbrains.php.lang.psi.elements.impl.VariableImpl [Plugin: com.jetbrains.php]\n",
      "\tat com.intellij.diagnostic.PluginProblemReporterImpl.createPluginExceptionByClass(PluginProblemReporterImpl.java:23)\n",
      "\tat com.intellij.diagnostic.PluginException.createByClass(PluginException.java:89)\n",
      "\tat com.intellij.util.IdempotenceChecker.reportFailure(IdempotenceChecker.java:97)\n",
      "\tat com.intellij.util.IdempotenceChecker.checkEquivalence(IdempotenceChecker.java:82)\n",
      "\tat com.intellij.psi.impl.source.resolve.ResolveCache.cache(ResolveCache.java:296)\n",
      "\tat com.intellij.psi.impl.source.resolve.ResolveCache.resolve(ResolveCache.java:224)\n",
      "\tat com.intellij.psi.impl.source.resolve.ResolveCache.resolveWithCaching(ResolveCache.java:158)\n",
      "\tat com.intellij.psi.impl.source.resolve.ResolveCache.resolveWithCaching(ResolveCache.java:145)\n",
      "\tat com.jetbrains.php.lang.psi.elements.impl.VariableImpl.multiResolve(VariableImpl.java:422)\n",
      "\tat com.jetbrains.php.lang.inspections.controlFlow.dfa.PhpInferredArrayEmptinessProcessor.processEntryPointInstruction(PhpInferredArrayEmptinessProcessor.java:51)\n",
      "\tat com.jetbrains.php.codeInsight.controlFlow.instructions.impl.PhpEntryPointInstructionImpl.process(PhpEntryPointInstructionImpl.java:16)\n",
      "\tat com.jetbrains.php.codeInsight.controlFlow.PhpControlFlowUtil.processPredecessors(PhpControlFlowUtil.java:344)\n",
      "\tat com.jetbrains.php.codeInsight.controlFlow.PhpControlFlowUtil.processPredecessors(PhpControlFlowUtil.java:314)\n",
      "\tat com.jetbrains.php.codeInsight.controlFlow.PhpControlFlowUtil.processPredecessors(PhpControlFlowUtil.java:283)\n",
      "\tat com.jetbrains.php.lang.inspections.controlFlow.dfa.PhpArrayIsAlwaysEmptyInspection.getAlwaysEmptyAssignmentInstruction(PhpArrayIsAlwaysEmptyInspection.java:115)\n",
      "\tat com.jetbrains.php.lang.inspections.controlFlow.dfa.PhpArrayIsAlwaysEmptyInspection.getAlwaysEmptyInstruction(PhpArrayIsAlwaysEmptyInspection.java:100)\n",
      "\tat com.jetbrains.php.lang.inspections.controlFlow.dfa.PhpArrayIsAlwaysEmptyInspection.getAlwaysEmptyInstruction(PhpArrayIsAlwaysEmptyInspection.java:75)\n",
      "\tat com.jetbrains.php.lang.inspections.controlFlow.dfa.PhpArrayIsAlwaysEmptyInspection$1.doCheckArray(PhpArrayIsAlwaysEmptyInspection.java:50)\n",
      "\tat com.jetbrains.php.lang.inspections.controlFlow.dfa.PhpArrayIsAlwaysEmptyInspection$1.visitPhpForeach(PhpArrayIsAlwaysEmptyInspection.java:34)\n",
      "\tat com.jetbrains.php.lang.psi.elements.impl.ForeachImpl.accept(ForeachImpl.java:82)\n",
      "\tat com.jetbrains.php.lang.psi.elements.impl.PhpASTElementImpl.accept(PhpASTElementImpl.java:26)\n",
      "\tat com.intellij.codeInsight.daemon.impl.InspectionRunner.lambda$processInOrder$10(InspectionRunner.java:367)\n",
      "\tat com.intellij.openapi.application.impl.ApplicationImpl.tryRunReadAction(ApplicationImpl.java:1075)\n",
      "\tat com.intellij.codeInsight.daemon.impl.InspectionRunner.lambda$processInOrder$11(InspectionRunner.java:379)\n",
      "\tat com.intellij.openapi.application.impl.ReadMostlyRWLock.executeByImpatientReader(ReadMostlyRWLock.java:200)\n",
      "\tat com.intellij.openapi.application.impl.ApplicationImpl.executeByImpatientReader(ApplicationImpl.java:184)\n",
      "\tat com.intellij.codeInsight.daemon.impl.InspectionRunner.lambda$processInOrder$12(InspectionRunner.java:385)\n",
      "\tat com.intellij.util.AstLoadingFilter.forceAllowTreeLoading(AstLoadingFilter.java:158)\n",
      "\tat com.intellij.util.AstLoadingFilter.forceAllowTreeLoading(AstLoadingFilter.java:150)\n",
      "\tat com.intellij.codeInsight.daemon.impl.InspectionRunner.lambda$processInOrder$13(InspectionRunner.java:325)\n",
      "\tat com.intellij.util.AstLoadingFilter.disallowTreeLoading(AstLoadingFilter.java:129)\n",
      "\tat com.intellij.util.AstLoadingFilter.disallowTreeLoading(AstLoadingFilter.java:118)\n",
      "\tat com.intellij.codeInsight.daemon.impl.InspectionRunner.lambda$processInOrder$14(InspectionRunner.java:325)\n",
      "\tat com.intellij.concurrency.JobLauncherImpl$1MyProcessQueueTask.lambda$call$0(JobLauncherImpl.java:307)\n",
      "\tat com.intellij.openapi.progress.impl.CoreProgressManager.lambda$executeProcessUnderProgress$12(CoreProgressManager.java:610)\n",
      "\tat com.intellij.openapi.progress.impl.CoreProgressManager.registerIndicatorAndRun(CoreProgressManager.java:685)\n",
      "\tat com.intellij.openapi.progress.impl.CoreProgressManager.computeUnderProgress(CoreProgressManager.java:641)\n",
      "\tat com.intellij.openapi.progress.impl.CoreProgressManager.executeProcessUnderProgress(CoreProgressManager.java:609)\n",
      "\tat com.intellij.openapi.progress.impl.ProgressManagerImpl.executeProcessUnderProgress(ProgressManagerImpl.java:78)\n",
      "\tat com.intellij.concurrency.JobLauncherImpl$1MyProcessQueueTask.call(JobLauncherImpl.java:292)\n",
      "\tat com.intellij.concurrency.JobLauncherImpl.processQueue(JobLauncherImpl.java:359)\n",
      "\tat com.intellij.codeInsight.daemon.impl.InspectionRunner.processInOrder(InspectionRunner.java:324)\n",
      "\tat com.intellij.codeInsight.daemon.impl.InspectionRunner.visitElements(InspectionRunner.java:297)\n",
      "\tat com.intellij.codeInsight.daemon.impl.InspectionRunner.lambda$inspect$4(InspectionRunner.java:140)\n",
      "\tat com.intellij.codeInspection.InspectionEngine.withSession(InspectionEngine.java:246)\n",
      "\tat com.intellij.codeInsight.daemon.impl.InspectionRunner.inspect(InspectionRunner.java:126)\n",
      "\tat com.intellij.codeInsight.daemon.impl.InspectionRunner.lambda$inspectInjectedPsi$17(InspectionRunner.java:453)\n",
      "\tat com.intellij.concurrency.JobLauncherImpl.lambda$processImmediatelyIfTooFew$2(JobLauncherImpl.java:144)\n",
      "\tat com.intellij.openapi.progress.impl.CoreProgressManager.lambda$executeProcessUnderProgress$12(CoreProgressManager.java:610)\n",
      "\tat com.intellij.openapi.progress.impl.CoreProgressManager.registerIndicatorAndRun(CoreProgressManager.java:685)\n",
      "\tat com.intellij.openapi.progress.impl.CoreProgressManager.computeUnderProgress(CoreProgressManager.java:641)\n",
      "\tat com.intellij.openapi.progress.impl.CoreProgressManager.executeProcessUnderProgress(CoreProgressManager.java:609)\n",
      "\tat com.intellij.openapi.progress.impl.ProgressManagerImpl.executeProcessUnderProgress(ProgressManagerImpl.java:78)\n",
      "\tat com.intellij.concurrency.JobLauncherImpl.lambda$processImmediatelyIfTooFew$3(JobLauncherImpl.java:140)\n",
      "\tat com.intellij.openapi.application.impl.ApplicationImpl.runReadAction(ApplicationImpl.java:878)\n",
      "\tat com.intellij.concurrency.JobLauncherImpl.processImmediatelyIfTooFew(JobLauncherImpl.java:151)\n",
      "\tat com.intellij.concurrency.JobLauncherImpl.invokeConcurrentlyUnderProgress(JobLauncherImpl.java:47)\n",
      "\tat com.intellij.concurrency.JobLauncher.invokeConcurrentlyUnderProgress(JobLauncher.java:51)\n",
      "\tat com.intellij.codeInsight.daemon.impl.InspectionRunner.inspectInjectedPsi(InspectionRunner.java:434)\n",
      "\tat com.intellij.codeInsight.daemon.impl.InspectionRunner.visitElements(InspectionRunner.java:300)\n",
      "\tat com.intellij.codeInsight.daemon.impl.InspectionRunner.lambda$inspect$4(InspectionRunner.java:140)\n",
      "\tat com.intellij.codeInspection.InspectionEngine.withSession(InspectionEngine.java:246)\n",
      "\tat com.intellij.codeInsight.daemon.impl.InspectionRunner.inspect(InspectionRunner.java:126)\n",
      "\tat com.intellij.codeInsight.daemon.impl.LocalInspectionsPass.collectInformationWithProgress(LocalInspectionsPass.java:113)\n",
      "\tat com.intellij.codeInsight.daemon.impl.ProgressableTextEditorHighlightingPass.doCollectInformation(ProgressableTextEditorHighlightingPass.java:80)\n",
      "\tat com.intellij.codeHighlighting.TextEditorHighlightingPass.collectInformation(TextEditorHighlightingPass.java:55)\n",
      "\tat com.intellij.codeInsight.daemon.impl.PassExecutorService$ScheduledPass.lambda$doRun$1(PassExecutorService.java:406)\n",
      "\tat com.intellij.platform.diagnostic.telemetry.helpers.TraceKt.runWithSpanIgnoreThrows(trace.kt:76)\n",
      "\tat com.intellij.platform.diagnostic.telemetry.helpers.TraceUtil.runWithSpanThrows(TraceUtil.java:34)\n",
      "\tat com.intellij.codeInsight.daemon.impl.PassExecutorService$ScheduledPass.lambda$doRun$2(PassExecutorService.java:401)\n",
      "\tat com.intellij.openapi.application.impl.ApplicationImpl.tryRunReadAction(ApplicationImpl.java:1075)\n",
      "\tat com.intellij.codeInsight.daemon.impl.PassExecutorService$ScheduledPass.lambda$doRun$3(PassExecutorService.java:392)\n",
      "\tat com.intellij.openapi.progress.impl.CoreProgressManager.lambda$executeProcessUnderProgress$12(CoreProgressManager.java:610)\n",
      "\tat com.intellij.openapi.progress.impl.CoreProgressManager.registerIndicatorAndRun(CoreProgressManager.java:685)\n",
      "\tat com.intellij.openapi.progress.impl.CoreProgressManager.computeUnderProgress(CoreProgressManager.java:641)\n",
      "\tat com.intellij.openapi.progress.impl.CoreProgressManager.executeProcessUnderProgress(CoreProgressManager.java:609)\n",
      "\tat com.intellij.openapi.progress.impl.ProgressManagerImpl.executeProcessUnderProgress(ProgressManagerImpl.java:78)\n",
      "\tat com.intellij.codeInsight.daemon.impl.PassExecutorService$ScheduledPass.doRun(PassExecutorService.java:391)\n",
      "\tat com.intellij.codeInsight.daemon.impl.PassExecutorService$ScheduledPass.lambda$run$0(PassExecutorService.java:367)\n",
      "\tat com.intellij.openapi.application.impl.ReadMostlyRWLock.executeByImpatientReader(ReadMostlyRWLock.java:200)\n",
      "\tat com.intellij.openapi.application.impl.ApplicationImpl.executeByImpatientReader(ApplicationImpl.java:184)\n",
      "\tat com.intellij.codeInsight.daemon.impl.PassExecutorService$ScheduledPass.run(PassExecutorService.java:365)\n",
      "\tat com.intellij.concurrency.JobLauncherImpl$VoidForkJoinTask$1.exec(JobLauncherImpl.java:187)\n",
      "\tat java.base/java.util.concurrent.ForkJoinTask.doExec(ForkJoinTask.java:373)\n",
      "\tat java.base/java.util.concurrent.ForkJoinPool$WorkQueue.topLevelExec(ForkJoinPool.java:1182)\n",
      "\tat java.base/java.util.concurrent.ForkJoinPool.scan(ForkJoinPool.java:1655)\n",
      "\tat java.base/java.util.concurrent.ForkJoinPool.runWorker(ForkJoinPool.java:1622)\n",
      "\tat java.base/java.util.concurrent.ForkJoinWorkerThread.run(ForkJoinWorkerThread.java:165)\n",
      "2024-05-23 14:33:33,669 [1730977] SEVERE - #c.i.u.IdempotenceChecker - PhpStorm 2023.3.4  Build #PS-233.14475.35\n",
      "2024-05-23 14:33:33,670 [1730978] SEVERE - #c.i.u.IdempotenceChecker - JDK: 17.0.10; VM: OpenJDK 64-Bit Server VM; Vendor: JetBrains s.r.o.\n",
      "2024-05-23 14:33:33,670 [1730978] SEVERE - #c.i.u.IdempotenceChecker - OS: Linux\n",
      "2024-05-23 14:33:33,672 [1730980] SEVERE - #c.i.u.IdempotenceChecker - Last Action: EditorBackSpace\n",
      "2024-05-23 14:39:10,539 [2067847]   WARN - #c.j.p.PhpIndex - Invalid Signature '\\array<\\string,\\mixed>'\n",
      "2024-05-23 14:39:10,934 [2068242]   WARN - #c.i.s.ComponentManagerImpl - com.intellij.tailwind.TailwindElementDescriptorProvider initializer requests com.intellij.psi.css.impl.util.scheme.CssElementDescriptorFactory2 instance\n",
      "2024-05-23 14:48:30,587 [2627895]   WARN - #c.j.p.PhpIndex - Invalid Signature '\\array<\\string,\\mixed>'\n"
     ]
    }
   ],
   "source": [
    "! phpstorm ."
   ]
  },
  {
   "cell_type": "markdown",
   "metadata": {},
   "source": [
    "Stop the services:"
   ]
  },
  {
   "cell_type": "code",
   "execution_count": 25,
   "metadata": {},
   "outputs": [],
   "source": [
    "! killall php php8.3"
   ]
  },
  {
   "cell_type": "code",
   "execution_count": 26,
   "metadata": {},
   "outputs": [],
   "source": [
    "seleniumServer.kill()"
   ]
  },
  {
   "cell_type": "code",
   "execution_count": null,
   "metadata": {},
   "outputs": [],
   "source": [
    "%cd .."
   ]
  },
  {
   "cell_type": "markdown",
   "metadata": {},
   "source": [
    "Stop database:"
   ]
  },
  {
   "cell_type": "code",
   "execution_count": null,
   "metadata": {},
   "outputs": [],
   "source": [
    "! docker container stop mysql"
   ]
  }
 ],
 "metadata": {
  "kernelspec": {
   "display_name": "Python 3 (ipykernel)",
   "language": "python",
   "name": "python3"
  },
  "language_info": {
   "codemirror_mode": {
    "name": "ipython",
    "version": 3
   },
   "file_extension": ".py",
   "mimetype": "text/x-python",
   "name": "python",
   "nbconvert_exporter": "python",
   "pygments_lexer": "ipython3",
   "version": "3.11.5"
  }
 },
 "nbformat": 4,
 "nbformat_minor": 4
}
